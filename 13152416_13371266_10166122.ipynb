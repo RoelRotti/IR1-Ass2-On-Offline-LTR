{
 "cells": [
  {
   "cell_type": "markdown",
   "metadata": {
    "deletable": false,
    "editable": false,
    "nbgrader": {
     "cell_type": "markdown",
     "checksum": "549d14426afb2109edb71ef6e0223d5b",
     "grade": false,
     "grade_id": "cell-133a4667b3e842fd",
     "locked": true,
     "schema_version": 3,
     "solution": false,
     "task": false
    }
   },
   "source": [
    "# Homework 2: Learning to Rank <a class=\"anchor\" id=\"toptop\"></a>"
   ]
  },
  {
   "cell_type": "markdown",
   "metadata": {
    "deletable": false,
    "editable": false,
    "nbgrader": {
     "cell_type": "markdown",
     "checksum": "188d0bd6218df31e0a8795322a1b9912",
     "grade": false,
     "grade_id": "cell-9409dd22f820096c",
     "locked": true,
     "schema_version": 3,
     "solution": false,
     "task": false
    }
   },
   "source": [
    "**Submission instructions**:\n",
    "- Only the code `TODO: Implement this!` denotes that these sections are graded. Please do not delete the comment #YOUR CODE HERE.\n",
    "- Vectoriize your code instead of using for-loop when implementing Neural Nets.\n",
    "- The notebook you submit has to have the student ids, separated by underscores (E.g., `12341234_12341234_12341234.ipynb`). \n",
    "- This will be parsed by a regexp, so please double check your filename.\n",
    "- Only one member of each group has to submit the file to canvas.\n",
    "- Make sure to check that your notebook runs before submission. A quick way to do this is to restart the kernel and run all the cells.  \n",
    "- Please do not delete/add new cells. Removing cells can lead to grade deduction. Also do not change the number of parameters in the pre-defined functions.\n",
    "- Note, that you are not allowed to use Google Colab.\n",
    "\n",
    "**Learning Goals**:\n",
    "- Part 1: Offline LTR\n",
    "  - Learn how to implement pointwise, pairwise and listwise algorithms for learning to rank \n",
    "- Part 2: Online LTR\n",
    "  - Implement learning to rank algorithms from historical clicks and online evaluation of ranking algorithms.\n",
    "- Learn their weaknesses & strengths and when each method is suitable. \n",
    "\n",
    "\n",
    "\n",
    "**Files to submit along with the completed notebook**:\n",
    "- `pointwise_regression.json`\n",
    "- `pointwise_classification.json`\n",
    "- `pairwise.json`\n",
    "- `listwise.json`\n",
    "- `biased_model.json'\n",
    "- `unbiased_model.json'\n",
    "\n",
    "\n",
    "---\n",
    "**Recommended Reading**:\n",
    "- Part 1:\n",
    "  - Chris Burges, Tal Shaked, Erin Renshaw, Ari Lazier, Matt Deeds, Nicole Hamilton, and Greg Hullender. Learning to rank using gradient descent. InProceedings of the 22nd international conference on Machine learning, pages 89–96, 2005.\n",
    "  - Christopher J Burges, Robert Ragno, and Quoc V Le. Learning to rank with nonsmooth cost functions. In Advances inneural information processing systems, pages 193–200, 2007\n",
    "  - (Sections 1, 2 and 4) Christopher JC Burges. From ranknet to lambdarank to lambdamart: An overview. Learning, 11(23-581):81, 2010\n",
    "  \n",
    "\n",
    "Additional Resources: \n",
    "- This assignment requires knowledge of [PyTorch](https://pytorch.org/). If you are unfamiliar with PyTorch, you can go over [these series of tutorials](https://pytorch.org/tutorials/beginner/deep_learning_60min_blitz.html)\n",
    "\n",
    "In the previous assignment, you experimented with retrieval with different ranking functions and in addition, different document representations. \n",
    "\n",
    "This assignment deals directly with learning to rank (LTR). In offline LTR (Part 1), You will learn how to implement methods from the three approaches associated with learning to rank: pointwise, pairwise and listwise. \n",
    "\n",
    "In Part 2, you will learn about online LTR. Instead of using manually judged datasets, in online LTR, we learn from user interactions. You will learn how to simulate clicks using click models, how to learn unbiasedly from historical clicks and how to evaluate different rankers in an online environment using multileaving methods. \n",
    "\n",
    "**Note:**\n",
    "  - The dataset used in this assignment is +100Mb in size. You may need around 2Gb of RAM for running the whole notebook.\n"
   ]
  },
  {
   "cell_type": "markdown",
   "metadata": {
    "deletable": false,
    "editable": false,
    "nbgrader": {
     "cell_type": "markdown",
     "checksum": "2a595c150f39970fb6ad72e463fe8b44",
     "grade": false,
     "grade_id": "cell-09127508ac207429",
     "locked": true,
     "schema_version": 3,
     "solution": false,
     "task": false
    }
   },
   "source": [
    "# Table of Contents  <a class=\"anchor\" id=\"top\"></a>\n",
    "\n",
    "[Back to top](#toptop)\n",
    "\n",
    "\n",
    "Table of contents:\n",
    "\n",
    "\n",
    " - [Chapter 1: Offline LTR](#o_LTR) (345 points)\n",
    "     - [Section 1: Dataset and Utility](#dataU) \n",
    "     - [Section 2: Pointwtise LTR](#pointwiseLTR) (55 points)\n",
    "     - [Section 3: Pairwise LTR](#pairwiseLTR) (60 points)\n",
    "     - [Section 4: Pairwise Speed-up RankNet](#SpairwiseLTR) (70 points)\n",
    "     - [Section 5: Listwise LTR](#listwiseLTR) (80 points)\n",
    "     - [Section 6: Evaluation](#evaluation1) (70 points)\n",
    " - [Chapter 2: Online LTR](#onLTR) (180 points)\n",
    "     - [Section 1: Clicks Simulation](#clicks) (15 points)\n",
    "     - [Section 2: Counterfactual](#cLTR) (90 points)\n",
    "     - [Section 3: Online Evaluation](#on_eval) (75 points)"
   ]
  },
  {
   "cell_type": "code",
   "execution_count": 1,
   "metadata": {
    "deletable": false,
    "editable": false,
    "nbgrader": {
     "cell_type": "code",
     "checksum": "7be29958190a403c77402e97c21c5252",
     "grade": false,
     "grade_id": "cell-b08a635cb01047dd",
     "locked": true,
     "schema_version": 3,
     "solution": false,
     "task": false
    }
   },
   "outputs": [],
   "source": [
    "import os\n",
    "import json\n",
    "import itertools\n",
    "from argparse import Namespace\n",
    "from collections import OrderedDict\n",
    "from functools import partial\n",
    "\n",
    "\n",
    "import torch\n",
    "import numpy as np\n",
    "from torch import nn\n",
    "from torch.optim import Adam\n",
    "import torch.nn.functional as F\n",
    "from tqdm.notebook import tqdm, trange\n",
    "from torch.utils.data import Dataset, DataLoader\n",
    "\n",
    "\n",
    "import matplotlib.pyplot as plt\n",
    "from matplotlib.pyplot import cm\n",
    "\n",
    "import pandas as pd\n",
    "\n",
    "import dataset\n",
    "import evaluate\n"
   ]
  },
  {
   "cell_type": "markdown",
   "metadata": {
    "deletable": false,
    "editable": false,
    "nbgrader": {
     "cell_type": "markdown",
     "checksum": "8f126271fe03e0c82c752179a1293748",
     "grade": false,
     "grade_id": "cell-ef602d983baa9d90",
     "locked": true,
     "schema_version": 3,
     "solution": false,
     "task": false
    }
   },
   "source": [
    "# Chapter 1: Offline LTR <a class=\"anchor\" id=\"o_LTR\"></a>"
   ]
  },
  {
   "cell_type": "markdown",
   "metadata": {
    "deletable": false,
    "editable": false,
    "nbgrader": {
     "cell_type": "markdown",
     "checksum": "83d5c5098ff7e903a1d4475f78d028be",
     "grade": false,
     "grade_id": "cell-9978e0796016b961",
     "locked": true,
     "schema_version": 3,
     "solution": false,
     "task": false
    }
   },
   "source": [
    "A typical setup of learning to rank involves a feature vector constructed using a query-document pair, and a set of relevance judgements. You are given a set of triples (`query`, `document`, `relevance grade`); where relevance grade is an *ordinal* variable  with  5  grades,  for example: {`perfect`,`excellent`,`good`,`fair`,`bad`),  typically  labeled  by human annotators.  \n",
    "\n",
    "In this assignment, you are already given the feature vector for a given document and query pair. To access these vectors, see the following code cells (note: the dataset will be automatically downloaded & the first time the next cell runs, it will take a while!)"
   ]
  },
  {
   "cell_type": "markdown",
   "metadata": {
    "deletable": false,
    "editable": false,
    "nbgrader": {
     "cell_type": "markdown",
     "checksum": "62aa687b659ad249d6b6190d4b1f7d9e",
     "grade": false,
     "grade_id": "cell-d60b3e2cd8d41210",
     "locked": true,
     "schema_version": 3,
     "solution": false,
     "task": false
    }
   },
   "source": [
    "## Section 1: Data and Utility <a class=\"anchor\" id=\"dataU\"></a>\n",
    "\n",
    "[Back to TOC](#top)\n",
    "\n",
    "First let's get familiar with the dataset and some utility methods for our implementations.\n",
    "\n",
    "### Section 1.1 Dataset stats\n",
    "\n",
    "| Split Name | \\# queries | \\# docs | \\# features |\n",
    "| :- | :--: | :--: | :--: |\n",
    "| train | 2735 | 85227 | 501 |\n",
    "| validation | 403 | 12794 | 501 |\n",
    "| test | 949 | 29881 | 501 |\n"
   ]
  },
  {
   "cell_type": "code",
   "execution_count": 2,
   "metadata": {
    "deletable": false,
    "editable": false,
    "nbgrader": {
     "cell_type": "code",
     "checksum": "e11c95b755f0b252276313365c6ff290",
     "grade": false,
     "grade_id": "cell-d4779843ecb42649",
     "locked": true,
     "schema_version": 3,
     "solution": false,
     "task": false
    }
   },
   "outputs": [],
   "source": [
    "dataset.download_dataset()\n",
    "data = dataset.get_dataset()\n",
    "# there is only 1 fold for this dataset \n",
    "data = data.get_data_folds()[0]\n",
    "# read in the data\n",
    "data.read_data()"
   ]
  },
  {
   "cell_type": "code",
   "execution_count": 3,
   "metadata": {
    "deletable": false,
    "editable": false,
    "nbgrader": {
     "cell_type": "code",
     "checksum": "8008b140d6012489be5056ec30e90444",
     "grade": false,
     "grade_id": "cell-2a79356db5683374",
     "locked": true,
     "schema_version": 3,
     "solution": false,
     "task": false
    }
   },
   "outputs": [
    {
     "name": "stdout",
     "output_type": "stream",
     "text": [
      "Number of features: 501\n",
      "Split: train\n",
      "\tNumber of queries 2735\n",
      "\tNumber of docs 85227\n",
      "Split: validation\n",
      "\tNumber of queries 403\n",
      "\tNumber of docs 12794\n",
      "Split: test\n",
      "\tNumber of queries 949\n",
      "\tNumber of docs 29881\n"
     ]
    }
   ],
   "source": [
    "print(f\"Number of features: {data.num_features}\")\n",
    "# print some statistics\n",
    "for split in [\"train\", \"validation\", \"test\"]:\n",
    "    print(f\"Split: {split}\")\n",
    "    split = getattr(data, split)\n",
    "    print(f\"\\tNumber of queries {split.num_queries()}\")\n",
    "    print(f\"\\tNumber of docs {split.num_docs()}\")"
   ]
  },
  {
   "cell_type": "markdown",
   "metadata": {
    "deletable": false,
    "editable": false,
    "nbgrader": {
     "cell_type": "markdown",
     "checksum": "70b764af87765e64827eb896b0ad8643",
     "grade": false,
     "grade_id": "cell-5b034476f52f28bb",
     "locked": true,
     "schema_version": 3,
     "solution": false,
     "task": false
    }
   },
   "source": [
    "### Section 1.2 Utility classes/methods\n",
    "\n",
    "The following cells contain code that will be useful for the assigment. "
   ]
  },
  {
   "cell_type": "code",
   "execution_count": 4,
   "metadata": {
    "deletable": false,
    "editable": false,
    "nbgrader": {
     "cell_type": "code",
     "checksum": "cb52800727e7a5fe81c92706c34e6471",
     "grade": false,
     "grade_id": "cell-4ad2f0d8e4f66d37",
     "locked": true,
     "schema_version": 3,
     "solution": false,
     "task": false
    }
   },
   "outputs": [],
   "source": [
    "# these is a useful class to create torch DataLoaders, and can be used during training\n",
    "class LTRData(Dataset):\n",
    "    def __init__(self, data, split):\n",
    "        split = {\n",
    "            \"train\": data.train,\n",
    "            \"validation\": data.validation,\n",
    "            \"test\": data.test\n",
    "        }.get(split)\n",
    "        assert split is not None, \"Invalid split!\"\n",
    "        features, labels = split.feature_matrix, split.label_vector\n",
    "        self.features = torch.FloatTensor(features)\n",
    "        self.labels = torch.FloatTensor(labels)\n",
    "    \n",
    "    def __len__(self):\n",
    "        return self.features.size(0)\n",
    "\n",
    "    def __getitem__(self, i):\n",
    "        return self.features[i], self.labels[i]"
   ]
  },
  {
   "cell_type": "code",
   "execution_count": 5,
   "metadata": {
    "deletable": false,
    "editable": false,
    "nbgrader": {
     "cell_type": "code",
     "checksum": "61170cd9d5a02b3f9e23364bf7d46c95",
     "grade": false,
     "grade_id": "cell-6be5d30fd0264dc3",
     "locked": true,
     "schema_version": 3,
     "solution": false,
     "task": false
    }
   },
   "outputs": [
    {
     "name": "stdout",
     "output_type": "stream",
     "text": [
      "torch.Size([32, 501]) torch.Size([32])\n"
     ]
    }
   ],
   "source": [
    "## example \n",
    "train_dl = DataLoader(LTRData(data, \"train\"), batch_size=32, shuffle=True)\n",
    "# this is how you would use it to quickly iterate over the train/val/test sets \n",
    "# - (of course, without the break statement!)\n",
    "for (x, y) in train_dl:\n",
    "    print(x.size(), y.size())\n",
    "    break"
   ]
  },
  {
   "cell_type": "markdown",
   "metadata": {
    "deletable": false,
    "editable": false,
    "nbgrader": {
     "cell_type": "markdown",
     "checksum": "50bdb8c74b13357983e5f5f435b70115",
     "grade": false,
     "grade_id": "cell-a79c0f58db4af010",
     "locked": true,
     "schema_version": 3,
     "solution": false,
     "task": false
    }
   },
   "source": [
    "`evaluate_model` evaluates a model, on a given split."
   ]
  },
  {
   "cell_type": "code",
   "execution_count": 6,
   "metadata": {
    "deletable": false,
    "editable": false,
    "nbgrader": {
     "cell_type": "code",
     "checksum": "7ca1e81dd1f55111cda0a04093fd223b",
     "grade": false,
     "grade_id": "cell-b66759e20b89e0b5",
     "locked": true,
     "schema_version": 3,
     "solution": false,
     "task": false
    }
   },
   "outputs": [],
   "source": [
    "# this function evaluates a model, on a given split\n",
    "def evaluate_model(pred_fn, split, batch_size=256, print_results=False, q_level=False):\n",
    "    dl = DataLoader(LTRData(data, split), batch_size=batch_size)\n",
    "    all_scores = []\n",
    "    all_labels = []\n",
    "    for (x, y) in tqdm(dl, desc=f'Eval ({split})', leave=False):\n",
    "        all_labels.append(y.squeeze().numpy())\n",
    "        \n",
    "        with torch.no_grad():\n",
    "            output = pred_fn(x)\n",
    "            all_scores.append(output.squeeze().numpy())\n",
    "            \n",
    "    split = {\n",
    "            \"train\": data.train,\n",
    "            \"validation\": data.validation,\n",
    "            \"test\": data.test\n",
    "    }.get(split)   \n",
    "    results = evaluate.evaluate2(np.asarray(all_scores), np.asarray(all_labels), print_results=print_results, q_level=q_level)\n",
    "\n",
    "    return results\n"
   ]
  },
  {
   "cell_type": "code",
   "execution_count": 7,
   "metadata": {
    "deletable": false,
    "editable": false,
    "nbgrader": {
     "cell_type": "code",
     "checksum": "c605f95e2cd732774f1813a69bb8c3fc",
     "grade": false,
     "grade_id": "cell-66bc9b1a832d14d0",
     "locked": true,
     "schema_version": 3,
     "solution": false,
     "task": false
    }
   },
   "outputs": [
    {
     "data": {
      "application/vnd.jupyter.widget-view+json": {
       "model_id": "",
       "version_major": 2,
       "version_minor": 0
      },
      "text/plain": [
       "Eval (validation):   0%|          | 0/50 [00:00<?, ?it/s]"
      ]
     },
     "metadata": {},
     "output_type": "display_data"
    },
    {
     "name": "stdout",
     "output_type": "stream",
     "text": [
      "\"metric\": \"mean\" (\"standard deviation\")\n",
      "dcg: 79.4298 (18.75051)\n",
      "dcg@03: 3.1752 (3.61766)\n",
      "dcg@05: 4.5418 (4.21721)\n",
      "dcg@10: 7.0668 (5.48540)\n",
      "dcg@20: 11.6197 (6.56827)\n",
      "ndcg: 0.6401 (0.05064)\n",
      "ndcg@03: 0.1141 (0.13147)\n",
      "ndcg@05: 0.1230 (0.11160)\n",
      "ndcg@10: 0.1408 (0.10584)\n",
      "ndcg@20: 0.1746 (0.09186)\n",
      "precision@01: 0.0400 (0.19596)\n",
      "precision@03: 0.0733 (0.15333)\n",
      "precision@05: 0.0680 (0.11737)\n",
      "precision@10: 0.0640 (0.10726)\n",
      "precision@20: 0.0760 (0.08200)\n",
      "recall@01: 0.0014 (0.00682)\n",
      "recall@03: 0.0084 (0.01899)\n",
      "recall@05: 0.0154 (0.03021)\n",
      "recall@10: 0.0272 (0.04584)\n",
      "recall@20: 0.0677 (0.06715)\n",
      "relevant rank: 148.9653 (75.29369)\n",
      "relevant rank per query: 3518.5600 (1950.50997)\n"
     ]
    }
   ],
   "source": [
    "## example \n",
    "# function that scores a given feature vector e.g a network\n",
    "net = nn.Linear(501, 1)\n",
    "# the evaluate method accepts a function. more specifically, a callable (such as pytorch modules) \n",
    "def notwork(x):\n",
    "    return net(x)\n",
    "# evaluate the function\n",
    "_ = evaluate_model(notwork, \"validation\", print_results=True)"
   ]
  },
  {
   "cell_type": "markdown",
   "metadata": {
    "deletable": false,
    "editable": false,
    "nbgrader": {
     "cell_type": "markdown",
     "checksum": "f71c11c5be87af7e7109a463a1e24c6c",
     "grade": false,
     "grade_id": "cell-66ae15ed8cb736b5",
     "locked": true,
     "schema_version": 3,
     "solution": false,
     "task": false
    }
   },
   "source": [
    "The next cell is used to generate reproducible results:"
   ]
  },
  {
   "cell_type": "code",
   "execution_count": 8,
   "metadata": {
    "deletable": false,
    "editable": false,
    "nbgrader": {
     "cell_type": "code",
     "checksum": "d81a93ddde3c0ae3be42eba5a6ba025d",
     "grade": false,
     "grade_id": "cell-df3d4a5ebf6dece6",
     "locked": true,
     "schema_version": 3,
     "solution": false,
     "task": false
    }
   },
   "outputs": [],
   "source": [
    "# use to get reproducible results\n",
    "def seed(random_seed):\n",
    "    import random\n",
    "    torch.manual_seed(random_seed)\n",
    "    torch.backends.cudnn.deterministic = True\n",
    "    torch.backends.cudnn.benchmark = False\n",
    "    np.random.seed(random_seed)\n",
    "    random.seed(random_seed)\n",
    "    "
   ]
  },
  {
   "cell_type": "markdown",
   "metadata": {
    "deletable": false,
    "editable": false,
    "nbgrader": {
     "cell_type": "markdown",
     "checksum": "acd2f7fa9d402a7704d9f7f5fc1c2c89",
     "grade": false,
     "grade_id": "cell-a29483034efce729",
     "locked": true,
     "schema_version": 3,
     "solution": false,
     "task": false
    }
   },
   "source": [
    "## Section 2: Pointwise LTR (55 points) <a class=\"anchor\" id=\"pointwiseLTR\"></a>\n",
    "\n",
    "[Back to TOC](#top)\n",
    "\n",
    "Let $x \\in \\mathbb{R}^d$ be an input feature vector, containing features for a query-document pair. Let $f: \\mathbb{R}^d \\rightarrow \\mathbb{R} $ be a function that maps this feature vector to a number $f(x)$ - either a relevance score (regression) or label (classification). The data $\\{x \\}$ are treated as feature vectors and the relevance judgements are treated as the target which we want to predict. \n",
    "\n",
    "In this section, you will implement a simple Pointwise model using either a regression or classification loss, and use the train set to train this model to predict (or classify) the relevance score. \n"
   ]
  },
  {
   "cell_type": "markdown",
   "metadata": {
    "deletable": false,
    "editable": false,
    "nbgrader": {
     "cell_type": "markdown",
     "checksum": "a0f5f848b2a3509141e384bd4d101923",
     "grade": false,
     "grade_id": "cell-fdcb0b1bd78f6eda",
     "locked": true,
     "schema_version": 3,
     "solution": false,
     "task": false
    }
   },
   "source": [
    "### Section 2.1: Neural Model (5 points)\n",
    "\n",
    "In the following cell, you will implement a simple pointwise LTR model: \n",
    "- Use a neural network to learn a Pointwise model using both a regression and a classification loss, using the relevance grades as the label. Use the following parameters: \n",
    "  - Layers: $501 (input) \\rightarrow 256 \\rightarrow o$ where $o$ is either 5 for classification or 1 for regression, where each layer is a linear layer (`nn.Linear`) with a ReLu activation function (`nn.ReLU`) in between the layers. Use the default weight initialization scheme. (Hint: use `nn.Sequential` for a one-line forward function!)\n",
    "  - Note: Do not use a `nn.Softmax` function here - it will be taken care of later!\n",
    "  - This network will also be used by other methods i.e Pairwise \n"
   ]
  },
  {
   "cell_type": "code",
   "execution_count": 9,
   "metadata": {
    "deletable": false,
    "nbgrader": {
     "cell_type": "code",
     "checksum": "cbaeb826028de6d6d7429ee18c90f455",
     "grade": false,
     "grade_id": "cell-e6ebad1d98f78bf0",
     "locked": false,
     "schema_version": 3,
     "solution": true,
     "task": false
    }
   },
   "outputs": [],
   "source": [
    "# TODO: Implement this! (5 points)\n",
    "class NeuralModule(nn.Module):\n",
    "    def __init__(self, output_dim):\n",
    "        \"\"\"\n",
    "        Initializes the Pointwise neural network. \n",
    "        Input: output_dim: The dimension of the output layer. In this assignment, \n",
    "                it is either 1 (regression) or 5 (classification)\n",
    "        \"\"\"\n",
    "        # YOUR CODE HERE\n",
    "        super().__init__()\n",
    "        self.output_dim = output_dim\n",
    "        self.model = nn.Sequential(\n",
    "            nn.Linear(in_features=501, out_features=256),\n",
    "            nn.ReLU(),\n",
    "            nn.Linear(in_features=256, out_features=self.output_dim))\n",
    "    \n",
    "    def forward(self, x):\n",
    "        \"\"\"\n",
    "        Takes in an input feature vector (of size 501) and produces the (regression/classification) output \n",
    "        Input: x: a [N, 501] tensor\n",
    "        Output: a [N, output_dim] tensor\n",
    "        \"\"\"\n",
    "        # YOUR CODE HERE\n",
    "        return self.model(x)"
   ]
  },
  {
   "cell_type": "code",
   "execution_count": 10,
   "metadata": {
    "deletable": false,
    "editable": false,
    "nbgrader": {
     "cell_type": "code",
     "checksum": "eebff5ba2f470a05674e79514a6ba7bc",
     "grade": false,
     "grade_id": "cell-2326178594a8f44c",
     "locked": true,
     "schema_version": 3,
     "solution": false,
     "task": false
    }
   },
   "outputs": [],
   "source": [
    "point_nn_clf = NeuralModule(5)\n",
    "point_nn_reg = NeuralModule(1)"
   ]
  },
  {
   "cell_type": "code",
   "execution_count": 11,
   "metadata": {
    "deletable": false,
    "nbgrader": {
     "cell_type": "code",
     "checksum": "958fde08e4a9f04e633dc82bc85082dd",
     "grade": true,
     "grade_id": "cell-917f63ec6b575f59",
     "locked": false,
     "points": 3,
     "schema_version": 3,
     "solution": true,
     "task": false
    }
   },
   "outputs": [
    {
     "name": "stdout",
     "output_type": "stream",
     "text": [
      "NeuralModule(\n",
      "  (model): Sequential(\n",
      "    (0): Linear(in_features=501, out_features=256, bias=True)\n",
      "    (1): ReLU()\n",
      "    (2): Linear(in_features=256, out_features=5, bias=True)\n",
      "  )\n",
      ")\n",
      "NeuralModule(\n",
      "  (model): Sequential(\n",
      "    (0): Linear(in_features=501, out_features=256, bias=True)\n",
      "    (1): ReLU()\n",
      "    (2): Linear(in_features=256, out_features=1, bias=True)\n",
      "  )\n",
      ")\n"
     ]
    }
   ],
   "source": [
    "# YOUR CODE HERE\n",
    "print(point_nn_clf)\n",
    "print(point_nn_reg)"
   ]
  },
  {
   "cell_type": "code",
   "execution_count": 12,
   "metadata": {
    "deletable": false,
    "editable": false,
    "nbgrader": {
     "cell_type": "code",
     "checksum": "73bba77f886ccd469eb1b3c4370c830f",
     "grade": true,
     "grade_id": "cell-bd3bbcd6d22aa9b2",
     "locked": true,
     "points": 1,
     "schema_version": 3,
     "solution": false,
     "task": false
    }
   },
   "outputs": [],
   "source": [
    "# test the forward function\n",
    "n = 10\n",
    "inp = torch.rand(n, data.num_features)\n",
    "out = point_nn_clf(inp)\n",
    "### BEGIN HIDDEN TEST\n",
    "n = 20\n",
    "inp = torch.rand(n, data.num_features)\n",
    "out = point_nn_clf(inp)\n",
    "assert out.size(0) == n\n",
    "assert out.size(1) == 5\n",
    "### END HIDDEN TEST"
   ]
  },
  {
   "cell_type": "code",
   "execution_count": 13,
   "metadata": {
    "deletable": false,
    "editable": false,
    "nbgrader": {
     "cell_type": "code",
     "checksum": "5dfa481e9b325b14fdb26e39618d6169",
     "grade": true,
     "grade_id": "cell-1d92c755e64de89f",
     "locked": true,
     "points": 1,
     "schema_version": 3,
     "solution": false,
     "task": false
    }
   },
   "outputs": [],
   "source": [
    "# test the forward function\n",
    "n = 10\n",
    "inp = torch.rand(n, data.num_features)\n",
    "out = point_nn_reg(inp)\n",
    "### BEGIN HIDDEN TEST\n",
    "n = 20\n",
    "inp = torch.rand(n, data.num_features)\n",
    "out = point_nn_reg(inp)\n",
    "assert out.size(0) == n\n",
    "assert out.size(1) == 1\n",
    "### END HIDDEN TEST"
   ]
  },
  {
   "cell_type": "markdown",
   "metadata": {},
   "source": [
    "### Section 2.2: Loss Functions (5 points)\n",
    "Pointwise LTR algorithms use pointwise loss functions.\n",
    "Usually, the popular loss functions for pointwise LTR are:\n",
    " - Cross entropy loss for classification (3 points)\n",
    " - Regression loss (2 points)"
   ]
  },
  {
   "cell_type": "markdown",
   "metadata": {},
   "source": [
    "**Implementation (3 points):**\n",
    "Implement cross entropy loss and and then cross entropy prediction."
   ]
  },
  {
   "cell_type": "code",
   "execution_count": 14,
   "metadata": {
    "deletable": false,
    "nbgrader": {
     "cell_type": "code",
     "checksum": "a82ac14d42f8800a3fcf1fe5153dd1d3",
     "grade": false,
     "grade_id": "cell-d095f3c75bd11bc3",
     "locked": false,
     "schema_version": 3,
     "solution": true,
     "task": false
    }
   },
   "outputs": [],
   "source": [
    "# TODO: Implement this! (2 points)\n",
    "def clf_loss(output, target):\n",
    "    \"\"\"\n",
    "    Cross entropy loss - returns a single number. \n",
    "    output: (float) tensor, shape - [N, 5] \n",
    "    target: (float/long) tensor, shape - [N]. \n",
    "    \n",
    "    Hint: This function should also handle cases when target is either long/float types \n",
    "    \"\"\"\n",
    "    assert output.size(0) == target.size(0)\n",
    "    assert output.size(1) == 5\n",
    "    # YOUR CODE HERE\n",
    "    return F.cross_entropy(output, target.long()) \n"
   ]
  },
  {
   "cell_type": "code",
   "execution_count": 15,
   "metadata": {
    "deletable": false,
    "editable": false,
    "nbgrader": {
     "cell_type": "code",
     "checksum": "ec3127e3b21ab74c2771110450b46559",
     "grade": true,
     "grade_id": "cell-eb43efcf784d82d9",
     "locked": true,
     "points": 2,
     "schema_version": 3,
     "solution": false,
     "task": false
    }
   },
   "outputs": [
    {
     "name": "stdout",
     "output_type": "stream",
     "text": [
      "your results: [1.5910069942474365, 1.600582480430603, 1.6723783016204834, 1.8065980672836304, 1.6385562419891357]\n",
      "expected results: [1.5910069942474365, 1.600582480430603, 1.6723783016204834, 1.8065979480743408, 1.6385562419891357]\n"
     ]
    }
   ],
   "source": [
    "## Test clf_loss\n",
    "g = torch.manual_seed(42)\n",
    "tests = [torch.rand(5, 5, generator=g) for _ in range(5)]\n",
    "target = torch.LongTensor([1, 2, 3, 4, 0])\n",
    "\n",
    "results = [1.5910069942474365, \n",
    "           1.600582480430603, \n",
    "           1.6723783016204834, \n",
    "           1.8065979480743408, \n",
    "           1.6385562419891357]\n",
    "\n",
    "l1 = [clf_loss(output, target).item() for output in tests]\n",
    "print(f'your results: {l1}')\n",
    "print(f'expected results: {results}')\n"
   ]
  },
  {
   "cell_type": "code",
   "execution_count": 16,
   "metadata": {
    "deletable": false,
    "nbgrader": {
     "cell_type": "code",
     "checksum": "c1e1871d067d534d41585fe9d657244a",
     "grade": false,
     "grade_id": "cell-d01649f26022bf4c",
     "locked": false,
     "schema_version": 3,
     "solution": true,
     "task": false
    }
   },
   "outputs": [],
   "source": [
    "# TODO: Implement this! (1 points)\n",
    "def clf_pred(inp, net):\n",
    "    \"\"\"\n",
    "    The output of the classifier network produces a [Nx5] output corresponding to \n",
    "    the relevance labels (each row does *not* add to 1!)\n",
    "    This function should predict the most probable relevance from the relevance labels\n",
    "    \n",
    "    inp: The input [N, num_features]\n",
    "    net: the neural network, takes in [N, num_features] and outputs [N, 5]\n",
    "    \n",
    "    return: a [N, 1] (long) tensor, the relevance labels\n",
    "    \"\"\"\n",
    "    # YOUR CODE HERE\n",
    "    scores = net(inp)\n",
    "    max_score, indices = torch.max(scores, dim = 1) # rewritten into torch function instead of numpy\n",
    "    return indices"
   ]
  },
  {
   "cell_type": "code",
   "execution_count": 17,
   "metadata": {
    "deletable": false,
    "editable": false,
    "nbgrader": {
     "cell_type": "code",
     "checksum": "2e01b7aa6f5cebb78e604f9fa5d8da29",
     "grade": true,
     "grade_id": "cell-1f5c809567bf7f02",
     "locked": true,
     "points": 1,
     "schema_version": 3,
     "solution": false,
     "task": false
    }
   },
   "outputs": [
    {
     "name": "stdout",
     "output_type": "stream",
     "text": [
      "your results:[3 3 2 1 2 4 4 1 3 1]\n",
      "expected:[3 3 2 1 2 4 4 1 3 1]\n"
     ]
    }
   ],
   "source": [
    "g = torch.manual_seed(42)\n",
    "def clf_(inp):\n",
    "    return torch.rand(inp.size(0), 5, generator=g)\n",
    "\n",
    "inp = torch.rand(10, 5, generator=g)\n",
    "r = np.array([3, 3, 2, 1, 2, 4, 4, 1, 3, 1])\n",
    "p = clf_pred(inp, clf_).numpy()\n",
    "print(f'your results:{p}')\n",
    "print(f'expected:{r}')\n"
   ]
  },
  {
   "cell_type": "code",
   "execution_count": 18,
   "metadata": {
    "deletable": false,
    "editable": false,
    "nbgrader": {
     "cell_type": "code",
     "checksum": "6cf6191b552e4daea3f0fd4a91e15fd4",
     "grade": false,
     "grade_id": "cell-a4f04b744ef63756",
     "locked": true,
     "schema_version": 3,
     "solution": false,
     "task": false
    }
   },
   "outputs": [
    {
     "data": {
      "text/plain": [
       "array([3, 0, 0, 0, 0], dtype=int64)"
      ]
     },
     "execution_count": 18,
     "metadata": {},
     "output_type": "execute_result"
    }
   ],
   "source": [
    "# NOTE:\n",
    "# to construct a predictor for a particular network, see this example\n",
    "# (this will be required in the next cell)\n",
    "clf_pred_fn = partial(clf_pred, net=point_nn_clf)\n",
    "# the 'net' argument doesn't need to be provided anymore!\n",
    "clf_pred_fn(torch.rand(5, data.num_features)).numpy()\n"
   ]
  },
  {
   "cell_type": "markdown",
   "metadata": {
    "deletable": false,
    "editable": false,
    "nbgrader": {
     "cell_type": "markdown",
     "checksum": "e14973fb674e1e9adb553605e4e7b333",
     "grade": false,
     "grade_id": "cell-d683efd6ca306e81",
     "locked": true,
     "schema_version": 3,
     "solution": false,
     "task": false
    }
   },
   "source": [
    "**Implementation (2 points):**\n",
    "Implement regression loss."
   ]
  },
  {
   "cell_type": "code",
   "execution_count": 19,
   "metadata": {
    "deletable": false,
    "nbgrader": {
     "cell_type": "code",
     "checksum": "5f2b905ddb927ed981bb294825674993",
     "grade": false,
     "grade_id": "cell-c024ed97d7100038",
     "locked": false,
     "schema_version": 3,
     "solution": true,
     "task": false
    }
   },
   "outputs": [],
   "source": [
    "# TODO: Implement this! (2 points)\n",
    "def reg_loss(output, target):\n",
    "    \"\"\"\n",
    "    Regression loss - returns a single number. \n",
    "    Make sure to use the TODO loss!\n",
    "    output: (float) tensor, shape - [N, 1] \n",
    "    target: (float) tensor, shape - [N]. \n",
    "    \"\"\"\n",
    "    assert target.dim() == 1\n",
    "    assert output.size(0) == target.size(0)\n",
    "    assert output.size(1) == 1\n",
    "    \n",
    "    # YOUR CODE HERE\n",
    "    loss = nn.MSELoss() # Define loss function\n",
    "    output = output.squeeze() # 'squeeze' from [5,1] to [,5]\n",
    "    out = loss(output, target)\n",
    "    return out"
   ]
  },
  {
   "cell_type": "code",
   "execution_count": 20,
   "metadata": {
    "deletable": false,
    "editable": false,
    "nbgrader": {
     "cell_type": "code",
     "checksum": "064dde728a201a97f97ca266c8641a0e",
     "grade": true,
     "grade_id": "cell-24edd9d567aac9da",
     "locked": true,
     "points": 2,
     "schema_version": 3,
     "solution": false,
     "task": false
    }
   },
   "outputs": [
    {
     "name": "stdout",
     "output_type": "stream",
     "text": [
      "your results:[4.800000190734863, 3.0, 7.599999904632568, 5.400000095367432, 0.6000000238418579]\n",
      "expected:[4.800000190734863, 3.0, 7.599999904632568, 5.400000095367432, 0.6000000238418579]\n"
     ]
    }
   ],
   "source": [
    "## Test reg_loss\n",
    "g = torch.manual_seed(42)\n",
    "output = [torch.randint(low=0, high=5, size=(5, 1), generator=g).float() for _ in range(5)]\n",
    "target = torch.randint(low=0, high=5, size=(5,), generator=g).float()\n",
    "\n",
    "l = [reg_loss(o, target).item() for o in output]\n",
    "r = [4.800000190734863, \n",
    "     3.0, \n",
    "     7.599999904632568, \n",
    "     5.400000095367432, \n",
    "     0.6000000238418579]\n",
    "print(f'your results:{l}')\n",
    "print(f'expected:{r}')"
   ]
  },
  {
   "cell_type": "markdown",
   "metadata": {
    "deletable": false,
    "editable": false,
    "nbgrader": {
     "cell_type": "markdown",
     "checksum": "0eddb61dde344891ea7efc8fdd67752f",
     "grade": false,
     "grade_id": "cell-0977a61ec0cfa7ed",
     "locked": true,
     "schema_version": 3,
     "solution": false,
     "task": false
    }
   },
   "source": [
    "**Implementation (45 points):**\n",
    "Now implement a wrapper for training a pointwise LTR, that takes the model and the loss function as input and trains the model.\n",
    "\n",
    "**Rubric:**\n",
    " - Network is trained for specified epochs, and iterates over the entire dataset and (train) data is shuffled : 5 points\n",
    " - Evaluation on the validation set: 5 points\n",
    " - Training (e.g optimizer, zero_grad, backward): 10 points\n",
    " - Appropriate loss function & prediction function: 5 points\n",
    " - Both classification / regression models handled appropriately: 5 points\n",
    " - Performance as expected: 15 points"
   ]
  },
  {
   "cell_type": "code",
   "execution_count": 21,
   "metadata": {
    "deletable": false,
    "nbgrader": {
     "cell_type": "code",
     "checksum": "8dbfd2a686ecc7ab254a4e5e9b332119",
     "grade": false,
     "grade_id": "cell-9361533c572e304b",
     "locked": false,
     "schema_version": 3,
     "solution": true,
     "task": false
    }
   },
   "outputs": [],
   "source": [
    "# TODO: Implement this! (45 points)\n",
    "def train_pointwise(net, loss, params):\n",
    "    \"\"\"\n",
    "    This function should train a Pointwise network, \n",
    "    trained based on the loss (either \"clf\" / \"reg\"). \n",
    "    \n",
    "    The network is trained using the Adam optimizer\n",
    "        \n",
    "    \n",
    "    Note: Do not change the function definition! \n",
    "    \n",
    "    \n",
    "    Hints:\n",
    "    1. Use the LTRData class defined above\n",
    "    2. You will have to construct a partial function if loss=\"clf\" \n",
    "       before using it in evaluate_model() (see cells after the defn of clf_pred)\n",
    "    \n",
    "    net: the neural network to be trained\n",
    "    \n",
    "    loss: one of \"clf\" or \"reg\"\n",
    "    \n",
    "    params: params is an object which contains config used in training \n",
    "        (eg. params.epochs - the number of epochs to train). \n",
    "        For a full list of these params, see the next cell. \n",
    "    \n",
    "    Returns: a dictionary containing: \"metrics_val\" (a list of dictionaries) and \n",
    "             \"metrics_train\" (a list of dictionaries). \n",
    "             \n",
    "             \"metrics_val\" should contain metrics (the metrics in params.metrics) computed\n",
    "             after each epoch on the validation set (metrics_train is similar). \n",
    "             You can use this to debug your models.\n",
    "    \n",
    "    \"\"\"\n",
    "    \n",
    "    assert loss in {\"clf\", \"reg\"}\n",
    "    \n",
    "    val_metrics_epoch = []\n",
    "    train_metrics_epoch = []\n",
    "    \n",
    "    # YOUR CODE HERE\n",
    "    \n",
    "    #### RUBRIC ####\n",
    "    ###- 1) Network is trained for specified epochs, and iterates over the entire dataset and (train) data is shuffled : 5 points\n",
    "    ###- 2) Evaluation on the validation set: 5 points\n",
    "    ###- 3) Training (e.g optimizer, zero_grad, backward): 10 points\n",
    "    ###- 4) Appropriate loss function & prediction function: 5 points\n",
    "    ###- 5) Both classification / regression models handled appropriately: 5 points\n",
    "    ###- 6) Performance as expected: 15 points\n",
    "    \n",
    "    # Define parameters\n",
    "    epochs = params.epochs\n",
    "    learning_rate = params.lr\n",
    "    batch_size = params.batch_size\n",
    "    metrics = params.metrics\n",
    "    \n",
    "    # Specify prediction function\n",
    "    if loss == \"clf\":\n",
    "        loss_function = clf_loss\n",
    "        pred_fn = partial(clf_pred, net=net) # Create partial function since net is always specified\n",
    "    else:\n",
    "        loss_function = reg_loss\n",
    "        pred_fn = partial(point_nn_reg)\n",
    "    \n",
    "    # Define Adam optimizer\n",
    "    optimizer = Adam(net.parameters(), lr=learning_rate)\n",
    "    \n",
    "    # Create train & validation data:\n",
    "    train_dl = DataLoader(LTRData(data, \"train\"), batch_size=batch_size, shuffle=True)\n",
    "    validation_dl = DataLoader(LTRData(data, \"validation\"), shuffle=False)\n",
    "    \n",
    "    # Training loop\n",
    "    for epoch in range(epochs):\n",
    "        for (input_data, target) in train_dl: # X: [INPUT_FEATURES(501),BATCH_SIZE(32)], Y: [N_CLASSES(1 for reg, 5 for clf),BATCH_SIZE(32)]\n",
    "            ## TRAIN\n",
    "            net.zero_grad()\n",
    "            out = net(input_data)\n",
    "            loss = loss_function(out, target)\n",
    "            loss.backward()\n",
    "            optimizer.step()\n",
    "        \n",
    "        # EVALUATE\n",
    "        train_evaluation = evaluate_model(pred_fn, \"train\", batch_size=batch_size)  #def evaluate_model(pred_fn, split, batch_size=256, print_results=False, q_level=False):\n",
    "        validation_evaluation = evaluate_model(pred_fn, \"validation\")           \n",
    "\n",
    "        # Save the appropriate evaluations\n",
    "        for m in params.metrics:\n",
    "            train_metrics_epoch.append({m : train_evaluation[m]})\n",
    "            val_metrics_epoch.append({m : validation_evaluation[m]})             \n",
    "        print(\"train: \", train_metrics_epoch[epoch])\n",
    "        print(\"validation: \", val_metrics_epoch[epoch]) # Om metrics te kunnen checken (en of ze beter worden)\n",
    "    return {\n",
    "        \"metrics_val\": val_metrics_epoch,\n",
    "        \"metrics_train\": train_metrics_epoch\n",
    "    }"
   ]
  },
  {
   "cell_type": "code",
   "execution_count": 22,
   "metadata": {},
   "outputs": [],
   "source": [
    "# Change this to test your code!\n",
    "pointwise_test_params = Namespace(epochs=10, \n",
    "                    lr=1e-3,\n",
    "                    batch_size=256,\n",
    "                   metrics={\"ndcg\"})\n",
    "# uncomment to test your code\n",
    "## train a regression model\n",
    "# met_reg = train_pointwise(point_nn_reg, \"reg\", pointwise_test_params)\n",
    "## train a classification model\n",
    "# met_clf = train_pointwise(point_nn_clf, \"clf\", pointwise_test_params)"
   ]
  },
  {
   "cell_type": "markdown",
   "metadata": {
    "deletable": false,
    "editable": false,
    "nbgrader": {
     "cell_type": "markdown",
     "checksum": "738eaae8abdea0f21d248a0d677bc424",
     "grade": false,
     "grade_id": "cell-27ec0e0dd8a5d98d",
     "locked": true,
     "schema_version": 3,
     "solution": false,
     "task": false
    }
   },
   "source": [
    "The next cell is used to generate reproducible results which should be submitted with the assignment:"
   ]
  },
  {
   "cell_type": "code",
   "execution_count": 23,
   "metadata": {
    "deletable": false,
    "editable": false,
    "nbgrader": {
     "cell_type": "code",
     "checksum": "8a485ad0b3f14de6ee384fa6b42ab36f",
     "grade": false,
     "grade_id": "cell-11e8cbc591a51256",
     "locked": true,
     "schema_version": 3,
     "solution": false,
     "task": false
    }
   },
   "outputs": [],
   "source": [
    "\n",
    "    \n",
    "def create_results(net, train_fn, prediction_fn, results_file, *train_params):\n",
    "    \n",
    "    print(\"Training Model\")\n",
    "    metrics = train_fn(net, *train_params)\n",
    "    net.eval()\n",
    "    test_metrics, test_qq = evaluate_model(prediction_fn, \"test\", print_results=True, q_level=True)\n",
    "    \n",
    "    \n",
    "    test_q = {}\n",
    "    for m in {\"ndcg\", \"precision@05\", \"recall@05\"}:\n",
    "        test_q[m] = test_qq[m]\n",
    "    \n",
    "    with open(results_file, \"w\") as writer:\n",
    "        json.dump({\n",
    "            \"metrics\": metrics,\n",
    "            \"test_metrics\": test_metrics,\n",
    "            \"test_query_level_metrics\": test_q,\n",
    "        }, writer, indent=2)\n"
   ]
  },
  {
   "cell_type": "markdown",
   "metadata": {
    "deletable": false,
    "editable": false,
    "nbgrader": {
     "cell_type": "markdown",
     "checksum": "5926b542770cebafc36574bbff9b7d3e",
     "grade": false,
     "grade_id": "cell-16ed543545863f61",
     "locked": true,
     "schema_version": 3,
     "solution": false,
     "task": false
    }
   },
   "source": [
    "Now use the above functions to generate your `json` files for submission:"
   ]
  },
  {
   "cell_type": "code",
   "execution_count": 24,
   "metadata": {
    "deletable": false,
    "editable": false,
    "nbgrader": {
     "cell_type": "code",
     "checksum": "eef82389f05e60a59c9bddefc6570264",
     "grade": false,
     "grade_id": "cell-cb8314e4e579adac",
     "locked": true,
     "schema_version": 3,
     "solution": false,
     "task": false
    }
   },
   "outputs": [
    {
     "name": "stdout",
     "output_type": "stream",
     "text": [
      "Training Model\n"
     ]
    },
    {
     "data": {
      "application/vnd.jupyter.widget-view+json": {
       "model_id": "",
       "version_major": 2,
       "version_minor": 0
      },
      "text/plain": [
       "Eval (train):   0%|          | 0/333 [00:00<?, ?it/s]"
      ]
     },
     "metadata": {},
     "output_type": "display_data"
    },
    {
     "data": {
      "application/vnd.jupyter.widget-view+json": {
       "model_id": "",
       "version_major": 2,
       "version_minor": 0
      },
      "text/plain": [
       "Eval (validation):   0%|          | 0/50 [00:00<?, ?it/s]"
      ]
     },
     "metadata": {},
     "output_type": "display_data"
    },
    {
     "name": "stdout",
     "output_type": "stream",
     "text": [
      "train:  {'ndcg': (0.6614564369297841, 0.055332414005588776)}\n",
      "validation:  {'ndcg': (0.6545602690260357, 0.05658863918066655)}\n"
     ]
    },
    {
     "data": {
      "application/vnd.jupyter.widget-view+json": {
       "model_id": "",
       "version_major": 2,
       "version_minor": 0
      },
      "text/plain": [
       "Eval (train):   0%|          | 0/333 [00:00<?, ?it/s]"
      ]
     },
     "metadata": {},
     "output_type": "display_data"
    },
    {
     "data": {
      "application/vnd.jupyter.widget-view+json": {
       "model_id": "",
       "version_major": 2,
       "version_minor": 0
      },
      "text/plain": [
       "Eval (validation):   0%|          | 0/50 [00:00<?, ?it/s]"
      ]
     },
     "metadata": {},
     "output_type": "display_data"
    },
    {
     "name": "stdout",
     "output_type": "stream",
     "text": [
      "train:  {'recall@05': (0.02103628145157853, 0.03626619724667447)}\n",
      "validation:  {'recall@05': (0.01521428535985233, 0.02608819601022504)}\n"
     ]
    },
    {
     "data": {
      "application/vnd.jupyter.widget-view+json": {
       "model_id": "",
       "version_major": 2,
       "version_minor": 0
      },
      "text/plain": [
       "Eval (train):   0%|          | 0/333 [00:00<?, ?it/s]"
      ]
     },
     "metadata": {},
     "output_type": "display_data"
    },
    {
     "data": {
      "application/vnd.jupyter.widget-view+json": {
       "model_id": "",
       "version_major": 2,
       "version_minor": 0
      },
      "text/plain": [
       "Eval (validation):   0%|          | 0/50 [00:00<?, ?it/s]"
      ]
     },
     "metadata": {},
     "output_type": "display_data"
    },
    {
     "name": "stdout",
     "output_type": "stream",
     "text": [
      "train:  {'precision@05': (0.09069069069069069, 0.13624237743386694)}\n",
      "validation:  {'precision@05': (0.07200000000000001, 0.12496399481450647)}\n"
     ]
    },
    {
     "data": {
      "application/vnd.jupyter.widget-view+json": {
       "model_id": "",
       "version_major": 2,
       "version_minor": 0
      },
      "text/plain": [
       "Eval (train):   0%|          | 0/333 [00:00<?, ?it/s]"
      ]
     },
     "metadata": {},
     "output_type": "display_data"
    },
    {
     "data": {
      "application/vnd.jupyter.widget-view+json": {
       "model_id": "",
       "version_major": 2,
       "version_minor": 0
      },
      "text/plain": [
       "Eval (validation):   0%|          | 0/50 [00:00<?, ?it/s]"
      ]
     },
     "metadata": {},
     "output_type": "display_data"
    },
    {
     "name": "stdout",
     "output_type": "stream",
     "text": [
      "train:  {'ndcg': (0.6615267400236261, 0.05543910221759081)}\n",
      "validation:  {'ndcg': (0.6545507131732642, 0.05658662217903493)}\n"
     ]
    },
    {
     "data": {
      "application/vnd.jupyter.widget-view+json": {
       "model_id": "",
       "version_major": 2,
       "version_minor": 0
      },
      "text/plain": [
       "Eval (train):   0%|          | 0/333 [00:00<?, ?it/s]"
      ]
     },
     "metadata": {},
     "output_type": "display_data"
    },
    {
     "data": {
      "application/vnd.jupyter.widget-view+json": {
       "model_id": "",
       "version_major": 2,
       "version_minor": 0
      },
      "text/plain": [
       "Eval (validation):   0%|          | 0/50 [00:00<?, ?it/s]"
      ]
     },
     "metadata": {},
     "output_type": "display_data"
    },
    {
     "name": "stdout",
     "output_type": "stream",
     "text": [
      "train:  {'recall@05': (0.02113012529542237, 0.03633287582073346)}\n",
      "validation:  {'recall@05': (0.01521428535985233, 0.02608819601022504)}\n"
     ]
    },
    {
     "data": {
      "application/vnd.jupyter.widget-view+json": {
       "model_id": "",
       "version_major": 2,
       "version_minor": 0
      },
      "text/plain": [
       "Eval (train):   0%|          | 0/333 [00:00<?, ?it/s]"
      ]
     },
     "metadata": {},
     "output_type": "display_data"
    },
    {
     "data": {
      "application/vnd.jupyter.widget-view+json": {
       "model_id": "",
       "version_major": 2,
       "version_minor": 0
      },
      "text/plain": [
       "Eval (validation):   0%|          | 0/50 [00:00<?, ?it/s]"
      ]
     },
     "metadata": {},
     "output_type": "display_data"
    },
    {
     "name": "stdout",
     "output_type": "stream",
     "text": [
      "train:  {'precision@05': (0.0912912912912913, 0.13716066229613996)}\n",
      "validation:  {'precision@05': (0.07200000000000001, 0.12496399481450647)}\n"
     ]
    },
    {
     "data": {
      "application/vnd.jupyter.widget-view+json": {
       "model_id": "",
       "version_major": 2,
       "version_minor": 0
      },
      "text/plain": [
       "Eval (train):   0%|          | 0/333 [00:00<?, ?it/s]"
      ]
     },
     "metadata": {},
     "output_type": "display_data"
    },
    {
     "data": {
      "application/vnd.jupyter.widget-view+json": {
       "model_id": "",
       "version_major": 2,
       "version_minor": 0
      },
      "text/plain": [
       "Eval (validation):   0%|          | 0/50 [00:00<?, ?it/s]"
      ]
     },
     "metadata": {},
     "output_type": "display_data"
    },
    {
     "name": "stdout",
     "output_type": "stream",
     "text": [
      "train:  {'ndcg': (0.6614591577257681, 0.05532934568156739)}\n",
      "validation:  {'ndcg': (0.6545330798671637, 0.056606579099296256)}\n"
     ]
    },
    {
     "data": {
      "application/vnd.jupyter.widget-view+json": {
       "model_id": "",
       "version_major": 2,
       "version_minor": 0
      },
      "text/plain": [
       "Eval (train):   0%|          | 0/333 [00:00<?, ?it/s]"
      ]
     },
     "metadata": {},
     "output_type": "display_data"
    },
    {
     "data": {
      "application/vnd.jupyter.widget-view+json": {
       "model_id": "",
       "version_major": 2,
       "version_minor": 0
      },
      "text/plain": [
       "Eval (validation):   0%|          | 0/50 [00:00<?, ?it/s]"
      ]
     },
     "metadata": {},
     "output_type": "display_data"
    },
    {
     "name": "stdout",
     "output_type": "stream",
     "text": [
      "train:  {'recall@05': (0.02113012529542237, 0.03633287582073346)}\n",
      "validation:  {'recall@05': (0.01521428535985233, 0.02608819601022504)}\n"
     ]
    },
    {
     "data": {
      "application/vnd.jupyter.widget-view+json": {
       "model_id": "",
       "version_major": 2,
       "version_minor": 0
      },
      "text/plain": [
       "Eval (train):   0%|          | 0/333 [00:00<?, ?it/s]"
      ]
     },
     "metadata": {},
     "output_type": "display_data"
    },
    {
     "data": {
      "application/vnd.jupyter.widget-view+json": {
       "model_id": "",
       "version_major": 2,
       "version_minor": 0
      },
      "text/plain": [
       "Eval (validation):   0%|          | 0/50 [00:00<?, ?it/s]"
      ]
     },
     "metadata": {},
     "output_type": "display_data"
    },
    {
     "name": "stdout",
     "output_type": "stream",
     "text": [
      "train:  {'precision@05': (0.0912912912912913, 0.13716066229613996)}\n",
      "validation:  {'precision@05': (0.07200000000000001, 0.12496399481450647)}\n"
     ]
    },
    {
     "data": {
      "application/vnd.jupyter.widget-view+json": {
       "model_id": "",
       "version_major": 2,
       "version_minor": 0
      },
      "text/plain": [
       "Eval (train):   0%|          | 0/333 [00:00<?, ?it/s]"
      ]
     },
     "metadata": {},
     "output_type": "display_data"
    },
    {
     "data": {
      "application/vnd.jupyter.widget-view+json": {
       "model_id": "",
       "version_major": 2,
       "version_minor": 0
      },
      "text/plain": [
       "Eval (validation):   0%|          | 0/50 [00:00<?, ?it/s]"
      ]
     },
     "metadata": {},
     "output_type": "display_data"
    },
    {
     "name": "stdout",
     "output_type": "stream",
     "text": [
      "train:  {'ndcg': (0.6614754370101278, 0.05534033334525845)}\n",
      "validation:  {'ndcg': (0.6545275524691293, 0.05653429090219419)}\n"
     ]
    },
    {
     "data": {
      "application/vnd.jupyter.widget-view+json": {
       "model_id": "",
       "version_major": 2,
       "version_minor": 0
      },
      "text/plain": [
       "Eval (train):   0%|          | 0/333 [00:00<?, ?it/s]"
      ]
     },
     "metadata": {},
     "output_type": "display_data"
    },
    {
     "data": {
      "application/vnd.jupyter.widget-view+json": {
       "model_id": "",
       "version_major": 2,
       "version_minor": 0
      },
      "text/plain": [
       "Eval (validation):   0%|          | 0/50 [00:00<?, ?it/s]"
      ]
     },
     "metadata": {},
     "output_type": "display_data"
    },
    {
     "name": "stdout",
     "output_type": "stream",
     "text": [
      "train:  {'recall@05': (0.02103628145157853, 0.03626619724667447)}\n",
      "validation:  {'recall@05': (0.01521428535985233, 0.02608819601022504)}\n"
     ]
    },
    {
     "data": {
      "application/vnd.jupyter.widget-view+json": {
       "model_id": "",
       "version_major": 2,
       "version_minor": 0
      },
      "text/plain": [
       "Eval (test):   0%|          | 0/117 [00:00<?, ?it/s]"
      ]
     },
     "metadata": {},
     "output_type": "display_data"
    },
    {
     "name": "stdout",
     "output_type": "stream",
     "text": [
      "\"metric\": \"mean\" (\"standard deviation\")\n",
      "dcg: 112.5766 (24.81290)\n",
      "dcg@03: 21.2606 (8.23987)\n",
      "dcg@05: 27.2423 (9.92450)\n",
      "dcg@10: 35.5912 (12.61413)\n",
      "dcg@20: 46.4148 (14.53218)\n",
      "ndcg: 0.8689 (0.05263)\n",
      "ndcg@03: 0.7269 (0.23265)\n",
      "ndcg@05: 0.7073 (0.19482)\n",
      "ndcg@10: 0.6765 (0.16304)\n",
      "ndcg@20: 0.6742 (0.13471)\n",
      "precision@01: 0.8291 (0.37646)\n",
      "precision@03: 0.7407 (0.30851)\n",
      "precision@05: 0.6991 (0.27127)\n",
      "precision@10: 0.5479 (0.23374)\n",
      "precision@20: 0.4359 (0.19180)\n",
      "recall@01: 0.0376 (0.02706)\n",
      "recall@03: 0.0975 (0.05632)\n",
      "recall@05: 0.1537 (0.08223)\n",
      "recall@10: 0.2330 (0.11052)\n",
      "recall@20: 0.3571 (0.13681)\n",
      "relevant rank: 63.8064 (61.95384)\n",
      "relevant rank per query: 1642.0598 (987.08179)\n"
     ]
    }
   ],
   "source": [
    "seed(42)\n",
    "params_regr = Namespace(epochs=11, \n",
    "                    lr=1e-3,\n",
    "                    batch_size=256,\n",
    "                    metrics={\"ndcg\", \"precision@05\", \"recall@05\"})\n",
    "\n",
    "pointwise_regression_model = NeuralModule(1)\n",
    "create_results(pointwise_regression_model, \n",
    "               train_pointwise, \n",
    "               pointwise_regression_model,\n",
    "               \"./pointwise_regression.json\", \n",
    "               \"reg\", params_regr)\n",
    "# persist models\n",
    "torch.save(pointwise_regression_model.state_dict(), \"./pointwise_regr_wt\")"
   ]
  },
  {
   "cell_type": "code",
   "execution_count": 25,
   "metadata": {
    "deletable": false,
    "editable": false,
    "nbgrader": {
     "cell_type": "code",
     "checksum": "6ddac4c7614df42d2655e2304eba1c21",
     "grade": false,
     "grade_id": "cell-8b25e13a53ad95ac",
     "locked": true,
     "schema_version": 3,
     "solution": false,
     "task": false
    }
   },
   "outputs": [
    {
     "name": "stdout",
     "output_type": "stream",
     "text": [
      "Training Model\n"
     ]
    },
    {
     "data": {
      "application/vnd.jupyter.widget-view+json": {
       "model_id": "",
       "version_major": 2,
       "version_minor": 0
      },
      "text/plain": [
       "Eval (train):   0%|          | 0/333 [00:00<?, ?it/s]"
      ]
     },
     "metadata": {},
     "output_type": "display_data"
    },
    {
     "data": {
      "application/vnd.jupyter.widget-view+json": {
       "model_id": "",
       "version_major": 2,
       "version_minor": 0
      },
      "text/plain": [
       "Eval (validation):   0%|          | 0/50 [00:00<?, ?it/s]"
      ]
     },
     "metadata": {},
     "output_type": "display_data"
    },
    {
     "name": "stdout",
     "output_type": "stream",
     "text": [
      "train:  {'ndcg': (0.7624873922487797, 0.05274846174342661)}\n",
      "validation:  {'ndcg': (0.7557513726744998, 0.05992442549890839)}\n"
     ]
    },
    {
     "data": {
      "application/vnd.jupyter.widget-view+json": {
       "model_id": "",
       "version_major": 2,
       "version_minor": 0
      },
      "text/plain": [
       "Eval (train):   0%|          | 0/333 [00:00<?, ?it/s]"
      ]
     },
     "metadata": {},
     "output_type": "display_data"
    },
    {
     "data": {
      "application/vnd.jupyter.widget-view+json": {
       "model_id": "",
       "version_major": 2,
       "version_minor": 0
      },
      "text/plain": [
       "Eval (validation):   0%|          | 0/50 [00:00<?, ?it/s]"
      ]
     },
     "metadata": {},
     "output_type": "display_data"
    },
    {
     "name": "stdout",
     "output_type": "stream",
     "text": [
      "train:  {'recall@05': (0.05847982210944386, 0.05376654688346073)}\n",
      "validation:  {'recall@05': (0.056223258950947604, 0.060427814237403)}\n"
     ]
    },
    {
     "data": {
      "application/vnd.jupyter.widget-view+json": {
       "model_id": "",
       "version_major": 2,
       "version_minor": 0
      },
      "text/plain": [
       "Eval (train):   0%|          | 0/333 [00:00<?, ?it/s]"
      ]
     },
     "metadata": {},
     "output_type": "display_data"
    },
    {
     "data": {
      "application/vnd.jupyter.widget-view+json": {
       "model_id": "",
       "version_major": 2,
       "version_minor": 0
      },
      "text/plain": [
       "Eval (validation):   0%|          | 0/50 [00:00<?, ?it/s]"
      ]
     },
     "metadata": {},
     "output_type": "display_data"
    },
    {
     "name": "stdout",
     "output_type": "stream",
     "text": [
      "train:  {'precision@05': (0.25585585585585585, 0.21393693522975116)}\n",
      "validation:  {'precision@05': (0.256, 0.2264155471693585)}\n"
     ]
    },
    {
     "data": {
      "application/vnd.jupyter.widget-view+json": {
       "model_id": "",
       "version_major": 2,
       "version_minor": 0
      },
      "text/plain": [
       "Eval (train):   0%|          | 0/333 [00:00<?, ?it/s]"
      ]
     },
     "metadata": {},
     "output_type": "display_data"
    },
    {
     "data": {
      "application/vnd.jupyter.widget-view+json": {
       "model_id": "",
       "version_major": 2,
       "version_minor": 0
      },
      "text/plain": [
       "Eval (validation):   0%|          | 0/50 [00:00<?, ?it/s]"
      ]
     },
     "metadata": {},
     "output_type": "display_data"
    },
    {
     "name": "stdout",
     "output_type": "stream",
     "text": [
      "train:  {'ndcg': (0.8084528394712889, 0.05546934247366974)}\n",
      "validation:  {'ndcg': (0.8109918636799236, 0.05668426885748379)}\n"
     ]
    },
    {
     "data": {
      "application/vnd.jupyter.widget-view+json": {
       "model_id": "",
       "version_major": 2,
       "version_minor": 0
      },
      "text/plain": [
       "Eval (train):   0%|          | 0/333 [00:00<?, ?it/s]"
      ]
     },
     "metadata": {},
     "output_type": "display_data"
    },
    {
     "data": {
      "application/vnd.jupyter.widget-view+json": {
       "model_id": "",
       "version_major": 2,
       "version_minor": 0
      },
      "text/plain": [
       "Eval (validation):   0%|          | 0/50 [00:00<?, ?it/s]"
      ]
     },
     "metadata": {},
     "output_type": "display_data"
    },
    {
     "name": "stdout",
     "output_type": "stream",
     "text": [
      "train:  {'recall@05': (0.10304928672055412, 0.07224543610203589)}\n",
      "validation:  {'recall@05': (0.11749665756924904, 0.08101455797637759)}\n"
     ]
    },
    {
     "data": {
      "application/vnd.jupyter.widget-view+json": {
       "model_id": "",
       "version_major": 2,
       "version_minor": 0
      },
      "text/plain": [
       "Eval (train):   0%|          | 0/333 [00:00<?, ?it/s]"
      ]
     },
     "metadata": {},
     "output_type": "display_data"
    },
    {
     "data": {
      "application/vnd.jupyter.widget-view+json": {
       "model_id": "",
       "version_major": 2,
       "version_minor": 0
      },
      "text/plain": [
       "Eval (validation):   0%|          | 0/50 [00:00<?, ?it/s]"
      ]
     },
     "metadata": {},
     "output_type": "display_data"
    },
    {
     "name": "stdout",
     "output_type": "stream",
     "text": [
      "train:  {'precision@05': (0.442042042042042, 0.27406083919052)}\n",
      "validation:  {'precision@05': (0.4880000000000001, 0.26278508329050954)}\n"
     ]
    },
    {
     "data": {
      "application/vnd.jupyter.widget-view+json": {
       "model_id": "",
       "version_major": 2,
       "version_minor": 0
      },
      "text/plain": [
       "Eval (train):   0%|          | 0/333 [00:00<?, ?it/s]"
      ]
     },
     "metadata": {},
     "output_type": "display_data"
    },
    {
     "data": {
      "application/vnd.jupyter.widget-view+json": {
       "model_id": "",
       "version_major": 2,
       "version_minor": 0
      },
      "text/plain": [
       "Eval (validation):   0%|          | 0/50 [00:00<?, ?it/s]"
      ]
     },
     "metadata": {},
     "output_type": "display_data"
    },
    {
     "name": "stdout",
     "output_type": "stream",
     "text": [
      "train:  {'ndcg': (0.8186412827140938, 0.052122831840732346)}\n",
      "validation:  {'ndcg': (0.8170734369086184, 0.052105235194208205)}\n"
     ]
    },
    {
     "data": {
      "application/vnd.jupyter.widget-view+json": {
       "model_id": "",
       "version_major": 2,
       "version_minor": 0
      },
      "text/plain": [
       "Eval (train):   0%|          | 0/333 [00:00<?, ?it/s]"
      ]
     },
     "metadata": {},
     "output_type": "display_data"
    },
    {
     "data": {
      "application/vnd.jupyter.widget-view+json": {
       "model_id": "",
       "version_major": 2,
       "version_minor": 0
      },
      "text/plain": [
       "Eval (validation):   0%|          | 0/50 [00:00<?, ?it/s]"
      ]
     },
     "metadata": {},
     "output_type": "display_data"
    },
    {
     "name": "stdout",
     "output_type": "stream",
     "text": [
      "train:  {'recall@05': (0.1224249631389186, 0.08260339006253903)}\n",
      "validation:  {'recall@05': (0.13279367575350956, 0.08152688716347119)}\n"
     ]
    },
    {
     "data": {
      "application/vnd.jupyter.widget-view+json": {
       "model_id": "",
       "version_major": 2,
       "version_minor": 0
      },
      "text/plain": [
       "Eval (train):   0%|          | 0/333 [00:00<?, ?it/s]"
      ]
     },
     "metadata": {},
     "output_type": "display_data"
    },
    {
     "data": {
      "application/vnd.jupyter.widget-view+json": {
       "model_id": "",
       "version_major": 2,
       "version_minor": 0
      },
      "text/plain": [
       "Eval (validation):   0%|          | 0/50 [00:00<?, ?it/s]"
      ]
     },
     "metadata": {},
     "output_type": "display_data"
    },
    {
     "name": "stdout",
     "output_type": "stream",
     "text": [
      "train:  {'precision@05': (0.512912912912913, 0.2661846684186085)}\n",
      "validation:  {'precision@05': (0.556, 0.2538976171609336)}\n"
     ]
    },
    {
     "data": {
      "application/vnd.jupyter.widget-view+json": {
       "model_id": "",
       "version_major": 2,
       "version_minor": 0
      },
      "text/plain": [
       "Eval (train):   0%|          | 0/333 [00:00<?, ?it/s]"
      ]
     },
     "metadata": {},
     "output_type": "display_data"
    },
    {
     "data": {
      "application/vnd.jupyter.widget-view+json": {
       "model_id": "",
       "version_major": 2,
       "version_minor": 0
      },
      "text/plain": [
       "Eval (validation):   0%|          | 0/50 [00:00<?, ?it/s]"
      ]
     },
     "metadata": {},
     "output_type": "display_data"
    },
    {
     "name": "stdout",
     "output_type": "stream",
     "text": [
      "train:  {'ndcg': (0.8285611072412238, 0.05412835056597272)}\n",
      "validation:  {'ndcg': (0.8323167673052972, 0.04734805568801474)}\n"
     ]
    },
    {
     "data": {
      "application/vnd.jupyter.widget-view+json": {
       "model_id": "",
       "version_major": 2,
       "version_minor": 0
      },
      "text/plain": [
       "Eval (train):   0%|          | 0/333 [00:00<?, ?it/s]"
      ]
     },
     "metadata": {},
     "output_type": "display_data"
    },
    {
     "data": {
      "application/vnd.jupyter.widget-view+json": {
       "model_id": "",
       "version_major": 2,
       "version_minor": 0
      },
      "text/plain": [
       "Eval (validation):   0%|          | 0/50 [00:00<?, ?it/s]"
      ]
     },
     "metadata": {},
     "output_type": "display_data"
    },
    {
     "name": "stdout",
     "output_type": "stream",
     "text": [
      "train:  {'recall@05': (0.13241058064824957, 0.08168667244119485)}\n",
      "validation:  {'recall@05': (0.15236474777896822, 0.0854834262488526)}\n"
     ]
    },
    {
     "data": {
      "application/vnd.jupyter.widget-view+json": {
       "model_id": "",
       "version_major": 2,
       "version_minor": 0
      },
      "text/plain": [
       "Eval (train):   0%|          | 0/333 [00:00<?, ?it/s]"
      ]
     },
     "metadata": {},
     "output_type": "display_data"
    },
    {
     "data": {
      "application/vnd.jupyter.widget-view+json": {
       "model_id": "",
       "version_major": 2,
       "version_minor": 0
      },
      "text/plain": [
       "Eval (validation):   0%|          | 0/50 [00:00<?, ?it/s]"
      ]
     },
     "metadata": {},
     "output_type": "display_data"
    },
    {
     "name": "stdout",
     "output_type": "stream",
     "text": [
      "train:  {'precision@05': (0.554954954954955, 0.28030616211116455)}\n",
      "validation:  {'precision@05': (0.6240000000000001, 0.2549980392081477)}\n"
     ]
    },
    {
     "data": {
      "application/vnd.jupyter.widget-view+json": {
       "model_id": "",
       "version_major": 2,
       "version_minor": 0
      },
      "text/plain": [
       "Eval (train):   0%|          | 0/333 [00:00<?, ?it/s]"
      ]
     },
     "metadata": {},
     "output_type": "display_data"
    },
    {
     "data": {
      "application/vnd.jupyter.widget-view+json": {
       "model_id": "",
       "version_major": 2,
       "version_minor": 0
      },
      "text/plain": [
       "Eval (validation):   0%|          | 0/50 [00:00<?, ?it/s]"
      ]
     },
     "metadata": {},
     "output_type": "display_data"
    },
    {
     "name": "stdout",
     "output_type": "stream",
     "text": [
      "train:  {'ndcg': (0.8168890125478494, 0.05438745304712409)}\n",
      "validation:  {'ndcg': (0.815855272277838, 0.05514617829818925)}\n"
     ]
    },
    {
     "data": {
      "application/vnd.jupyter.widget-view+json": {
       "model_id": "",
       "version_major": 2,
       "version_minor": 0
      },
      "text/plain": [
       "Eval (test):   0%|          | 0/117 [00:00<?, ?it/s]"
      ]
     },
     "metadata": {},
     "output_type": "display_data"
    },
    {
     "name": "stdout",
     "output_type": "stream",
     "text": [
      "\"metric\": \"mean\" (\"standard deviation\")\n",
      "dcg: 108.2742 (24.74627)\n",
      "dcg@03: 18.9192 (8.54974)\n",
      "dcg@05: 24.2448 (10.33309)\n",
      "dcg@10: 32.0658 (13.06045)\n",
      "dcg@20: 40.7077 (14.66562)\n",
      "ndcg: 0.8347 (0.05906)\n",
      "ndcg@03: 0.6489 (0.25322)\n",
      "ndcg@05: 0.6278 (0.21437)\n",
      "ndcg@10: 0.6056 (0.17845)\n",
      "ndcg@20: 0.5886 (0.14592)\n",
      "precision@01: 0.7094 (0.45404)\n",
      "precision@03: 0.6781 (0.31102)\n",
      "precision@05: 0.6034 (0.28039)\n",
      "precision@10: 0.4940 (0.24012)\n",
      "precision@20: 0.3671 (0.17458)\n",
      "recall@01: 0.0335 (0.03130)\n",
      "recall@03: 0.0908 (0.05753)\n",
      "recall@05: 0.1312 (0.07671)\n",
      "recall@10: 0.2074 (0.11298)\n",
      "recall@20: 0.2993 (0.13022)\n",
      "relevant rank: 76.2444 (68.91821)\n",
      "relevant rank per query: 1962.1538 (1065.73445)\n"
     ]
    }
   ],
   "source": [
    "seed(42)\n",
    "params_clf = Namespace(epochs=13, \n",
    "                    lr=1e-3,\n",
    "                    batch_size=256,\n",
    "                    metrics={\"ndcg\", \"precision@05\", \"recall@05\"})\n",
    "\n",
    "pointwise_classification_model = NeuralModule(5)\n",
    "create_results(pointwise_classification_model,\n",
    "               train_pointwise,\n",
    "               partial(clf_pred, net=pointwise_classification_model),\n",
    "               \"./pointwise_classification.json\", \"clf\", params_clf)\n",
    "\n",
    "torch.save(pointwise_classification_model.state_dict(), \"./pointwise_clf_wt\")"
   ]
  },
  {
   "cell_type": "markdown",
   "metadata": {
    "deletable": false,
    "nbgrader": {
     "cell_type": "markdown",
     "checksum": "2ab42dfe7a4ffdce839f7f3990147830",
     "grade": true,
     "grade_id": "cell-ccb9cdbf2280bcff",
     "locked": false,
     "points": 30,
     "schema_version": 3,
     "solution": true,
     "task": false
    }
   },
   "source": [
    "YOUR ANSWER HERE"
   ]
  },
  {
   "cell_type": "code",
   "execution_count": 26,
   "metadata": {
    "deletable": false,
    "editable": false,
    "nbgrader": {
     "cell_type": "code",
     "checksum": "e8123d91619096913bd0809c27781857",
     "grade": true,
     "grade_id": "cell-780585f47729739e",
     "locked": true,
     "points": 15,
     "schema_version": 3,
     "solution": false,
     "task": false
    }
   },
   "outputs": [],
   "source": [
    "assert os.path.exists(\"./pointwise_regression.json\")\n",
    "assert os.path.exists(\"./pointwise_classification.json\")"
   ]
  },
  {
   "cell_type": "markdown",
   "metadata": {
    "deletable": false,
    "editable": false,
    "nbgrader": {
     "cell_type": "markdown",
     "checksum": "ed8a82c097df5799c15c9000475ad11e",
     "grade": false,
     "grade_id": "cell-e48bb26c37eacea9",
     "locked": true,
     "schema_version": 3,
     "solution": false,
     "task": false
    }
   },
   "source": [
    "## Section 3: Pairwise LTR (60 points) <a class=\"anchor\" id=\"pairwiseLTR\"></a>\n",
    "\n",
    "[Back to TOC](#top)\n",
    "\n",
    "In this section,  you will learn and implement RankNet, a  pairwise learning to rank algorithm.\n",
    "\n",
    "For a given query, consider two documents $D_i$ and $D_j$ with two different ground truth relevance  labels,  with  feature  vectors $x_i$ and $x_j$ respectively.   The  RankNet  model,  just  like  the pointwise model, uses $f$ to predict scores i.e $s_i=f(x_i)$ and $s_j=f(x_j)$, but uses a different loss during  training. $D_i \\triangleright D_j$ denotes  the  event  that $D_i$ should  be  ranked  higher  than $D_j$.   The  two outputs $s_i$ and $s_j$ are mapped to a learned probability that $D_i \\triangleright D_j$: \n",
    "\n",
    "\n",
    "$$        P_{ij} = \\frac{1}{1 + e^{-\\sigma(s_i - s_j)}} $$\n",
    "  \n",
    "where $\\sigma$ is a parameter that determines the shape of the sigmoid. The loss of the RankNet model is the cross entropy cost function:\n",
    "\n",
    "$$        C = - \\bar{P}_{ij} \\log P_{ij} - (1-\\bar{P}_{ij}) \\log (1 - P_{ij}) $$\n",
    "\n",
    "As the name suggests, in the pairwise approach to LTR, we optimize a loss $l$ over pairs of documents. Let $S_{ij} \\in \\{0, \\pm1 \\}$ be equal to $1$ if the relevance of document $i$ is greater than document $j$; $-1$ if document $j$ is more relevant than document $i$; and 0 if they have the same relevance. This gives us $\\bar{P}_{ij} = \\frac{1}{2} (1 + S_{ij})$ so that $\\bar{P}_{ij} = 1$ if $D_i \\triangleright D_j$; $\\bar{P}_{ij} = 0$ if $D_j \\triangleright D_i$; and finally $\\bar{P}_{ij} = \\frac{1}{2}$ if the relevance is identical. This gives us:\n",
    "\n",
    "$$        C = \\frac{1}{2}(1- S_{ij})\\sigma(s_i - s_j) + \\log(1+ e^{-\\sigma(s_i - s_j)}) $$\n",
    "\n",
    "Now, consider a single query for which $n$ documents have been returned. Let the output scores of the ranker be $s_j$ ; $j=\\{1, \\dots, n \\}$, the model parameters be $w_k \\in \\mathbb{R}^W$, and let the set of pairs of document indices used for training be $\\mathcal{P}$. Then, the total cost is $C_T = \\sum_{i,j \\in \\mathcal{P}} C(s_i; s_j)$. \n",
    "\n",
    "\n",
    "\n",
    "- Implement RankNet. You should construct training samples by creating all possible pairs of documents for a given query and optimizing the loss above. Use the following parameters:\n",
    "  - Layers: $501 (input) \\rightarrow 256 \\rightarrow 1$, where each layer is a linear layer (`nn.Linear`) with a ReLu activation function (`nn.ReLu`) in between the layers. Use the default weight initialization scheme. (Hint: use `nn.Sequential` for a one-line forward function!)"
   ]
  },
  {
   "cell_type": "markdown",
   "metadata": {
    "deletable": false,
    "editable": false,
    "nbgrader": {
     "cell_type": "markdown",
     "checksum": "e80a1fc2830a7bfe3be62c3bbf1df5b7",
     "grade": false,
     "grade_id": "cell-5359ecd282448c2a",
     "locked": true,
     "schema_version": 3,
     "solution": false,
     "task": false
    }
   },
   "source": [
    "For the pairwise loss, we need to have a structured **dataloader** which detects the documents associated with a specific query:"
   ]
  },
  {
   "cell_type": "code",
   "execution_count": 27,
   "metadata": {
    "deletable": false,
    "editable": false,
    "nbgrader": {
     "cell_type": "code",
     "checksum": "0e50a3b3ef0bf4fba2f792073ebb8443",
     "grade": false,
     "grade_id": "cell-0009b5254fc5f2ad",
     "locked": true,
     "schema_version": 3,
     "solution": false,
     "task": false
    }
   },
   "outputs": [
    {
     "name": "stdout",
     "output_type": "stream",
     "text": [
      "Query 1048 has 16 query-document pairs\n",
      "Shape of features for Query 1048: torch.Size([16, 501])\n"
     ]
    }
   ],
   "source": [
    "class QueryGroupedLTRData(Dataset):\n",
    "    def __init__(self, data, split):\n",
    "        self.split = {\n",
    "            \"train\": data.train,\n",
    "            \"validation\": data.validation,\n",
    "            \"test\": data.test\n",
    "        }.get(split)\n",
    "        assert self.split is not None, \"Invalid split!\"\n",
    "    \n",
    "    def __len__(self):\n",
    "        return self.split.num_queries()\n",
    "\n",
    "    def __getitem__(self, q_i):\n",
    "        feature = torch.FloatTensor(self.split.query_feat(q_i))\n",
    "        labels = torch.FloatTensor(self.split.query_labels(q_i))\n",
    "        return q_i, feature, labels\n",
    "\n",
    "# the return types are different from what pytorch expects, \n",
    "# so we will define a custom collate function which takes in\n",
    "# a batch and returns tensors (qids, features, labels) \n",
    "def qg_collate_fn(batch):\n",
    "    \n",
    "    qids = []\n",
    "    features = []\n",
    "    labels = []\n",
    "    \n",
    "    for (q, f, l) in batch:\n",
    "        qids.append(q)\n",
    "        features.append(f)\n",
    "        labels.append(l)\n",
    "    \n",
    "    return qids, features, labels\n",
    "    \n",
    "    \n",
    "## example - NOTE the collate_fn argument!\n",
    "train_dl = DataLoader(QueryGroupedLTRData(data, \"train\"), batch_size=1, shuffle=True, collate_fn=qg_collate_fn)\n",
    "# this is how you would use it to quickly iterate over the train/val/test sets \n",
    "for (qids, x, y) in train_dl:\n",
    "    # different from the previous data loader, qids, x and y aren't tensors, but lists!\n",
    "    for q_i, features_i, labels_i in zip(qids, x, y):\n",
    "        print(f\"Query {q_i} has {len(features_i)} query-document pairs\")\n",
    "        print(f\"Shape of features for Query {q_i}: {features_i.size()}\")\n",
    "        break\n",
    "    break\n",
    "        "
   ]
  },
  {
   "cell_type": "markdown",
   "metadata": {
    "deletable": false,
    "editable": false,
    "nbgrader": {
     "cell_type": "markdown",
     "checksum": "3c719c1aca6aa05893f903f78d75ba94",
     "grade": false,
     "grade_id": "cell-acdb1bfcd2ec582e",
     "locked": true,
     "schema_version": 3,
     "solution": false,
     "task": false
    }
   },
   "source": [
    "**Implementation (25 points):**\n",
    "First, implement the pairwaise loss, described above.\n",
    "\n",
    "**Rubric:**\n",
    " - Each ordering <i,j> combination is considered: 10 points\n",
    " - Proper application of the formula: 10 points\n",
    " - Mean loss: 5 points"
   ]
  },
  {
   "cell_type": "code",
   "execution_count": 28,
   "metadata": {
    "deletable": false,
    "nbgrader": {
     "cell_type": "code",
     "checksum": "3dcefb2b21b4524aa03cdf22382934ba",
     "grade": false,
     "grade_id": "cell-3a612aeb9e982639",
     "locked": false,
     "schema_version": 3,
     "solution": true,
     "task": false
    }
   },
   "outputs": [],
   "source": [
    "# TODO: Implement this! (25 points)\n",
    "def pairwise_loss(scores, labels):\n",
    "    \"\"\"\n",
    "    Compute and return the pairwise loss *for a single query*. To compute this, compute the loss for each \n",
    "    ordering in a query, and then return the mean. Use sigma=1.\n",
    "    \n",
    "    For a query, consider all possible ways of comparing 2 document-query pairs.\n",
    "    \n",
    "    Hint: See the next cell for an example which should make it clear how the inputs look like\n",
    "    \n",
    "    scores: tensor of size [N, 1] (the output of a neural network), where N = length of <query, document> pairs\n",
    "    labels: tensor of size [N], contains the relevance labels \n",
    "    \n",
    "    \"\"\"\n",
    "    # if there's only one rating\n",
    "    if labels.size(0) < 2:\n",
    "        return None\n",
    "    \n",
    "    # YOUR CODE HERE\n",
    "    SIGMA = 1\n",
    "\n",
    "    ## METHOD 1: 7 sec\n",
    "    combi_labels = torch.combinations(labels,2)\n",
    "    combi_scores = torch.combinations(scores,2)\n",
    "    s_ij = torch.sign(combi_labels[:,0]-combi_labels[:,1])\n",
    "    si_minus_sj = combi_scores[:,0]-combi_scores[:,1]\n",
    "    loss = 1/2*(1-s_ij)*SIGMA*si_minus_sj+torch.log(1+torch.exp(-1*SIGMA*si_minus_sj))\n",
    "    final_loss = torch.mean(loss)\n",
    "    \n",
    "#     print(s_ij)\n",
    "#     print(si_minus_sj)\n",
    "#     print(loss)\n",
    "#     print(final_loss, \"\\n\")\n",
    "    \n",
    "    ## METHOD 2: 6 sec\n",
    "    \n",
    "#     s_ij_matrix = torch.sign(labels[:,None] - labels[None,:])\n",
    "#     si_minus_sj_matrix = scores[:,None] - scores[None,:]\n",
    "#     loss_matrix = loss = 1/2*(1-s_ij_matrix)*SIGMA*si_minus_sj_matrix+torch.log(1+torch.exp(-1*SIGMA*si_minus_sj_matrix))\n",
    "#     final_loss = torch.mean(loss)\n",
    "    \n",
    "#     print(s_ij_matrix)\n",
    "#     print(si_minus_sj_matrix)\n",
    "#     print(loss_matrix)\n",
    "#     print(final_loss)\n",
    "    \n",
    "    return final_loss\n",
    "\n",
    "## Method 1:\n",
    "# tensor(0.6869)\n",
    "# tensor(0.2014)\n",
    "\n",
    "# Method 2:  Zeros on diagonal also used in computation of the mean!!\n",
    "# tensor(0.6882)\n",
    "# tensor(0.4473)"
   ]
  },
  {
   "cell_type": "code",
   "execution_count": 29,
   "metadata": {
    "deletable": false,
    "editable": false,
    "nbgrader": {
     "cell_type": "code",
     "checksum": "234a4669f7c7e14949006be676cabb90",
     "grade": false,
     "grade_id": "cell-01f6e909bc892bc8",
     "locked": true,
     "schema_version": 3,
     "solution": false,
     "task": false
    }
   },
   "outputs": [
    {
     "name": "stdout",
     "output_type": "stream",
     "text": [
      "tensor(0.6869)\n",
      "tensor(0.2014)\n"
     ]
    }
   ],
   "source": [
    "# Let's say we have 2 queries, the first one with 5 <document, query> pairs \n",
    "#    and the second one with 2 <document, query> pairs. The two variables can\n",
    "#    look something like this (note the shape, not the values):\n",
    "\n",
    "scores_1 = torch.FloatTensor([0.2, 2.3, 4.5, 0.2, 1.0])\n",
    "labels_1 = torch.FloatTensor([1, 2, 3, 0, 4])\n",
    "\n",
    "\n",
    "scores_2 = torch.FloatTensor([3.2, 1.7])\n",
    "labels_2 = torch.FloatTensor([3, 1])\n",
    "\n",
    "print(pairwise_loss(scores_1, labels_1))\n",
    "print(pairwise_loss(scores_2, labels_2))"
   ]
  },
  {
   "cell_type": "code",
   "execution_count": 30,
   "metadata": {
    "deletable": false,
    "nbgrader": {
     "cell_type": "code",
     "checksum": "618bd72120cdd1baae3f22733f124d6c",
     "grade": true,
     "grade_id": "cell-5f706c38e99721df",
     "locked": false,
     "points": 25,
     "schema_version": 3,
     "solution": true,
     "task": false
    }
   },
   "outputs": [],
   "source": [
    "# YOUR CODE HERE\n",
    "# raise NotImplementedError()"
   ]
  },
  {
   "cell_type": "markdown",
   "metadata": {
    "deletable": false,
    "editable": false,
    "nbgrader": {
     "cell_type": "markdown",
     "checksum": "b63a41669c7a768f5420d43968a53212",
     "grade": false,
     "grade_id": "cell-45f14561e4843320",
     "locked": true,
     "schema_version": 3,
     "solution": false,
     "task": false
    }
   },
   "source": [
    "**Implementation (35 points):**\n",
    "Now implement the wrapper for the pairwise LTR.\n",
    "\n",
    "**Rubric:**\n",
    " - Network is trained for specified epochs, and iterates over the entire dataset\n",
    " - and (train) data is shuffled : 10 points\n",
    " - Loss calculation: 10 points\n",
    " - Evaluation on the validation set: 5 points\n",
    " - Training (e.g optimizer, zero_grad, backward): 10 points"
   ]
  },
  {
   "cell_type": "code",
   "execution_count": 31,
   "metadata": {
    "deletable": false,
    "nbgrader": {
     "cell_type": "code",
     "checksum": "31ad65b3cbd923af54ff56f804bbc93c",
     "grade": false,
     "grade_id": "cell-a85c38ca94031203",
     "locked": false,
     "schema_version": 3,
     "solution": true,
     "task": false
    }
   },
   "outputs": [
    {
     "data": {
      "application/vnd.jupyter.widget-view+json": {
       "model_id": "8f624e7a98494fa287166a25c97a796a",
       "version_major": 2,
       "version_minor": 0
      },
      "text/plain": [
       "  0%|          | 0/2735 [00:00<?, ?it/s]"
      ]
     },
     "metadata": {},
     "output_type": "display_data"
    },
    {
     "data": {
      "application/vnd.jupyter.widget-view+json": {
       "model_id": "",
       "version_major": 2,
       "version_minor": 0
      },
      "text/plain": [
       "Eval (train):   0%|          | 0/333 [00:00<?, ?it/s]"
      ]
     },
     "metadata": {},
     "output_type": "display_data"
    },
    {
     "name": "stdout",
     "output_type": "stream",
     "text": [
      "\"metric\": \"mean\" (\"standard deviation\")\n",
      "dcg: 104.9349 (24.85207)\n",
      "dcg@03: 18.4031 (8.41358)\n",
      "dcg@05: 23.6857 (9.78965)\n",
      "dcg@10: 31.4318 (11.60266)\n",
      "dcg@20: 40.9670 (13.28759)\n",
      "ndcg: 0.8460 (0.05379)\n",
      "ndcg@03: 0.6452 (0.24527)\n",
      "ndcg@05: 0.6290 (0.19867)\n",
      "ndcg@10: 0.6121 (0.15836)\n",
      "ndcg@20: 0.6122 (0.12743)\n",
      "precision@01: 0.7477 (0.43431)\n",
      "precision@03: 0.6517 (0.31550)\n",
      "precision@05: 0.5910 (0.27385)\n",
      "precision@10: 0.4757 (0.21833)\n",
      "precision@20: 0.3704 (0.16798)\n",
      "recall@01: 0.0384 (0.03599)\n",
      "recall@03: 0.0975 (0.06793)\n",
      "recall@05: 0.1449 (0.09178)\n",
      "recall@10: 0.2242 (0.11766)\n",
      "recall@20: 0.3383 (0.14611)\n",
      "relevant rank: 63.8910 (59.48893)\n",
      "relevant rank per query: 1517.8438 (940.28430)\n"
     ]
    },
    {
     "data": {
      "application/vnd.jupyter.widget-view+json": {
       "model_id": "",
       "version_major": 2,
       "version_minor": 0
      },
      "text/plain": [
       "Eval (validation):   0%|          | 0/50 [00:00<?, ?it/s]"
      ]
     },
     "metadata": {},
     "output_type": "display_data"
    },
    {
     "name": "stdout",
     "output_type": "stream",
     "text": [
      "\"metric\": \"mean\" (\"standard deviation\")\n",
      "dcg: 105.8418 (22.91308)\n",
      "dcg@03: 20.0139 (8.39044)\n",
      "dcg@05: 24.8522 (9.04277)\n",
      "dcg@10: 33.1498 (10.20139)\n",
      "dcg@20: 43.0925 (11.50583)\n",
      "ndcg: 0.8540 (0.05093)\n",
      "ndcg@03: 0.6874 (0.26135)\n",
      "ndcg@05: 0.6525 (0.20766)\n",
      "ndcg@10: 0.6404 (0.14934)\n",
      "ndcg@20: 0.6397 (0.12461)\n",
      "precision@01: 0.8000 (0.40000)\n",
      "precision@03: 0.6933 (0.29695)\n",
      "precision@05: 0.6000 (0.24331)\n",
      "precision@10: 0.5100 (0.18358)\n",
      "precision@20: 0.4000 (0.14526)\n",
      "recall@01: 0.0417 (0.02968)\n",
      "recall@03: 0.1053 (0.06740)\n",
      "recall@05: 0.1485 (0.08381)\n",
      "recall@10: 0.2480 (0.12338)\n",
      "recall@20: 0.3680 (0.13159)\n",
      "relevant rank: 62.4005 (59.95389)\n",
      "relevant rank per query: 1473.9000 (922.91068)\n",
      "train:  {'ndcg': (0.8460239106266139, 0.05379410624816659)}\n",
      "validation:  {'ndcg': (0.8539669405515684, 0.050928597241417545)}\n"
     ]
    },
    {
     "data": {
      "application/vnd.jupyter.widget-view+json": {
       "model_id": "c671d322d31d4cdea0904e7c05bfa159",
       "version_major": 2,
       "version_minor": 0
      },
      "text/plain": [
       "  0%|          | 0/2735 [00:00<?, ?it/s]"
      ]
     },
     "metadata": {},
     "output_type": "display_data"
    },
    {
     "data": {
      "application/vnd.jupyter.widget-view+json": {
       "model_id": "",
       "version_major": 2,
       "version_minor": 0
      },
      "text/plain": [
       "Eval (train):   0%|          | 0/333 [00:00<?, ?it/s]"
      ]
     },
     "metadata": {},
     "output_type": "display_data"
    },
    {
     "name": "stdout",
     "output_type": "stream",
     "text": [
      "\"metric\": \"mean\" (\"standard deviation\")\n",
      "dcg: 105.7762 (25.00364)\n",
      "dcg@03: 19.2124 (8.06899)\n",
      "dcg@05: 24.5076 (9.67837)\n",
      "dcg@10: 32.2435 (11.67117)\n",
      "dcg@20: 41.9290 (13.46927)\n",
      "ndcg: 0.8527 (0.05204)\n",
      "ndcg@03: 0.6703 (0.22908)\n",
      "ndcg@05: 0.6489 (0.19293)\n",
      "ndcg@10: 0.6279 (0.15684)\n",
      "ndcg@20: 0.6263 (0.12575)\n",
      "precision@01: 0.7898 (0.40746)\n",
      "precision@03: 0.6877 (0.30766)\n",
      "precision@05: 0.6114 (0.27507)\n",
      "precision@10: 0.4832 (0.22183)\n",
      "precision@20: 0.3778 (0.16988)\n",
      "recall@01: 0.0404 (0.03451)\n",
      "recall@03: 0.1021 (0.06870)\n",
      "recall@05: 0.1470 (0.08579)\n",
      "recall@10: 0.2263 (0.11744)\n",
      "recall@20: 0.3455 (0.14676)\n",
      "relevant rank: 62.8802 (59.01671)\n",
      "relevant rank per query: 1493.8288 (937.32148)\n"
     ]
    },
    {
     "data": {
      "application/vnd.jupyter.widget-view+json": {
       "model_id": "",
       "version_major": 2,
       "version_minor": 0
      },
      "text/plain": [
       "Eval (validation):   0%|          | 0/50 [00:00<?, ?it/s]"
      ]
     },
     "metadata": {},
     "output_type": "display_data"
    },
    {
     "name": "stdout",
     "output_type": "stream",
     "text": [
      "\"metric\": \"mean\" (\"standard deviation\")\n",
      "dcg: 106.7373 (23.59197)\n",
      "dcg@03: 20.6953 (8.31996)\n",
      "dcg@05: 25.3450 (8.73476)\n",
      "dcg@10: 33.8456 (10.23583)\n",
      "dcg@20: 44.6467 (12.16792)\n",
      "ndcg: 0.8605 (0.05186)\n",
      "ndcg@03: 0.7100 (0.25375)\n",
      "ndcg@05: 0.6672 (0.19300)\n",
      "ndcg@10: 0.6532 (0.14319)\n",
      "ndcg@20: 0.6606 (0.12050)\n",
      "precision@01: 0.7800 (0.41425)\n",
      "precision@03: 0.7467 (0.27936)\n",
      "precision@05: 0.6280 (0.22631)\n",
      "precision@10: 0.5260 (0.18954)\n",
      "precision@20: 0.4190 (0.15745)\n",
      "recall@01: 0.0405 (0.03018)\n",
      "recall@03: 0.1130 (0.06760)\n",
      "recall@05: 0.1591 (0.09018)\n",
      "recall@10: 0.2506 (0.11835)\n",
      "recall@20: 0.3829 (0.13559)\n",
      "relevant rank: 60.8467 (60.08705)\n",
      "relevant rank per query: 1437.2000 (924.00807)\n",
      "train:  {'recall@05': (0.14486453845741068, 0.09178183962850467)}\n",
      "validation:  {'recall@05': (0.14845158122870034, 0.08381367177639702)}\n"
     ]
    },
    {
     "data": {
      "application/vnd.jupyter.widget-view+json": {
       "model_id": "47c93c3160fc4735b38d956baec58977",
       "version_major": 2,
       "version_minor": 0
      },
      "text/plain": [
       "  0%|          | 0/2735 [00:00<?, ?it/s]"
      ]
     },
     "metadata": {},
     "output_type": "display_data"
    },
    {
     "data": {
      "application/vnd.jupyter.widget-view+json": {
       "model_id": "",
       "version_major": 2,
       "version_minor": 0
      },
      "text/plain": [
       "Eval (train):   0%|          | 0/333 [00:00<?, ?it/s]"
      ]
     },
     "metadata": {},
     "output_type": "display_data"
    },
    {
     "name": "stdout",
     "output_type": "stream",
     "text": [
      "\"metric\": \"mean\" (\"standard deviation\")\n",
      "dcg: 105.2340 (24.82329)\n",
      "dcg@03: 18.5216 (8.09226)\n",
      "dcg@05: 23.3858 (9.26012)\n",
      "dcg@10: 31.3346 (11.17462)\n",
      "dcg@20: 41.2843 (12.95052)\n",
      "ndcg: 0.8485 (0.05137)\n",
      "ndcg@03: 0.6478 (0.23268)\n",
      "ndcg@05: 0.6213 (0.18865)\n",
      "ndcg@10: 0.6120 (0.15283)\n",
      "ndcg@20: 0.6179 (0.12274)\n",
      "precision@01: 0.7838 (0.41166)\n",
      "precision@03: 0.6637 (0.31479)\n",
      "precision@05: 0.5880 (0.27570)\n",
      "precision@10: 0.4757 (0.21888)\n",
      "precision@20: 0.3761 (0.16565)\n",
      "recall@01: 0.0399 (0.03561)\n",
      "recall@03: 0.0986 (0.06837)\n",
      "recall@05: 0.1443 (0.09262)\n",
      "recall@10: 0.2260 (0.11904)\n",
      "recall@20: 0.3449 (0.14559)\n",
      "relevant rank: 62.8301 (59.24329)\n",
      "relevant rank per query: 1492.6396 (940.76384)\n"
     ]
    },
    {
     "data": {
      "application/vnd.jupyter.widget-view+json": {
       "model_id": "",
       "version_major": 2,
       "version_minor": 0
      },
      "text/plain": [
       "Eval (validation):   0%|          | 0/50 [00:00<?, ?it/s]"
      ]
     },
     "metadata": {},
     "output_type": "display_data"
    },
    {
     "name": "stdout",
     "output_type": "stream",
     "text": [
      "\"metric\": \"mean\" (\"standard deviation\")\n",
      "dcg: 105.3477 (22.81718)\n",
      "dcg@03: 18.3177 (7.37365)\n",
      "dcg@05: 23.7491 (7.70914)\n",
      "dcg@10: 31.9283 (9.27651)\n",
      "dcg@20: 42.8886 (10.80309)\n",
      "ndcg: 0.8504 (0.04634)\n",
      "ndcg@03: 0.6412 (0.23335)\n",
      "ndcg@05: 0.6326 (0.17570)\n",
      "ndcg@10: 0.6211 (0.13437)\n",
      "ndcg@20: 0.6383 (0.10650)\n",
      "precision@01: 0.7400 (0.43863)\n",
      "precision@03: 0.6533 (0.27455)\n",
      "precision@05: 0.6120 (0.21320)\n",
      "precision@10: 0.5000 (0.18221)\n",
      "precision@20: 0.4090 (0.15023)\n",
      "recall@01: 0.0367 (0.02940)\n",
      "recall@03: 0.0989 (0.05304)\n",
      "recall@05: 0.1543 (0.08033)\n",
      "recall@10: 0.2447 (0.12312)\n",
      "recall@20: 0.3775 (0.14015)\n",
      "relevant rank: 61.8848 (60.60547)\n",
      "relevant rank per query: 1461.7200 (954.81039)\n",
      "train:  {'precision@05': (0.5909909909909911, 0.2738501649292011)}\n",
      "validation:  {'precision@05': (0.6000000000000001, 0.2433105012119288)}\n"
     ]
    },
    {
     "data": {
      "application/vnd.jupyter.widget-view+json": {
       "model_id": "47b18cf146064a04848887709811f7e9",
       "version_major": 2,
       "version_minor": 0
      },
      "text/plain": [
       "  0%|          | 0/2735 [00:00<?, ?it/s]"
      ]
     },
     "metadata": {},
     "output_type": "display_data"
    },
    {
     "data": {
      "application/vnd.jupyter.widget-view+json": {
       "model_id": "",
       "version_major": 2,
       "version_minor": 0
      },
      "text/plain": [
       "Eval (train):   0%|          | 0/333 [00:00<?, ?it/s]"
      ]
     },
     "metadata": {},
     "output_type": "display_data"
    },
    {
     "name": "stdout",
     "output_type": "stream",
     "text": [
      "\"metric\": \"mean\" (\"standard deviation\")\n",
      "dcg: 105.9972 (25.15112)\n",
      "dcg@03: 19.4141 (8.38279)\n",
      "dcg@05: 24.6214 (10.00920)\n",
      "dcg@10: 32.6007 (12.01849)\n",
      "dcg@20: 42.2996 (13.77236)\n",
      "ndcg: 0.8544 (0.05271)\n",
      "ndcg@03: 0.6767 (0.24000)\n",
      "ndcg@05: 0.6516 (0.20064)\n",
      "ndcg@10: 0.6332 (0.15971)\n",
      "ndcg@20: 0.6309 (0.12906)\n",
      "precision@01: 0.7658 (0.42352)\n",
      "precision@03: 0.6867 (0.31257)\n",
      "precision@05: 0.6138 (0.27409)\n",
      "precision@10: 0.4964 (0.21889)\n",
      "precision@20: 0.3796 (0.16954)\n",
      "recall@01: 0.0391 (0.03422)\n",
      "recall@03: 0.1037 (0.07434)\n",
      "recall@05: 0.1510 (0.09642)\n",
      "recall@10: 0.2357 (0.12572)\n",
      "recall@20: 0.3503 (0.15443)\n",
      "relevant rank: 62.1270 (58.81087)\n",
      "relevant rank per query: 1475.9369 (942.42893)\n"
     ]
    },
    {
     "data": {
      "application/vnd.jupyter.widget-view+json": {
       "model_id": "",
       "version_major": 2,
       "version_minor": 0
      },
      "text/plain": [
       "Eval (validation):   0%|          | 0/50 [00:00<?, ?it/s]"
      ]
     },
     "metadata": {},
     "output_type": "display_data"
    },
    {
     "name": "stdout",
     "output_type": "stream",
     "text": [
      "\"metric\": \"mean\" (\"standard deviation\")\n",
      "dcg: 106.4904 (23.60196)\n",
      "dcg@03: 20.5698 (7.89869)\n",
      "dcg@05: 24.9903 (8.78350)\n",
      "dcg@10: 33.2525 (9.99655)\n",
      "dcg@20: 44.0886 (12.10188)\n",
      "ndcg: 0.8581 (0.05069)\n",
      "ndcg@03: 0.6991 (0.22796)\n",
      "ndcg@05: 0.6499 (0.19085)\n",
      "ndcg@10: 0.6400 (0.14465)\n",
      "ndcg@20: 0.6523 (0.12979)\n",
      "precision@01: 0.8000 (0.40000)\n",
      "precision@03: 0.7400 (0.27721)\n",
      "precision@05: 0.6000 (0.24658)\n",
      "precision@10: 0.5160 (0.18800)\n",
      "precision@20: 0.4200 (0.15524)\n",
      "recall@01: 0.0412 (0.02973)\n",
      "recall@03: 0.1110 (0.06766)\n",
      "recall@05: 0.1464 (0.08393)\n",
      "recall@10: 0.2472 (0.12566)\n",
      "recall@20: 0.3881 (0.14754)\n",
      "relevant rank: 60.5656 (59.88753)\n",
      "relevant rank per query: 1430.5600 (929.30964)\n",
      "train:  {'ndcg': (0.8527468303771941, 0.052042445422999004)}\n",
      "validation:  {'ndcg': (0.8605226509940406, 0.05186160509682432)}\n"
     ]
    },
    {
     "data": {
      "application/vnd.jupyter.widget-view+json": {
       "model_id": "a015510d869647e19d5a3cc2d0c70217",
       "version_major": 2,
       "version_minor": 0
      },
      "text/plain": [
       "  0%|          | 0/2735 [00:00<?, ?it/s]"
      ]
     },
     "metadata": {},
     "output_type": "display_data"
    },
    {
     "data": {
      "application/vnd.jupyter.widget-view+json": {
       "model_id": "",
       "version_major": 2,
       "version_minor": 0
      },
      "text/plain": [
       "Eval (train):   0%|          | 0/333 [00:00<?, ?it/s]"
      ]
     },
     "metadata": {},
     "output_type": "display_data"
    },
    {
     "name": "stdout",
     "output_type": "stream",
     "text": [
      "\"metric\": \"mean\" (\"standard deviation\")\n",
      "dcg: 105.7982 (25.12061)\n",
      "dcg@03: 19.1356 (8.24221)\n",
      "dcg@05: 24.2809 (9.69933)\n",
      "dcg@10: 32.2262 (11.74989)\n",
      "dcg@20: 41.9709 (13.64870)\n",
      "ndcg: 0.8528 (0.05278)\n",
      "ndcg@03: 0.6673 (0.23405)\n",
      "ndcg@05: 0.6429 (0.19081)\n",
      "ndcg@10: 0.6271 (0.15727)\n",
      "ndcg@20: 0.6267 (0.13048)\n",
      "precision@01: 0.7688 (0.42162)\n",
      "precision@03: 0.6857 (0.31529)\n",
      "precision@05: 0.6072 (0.27761)\n",
      "precision@10: 0.4946 (0.22615)\n",
      "precision@20: 0.3775 (0.17265)\n",
      "recall@01: 0.0397 (0.03656)\n",
      "recall@03: 0.1018 (0.07342)\n",
      "recall@05: 0.1470 (0.08994)\n",
      "recall@10: 0.2342 (0.12806)\n",
      "recall@20: 0.3455 (0.15546)\n",
      "relevant rank: 62.7859 (59.44246)\n",
      "relevant rank per query: 1491.5886 (933.40800)\n"
     ]
    },
    {
     "data": {
      "application/vnd.jupyter.widget-view+json": {
       "model_id": "",
       "version_major": 2,
       "version_minor": 0
      },
      "text/plain": [
       "Eval (validation):   0%|          | 0/50 [00:00<?, ?it/s]"
      ]
     },
     "metadata": {},
     "output_type": "display_data"
    },
    {
     "name": "stdout",
     "output_type": "stream",
     "text": [
      "\"metric\": \"mean\" (\"standard deviation\")\n",
      "dcg: 106.2042 (23.12492)\n",
      "dcg@03: 19.9355 (7.46856)\n",
      "dcg@05: 25.3021 (8.50055)\n",
      "dcg@10: 32.9100 (9.85480)\n",
      "dcg@20: 43.5718 (10.96215)\n",
      "ndcg: 0.8571 (0.04873)\n",
      "ndcg@03: 0.6918 (0.22288)\n",
      "ndcg@05: 0.6666 (0.17774)\n",
      "ndcg@10: 0.6379 (0.14422)\n",
      "ndcg@20: 0.6486 (0.11399)\n",
      "precision@01: 0.7600 (0.42708)\n",
      "precision@03: 0.7133 (0.27495)\n",
      "precision@05: 0.6320 (0.22400)\n",
      "precision@10: 0.5040 (0.19283)\n",
      "precision@20: 0.4100 (0.15427)\n",
      "recall@01: 0.0386 (0.03021)\n",
      "recall@03: 0.1104 (0.06609)\n",
      "recall@05: 0.1580 (0.08423)\n",
      "recall@10: 0.2428 (0.12507)\n",
      "recall@20: 0.3743 (0.13517)\n",
      "relevant rank: 60.6986 (59.44246)\n",
      "relevant rank per query: 1433.7000 (913.31454)\n",
      "train:  {'recall@05': (0.1470154913441181, 0.08578652655156659)}\n",
      "validation:  {'recall@05': (0.1590773268680617, 0.0901767738177754)}\n"
     ]
    },
    {
     "data": {
      "application/vnd.jupyter.widget-view+json": {
       "model_id": "2e94d44802f54580a92a5d6b963cb64a",
       "version_major": 2,
       "version_minor": 0
      },
      "text/plain": [
       "  0%|          | 0/2735 [00:00<?, ?it/s]"
      ]
     },
     "metadata": {},
     "output_type": "display_data"
    },
    {
     "data": {
      "application/vnd.jupyter.widget-view+json": {
       "model_id": "",
       "version_major": 2,
       "version_minor": 0
      },
      "text/plain": [
       "Eval (train):   0%|          | 0/333 [00:00<?, ?it/s]"
      ]
     },
     "metadata": {},
     "output_type": "display_data"
    },
    {
     "name": "stdout",
     "output_type": "stream",
     "text": [
      "\"metric\": \"mean\" (\"standard deviation\")\n",
      "dcg: 104.8730 (24.79609)\n",
      "dcg@03: 17.8445 (7.61843)\n",
      "dcg@05: 22.7553 (9.01095)\n",
      "dcg@10: 30.7731 (11.13529)\n",
      "dcg@20: 40.9862 (13.18253)\n",
      "ndcg: 0.8457 (0.05131)\n",
      "ndcg@03: 0.6275 (0.22062)\n",
      "ndcg@05: 0.6064 (0.18192)\n",
      "ndcg@10: 0.6010 (0.14990)\n",
      "ndcg@20: 0.6131 (0.12362)\n",
      "precision@01: 0.7688 (0.42162)\n",
      "precision@03: 0.6406 (0.30998)\n",
      "precision@05: 0.5766 (0.27693)\n",
      "precision@10: 0.4721 (0.22172)\n",
      "precision@20: 0.3739 (0.17166)\n",
      "recall@01: 0.0396 (0.03672)\n",
      "recall@03: 0.0948 (0.06928)\n",
      "recall@05: 0.1394 (0.08843)\n",
      "recall@10: 0.2236 (0.12434)\n",
      "recall@20: 0.3431 (0.15126)\n",
      "relevant rank: 63.3359 (59.35401)\n",
      "relevant rank per query: 1504.6547 (949.86346)\n"
     ]
    },
    {
     "data": {
      "application/vnd.jupyter.widget-view+json": {
       "model_id": "",
       "version_major": 2,
       "version_minor": 0
      },
      "text/plain": [
       "Eval (validation):   0%|          | 0/50 [00:00<?, ?it/s]"
      ]
     },
     "metadata": {},
     "output_type": "display_data"
    },
    {
     "name": "stdout",
     "output_type": "stream",
     "text": [
      "\"metric\": \"mean\" (\"standard deviation\")\n",
      "dcg: 105.1737 (22.60063)\n",
      "dcg@03: 18.5667 (7.37160)\n",
      "dcg@05: 23.8065 (8.38407)\n",
      "dcg@10: 31.6374 (8.85325)\n",
      "dcg@20: 42.4783 (10.83867)\n",
      "ndcg: 0.8497 (0.04828)\n",
      "ndcg@03: 0.6455 (0.21634)\n",
      "ndcg@05: 0.6308 (0.18107)\n",
      "ndcg@10: 0.6172 (0.13037)\n",
      "ndcg@20: 0.6347 (0.11667)\n",
      "precision@01: 0.7600 (0.42708)\n",
      "precision@03: 0.6533 (0.26633)\n",
      "precision@05: 0.6080 (0.23987)\n",
      "precision@10: 0.4860 (0.18112)\n",
      "precision@20: 0.4030 (0.16322)\n",
      "recall@01: 0.0419 (0.03565)\n",
      "recall@03: 0.1019 (0.05970)\n",
      "recall@05: 0.1528 (0.08616)\n",
      "recall@10: 0.2380 (0.12030)\n",
      "recall@20: 0.3712 (0.15137)\n",
      "relevant rank: 62.7731 (61.64533)\n",
      "relevant rank per query: 1482.7000 (996.73335)\n",
      "train:  {'precision@05': (0.6114114114114114, 0.2750737637169261)}\n",
      "validation:  {'precision@05': (0.6280000000000001, 0.2263095225570502)}\n"
     ]
    },
    {
     "data": {
      "application/vnd.jupyter.widget-view+json": {
       "model_id": "5b8d179f4532415a9bfc32db4e6bf617",
       "version_major": 2,
       "version_minor": 0
      },
      "text/plain": [
       "  0%|          | 0/2735 [00:00<?, ?it/s]"
      ]
     },
     "metadata": {},
     "output_type": "display_data"
    },
    {
     "data": {
      "application/vnd.jupyter.widget-view+json": {
       "model_id": "",
       "version_major": 2,
       "version_minor": 0
      },
      "text/plain": [
       "Eval (train):   0%|          | 0/333 [00:00<?, ?it/s]"
      ]
     },
     "metadata": {},
     "output_type": "display_data"
    },
    {
     "name": "stdout",
     "output_type": "stream",
     "text": [
      "\"metric\": \"mean\" (\"standard deviation\")\n",
      "dcg: 106.3564 (25.35066)\n",
      "dcg@03: 19.3756 (8.06616)\n",
      "dcg@05: 24.6231 (9.52012)\n",
      "dcg@10: 32.8563 (11.77408)\n",
      "dcg@20: 42.9197 (13.93011)\n",
      "ndcg: 0.8571 (0.05245)\n",
      "ndcg@03: 0.6795 (0.22841)\n",
      "ndcg@05: 0.6548 (0.18828)\n",
      "ndcg@10: 0.6396 (0.15374)\n",
      "ndcg@20: 0.6398 (0.12659)\n",
      "precision@01: 0.8108 (0.39166)\n",
      "precision@03: 0.7067 (0.30956)\n",
      "precision@05: 0.6240 (0.27228)\n",
      "precision@10: 0.5078 (0.22528)\n",
      "precision@20: 0.3928 (0.17457)\n",
      "recall@01: 0.0413 (0.03415)\n",
      "recall@03: 0.1068 (0.07706)\n",
      "recall@05: 0.1535 (0.09690)\n",
      "recall@10: 0.2409 (0.12714)\n",
      "recall@20: 0.3578 (0.15026)\n",
      "relevant rank: 61.3309 (58.87362)\n",
      "relevant rank per query: 1457.0240 (928.48937)\n"
     ]
    },
    {
     "data": {
      "application/vnd.jupyter.widget-view+json": {
       "model_id": "",
       "version_major": 2,
       "version_minor": 0
      },
      "text/plain": [
       "Eval (validation):   0%|          | 0/50 [00:00<?, ?it/s]"
      ]
     },
     "metadata": {},
     "output_type": "display_data"
    },
    {
     "name": "stdout",
     "output_type": "stream",
     "text": [
      "\"metric\": \"mean\" (\"standard deviation\")\n",
      "dcg: 106.7823 (23.56507)\n",
      "dcg@03: 20.4160 (8.30605)\n",
      "dcg@05: 25.6699 (8.40265)\n",
      "dcg@10: 34.2832 (9.86653)\n",
      "dcg@20: 44.7389 (11.74684)\n",
      "ndcg: 0.8612 (0.04833)\n",
      "ndcg@03: 0.7050 (0.23719)\n",
      "ndcg@05: 0.6802 (0.17771)\n",
      "ndcg@10: 0.6642 (0.13030)\n",
      "ndcg@20: 0.6644 (0.11304)\n",
      "precision@01: 0.7600 (0.42708)\n",
      "precision@03: 0.7333 (0.28284)\n",
      "precision@05: 0.6640 (0.22069)\n",
      "precision@10: 0.5340 (0.17619)\n",
      "precision@20: 0.4180 (0.16117)\n",
      "recall@01: 0.0393 (0.03097)\n",
      "recall@03: 0.1139 (0.06636)\n",
      "recall@05: 0.1693 (0.08648)\n",
      "recall@10: 0.2600 (0.12873)\n",
      "recall@20: 0.3835 (0.14053)\n",
      "relevant rank: 61.0644 (60.48260)\n",
      "relevant rank per query: 1442.3400 (917.99182)\n",
      "train:  {'ndcg': (0.8485357128567202, 0.051368707463097435)}\n",
      "validation:  {'ndcg': (0.8503687359036036, 0.046341883764324035)}\n"
     ]
    },
    {
     "data": {
      "application/vnd.jupyter.widget-view+json": {
       "model_id": "e1315d86411f4926bc3663f772640607",
       "version_major": 2,
       "version_minor": 0
      },
      "text/plain": [
       "  0%|          | 0/2735 [00:00<?, ?it/s]"
      ]
     },
     "metadata": {},
     "output_type": "display_data"
    },
    {
     "data": {
      "application/vnd.jupyter.widget-view+json": {
       "model_id": "",
       "version_major": 2,
       "version_minor": 0
      },
      "text/plain": [
       "Eval (train):   0%|          | 0/333 [00:00<?, ?it/s]"
      ]
     },
     "metadata": {},
     "output_type": "display_data"
    },
    {
     "name": "stdout",
     "output_type": "stream",
     "text": [
      "\"metric\": \"mean\" (\"standard deviation\")\n",
      "dcg: 106.1378 (25.20187)\n",
      "dcg@03: 19.3614 (8.11925)\n",
      "dcg@05: 24.2350 (9.44243)\n",
      "dcg@10: 32.4637 (11.66263)\n",
      "dcg@20: 42.4818 (13.80910)\n",
      "ndcg: 0.8554 (0.05295)\n",
      "ndcg@03: 0.6784 (0.23568)\n",
      "ndcg@05: 0.6439 (0.19310)\n",
      "ndcg@10: 0.6316 (0.15518)\n",
      "ndcg@20: 0.6334 (0.12825)\n",
      "precision@01: 0.8108 (0.39166)\n",
      "precision@03: 0.7037 (0.30831)\n",
      "precision@05: 0.6126 (0.27327)\n",
      "precision@10: 0.4988 (0.22327)\n",
      "precision@20: 0.3865 (0.17132)\n",
      "recall@01: 0.0411 (0.03243)\n",
      "recall@03: 0.1049 (0.07144)\n",
      "recall@05: 0.1492 (0.09273)\n",
      "recall@10: 0.2347 (0.12481)\n",
      "recall@20: 0.3540 (0.15348)\n",
      "relevant rank: 61.5404 (58.58144)\n",
      "relevant rank per query: 1462.0000 (942.06673)\n"
     ]
    },
    {
     "data": {
      "application/vnd.jupyter.widget-view+json": {
       "model_id": "",
       "version_major": 2,
       "version_minor": 0
      },
      "text/plain": [
       "Eval (validation):   0%|          | 0/50 [00:00<?, ?it/s]"
      ]
     },
     "metadata": {},
     "output_type": "display_data"
    },
    {
     "name": "stdout",
     "output_type": "stream",
     "text": [
      "\"metric\": \"mean\" (\"standard deviation\")\n",
      "dcg: 106.3145 (23.24861)\n",
      "dcg@03: 19.9353 (6.95840)\n",
      "dcg@05: 25.0543 (8.05646)\n",
      "dcg@10: 33.0782 (9.24089)\n",
      "dcg@20: 44.1005 (11.67706)\n",
      "ndcg: 0.8579 (0.04385)\n",
      "ndcg@03: 0.6943 (0.20010)\n",
      "ndcg@05: 0.6641 (0.16474)\n",
      "ndcg@10: 0.6430 (0.12448)\n",
      "ndcg@20: 0.6546 (0.10560)\n",
      "precision@01: 0.8200 (0.38419)\n",
      "precision@03: 0.7200 (0.23438)\n",
      "precision@05: 0.6400 (0.22978)\n",
      "precision@10: 0.5240 (0.18927)\n",
      "precision@20: 0.4180 (0.14858)\n",
      "recall@01: 0.0452 (0.03433)\n",
      "recall@03: 0.1117 (0.05968)\n",
      "recall@05: 0.1594 (0.07988)\n",
      "recall@10: 0.2518 (0.11542)\n",
      "recall@20: 0.3871 (0.13920)\n",
      "relevant rank: 62.3827 (61.46701)\n",
      "relevant rank per query: 1473.4800 (988.09020)\n",
      "train:  {'recall@05': (0.14428724716174374, 0.09261584251705784)}\n",
      "validation:  {'recall@05': (0.15426037073093504, 0.080333867402511)}\n"
     ]
    },
    {
     "data": {
      "text/plain": [
       "{'metrics_val': [{'ndcg': (0.8539669405515684, 0.050928597241417545)},\n",
       "  {'recall@05': (0.14845158122870034, 0.08381367177639702)},\n",
       "  {'precision@05': (0.6000000000000001, 0.2433105012119288)},\n",
       "  {'ndcg': (0.8605226509940406, 0.05186160509682432)},\n",
       "  {'recall@05': (0.1590773268680617, 0.0901767738177754)},\n",
       "  {'precision@05': (0.6280000000000001, 0.2263095225570502)},\n",
       "  {'ndcg': (0.8503687359036036, 0.046341883764324035)},\n",
       "  {'recall@05': (0.15426037073093504, 0.080333867402511)},\n",
       "  {'precision@05': (0.612, 0.21320412753978288)},\n",
       "  {'ndcg': (0.8581376826787303, 0.050689685818168205)},\n",
       "  {'recall@05': (0.14644686243429306, 0.08393495506392962)},\n",
       "  {'precision@05': (0.6, 0.24657656011875906)},\n",
       "  {'ndcg': (0.8571338681260626, 0.048732991854285104)},\n",
       "  {'recall@05': (0.15799297870832926, 0.08423276672529757)},\n",
       "  {'precision@05': (0.632, 0.224)},\n",
       "  {'ndcg': (0.8497324733422461, 0.04827605477522805)},\n",
       "  {'recall@05': (0.1527893450629894, 0.08616355857773655)},\n",
       "  {'precision@05': (0.6080000000000001, 0.2398666296090392)},\n",
       "  {'ndcg': (0.861235717265578, 0.048330389148635404)},\n",
       "  {'recall@05': (0.16929937592069164, 0.08648308019752188)},\n",
       "  {'precision@05': (0.6639999999999999, 0.22068982758613953)},\n",
       "  {'ndcg': (0.8579493079223771, 0.04384715931794059)},\n",
       "  {'recall@05': (0.15936981104112669, 0.07987543763920382)},\n",
       "  {'precision@05': (0.64, 0.22978250586152113)}],\n",
       " 'metrics_train': [{'ndcg': (0.8460239106266139, 0.05379410624816659)},\n",
       "  {'recall@05': (0.14486453845741068, 0.09178183962850467)},\n",
       "  {'precision@05': (0.5909909909909911, 0.2738501649292011)},\n",
       "  {'ndcg': (0.8527468303771941, 0.052042445422999004)},\n",
       "  {'recall@05': (0.1470154913441181, 0.08578652655156659)},\n",
       "  {'precision@05': (0.6114114114114114, 0.2750737637169261)},\n",
       "  {'ndcg': (0.8485357128567202, 0.051368707463097435)},\n",
       "  {'recall@05': (0.14428724716174374, 0.09261584251705784)},\n",
       "  {'precision@05': (0.587987987987988, 0.27570249858058854)},\n",
       "  {'ndcg': (0.8544050043872288, 0.052711002891205734)},\n",
       "  {'recall@05': (0.1509857177017433, 0.09641775601714551)},\n",
       "  {'precision@05': (0.6138138138138137, 0.2740884781657788)},\n",
       "  {'ndcg': (0.8527983076048163, 0.052777478728186354)},\n",
       "  {'recall@05': (0.1470005528110312, 0.08994152594857037)},\n",
       "  {'precision@05': (0.6072072072072072, 0.27760614777304465)},\n",
       "  {'ndcg': (0.8457194793615841, 0.05130734230965869)},\n",
       "  {'recall@05': (0.13940341617701169, 0.08843434552126615)},\n",
       "  {'precision@05': (0.5765765765765766, 0.2769270309528563)},\n",
       "  {'ndcg': (0.8570695715982637, 0.052452017231806036)},\n",
       "  {'recall@05': (0.1534920668805168, 0.09689912046025102)},\n",
       "  {'precision@05': (0.624024024024024, 0.2722821348976238)},\n",
       "  {'ndcg': (0.8554175352096485, 0.05295024413315292)},\n",
       "  {'recall@05': (0.1492351131608871, 0.09273314298603812)},\n",
       "  {'precision@05': (0.6126126126126126, 0.2732686532295993)}]}"
      ]
     },
     "execution_count": 31,
     "metadata": {},
     "output_type": "execute_result"
    }
   ],
   "source": [
    "# TODO: Implement this! (35 points)\n",
    "def train_pairwise(net, params):\n",
    "    \"\"\"\n",
    "    This function should train the given network using the pairwise loss\n",
    "    \n",
    "    Returns: a dictionary containing: \"metrics_val\" (a list of dictionaries) and \n",
    "             \"metrics_train\" (a list of dictionaries). \n",
    "             \n",
    "             \"metrics_val\" should contain metrics (the metrics in params.metrics) computed\n",
    "             after each epoch on the validation set (metrics_train is similar). \n",
    "             You can use this to debug your models\n",
    "    \n",
    "    Note: Do not change the function definition! \n",
    "    Note: You can assume params.batch_size will always be equal to 1\n",
    "    \n",
    "    Hint: Consider the case when the loss function returns 'None'\n",
    "    \n",
    "    net: the neural network to be trained\n",
    "    \n",
    "    params: params is an object which contains config used in training \n",
    "        (eg. params.epochs - the number of epochs to train). \n",
    "        For a full list of these params, see the next cell. \n",
    "    \"\"\"\n",
    "\n",
    "    val_metrics_epoch = []\n",
    "    train_metrics_epoch = []\n",
    "    # YOUR CODE HERE\n",
    "    ## Rubric:\n",
    "        # Network is trained for specified epochs, and iterates over the entire dataset\n",
    "        # and (train) data is shuffled : 10 points\n",
    "        # Loss calculation: 10 points\n",
    "        # Evaluation on the validation set: 5 points\n",
    "        # Training (e.g optimizer, zero_grad, backward): 10 point\n",
    "        \n",
    "    # Define parameters\n",
    "    epochs = params.epochs\n",
    "    learning_rate = params.lr\n",
    "    batch_size = params.batch_size\n",
    "    metrics = params.metrics\n",
    "    \n",
    "    # Specify prediction function\n",
    "    loss_function = pairwise_loss\n",
    "    pred_fn = partial(net)\n",
    "    \n",
    "    # Define Adam optimizer\n",
    "    optimizer = Adam(net.parameters(), lr=learning_rate)\n",
    "    \n",
    "    # Create train & validation data:\n",
    "    train_dl = DataLoader(QueryGroupedLTRData(data, \"train\"), batch_size=batch_size, shuffle=True, collate_fn=qg_collate_fn)\n",
    "    validation_dl = DataLoader(QueryGroupedLTRData(data, \"validation\"), shuffle=False, collate_fn=qg_collate_fn)\n",
    "    \n",
    "    # Training loop\n",
    "    for epoch in range(epochs):\n",
    "        for (query_ids, features, targets) in tqdm(train_dl): # loop over 2735 different queries\n",
    "            net.zero_grad()\n",
    "            out = torch.FloatTensor()\n",
    "            for query, x, y in zip(query_ids, features, targets): # run over all documents for a specific query\n",
    "                out = torch.cat([out, net(x)]) # concatenates outputs of the network for each of the documents belonging to query q_i\n",
    "            loss = loss_function(out.squeeze(1), y) # if I use detach() the gradient is deleted and loss becomes useless\n",
    "            if loss:\n",
    "                loss.backward()\n",
    "                optimizer.step()\n",
    "        \n",
    "        # EVALUATE\n",
    "        train_evaluation = evaluate_model(pred_fn, \"train\", print_results=True, q_level=True)  #def evaluate_model(pred_fn, split, batch_size=256, print_results=False, q_level=False):\n",
    "        validation_evaluation = evaluate_model(pred_fn, \"validation\", print_results=True, q_level=True)           \n",
    "\n",
    "        # Save the appropriate evaluations\n",
    "        for m in params.metrics:\n",
    "            train_metrics_epoch.append({m : train_evaluation[0][m]})\n",
    "            val_metrics_epoch.append({m : validation_evaluation[0][m]})  \n",
    "            \n",
    "        # print metrics    \n",
    "        print(\"train: \", train_metrics_epoch[epoch])\n",
    "        print(\"validation: \", val_metrics_epoch[epoch])\n",
    "    \n",
    "    return {\n",
    "        \"metrics_val\": val_metrics_epoch,\n",
    "        \"metrics_train\": train_metrics_epoch\n",
    "    }\n",
    "\n",
    "# We used this here because we cannot modify the next cell\n",
    "seed(42)\n",
    "params = Namespace(epochs=8, \n",
    "                    lr=1e-3,\n",
    "                    batch_size=1,\n",
    "                    metrics={\"ndcg\", \"precision@05\", \"recall@05\"})\n",
    "pairwise_net = NeuralModule(1)\n",
    "train_pairwise(pairwise_net, params)"
   ]
  },
  {
   "cell_type": "code",
   "execution_count": 32,
   "metadata": {
    "deletable": false,
    "editable": false,
    "nbgrader": {
     "cell_type": "code",
     "checksum": "b4b97202b1befddb4af2ec7851c5d174",
     "grade": false,
     "grade_id": "cell-19ec0cf692c86b75",
     "locked": true,
     "schema_version": 3,
     "solution": false,
     "task": false
    }
   },
   "outputs": [],
   "source": [
    "pairwise_params_test = Namespace(epochs=1, lr=1e-3, batch_size=1, metrics={\"ndcg\"})\n",
    "## uncomment to test your code\n",
    "# pairwise_net = NeuralModule(1)\n",
    "# train_pairwise(pairwise_net, pairwise_params_test)\n",
    "# pairwise_test, pairwise_q = evaluate_model(pairwise_net,\n",
    "#                                          \"test\", print_results=True, q_level=True)"
   ]
  },
  {
   "cell_type": "code",
   "execution_count": 33,
   "metadata": {
    "deletable": false,
    "nbgrader": {
     "cell_type": "code",
     "checksum": "52558867a0a7f79d6c42ceab4f26a132",
     "grade": true,
     "grade_id": "cell-34178113ea5e9331",
     "locked": false,
     "points": 35,
     "schema_version": 3,
     "solution": true,
     "task": false
    }
   },
   "outputs": [],
   "source": [
    "# YOUR CODE HERE\n",
    "# raise NotImplementedError()"
   ]
  },
  {
   "cell_type": "markdown",
   "metadata": {
    "deletable": false,
    "editable": false,
    "nbgrader": {
     "cell_type": "markdown",
     "checksum": "3867bfe2e108bffb3ae69f5ddfd68834",
     "grade": false,
     "grade_id": "cell-3a95bb01f72fc76c",
     "locked": true,
     "schema_version": 3,
     "solution": false,
     "task": false
    }
   },
   "source": [
    "## Section 4: Pairwise: Speed-up RankNet (70 points) <a class=\"anchor\" id=\"SpairwiseLTR\"></a>\n",
    "\n",
    "[Back to TOC](#top)\n",
    "\n",
    "To speed up training of the previous model, we can consider a sped up version of the model, where instead of `.backward` on the loss, we use `torch.backward(lambda_i)`. \n",
    "\n",
    "The derivative of the total cost $C_T$ with respect to the model parameters $w_k$ is:\n",
    "\n",
    "$$        \\frac{\\partial C_T}{\\partial w_k} = \\sum_{(i,j) \\in \\mathcal{P}} \\frac{\\partial C(s_i, s_j)}{\\partial s_i} \\frac{\\partial s_i}{\\partial w_k} + \\frac{\\partial C(s_i, s_j)}{\\partial s_j} \\frac{\\partial s_j}{\\partial w_k} $$\n",
    "\n",
    "We can rewrite this sum by considering the set of indices $j$ , for which $\\{i,j\\}$ is a valid pair, denoted by $\\mathcal{P}_i$, and the set of document indices $\\mathcal{D}$:\n",
    "\n",
    "$$\n",
    "\\frac{\\partial C_T}{\\partial w_k} = \\sum_{i \\in \\mathcal{D}}\n",
    "\\frac{\\partial s_i}{\\partial w_k} \\sum_{j \\in \\mathcal{P}_i} \n",
    "\\frac{\\partial C(s_i, s_j)}{\\partial s_i} \n",
    "$$\n",
    "\n",
    "This sped of version of the algorithm first computes scores $s_i$ for all the documents. Then for each $j= 1, \\dots, n$, compute:\n",
    "\n",
    "$$\n",
    "\\lambda_{ij} = \\frac{\\partial C(s_i, s_j)}{\\partial s_i} = \\sigma \\bigg( \\frac{1}{2}(1 - S_{ij}) -  \\frac{1}{1 + e^{\\sigma(s_i -s_j))}} \\bigg) \\\\\n",
    "\\lambda_i = \\sum_{j \\in \\mathcal{P}_i} \\frac{\\partial C(s_i, s_j)}{\\partial s_i} = \\sum_{j \\in \\mathcal{P}_i} \\lambda_{ij}\n",
    "$$\n",
    "\n",
    "That gives us:\n",
    "\n",
    "$$\n",
    "\\frac{\\partial C_T}{\\partial w_k} = \\sum_{i \\in \\mathcal{D}}\n",
    "\\frac{\\partial s_i}{\\partial w_k} \\lambda_i\n",
    "$$\n",
    "\n",
    "This can be directly optimized in pytorch using: `torch.autograd.backward(scores, lambda_i)` \n",
    " \n"
   ]
  },
  {
   "cell_type": "markdown",
   "metadata": {
    "deletable": false,
    "editable": false,
    "nbgrader": {
     "cell_type": "markdown",
     "checksum": "c88f76d295dd1dc2778cd2413b4c58e8",
     "grade": false,
     "grade_id": "cell-2a9b7b682a011642",
     "locked": true,
     "schema_version": 3,
     "solution": false,
     "task": false
    }
   },
   "source": [
    "**Implementation (20 points):**\n",
    "Implement the sped-up version of pairwise loss, described above.\n",
    "\n",
    "**Rubric:**\n",
    " - Each ordering <i,j> combination is considered: 10 points\n",
    " - Proper application of the formula: 10 points"
   ]
  },
  {
   "cell_type": "code",
   "execution_count": 34,
   "metadata": {
    "deletable": false,
    "nbgrader": {
     "cell_type": "code",
     "checksum": "4cea38cdd68cb70d08e33827bffc53a8",
     "grade": false,
     "grade_id": "cell-ba7f8d8631e3f1d6",
     "locked": false,
     "schema_version": 3,
     "solution": true,
     "task": false
    }
   },
   "outputs": [
    {
     "name": "stdout",
     "output_type": "stream",
     "text": [
      "tensor([[-0.0675],\n",
      "        [ 0.6674],\n",
      "        [ 0.8442],\n",
      "        [ 0.9325],\n",
      "        [-2.3766]])\n",
      "tensor([[-0.1824],\n",
      "        [ 0.1824]])\n"
     ]
    }
   ],
   "source": [
    "# TODO: Implement this! (20 points)\n",
    "def compute_lambda_i(scores, labels):\n",
    "    \"\"\"\n",
    "    Compute \\lambda_i (defined in the previous cell). (assume sigma=1.)\n",
    "    \n",
    "    scores: tensor of size [N, 1] (the output of a neural network), where N = length of <query, document> pairs\n",
    "    labels: tensor of size [N], contains the relevance labels \n",
    "    \n",
    "    return: \\lambda_i, a tensor of shape: [N, 1]\n",
    "    \"\"\"\n",
    "    # YOUR CODE HERE\n",
    "    SIGMA = 1\n",
    "    s_ij_matrix = torch.sign(labels[:,None] - labels[None,:])\n",
    "    #print(torch.nonzero(s_ij_matrix)) might be useful\n",
    "    si_minus_sj_matrix = scores[:,None] - scores[None,:]\n",
    "    #print(torch.nonzero(si_minus_sj_matrix))\n",
    "    lambda_ij_matrix = SIGMA * ( (1/2)*(1-s_ij_matrix)-(1/(1+torch.exp(SIGMA*si_minus_sj_matrix))) )\n",
    "    lambda_i = torch.sum(lambda_ij_matrix, axis=1)\n",
    "    return lambda_i.unsqueeze(1)\n",
    "\n",
    "# For testing purposes:\n",
    "scores_1 = torch.FloatTensor([0.2, 2.3, 4.5, 0.2, 1.0])\n",
    "labels_1 = torch.FloatTensor([1, 2, 3, 0, 4])\n",
    "scores_2 = torch.FloatTensor([3.2, 1.7])\n",
    "labels_2 = torch.FloatTensor([3, 1])\n",
    "\n",
    "print(compute_lambda_i(scores_1, labels_1))\n",
    "print(compute_lambda_i(scores_2, labels_2))"
   ]
  },
  {
   "cell_type": "code",
   "execution_count": 35,
   "metadata": {
    "deletable": false,
    "nbgrader": {
     "cell_type": "code",
     "checksum": "9c4533f39d3dfbefdd4b56c61316eac8",
     "grade": true,
     "grade_id": "cell-756179237da34c57",
     "locked": false,
     "points": 20,
     "schema_version": 3,
     "solution": true,
     "task": false
    }
   },
   "outputs": [],
   "source": [
    "# YOUR CODE HERE\n",
    "# raise NotImplementedError()"
   ]
  },
  {
   "cell_type": "markdown",
   "metadata": {
    "deletable": false,
    "editable": false,
    "nbgrader": {
     "cell_type": "markdown",
     "checksum": "00482b2615dc28ead4c745a705e5fafb",
     "grade": false,
     "grade_id": "cell-ed55c62fbba08923",
     "locked": true,
     "schema_version": 3,
     "solution": false,
     "task": false
    }
   },
   "source": [
    "**Implementation (50 points):**\n",
    "Using the sped-up loss function `compute_lambda_i`, implement the spedup wrapper for pairwise training.\n",
    "\n",
    "**Rubric:**\n",
    " - Network is trained for specified epochs, and iterates over the entire dataset and (train) data is shuffled : 10 points\n",
    " - Loss calculation: 10 points\n",
    " - Evaluation on the validation set: 5 points\n",
    " - Training (e.g optimizer, zero_grad, backward): 10 points\n",
    " - Performance as expected: 15 points"
   ]
  },
  {
   "cell_type": "code",
   "execution_count": 36,
   "metadata": {
    "deletable": false,
    "nbgrader": {
     "cell_type": "code",
     "checksum": "14e4da9878b2e0a3603437b29a66a07c",
     "grade": false,
     "grade_id": "cell-ddfeb927c2f4a31c",
     "locked": false,
     "schema_version": 3,
     "solution": true,
     "task": false
    }
   },
   "outputs": [],
   "source": [
    "# TODO: Implement this! (50 points)\n",
    "def train_pairwise_spedup(net, params):\n",
    "    \"\"\"\n",
    "    This function should train the given network using the sped up pairwise loss\n",
    "    \n",
    "    \n",
    "    Note: Do not change the function definition! \n",
    "    Note: You can assume params.batch_size will always be equal to 1\n",
    "    \n",
    "    \n",
    "    net: the neural network to be trained\n",
    "    \n",
    "    params: params is an object which contains config used in training \n",
    "        (eg. params.epochs - the number of epochs to train). \n",
    "        For a full list of these params, see the next cell. \n",
    "    \n",
    "    Returns: a dictionary containing: \"metrics_val\" (a list of dictionaries) and \n",
    "             \"metrics_train\" (a list of dictionaries). \n",
    "             \n",
    "             \"metrics_val\" should contain metrics (the metrics in params.metrics) computed\n",
    "             after each epoch on the validation set (metrics_train is similar). \n",
    "             You can use this to debug your models\n",
    "    \"\"\"\n",
    "    \n",
    "    val_metrics_epoch = []\n",
    "    train_metrics_epoch = []\n",
    "    # YOUR CODE HERE\n",
    "    ## Rubric:\n",
    "        # Network is trained for specified epochs, and iterates over the entire dataset\n",
    "        # and (train) data is shuffled : 10 points\n",
    "        # Loss calculation: 10 points\n",
    "        # Evaluation on the validation set: 5 points\n",
    "        # Training (e.g optimizer, zero_grad, backward): 10 point\n",
    "        # Performance as expected: 15 points\n",
    "        \n",
    "    # Define parameters\n",
    "    epochs = params.epochs\n",
    "    learning_rate = params.lr\n",
    "    batch_size = params.batch_size\n",
    "    metrics = params.metrics\n",
    "    \n",
    "    # Specify prediction function\n",
    "    pred_fn = partial(net)\n",
    "    \n",
    "    # Define Adam optimizer\n",
    "    optimizer = Adam(net.parameters(), lr=learning_rate)\n",
    "    \n",
    "    # Create train & validation data:\n",
    "    train_dl = DataLoader(QueryGroupedLTRData(data, \"train\"), batch_size=batch_size, shuffle=True, collate_fn=qg_collate_fn)\n",
    "    validation_dl = DataLoader(QueryGroupedLTRData(data, \"validation\"), shuffle=False, collate_fn=qg_collate_fn)\n",
    "    \n",
    "    # Training loop\n",
    "    for epoch in range(epochs):\n",
    "        for (query_ids, features, targets) in tqdm(train_dl): # loop over 2735 different queries\n",
    "            net.zero_grad()\n",
    "            out = torch.FloatTensor()\n",
    "            for query, x, y in zip(query_ids, features, targets): # run over all documents for a specific query\n",
    "                out = torch.cat([out, net(x)]) # concatenates outputs of the network for each of the documents belonging to query q_i\n",
    "            lambda_i = compute_lambda_i(out.squeeze(1), y)\n",
    "            torch.autograd.backward(out, lambda_i)\n",
    "            optimizer.step() \n",
    "        \n",
    "        # EVALUATE\n",
    "        train_evaluation = evaluate_model(pred_fn, \"train\", print_results=True, q_level=True)\n",
    "        validation_evaluation = evaluate_model(pred_fn, \"validation\", print_results=True, q_level=True)           \n",
    "\n",
    "        # Save the appropriate evaluations\n",
    "        for m in params.metrics:\n",
    "            train_metrics_epoch.append({m : train_evaluation[0][m]})\n",
    "            val_metrics_epoch.append({m : validation_evaluation[0][m]})  \n",
    "            \n",
    "        # print metrics    \n",
    "        print(\"train: \", train_metrics_epoch[epoch])\n",
    "        print(\"validation: \", val_metrics_epoch[epoch])\n",
    "    \n",
    "    return {\n",
    "        \"metrics_val\": val_metrics_epoch,\n",
    "        \"metrics_train\": train_metrics_epoch\n",
    "    }"
   ]
  },
  {
   "cell_type": "code",
   "execution_count": 37,
   "metadata": {
    "deletable": false,
    "editable": false,
    "nbgrader": {
     "cell_type": "code",
     "checksum": "cb9b27b6ec712d8d1146751bc150791e",
     "grade": false,
     "grade_id": "cell-f80dc2eae24968ee",
     "locked": true,
     "schema_version": 3,
     "solution": false,
     "task": false
    }
   },
   "outputs": [],
   "source": [
    "# uncomment to test your code\n",
    "# pairwise_spedup_params_test = Namespace(epochs=1, lr=1e-3, batch_size=1, metrics={\"ndcg@10\",\"ndcg\"})\n",
    "# pairwise_net_spedup = NeuralModule(1)\n",
    "# train_pairwise_spedup(pairwise_net_spedup, pairwise_spedup_params_test)"
   ]
  },
  {
   "cell_type": "markdown",
   "metadata": {
    "deletable": false,
    "editable": false,
    "nbgrader": {
     "cell_type": "markdown",
     "checksum": "c173b7020a1122f7218bbf37ee370884",
     "grade": false,
     "grade_id": "cell-20aa326063f673c2",
     "locked": true,
     "schema_version": 3,
     "solution": false,
     "task": false
    }
   },
   "source": [
    "The next cell creates the results file you will have to submit. *Note that the next cell trains and evaluates only the sped-up version - this is intentional!*"
   ]
  },
  {
   "cell_type": "code",
   "execution_count": 38,
   "metadata": {
    "deletable": false,
    "editable": false,
    "nbgrader": {
     "cell_type": "code",
     "checksum": "77211db554a4bb37582d7c61c7170243",
     "grade": false,
     "grade_id": "cell-32660e207ce6d16a",
     "locked": true,
     "schema_version": 3,
     "solution": false,
     "task": false
    }
   },
   "outputs": [
    {
     "name": "stdout",
     "output_type": "stream",
     "text": [
      "Training Model\n"
     ]
    },
    {
     "data": {
      "application/vnd.jupyter.widget-view+json": {
       "model_id": "7144d7b9a15c400bbf58bd7a11c53e41",
       "version_major": 2,
       "version_minor": 0
      },
      "text/plain": [
       "  0%|          | 0/2735 [00:00<?, ?it/s]"
      ]
     },
     "metadata": {},
     "output_type": "display_data"
    },
    {
     "data": {
      "application/vnd.jupyter.widget-view+json": {
       "model_id": "",
       "version_major": 2,
       "version_minor": 0
      },
      "text/plain": [
       "Eval (train):   0%|          | 0/333 [00:00<?, ?it/s]"
      ]
     },
     "metadata": {},
     "output_type": "display_data"
    },
    {
     "name": "stdout",
     "output_type": "stream",
     "text": [
      "\"metric\": \"mean\" (\"standard deviation\")\n",
      "dcg: 103.2498 (24.19599)\n",
      "dcg@03: 16.5901 (7.93330)\n",
      "dcg@05: 21.2958 (9.23700)\n",
      "dcg@10: 28.9273 (10.63910)\n",
      "dcg@20: 38.7112 (12.30825)\n",
      "ndcg: 0.8330 (0.05374)\n",
      "ndcg@03: 0.5842 (0.24078)\n",
      "ndcg@05: 0.5686 (0.20062)\n",
      "ndcg@10: 0.5677 (0.15635)\n",
      "ndcg@20: 0.5807 (0.12416)\n",
      "precision@01: 0.7087 (0.45436)\n",
      "precision@03: 0.5906 (0.32092)\n",
      "precision@05: 0.5339 (0.27371)\n",
      "precision@10: 0.4462 (0.21524)\n",
      "precision@20: 0.3545 (0.16301)\n",
      "recall@01: 0.0348 (0.03315)\n",
      "recall@03: 0.0877 (0.06808)\n",
      "recall@05: 0.1288 (0.08150)\n",
      "recall@10: 0.2109 (0.11655)\n",
      "recall@20: 0.3228 (0.13961)\n",
      "relevant rank: 65.5328 (59.89885)\n",
      "relevant rank per query: 1556.8468 (956.29913)\n"
     ]
    },
    {
     "data": {
      "application/vnd.jupyter.widget-view+json": {
       "model_id": "",
       "version_major": 2,
       "version_minor": 0
      },
      "text/plain": [
       "Eval (validation):   0%|          | 0/50 [00:00<?, ?it/s]"
      ]
     },
     "metadata": {},
     "output_type": "display_data"
    },
    {
     "name": "stdout",
     "output_type": "stream",
     "text": [
      "\"metric\": \"mean\" (\"standard deviation\")\n",
      "dcg: 103.9351 (22.97823)\n",
      "dcg@03: 17.2827 (7.25273)\n",
      "dcg@05: 22.9266 (8.20611)\n",
      "dcg@10: 30.3611 (9.36442)\n",
      "dcg@20: 40.1882 (10.64456)\n",
      "ndcg: 0.8388 (0.04848)\n",
      "ndcg@03: 0.6060 (0.23748)\n",
      "ndcg@05: 0.6115 (0.19110)\n",
      "ndcg@10: 0.5913 (0.13932)\n",
      "ndcg@20: 0.5989 (0.11314)\n",
      "precision@01: 0.7000 (0.45826)\n",
      "precision@03: 0.5800 (0.30412)\n",
      "precision@05: 0.5680 (0.24449)\n",
      "precision@10: 0.4500 (0.17234)\n",
      "precision@20: 0.3600 (0.13892)\n",
      "recall@01: 0.0372 (0.03222)\n",
      "recall@03: 0.0856 (0.05877)\n",
      "recall@05: 0.1394 (0.08126)\n",
      "recall@10: 0.2152 (0.10682)\n",
      "recall@20: 0.3323 (0.13451)\n",
      "relevant rank: 64.3353 (60.01039)\n",
      "relevant rank per query: 1519.6000 (911.74672)\n",
      "train:  {'ndcg': (0.8329703230736423, 0.05374288221310458)}\n",
      "validation:  {'ndcg': (0.838831229731722, 0.04847582265511521)}\n"
     ]
    },
    {
     "data": {
      "application/vnd.jupyter.widget-view+json": {
       "model_id": "a97d8985bb3849d394b4271086596a6e",
       "version_major": 2,
       "version_minor": 0
      },
      "text/plain": [
       "  0%|          | 0/2735 [00:00<?, ?it/s]"
      ]
     },
     "metadata": {},
     "output_type": "display_data"
    },
    {
     "data": {
      "application/vnd.jupyter.widget-view+json": {
       "model_id": "",
       "version_major": 2,
       "version_minor": 0
      },
      "text/plain": [
       "Eval (train):   0%|          | 0/333 [00:00<?, ?it/s]"
      ]
     },
     "metadata": {},
     "output_type": "display_data"
    },
    {
     "name": "stdout",
     "output_type": "stream",
     "text": [
      "\"metric\": \"mean\" (\"standard deviation\")\n",
      "dcg: 104.4975 (24.47727)\n",
      "dcg@03: 17.9347 (8.23018)\n",
      "dcg@05: 22.7757 (9.45806)\n",
      "dcg@10: 30.5649 (11.07872)\n",
      "dcg@20: 40.2842 (12.78175)\n",
      "ndcg: 0.8430 (0.05361)\n",
      "ndcg@03: 0.6278 (0.24577)\n",
      "ndcg@05: 0.6066 (0.20132)\n",
      "ndcg@10: 0.5982 (0.15951)\n",
      "ndcg@20: 0.6035 (0.12615)\n",
      "precision@01: 0.7357 (0.44094)\n",
      "precision@03: 0.6426 (0.32588)\n",
      "precision@05: 0.5706 (0.27548)\n",
      "precision@10: 0.4625 (0.21379)\n",
      "precision@20: 0.3631 (0.16927)\n",
      "recall@01: 0.0381 (0.03693)\n",
      "recall@03: 0.0959 (0.07181)\n",
      "recall@05: 0.1376 (0.08769)\n",
      "recall@10: 0.2177 (0.11649)\n",
      "recall@20: 0.3298 (0.14101)\n",
      "relevant rank: 64.0922 (59.35122)\n",
      "relevant rank per query: 1522.6216 (958.26106)\n"
     ]
    },
    {
     "data": {
      "application/vnd.jupyter.widget-view+json": {
       "model_id": "",
       "version_major": 2,
       "version_minor": 0
      },
      "text/plain": [
       "Eval (validation):   0%|          | 0/50 [00:00<?, ?it/s]"
      ]
     },
     "metadata": {},
     "output_type": "display_data"
    },
    {
     "name": "stdout",
     "output_type": "stream",
     "text": [
      "\"metric\": \"mean\" (\"standard deviation\")\n",
      "dcg: 105.7124 (23.33647)\n",
      "dcg@03: 19.5934 (7.99098)\n",
      "dcg@05: 24.4802 (8.84660)\n",
      "dcg@10: 32.5115 (10.16125)\n",
      "dcg@20: 42.6015 (11.57167)\n",
      "ndcg: 0.8522 (0.05080)\n",
      "ndcg@03: 0.6709 (0.24651)\n",
      "ndcg@05: 0.6444 (0.20399)\n",
      "ndcg@10: 0.6266 (0.14727)\n",
      "ndcg@20: 0.6308 (0.11753)\n",
      "precision@01: 0.7400 (0.43863)\n",
      "precision@03: 0.7000 (0.30000)\n",
      "precision@05: 0.6200 (0.23749)\n",
      "precision@10: 0.5040 (0.17772)\n",
      "precision@20: 0.3910 (0.12988)\n",
      "recall@01: 0.0365 (0.02923)\n",
      "recall@03: 0.1048 (0.06624)\n",
      "recall@05: 0.1522 (0.08574)\n",
      "recall@10: 0.2390 (0.11259)\n",
      "recall@20: 0.3641 (0.12978)\n",
      "relevant rank: 61.9424 (60.09322)\n",
      "relevant rank per query: 1463.0800 (978.08490)\n",
      "train:  {'recall@05': (0.12876298615565415, 0.08150177258841823)}\n",
      "validation:  {'recall@05': (0.13941476683484225, 0.08126415109948922)}\n"
     ]
    },
    {
     "data": {
      "application/vnd.jupyter.widget-view+json": {
       "model_id": "815f57dd2b4f41ff90edaae0f8bf5d26",
       "version_major": 2,
       "version_minor": 0
      },
      "text/plain": [
       "  0%|          | 0/2735 [00:00<?, ?it/s]"
      ]
     },
     "metadata": {},
     "output_type": "display_data"
    },
    {
     "data": {
      "application/vnd.jupyter.widget-view+json": {
       "model_id": "",
       "version_major": 2,
       "version_minor": 0
      },
      "text/plain": [
       "Eval (train):   0%|          | 0/333 [00:00<?, ?it/s]"
      ]
     },
     "metadata": {},
     "output_type": "display_data"
    },
    {
     "name": "stdout",
     "output_type": "stream",
     "text": [
      "\"metric\": \"mean\" (\"standard deviation\")\n",
      "dcg: 104.4588 (24.29390)\n",
      "dcg@03: 17.5456 (7.91339)\n",
      "dcg@05: 22.4320 (9.06393)\n",
      "dcg@10: 30.2850 (10.77632)\n",
      "dcg@20: 40.2300 (12.35187)\n",
      "ndcg: 0.8429 (0.05140)\n",
      "ndcg@03: 0.6172 (0.23604)\n",
      "ndcg@05: 0.5999 (0.19577)\n",
      "ndcg@10: 0.5936 (0.15459)\n",
      "ndcg@20: 0.6039 (0.12149)\n",
      "precision@01: 0.7207 (0.44865)\n",
      "precision@03: 0.6306 (0.32682)\n",
      "precision@05: 0.5694 (0.27709)\n",
      "precision@10: 0.4631 (0.21474)\n",
      "precision@20: 0.3692 (0.16583)\n",
      "recall@01: 0.0378 (0.03871)\n",
      "recall@03: 0.0934 (0.06730)\n",
      "recall@05: 0.1383 (0.08863)\n",
      "recall@10: 0.2190 (0.11795)\n",
      "recall@20: 0.3374 (0.14754)\n",
      "relevant rank: 62.9281 (58.60201)\n",
      "relevant rank per query: 1494.9670 (945.48908)\n"
     ]
    },
    {
     "data": {
      "application/vnd.jupyter.widget-view+json": {
       "model_id": "",
       "version_major": 2,
       "version_minor": 0
      },
      "text/plain": [
       "Eval (validation):   0%|          | 0/50 [00:00<?, ?it/s]"
      ]
     },
     "metadata": {},
     "output_type": "display_data"
    },
    {
     "name": "stdout",
     "output_type": "stream",
     "text": [
      "\"metric\": \"mean\" (\"standard deviation\")\n",
      "dcg: 104.4853 (22.27148)\n",
      "dcg@03: 16.8820 (6.10978)\n",
      "dcg@05: 22.6180 (7.07203)\n",
      "dcg@10: 31.2318 (9.00068)\n",
      "dcg@20: 41.3442 (10.19474)\n",
      "ndcg: 0.8441 (0.04367)\n",
      "ndcg@03: 0.5955 (0.20314)\n",
      "ndcg@05: 0.6044 (0.16720)\n",
      "ndcg@10: 0.6075 (0.12709)\n",
      "ndcg@20: 0.6167 (0.10337)\n",
      "precision@01: 0.6800 (0.46648)\n",
      "precision@03: 0.5933 (0.24304)\n",
      "precision@05: 0.5880 (0.22058)\n",
      "precision@10: 0.4960 (0.17772)\n",
      "precision@20: 0.3890 (0.13903)\n",
      "recall@01: 0.0379 (0.03568)\n",
      "recall@03: 0.0899 (0.05307)\n",
      "recall@05: 0.1506 (0.08644)\n",
      "recall@10: 0.2400 (0.12167)\n",
      "recall@20: 0.3624 (0.14696)\n",
      "relevant rank: 61.9069 (59.60778)\n",
      "relevant rank per query: 1462.2400 (971.37631)\n",
      "train:  {'precision@05': (0.533933933933934, 0.2737052323099313)}\n",
      "validation:  {'precision@05': (0.5680000000000001, 0.24449130863897803)}\n"
     ]
    },
    {
     "data": {
      "application/vnd.jupyter.widget-view+json": {
       "model_id": "8a32d7c2e6144e6a9ed1826cd128a2d2",
       "version_major": 2,
       "version_minor": 0
      },
      "text/plain": [
       "  0%|          | 0/2735 [00:00<?, ?it/s]"
      ]
     },
     "metadata": {},
     "output_type": "display_data"
    },
    {
     "data": {
      "application/vnd.jupyter.widget-view+json": {
       "model_id": "",
       "version_major": 2,
       "version_minor": 0
      },
      "text/plain": [
       "Eval (train):   0%|          | 0/333 [00:00<?, ?it/s]"
      ]
     },
     "metadata": {},
     "output_type": "display_data"
    },
    {
     "name": "stdout",
     "output_type": "stream",
     "text": [
      "\"metric\": \"mean\" (\"standard deviation\")\n",
      "dcg: 104.8600 (24.54958)\n",
      "dcg@03: 18.0152 (7.96326)\n",
      "dcg@05: 22.9445 (9.09833)\n",
      "dcg@10: 31.0182 (10.95916)\n",
      "dcg@20: 40.6914 (12.70405)\n",
      "ndcg: 0.8459 (0.05115)\n",
      "ndcg@03: 0.6321 (0.23675)\n",
      "ndcg@05: 0.6120 (0.19155)\n",
      "ndcg@10: 0.6068 (0.15368)\n",
      "ndcg@20: 0.6093 (0.12212)\n",
      "precision@01: 0.7508 (0.43258)\n",
      "precision@03: 0.6607 (0.32671)\n",
      "precision@05: 0.5844 (0.27552)\n",
      "precision@10: 0.4760 (0.21980)\n",
      "precision@20: 0.3677 (0.16748)\n",
      "recall@01: 0.0374 (0.03354)\n",
      "recall@03: 0.0979 (0.06882)\n",
      "recall@05: 0.1420 (0.09157)\n",
      "recall@10: 0.2230 (0.11490)\n",
      "recall@20: 0.3327 (0.13858)\n",
      "relevant rank: 63.1704 (58.91095)\n",
      "relevant rank per query: 1500.7237 (949.10754)\n"
     ]
    },
    {
     "data": {
      "application/vnd.jupyter.widget-view+json": {
       "model_id": "",
       "version_major": 2,
       "version_minor": 0
      },
      "text/plain": [
       "Eval (validation):   0%|          | 0/50 [00:00<?, ?it/s]"
      ]
     },
     "metadata": {},
     "output_type": "display_data"
    },
    {
     "name": "stdout",
     "output_type": "stream",
     "text": [
      "\"metric\": \"mean\" (\"standard deviation\")\n",
      "dcg: 105.6324 (23.06730)\n",
      "dcg@03: 19.1220 (7.46347)\n",
      "dcg@05: 24.3441 (8.50751)\n",
      "dcg@10: 32.4787 (10.08336)\n",
      "dcg@20: 42.7608 (11.65644)\n",
      "ndcg: 0.8523 (0.04969)\n",
      "ndcg@03: 0.6639 (0.22429)\n",
      "ndcg@05: 0.6443 (0.19227)\n",
      "ndcg@10: 0.6289 (0.14596)\n",
      "ndcg@20: 0.6339 (0.11391)\n",
      "precision@01: 0.7400 (0.43863)\n",
      "precision@03: 0.6867 (0.27006)\n",
      "precision@05: 0.6280 (0.23327)\n",
      "precision@10: 0.5000 (0.18000)\n",
      "precision@20: 0.3910 (0.14481)\n",
      "recall@01: 0.0368 (0.02939)\n",
      "recall@03: 0.1052 (0.06065)\n",
      "recall@05: 0.1564 (0.07872)\n",
      "recall@10: 0.2427 (0.11796)\n",
      "recall@20: 0.3614 (0.13380)\n",
      "relevant rank: 61.9179 (60.07001)\n",
      "relevant rank per query: 1462.5000 (991.69165)\n",
      "train:  {'ndcg': (0.8429503623636513, 0.05360855870139251)}\n",
      "validation:  {'ndcg': (0.8522105471759812, 0.050798190547326455)}\n"
     ]
    },
    {
     "data": {
      "application/vnd.jupyter.widget-view+json": {
       "model_id": "a69121ef503844359948618baebc2072",
       "version_major": 2,
       "version_minor": 0
      },
      "text/plain": [
       "  0%|          | 0/2735 [00:00<?, ?it/s]"
      ]
     },
     "metadata": {},
     "output_type": "display_data"
    },
    {
     "data": {
      "application/vnd.jupyter.widget-view+json": {
       "model_id": "",
       "version_major": 2,
       "version_minor": 0
      },
      "text/plain": [
       "Eval (train):   0%|          | 0/333 [00:00<?, ?it/s]"
      ]
     },
     "metadata": {},
     "output_type": "display_data"
    },
    {
     "name": "stdout",
     "output_type": "stream",
     "text": [
      "\"metric\": \"mean\" (\"standard deviation\")\n",
      "dcg: 105.2416 (24.55953)\n",
      "dcg@03: 18.2497 (8.05316)\n",
      "dcg@05: 23.4758 (9.22343)\n",
      "dcg@10: 31.5857 (11.15909)\n",
      "dcg@20: 41.4644 (12.73515)\n",
      "ndcg: 0.8491 (0.05190)\n",
      "ndcg@03: 0.6391 (0.23357)\n",
      "ndcg@05: 0.6248 (0.18787)\n",
      "ndcg@10: 0.6178 (0.15290)\n",
      "ndcg@20: 0.6224 (0.12328)\n",
      "precision@01: 0.7658 (0.42352)\n",
      "precision@03: 0.6577 (0.32817)\n",
      "precision@05: 0.5964 (0.27550)\n",
      "precision@10: 0.4865 (0.21844)\n",
      "precision@20: 0.3818 (0.17074)\n",
      "recall@01: 0.0396 (0.03799)\n",
      "recall@03: 0.0972 (0.06992)\n",
      "recall@05: 0.1440 (0.08909)\n",
      "recall@10: 0.2272 (0.11246)\n",
      "recall@20: 0.3496 (0.14607)\n",
      "relevant rank: 63.6169 (60.00305)\n",
      "relevant rank per query: 1511.3303 (938.58738)\n"
     ]
    },
    {
     "data": {
      "application/vnd.jupyter.widget-view+json": {
       "model_id": "",
       "version_major": 2,
       "version_minor": 0
      },
      "text/plain": [
       "Eval (validation):   0%|          | 0/50 [00:00<?, ?it/s]"
      ]
     },
     "metadata": {},
     "output_type": "display_data"
    },
    {
     "name": "stdout",
     "output_type": "stream",
     "text": [
      "\"metric\": \"mean\" (\"standard deviation\")\n",
      "dcg: 105.9826 (23.29166)\n",
      "dcg@03: 19.7429 (7.85162)\n",
      "dcg@05: 24.5148 (8.62244)\n",
      "dcg@10: 32.9599 (10.41657)\n",
      "dcg@20: 42.7632 (11.26396)\n",
      "ndcg: 0.8549 (0.05223)\n",
      "ndcg@03: 0.6826 (0.23584)\n",
      "ndcg@05: 0.6466 (0.19158)\n",
      "ndcg@10: 0.6365 (0.14659)\n",
      "ndcg@20: 0.6357 (0.12061)\n",
      "precision@01: 0.7800 (0.41425)\n",
      "precision@03: 0.7067 (0.29545)\n",
      "precision@05: 0.6240 (0.23880)\n",
      "precision@10: 0.5020 (0.18165)\n",
      "precision@20: 0.3860 (0.13966)\n",
      "recall@01: 0.0397 (0.03019)\n",
      "recall@03: 0.1084 (0.06610)\n",
      "recall@05: 0.1536 (0.08248)\n",
      "recall@10: 0.2408 (0.11590)\n",
      "recall@20: 0.3590 (0.14531)\n",
      "relevant rank: 61.4759 (59.41653)\n",
      "relevant rank per query: 1452.0600 (936.78921)\n",
      "train:  {'recall@05': (0.13764819731938938, 0.08769436083511695)}\n",
      "validation:  {'recall@05': (0.15223316851133128, 0.0857444995908186)}\n"
     ]
    },
    {
     "data": {
      "application/vnd.jupyter.widget-view+json": {
       "model_id": "2a53f6423a9e4d68bce5953e865c05d8",
       "version_major": 2,
       "version_minor": 0
      },
      "text/plain": [
       "  0%|          | 0/2735 [00:00<?, ?it/s]"
      ]
     },
     "metadata": {},
     "output_type": "display_data"
    },
    {
     "data": {
      "application/vnd.jupyter.widget-view+json": {
       "model_id": "",
       "version_major": 2,
       "version_minor": 0
      },
      "text/plain": [
       "Eval (train):   0%|          | 0/333 [00:00<?, ?it/s]"
      ]
     },
     "metadata": {},
     "output_type": "display_data"
    },
    {
     "name": "stdout",
     "output_type": "stream",
     "text": [
      "\"metric\": \"mean\" (\"standard deviation\")\n",
      "dcg: 105.2209 (24.58374)\n",
      "dcg@03: 18.2936 (7.91682)\n",
      "dcg@05: 23.4149 (9.25033)\n",
      "dcg@10: 31.3567 (11.21000)\n",
      "dcg@20: 41.2841 (12.88709)\n",
      "ndcg: 0.8491 (0.05199)\n",
      "ndcg@03: 0.6425 (0.22678)\n",
      "ndcg@05: 0.6240 (0.18923)\n",
      "ndcg@10: 0.6136 (0.15456)\n",
      "ndcg@20: 0.6195 (0.12647)\n",
      "precision@01: 0.7658 (0.42352)\n",
      "precision@03: 0.6627 (0.31104)\n",
      "precision@05: 0.5928 (0.27674)\n",
      "precision@10: 0.4781 (0.22428)\n",
      "precision@20: 0.3760 (0.16906)\n",
      "recall@01: 0.0402 (0.03842)\n",
      "recall@03: 0.0993 (0.07269)\n",
      "recall@05: 0.1446 (0.09404)\n",
      "recall@10: 0.2252 (0.12183)\n",
      "recall@20: 0.3432 (0.14581)\n",
      "relevant rank: 63.2369 (59.51219)\n",
      "relevant rank per query: 1502.3033 (931.27733)\n"
     ]
    },
    {
     "data": {
      "application/vnd.jupyter.widget-view+json": {
       "model_id": "",
       "version_major": 2,
       "version_minor": 0
      },
      "text/plain": [
       "Eval (validation):   0%|          | 0/50 [00:00<?, ?it/s]"
      ]
     },
     "metadata": {},
     "output_type": "display_data"
    },
    {
     "name": "stdout",
     "output_type": "stream",
     "text": [
      "\"metric\": \"mean\" (\"standard deviation\")\n",
      "dcg: 105.3547 (22.98636)\n",
      "dcg@03: 18.4605 (7.56613)\n",
      "dcg@05: 24.5440 (8.53474)\n",
      "dcg@10: 32.5942 (9.78800)\n",
      "dcg@20: 42.1658 (11.18094)\n",
      "ndcg: 0.8506 (0.04936)\n",
      "ndcg@03: 0.6400 (0.22418)\n",
      "ndcg@05: 0.6496 (0.18564)\n",
      "ndcg@10: 0.6321 (0.13823)\n",
      "ndcg@20: 0.6284 (0.11912)\n",
      "precision@01: 0.7400 (0.43863)\n",
      "precision@03: 0.6400 (0.28158)\n",
      "precision@05: 0.6400 (0.23664)\n",
      "precision@10: 0.5140 (0.18763)\n",
      "precision@20: 0.3860 (0.15068)\n",
      "recall@01: 0.0408 (0.03585)\n",
      "recall@03: 0.0985 (0.06163)\n",
      "recall@05: 0.1648 (0.10013)\n",
      "recall@10: 0.2512 (0.13062)\n",
      "recall@20: 0.3574 (0.14832)\n",
      "relevant rank: 62.6384 (60.52222)\n",
      "relevant rank per query: 1479.5200 (962.99479)\n",
      "train:  {'precision@05': (0.5705705705705706, 0.2754826046054723)}\n",
      "validation:  {'precision@05': (0.62, 0.23748684174075835)}\n"
     ]
    },
    {
     "data": {
      "application/vnd.jupyter.widget-view+json": {
       "model_id": "636e38970759465f968c32f899d848a7",
       "version_major": 2,
       "version_minor": 0
      },
      "text/plain": [
       "  0%|          | 0/2735 [00:00<?, ?it/s]"
      ]
     },
     "metadata": {},
     "output_type": "display_data"
    },
    {
     "data": {
      "application/vnd.jupyter.widget-view+json": {
       "model_id": "",
       "version_major": 2,
       "version_minor": 0
      },
      "text/plain": [
       "Eval (train):   0%|          | 0/333 [00:00<?, ?it/s]"
      ]
     },
     "metadata": {},
     "output_type": "display_data"
    },
    {
     "name": "stdout",
     "output_type": "stream",
     "text": [
      "\"metric\": \"mean\" (\"standard deviation\")\n",
      "dcg: 105.8832 (24.63431)\n",
      "dcg@03: 18.8472 (8.13408)\n",
      "dcg@05: 24.0578 (9.39657)\n",
      "dcg@10: 32.4285 (11.14083)\n",
      "dcg@20: 42.3010 (12.96395)\n",
      "ndcg: 0.8544 (0.05068)\n",
      "ndcg@03: 0.6598 (0.23282)\n",
      "ndcg@05: 0.6410 (0.19017)\n",
      "ndcg@10: 0.6347 (0.14877)\n",
      "ndcg@20: 0.6346 (0.12355)\n",
      "precision@01: 0.7778 (0.41574)\n",
      "precision@03: 0.6717 (0.31049)\n",
      "precision@05: 0.6078 (0.26812)\n",
      "precision@10: 0.4994 (0.21658)\n",
      "precision@20: 0.3886 (0.17318)\n",
      "recall@01: 0.0406 (0.03826)\n",
      "recall@03: 0.1007 (0.07325)\n",
      "recall@05: 0.1481 (0.08997)\n",
      "recall@10: 0.2366 (0.12131)\n",
      "recall@20: 0.3556 (0.14872)\n",
      "relevant rank: 61.6769 (58.44012)\n",
      "relevant rank per query: 1465.2432 (924.16890)\n"
     ]
    },
    {
     "data": {
      "application/vnd.jupyter.widget-view+json": {
       "model_id": "",
       "version_major": 2,
       "version_minor": 0
      },
      "text/plain": [
       "Eval (validation):   0%|          | 0/50 [00:00<?, ?it/s]"
      ]
     },
     "metadata": {},
     "output_type": "display_data"
    },
    {
     "name": "stdout",
     "output_type": "stream",
     "text": [
      "\"metric\": \"mean\" (\"standard deviation\")\n",
      "dcg: 106.0767 (23.37777)\n",
      "dcg@03: 19.4446 (8.10219)\n",
      "dcg@05: 24.8511 (9.60693)\n",
      "dcg@10: 33.2677 (10.73826)\n",
      "dcg@20: 42.9724 (11.90964)\n",
      "ndcg: 0.8554 (0.05255)\n",
      "ndcg@03: 0.6663 (0.24534)\n",
      "ndcg@05: 0.6506 (0.21501)\n",
      "ndcg@10: 0.6403 (0.15057)\n",
      "ndcg@20: 0.6369 (0.12701)\n",
      "precision@01: 0.7800 (0.41425)\n",
      "precision@03: 0.6933 (0.29695)\n",
      "precision@05: 0.6320 (0.26339)\n",
      "precision@10: 0.5180 (0.17628)\n",
      "precision@20: 0.3950 (0.13757)\n",
      "recall@01: 0.0394 (0.02968)\n",
      "recall@03: 0.1061 (0.06507)\n",
      "recall@05: 0.1600 (0.10164)\n",
      "recall@10: 0.2515 (0.12192)\n",
      "recall@20: 0.3694 (0.14196)\n",
      "relevant rank: 61.2667 (59.80771)\n",
      "relevant rank per query: 1447.1200 (942.18535)\n",
      "train:  {'ndcg': (0.8429071089281188, 0.05140222118623091)}\n",
      "validation:  {'ndcg': (0.8440664034943179, 0.04366879558608025)}\n"
     ]
    },
    {
     "data": {
      "application/vnd.jupyter.widget-view+json": {
       "model_id": "d35e8f71f2124967b4ce9a2927ebbd7d",
       "version_major": 2,
       "version_minor": 0
      },
      "text/plain": [
       "  0%|          | 0/2735 [00:00<?, ?it/s]"
      ]
     },
     "metadata": {},
     "output_type": "display_data"
    },
    {
     "data": {
      "application/vnd.jupyter.widget-view+json": {
       "model_id": "",
       "version_major": 2,
       "version_minor": 0
      },
      "text/plain": [
       "Eval (train):   0%|          | 0/333 [00:00<?, ?it/s]"
      ]
     },
     "metadata": {},
     "output_type": "display_data"
    },
    {
     "name": "stdout",
     "output_type": "stream",
     "text": [
      "\"metric\": \"mean\" (\"standard deviation\")\n",
      "dcg: 105.6039 (24.44439)\n",
      "dcg@03: 18.5149 (7.77076)\n",
      "dcg@05: 23.6537 (9.18138)\n",
      "dcg@10: 31.7457 (11.10478)\n",
      "dcg@20: 41.8261 (12.86932)\n",
      "ndcg: 0.8524 (0.04932)\n",
      "ndcg@03: 0.6508 (0.22357)\n",
      "ndcg@05: 0.6301 (0.18512)\n",
      "ndcg@10: 0.6213 (0.14925)\n",
      "ndcg@20: 0.6274 (0.12099)\n",
      "precision@01: 0.7928 (0.40531)\n",
      "precision@03: 0.6727 (0.31421)\n",
      "precision@05: 0.5982 (0.27311)\n",
      "precision@10: 0.4895 (0.22106)\n",
      "precision@20: 0.3835 (0.16858)\n",
      "recall@01: 0.0417 (0.03800)\n",
      "recall@03: 0.1005 (0.06849)\n",
      "recall@05: 0.1466 (0.09142)\n",
      "recall@10: 0.2318 (0.11810)\n",
      "recall@20: 0.3521 (0.15127)\n",
      "relevant rank: 61.6298 (58.60338)\n",
      "relevant rank per query: 1464.1231 (942.15105)\n"
     ]
    },
    {
     "data": {
      "application/vnd.jupyter.widget-view+json": {
       "model_id": "",
       "version_major": 2,
       "version_minor": 0
      },
      "text/plain": [
       "Eval (validation):   0%|          | 0/50 [00:00<?, ?it/s]"
      ]
     },
     "metadata": {},
     "output_type": "display_data"
    },
    {
     "name": "stdout",
     "output_type": "stream",
     "text": [
      "\"metric\": \"mean\" (\"standard deviation\")\n",
      "dcg: 105.8778 (23.33146)\n",
      "dcg@03: 19.4343 (7.21966)\n",
      "dcg@05: 24.3843 (8.44104)\n",
      "dcg@10: 32.2662 (10.00981)\n",
      "dcg@20: 43.3384 (11.95248)\n",
      "ndcg: 0.8540 (0.04923)\n",
      "ndcg@03: 0.6769 (0.21732)\n",
      "ndcg@05: 0.6462 (0.18553)\n",
      "ndcg@10: 0.6236 (0.13898)\n",
      "ndcg@20: 0.6426 (0.11648)\n",
      "precision@01: 0.7400 (0.43863)\n",
      "precision@03: 0.7000 (0.26034)\n",
      "precision@05: 0.6280 (0.23668)\n",
      "precision@10: 0.4980 (0.18814)\n",
      "precision@20: 0.4130 (0.15225)\n",
      "recall@01: 0.0410 (0.03578)\n",
      "recall@03: 0.1070 (0.06145)\n",
      "recall@05: 0.1558 (0.08480)\n",
      "recall@10: 0.2383 (0.11982)\n",
      "recall@20: 0.3812 (0.13989)\n",
      "relevant rank: 61.5080 (60.31318)\n",
      "relevant rank per query: 1452.8200 (945.12923)\n",
      "train:  {'recall@05': (0.13830284356152528, 0.08863491167324916)}\n",
      "validation:  {'recall@05': (0.15063545470868767, 0.08644288808396973)}\n"
     ]
    },
    {
     "data": {
      "application/vnd.jupyter.widget-view+json": {
       "model_id": "",
       "version_major": 2,
       "version_minor": 0
      },
      "text/plain": [
       "Eval (test):   0%|          | 0/117 [00:00<?, ?it/s]"
      ]
     },
     "metadata": {},
     "output_type": "display_data"
    },
    {
     "name": "stdout",
     "output_type": "stream",
     "text": [
      "\"metric\": \"mean\" (\"standard deviation\")\n",
      "dcg: 109.6786 (23.97196)\n",
      "dcg@03: 18.8692 (7.94774)\n",
      "dcg@05: 23.7858 (8.98083)\n",
      "dcg@10: 31.9698 (10.93898)\n",
      "dcg@20: 42.2476 (13.04956)\n",
      "ndcg: 0.8469 (0.05312)\n",
      "ndcg@03: 0.6490 (0.23723)\n",
      "ndcg@05: 0.6212 (0.18912)\n",
      "ndcg@10: 0.6116 (0.15540)\n",
      "ndcg@20: 0.6162 (0.12988)\n",
      "precision@01: 0.7692 (0.42133)\n",
      "precision@03: 0.6980 (0.29230)\n",
      "precision@05: 0.6120 (0.26056)\n",
      "precision@10: 0.5068 (0.22100)\n",
      "precision@20: 0.4017 (0.17997)\n",
      "recall@01: 0.0354 (0.02836)\n",
      "recall@03: 0.0935 (0.05669)\n",
      "recall@05: 0.1336 (0.07548)\n",
      "recall@10: 0.2172 (0.10909)\n",
      "recall@20: 0.3311 (0.13181)\n",
      "relevant rank: 65.9861 (62.47708)\n",
      "relevant rank per query: 1698.1538 (1015.61874)\n"
     ]
    }
   ],
   "source": [
    "seed(42)\n",
    "params = Namespace(epochs=8, \n",
    "                    lr=1e-3,\n",
    "                    batch_size=1,\n",
    "                    metrics={\"ndcg\", \"precision@05\", \"recall@05\"})\n",
    "pairwise_model = NeuralModule(1)\n",
    "\n",
    "create_results(pairwise_model, \n",
    "               train_pairwise_spedup, \n",
    "               pairwise_model,\n",
    "               \"./pairwise.json\",\n",
    "               params)\n",
    "# persist model\n",
    "torch.save(pairwise_model.state_dict(), \"./pairwise_wt\")"
   ]
  },
  {
   "cell_type": "markdown",
   "metadata": {
    "deletable": false,
    "nbgrader": {
     "cell_type": "markdown",
     "checksum": "3cc6f1a702be838b6e26733b089d5bda",
     "grade": true,
     "grade_id": "cell-8aad7ba1f8c6c23c",
     "locked": false,
     "points": 35,
     "schema_version": 3,
     "solution": true,
     "task": false
    }
   },
   "source": [
    "YOUR ANSWER HERE"
   ]
  },
  {
   "cell_type": "code",
   "execution_count": 39,
   "metadata": {
    "deletable": false,
    "editable": false,
    "nbgrader": {
     "cell_type": "code",
     "checksum": "5b46d1ebc1676bc1dbce629b0a978326",
     "grade": true,
     "grade_id": "cell-3dc8ee835753e5aa",
     "locked": true,
     "points": 15,
     "schema_version": 3,
     "solution": false,
     "task": false
    }
   },
   "outputs": [],
   "source": [
    "assert os.path.exists(\"./pairwise.json\")"
   ]
  },
  {
   "cell_type": "markdown",
   "metadata": {
    "deletable": false,
    "editable": false,
    "nbgrader": {
     "cell_type": "markdown",
     "checksum": "60ad8126d68fcf4814988ad22c335c2a",
     "grade": false,
     "grade_id": "cell-14e048f55b2e6aea",
     "locked": true,
     "schema_version": 3,
     "solution": false,
     "task": false
    }
   },
   "source": [
    "##  Section 5: Listwise LTR (80 points) <a class=\"anchor\" id=\"listwiseLTR\"></a>\n",
    "\n",
    "[Back to TOC](#top)\n",
    "\n",
    "In this section, you will implement LambdaRank, a listwise approach to LTR. Consider the computation of $\\lambda$ for sped-up RankNet (that you've already implemented). $\\lambda$ here amounts to the 'force' on a document given its neighbours in the ranked list. The design of $\\lambda$ in LambdaRank is similar to RankNet, but is scaled by DCG gain from swapping the two documents in question. Let's suppose that the corresponding ranks of doucment $D_i$ and $D_j$ are $r_i$ and $r_j$ respectively. Given a ranking measure $IRM$, such as $NDCG$ or $ERR$, the lambda function in LambdaRank is defined as:\n",
    "\n",
    "\n",
    "$$        \\frac{\\partial C}{\\partial s_i} = \\sum_{j \\in D} \\lambda_{ij} \\cdot |\\bigtriangleup IRM (i,j)| $$\n",
    "\n",
    "Where $|\\bigtriangleup IRM(i,j)|$ is the absolute difference in $IRM$ after swapping the rank positions $r_i$ and $r_j$ while leaving everything else unchanged ($| \\cdot |$ denotes the absolute value). Note that we do not backpropogate $|\\bigtriangleup IRM|$, it is treated as a constant that scales the gradients. In this assignment we will use $|\\bigtriangleup NDCG|$"
   ]
  },
  {
   "cell_type": "markdown",
   "metadata": {
    "deletable": false,
    "editable": false,
    "nbgrader": {
     "cell_type": "markdown",
     "checksum": "0caedecf5dcfd8b561a99f58ea756abd",
     "grade": false,
     "grade_id": "cell-351c194e6797d0a0",
     "locked": true,
     "schema_version": 3,
     "solution": false,
     "task": false
    }
   },
   "source": [
    "**Implementation (30 points):**\n",
    "Implement the listwise loss.\n",
    "\n",
    "**Rubric:**\n",
    " - Each ordering <i,j> combination is considered: 10 points\n",
    " - Computing $|\\bigtriangleup NDCG|$: 10 points \n",
    " - Proper application of the formula: 10 points "
   ]
  },
  {
   "cell_type": "code",
   "execution_count": 40,
   "metadata": {
    "deletable": false,
    "nbgrader": {
     "cell_type": "code",
     "checksum": "a0ba4266e951c80236d3dc6f0e0c32a5",
     "grade": false,
     "grade_id": "cell-48f6a2a1c4a529b6",
     "locked": false,
     "schema_version": 3,
     "solution": true,
     "task": false
    }
   },
   "outputs": [],
   "source": [
    "# TODO: Implement this! (30 points)\n",
    "def listwise_loss(scores, labels):\n",
    "    \n",
    "    \"\"\"\n",
    "    Compute the LambdaRank loss. (assume sigma=1.)\n",
    "    \n",
    "    scores: tensor of size [N, 1] (the output of a neural network), where N = length of <query, document> pairs\n",
    "    labels: tensor of size [N], contains the relevance labels \n",
    "    \n",
    "    returns: a tensor of size [N, 1]\n",
    "    \"\"\"\n",
    "    \n",
    "    # YOUR CODE HERE\n",
    "    SIGMA = 1\n",
    "    \n",
    "    # lambda_ij matrix as in previous excercise\n",
    "    s_ij_matrix = torch.sign(labels[:,None] - labels[None,:])\n",
    "    si_minus_sj_matrix = scores[:,None] - scores[None,:]\n",
    "    lambda_ij_matrix = SIGMA * ( 1/2*(1-s_ij_matrix)-(1/(1+torch.exp(SIGMA*si_minus_sj_matrix))) )\n",
    "    # Create new np arrays with scores to rank the order of the scores according to relevance labels\n",
    "    scores_copy_np = np.array(scores.clone().detach())\n",
    "    labels_copy_np = np.array(labels.clone().detach())\n",
    "    # Rank scores ascendingly -> take relevance of each score\n",
    "    sort_ind = np.argsort(scores_copy_np)[::-1]\n",
    "    sorted_relevance = labels_copy_np[sort_ind]\n",
    "    # Compute gain and gain difference according to swaps  of documents\n",
    "    gain = np.power(2, sorted_relevance)-1\n",
    "    gain_difference_matrix = gain[:,None] - gain[None,:]\n",
    "    # Compute discount and discount differences according to swaps of documents\n",
    "    discount = 1/(np.log2(np.arange(1, len(scores)+1, dtype=float)+1))\n",
    "    discount_matrix = discount[:,None] - discount[None,:]\n",
    "    # Compute the iDCG to compare all NDCG scores with\n",
    "    ideal_labels = np.sort(labels)\n",
    "    ideal_dcg = np.sum(ideal_labels / (np.arange(1, len(scores)+1, dtype=float)+1))\n",
    "    inverse_ideal_dcg = 1/ideal_dcg\n",
    "    # delta_ndcg =  [Gain(i) - Gain(j)] * [1/Discount(rank_i) - 1/Discount(rank_j)] * inverse_ideal_dcg\n",
    "    delta_ndcg = abs(torch.tensor(gain_difference_matrix) * discount_matrix * inverse_ideal_dcg)\n",
    "    listw_loss_ij = lambda_ij_matrix * delta_ndcg\n",
    "    listw_loss_i = torch.sum(listw_loss_ij, 1)\n",
    "    return listw_loss_i.unsqueeze(1)\n",
    "\n",
    "# listwise_params_test = Namespace(epochs=1, lr=1e-3, batch_size=1, metrics={\"ndcg\"})\n",
    "# listwise_net = NeuralModule(1)\n",
    "# train_listwise(listwise_net, listwise_params_test)\n",
    "# evaluate_model(listwise_net, \"test\", print_results=True)"
   ]
  },
  {
   "cell_type": "code",
   "execution_count": 41,
   "metadata": {
    "deletable": false,
    "editable": false,
    "nbgrader": {
     "cell_type": "code",
     "checksum": "28f708cd49db29860a2774a320685d18",
     "grade": false,
     "grade_id": "cell-7ffca014e68d2c32",
     "locked": true,
     "schema_version": 3,
     "solution": false,
     "task": false
    }
   },
   "outputs": [
    {
     "name": "stdout",
     "output_type": "stream",
     "text": [
      "tensor([[-0.3036],\n",
      "        [ 0.1494],\n",
      "        [ 0.6254],\n",
      "        [ 0.9932],\n",
      "        [-1.4645]], dtype=torch.float64)\n",
      "tensor([[-0.2693],\n",
      "        [ 0.2693]], dtype=torch.float64)\n"
     ]
    }
   ],
   "source": [
    "scores_1 = torch.FloatTensor([0.2, 2.3, 4.5, 0.2, 1.0])\n",
    "labels_1 = torch.FloatTensor([1, 2, 3, 0, 4])\n",
    "\n",
    "\n",
    "scores_2 = torch.FloatTensor([3.2, 1.7])\n",
    "labels_2 = torch.FloatTensor([3, 1])\n",
    "\n",
    "\n",
    "print(listwise_loss(scores_1, labels_1))\n",
    "\n",
    "\n",
    "\n",
    "print(listwise_loss(scores_2, labels_2))"
   ]
  },
  {
   "cell_type": "code",
   "execution_count": 42,
   "metadata": {
    "deletable": false,
    "nbgrader": {
     "cell_type": "code",
     "checksum": "b3c154e9791120fcb899928865f40d30",
     "grade": true,
     "grade_id": "cell-fadab94bb19ea7ee",
     "locked": false,
     "points": 30,
     "schema_version": 3,
     "solution": true,
     "task": false
    }
   },
   "outputs": [],
   "source": [
    "# YOUR CODE HERE\n",
    "# raise NotImplementedError()"
   ]
  },
  {
   "cell_type": "markdown",
   "metadata": {
    "deletable": false,
    "editable": false,
    "nbgrader": {
     "cell_type": "markdown",
     "checksum": "48df2b36472c6f03f84a293fea5d3602",
     "grade": false,
     "grade_id": "cell-7dec2c279f77b272",
     "locked": true,
     "schema_version": 3,
     "solution": false,
     "task": false
    }
   },
   "source": [
    "##### **Implementation (50 points):**\n",
    "And use the loss function above to train a listwise LTR.\n",
    "\n",
    "**Rubric:**\n",
    " - Network is trained for specified epochs, and iterates over the entire dataset and (train) data is shuffled : 10 points\n",
    " - Loss calculation: 10 points\n",
    " - Evaluation on the validation set: 5 points\n",
    " - Training (e.g optimizer, zero_grad, backward): 10 points\n",
    " - Performance as expected: 15 points"
   ]
  },
  {
   "cell_type": "code",
   "execution_count": 43,
   "metadata": {
    "deletable": false,
    "nbgrader": {
     "cell_type": "code",
     "checksum": "786e51ea263d0ea82a5ec251344f7d0e",
     "grade": false,
     "grade_id": "cell-34c4d0bdbb753580",
     "locked": false,
     "schema_version": 3,
     "solution": true,
     "task": false
    }
   },
   "outputs": [],
   "source": [
    "# TODO: Implement this! (50 points)\n",
    "def train_listwise(net, params):\n",
    "    \"\"\"\n",
    "    This function should train the given network using the listwise (LambdaRank) loss\n",
    "    \n",
    "    Note: Do not change the function definition! \n",
    "    Note: You can assume params.batch_size will always be equal to 1\n",
    "    \n",
    "    \n",
    "    net: the neural network to be trained\n",
    "    \n",
    "    params: params is an object which contains config used in training \n",
    "        (eg. params.epochs - the number of epochs to train). \n",
    "        For a full list of these params, see the next cell. \n",
    "        \n",
    "    Returns: a dictionary containing: \"metrics_val\" (a list of dictionaries) and \n",
    "             \"metrics_train\" (a list of dictionaries). \n",
    "             \n",
    "             \"metrics_val\" should contain metrics (the metrics in params.metrics) computed\n",
    "             after each epoch on the validation set (metrics_train is similar). \n",
    "             You can use this to debug your models\n",
    "    \"\"\"\n",
    "    \n",
    "    val_metrics_epoch = []\n",
    "    train_metrics_epoch = []\n",
    "    # YOUR CODE HERE\n",
    "        ## Rubric:\n",
    "        # Network is trained for specified epochs, and iterates over the entire dataset\n",
    "        # and (train) data is shuffled : 10 points\n",
    "        # Loss calculation: 10 points\n",
    "        # Evaluation on the validation set: 5 points\n",
    "        # Training (e.g optimizer, zero_grad, backward): 10 point\n",
    "        \n",
    "    # Define parameters\n",
    "    epochs = params.epochs\n",
    "    learning_rate = params.lr\n",
    "    batch_size = params.batch_size\n",
    "    metrics = params.metrics\n",
    "    \n",
    "    # Specify prediction function\n",
    "    loss_function = listwise_loss\n",
    "    pred_fn = partial(net)\n",
    "    \n",
    "    # Define Adam optimizer\n",
    "    optimizer = Adam(net.parameters(), lr=learning_rate)\n",
    "    \n",
    "    # Create train & validation data\n",
    "    train_dl = DataLoader(QueryGroupedLTRData(data, \"train\"), batch_size=batch_size, shuffle=True, collate_fn=qg_collate_fn)\n",
    "    validation_dl = DataLoader(QueryGroupedLTRData(data, \"validation\"), shuffle=False, collate_fn=qg_collate_fn)\n",
    "    \n",
    "    # Training loop\n",
    "    for epoch in range(epochs):\n",
    "        for (query_ids, features, targets) in tqdm(train_dl): # loop over 2735 different queries\n",
    "            net.zero_grad()\n",
    "            out = torch.FloatTensor()\n",
    "            for query, x, y in zip(query_ids, features, targets): # run over all documents for a specific query\n",
    "                out = torch.cat([out, net(x)]) # concatenates outputs of the network for each of the documents belonging to query q_i\n",
    "            lambda_i = compute_lambda_i(out.squeeze(1), y)\n",
    "            torch.autograd.backward(out, lambda_i)\n",
    "            optimizer.step() \n",
    "        \n",
    "        # EVALUATE\n",
    "        train_evaluation = evaluate_model(pred_fn, \"train\", print_results=True, q_level=True)  #def evaluate_model(pred_fn, split, batch_size=256, print_results=False, q_level=False):\n",
    "        validation_evaluation = evaluate_model(pred_fn, \"validation\", print_results=True, q_level=True)           \n",
    "\n",
    "        # Save the appropriate evaluations\n",
    "        for m in params.metrics:\n",
    "            train_metrics_epoch.append({m : train_evaluation[0][m]})\n",
    "            val_metrics_epoch.append({m : validation_evaluation[0][m]})  \n",
    "            \n",
    "        # print metrics    \n",
    "        print(\"train: \", train_metrics_epoch[epoch])\n",
    "        print(\"validation: \", val_metrics_epoch[epoch])\n",
    "    \n",
    "    return {\n",
    "        \"metrics_val\": val_metrics_epoch,\n",
    "        \"metrics_train\": train_metrics_epoch\n",
    "    }"
   ]
  },
  {
   "cell_type": "code",
   "execution_count": 44,
   "metadata": {
    "deletable": false,
    "editable": false,
    "nbgrader": {
     "cell_type": "code",
     "checksum": "109d4be0105ee65f2e446c5d1a961eea",
     "grade": false,
     "grade_id": "cell-36910488e505a73a",
     "locked": true,
     "schema_version": 3,
     "solution": false,
     "task": false
    }
   },
   "outputs": [],
   "source": [
    "# uncomment to test your code\n",
    "# listwise_params_test = Namespace(epochs=1, lr=1e-3, batch_size=1, metrics={\"ndcg\"})\n",
    "# listwise_net = NeuralModule(1)\n",
    "# train_listwise(listwise_net, listwise_params_test)\n",
    "# evaluate_model(listwise_net, \"test\", print_results=True)"
   ]
  },
  {
   "cell_type": "markdown",
   "metadata": {
    "deletable": false,
    "editable": false,
    "nbgrader": {
     "cell_type": "markdown",
     "checksum": "275a63cf01f8efa9cb9b42b45d41aa9b",
     "grade": false,
     "grade_id": "cell-27de808a4c9d6bf6",
     "locked": true,
     "schema_version": 3,
     "solution": false,
     "task": false
    }
   },
   "source": [
    "The following cell saves your results in `listwise.json` file for submission."
   ]
  },
  {
   "cell_type": "code",
   "execution_count": 45,
   "metadata": {
    "deletable": false,
    "editable": false,
    "nbgrader": {
     "cell_type": "code",
     "checksum": "5b50d890fdac41f183467a165cc71ae6",
     "grade": false,
     "grade_id": "cell-8c3dde9e1dcde277",
     "locked": true,
     "schema_version": 3,
     "solution": false,
     "task": false
    }
   },
   "outputs": [
    {
     "name": "stdout",
     "output_type": "stream",
     "text": [
      "Training Model\n"
     ]
    },
    {
     "data": {
      "application/vnd.jupyter.widget-view+json": {
       "model_id": "c0bbb3cc7d29467095c748d1beb1edee",
       "version_major": 2,
       "version_minor": 0
      },
      "text/plain": [
       "  0%|          | 0/2735 [00:00<?, ?it/s]"
      ]
     },
     "metadata": {},
     "output_type": "display_data"
    },
    {
     "data": {
      "application/vnd.jupyter.widget-view+json": {
       "model_id": "",
       "version_major": 2,
       "version_minor": 0
      },
      "text/plain": [
       "Eval (train):   0%|          | 0/333 [00:00<?, ?it/s]"
      ]
     },
     "metadata": {},
     "output_type": "display_data"
    },
    {
     "name": "stdout",
     "output_type": "stream",
     "text": [
      "\"metric\": \"mean\" (\"standard deviation\")\n",
      "dcg: 102.3593 (23.88308)\n",
      "dcg@03: 15.6976 (8.14533)\n",
      "dcg@05: 20.2813 (9.33765)\n",
      "dcg@10: 27.5649 (10.41799)\n",
      "dcg@20: 37.4547 (12.07313)\n",
      "ndcg: 0.8261 (0.05478)\n",
      "ndcg@03: 0.5523 (0.25281)\n",
      "ndcg@05: 0.5416 (0.20875)\n",
      "ndcg@10: 0.5423 (0.16009)\n",
      "ndcg@20: 0.5627 (0.12750)\n",
      "precision@01: 0.6577 (0.47449)\n",
      "precision@03: 0.5495 (0.33577)\n",
      "precision@05: 0.5039 (0.28308)\n",
      "precision@10: 0.4186 (0.20798)\n",
      "precision@20: 0.3444 (0.15851)\n",
      "recall@01: 0.0316 (0.03102)\n",
      "recall@03: 0.0809 (0.06445)\n",
      "recall@05: 0.1216 (0.08590)\n",
      "recall@10: 0.1975 (0.11075)\n",
      "recall@20: 0.3148 (0.14027)\n",
      "relevant rank: 66.3912 (59.86027)\n",
      "relevant rank per query: 1577.2402 (964.39281)\n"
     ]
    },
    {
     "data": {
      "application/vnd.jupyter.widget-view+json": {
       "model_id": "",
       "version_major": 2,
       "version_minor": 0
      },
      "text/plain": [
       "Eval (validation):   0%|          | 0/50 [00:00<?, ?it/s]"
      ]
     },
     "metadata": {},
     "output_type": "display_data"
    },
    {
     "name": "stdout",
     "output_type": "stream",
     "text": [
      "\"metric\": \"mean\" (\"standard deviation\")\n",
      "dcg: 103.6267 (22.48344)\n",
      "dcg@03: 17.1644 (6.97626)\n",
      "dcg@05: 22.4453 (7.53739)\n",
      "dcg@10: 29.6680 (9.25601)\n",
      "dcg@20: 39.3034 (10.61656)\n",
      "ndcg: 0.8371 (0.04741)\n",
      "ndcg@03: 0.6048 (0.23227)\n",
      "ndcg@05: 0.6024 (0.18871)\n",
      "ndcg@10: 0.5793 (0.14430)\n",
      "ndcg@20: 0.5866 (0.11890)\n",
      "precision@01: 0.7600 (0.42708)\n",
      "precision@03: 0.5533 (0.28760)\n",
      "precision@05: 0.5480 (0.22560)\n",
      "precision@10: 0.4260 (0.17642)\n",
      "precision@20: 0.3460 (0.13448)\n",
      "recall@01: 0.0397 (0.02969)\n",
      "recall@03: 0.0815 (0.05372)\n",
      "recall@05: 0.1332 (0.07423)\n",
      "recall@10: 0.1997 (0.10086)\n",
      "recall@20: 0.3218 (0.13646)\n",
      "relevant rank: 65.3302 (60.21980)\n",
      "relevant rank per query: 1543.1000 (926.65660)\n",
      "train:  {'ndcg': (0.82605350673893, 0.05477952264060446)}\n",
      "validation:  {'ndcg': (0.8370536779537978, 0.04740614325601217)}\n"
     ]
    },
    {
     "data": {
      "application/vnd.jupyter.widget-view+json": {
       "model_id": "d8c75d887d8c43f18d81d11d6e2a4f32",
       "version_major": 2,
       "version_minor": 0
      },
      "text/plain": [
       "  0%|          | 0/2735 [00:00<?, ?it/s]"
      ]
     },
     "metadata": {},
     "output_type": "display_data"
    },
    {
     "data": {
      "application/vnd.jupyter.widget-view+json": {
       "model_id": "",
       "version_major": 2,
       "version_minor": 0
      },
      "text/plain": [
       "Eval (train):   0%|          | 0/333 [00:00<?, ?it/s]"
      ]
     },
     "metadata": {},
     "output_type": "display_data"
    },
    {
     "name": "stdout",
     "output_type": "stream",
     "text": [
      "\"metric\": \"mean\" (\"standard deviation\")\n",
      "dcg: 103.1588 (23.90502)\n",
      "dcg@03: 16.5061 (7.96531)\n",
      "dcg@05: 21.1094 (9.02032)\n",
      "dcg@10: 28.6039 (10.47893)\n",
      "dcg@20: 38.4389 (11.93725)\n",
      "ndcg: 0.8327 (0.05120)\n",
      "ndcg@03: 0.5786 (0.23996)\n",
      "ndcg@05: 0.5632 (0.19484)\n",
      "ndcg@10: 0.5617 (0.15345)\n",
      "ndcg@20: 0.5777 (0.12081)\n",
      "precision@01: 0.6637 (0.47246)\n",
      "precision@03: 0.5966 (0.33046)\n",
      "precision@05: 0.5315 (0.27443)\n",
      "precision@10: 0.4369 (0.21164)\n",
      "precision@20: 0.3465 (0.15681)\n",
      "recall@01: 0.0348 (0.03876)\n",
      "recall@03: 0.0881 (0.06548)\n",
      "recall@05: 0.1290 (0.08466)\n",
      "recall@10: 0.2058 (0.11093)\n",
      "recall@20: 0.3185 (0.14208)\n",
      "relevant rank: 65.2540 (59.21040)\n",
      "relevant rank per query: 1550.2222 (965.70230)\n"
     ]
    },
    {
     "data": {
      "application/vnd.jupyter.widget-view+json": {
       "model_id": "",
       "version_major": 2,
       "version_minor": 0
      },
      "text/plain": [
       "Eval (validation):   0%|          | 0/50 [00:00<?, ?it/s]"
      ]
     },
     "metadata": {},
     "output_type": "display_data"
    },
    {
     "name": "stdout",
     "output_type": "stream",
     "text": [
      "\"metric\": \"mean\" (\"standard deviation\")\n",
      "dcg: 105.0327 (23.07958)\n",
      "dcg@03: 18.9484 (6.74439)\n",
      "dcg@05: 23.8568 (7.95847)\n",
      "dcg@10: 31.7147 (9.08242)\n",
      "dcg@20: 41.5111 (10.65122)\n",
      "ndcg: 0.8472 (0.04513)\n",
      "ndcg@03: 0.6609 (0.20897)\n",
      "ndcg@05: 0.6331 (0.17375)\n",
      "ndcg@10: 0.6147 (0.12092)\n",
      "ndcg@20: 0.6167 (0.10048)\n",
      "precision@01: 0.8200 (0.38419)\n",
      "precision@03: 0.6333 (0.25166)\n",
      "precision@05: 0.5760 (0.20646)\n",
      "precision@10: 0.4680 (0.15158)\n",
      "precision@20: 0.3710 (0.12692)\n",
      "recall@01: 0.0401 (0.02732)\n",
      "recall@03: 0.0936 (0.05252)\n",
      "recall@05: 0.1398 (0.06684)\n",
      "recall@10: 0.2251 (0.10854)\n",
      "recall@20: 0.3471 (0.13294)\n",
      "relevant rank: 63.9958 (60.02729)\n",
      "relevant rank per query: 1511.5800 (980.96396)\n",
      "train:  {'recall@05': (0.12161600550094419, 0.08589523105001795)}\n",
      "validation:  {'recall@05': (0.13322418801044258, 0.0742323144201505)}\n"
     ]
    },
    {
     "data": {
      "application/vnd.jupyter.widget-view+json": {
       "model_id": "896aba02ca47426e9b961c471344f32c",
       "version_major": 2,
       "version_minor": 0
      },
      "text/plain": [
       "  0%|          | 0/2735 [00:00<?, ?it/s]"
      ]
     },
     "metadata": {},
     "output_type": "display_data"
    },
    {
     "data": {
      "application/vnd.jupyter.widget-view+json": {
       "model_id": "",
       "version_major": 2,
       "version_minor": 0
      },
      "text/plain": [
       "Eval (train):   0%|          | 0/333 [00:00<?, ?it/s]"
      ]
     },
     "metadata": {},
     "output_type": "display_data"
    },
    {
     "name": "stdout",
     "output_type": "stream",
     "text": [
      "\"metric\": \"mean\" (\"standard deviation\")\n",
      "dcg: 104.1133 (23.95091)\n",
      "dcg@03: 17.0477 (7.95297)\n",
      "dcg@05: 21.9557 (8.85249)\n",
      "dcg@10: 29.7634 (10.58246)\n",
      "dcg@20: 39.7091 (12.14314)\n",
      "ndcg: 0.8405 (0.05080)\n",
      "ndcg@03: 0.5994 (0.23865)\n",
      "ndcg@05: 0.5876 (0.18990)\n",
      "ndcg@10: 0.5846 (0.15598)\n",
      "ndcg@20: 0.5967 (0.12127)\n",
      "precision@01: 0.7177 (0.45011)\n",
      "precision@03: 0.6146 (0.33676)\n",
      "precision@05: 0.5634 (0.27154)\n",
      "precision@10: 0.4580 (0.21694)\n",
      "precision@20: 0.3649 (0.16407)\n",
      "recall@01: 0.0376 (0.03867)\n",
      "recall@03: 0.0900 (0.06473)\n",
      "recall@05: 0.1369 (0.08169)\n",
      "recall@10: 0.2168 (0.11697)\n",
      "recall@20: 0.3325 (0.13862)\n",
      "relevant rank: 62.7673 (58.27334)\n",
      "relevant rank per query: 1491.1471 (946.70968)\n"
     ]
    },
    {
     "data": {
      "application/vnd.jupyter.widget-view+json": {
       "model_id": "",
       "version_major": 2,
       "version_minor": 0
      },
      "text/plain": [
       "Eval (validation):   0%|          | 0/50 [00:00<?, ?it/s]"
      ]
     },
     "metadata": {},
     "output_type": "display_data"
    },
    {
     "name": "stdout",
     "output_type": "stream",
     "text": [
      "\"metric\": \"mean\" (\"standard deviation\")\n",
      "dcg: 105.1766 (22.49051)\n",
      "dcg@03: 18.5667 (7.03782)\n",
      "dcg@05: 23.6279 (7.93841)\n",
      "dcg@10: 31.6108 (8.91956)\n",
      "dcg@20: 41.8577 (10.35289)\n",
      "ndcg: 0.8496 (0.04346)\n",
      "ndcg@03: 0.6489 (0.21952)\n",
      "ndcg@05: 0.6278 (0.17789)\n",
      "ndcg@10: 0.6145 (0.12379)\n",
      "ndcg@20: 0.6235 (0.10502)\n",
      "precision@01: 0.7800 (0.41425)\n",
      "precision@03: 0.6400 (0.23889)\n",
      "precision@05: 0.5880 (0.21320)\n",
      "precision@10: 0.4740 (0.15074)\n",
      "precision@20: 0.3850 (0.13574)\n",
      "recall@01: 0.0400 (0.02880)\n",
      "recall@03: 0.0993 (0.05668)\n",
      "recall@05: 0.1452 (0.07306)\n",
      "recall@10: 0.2317 (0.11475)\n",
      "recall@20: 0.3614 (0.14478)\n",
      "relevant rank: 61.7655 (59.05739)\n",
      "relevant rank per query: 1458.9000 (953.96097)\n",
      "train:  {'precision@05': (0.5039039039039039, 0.2830811008959433)}\n",
      "validation:  {'precision@05': (0.548, 0.22560141843525722)}\n"
     ]
    },
    {
     "data": {
      "application/vnd.jupyter.widget-view+json": {
       "model_id": "785f1bf85033440589406d0da7b3c6b3",
       "version_major": 2,
       "version_minor": 0
      },
      "text/plain": [
       "  0%|          | 0/2735 [00:00<?, ?it/s]"
      ]
     },
     "metadata": {},
     "output_type": "display_data"
    },
    {
     "data": {
      "application/vnd.jupyter.widget-view+json": {
       "model_id": "",
       "version_major": 2,
       "version_minor": 0
      },
      "text/plain": [
       "Eval (train):   0%|          | 0/333 [00:00<?, ?it/s]"
      ]
     },
     "metadata": {},
     "output_type": "display_data"
    },
    {
     "name": "stdout",
     "output_type": "stream",
     "text": [
      "\"metric\": \"mean\" (\"standard deviation\")\n",
      "dcg: 104.7328 (24.28974)\n",
      "dcg@03: 17.6889 (7.73703)\n",
      "dcg@05: 22.7483 (8.90833)\n",
      "dcg@10: 30.6513 (10.59949)\n",
      "dcg@20: 40.6191 (12.29438)\n",
      "ndcg: 0.8452 (0.04982)\n",
      "ndcg@03: 0.6221 (0.22773)\n",
      "ndcg@05: 0.6073 (0.18498)\n",
      "ndcg@10: 0.6010 (0.14896)\n",
      "ndcg@20: 0.6103 (0.11818)\n",
      "precision@01: 0.7477 (0.43431)\n",
      "precision@03: 0.6507 (0.31492)\n",
      "precision@05: 0.5844 (0.27245)\n",
      "precision@10: 0.4718 (0.21834)\n",
      "precision@20: 0.3734 (0.16727)\n",
      "recall@01: 0.0377 (0.03458)\n",
      "recall@03: 0.0976 (0.07103)\n",
      "recall@05: 0.1428 (0.08959)\n",
      "recall@10: 0.2206 (0.11512)\n",
      "recall@20: 0.3421 (0.14340)\n",
      "relevant rank: 62.5452 (58.48703)\n",
      "relevant rank per query: 1485.8709 (939.20705)\n"
     ]
    },
    {
     "data": {
      "application/vnd.jupyter.widget-view+json": {
       "model_id": "",
       "version_major": 2,
       "version_minor": 0
      },
      "text/plain": [
       "Eval (validation):   0%|          | 0/50 [00:00<?, ?it/s]"
      ]
     },
     "metadata": {},
     "output_type": "display_data"
    },
    {
     "name": "stdout",
     "output_type": "stream",
     "text": [
      "\"metric\": \"mean\" (\"standard deviation\")\n",
      "dcg: 104.9143 (22.81328)\n",
      "dcg@03: 17.4784 (6.50593)\n",
      "dcg@05: 23.1564 (7.28770)\n",
      "dcg@10: 31.5077 (8.74805)\n",
      "dcg@20: 41.8902 (10.74106)\n",
      "ndcg: 0.8468 (0.04641)\n",
      "ndcg@03: 0.6147 (0.21897)\n",
      "ndcg@05: 0.6169 (0.17277)\n",
      "ndcg@10: 0.6132 (0.12350)\n",
      "ndcg@20: 0.6228 (0.10456)\n",
      "precision@01: 0.6800 (0.46648)\n",
      "precision@03: 0.6067 (0.25552)\n",
      "precision@05: 0.5880 (0.21692)\n",
      "precision@10: 0.4920 (0.16833)\n",
      "precision@20: 0.3930 (0.14283)\n",
      "recall@01: 0.0341 (0.03000)\n",
      "recall@03: 0.0919 (0.05866)\n",
      "recall@05: 0.1445 (0.08214)\n",
      "recall@10: 0.2413 (0.12286)\n",
      "recall@20: 0.3635 (0.13435)\n",
      "relevant rank: 61.0796 (59.08278)\n",
      "relevant rank per query: 1442.7000 (945.58492)\n",
      "train:  {'ndcg': (0.832706819374276, 0.05120235133596547)}\n",
      "validation:  {'ndcg': (0.8471585055159074, 0.045128330586932226)}\n"
     ]
    },
    {
     "data": {
      "application/vnd.jupyter.widget-view+json": {
       "model_id": "9cd61418c9b2449693b7055edfda1b31",
       "version_major": 2,
       "version_minor": 0
      },
      "text/plain": [
       "  0%|          | 0/2735 [00:00<?, ?it/s]"
      ]
     },
     "metadata": {},
     "output_type": "display_data"
    },
    {
     "data": {
      "application/vnd.jupyter.widget-view+json": {
       "model_id": "",
       "version_major": 2,
       "version_minor": 0
      },
      "text/plain": [
       "Eval (train):   0%|          | 0/333 [00:00<?, ?it/s]"
      ]
     },
     "metadata": {},
     "output_type": "display_data"
    },
    {
     "name": "stdout",
     "output_type": "stream",
     "text": [
      "\"metric\": \"mean\" (\"standard deviation\")\n",
      "dcg: 105.0555 (24.45448)\n",
      "dcg@03: 18.1110 (7.94470)\n",
      "dcg@05: 23.3009 (9.28029)\n",
      "dcg@10: 31.1563 (11.05039)\n",
      "dcg@20: 41.1116 (12.75641)\n",
      "ndcg: 0.8477 (0.05112)\n",
      "ndcg@03: 0.6343 (0.23093)\n",
      "ndcg@05: 0.6200 (0.19041)\n",
      "ndcg@10: 0.6092 (0.15194)\n",
      "ndcg@20: 0.6170 (0.12375)\n",
      "precision@01: 0.7417 (0.43768)\n",
      "precision@03: 0.6577 (0.32304)\n",
      "precision@05: 0.5952 (0.27723)\n",
      "precision@10: 0.4820 (0.21859)\n",
      "precision@20: 0.3794 (0.17121)\n",
      "recall@01: 0.0383 (0.03669)\n",
      "recall@03: 0.0978 (0.07019)\n",
      "recall@05: 0.1444 (0.08970)\n",
      "recall@10: 0.2265 (0.11673)\n",
      "recall@20: 0.3464 (0.14760)\n",
      "relevant rank: 62.7176 (58.80835)\n",
      "relevant rank per query: 1489.9670 (932.41092)\n"
     ]
    },
    {
     "data": {
      "application/vnd.jupyter.widget-view+json": {
       "model_id": "",
       "version_major": 2,
       "version_minor": 0
      },
      "text/plain": [
       "Eval (validation):   0%|          | 0/50 [00:00<?, ?it/s]"
      ]
     },
     "metadata": {},
     "output_type": "display_data"
    },
    {
     "name": "stdout",
     "output_type": "stream",
     "text": [
      "\"metric\": \"mean\" (\"standard deviation\")\n",
      "dcg: 106.0070 (22.96687)\n",
      "dcg@03: 19.2524 (7.24516)\n",
      "dcg@05: 24.2808 (7.76801)\n",
      "dcg@10: 32.9148 (9.50641)\n",
      "dcg@20: 42.9047 (10.79223)\n",
      "ndcg: 0.8554 (0.04497)\n",
      "ndcg@03: 0.6642 (0.21547)\n",
      "ndcg@05: 0.6393 (0.15883)\n",
      "ndcg@10: 0.6357 (0.12038)\n",
      "ndcg@20: 0.6370 (0.10374)\n",
      "precision@01: 0.7800 (0.41425)\n",
      "precision@03: 0.6800 (0.27455)\n",
      "precision@05: 0.5960 (0.22087)\n",
      "precision@10: 0.4960 (0.16243)\n",
      "precision@20: 0.3850 (0.13537)\n",
      "recall@01: 0.0395 (0.02892)\n",
      "recall@03: 0.1011 (0.05842)\n",
      "recall@05: 0.1475 (0.08684)\n",
      "recall@10: 0.2392 (0.11025)\n",
      "recall@20: 0.3588 (0.13827)\n",
      "relevant rank: 61.1372 (59.00819)\n",
      "relevant rank per query: 1444.0600 (935.71174)\n",
      "train:  {'recall@05': (0.12899222205405772, 0.08465715414683916)}\n",
      "validation:  {'recall@05': (0.13979066746114857, 0.06683621461258356)}\n"
     ]
    },
    {
     "data": {
      "application/vnd.jupyter.widget-view+json": {
       "model_id": "65b7210033f248a88f5872592583c4e2",
       "version_major": 2,
       "version_minor": 0
      },
      "text/plain": [
       "  0%|          | 0/2735 [00:00<?, ?it/s]"
      ]
     },
     "metadata": {},
     "output_type": "display_data"
    },
    {
     "data": {
      "application/vnd.jupyter.widget-view+json": {
       "model_id": "",
       "version_major": 2,
       "version_minor": 0
      },
      "text/plain": [
       "Eval (train):   0%|          | 0/333 [00:00<?, ?it/s]"
      ]
     },
     "metadata": {},
     "output_type": "display_data"
    },
    {
     "name": "stdout",
     "output_type": "stream",
     "text": [
      "\"metric\": \"mean\" (\"standard deviation\")\n",
      "dcg: 105.3356 (24.26475)\n",
      "dcg@03: 18.0412 (7.69559)\n",
      "dcg@05: 23.2717 (8.92580)\n",
      "dcg@10: 31.3608 (10.80226)\n",
      "dcg@20: 41.4290 (12.47912)\n",
      "ndcg: 0.8506 (0.04923)\n",
      "ndcg@03: 0.6360 (0.22652)\n",
      "ndcg@05: 0.6223 (0.18407)\n",
      "ndcg@10: 0.6154 (0.15054)\n",
      "ndcg@20: 0.6234 (0.12100)\n",
      "precision@01: 0.7568 (0.42904)\n",
      "precision@03: 0.6537 (0.32291)\n",
      "precision@05: 0.5976 (0.27639)\n",
      "precision@10: 0.4865 (0.21995)\n",
      "precision@20: 0.3860 (0.17245)\n",
      "recall@01: 0.0396 (0.03815)\n",
      "recall@03: 0.0968 (0.06842)\n",
      "recall@05: 0.1457 (0.08988)\n",
      "recall@10: 0.2294 (0.12138)\n",
      "recall@20: 0.3547 (0.14981)\n",
      "relevant rank: 61.2503 (58.10181)\n",
      "relevant rank per query: 1455.1081 (916.88276)\n"
     ]
    },
    {
     "data": {
      "application/vnd.jupyter.widget-view+json": {
       "model_id": "",
       "version_major": 2,
       "version_minor": 0
      },
      "text/plain": [
       "Eval (validation):   0%|          | 0/50 [00:00<?, ?it/s]"
      ]
     },
     "metadata": {},
     "output_type": "display_data"
    },
    {
     "name": "stdout",
     "output_type": "stream",
     "text": [
      "\"metric\": \"mean\" (\"standard deviation\")\n",
      "dcg: 105.1576 (22.35019)\n",
      "dcg@03: 17.8694 (6.41602)\n",
      "dcg@05: 23.3608 (7.27110)\n",
      "dcg@10: 31.9150 (8.98551)\n",
      "dcg@20: 42.1263 (10.05339)\n",
      "ndcg: 0.8499 (0.04399)\n",
      "ndcg@03: 0.6281 (0.20551)\n",
      "ndcg@05: 0.6241 (0.17152)\n",
      "ndcg@10: 0.6222 (0.13246)\n",
      "ndcg@20: 0.6289 (0.10206)\n",
      "precision@01: 0.7200 (0.44900)\n",
      "precision@03: 0.6467 (0.25307)\n",
      "precision@05: 0.6080 (0.21894)\n",
      "precision@10: 0.4960 (0.17996)\n",
      "precision@20: 0.3940 (0.14955)\n",
      "recall@01: 0.0394 (0.03497)\n",
      "recall@03: 0.1002 (0.06189)\n",
      "recall@05: 0.1504 (0.07762)\n",
      "recall@10: 0.2417 (0.12381)\n",
      "recall@20: 0.3626 (0.13641)\n",
      "relevant rank: 60.8925 (59.42270)\n",
      "relevant rank per query: 1438.2800 (938.40335)\n",
      "train:  {'precision@05': (0.5315315315315315, 0.274430444421865)}\n",
      "validation:  {'precision@05': (0.5760000000000001, 0.20645580640902306)}\n"
     ]
    },
    {
     "data": {
      "application/vnd.jupyter.widget-view+json": {
       "model_id": "0544ac85997248b49ba4ec5f880a9dc1",
       "version_major": 2,
       "version_minor": 0
      },
      "text/plain": [
       "  0%|          | 0/2735 [00:00<?, ?it/s]"
      ]
     },
     "metadata": {},
     "output_type": "display_data"
    },
    {
     "data": {
      "application/vnd.jupyter.widget-view+json": {
       "model_id": "",
       "version_major": 2,
       "version_minor": 0
      },
      "text/plain": [
       "Eval (train):   0%|          | 0/333 [00:00<?, ?it/s]"
      ]
     },
     "metadata": {},
     "output_type": "display_data"
    },
    {
     "name": "stdout",
     "output_type": "stream",
     "text": [
      "\"metric\": \"mean\" (\"standard deviation\")\n",
      "dcg: 105.6127 (24.26034)\n",
      "dcg@03: 18.4009 (7.94842)\n",
      "dcg@05: 23.6218 (9.18879)\n",
      "dcg@10: 31.7060 (10.84954)\n",
      "dcg@20: 41.8421 (12.55595)\n",
      "ndcg: 0.8528 (0.04960)\n",
      "ndcg@03: 0.6473 (0.22867)\n",
      "ndcg@05: 0.6308 (0.18810)\n",
      "ndcg@10: 0.6223 (0.15036)\n",
      "ndcg@20: 0.6290 (0.12163)\n",
      "precision@01: 0.7508 (0.43258)\n",
      "precision@03: 0.6767 (0.30983)\n",
      "precision@05: 0.6120 (0.27219)\n",
      "precision@10: 0.4952 (0.21555)\n",
      "precision@20: 0.3914 (0.17366)\n",
      "recall@01: 0.0396 (0.03856)\n",
      "recall@03: 0.1024 (0.07102)\n",
      "recall@05: 0.1511 (0.09476)\n",
      "recall@10: 0.2348 (0.12229)\n",
      "recall@20: 0.3592 (0.14879)\n",
      "relevant rank: 60.4639 (57.74606)\n",
      "relevant rank per query: 1436.4264 (914.85231)\n"
     ]
    },
    {
     "data": {
      "application/vnd.jupyter.widget-view+json": {
       "model_id": "",
       "version_major": 2,
       "version_minor": 0
      },
      "text/plain": [
       "Eval (validation):   0%|          | 0/50 [00:00<?, ?it/s]"
      ]
     },
     "metadata": {},
     "output_type": "display_data"
    },
    {
     "name": "stdout",
     "output_type": "stream",
     "text": [
      "\"metric\": \"mean\" (\"standard deviation\")\n",
      "dcg: 105.6940 (22.83530)\n",
      "dcg@03: 18.7474 (7.19758)\n",
      "dcg@05: 23.9418 (7.76570)\n",
      "dcg@10: 32.6113 (9.47051)\n",
      "dcg@20: 42.6918 (10.89748)\n",
      "ndcg: 0.8531 (0.04924)\n",
      "ndcg@03: 0.6528 (0.23092)\n",
      "ndcg@05: 0.6364 (0.18117)\n",
      "ndcg@10: 0.6323 (0.13446)\n",
      "ndcg@20: 0.6353 (0.11381)\n",
      "precision@01: 0.7000 (0.45826)\n",
      "precision@03: 0.6600 (0.30177)\n",
      "precision@05: 0.6160 (0.21481)\n",
      "precision@10: 0.5080 (0.16228)\n",
      "precision@20: 0.3940 (0.13843)\n",
      "recall@01: 0.0358 (0.03027)\n",
      "recall@03: 0.1008 (0.06591)\n",
      "recall@05: 0.1553 (0.08234)\n",
      "recall@10: 0.2469 (0.11598)\n",
      "recall@20: 0.3696 (0.15077)\n",
      "relevant rank: 60.1634 (59.24355)\n",
      "relevant rank per query: 1421.0600 (948.27269)\n",
      "train:  {'ndcg': (0.8405361725194099, 0.050803820093671896)}\n",
      "validation:  {'ndcg': (0.8495597403266699, 0.04346034585572053)}\n"
     ]
    },
    {
     "data": {
      "application/vnd.jupyter.widget-view+json": {
       "model_id": "acbb065a554f4ef88ca5141ce5f3357c",
       "version_major": 2,
       "version_minor": 0
      },
      "text/plain": [
       "  0%|          | 0/2735 [00:00<?, ?it/s]"
      ]
     },
     "metadata": {},
     "output_type": "display_data"
    },
    {
     "data": {
      "application/vnd.jupyter.widget-view+json": {
       "model_id": "",
       "version_major": 2,
       "version_minor": 0
      },
      "text/plain": [
       "Eval (train):   0%|          | 0/333 [00:00<?, ?it/s]"
      ]
     },
     "metadata": {},
     "output_type": "display_data"
    },
    {
     "name": "stdout",
     "output_type": "stream",
     "text": [
      "\"metric\": \"mean\" (\"standard deviation\")\n",
      "dcg: 105.7965 (24.31610)\n",
      "dcg@03: 18.5642 (7.86324)\n",
      "dcg@05: 23.7328 (8.94049)\n",
      "dcg@10: 31.7755 (10.75614)\n",
      "dcg@20: 42.0340 (12.59927)\n",
      "ndcg: 0.8543 (0.04892)\n",
      "ndcg@03: 0.6532 (0.22430)\n",
      "ndcg@05: 0.6350 (0.18153)\n",
      "ndcg@10: 0.6236 (0.14606)\n",
      "ndcg@20: 0.6321 (0.12032)\n",
      "precision@01: 0.7838 (0.41166)\n",
      "precision@03: 0.6867 (0.31786)\n",
      "precision@05: 0.6174 (0.26946)\n",
      "precision@10: 0.4931 (0.21487)\n",
      "precision@20: 0.3889 (0.17053)\n",
      "recall@01: 0.0413 (0.03823)\n",
      "recall@03: 0.1026 (0.07430)\n",
      "recall@05: 0.1515 (0.09305)\n",
      "recall@10: 0.2338 (0.12149)\n",
      "recall@20: 0.3584 (0.15384)\n",
      "relevant rank: 60.4307 (57.87706)\n",
      "relevant rank per query: 1435.6366 (921.71376)\n"
     ]
    },
    {
     "data": {
      "application/vnd.jupyter.widget-view+json": {
       "model_id": "",
       "version_major": 2,
       "version_minor": 0
      },
      "text/plain": [
       "Eval (validation):   0%|          | 0/50 [00:00<?, ?it/s]"
      ]
     },
     "metadata": {},
     "output_type": "display_data"
    },
    {
     "name": "stdout",
     "output_type": "stream",
     "text": [
      "\"metric\": \"mean\" (\"standard deviation\")\n",
      "dcg: 105.5446 (23.30720)\n",
      "dcg@03: 18.1451 (7.17888)\n",
      "dcg@05: 23.5856 (8.06935)\n",
      "dcg@10: 32.7419 (9.67808)\n",
      "dcg@20: 42.4704 (11.28566)\n",
      "ndcg: 0.8512 (0.05218)\n",
      "ndcg@03: 0.6353 (0.23056)\n",
      "ndcg@05: 0.6277 (0.19108)\n",
      "ndcg@10: 0.6348 (0.13719)\n",
      "ndcg@20: 0.6312 (0.11755)\n",
      "precision@01: 0.7200 (0.44900)\n",
      "precision@03: 0.6533 (0.28253)\n",
      "precision@05: 0.6120 (0.24465)\n",
      "precision@10: 0.5320 (0.18159)\n",
      "precision@20: 0.4020 (0.15555)\n",
      "recall@01: 0.0374 (0.03153)\n",
      "recall@03: 0.0978 (0.06139)\n",
      "recall@05: 0.1524 (0.08930)\n",
      "recall@10: 0.2548 (0.11393)\n",
      "recall@20: 0.3691 (0.13945)\n",
      "relevant rank: 59.9619 (59.30266)\n",
      "relevant rank per query: 1416.3000 (928.05649)\n",
      "train:  {'recall@05': (0.1369137226216153, 0.08169080867139043)}\n",
      "validation:  {'recall@05': (0.14517300948824619, 0.07306429417476037)}\n"
     ]
    },
    {
     "data": {
      "application/vnd.jupyter.widget-view+json": {
       "model_id": "",
       "version_major": 2,
       "version_minor": 0
      },
      "text/plain": [
       "Eval (test):   0%|          | 0/117 [00:00<?, ?it/s]"
      ]
     },
     "metadata": {},
     "output_type": "display_data"
    },
    {
     "name": "stdout",
     "output_type": "stream",
     "text": [
      "\"metric\": \"mean\" (\"standard deviation\")\n",
      "dcg: 110.1185 (23.82210)\n",
      "dcg@03: 18.4761 (7.53359)\n",
      "dcg@05: 24.2369 (8.94648)\n",
      "dcg@10: 32.2157 (10.71730)\n",
      "dcg@20: 43.1002 (12.91442)\n",
      "ndcg: 0.8504 (0.05022)\n",
      "ndcg@03: 0.6349 (0.22554)\n",
      "ndcg@05: 0.6320 (0.18724)\n",
      "ndcg@10: 0.6177 (0.15187)\n",
      "ndcg@20: 0.6282 (0.12369)\n",
      "precision@01: 0.7094 (0.45404)\n",
      "precision@03: 0.6838 (0.27510)\n",
      "precision@05: 0.6479 (0.25707)\n",
      "precision@10: 0.5145 (0.21731)\n",
      "precision@20: 0.4137 (0.17730)\n",
      "recall@01: 0.0320 (0.02733)\n",
      "recall@03: 0.0925 (0.05577)\n",
      "recall@05: 0.1463 (0.08493)\n",
      "recall@10: 0.2196 (0.10441)\n",
      "recall@20: 0.3419 (0.12940)\n",
      "relevant rank: 64.3912 (61.67430)\n",
      "relevant rank per query: 1657.1111 (1005.32603)\n"
     ]
    }
   ],
   "source": [
    "seed(42)\n",
    "params = Namespace(epochs=8, \n",
    "                    lr=1e-4,\n",
    "                    batch_size=1,\n",
    "                    metrics={\"ndcg\", \"precision@05\", \"recall@05\"})\n",
    "listwise_model = NeuralModule(1)\n",
    "\n",
    "create_results(listwise_model, \n",
    "               train_listwise, \n",
    "               listwise_model,\n",
    "               \"./listwise.json\",\n",
    "               params)\n",
    "\n",
    "# persist model\n",
    "torch.save(listwise_model.state_dict(), \"./listwise_wt\")"
   ]
  },
  {
   "cell_type": "markdown",
   "metadata": {
    "deletable": false,
    "nbgrader": {
     "cell_type": "markdown",
     "checksum": "cbccf7ada9159548390a5d8d28df92d1",
     "grade": true,
     "grade_id": "cell-6c37b60a428d000a",
     "locked": false,
     "points": 35,
     "schema_version": 3,
     "solution": true,
     "task": false
    }
   },
   "source": [
    "YOUR ANSWER HERE"
   ]
  },
  {
   "cell_type": "code",
   "execution_count": 46,
   "metadata": {
    "deletable": false,
    "editable": false,
    "nbgrader": {
     "cell_type": "code",
     "checksum": "4e086691009a4dc0f8013c9f7f2d61bf",
     "grade": true,
     "grade_id": "cell-6c8d3b2e4ab668b1",
     "locked": true,
     "points": 15,
     "schema_version": 3,
     "solution": false,
     "task": false
    }
   },
   "outputs": [],
   "source": [
    "assert os.path.exists(\"./listwise.json\")"
   ]
  },
  {
   "cell_type": "markdown",
   "metadata": {
    "deletable": false,
    "editable": false,
    "nbgrader": {
     "cell_type": "markdown",
     "checksum": "1a1aaed7333acfcbdf24046a15cc5a2b",
     "grade": false,
     "grade_id": "cell-e47b21d69c9be1e4",
     "locked": true,
     "schema_version": 3,
     "solution": false,
     "task": false
    }
   },
   "source": [
    "## Section 6: Comparing Pointwise, Pairwise and Listwise (70 points) <a class=\"anchor\" id=\"evaluation1\"></a>\n",
    "\n",
    "[Back to TOC](#top)\n",
    "\n",
    "In the next few cells, we will compare the methods you've implemented. Helper functions are provided for you, which you can use to make some conclusions. You can modify the code as needed (you are encouraged to do so!)"
   ]
  },
  {
   "cell_type": "code",
   "execution_count": 47,
   "metadata": {},
   "outputs": [],
   "source": [
    "def autolabel(ax, rects, labels):\n",
    "    \"\"\"Attach a text label above each bar in *rects*, displaying its height.\"\"\"\n",
    "    for l, rect in zip(labels, rects):\n",
    "        height = rect.get_height()\n",
    "        ax.annotate('{}'.format(l),\n",
    "                    xy=(rect.get_x() + rect.get_width() / 2, height),\n",
    "                    xytext=(0, 3),  # 3 points vertical offset\n",
    "                    textcoords=\"offset points\",\n",
    "                    ha='center', va='bottom',\n",
    "                   fontsize=7)\n",
    "\n",
    "def compare_methods(labels, metrics, metrics_to_plot={\"ndcg\", \"precision@05\", \"recall@05\"}):\n",
    "    \"\"\"\n",
    "    Constructs bar plots to compare different methods. \n",
    "    \n",
    "    labels: list/tuple of length N\n",
    "    metrics: list/tuple of length N, containing dictionary containing the test set results \n",
    "    metrics_to_plot: set of metrics to plot - each metric creates a separate plot \n",
    "    \"\"\"\n",
    "    assert len(metrics) == len(labels)\n",
    "    \n",
    "    x = np.arange(len(metrics_to_plot)) \n",
    "    fig, axes = plt.subplots(nrows=1, ncols=len(metrics_to_plot), sharey=False)\n",
    "    fig.set_figheight(7)\n",
    "    fig.set_figwidth(15)\n",
    "    \n",
    "    colors = cm.get_cmap(\"Set1\").colors\n",
    "\n",
    "    for metric, ax, c in zip(metrics_to_plot, axes, colors):\n",
    "        m = [_[metric][0] for _ in metrics]  \n",
    "        std = [_[metric][1] for _ in metrics]\n",
    "        x = np.arange(len(labels))\n",
    "        rects = ax.bar(x, m, label=metric, color=c)\n",
    "        \n",
    "        l = [\"{0:.4f}({1:.4f})\".format(_[metric][0], _[metric][1]) for _ in metrics]\n",
    "        autolabel(ax, rects, l)\n",
    "        \n",
    "        ax.set_xticks(x)\n",
    "        ax.set_xticklabels(labels, rotation=45)\n",
    "        ax.set_yticks(np.linspace(0, 1, num=11))\n",
    "        ax.set_ylim(ymin=min(m) - 0.05, ymax= max(m) + 0.05)\n",
    "        ax.set_title(metric)\n",
    "    \n",
    "    \n",
    "\n",
    "def plot_distribution(labels, q_metrics, metric=\"ndcg\"):\n",
    "    \"\"\"\n",
    "    Plots the distribution of NDCG scores\n",
    "    \n",
    "    labels: list/tuple of length N\n",
    "    q_metrics: list/tuple of dictionaries with length N, containing the query level results\n",
    "    metric: the metric to plot\n",
    "    \n",
    "    \"\"\"\n",
    "    \n",
    "    n = len(labels)\n",
    "    # nC2\n",
    "    n_plots = int((n*(n-1))/2)\n",
    "    \n",
    "    fig, axes = plt.subplots(nrows=n_plots, ncols=1)\n",
    "    fig.set_figheight(8 * n_plots)\n",
    "    fig.set_figwidth(10)\n",
    "    \n",
    "    colors = cm.get_cmap(\"Set1\").colors\n",
    "    \n",
    "    for idx, (i, j) in enumerate(itertools.combinations(range(n), 2)):\n",
    "        ax = axes[idx]\n",
    "        \n",
    "        im = q_metrics[i][metric]\n",
    "        jm = q_metrics[j][metric]\n",
    "        \n",
    "        ax.hist(im, bins=50, label=labels[i], color=colors[i], alpha=0.55)\n",
    "        ax.hist(jm, bins=50, label=labels[j], color=colors[j], alpha=0.55)\n",
    "        \n",
    "        ax.set_title(f\"{labels[i]} vs {labels[j]}\")\n",
    "        ax.legend()\n",
    "        ax.set_ylabel(\"Count\")\n",
    "        ax.set_xlabel(\"NDCG (binned)\")\n",
    "        "
   ]
  },
  {
   "cell_type": "code",
   "execution_count": 48,
   "metadata": {
    "deletable": false,
    "editable": false,
    "nbgrader": {
     "cell_type": "code",
     "checksum": "10071c1830b37c08ea6accb26accb372",
     "grade": false,
     "grade_id": "cell-b8d4e6f2d2e78550",
     "locked": true,
     "schema_version": 3,
     "solution": false,
     "task": false
    }
   },
   "outputs": [],
   "source": [
    "# Load metrics and models\n",
    "\n",
    "pointwise_regr_model = NeuralModule(1)\n",
    "pointwise_regr_model.load_state_dict(torch.load(\"./pointwise_regr_wt\"))\n",
    "\n",
    "pointwise_clf_model = NeuralModule(5)\n",
    "pointwise_clf_model.load_state_dict(torch.load(\"./pointwise_clf_wt\"))\n",
    "pointwise_clf_pred_fn = partial(clf_pred, net=pointwise_clf_model)\n",
    "\n",
    "pairwise_model = NeuralModule(1)\n",
    "pairwise_model.load_state_dict(torch.load(\"./pairwise_wt\"))\n",
    "\n",
    "listwise_model = NeuralModule(1)\n",
    "listwise_model.load_state_dict(torch.load(\"./listwise_wt\"))\n",
    "\n",
    "\n",
    "methods = [\n",
    "    {\"results_file\": \"./pointwise_regression.json\", \"label\": \"Pointwise (R)\"},\n",
    "    {\"results_file\": \"./pointwise_classification.json\", \"label\": \"Pointwise (C)\"},\n",
    "    {\"results_file\": \"./pairwise.json\", \"label\": \"Pairwise\"},\n",
    "    {\"results_file\": \"./listwise.json\", \"label\": \"Listwise\"}\n",
    "]\n",
    "\n",
    "labels = []\n",
    "results = []\n",
    "q_results = []\n",
    "for m in methods:\n",
    "    labels.append(m[\"label\"])\n",
    "    \n",
    "    with open(m[\"results_file\"]) as reader:\n",
    "        r = json.load(reader)\n",
    "    \n",
    "    results.append(r[\"test_metrics\"])\n",
    "    q_results.append(r[\"test_query_level_metrics\"])\n",
    "\n"
   ]
  },
  {
   "cell_type": "code",
   "execution_count": 49,
   "metadata": {
    "deletable": false,
    "editable": false,
    "nbgrader": {
     "cell_type": "code",
     "checksum": "62939c8a4fe146ee5833f48a92142e10",
     "grade": false,
     "grade_id": "cell-c4ac703bc5a62d3b",
     "locked": true,
     "schema_version": 3,
     "solution": false,
     "task": false
    }
   },
   "outputs": [
    {
     "data": {
      "image/png": "[encoded data removed]",
      "text/plain": [
       "<Figure size 1080x504 with 3 Axes>"
      ]
     },
     "metadata": {
      "needs_background": "light"
     },
     "output_type": "display_data"
    }
   ],
   "source": [
    "compare_methods(labels, results)"
   ]
  },
  {
   "cell_type": "code",
   "execution_count": 50,
   "metadata": {
    "deletable": false,
    "editable": false,
    "nbgrader": {
     "cell_type": "code",
     "checksum": "aa461417560d69ebe07df21a8ad9b48e",
     "grade": false,
     "grade_id": "cell-a1ea52fda896045e",
     "locked": true,
     "schema_version": 3,
     "solution": false,
     "task": false
    }
   },
   "outputs": [
    {
     "data": {
      "image/png": "[encoded data removed]",
      "text/plain": [
       "<Figure size 720x3456 with 6 Axes>"
      ]
     },
     "metadata": {
      "needs_background": "light"
     },
     "output_type": "display_data"
    }
   ],
   "source": [
    "plot_distribution(labels, q_results)"
   ]
  },
  {
   "cell_type": "markdown",
   "metadata": {
    "deletable": false,
    "editable": false,
    "nbgrader": {
     "cell_type": "markdown",
     "checksum": "c6e424fb4065a175111443cfbf26c618",
     "grade": false,
     "grade_id": "cell-d6d65f1ab73cda9a",
     "locked": true,
     "schema_version": 3,
     "solution": false,
     "task": false
    }
   },
   "source": [
    "In the next cell, report the performance metrics for the methods (25 points):\n",
    "\n",
    "\n",
    "\n",
    "|     Model    | NDCG (s.d)| Precision@5 (s.d) | Recall@5 (s.d) |\n",
    "|:------------:|:----------:|:-----------:|:--------:|\n",
    "| Pointwise(R) |            |             |          |\n",
    "| Pointwise(C) |            |             |          |\n",
    "|   Pairwise   |            |             |          |\n",
    "|   Listwise   |            |             |          |\n",
    "\n",
    "\n",
    "\n",
    "**Rubric:** Each reported <Method, Metric> carries 2 points. "
   ]
  },
  {
   "cell_type": "markdown",
   "metadata": {
    "deletable": false,
    "nbgrader": {
     "cell_type": "markdown",
     "checksum": "89bf20199df56a7b90fa88c132800f23",
     "grade": true,
     "grade_id": "cell-5e733f8b8649a66f",
     "locked": false,
     "points": 25,
     "schema_version": 3,
     "solution": true,
     "task": false
    }
   },
   "source": [
    "YOUR ANSWER HERE\n",
    "\n",
    "|     Model    | NDCG (s.d)| Precision@5 (s.d) | Recall@5 (s.d) |\n",
    "|:------------:|:----------:|:-----------:|:--------:|\n",
    "| Pointwise(R) |           0.8689 (0.0526) |            0.6991 (0.2713) |         0.1537 (0.0822) |\n",
    "| Pointwise(C) |           0.8347 (0.0591) |            0.6034 (0.2804) |         0.1312 (0.0767) |\n",
    "|   Pairwise   |           0 |            0 |         0 |\n",
    "|   Listwise   |           0 |            0 |         0 |"
   ]
  },
  {
   "cell_type": "markdown",
   "metadata": {
    "deletable": false,
    "editable": false,
    "nbgrader": {
     "cell_type": "markdown",
     "checksum": "c36dc224821c1146261aa2e8d06bd419",
     "grade": false,
     "grade_id": "cell-067c6d8584df601e",
     "locked": true,
     "schema_version": 3,
     "solution": false,
     "task": false
    }
   },
   "source": [
    "Write a conclusion in the next cell, considering (45 points):\n",
    "- rates of convergence\n",
    "- time complexity\n",
    "- performance wrt the 3 metrics\n",
    "- performance across queries\n",
    "- ... any other observations"
   ]
  },
  {
   "cell_type": "markdown",
   "metadata": {
    "deletable": false,
    "nbgrader": {
     "cell_type": "markdown",
     "checksum": "4b8b4816351280cae45a1e498d1408fe",
     "grade": true,
     "grade_id": "cell-115db704e85b78c1",
     "locked": false,
     "points": 45,
     "schema_version": 3,
     "solution": true,
     "task": false
    }
   },
   "source": [
    "YOUR ANSWER HERE"
   ]
  },
  {
   "cell_type": "markdown",
   "metadata": {
    "deletable": false,
    "editable": false,
    "nbgrader": {
     "cell_type": "markdown",
     "checksum": "0b56e576a11e8312912751b345e72bfa",
     "grade": false,
     "grade_id": "cell-1693a9c859f14127",
     "locked": true,
     "schema_version": 3,
     "solution": false,
     "task": false
    }
   },
   "source": [
    "# Chapter 2: Online LTR (180 points) <a class=\"anchor\" id=\"onLTR\"></a>\n",
    "\n",
    "[Back to TOC](#top)\n",
    "\n",
    "In this part we want to use user interactions for training learning to rank algorithms.\n",
    "This part consists of the following sections:\n",
    " - Clicks Simulation (15 points)\n",
    " - Counterfactual Learning to Rank (80 points)\n",
    " - Online Evaluation (50 points)\n"
   ]
  },
  {
   "cell_type": "markdown",
   "metadata": {
    "deletable": false,
    "editable": false,
    "nbgrader": {
     "cell_type": "markdown",
     "checksum": "676f010e1d093ec248035d00c6888bf4",
     "grade": false,
     "grade_id": "cell-cb0180fd80d4f2cd",
     "locked": true,
     "schema_version": 3,
     "solution": false,
     "task": false
    }
   },
   "source": [
    "## Section 1: Clicks Simulation (15 points) <a class=\"anchor\" id=\"clicks\"></a>\n",
    "\n",
    "[Back to TOC](#top)\n",
    "\n",
    "In online LTR, we work with user interactions such as clicks.\n",
    "One way to test online LTR algorithms is to conduce semi-synthetic experiments.\n",
    "In semi-synthetic experiments, the feature vectors of a LTR dataset (similar to what you used in Part 1) are used.\n",
    "But instead of using the relevance labels for training the LTR algorithm, **simulated clicks** are used.\n",
    "\n",
    "In this section we want to simulate clicks based on the labels and use the generated clicks in later sections to train our Counterfactual LTR (CLTR) algorithm.\n",
    "\n",
    "First we need to have a *production ranker* that determines the order of documents for each query.\n",
    "The click probability of each document depends on its rank in the results list as well as its relevance."
   ]
  },
  {
   "cell_type": "code",
   "execution_count": 51,
   "metadata": {
    "deletable": false,
    "editable": false,
    "nbgrader": {
     "cell_type": "code",
     "checksum": "efe77df779addec15df70a2bd8a7aaee",
     "grade": false,
     "grade_id": "cell-4ae04e0717236f54",
     "locked": true,
     "schema_version": 3,
     "solution": false,
     "task": false
    }
   },
   "outputs": [
    {
     "name": "stdout",
     "output_type": "stream",
     "text": [
      "ranks has 3 keys: dict_keys(['train', 'valid', 'test'])\n",
      "train shape:(85227,)\n",
      "valid shape:(12794,)\n",
      "test shape:(29881,)\n"
     ]
    }
   ],
   "source": [
    "ranks = dataset.load_production_ranker()\n",
    "print(f'ranks has {len(ranks.keys())} keys: {ranks.keys()}')\n",
    "for key in ranks:\n",
    "    print(f'{key} shape:{ranks[key].shape}')\n",
    "    \n",
    "data.train.ranks = ranks['train']\n",
    "data.validation.ranks = ranks['valid']\n",
    "data.test.ranks = ranks['test']"
   ]
  },
  {
   "cell_type": "markdown",
   "metadata": {
    "deletable": false,
    "editable": false,
    "nbgrader": {
     "cell_type": "markdown",
     "checksum": "bc0ae9b0654edea0e837893b613af5b8",
     "grade": false,
     "grade_id": "cell-86dfb91f27aeb1cc",
     "locked": true,
     "schema_version": 3,
     "solution": false,
     "task": false
    }
   },
   "source": [
    "**Implementation (5 points):**\n",
    "Now use the `ranks` to generate clicks.\n",
    "We assume documents with label $[3,4]$ are relevant and labels $[0,1,2]$ are non-relevant.\n",
    "We also assume the examination probability of a document at rank $r$ is $\\frac{1}{r}$.\n",
    "Finally, we assume a $0.05$ noise.\n",
    "\n",
    "This means that the click probability of a document with label $[3,4]$ at rank $r$ is $\\frac{1}{r}$, while the click probability of a document with label $[0,1,2]$ at rank $r$ is $\\frac{0.05}{r}$."
   ]
  },
  {
   "cell_type": "code",
   "execution_count": 52,
   "metadata": {
    "deletable": false,
    "nbgrader": {
     "cell_type": "code",
     "checksum": "8bdfcf8895e430580912b057991ac7c0",
     "grade": false,
     "grade_id": "cell-6302b18566bcece2",
     "locked": false,
     "schema_version": 3,
     "solution": true,
     "task": false
    }
   },
   "outputs": [],
   "source": [
    "# TODO: Implement this! (5 points)\n",
    "def generate_clicks(ranking, query_labels):\n",
    "    \"\"\"\n",
    "    Generates random clicks based on the given list of ranking and relevance labels for the documents of one query.\n",
    "    Input:\n",
    "        ranking: contains the rank of documents, eg. ranking[5]=0 means that document 5 is shown at rank 0.\n",
    "        query_labels: contains the labels of documents, eg. query_labels[5]=3 means that document 5 has a label equal to 3.\n",
    "    Output:\n",
    "        A np.array of clicked positions, eq. clicked=[1,4] meanse that documents at ranks 1 and 4 have been clicked. Note that document at rank 1 may differ from document 1 (see description of ranking input).\n",
    "        \n",
    "    Hint: Use the np.random.binomial function for generating click from probability.\n",
    "    \"\"\"\n",
    "    theta = 1. / np.arange(1, ranking.shape[0] + 1)\n",
    "    noise_prob = 0.05 * theta\n",
    "    # YOUR CODE HERE\n",
    "    sort = [x for _,x in sorted(zip(ranking,query_labels))]\n",
    "    a = np.where(np.array(sort) > 2, theta, noise_prob)\n",
    "    b = np.random.binomial(n = 1, p = a)\n",
    "    return [i for i, e in enumerate(b) if e == 1]\n",
    " "
   ]
  },
  {
   "cell_type": "code",
   "execution_count": 53,
   "metadata": {
    "deletable": false,
    "editable": false,
    "nbgrader": {
     "cell_type": "code",
     "checksum": "6d5eeabc53fd3a13bb33d46f631ab3d5",
     "grade": true,
     "grade_id": "cell-098685a98a1887f4",
     "locked": true,
     "points": 5,
     "schema_version": 3,
     "solution": false,
     "task": false
    }
   },
   "outputs": [
    {
     "name": "stdout",
     "output_type": "stream",
     "text": [
      "clicks: [0, 1, 6]\n",
      "expected clicks for seed 4: [0 1 6]\n"
     ]
    }
   ],
   "source": [
    "ranking = np.array([2, 1, 3, 0, 4, 7, 5, 6])\n",
    "labels = np.array([0, 3, 4, 1, 1, 2, 4, 3])\n",
    "\n",
    "np.random.seed(4)\n",
    "print(f'clicks: {generate_clicks(ranking, labels)}')\n",
    "print('expected clicks for seed 4: [0 1 6]')\n",
    "\n"
   ]
  },
  {
   "cell_type": "markdown",
   "metadata": {
    "deletable": false,
    "editable": false,
    "nbgrader": {
     "cell_type": "markdown",
     "checksum": "5fdf6ed2c6545213fb432e06dafb088e",
     "grade": false,
     "grade_id": "cell-a45b9902b9ff34c7",
     "locked": true,
     "schema_version": 3,
     "solution": false,
     "task": false
    }
   },
   "source": [
    "**Implementation (10 points):**\n",
    "Use `generate_clicks` to simulate clicks for different query sessions.\n",
    "For this, randomly select a query id, generate random clicks on documents of that query using your `generate_clicks` implementation and only keep the clicks on `topk` positions (i.e. do not consider clicks on ranks after `topk` rank).\n",
    "Repeat this process until you have `click_count` number of clicks."
   ]
  },
  {
   "cell_type": "code",
   "execution_count": 110,
   "metadata": {
    "deletable": false,
    "nbgrader": {
     "cell_type": "code",
     "checksum": "ea8a1c5964a999322c4b30bdeecf88e6",
     "grade": false,
     "grade_id": "cell-cef4496878e0428a",
     "locked": false,
     "schema_version": 3,
     "solution": true,
     "task": false
    }
   },
   "outputs": [],
   "source": [
    "# TODO: Implement this! (10 points)\n",
    "def simulate_clicks(data, split_name, click_count, topk=20):\n",
    "    \"\"\"\n",
    "    Simulate click_count clicks on topk results on the specified split of the data.\n",
    "    Output:\n",
    "        A list L=[L_0, L_1, ..., L_n] of lists. Each L_i is itself a list of clicks over the documents of query number i, eg. L_0=[0,2,0,1,0,5,2] means that in the sessions of the first query, the documents at positions 0,1,2 and 5 were clicked 3,1,2 and 1 times, respectively.\n",
    "    \"\"\"\n",
    "    data_split = getattr(data, split_name)\n",
    "\n",
    "    num_queries = data_split.doclist_ranges.shape[0] - 1\n",
    "    clicks = [[] for _ in range(num_queries)]\n",
    "    np.random.seed(42)\n",
    "    \n",
    "#     # JORDY\n",
    "#     for i in range(click_count):\n",
    "#         qid = np.random.randint(0, data_split.num_queries()-1)\n",
    "#         start,end = data_split.query_range(qid)                \n",
    "#         rankings = ranks[split_name][start:(end-1)]\n",
    "#         labels = data_split.query_labels(qid)\n",
    "#         clicks_for_qid = generate_clicks(rankings, labels)\n",
    "#         clicks_for_qid = [x for x in clicks_for_qid if x < topk]\n",
    "#         if len(clicks_for_qid) == 0:\n",
    "#             continue\n",
    "#         clicks[qid] = clicks[qid] + clicks_for_qid\n",
    "#     return clicks\n",
    "\n",
    "    # YOES\n",
    "    amount_of_clicks = 0\n",
    "    while amount_of_clicks < click_count:\n",
    "        qid = np.random.randint(0, data_split.num_queries()-1)\n",
    "        start,end = data_split.query_range(qid)                \n",
    "        rankings = ranks[split_name][start:(end-1)]\n",
    "        labels = data_split.query_labels(qid)\n",
    "        clicks_for_qid = generate_clicks(rankings, labels)\n",
    "        clicks_for_qid = [x for x in clicks_for_qid if x < topk]\n",
    "        if len(clicks_for_qid) == 0:\n",
    "            continue\n",
    "        clicks[qid] = clicks[qid] + clicks_for_qid\n",
    "        amount_of_clicks += len(clicks_for_qid)\n",
    "    return clicks"
   ]
  },
  {
   "cell_type": "markdown",
   "metadata": {
    "deletable": false,
    "editable": false,
    "nbgrader": {
     "cell_type": "markdown",
     "checksum": "257a37637e4baec5b5da06cfb28f9c10",
     "grade": false,
     "grade_id": "cell-d31c106145d57d5a",
     "locked": true,
     "schema_version": 3,
     "solution": false,
     "task": false
    }
   },
   "source": [
    "Use `simulate_clicks` function to simulate clicks for train and validation sets.\n",
    "\n",
    "**Note:**\n",
    "You can dump your generated clicks using pickle or numby and load them in your future runs to avoid long waiting times."
   ]
  },
  {
   "cell_type": "code",
   "execution_count": 113,
   "metadata": {
    "deletable": false,
    "editable": false,
    "nbgrader": {
     "cell_type": "code",
     "checksum": "fe427c2102d2999e8bd2a6243c0d18b6",
     "grade": true,
     "grade_id": "cell-c7adb3055f3a3d5c",
     "locked": true,
     "points": 10,
     "schema_version": 3,
     "solution": false,
     "task": false
    }
   },
   "outputs": [
    {
     "name": "stdout",
     "output_type": "stream",
     "text": [
      "10000 clicks simulated over 2735 queries.\n",
      "On average, each session has 3.656307129798903 clicks.\n",
      "min number of clicks per session:0\n",
      "max number of clicks per session:41\n"
     ]
    }
   ],
   "source": [
    "train_clicks = simulate_clicks(data,'train', click_count = 10000)\n",
    "\n",
    "assert isinstance(train_clicks, list)\n",
    "session_clicks = np.array(list(map(len, train_clicks)))\n",
    "print(f'{session_clicks.sum()} clicks simulated over {session_clicks.shape[0]} queries.')\n",
    "print(f'On average, each session has {session_clicks.mean()} clicks.')\n",
    "print(f'min number of clicks per session:{session_clicks.min()}')\n",
    "print(f'max number of clicks per session:{session_clicks.max()}')\n",
    "\n"
   ]
  },
  {
   "cell_type": "markdown",
   "metadata": {
    "deletable": false,
    "editable": false,
    "nbgrader": {
     "cell_type": "markdown",
     "checksum": "87c03dbedf499cbb4ce724f2e97dc8aa",
     "grade": false,
     "grade_id": "cell-f6996aa4808d7747",
     "locked": true,
     "schema_version": 3,
     "solution": false,
     "task": false
    }
   },
   "source": [
    "For our new click data, we need a new dataloader.\n",
    "`QueryGroupedOnlineLTRData` provides what you will need for training an LTR model from the clicks:"
   ]
  },
  {
   "cell_type": "code",
   "execution_count": 56,
   "metadata": {
    "deletable": false,
    "editable": false,
    "nbgrader": {
     "cell_type": "code",
     "checksum": "da61ee98e6094a5bf41deff34136be4e",
     "grade": false,
     "grade_id": "cell-036f66cea8bae0bd",
     "locked": true,
     "schema_version": 3,
     "solution": false,
     "task": false
    }
   },
   "outputs": [],
   "source": [
    "class QueryGroupedOnlineLTRData(Dataset):\n",
    "    def __init__(self, data, split, clicks, topk):\n",
    "        self.split = {\n",
    "            \"train\": data.train,\n",
    "            \"validation\": data.validation,\n",
    "            \"test\": data.test\n",
    "        }.get(split)\n",
    "        assert self.split is not None, \"Invalid split!\"\n",
    "        self.clicks = clicks\n",
    "        self.topk = topk\n",
    "    \n",
    "    def __len__(self):\n",
    "        return self.split.num_queries()\n",
    "\n",
    "    def __getitem__(self, q_i):\n",
    "        s_i = self.split.doclist_ranges[q_i]\n",
    "        e_i = self.split.doclist_ranges[q_i + 1]\n",
    "        feature_ = self.split.feature_matrix[s_i:e_i,:]\n",
    "        ranking = self.split.ranks[s_i:e_i]\n",
    "        inverse_ranking = np.argsort(ranking)\n",
    "#       We re-order the rows of feature matrix so that in coincides with the ranking of documents.\n",
    "#       We also cut the documents after rank topk.\n",
    "        feature = torch.FloatTensor(feature_[inverse_ranking[:self.topk],:])\n",
    "        clicks = self.clicks[q_i]\n",
    "        return q_i, feature, clicks\n",
    "    \n",
    "def qgo_collate_fn(batch):\n",
    "    \n",
    "    qids = []\n",
    "    features = []\n",
    "    clicks = []\n",
    "    \n",
    "    for (q, f, l) in batch:\n",
    "        qids.append(q)\n",
    "        features.append(f)\n",
    "        clicks.append(l)\n",
    "    return qids, features, clicks\n",
    "    "
   ]
  },
  {
   "cell_type": "markdown",
   "metadata": {
    "deletable": false,
    "editable": false,
    "nbgrader": {
     "cell_type": "markdown",
     "checksum": "33284e30370a8dfdd116267499660b27",
     "grade": false,
     "grade_id": "cell-3ff364596e375e19",
     "locked": true,
     "schema_version": 3,
     "solution": false,
     "task": false
    }
   },
   "source": [
    "## Section 2: Counterfactual LTR (90 points) <a class=\"anchor\" id=\"cLTR\"></a>\n",
    "\n",
    "[Back to TOC](#top)\n",
    "\n",
    "Now we want to use the simulated clicks and train a counterfactual LTR algorithm.\n",
    "We will use a simple loss function:\n",
    "\n",
    "$$\n",
    "L=\\frac{1}{|Q|} \\sum_{q \\in Q} \\sum_{d \\in D_q} r(d, q) \\cdot \\lambda(\\bar{rank}(d, D_q))\n",
    "$$\n",
    "where $Q$ is the set of queries, $D_q$ is the list of documents shown to the user for query $q$, $r(d, q)$ is the relevance of document $d$ to query $q$ and $rank(d, D_q)$ is the rank of $d$ in $D_q$.\n",
    "\n",
    "In this assignment, we use sigmoid-like bound for $\\lambda(\\bar{rank}(d, D_q))$:\n",
    "\n",
    "$$\n",
    "\\lambda(\\bar{rank}(d, D_q)) = \\sum_{d' \\in D_q} log\\left(\n",
    "1+exp\\left(-2\\cdot(f(d)-f(d')\\right)\n",
    "\\right)\n",
    "$$\n"
   ]
  },
  {
   "cell_type": "markdown",
   "metadata": {
    "deletable": false,
    "editable": false,
    "nbgrader": {
     "cell_type": "markdown",
     "checksum": "a52232af5a6b442146258942ced99353",
     "grade": false,
     "grade_id": "cell-5d364d940f11536e",
     "locked": true,
     "schema_version": 3,
     "solution": false,
     "task": false
    }
   },
   "source": [
    "### Section 2.1. Biased LTR (20 points)\n",
    "\n",
    "Remember that we do not have the explicit relevance in the online settings.\n",
    "Instead, we have to learn from the clicks.\n",
    "Clicks, implicitly indicate relevance.\n",
    "A naive approach for learning from clicks would be to replace relevance with clicks and train a model with the loss function:\n",
    "\n",
    "$$\n",
    "L_{biased}=\\frac{1}{|Q|} \\sum_{q \\in Q} \\sum_{d \\in D_q} c(d, q) \\cdot \\lambda(\\bar{rank}(d, D_q))\n",
    "$$\n",
    "where $c(d, q)$ indicates the number of times $d$ was clicked for query $q$."
   ]
  },
  {
   "cell_type": "code",
   "execution_count": 119,
   "metadata": {
    "deletable": false,
    "nbgrader": {
     "cell_type": "code",
     "checksum": "defc1880152e68dd36c21992263f8d56",
     "grade": false,
     "grade_id": "cell-6b45762861989c96",
     "locked": false,
     "schema_version": 3,
     "solution": true,
     "task": false
    }
   },
   "outputs": [],
   "source": [
    "# TODO: Implement this! (20 points)\n",
    "def online_loss_biased(scores, clicks):\n",
    "    \"\"\"\n",
    "    Compute and return the biased online loss *for a single query*. To compute this, use L_{biased} formula above.\n",
    "    \n",
    "    scores: tensor of size [N, 1] (the output of a neural network), where N = length of <query, document> pairs\n",
    "    clicks: list of clicked ranks. \n",
    "    \n",
    "    Note: the scores are aligned with the click positions, i.e. scores[0] corresponds to the 0 rand, etc.\n",
    "    \n",
    "    \"\"\"\n",
    "    from collections import Counter\n",
    "    click_counts = Counter(clicks)\n",
    "    \n",
    "    # YOUR CODE HERE\n",
    "    clicks_vector = np.bincount(clicks, minlength = len(scores))\n",
    "    scores = scores.squeeze(1)\n",
    "#     sorted_clicks = sorted(click_counts.items(), key=lambda pair: pair[0], reverse=False)\n",
    "#     clicks_vector = [click[1] for click in sorted_clicks]\n",
    "    score_matrix = scores[:,None]-scores[None,:]\n",
    "    lambda_sigmoid = torch.sum(torch.log(1 + torch.exp(-2*score_matrix)), 1)\n",
    "    loss = torch.sum(torch.FloatTensor(clicks_vector) * lambda_sigmoid)\n",
    "    return loss "
   ]
  },
  {
   "cell_type": "code",
   "execution_count": 120,
   "metadata": {
    "deletable": false,
    "editable": false,
    "nbgrader": {
     "cell_type": "code",
     "checksum": "dd1acc24a7415fcae69fa183a51afb28",
     "grade": true,
     "grade_id": "cell-d09e7eb339052376",
     "locked": true,
     "points": 20,
     "schema_version": 3,
     "solution": false,
     "task": false
    }
   },
   "outputs": [
    {
     "name": "stdout",
     "output_type": "stream",
     "text": [
      "biased loss: 139.16244506835938\n",
      "expected: 139.16246032714844\n"
     ]
    }
   ],
   "source": [
    "scores = torch.FloatTensor([1.2, -2, 1.1, 2.4, 0, 1.2])[:,None]\n",
    "clicks = [0, 0, 1, 3, 1, 4, 0, 5, 0, 1, 2]\n",
    "print(f'biased loss: {online_loss_biased(scores, clicks)}')\n",
    "print(f'expected: 139.16246032714844')\n",
    "\n"
   ]
  },
  {
   "cell_type": "markdown",
   "metadata": {
    "deletable": false,
    "editable": false,
    "nbgrader": {
     "cell_type": "markdown",
     "checksum": "48efe214b4ffd699be8ebbbf0016b467",
     "grade": false,
     "grade_id": "cell-318d7a3b824c5f99",
     "locked": true,
     "schema_version": 3,
     "solution": false,
     "task": false
    }
   },
   "source": [
    "### Section 2.2. Unbiased LTR (10 points)\n",
    "Now modify `online_loss_biased` to debias the clicks, using IPS method:\n",
    "\n",
    "$$\n",
    "L_{unbiased}=\\frac{1}{|Q|} \\sum_{q \\in Q} \\sum_{d \\in D_q} \\frac{c(d, q)}{P\\left(o(d,q)=1\\right)} \\cdot \\lambda(\\bar{rank}(d, D_q))\n",
    "$$\n",
    "where $P\\left(o(d,q)=1\\right)$ indicates the probability that $d$ was observed by the user for query $q$."
   ]
  },
  {
   "cell_type": "code",
   "execution_count": 121,
   "metadata": {
    "deletable": false,
    "nbgrader": {
     "cell_type": "code",
     "checksum": "6e0238d2d1cabe1a3d21b0cc44a54d61",
     "grade": false,
     "grade_id": "cell-9362e909abcb1d91",
     "locked": false,
     "schema_version": 3,
     "solution": true,
     "task": false
    }
   },
   "outputs": [],
   "source": [
    "# TODO: Implement this! (10 points)\n",
    "def online_loss_unbiased(scores, clicks):\n",
    "    \"\"\"\n",
    "    Compute and return the unbiased online loss *for a single query*. To compute this, use L_{unbiased} formula above.\n",
    "    \n",
    "    scores: tensor of size [N, 1] (the output of a neural network), where N = length of <query, document> pairs\n",
    "    clicks: list of clicked ranks. \n",
    "    \n",
    "    Note 1: the scores are aligned with the click positions, i.e. scores[0] corresponds to the 0 rand, etc.\n",
    "    Note 2: the weights are provided.\n",
    "    \n",
    "    \"\"\"\n",
    "    \n",
    "    from collections import Counter\n",
    "    click_counts = Counter(clicks)\n",
    "    weights = torch.Tensor((1./np.arange(1,scores.shape[0]+1))[:,None])\n",
    "    \n",
    "    # YOUR CODE HERE\n",
    "    scores = scores.squeeze(1)\n",
    "    weights = weights.squeeze(1)\n",
    "#     sorted_clicks = sorted(click_counts.items(), key=lambda pair: pair[0], reverse=False)\n",
    "#     clicks_vector = [click[1] for click in sorted_clicks]\n",
    "    clicks_vector = np.bincount(clicks, minlength = len(scores))  # counts occurence of clicks for each document. Count is 0 if there is no click\n",
    "    score_matrix = scores[:,None]-scores[None,:]\n",
    "    lambda_sigmoid = torch.sum(torch.log(1 + torch.exp(-2*score_matrix)), 1)\n",
    "    loss = torch.sum(torch.tensor(clicks_vector) / weights * lambda_sigmoid)\n",
    "    return loss"
   ]
  },
  {
   "cell_type": "code",
   "execution_count": 122,
   "metadata": {
    "deletable": false,
    "editable": false,
    "nbgrader": {
     "cell_type": "code",
     "checksum": "e2bcac0a6c4afe70fca335c8d648122f",
     "grade": true,
     "grade_id": "cell-30b468279fbb6de5",
     "locked": true,
     "points": 10,
     "schema_version": 3,
     "solution": false,
     "task": false
    }
   },
   "outputs": [
    {
     "name": "stdout",
     "output_type": "stream",
     "text": [
      "unbiased loss: 323.6814270019531\n",
      "expected: 323.68145751953125\n"
     ]
    }
   ],
   "source": [
    "scores = torch.FloatTensor([1.2, -2, 1.1, 2.4, 0, 1.2])[:,None]\n",
    "clicks = [0, 0, 1, 3, 1, 4, 0, 5, 0, 1, 2]\n",
    "print(f'unbiased loss: {online_loss_unbiased(scores, clicks)}')\n",
    "print(f'expected: 323.68145751953125')\n"
   ]
  },
  {
   "cell_type": "markdown",
   "metadata": {
    "deletable": false,
    "editable": false,
    "nbgrader": {
     "cell_type": "markdown",
     "checksum": "f4f49c8953f6080ec340ebe076f9caf6",
     "grade": false,
     "grade_id": "cell-e385419532bb6535",
     "locked": true,
     "schema_version": 3,
     "solution": false,
     "task": false
    }
   },
   "source": [
    "**Implementation (60 points):**\n",
    "In the next cell, write a wrapper that uses your loss functions and simulated clicks to train an online LTR method (no evaluation on validation set is required):\n",
    "\n",
    "**Rubric:**\n",
    " - Network is trained for specified epochs, and iterates over the entire dataset and (train) data is shuffled : 10 points\n",
    " - Loss calculation: 10 points\n",
    " - Training (e.g optimizer, zero_grad, backward): 10 points\n",
    " - Performance as expected for biased loss: 15 points\n",
    " - Performance as expected for unbiased loss: 15 points"
   ]
  },
  {
   "cell_type": "code",
   "execution_count": null,
   "metadata": {
    "deletable": false,
    "nbgrader": {
     "cell_type": "code",
     "checksum": "1113e39b6c82d64e959436f049df22ac",
     "grade": false,
     "grade_id": "cell-155a60a13f0dabb3",
     "locked": false,
     "schema_version": 3,
     "solution": true,
     "task": false
    }
   },
   "outputs": [],
   "source": [
    "# TODO: Implement this! (60 points)\n",
    "def train_online(net, train_clicks, loss_fn, params):\n",
    "    \"\"\"\n",
    "    Use QueryGroupedOnlineLTRData to load the data train split and clicks.\n",
    "    Use the appropriate loss_fn (biased/unbiased).\n",
    "    No need to use validation set.\n",
    "    \"\"\"\n",
    "    # YOUR CODE HERE\n",
    "    ## Rubric:\n",
    "        # Network is trained for specified epochs, and iterates over the entire dataset and (train) data is shuffled : 10 points\n",
    "        # Loss calculation: 10 points\n",
    "        # Training (e.g optimizer, zero_grad, backward): 10 points\n",
    "        # Performance as expected for biased loss: 15 points\n",
    "        # Performance as expected for unbiased loss: 15 points\n",
    "     \n",
    "    train_metrics_epoch = []   \n",
    "    \n",
    "    # Define parameters\n",
    "    epochs = params.epochs\n",
    "    learning_rate = params.lr\n",
    "    batch_size = 1\n",
    "    topk = params.topk\n",
    "    \n",
    "    # Specify prediction function\n",
    "    loss_function = loss_fn\n",
    "    pred_fn = net\n",
    "    \n",
    "    # Define Adam optimizer\n",
    "    optimizer = Adam(net.parameters(), lr=learning_rate)\n",
    "    \n",
    "    # Create train & validation data:\n",
    "    train_dl = DataLoader(QueryGroupedOnlineLTRData(data, \"train\", train_clicks, topk), batch_size=batch_size, shuffle=True, collate_fn=qg_collate_fn)\n",
    "    \n",
    "    # Training loop\n",
    "    for epoch in range(epochs):\n",
    "        net.zero_grad()\n",
    "        loss = 0\n",
    "        for (query_ids, features, clicks) in tqdm(train_dl): # loop over 2735 different queries\n",
    "            if clicks != [[]]:\n",
    "                out = torch.FloatTensor()\n",
    "                for query, x, c in zip(query_ids, features, clicks): # run over all documents for a specific query\n",
    "                    out = torch.cat([out, net(x)]) # concatenates outputs of the network for each of the documents belonging to query q_i\n",
    "                loss += loss_function(out, clicks[0])\n",
    "        loss = loss/len(query_ids)\n",
    "        loss.backward()\n",
    "        optimizer.step()\n",
    "        \n",
    "        # EVALUATE\n",
    "        train_evaluation = evaluate_model(pred_fn, \"train\", print_results=True, q_level=True)  #def evaluate_model(pred_fn, split, batch_size=256, print_results=False, q_level=False):\n",
    " \n",
    "        # Save the appropriate evaluations\n",
    "        for m in params.metrics:\n",
    "            train_metrics_epoch.append({m : train_evaluation[0][m]})\n",
    "            \n",
    "        # print metrics    \n",
    "        print(\"train: \", train_metrics_epoch[epoch])\n",
    "    \n",
    "    return {\n",
    "        \"metrics_train\": train_metrics_epoch\n",
    "    }\n",
    "\n",
    "params = Namespace(epochs=3, lr=1e-3, topk=20, metrics = {\"ndcg\", \"precision@05\", \"recall@05\"})\n",
    "biased_net = NeuralModule(1)\n",
    "train_online(biased_net, train_clicks, online_loss_unbiased, params)"
   ]
  },
  {
   "cell_type": "code",
   "execution_count": 123,
   "metadata": {
    "deletable": false,
    "editable": false,
    "nbgrader": {
     "cell_type": "code",
     "checksum": "688a802dd604c3f002a9c5b26822b42d",
     "grade": false,
     "grade_id": "cell-2899cebacae54c00",
     "locked": true,
     "schema_version": 3,
     "solution": false,
     "task": false
    }
   },
   "outputs": [
    {
     "data": {
      "application/vnd.jupyter.widget-view+json": {
       "model_id": "296f335f248d4d10aaeece9421168fca",
       "version_major": 2,
       "version_minor": 0
      },
      "text/plain": [
       "  0%|          | 0/2735 [00:00<?, ?it/s]"
      ]
     },
     "metadata": {},
     "output_type": "display_data"
    },
    {
     "data": {
      "application/vnd.jupyter.widget-view+json": {
       "model_id": "",
       "version_major": 2,
       "version_minor": 0
      },
      "text/plain": [
       "Eval (train):   0%|          | 0/333 [00:00<?, ?it/s]"
      ]
     },
     "metadata": {},
     "output_type": "display_data"
    },
    {
     "name": "stdout",
     "output_type": "stream",
     "text": [
      "\"metric\": \"mean\" (\"standard deviation\")\n",
      "dcg: 77.5013 (18.78344)\n",
      "dcg@03: 3.1117 (2.54697)\n",
      "dcg@05: 4.2287 (2.97119)\n",
      "dcg@10: 6.3431 (3.68902)\n",
      "dcg@20: 9.4146 (4.93231)\n",
      "ndcg: 0.6254 (0.05418)\n",
      "ndcg@03: 0.1154 (0.10433)\n",
      "ndcg@05: 0.1193 (0.09260)\n",
      "ndcg@10: 0.1301 (0.08142)\n",
      "ndcg@20: 0.1453 (0.07770)\n",
      "precision@01: 0.0360 (0.18638)\n",
      "precision@03: 0.0430 (0.12582)\n",
      "precision@05: 0.0426 (0.10156)\n",
      "precision@10: 0.0420 (0.07416)\n",
      "precision@20: 0.0405 (0.05609)\n",
      "recall@01: 0.0015 (0.00865)\n",
      "recall@03: 0.0052 (0.01727)\n",
      "recall@05: 0.0085 (0.02137)\n",
      "recall@10: 0.0170 (0.03316)\n",
      "recall@20: 0.0341 (0.05047)\n",
      "relevant rank: 174.6806 (69.71679)\n",
      "relevant rank per query: 4149.8438 (1929.18533)\n"
     ]
    },
    {
     "data": {
      "application/vnd.jupyter.widget-view+json": {
       "model_id": "6f9109ec16604db58a064e76d8290e0d",
       "version_major": 2,
       "version_minor": 0
      },
      "text/plain": [
       "  0%|          | 0/2735 [00:00<?, ?it/s]"
      ]
     },
     "metadata": {},
     "output_type": "display_data"
    },
    {
     "data": {
      "application/vnd.jupyter.widget-view+json": {
       "model_id": "",
       "version_major": 2,
       "version_minor": 0
      },
      "text/plain": [
       "Eval (train):   0%|          | 0/333 [00:00<?, ?it/s]"
      ]
     },
     "metadata": {},
     "output_type": "display_data"
    },
    {
     "name": "stdout",
     "output_type": "stream",
     "text": [
      "\"metric\": \"mean\" (\"standard deviation\")\n",
      "dcg: 82.5697 (19.36694)\n",
      "dcg@03: 4.0746 (3.27706)\n",
      "dcg@05: 5.7417 (3.93205)\n",
      "dcg@10: 8.9525 (4.91475)\n",
      "dcg@20: 14.2722 (6.39948)\n",
      "ndcg: 0.6674 (0.05973)\n",
      "ndcg@03: 0.1532 (0.13114)\n",
      "ndcg@05: 0.1641 (0.12320)\n",
      "ndcg@10: 0.1851 (0.11029)\n",
      "ndcg@20: 0.2220 (0.10369)\n",
      "precision@01: 0.0571 (0.23195)\n",
      "precision@03: 0.0741 (0.17092)\n",
      "precision@05: 0.0775 (0.14165)\n",
      "precision@10: 0.0826 (0.11336)\n",
      "precision@20: 0.0896 (0.09082)\n",
      "recall@01: 0.0028 (0.01357)\n",
      "recall@03: 0.0096 (0.02345)\n",
      "recall@05: 0.0160 (0.03164)\n",
      "recall@10: 0.0348 (0.04851)\n",
      "recall@20: 0.0753 (0.07367)\n",
      "relevant rank: 141.4255 (78.55686)\n",
      "relevant rank per query: 3359.8108 (1768.17850)\n"
     ]
    },
    {
     "data": {
      "application/vnd.jupyter.widget-view+json": {
       "model_id": "58b2a3851b634ad5aec1d79de0c4057e",
       "version_major": 2,
       "version_minor": 0
      },
      "text/plain": [
       "  0%|          | 0/2735 [00:00<?, ?it/s]"
      ]
     },
     "metadata": {},
     "output_type": "display_data"
    },
    {
     "data": {
      "application/vnd.jupyter.widget-view+json": {
       "model_id": "",
       "version_major": 2,
       "version_minor": 0
      },
      "text/plain": [
       "Eval (train):   0%|          | 0/333 [00:00<?, ?it/s]"
      ]
     },
     "metadata": {},
     "output_type": "display_data"
    },
    {
     "name": "stdout",
     "output_type": "stream",
     "text": [
      "\"metric\": \"mean\" (\"standard deviation\")\n",
      "dcg: 84.8193 (20.04469)\n",
      "dcg@03: 4.5107 (3.62325)\n",
      "dcg@05: 6.3889 (4.40433)\n",
      "dcg@10: 10.2493 (5.56125)\n",
      "dcg@20: 16.1415 (6.95750)\n",
      "ndcg: 0.6849 (0.05809)\n",
      "ndcg@03: 0.1677 (0.14099)\n",
      "ndcg@05: 0.1811 (0.13483)\n",
      "ndcg@10: 0.2091 (0.11782)\n",
      "ndcg@20: 0.2482 (0.10405)\n",
      "precision@01: 0.0811 (0.27296)\n",
      "precision@03: 0.0911 (0.18460)\n",
      "precision@05: 0.1051 (0.15770)\n",
      "precision@10: 0.1141 (0.12620)\n",
      "precision@20: 0.1189 (0.09964)\n",
      "recall@01: 0.0035 (0.01310)\n",
      "recall@03: 0.0122 (0.02671)\n",
      "recall@05: 0.0235 (0.03877)\n",
      "recall@10: 0.0483 (0.05382)\n",
      "recall@20: 0.1010 (0.08279)\n",
      "relevant rank: 119.4127 (73.51546)\n",
      "relevant rank per query: 2836.8589 (1572.96109)\n"
     ]
    },
    {
     "data": {
      "application/vnd.jupyter.widget-view+json": {
       "model_id": "4fe35083b64c4018a9f73dda4c08bd50",
       "version_major": 2,
       "version_minor": 0
      },
      "text/plain": [
       "  0%|          | 0/2735 [00:00<?, ?it/s]"
      ]
     },
     "metadata": {},
     "output_type": "display_data"
    },
    {
     "data": {
      "application/vnd.jupyter.widget-view+json": {
       "model_id": "",
       "version_major": 2,
       "version_minor": 0
      },
      "text/plain": [
       "Eval (train):   0%|          | 0/333 [00:00<?, ?it/s]"
      ]
     },
     "metadata": {},
     "output_type": "display_data"
    },
    {
     "name": "stdout",
     "output_type": "stream",
     "text": [
      "\"metric\": \"mean\" (\"standard deviation\")\n",
      "dcg: 80.6012 (18.35244)\n",
      "dcg@03: 4.3050 (2.83586)\n",
      "dcg@05: 5.8145 (3.28164)\n",
      "dcg@10: 8.6762 (3.80701)\n",
      "dcg@20: 13.1093 (4.55411)\n",
      "ndcg: 0.6526 (0.05165)\n",
      "ndcg@03: 0.1601 (0.11135)\n",
      "ndcg@05: 0.1646 (0.09750)\n",
      "ndcg@10: 0.1792 (0.08456)\n",
      "ndcg@20: 0.2056 (0.07721)\n",
      "precision@01: 0.0601 (0.23760)\n",
      "precision@03: 0.0711 (0.17316)\n",
      "precision@05: 0.0679 (0.13182)\n",
      "precision@10: 0.0616 (0.08951)\n",
      "precision@20: 0.0575 (0.06382)\n",
      "recall@01: 0.0027 (0.01177)\n",
      "recall@03: 0.0089 (0.02312)\n",
      "recall@05: 0.0146 (0.02924)\n",
      "recall@10: 0.0259 (0.03791)\n",
      "recall@20: 0.0485 (0.05233)\n",
      "relevant rank: 169.3136 (74.70869)\n",
      "relevant rank per query: 4022.3423 (1905.59915)\n"
     ]
    },
    {
     "data": {
      "application/vnd.jupyter.widget-view+json": {
       "model_id": "2020c3bcce9640c8a9a23514bf33ecff",
       "version_major": 2,
       "version_minor": 0
      },
      "text/plain": [
       "  0%|          | 0/2735 [00:00<?, ?it/s]"
      ]
     },
     "metadata": {},
     "output_type": "display_data"
    },
    {
     "data": {
      "application/vnd.jupyter.widget-view+json": {
       "model_id": "",
       "version_major": 2,
       "version_minor": 0
      },
      "text/plain": [
       "Eval (train):   0%|          | 0/333 [00:00<?, ?it/s]"
      ]
     },
     "metadata": {},
     "output_type": "display_data"
    },
    {
     "name": "stdout",
     "output_type": "stream",
     "text": [
      "\"metric\": \"mean\" (\"standard deviation\")\n",
      "dcg: 80.8823 (18.58089)\n",
      "dcg@03: 3.8499 (2.69905)\n",
      "dcg@05: 5.2903 (3.08437)\n",
      "dcg@10: 8.1280 (4.07908)\n",
      "dcg@20: 12.5882 (5.36017)\n",
      "ndcg: 0.6546 (0.05639)\n",
      "ndcg@03: 0.1437 (0.10991)\n",
      "ndcg@05: 0.1510 (0.09878)\n",
      "ndcg@10: 0.1697 (0.09730)\n",
      "ndcg@20: 0.1973 (0.09118)\n",
      "precision@01: 0.0420 (0.20069)\n",
      "precision@03: 0.0571 (0.14754)\n",
      "precision@05: 0.0577 (0.11616)\n",
      "precision@10: 0.0604 (0.09798)\n",
      "precision@20: 0.0598 (0.07761)\n",
      "recall@01: 0.0020 (0.01095)\n",
      "recall@03: 0.0077 (0.02283)\n",
      "recall@05: 0.0127 (0.02883)\n",
      "recall@10: 0.0266 (0.04518)\n",
      "recall@20: 0.0503 (0.06407)\n",
      "relevant rank: 160.1956 (75.89565)\n",
      "relevant rank per query: 3805.7267 (1893.88442)\n"
     ]
    },
    {
     "data": {
      "application/vnd.jupyter.widget-view+json": {
       "model_id": "00a11bc29e414d04898ea3f343b777da",
       "version_major": 2,
       "version_minor": 0
      },
      "text/plain": [
       "  0%|          | 0/2735 [00:00<?, ?it/s]"
      ]
     },
     "metadata": {},
     "output_type": "display_data"
    },
    {
     "data": {
      "application/vnd.jupyter.widget-view+json": {
       "model_id": "",
       "version_major": 2,
       "version_minor": 0
      },
      "text/plain": [
       "Eval (train):   0%|          | 0/333 [00:00<?, ?it/s]"
      ]
     },
     "metadata": {},
     "output_type": "display_data"
    },
    {
     "name": "stdout",
     "output_type": "stream",
     "text": [
      "\"metric\": \"mean\" (\"standard deviation\")\n",
      "dcg: 83.6761 (19.74702)\n",
      "dcg@03: 4.3884 (3.96251)\n",
      "dcg@05: 5.9552 (4.56015)\n",
      "dcg@10: 9.2482 (5.63926)\n",
      "dcg@20: 14.2571 (6.95421)\n",
      "ndcg: 0.6760 (0.06051)\n",
      "ndcg@03: 0.1655 (0.15487)\n",
      "ndcg@05: 0.1698 (0.13688)\n",
      "ndcg@10: 0.1899 (0.11994)\n",
      "ndcg@20: 0.2208 (0.10909)\n",
      "precision@01: 0.1021 (0.30278)\n",
      "precision@03: 0.1011 (0.19015)\n",
      "precision@05: 0.0937 (0.15612)\n",
      "precision@10: 0.0940 (0.11738)\n",
      "precision@20: 0.0944 (0.09198)\n",
      "recall@01: 0.0050 (0.01692)\n",
      "recall@03: 0.0143 (0.03073)\n",
      "recall@05: 0.0203 (0.03589)\n",
      "recall@10: 0.0404 (0.05294)\n",
      "recall@20: 0.0832 (0.08104)\n",
      "relevant rank: 124.0671 (72.21012)\n",
      "relevant rank per query: 2947.4324 (1589.18295)\n"
     ]
    },
    {
     "data": {
      "text/plain": [
       "{'metrics_train': [{'ndcg': (0.6525694336014706, 0.0516539444086365)},\n",
       "  {'recall@05': (0.014586701446687328, 0.029244287327711446)},\n",
       "  {'precision@05': (0.06786786786786787, 0.1318178079511703)},\n",
       "  {'ndcg': (0.6546142256944576, 0.05639215567889285)},\n",
       "  {'recall@05': (0.012731293910144152, 0.028828459108573613)},\n",
       "  {'precision@05': (0.057657657657657665, 0.11615683936062125)},\n",
       "  {'ndcg': (0.6760421579711399, 0.06050785150214086)},\n",
       "  {'recall@05': (0.020300020532650398, 0.035889453960120214)},\n",
       "  {'precision@05': (0.09369369369369371, 0.15612381277430248)}]}"
      ]
     },
     "execution_count": 123,
     "metadata": {},
     "output_type": "execute_result"
    }
   ],
   "source": [
    "params = Namespace(epochs=3, lr=1e-3, topk=20, metrics = {\"ndcg\", \"precision@05\", \"recall@05\"})\n",
    "train_clicks = simulate_clicks(data,'train', click_count = 50000)\n",
    "biased_net = NeuralModule(1)\n",
    "train_online(biased_net, train_clicks, online_loss_biased, params)\n",
    "unbiased_net = NeuralModule(1)\n",
    "train_online(unbiased_net, train_clicks, online_loss_unbiased, params)"
   ]
  },
  {
   "cell_type": "code",
   "execution_count": null,
   "metadata": {
    "deletable": false,
    "editable": false,
    "nbgrader": {
     "cell_type": "code",
     "checksum": "6ff8105a6912656bef1bf2642a977fee",
     "grade": false,
     "grade_id": "cell-0511eb2be587f032",
     "locked": true,
     "schema_version": 3,
     "solution": false,
     "task": false
    }
   },
   "outputs": [],
   "source": [
    "evaluate_model(biased_net, 'test', print_results=True)\n",
    "evaluate_model(unbiased_net, 'test', print_results=True)"
   ]
  },
  {
   "cell_type": "code",
   "execution_count": null,
   "metadata": {
    "deletable": false,
    "editable": false,
    "nbgrader": {
     "cell_type": "code",
     "checksum": "3a5138ee2bdc3b5682d5ed8b7bcc1202",
     "grade": false,
     "grade_id": "cell-c497608f3d46e769",
     "locked": true,
     "schema_version": 3,
     "solution": false,
     "task": false
    }
   },
   "outputs": [],
   "source": [
    "seed(42)\n",
    "train_clicks = simulate_clicks(data,'train', click_count = 50000)\n",
    "params = Namespace(epochs=3, \n",
    "                    lr=1e-3,\n",
    "                    batch_size=1,\n",
    "                    topk=20,\n",
    "                    metrics={\"ndcg\", \"precision@05\", \"recall@05\"})\n",
    "biased_model = NeuralModule(1)\n",
    "\n",
    "create_results(biased_model, \n",
    "               train_online, \n",
    "               biased_model,\n",
    "               \"./biased_model.json\",\n",
    "               train_clicks,\n",
    "               online_loss_biased,\n",
    "               params)\n",
    "# persist model\n",
    "torch.save(biased_model.state_dict(), \"./biased_wt\")"
   ]
  },
  {
   "cell_type": "code",
   "execution_count": null,
   "metadata": {
    "deletable": false,
    "editable": false,
    "nbgrader": {
     "cell_type": "code",
     "checksum": "d9b104b0cc6204f1f3c6ac9bbf88171f",
     "grade": false,
     "grade_id": "cell-9df7065c5b887449",
     "locked": true,
     "schema_version": 3,
     "solution": false,
     "task": false
    }
   },
   "outputs": [],
   "source": [
    "seed(42)\n",
    "\n",
    "params = Namespace(epochs=3, \n",
    "                    lr=1e-3,\n",
    "                    batch_size=1,\n",
    "                    topk=20,\n",
    "                    metrics={\"ndcg\", \"precision@05\", \"recall@05\"})\n",
    "unbiased_model = NeuralModule(1)\n",
    "\n",
    "create_results(unbiased_model, \n",
    "               train_online, \n",
    "               unbiased_model,\n",
    "               \"./unbiased_model.json\",\n",
    "               train_clicks,\n",
    "               online_loss_unbiased,\n",
    "               params)\n",
    "# persist model\n",
    "torch.save(biased_model.state_dict(), \"./unbiased_wt\")"
   ]
  },
  {
   "cell_type": "code",
   "execution_count": null,
   "metadata": {
    "deletable": false,
    "nbgrader": {
     "cell_type": "code",
     "checksum": "93ede3bc5a61edfb93777647c3ae0b1a",
     "grade": true,
     "grade_id": "cell-5a98cb1d4dccab54",
     "locked": false,
     "points": 30,
     "schema_version": 3,
     "solution": true,
     "task": false
    }
   },
   "outputs": [],
   "source": [
    "# YOUR CODE HERE\n",
    "# raise NotImplementedError()"
   ]
  },
  {
   "cell_type": "code",
   "execution_count": null,
   "metadata": {
    "deletable": false,
    "editable": false,
    "nbgrader": {
     "cell_type": "code",
     "checksum": "34fad8b3eebaaca7a38cf37fb55433e3",
     "grade": true,
     "grade_id": "cell-6eaff35ed2f350ea",
     "locked": true,
     "points": 15,
     "schema_version": 3,
     "solution": false,
     "task": false
    }
   },
   "outputs": [],
   "source": []
  },
  {
   "cell_type": "code",
   "execution_count": null,
   "metadata": {
    "deletable": false,
    "editable": false,
    "nbgrader": {
     "cell_type": "code",
     "checksum": "f8cc768ddc4dd12732fc4c1b42cf015d",
     "grade": true,
     "grade_id": "cell-6a1e7d45a6b24c7c",
     "locked": true,
     "points": 15,
     "schema_version": 3,
     "solution": false,
     "task": false
    }
   },
   "outputs": [],
   "source": []
  },
  {
   "cell_type": "markdown",
   "metadata": {
    "deletable": false,
    "editable": false,
    "nbgrader": {
     "cell_type": "markdown",
     "checksum": "ca775c32f1df7ef6d70c60b3e365adf4",
     "grade": false,
     "grade_id": "cell-08980b08558f70e8",
     "locked": true,
     "schema_version": 3,
     "solution": false,
     "task": false
    }
   },
   "source": [
    "### Section 2.3: Comparison (20 points)\n",
    "\n",
    "Now we can compare two loss functions: biased and unbiased.\n",
    "We want to see how they can improve by increasing the number of training clicks.\n",
    "Train both biased and unbaised models on $[2000, 10000, 50000]$ number of clicks and compare the results.\n",
    "\n",
    "Plot the results in a **single** figure with x-axis showing the number of trainin clicks and y-axis showing the nDCG@10.\n",
    "Discuss your observations.\n",
    "\n",
    "\n",
    "**Rubric:**\n",
    "- Two curves are plotted in the figure: 10 points\n",
    "- Clear titles, x label, y labels and legends (if applicable): 5 points\n",
    "- Explain what you observe: 5 points"
   ]
  },
  {
   "cell_type": "code",
   "execution_count": null,
   "metadata": {
    "deletable": false,
    "nbgrader": {
     "cell_type": "code",
     "checksum": "76693360dd6493e5811d1908eacf8227",
     "grade": true,
     "grade_id": "cell-f51a0be2734c9352",
     "locked": false,
     "points": 20,
     "schema_version": 3,
     "solution": true,
     "task": false
    }
   },
   "outputs": [],
   "source": [
    "# YOUR CODE HERE\n",
    "raise NotImplementedError()"
   ]
  },
  {
   "cell_type": "markdown",
   "metadata": {
    "deletable": false,
    "editable": false,
    "nbgrader": {
     "cell_type": "markdown",
     "checksum": "ce47393cb34036b50fde6780cdb9f772",
     "grade": false,
     "grade_id": "cell-6bd0ff7cecc1b060",
     "locked": true,
     "schema_version": 3,
     "solution": false,
     "task": false
    }
   },
   "source": [
    "## Section 3: Online Evaluation (75 points) <a class=\"anchor\" id=\"on_eval\"></a>\n",
    "\n",
    "[Back to TOC](#top)\n",
    "\n",
    "Sometimes, in online search engines, we want to compare two or more different ranking functions based on the user interactions.\n",
    "This comparison is done via online evaluation.\n",
    "\n",
    "In this section we implement one of the online evaluation methods: probabilistic multileaving.\n",
    "\n",
    "We compare three rankers:\n",
    " - Production ranker: the ranks that are provided to you for doing the click simulation.\n",
    " - Biased method from previous section.\n",
    " - Unbiased method from previous section"
   ]
  },
  {
   "cell_type": "markdown",
   "metadata": {
    "deletable": false,
    "editable": false,
    "nbgrader": {
     "cell_type": "markdown",
     "checksum": "590bdae1272cdd45e304d0498de730bc",
     "grade": false,
     "grade_id": "cell-6ca9cf6f08e6b7f3",
     "locked": true,
     "schema_version": 3,
     "solution": false,
     "task": false
    }
   },
   "source": [
    "Before proceeding, we need some auxiliary functions:\n",
    "\n",
    " - `invert_ranking` gets the ranking and gives the inverted rankings. This means that for an input with `rank[d]=r`, the output would be `i_rank[r]=d`.\n",
    "\n",
    "\n",
    " - `get_predictions` gives a dictionary of predictions, i.e. `predictions[qid]` is the list of scores produced by the given model.\n"
   ]
  },
  {
   "cell_type": "code",
   "execution_count": null,
   "metadata": {
    "deletable": false,
    "editable": false,
    "nbgrader": {
     "cell_type": "code",
     "checksum": "98f77357b3d3088c738c97a90bd05061",
     "grade": false,
     "grade_id": "cell-3ae14fda3426a247",
     "locked": true,
     "schema_version": 3,
     "solution": false,
     "task": false
    }
   },
   "outputs": [],
   "source": [
    "def get_predictions(net, test_clicks, topk):\n",
    "    test_dl = DataLoader(QueryGroupedOnlineLTRData(data, 'test', test_clicks, topk), \n",
    "                          batch_size=1, \n",
    "                          shuffle=False,\n",
    "                          collate_fn=qg_collate_fn)\n",
    "    predictions = {}\n",
    "    for qids, x, _ in test_dl:\n",
    "        predictions[qids[0]] = net(x[0]).detach().numpy()[:,0]\n",
    "    return predictions\n",
    "\n",
    "\n",
    "def invert_rankings(rankings):\n",
    "    '''\n",
    "    Invert indices in a matrix of rankings, ranking per row.\n",
    "    '''\n",
    "    inverted = np.zeros(rankings.shape)\n",
    "    \n",
    "    inverted[np.arange(rankings.shape[0])[:,None],rankings] = np.arange(rankings.shape[1])[None,:]\n",
    "    return inverted\n"
   ]
  },
  {
   "cell_type": "markdown",
   "metadata": {
    "deletable": false,
    "editable": false,
    "nbgrader": {
     "cell_type": "markdown",
     "checksum": "715b799e36aa757ed9db3dd60c9b724e",
     "grade": false,
     "grade_id": "cell-7bbf6c13e9eaea91",
     "locked": true,
     "schema_version": 3,
     "solution": false,
     "task": false
    }
   },
   "source": [
    "The next cell helps you build the ranking matrix for each query in the test set.\n",
    "The first row is the production ranker, the second row is the biased ranker and the third row is the unbiased ranker."
   ]
  },
  {
   "cell_type": "code",
   "execution_count": null,
   "metadata": {
    "deletable": false,
    "editable": false,
    "nbgrader": {
     "cell_type": "code",
     "checksum": "8f2a6904a62575980830a95ed5ee238d",
     "grade": false,
     "grade_id": "cell-3bdf5ac68c468d35",
     "locked": true,
     "schema_version": 3,
     "solution": false,
     "task": false
    }
   },
   "outputs": [],
   "source": [
    "# we only need the ranking of the production ranker for the test set. No clicks have to be simulated here.\n",
    "test_clicks = simulate_clicks(data, 'test', click_count = 0)\n",
    "biased_predictions = get_predictions(biased_net, test_clicks, 20)\n",
    "unbiased_prediction = get_predictions(unbiased_net, test_clicks, 20)\n",
    "\n",
    "def get_ranking_matrix(qid, topk):\n",
    "    ranking_matrix = np.empty([3, min(data.test.query_size(qid), topk)], dtype=np.int32)\n",
    "    ranking = data.test.ranks[data.test.doclist_ranges[qid]:data.test.doclist_ranges[qid+1]]\n",
    "    ranking_matrix[0,:] = np.arange(ranking_matrix.shape[1])\n",
    "    ranking_matrix[1,:] = np.argsort(-biased_predictions[qid])\n",
    "    ranking_matrix[2,:] = np.argsort(-unbiased_prediction[qid])\n",
    "    return ranking_matrix"
   ]
  },
  {
   "cell_type": "code",
   "execution_count": null,
   "metadata": {
    "deletable": false,
    "editable": false,
    "nbgrader": {
     "cell_type": "code",
     "checksum": "c5cc0c513947abfc38bd19f364c24992",
     "grade": false,
     "grade_id": "cell-77d4e88031772611",
     "locked": true,
     "schema_version": 3,
     "solution": false,
     "task": false
    }
   },
   "outputs": [],
   "source": [
    "print(get_ranking_matrix(0, 20))"
   ]
  },
  {
   "cell_type": "markdown",
   "metadata": {
    "deletable": false,
    "editable": false,
    "nbgrader": {
     "cell_type": "markdown",
     "checksum": "d3a1de51e80c9251462e68fb16b4fb0f",
     "grade": false,
     "grade_id": "cell-ff251675418a5a1a",
     "locked": true,
     "schema_version": 3,
     "solution": false,
     "task": false
    }
   },
   "source": [
    "### Section 3.1 Multileaving (10 points)\n",
    "\n",
    "Given the rankings of multiple rankers, we want to decide how to fill the results list and show it to the users.\n",
    "Implement the following function."
   ]
  },
  {
   "cell_type": "code",
   "execution_count": null,
   "metadata": {
    "deletable": false,
    "nbgrader": {
     "cell_type": "code",
     "checksum": "c1f9c735274c6a469bd089afd078bcf9",
     "grade": false,
     "grade_id": "cell-fcf5351ca3d36caa",
     "locked": false,
     "schema_version": 3,
     "solution": true,
     "task": false
    }
   },
   "outputs": [],
   "source": [
    "# TODO: Implement this! (10 points)\n",
    "def make_multileaving(inverted_rankings, topk):\n",
    "    '''\n",
    "    ARGS: (all np.array of docids)\n",
    "    - inverted_rankings: matrix (rankers x documents) where [x,y] corresponds to the rank of doc y in ranker x\n",
    "    RETURNS\n",
    "    - ranking of indices corresponding to inverted_rankings\n",
    "    '''\n",
    "    n_rankers = inverted_rankings.shape[0]\n",
    "    n = inverted_rankings.shape[1]\n",
    "    k = min(n, topk)\n",
    "\n",
    "    # YOUR CODE HERE\n",
    "    raise NotImplementedError()\n"
   ]
  },
  {
   "cell_type": "code",
   "execution_count": null,
   "metadata": {},
   "outputs": [],
   "source": [
    "print(make_multileaving(invert_rankings(get_ranking_matrix(0, 20)), 20))"
   ]
  },
  {
   "cell_type": "code",
   "execution_count": null,
   "metadata": {
    "deletable": false,
    "nbgrader": {
     "cell_type": "code",
     "checksum": "51819e8bd101b87700217e0ea4983c40",
     "grade": true,
     "grade_id": "cell-a7f83f82f0a41b58",
     "locked": false,
     "points": 10,
     "schema_version": 3,
     "solution": true,
     "task": false
    }
   },
   "outputs": [],
   "source": [
    "# YOUR CODE HERE\n",
    "raise NotImplementedError()"
   ]
  },
  {
   "cell_type": "markdown",
   "metadata": {
    "deletable": false,
    "editable": false,
    "nbgrader": {
     "cell_type": "markdown",
     "checksum": "1ca3e1ec97c81db9c4a9e3d7ec81919c",
     "grade": false,
     "grade_id": "cell-024ab191ba5fc1c3",
     "locked": true,
     "schema_version": 3,
     "solution": false,
     "task": false
    }
   },
   "source": [
    "### Section 3.2: Probability of rankers (15 points)\n",
    "\n",
    "We have shown the multileaved list to the user and they clicked on some documents.\n",
    "In this function we want to calculate the probability that the clicked documents belong to a specific ranker.\n",
    "\n",
    "Note that the results of rankers are not unique and each document in the results list may belong to different rankers.\n",
    "So we need to assign a *probability* to each click belonging to each ranker."
   ]
  },
  {
   "cell_type": "code",
   "execution_count": null,
   "metadata": {
    "deletable": false,
    "nbgrader": {
     "cell_type": "code",
     "checksum": "e6150d058189bef659154cdb1e700d18",
     "grade": false,
     "grade_id": "cell-06a948902936dd40",
     "locked": false,
     "schema_version": 3,
     "solution": true,
     "task": false
    }
   },
   "outputs": [],
   "source": [
    "# TODO: Implement this! (15 points)\n",
    "def probability_of_list(result_list, inverted_rankings, clicked_docs):\n",
    "    '''\n",
    "    ARGS: (all np.array of docids)\n",
    "    - result_list: the multileaved list\n",
    "    - inverted_rankings: matrix (rankers x documents) where [x,y] corresponds to the rank of doc y in ranker x\n",
    "    - clicked_docs: boolean array of result_list length indicating clicks\n",
    "    RETURNS\n",
    "    -sigmas: matrix (rankers x clicked_docs) with probabilty ranker added clicked doc\n",
    "    '''\n",
    "    n_docs = inverted_rankings.shape[1]\n",
    "    n_rankers = inverted_rankings.shape[0]\n",
    "\n",
    "    click_doc_ind = result_list[clicked_docs]\n",
    "    \n",
    "    # YOUR CODE HERE\n",
    "    raise NotImplementedError()"
   ]
  },
  {
   "cell_type": "code",
   "execution_count": null,
   "metadata": {
    "deletable": false,
    "editable": false,
    "nbgrader": {
     "cell_type": "code",
     "checksum": "216c6987df2ad52d86dec05976823892",
     "grade": false,
     "grade_id": "cell-cb41d992a09ed02e",
     "locked": true,
     "schema_version": 3,
     "solution": false,
     "task": false
    }
   },
   "outputs": [],
   "source": [
    "ranking_matrix = get_ranking_matrix(0, 20)\n",
    "result_list = make_multileaving(invert_rankings(ranking_matrix), 20)\n",
    "clicks = [0,4,9,10]\n",
    "probabilities = probability_of_list(result_list, invert_rankings(ranking_matrix), clicks)\n",
    "print(f'ranking matrix:\\n {ranking_matrix}')\n",
    "print(f'results list (shown to user):\\n {result_list}')\n",
    "print(f'clicked documents: {clicks}')\n",
    "print(f'probabilities:\\n {probabilities}')"
   ]
  },
  {
   "cell_type": "code",
   "execution_count": null,
   "metadata": {
    "deletable": false,
    "nbgrader": {
     "cell_type": "code",
     "checksum": "9b4921314264ee89e72d616cf8ee8f33",
     "grade": true,
     "grade_id": "cell-41eadc2f4faaf437",
     "locked": false,
     "points": 15,
     "schema_version": 3,
     "solution": true,
     "task": false
    }
   },
   "outputs": [],
   "source": [
    "# YOUR CODE HERE\n",
    "raise NotImplementedError()"
   ]
  },
  {
   "cell_type": "markdown",
   "metadata": {
    "deletable": false,
    "editable": false,
    "nbgrader": {
     "cell_type": "markdown",
     "checksum": "7cdd78a87da0a5d3a05207c5e926eef4",
     "grade": false,
     "grade_id": "cell-95c4e4ae05ce7198",
     "locked": true,
     "schema_version": 3,
     "solution": false,
     "task": false
    }
   },
   "source": [
    "### Section 3.3: Preference matrix (10 points)\n",
    "\n",
    "Given the probabilities of each ranker being clicked, we want to calculate a preference matrix that for each pair of rankers tells us which one is preferred by the clicks."
   ]
  },
  {
   "cell_type": "code",
   "execution_count": null,
   "metadata": {
    "deletable": false,
    "nbgrader": {
     "cell_type": "code",
     "checksum": "ec8f2075b4b94720bdf96898d4254589",
     "grade": false,
     "grade_id": "cell-931bf5baba8e9eac",
     "locked": false,
     "schema_version": 3,
     "solution": true,
     "task": false
    }
   },
   "outputs": [],
   "source": [
    "# TODO: Implement this! (10 points)\n",
    "def preferences_of_list(probs):\n",
    "    '''\n",
    "    ARGS:\n",
    "    -probs: clicked docs x rankers matrix with probabilities ranker added clicked doc  (use probability_of_list)\n",
    "    -n_samples: number of samples to base preference matrix on\n",
    "    RETURNS:\n",
    "    - preference matrix: matrix (rankers x rankers) in this matrix [x,y] > 0 means x won over y and [x,y] < 0 means x lost from y\n",
    "      the value is analogous to the (average) degree of preference\n",
    "    '''\n",
    "    n_samples = 10\n",
    "    n_clicks = probs.shape[0]\n",
    "    n_rankers = probs.shape[1]\n",
    "    \n",
    "    # YOUR CODE HERE\n",
    "    raise NotImplementedError()\n",
    "\n",
    "def infer_preferences(inverted_rankings, result_list, clicked_docs):\n",
    "    n_rankers = inverted_rankings.shape[0]\n",
    "    if np.any(clicked_docs):\n",
    "        return preferences_of_list(probability_of_list(result_list,\n",
    "                                        inverted_rankings,\n",
    "                                        clicked_docs))\n",
    "    else:\n",
    "        return np.zeros((n_rankers, n_rankers))\n"
   ]
  },
  {
   "cell_type": "code",
   "execution_count": null,
   "metadata": {
    "deletable": false,
    "editable": false,
    "nbgrader": {
     "cell_type": "code",
     "checksum": "c2342811f833dbdbc29a5f7f5725b576",
     "grade": false,
     "grade_id": "cell-9598544608fbcde8",
     "locked": true,
     "schema_version": 3,
     "solution": false,
     "task": false
    }
   },
   "outputs": [],
   "source": [
    "print(preferences_of_list(probabilities))"
   ]
  },
  {
   "cell_type": "code",
   "execution_count": null,
   "metadata": {
    "deletable": false,
    "nbgrader": {
     "cell_type": "code",
     "checksum": "e79d7a1992af19a5fcd6711ece693800",
     "grade": true,
     "grade_id": "cell-601defbd1e14a840",
     "locked": false,
     "points": 10,
     "schema_version": 3,
     "solution": true,
     "task": false
    }
   },
   "outputs": [],
   "source": [
    "# YOUR CODE HERE\n",
    "raise NotImplementedError()"
   ]
  },
  {
   "cell_type": "markdown",
   "metadata": {
    "deletable": false,
    "editable": false,
    "nbgrader": {
     "cell_type": "markdown",
     "checksum": "0360fb3c0a060e97efd327ec0cc79468",
     "grade": false,
     "grade_id": "cell-766b24e1ede46a8c",
     "locked": true,
     "schema_version": 3,
     "solution": false,
     "task": false
    }
   },
   "source": [
    "Now we can simulate the multileaving to see how our target rankers are evaluated by it."
   ]
  },
  {
   "cell_type": "code",
   "execution_count": null,
   "metadata": {
    "deletable": false,
    "editable": false,
    "nbgrader": {
     "cell_type": "code",
     "checksum": "2d071088604059a588482912e2a0dfd2",
     "grade": false,
     "grade_id": "cell-45aaaa7c7a055fed",
     "locked": true,
     "schema_version": 3,
     "solution": false,
     "task": false
    }
   },
   "outputs": [],
   "source": [
    "def simulate_multileaving(n_impressions, topk):\n",
    "    n_samples = 10\n",
    "    impressions = 0\n",
    "    pref_update = 0\n",
    "    total_pref = np.zeros((3, 3))\n",
    "    for step_i in range(n_impressions):\n",
    "        qid = np.random.randint(0, data.test.doclist_ranges.shape[0] - 1)\n",
    "\n",
    "        start_i = data.test.doclist_ranges[qid]\n",
    "        end_i = data.test.doclist_ranges[qid + 1]\n",
    "        n_query_docs = end_i - start_i\n",
    "        query_labels = data.test.label_vector[start_i:end_i]\n",
    "\n",
    "        inverted_rankings = invert_rankings(get_ranking_matrix(qid, topk))\n",
    "        multileaving = make_multileaving(inverted_rankings, topk)\n",
    "\n",
    "        cur_clicks = generate_clicks(multileaving, query_labels)\n",
    "\n",
    "        if np.any(cur_clicks):\n",
    "            pref = infer_preferences(inverted_rankings, multileaving, cur_clicks)\n",
    "            total_pref += pref\n",
    "            pref_update += 1\n",
    "    return total_pref / pref_update\n"
   ]
  },
  {
   "cell_type": "code",
   "execution_count": null,
   "metadata": {
    "deletable": false,
    "editable": false,
    "nbgrader": {
     "cell_type": "code",
     "checksum": "95b61f7faa7cb7febe3d00fb66d0cda3",
     "grade": false,
     "grade_id": "cell-eae8a938c37a37f1",
     "locked": true,
     "schema_version": 3,
     "solution": false,
     "task": false
    }
   },
   "outputs": [],
   "source": [
    "simulate_multileaving(10000, 20)"
   ]
  },
  {
   "cell_type": "markdown",
   "metadata": {
    "deletable": false,
    "editable": false,
    "nbgrader": {
     "cell_type": "markdown",
     "checksum": "29bb96f857fa7ae1dc2d816a1b888d7b",
     "grade": false,
     "grade_id": "cell-04ee05c85dd0304d",
     "locked": true,
     "schema_version": 3,
     "solution": false,
     "task": false
    }
   },
   "source": [
    "### Section 3.4: Analysis (40 points)\n",
    "\n",
    "Analyze the behavior of your multileaving implementation by testing it with two different `topk` values: $[5,20]$ and with different number of evaluation clicks: $[2000, 10000, 50000]$.\n",
    "\n",
    "Put the preference of the unbiased method over the biased method (i.e. `pref[2,1]` in the matrix output of `simulate_multileaving` function) for these experiments in a table.\n",
    "\n",
    "**Rubric:**\n",
    "- Six experiments: 12 points\n",
    "- Analysis of the observations: 28 points"
   ]
  },
  {
   "cell_type": "code",
   "execution_count": null,
   "metadata": {
    "deletable": false,
    "nbgrader": {
     "cell_type": "code",
     "checksum": "fd41d14078b1ad160c02cf690c45e55f",
     "grade": true,
     "grade_id": "cell-d88f4eb3035e6fbb",
     "locked": false,
     "points": 40,
     "schema_version": 3,
     "solution": true,
     "task": false
    }
   },
   "outputs": [],
   "source": [
    "# YOUR CODE HERE\n",
    "raise NotImplementedError()"
   ]
  }
 ],
 "metadata": {
  "kernelspec": {
   "display_name": "Python 3",
   "language": "python",
   "name": "python3"
  },
  "language_info": {
   "codemirror_mode": {
    "name": "ipython",
    "version": 3
   },
   "file_extension": ".py",
   "mimetype": "text/x-python",
   "name": "python",
   "nbconvert_exporter": "python",
   "pygments_lexer": "ipython3",
   "version": "3.7.4"
  },
  "toc": {
   "base_numbering": "",
   "nav_menu": {},
   "number_sections": false,
   "sideBar": true,
   "skip_h1_title": false,
   "title_cell": "Table of Contents",
   "title_sidebar": "Contents",
   "toc_cell": false,
   "toc_position": {
    "height": "calc(100% - 180px)",
    "left": "10px",
    "top": "150px",
    "width": "280px"
   },
   "toc_section_display": true,
   "toc_window_display": true
  }
 },
 "nbformat": 4,
 "nbformat_minor": 4
}
