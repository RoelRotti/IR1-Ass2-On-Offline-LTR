{
 "cells": [
  {
   "cell_type": "markdown",
   "metadata": {
    "deletable": false,
    "editable": false,
    "nbgrader": {
     "cell_type": "markdown",
     "checksum": "549d14426afb2109edb71ef6e0223d5b",
     "grade": false,
     "grade_id": "cell-133a4667b3e842fd",
     "locked": true,
     "schema_version": 3,
     "solution": false,
     "task": false
    }
   },
   "source": [
    "# Homework 2: Learning to Rank <a class=\"anchor\" id=\"toptop\"></a>"
   ]
  },
  {
   "cell_type": "markdown",
   "metadata": {
    "deletable": false,
    "editable": false,
    "nbgrader": {
     "cell_type": "markdown",
     "checksum": "188d0bd6218df31e0a8795322a1b9912",
     "grade": false,
     "grade_id": "cell-9409dd22f820096c",
     "locked": true,
     "schema_version": 3,
     "solution": false,
     "task": false
    }
   },
   "source": [
    "**Submission instructions**:\n",
    "- Only the code `TODO: Implement this!` denotes that these sections are graded. Please do not delete the comment #YOUR CODE HERE.\n",
    "- Vectoriize your code instead of using for-loop when implementing Neural Nets.\n",
    "- The notebook you submit has to have the student ids, separated by underscores (E.g., `12341234_12341234_12341234.ipynb`). \n",
    "- This will be parsed by a regexp, so please double check your filename.\n",
    "- Only one member of each group has to submit the file to canvas.\n",
    "- Make sure to check that your notebook runs before submission. A quick way to do this is to restart the kernel and run all the cells.  \n",
    "- Please do not delete/add new cells. Removing cells can lead to grade deduction. Also do not change the number of parameters in the pre-defined functions.\n",
    "- Note, that you are not allowed to use Google Colab.\n",
    "\n",
    "**Learning Goals**:\n",
    "- Part 1: Offline LTR\n",
    "  - Learn how to implement pointwise, pairwise and listwise algorithms for learning to rank \n",
    "- Part 2: Online LTR\n",
    "  - Implement learning to rank algorithms from historical clicks and online evaluation of ranking algorithms.\n",
    "- Learn their weaknesses & strengths and when each method is suitable. \n",
    "\n",
    "\n",
    "\n",
    "**Files to submit along with the completed notebook**:\n",
    "- `pointwise_regression.json`\n",
    "- `pointwise_classification.json`\n",
    "- `pairwise.json`\n",
    "- `listwise.json`\n",
    "- `biased_model.json'\n",
    "- `unbiased_model.json'\n",
    "\n",
    "\n",
    "---\n",
    "**Recommended Reading**:\n",
    "- Part 1:\n",
    "  - Chris Burges, Tal Shaked, Erin Renshaw, Ari Lazier, Matt Deeds, Nicole Hamilton, and Greg Hullender. Learning to rank using gradient descent. InProceedings of the 22nd international conference on Machine learning, pages 89–96, 2005.\n",
    "  - Christopher J Burges, Robert Ragno, and Quoc V Le. Learning to rank with nonsmooth cost functions. In Advances inneural information processing systems, pages 193–200, 2007\n",
    "  - (Sections 1, 2 and 4) Christopher JC Burges. From ranknet to lambdarank to lambdamart: An overview. Learning, 11(23-581):81, 2010\n",
    "  \n",
    "\n",
    "Additional Resources: \n",
    "- This assignment requires knowledge of [PyTorch](https://pytorch.org/). If you are unfamiliar with PyTorch, you can go over [these series of tutorials](https://pytorch.org/tutorials/beginner/deep_learning_60min_blitz.html)\n",
    "\n",
    "In the previous assignment, you experimented with retrieval with different ranking functions and in addition, different document representations. \n",
    "\n",
    "This assignment deals directly with learning to rank (LTR). In offline LTR (Part 1), You will learn how to implement methods from the three approaches associated with learning to rank: pointwise, pairwise and listwise. \n",
    "\n",
    "In Part 2, you will learn about online LTR. Instead of using manually judged datasets, in online LTR, we learn from user interactions. You will learn how to simulate clicks using click models, how to learn unbiasedly from historical clicks and how to evaluate different rankers in an online environment using multileaving methods. \n",
    "\n",
    "**Note:**\n",
    "  - The dataset used in this assignment is +100Mb in size. You may need around 2Gb of RAM for running the whole notebook.\n"
   ]
  },
  {
   "cell_type": "markdown",
   "metadata": {
    "deletable": false,
    "editable": false,
    "nbgrader": {
     "cell_type": "markdown",
     "checksum": "2a595c150f39970fb6ad72e463fe8b44",
     "grade": false,
     "grade_id": "cell-09127508ac207429",
     "locked": true,
     "schema_version": 3,
     "solution": false,
     "task": false
    }
   },
   "source": [
    "# Table of Contents  <a class=\"anchor\" id=\"top\"></a>\n",
    "\n",
    "[Back to top](#toptop)\n",
    "\n",
    "\n",
    "Table of contents:\n",
    "\n",
    "\n",
    " - [Chapter 1: Offline LTR](#o_LTR) (345 points)\n",
    "     - [Section 1: Dataset and Utility](#dataU) \n",
    "     - [Section 2: Pointwtise LTR](#pointwiseLTR) (55 points)\n",
    "     - [Section 3: Pairwise LTR](#pairwiseLTR) (60 points)\n",
    "     - [Section 4: Pairwise Speed-up RankNet](#SpairwiseLTR) (70 points)\n",
    "     - [Section 5: Listwise LTR](#listwiseLTR) (80 points)\n",
    "     - [Section 6: Evaluation](#evaluation1) (70 points)\n",
    " - [Chapter 2: Online LTR](#onLTR) (180 points)\n",
    "     - [Section 1: Clicks Simulation](#clicks) (15 points)\n",
    "     - [Section 2: Counterfactual](#cLTR) (90 points)\n",
    "     - [Section 3: Online Evaluation](#on_eval) (75 points)"
   ]
  },
  {
   "cell_type": "code",
   "execution_count": 1,
   "metadata": {
    "deletable": false,
    "editable": false,
    "nbgrader": {
     "cell_type": "code",
     "checksum": "7be29958190a403c77402e97c21c5252",
     "grade": false,
     "grade_id": "cell-b08a635cb01047dd",
     "locked": true,
     "schema_version": 3,
     "solution": false,
     "task": false
    }
   },
   "outputs": [],
   "source": [
    "import os\n",
    "import json\n",
    "import itertools\n",
    "from argparse import Namespace\n",
    "from collections import OrderedDict\n",
    "from functools import partial\n",
    "\n",
    "\n",
    "import torch\n",
    "import numpy as np\n",
    "from torch import nn\n",
    "from torch.optim import Adam\n",
    "import torch.nn.functional as F\n",
    "from tqdm.notebook import tqdm, trange\n",
    "from torch.utils.data import Dataset, DataLoader\n",
    "\n",
    "\n",
    "import matplotlib.pyplot as plt\n",
    "from matplotlib.pyplot import cm\n",
    "\n",
    "import pandas as pd\n",
    "\n",
    "import dataset\n",
    "import evaluate\n"
   ]
  },
  {
   "cell_type": "markdown",
   "metadata": {
    "deletable": false,
    "editable": false,
    "nbgrader": {
     "cell_type": "markdown",
     "checksum": "8f126271fe03e0c82c752179a1293748",
     "grade": false,
     "grade_id": "cell-ef602d983baa9d90",
     "locked": true,
     "schema_version": 3,
     "solution": false,
     "task": false
    }
   },
   "source": [
    "# Chapter 1: Offline LTR <a class=\"anchor\" id=\"o_LTR\"></a>"
   ]
  },
  {
   "cell_type": "markdown",
   "metadata": {
    "deletable": false,
    "editable": false,
    "nbgrader": {
     "cell_type": "markdown",
     "checksum": "83d5c5098ff7e903a1d4475f78d028be",
     "grade": false,
     "grade_id": "cell-9978e0796016b961",
     "locked": true,
     "schema_version": 3,
     "solution": false,
     "task": false
    }
   },
   "source": [
    "A typical setup of learning to rank involves a feature vector constructed using a query-document pair, and a set of relevance judgements. You are given a set of triples (`query`, `document`, `relevance grade`); where relevance grade is an *ordinal* variable  with  5  grades,  for example: {`perfect`,`excellent`,`good`,`fair`,`bad`),  typically  labeled  by human annotators.  \n",
    "\n",
    "In this assignment, you are already given the feature vector for a given document and query pair. To access these vectors, see the following code cells (note: the dataset will be automatically downloaded & the first time the next cell runs, it will take a while!)"
   ]
  },
  {
   "cell_type": "markdown",
   "metadata": {
    "deletable": false,
    "editable": false,
    "nbgrader": {
     "cell_type": "markdown",
     "checksum": "62aa687b659ad249d6b6190d4b1f7d9e",
     "grade": false,
     "grade_id": "cell-d60b3e2cd8d41210",
     "locked": true,
     "schema_version": 3,
     "solution": false,
     "task": false
    }
   },
   "source": [
    "## Section 1: Data and Utility <a class=\"anchor\" id=\"dataU\"></a>\n",
    "\n",
    "[Back to TOC](#top)\n",
    "\n",
    "First let's get familiar with the dataset and some utility methods for our implementations.\n",
    "\n",
    "### Section 1.1 Dataset stats\n",
    "\n",
    "| Split Name | \\# queries | \\# docs | \\# features |\n",
    "| :- | :--: | :--: | :--: |\n",
    "| train | 2735 | 85227 | 501 |\n",
    "| validation | 403 | 12794 | 501 |\n",
    "| test | 949 | 29881 | 501 |\n"
   ]
  },
  {
   "cell_type": "code",
   "execution_count": 2,
   "metadata": {
    "deletable": false,
    "editable": false,
    "nbgrader": {
     "cell_type": "code",
     "checksum": "e11c95b755f0b252276313365c6ff290",
     "grade": false,
     "grade_id": "cell-d4779843ecb42649",
     "locked": true,
     "schema_version": 3,
     "solution": false,
     "task": false
    }
   },
   "outputs": [],
   "source": [
    "dataset.download_dataset()\n",
    "data = dataset.get_dataset()\n",
    "# there is only 1 fold for this dataset \n",
    "data = data.get_data_folds()[0]\n",
    "# read in the data\n",
    "data.read_data()"
   ]
  },
  {
   "cell_type": "code",
   "execution_count": 3,
   "metadata": {
    "deletable": false,
    "editable": false,
    "nbgrader": {
     "cell_type": "code",
     "checksum": "8008b140d6012489be5056ec30e90444",
     "grade": false,
     "grade_id": "cell-2a79356db5683374",
     "locked": true,
     "schema_version": 3,
     "solution": false,
     "task": false
    }
   },
   "outputs": [
    {
     "name": "stdout",
     "output_type": "stream",
     "text": [
      "Number of features: 501\n",
      "Split: train\n",
      "\tNumber of queries 2735\n",
      "\tNumber of docs 85227\n",
      "Split: validation\n",
      "\tNumber of queries 403\n",
      "\tNumber of docs 12794\n",
      "Split: test\n",
      "\tNumber of queries 949\n",
      "\tNumber of docs 29881\n"
     ]
    }
   ],
   "source": [
    "print(f\"Number of features: {data.num_features}\")\n",
    "# print some statistics\n",
    "for split in [\"train\", \"validation\", \"test\"]:\n",
    "    print(f\"Split: {split}\")\n",
    "    split = getattr(data, split)\n",
    "    print(f\"\\tNumber of queries {split.num_queries()}\")\n",
    "    print(f\"\\tNumber of docs {split.num_docs()}\")"
   ]
  },
  {
   "cell_type": "markdown",
   "metadata": {
    "deletable": false,
    "editable": false,
    "nbgrader": {
     "cell_type": "markdown",
     "checksum": "70b764af87765e64827eb896b0ad8643",
     "grade": false,
     "grade_id": "cell-5b034476f52f28bb",
     "locked": true,
     "schema_version": 3,
     "solution": false,
     "task": false
    }
   },
   "source": [
    "### Section 1.2 Utility classes/methods\n",
    "\n",
    "The following cells contain code that will be useful for the assigment. "
   ]
  },
  {
   "cell_type": "code",
   "execution_count": 4,
   "metadata": {
    "deletable": false,
    "editable": false,
    "nbgrader": {
     "cell_type": "code",
     "checksum": "cb52800727e7a5fe81c92706c34e6471",
     "grade": false,
     "grade_id": "cell-4ad2f0d8e4f66d37",
     "locked": true,
     "schema_version": 3,
     "solution": false,
     "task": false
    }
   },
   "outputs": [],
   "source": [
    "# these is a useful class to create torch DataLoaders, and can be used during training\n",
    "class LTRData(Dataset):\n",
    "    def __init__(self, data, split):\n",
    "        split = {\n",
    "            \"train\": data.train,\n",
    "            \"validation\": data.validation,\n",
    "            \"test\": data.test\n",
    "        }.get(split)\n",
    "        assert split is not None, \"Invalid split!\"\n",
    "        features, labels = split.feature_matrix, split.label_vector\n",
    "        self.features = torch.FloatTensor(features)\n",
    "        self.labels = torch.FloatTensor(labels)\n",
    "    \n",
    "    def __len__(self):\n",
    "        return self.features.size(0)\n",
    "\n",
    "    def __getitem__(self, i):\n",
    "        return self.features[i], self.labels[i]"
   ]
  },
  {
   "cell_type": "code",
   "execution_count": 5,
   "metadata": {
    "deletable": false,
    "editable": false,
    "nbgrader": {
     "cell_type": "code",
     "checksum": "61170cd9d5a02b3f9e23364bf7d46c95",
     "grade": false,
     "grade_id": "cell-6be5d30fd0264dc3",
     "locked": true,
     "schema_version": 3,
     "solution": false,
     "task": false
    }
   },
   "outputs": [
    {
     "name": "stdout",
     "output_type": "stream",
     "text": [
      "torch.Size([32, 501]) torch.Size([32])\n"
     ]
    }
   ],
   "source": [
    "## example \n",
    "train_dl = DataLoader(LTRData(data, \"train\"), batch_size=32, shuffle=True)\n",
    "# this is how you would use it to quickly iterate over the train/val/test sets \n",
    "# - (of course, without the break statement!)\n",
    "for (x, y) in train_dl:\n",
    "    print(x.size(), y.size())\n",
    "    break"
   ]
  },
  {
   "cell_type": "markdown",
   "metadata": {
    "deletable": false,
    "editable": false,
    "nbgrader": {
     "cell_type": "markdown",
     "checksum": "50bdb8c74b13357983e5f5f435b70115",
     "grade": false,
     "grade_id": "cell-a79c0f58db4af010",
     "locked": true,
     "schema_version": 3,
     "solution": false,
     "task": false
    }
   },
   "source": [
    "`evaluate_model` evaluates a model, on a given split."
   ]
  },
  {
   "cell_type": "code",
   "execution_count": 6,
   "metadata": {
    "deletable": false,
    "editable": false,
    "nbgrader": {
     "cell_type": "code",
     "checksum": "7ca1e81dd1f55111cda0a04093fd223b",
     "grade": false,
     "grade_id": "cell-b66759e20b89e0b5",
     "locked": true,
     "schema_version": 3,
     "solution": false,
     "task": false
    }
   },
   "outputs": [],
   "source": [
    "# this function evaluates a model, on a given split\n",
    "def evaluate_model(pred_fn, split, batch_size=256, print_results=False, q_level=False):\n",
    "    dl = DataLoader(LTRData(data, split), batch_size=batch_size)\n",
    "    all_scores = []\n",
    "    all_labels = []\n",
    "    for (x, y) in tqdm(dl, desc=f'Eval ({split})', leave=False):\n",
    "        all_labels.append(y.squeeze().numpy())\n",
    "        \n",
    "        with torch.no_grad():\n",
    "            output = pred_fn(x)\n",
    "            all_scores.append(output.squeeze().numpy())\n",
    "            \n",
    "    split = {\n",
    "            \"train\": data.train,\n",
    "            \"validation\": data.validation,\n",
    "            \"test\": data.test\n",
    "    }.get(split)   \n",
    "    results = evaluate.evaluate2(np.asarray(all_scores), np.asarray(all_labels), print_results=print_results, q_level=q_level)\n",
    "\n",
    "    return results\n"
   ]
  },
  {
   "cell_type": "code",
   "execution_count": 7,
   "metadata": {
    "deletable": false,
    "editable": false,
    "nbgrader": {
     "cell_type": "code",
     "checksum": "c605f95e2cd732774f1813a69bb8c3fc",
     "grade": false,
     "grade_id": "cell-66bc9b1a832d14d0",
     "locked": true,
     "schema_version": 3,
     "solution": false,
     "task": false
    }
   },
   "outputs": [
    {
     "data": {
      "application/vnd.jupyter.widget-view+json": {
       "model_id": "",
       "version_major": 2,
       "version_minor": 0
      },
      "text/plain": [
       "Eval (validation):   0%|          | 0/50 [00:00<?, ?it/s]"
      ]
     },
     "metadata": {},
     "output_type": "display_data"
    },
    {
     "name": "stdout",
     "output_type": "stream",
     "text": [
      "\"metric\": \"mean\" (\"standard deviation\")\n",
      "dcg: 81.6447 (19.59358)\n",
      "dcg@03: 3.8016 (3.76625)\n",
      "dcg@05: 5.1148 (4.18535)\n",
      "dcg@10: 8.3948 (5.01579)\n",
      "dcg@20: 12.8000 (5.77975)\n",
      "ndcg: 0.6566 (0.05267)\n",
      "ndcg@03: 0.1314 (0.12413)\n",
      "ndcg@05: 0.1354 (0.10528)\n",
      "ndcg@10: 0.1645 (0.09251)\n",
      "ndcg@20: 0.1927 (0.08356)\n",
      "precision@01: 0.0800 (0.27129)\n",
      "precision@03: 0.0733 (0.15333)\n",
      "precision@05: 0.0800 (0.13856)\n",
      "precision@10: 0.0940 (0.10846)\n",
      "precision@20: 0.0900 (0.07280)\n",
      "recall@01: 0.0043 (0.01560)\n",
      "recall@03: 0.0092 (0.02084)\n",
      "recall@05: 0.0177 (0.03291)\n",
      "recall@10: 0.0484 (0.06338)\n",
      "recall@20: 0.0896 (0.09183)\n",
      "relevant rank: 124.9340 (71.91189)\n",
      "relevant rank per query: 2950.9400 (1496.78940)\n"
     ]
    },
    {
     "name": "stderr",
     "output_type": "stream",
     "text": [
      "/usr/local/Cellar/jupyterlab/3.0.8/libexec/lib/python3.9/site-packages/numpy/core/_asarray.py:102: VisibleDeprecationWarning: Creating an ndarray from ragged nested sequences (which is a list-or-tuple of lists-or-tuples-or ndarrays with different lengths or shapes) is deprecated. If you meant to do this, you must specify 'dtype=object' when creating the ndarray.\n",
      "  return array(a, dtype, copy=False, order=order)\n"
     ]
    }
   ],
   "source": [
    "## example \n",
    "# function that scores a given feature vector e.g a network\n",
    "net = nn.Linear(501, 1)\n",
    "# the evaluate method accepts a function. more specifically, a callable (such as pytorch modules) \n",
    "def notwork(x):\n",
    "    return net(x)\n",
    "# evaluate the function\n",
    "_ = evaluate_model(notwork, \"validation\", print_results=True)"
   ]
  },
  {
   "cell_type": "markdown",
   "metadata": {
    "deletable": false,
    "editable": false,
    "nbgrader": {
     "cell_type": "markdown",
     "checksum": "f71c11c5be87af7e7109a463a1e24c6c",
     "grade": false,
     "grade_id": "cell-66ae15ed8cb736b5",
     "locked": true,
     "schema_version": 3,
     "solution": false,
     "task": false
    }
   },
   "source": [
    "The next cell is used to generate reproducible results:"
   ]
  },
  {
   "cell_type": "code",
   "execution_count": 8,
   "metadata": {
    "deletable": false,
    "editable": false,
    "nbgrader": {
     "cell_type": "code",
     "checksum": "d81a93ddde3c0ae3be42eba5a6ba025d",
     "grade": false,
     "grade_id": "cell-df3d4a5ebf6dece6",
     "locked": true,
     "schema_version": 3,
     "solution": false,
     "task": false
    }
   },
   "outputs": [],
   "source": [
    "# use to get reproducible results\n",
    "def seed(random_seed):\n",
    "    import random\n",
    "    torch.manual_seed(random_seed)\n",
    "    torch.backends.cudnn.deterministic = True\n",
    "    torch.backends.cudnn.benchmark = False\n",
    "    np.random.seed(random_seed)\n",
    "    random.seed(random_seed)\n",
    "    "
   ]
  },
  {
   "cell_type": "markdown",
   "metadata": {
    "deletable": false,
    "editable": false,
    "nbgrader": {
     "cell_type": "markdown",
     "checksum": "acd2f7fa9d402a7704d9f7f5fc1c2c89",
     "grade": false,
     "grade_id": "cell-a29483034efce729",
     "locked": true,
     "schema_version": 3,
     "solution": false,
     "task": false
    }
   },
   "source": [
    "## Section 2: Pointwise LTR (55 points) <a class=\"anchor\" id=\"pointwiseLTR\"></a>\n",
    "\n",
    "[Back to TOC](#top)\n",
    "\n",
    "Let $x \\in \\mathbb{R}^d$ be an input feature vector, containing features for a query-document pair. Let $f: \\mathbb{R}^d \\rightarrow \\mathbb{R} $ be a function that maps this feature vector to a number $f(x)$ - either a relevance score (regression) or label (classification). The data $\\{x \\}$ are treated as feature vectors and the relevance judgements are treated as the target which we want to predict. \n",
    "\n",
    "In this section, you will implement a simple Pointwise model using either a regression or classification loss, and use the train set to train this model to predict (or classify) the relevance score. \n"
   ]
  },
  {
   "cell_type": "markdown",
   "metadata": {
    "deletable": false,
    "editable": false,
    "nbgrader": {
     "cell_type": "markdown",
     "checksum": "a0f5f848b2a3509141e384bd4d101923",
     "grade": false,
     "grade_id": "cell-fdcb0b1bd78f6eda",
     "locked": true,
     "schema_version": 3,
     "solution": false,
     "task": false
    }
   },
   "source": [
    "### Section 2.1: Neural Model (5 points)\n",
    "\n",
    "In the following cell, you will implement a simple pointwise LTR model: \n",
    "- Use a neural network to learn a Pointwise model using both a regression and a classification loss, using the relevance grades as the label. Use the following parameters: \n",
    "  - Layers: $501 (input) \\rightarrow 256 \\rightarrow o$ where $o$ is either 5 for classification or 1 for regression, where each layer is a linear layer (`nn.Linear`) with a ReLu activation function (`nn.ReLU`) in between the layers. Use the default weight initialization scheme. (Hint: use `nn.Sequential` for a one-line forward function!)\n",
    "  - Note: Do not use a `nn.Softmax` function here - it will be taken care of later!\n",
    "  - This network will also be used by other methods i.e Pairwise \n"
   ]
  },
  {
   "cell_type": "code",
   "execution_count": 9,
   "metadata": {
    "deletable": false,
    "nbgrader": {
     "cell_type": "code",
     "checksum": "cbaeb826028de6d6d7429ee18c90f455",
     "grade": false,
     "grade_id": "cell-e6ebad1d98f78bf0",
     "locked": false,
     "schema_version": 3,
     "solution": true,
     "task": false
    }
   },
   "outputs": [],
   "source": [
    "# TODO: Implement this! (5 points)\n",
    "class NeuralModule(nn.Module):\n",
    "    def __init__(self, output_dim):\n",
    "        \"\"\"\n",
    "        Initializes the Pointwise neural network. \n",
    "        Input: output_dim: The dimension of the output layer. In this assignment, \n",
    "                it is either 1 (regression) or 5 (classification)\n",
    "        \"\"\"\n",
    "        # YOUR CODE HERE\n",
    "        super().__init__()\n",
    "        self.output_dim = output_dim\n",
    "        self.model = nn.Sequential(\n",
    "            nn.Linear(in_features=501, out_features=256),\n",
    "            nn.ReLU(),\n",
    "            nn.Linear(in_features=256, out_features=self.output_dim))\n",
    "    \n",
    "    def forward(self, x):\n",
    "        \"\"\"\n",
    "        Takes in an input feature vector (of size 501) and produces the (regression/classification) output \n",
    "        Input: x: a [N, 501] tensor\n",
    "        Output: a [N, output_dim] tensor\n",
    "        \"\"\"\n",
    "        # YOUR CODE HERE\n",
    "        return self.model(x)"
   ]
  },
  {
   "cell_type": "code",
   "execution_count": 10,
   "metadata": {
    "deletable": false,
    "editable": false,
    "nbgrader": {
     "cell_type": "code",
     "checksum": "eebff5ba2f470a05674e79514a6ba7bc",
     "grade": false,
     "grade_id": "cell-2326178594a8f44c",
     "locked": true,
     "schema_version": 3,
     "solution": false,
     "task": false
    }
   },
   "outputs": [],
   "source": [
    "point_nn_clf = NeuralModule(5)\n",
    "point_nn_reg = NeuralModule(1)"
   ]
  },
  {
   "cell_type": "code",
   "execution_count": 11,
   "metadata": {
    "deletable": false,
    "nbgrader": {
     "cell_type": "code",
     "checksum": "958fde08e4a9f04e633dc82bc85082dd",
     "grade": true,
     "grade_id": "cell-917f63ec6b575f59",
     "locked": false,
     "points": 3,
     "schema_version": 3,
     "solution": true,
     "task": false
    }
   },
   "outputs": [
    {
     "name": "stdout",
     "output_type": "stream",
     "text": [
      "NeuralModule(\n",
      "  (model): Sequential(\n",
      "    (0): Linear(in_features=501, out_features=256, bias=True)\n",
      "    (1): ReLU()\n",
      "    (2): Linear(in_features=256, out_features=5, bias=True)\n",
      "  )\n",
      ")\n",
      "NeuralModule(\n",
      "  (model): Sequential(\n",
      "    (0): Linear(in_features=501, out_features=256, bias=True)\n",
      "    (1): ReLU()\n",
      "    (2): Linear(in_features=256, out_features=1, bias=True)\n",
      "  )\n",
      ")\n"
     ]
    }
   ],
   "source": [
    "# YOUR CODE HERE\n",
    "print(point_nn_clf)\n",
    "print(point_nn_reg)"
   ]
  },
  {
   "cell_type": "code",
   "execution_count": 12,
   "metadata": {
    "deletable": false,
    "editable": false,
    "nbgrader": {
     "cell_type": "code",
     "checksum": "73bba77f886ccd469eb1b3c4370c830f",
     "grade": true,
     "grade_id": "cell-bd3bbcd6d22aa9b2",
     "locked": true,
     "points": 1,
     "schema_version": 3,
     "solution": false,
     "task": false
    }
   },
   "outputs": [],
   "source": [
    "# test the forward function\n",
    "n = 10\n",
    "inp = torch.rand(n, data.num_features)\n",
    "out = point_nn_clf(inp)\n",
    "### BEGIN HIDDEN TEST\n",
    "n = 20\n",
    "inp = torch.rand(n, data.num_features)\n",
    "out = point_nn_clf(inp)\n",
    "assert out.size(0) == n\n",
    "assert out.size(1) == 5\n",
    "### END HIDDEN TEST"
   ]
  },
  {
   "cell_type": "code",
   "execution_count": 13,
   "metadata": {
    "deletable": false,
    "editable": false,
    "nbgrader": {
     "cell_type": "code",
     "checksum": "5dfa481e9b325b14fdb26e39618d6169",
     "grade": true,
     "grade_id": "cell-1d92c755e64de89f",
     "locked": true,
     "points": 1,
     "schema_version": 3,
     "solution": false,
     "task": false
    }
   },
   "outputs": [],
   "source": [
    "# test the forward function\n",
    "n = 10\n",
    "inp = torch.rand(n, data.num_features)\n",
    "out = point_nn_reg(inp)\n",
    "### BEGIN HIDDEN TEST\n",
    "n = 20\n",
    "inp = torch.rand(n, data.num_features)\n",
    "out = point_nn_reg(inp)\n",
    "assert out.size(0) == n\n",
    "assert out.size(1) == 1\n",
    "### END HIDDEN TEST"
   ]
  },
  {
   "cell_type": "markdown",
   "metadata": {},
   "source": [
    "### Section 2.2: Loss Functions (5 points)\n",
    "Pointwise LTR algorithms use pointwise loss functions.\n",
    "Usually, the popular loss functions for pointwise LTR are:\n",
    " - Cross entropy loss for classification (3 points)\n",
    " - Regression loss (2 points)"
   ]
  },
  {
   "cell_type": "markdown",
   "metadata": {},
   "source": [
    "**Implementation (3 points):**\n",
    "Implement cross entropy loss and and then cross entropy prediction."
   ]
  },
  {
   "cell_type": "code",
   "execution_count": 14,
   "metadata": {
    "deletable": false,
    "nbgrader": {
     "cell_type": "code",
     "checksum": "a82ac14d42f8800a3fcf1fe5153dd1d3",
     "grade": false,
     "grade_id": "cell-d095f3c75bd11bc3",
     "locked": false,
     "schema_version": 3,
     "solution": true,
     "task": false
    }
   },
   "outputs": [],
   "source": [
    "# TODO: Implement this! (2 points)\n",
    "def clf_loss(output, target):\n",
    "    \"\"\"\n",
    "    Cross entropy loss - returns a single number. \n",
    "    output: (float) tensor, shape - [N, 5] \n",
    "    target: (float/long) tensor, shape - [N]. \n",
    "    \n",
    "    Hint: This function should also handle cases when target is either long/float types \n",
    "    \"\"\"\n",
    "    assert output.size(0) == target.size(0)\n",
    "    assert output.size(1) == 5\n",
    "    # YOUR CODE HERE\n",
    "    return F.cross_entropy(output, target.long())\n"
   ]
  },
  {
   "cell_type": "code",
   "execution_count": 15,
   "metadata": {
    "deletable": false,
    "editable": false,
    "nbgrader": {
     "cell_type": "code",
     "checksum": "ec3127e3b21ab74c2771110450b46559",
     "grade": true,
     "grade_id": "cell-eb43efcf784d82d9",
     "locked": true,
     "points": 2,
     "schema_version": 3,
     "solution": false,
     "task": false
    }
   },
   "outputs": [
    {
     "name": "stdout",
     "output_type": "stream",
     "text": [
      "your results: [1.5910069942474365, 1.600582480430603, 1.6723783016204834, 1.8065980672836304, 1.6385562419891357]\n",
      "expected results: [1.5910069942474365, 1.600582480430603, 1.6723783016204834, 1.8065979480743408, 1.6385562419891357]\n"
     ]
    }
   ],
   "source": [
    "## Test clf_loss\n",
    "g = torch.manual_seed(42)\n",
    "tests = [torch.rand(5, 5, generator=g) for _ in range(5)]\n",
    "target = torch.LongTensor([1, 2, 3, 4, 0])\n",
    "\n",
    "results = [1.5910069942474365, \n",
    "           1.600582480430603, \n",
    "           1.6723783016204834, \n",
    "           1.8065979480743408, \n",
    "           1.6385562419891357]\n",
    "\n",
    "l1 = [clf_loss(output, target).item() for output in tests]\n",
    "print(f'your results: {l1}')\n",
    "print(f'expected results: {results}')\n"
   ]
  },
  {
   "cell_type": "code",
   "execution_count": 16,
   "metadata": {
    "deletable": false,
    "nbgrader": {
     "cell_type": "code",
     "checksum": "c1e1871d067d534d41585fe9d657244a",
     "grade": false,
     "grade_id": "cell-d01649f26022bf4c",
     "locked": false,
     "schema_version": 3,
     "solution": true,
     "task": false
    }
   },
   "outputs": [],
   "source": [
    "# TODO: Implement this! (1 points)\n",
    "def clf_pred(inp, net):\n",
    "    \"\"\"\n",
    "    The output of the classifier network produces a [Nx5] output corresponding to \n",
    "    the relevance labels (each row does *not* add to 1!)\n",
    "    This function should predict the most probable relevance from the relevance labels\n",
    "    \n",
    "    inp: The input [N, num_features]\n",
    "    net: the neural network, takes in [N, num_features] and outputs [N, 5]\n",
    "    \n",
    "    return: a [N, 1] (long) tensor, the relevance labels\n",
    "    \"\"\"\n",
    "    # YOUR CODE HERE\n",
    "    scores = net(inp)\n",
    "    max_score, indices = torch.max(scores, dim = 1) # rewritten into torch function instead of numpy\n",
    "    return indices"
   ]
  },
  {
   "cell_type": "code",
   "execution_count": 17,
   "metadata": {
    "deletable": false,
    "editable": false,
    "nbgrader": {
     "cell_type": "code",
     "checksum": "2e01b7aa6f5cebb78e604f9fa5d8da29",
     "grade": true,
     "grade_id": "cell-1f5c809567bf7f02",
     "locked": true,
     "points": 1,
     "schema_version": 3,
     "solution": false,
     "task": false
    }
   },
   "outputs": [
    {
     "name": "stdout",
     "output_type": "stream",
     "text": [
      "your results:[3 3 2 1 2 4 4 1 3 1]\n",
      "expected:[3 3 2 1 2 4 4 1 3 1]\n"
     ]
    }
   ],
   "source": [
    "g = torch.manual_seed(42)\n",
    "def clf_(inp):\n",
    "    return torch.rand(inp.size(0), 5, generator=g)\n",
    "\n",
    "inp = torch.rand(10, 5, generator=g)\n",
    "r = np.array([3, 3, 2, 1, 2, 4, 4, 1, 3, 1])\n",
    "p = clf_pred(inp, clf_).numpy()\n",
    "print(f'your results:{p}')\n",
    "print(f'expected:{r}')\n"
   ]
  },
  {
   "cell_type": "code",
   "execution_count": 18,
   "metadata": {
    "deletable": false,
    "editable": false,
    "nbgrader": {
     "cell_type": "code",
     "checksum": "6cf6191b552e4daea3f0fd4a91e15fd4",
     "grade": false,
     "grade_id": "cell-a4f04b744ef63756",
     "locked": true,
     "schema_version": 3,
     "solution": false,
     "task": false
    }
   },
   "outputs": [
    {
     "data": {
      "text/plain": [
       "array([2, 2, 0, 2, 2])"
      ]
     },
     "execution_count": 18,
     "metadata": {},
     "output_type": "execute_result"
    }
   ],
   "source": [
    "# NOTE:\n",
    "# to construct a predictor for a particular network, see this example\n",
    "# (this will be required in the next cell)\n",
    "clf_pred_fn = partial(clf_pred, net=point_nn_clf)\n",
    "# the 'net' argument doesn't need to be provided anymore!\n",
    "clf_pred_fn(torch.rand(5, data.num_features)).numpy()\n"
   ]
  },
  {
   "cell_type": "markdown",
   "metadata": {
    "deletable": false,
    "editable": false,
    "nbgrader": {
     "cell_type": "markdown",
     "checksum": "e14973fb674e1e9adb553605e4e7b333",
     "grade": false,
     "grade_id": "cell-d683efd6ca306e81",
     "locked": true,
     "schema_version": 3,
     "solution": false,
     "task": false
    }
   },
   "source": [
    "**Implementation (2 points):**\n",
    "Implement regression loss."
   ]
  },
  {
   "cell_type": "code",
   "execution_count": 19,
   "metadata": {
    "deletable": false,
    "nbgrader": {
     "cell_type": "code",
     "checksum": "5f2b905ddb927ed981bb294825674993",
     "grade": false,
     "grade_id": "cell-c024ed97d7100038",
     "locked": false,
     "schema_version": 3,
     "solution": true,
     "task": false
    }
   },
   "outputs": [],
   "source": [
    "# TODO: Implement this! (2 points)\n",
    "def reg_loss(output, target):\n",
    "    \"\"\"\n",
    "    Regression loss - returns a single number. \n",
    "    Make sure to use the TODO loss!\n",
    "    output: (float) tensor, shape - [N, 1] \n",
    "    target: (float) tensor, shape - [N]. \n",
    "    \"\"\"\n",
    "    assert target.dim() == 1\n",
    "    assert output.size(0) == target.size(0)\n",
    "    assert output.size(1) == 1\n",
    "    \n",
    "    # YOUR CODE HERE\n",
    "    loss = nn.MSELoss() # Define loss function\n",
    "    output = output.squeeze() # 'squeeze' from [5,1] to [,5]\n",
    "    out = loss(output, target)\n",
    "    return out\n",
    "\n"
   ]
  },
  {
   "cell_type": "code",
   "execution_count": 20,
   "metadata": {
    "deletable": false,
    "editable": false,
    "nbgrader": {
     "cell_type": "code",
     "checksum": "064dde728a201a97f97ca266c8641a0e",
     "grade": true,
     "grade_id": "cell-24edd9d567aac9da",
     "locked": true,
     "points": 2,
     "schema_version": 3,
     "solution": false,
     "task": false
    }
   },
   "outputs": [
    {
     "name": "stdout",
     "output_type": "stream",
     "text": [
      "your results:[4.800000190734863, 3.0, 7.599999904632568, 5.400000095367432, 0.6000000238418579]\n",
      "expected:[4.800000190734863, 3.0, 7.599999904632568, 5.400000095367432, 0.6000000238418579]\n"
     ]
    }
   ],
   "source": [
    "## Test reg_loss\n",
    "g = torch.manual_seed(42)\n",
    "output = [torch.randint(low=0, high=5, size=(5, 1), generator=g).float() for _ in range(5)]\n",
    "target = torch.randint(low=0, high=5, size=(5,), generator=g).float()\n",
    "\n",
    "l = [reg_loss(o, target).item() for o in output]\n",
    "r = [4.800000190734863, \n",
    "     3.0, \n",
    "     7.599999904632568, \n",
    "     5.400000095367432, \n",
    "     0.6000000238418579]\n",
    "print(f'your results:{l}')\n",
    "print(f'expected:{r}')"
   ]
  },
  {
   "cell_type": "markdown",
   "metadata": {
    "deletable": false,
    "editable": false,
    "nbgrader": {
     "cell_type": "markdown",
     "checksum": "0eddb61dde344891ea7efc8fdd67752f",
     "grade": false,
     "grade_id": "cell-0977a61ec0cfa7ed",
     "locked": true,
     "schema_version": 3,
     "solution": false,
     "task": false
    }
   },
   "source": [
    "**Implementation (45 points):**\n",
    "Now implement a wrapper for training a pointwise LTR, that takes the model and the loss function as input and trains the model.\n",
    "\n",
    "**Rubric:**\n",
    " - Network is trained for specified epochs, and iterates over the entire dataset and (train) data is shuffled : 5 points\n",
    " - Evaluation on the validation set: 5 points\n",
    " - Training (e.g optimizer, zero_grad, backward): 10 points\n",
    " - Appropriate loss function & prediction function: 5 points\n",
    " - Both classification / regression models handled appropriately: 5 points\n",
    " - Performance as expected: 15 points"
   ]
  },
  {
   "cell_type": "code",
   "execution_count": 21,
   "metadata": {
    "deletable": false,
    "nbgrader": {
     "cell_type": "code",
     "checksum": "8dbfd2a686ecc7ab254a4e5e9b332119",
     "grade": false,
     "grade_id": "cell-9361533c572e304b",
     "locked": false,
     "schema_version": 3,
     "solution": true,
     "task": false
    }
   },
   "outputs": [],
   "source": [
    "# TODO: Implement this! (45 points)\n",
    "losses = [] \n",
    "def train_pointwise(net, loss, params):\n",
    "    \"\"\"\n",
    "    This function should train a Pointwise network, \n",
    "    trained based on the loss (either \"clf\" / \"reg\"). \n",
    "    \n",
    "    The network is trained using the Adam optimizer\n",
    "        \n",
    "    \n",
    "    Note: Do not change the function definition! \n",
    "    \n",
    "    \n",
    "    Hints:\n",
    "    1. Use the LTRData class defined above\n",
    "    2. You will have to construct a partial function if loss=\"clf\" \n",
    "       before using it in evaluate_model() (see cells after the defn of clf_pred)\n",
    "    \n",
    "    net: the neural network to be trained\n",
    "    \n",
    "    loss: one of \"clf\" or \"reg\"\n",
    "    \n",
    "    params: params is an object which contains config used in training \n",
    "        (eg. params.epochs - the number of epochs to train). \n",
    "        For a full list of these params, see the next cell. \n",
    "    \n",
    "    Returns: a dictionary containing: \"metrics_val\" (a list of dictionaries) and \n",
    "             \"metrics_train\" (a list of dictionaries). \n",
    "             \n",
    "             \"metrics_val\" should contain metrics (the metrics in params.metrics) computed\n",
    "             after each epoch on the validation set (metrics_train is similar). \n",
    "             You can use this to debug your models.\n",
    "    \n",
    "    \"\"\"\n",
    "    \n",
    "    assert loss in {\"clf\", \"reg\"}\n",
    "    \n",
    "    val_metrics_epoch = []\n",
    "    train_metrics_epoch = []\n",
    "    \n",
    "    # YOUR CODE HERE\n",
    "    \n",
    "    \n",
    "    #### RUBRIC ####\n",
    "    ###- 1) Network is trained for specified epochs, and iterates over the entire dataset and (train) data is shuffled : 5 points\n",
    "    ###- 2) Evaluation on the validation set: 5 points\n",
    "    ###- 3) Training (e.g optimizer, zero_grad, backward): 10 points\n",
    "    ###- 4) Appropriate loss function & prediction function: 5 points\n",
    "    ###- 5) Both classification / regression models handled appropriately: 5 points\n",
    "    ###- 6) Performance as expected: 15 points\n",
    "    \n",
    "    # Define parameters\n",
    "    epochs = params.epochs\n",
    "    learning_rate = params.lr\n",
    "    batch_size = params.batch_size\n",
    "    metrics = params.metrics\n",
    "    \n",
    "    # Specify prediction function\n",
    "    if loss == \"clf\":\n",
    "        loss_function = clf_loss\n",
    "        pred_fn = partial(clf_pred, net=net) # Create partial function since net is always specified\n",
    "    elif loss == \"reg\":\n",
    "        loss_function = reg_loss\n",
    "        pred_fn = partial(point_nn_reg)\n",
    "    \n",
    "    # Define Adam optimizer\n",
    "    optimizer = Adam(net.parameters(), lr=learning_rate)\n",
    "    \n",
    "    # Create train & validation data:\n",
    "    train_dl = DataLoader(LTRData(data, \"train\"), batch_size=batch_size, shuffle=True)\n",
    "    validation_dl = DataLoader(LTRData(data, \"validation\"), shuffle=False)\n",
    "    \n",
    "    # Training loop\n",
    "    for epoch in range(epochs):\n",
    "        net.train()\n",
    "        for (input_data, target) in tqdm(train_dl): # X: [INPUT_FEATURES(501),BATCH_SIZE(32)], Y: [N_CLASSES(1 for reg, 5 for clf),BATCH_SIZE(32)]\n",
    "            net.zero_grad()\n",
    "            out = net(input_data)\n",
    "            loss = loss_function(out, target)\n",
    "            losses.append(loss)\n",
    "            loss.backward()\n",
    "            optimizer.step()\n",
    "        \n",
    "        # EVALUATE\n",
    "        net.eval()\n",
    "        train_evaluation = evaluate_model(pred_fn, \"train\", batch_size=batch_size)\n",
    "        validation_evaluation = evaluate_model(pred_fn, \"validation\")           \n",
    "\n",
    "        # Save the appropriate evaluations\n",
    "        for m in params.metrics:\n",
    "            train_metrics_epoch.append({m : train_evaluation[m]})\n",
    "            val_metrics_epoch.append({m : validation_evaluation[m]})             \n",
    "#         print(\"train: \", train_metrics_epoch[epoch])\n",
    "#         print(\"validation: \", val_metrics_epoch[epoch]) # To check metrics\n",
    "        \n",
    "    return {\n",
    "        \"metrics_val\": val_metrics_epoch,\n",
    "        \"metrics_train\": train_metrics_epoch,\n",
    "    }"
   ]
  },
  {
   "cell_type": "code",
   "execution_count": 22,
   "metadata": {},
   "outputs": [],
   "source": [
    "# Change this to test your code!\n",
    "pointwise_test_params = Namespace(epochs=2, \n",
    "                    lr=1e-3,\n",
    "                    batch_size=256,\n",
    "                   metrics={\"ndcg\"})\n",
    "# uncomment to test your code\n",
    "\n",
    "# train a regression model\n",
    "# losses = [] \n",
    "# met_reg = train_pointwise(point_nn_reg, \"reg\", pointwise_test_params)\n",
    "# #print(losses)\n",
    "# # losses = [np.array(x) for x in losses]\n",
    "# # print(losses)\n",
    "# plt.plot(losses, label = 'Pointwise(R)')\n",
    "\n",
    "# ## train a classification model\n",
    "# losses = [] \n",
    "# train_pointwise(point_nn_clf, \"clf\", pointwise_test_params)\n",
    "# plt.plot(losses, label = 'Pointwise(C)')\n",
    "\n",
    "# plt.legend()\n",
    "# plt.ylabel('Loss')\n",
    "# plt.xlabel('Iterations (over batches)')\n",
    "# plt.show()"
   ]
  },
  {
   "cell_type": "markdown",
   "metadata": {
    "deletable": false,
    "editable": false,
    "nbgrader": {
     "cell_type": "markdown",
     "checksum": "738eaae8abdea0f21d248a0d677bc424",
     "grade": false,
     "grade_id": "cell-27ec0e0dd8a5d98d",
     "locked": true,
     "schema_version": 3,
     "solution": false,
     "task": false
    }
   },
   "source": [
    "The next cell is used to generate reproducible results which should be submitted with the assignment:"
   ]
  },
  {
   "cell_type": "code",
   "execution_count": 23,
   "metadata": {
    "deletable": false,
    "editable": false,
    "nbgrader": {
     "cell_type": "code",
     "checksum": "8a485ad0b3f14de6ee384fa6b42ab36f",
     "grade": false,
     "grade_id": "cell-11e8cbc591a51256",
     "locked": true,
     "schema_version": 3,
     "solution": false,
     "task": false
    }
   },
   "outputs": [],
   "source": [
    "\n",
    "    \n",
    "def create_results(net, train_fn, prediction_fn, results_file, *train_params):\n",
    "    \n",
    "    print(\"Training Model\")\n",
    "    metrics = train_fn(net, *train_params)\n",
    "    net.eval()\n",
    "    test_metrics, test_qq = evaluate_model(prediction_fn, \"test\", print_results=True, q_level=True)\n",
    "    \n",
    "    \n",
    "    test_q = {}\n",
    "    for m in {\"ndcg\", \"precision@05\", \"recall@05\"}:\n",
    "        test_q[m] = test_qq[m]\n",
    "    \n",
    "    with open(results_file, \"w\") as writer:\n",
    "        json.dump({\n",
    "            \"metrics\": metrics,\n",
    "            \"test_metrics\": test_metrics,\n",
    "            \"test_query_level_metrics\": test_q,\n",
    "        }, writer, indent=2)\n"
   ]
  },
  {
   "cell_type": "markdown",
   "metadata": {
    "deletable": false,
    "editable": false,
    "nbgrader": {
     "cell_type": "markdown",
     "checksum": "5926b542770cebafc36574bbff9b7d3e",
     "grade": false,
     "grade_id": "cell-16ed543545863f61",
     "locked": true,
     "schema_version": 3,
     "solution": false,
     "task": false
    }
   },
   "source": [
    "Now use the above functions to generate your `json` files for submission:"
   ]
  },
  {
   "cell_type": "code",
   "execution_count": 24,
   "metadata": {
    "deletable": false,
    "editable": false,
    "nbgrader": {
     "cell_type": "code",
     "checksum": "eef82389f05e60a59c9bddefc6570264",
     "grade": false,
     "grade_id": "cell-cb8314e4e579adac",
     "locked": true,
     "schema_version": 3,
     "solution": false,
     "task": false
    }
   },
   "outputs": [
    {
     "name": "stdout",
     "output_type": "stream",
     "text": [
      "Training Model\n"
     ]
    },
    {
     "data": {
      "application/vnd.jupyter.widget-view+json": {
       "model_id": "dc6961dc0db849a4879f5493bbd35b99",
       "version_major": 2,
       "version_minor": 0
      },
      "text/plain": [
       "  0%|          | 0/333 [00:00<?, ?it/s]"
      ]
     },
     "metadata": {},
     "output_type": "display_data"
    },
    {
     "data": {
      "application/vnd.jupyter.widget-view+json": {
       "model_id": "",
       "version_major": 2,
       "version_minor": 0
      },
      "text/plain": [
       "Eval (train):   0%|          | 0/333 [00:00<?, ?it/s]"
      ]
     },
     "metadata": {},
     "output_type": "display_data"
    },
    {
     "data": {
      "application/vnd.jupyter.widget-view+json": {
       "model_id": "",
       "version_major": 2,
       "version_minor": 0
      },
      "text/plain": [
       "Eval (validation):   0%|          | 0/50 [00:00<?, ?it/s]"
      ]
     },
     "metadata": {},
     "output_type": "display_data"
    },
    {
     "data": {
      "application/vnd.jupyter.widget-view+json": {
       "model_id": "9406f0014ab44f1db76fa19d49c179b4",
       "version_major": 2,
       "version_minor": 0
      },
      "text/plain": [
       "  0%|          | 0/333 [00:00<?, ?it/s]"
      ]
     },
     "metadata": {},
     "output_type": "display_data"
    },
    {
     "data": {
      "application/vnd.jupyter.widget-view+json": {
       "model_id": "",
       "version_major": 2,
       "version_minor": 0
      },
      "text/plain": [
       "Eval (train):   0%|          | 0/333 [00:00<?, ?it/s]"
      ]
     },
     "metadata": {},
     "output_type": "display_data"
    },
    {
     "data": {
      "application/vnd.jupyter.widget-view+json": {
       "model_id": "",
       "version_major": 2,
       "version_minor": 0
      },
      "text/plain": [
       "Eval (validation):   0%|          | 0/50 [00:00<?, ?it/s]"
      ]
     },
     "metadata": {},
     "output_type": "display_data"
    },
    {
     "data": {
      "application/vnd.jupyter.widget-view+json": {
       "model_id": "b2a1ff02ead44ca9a6a9f673032119e8",
       "version_major": 2,
       "version_minor": 0
      },
      "text/plain": [
       "  0%|          | 0/333 [00:00<?, ?it/s]"
      ]
     },
     "metadata": {},
     "output_type": "display_data"
    },
    {
     "data": {
      "application/vnd.jupyter.widget-view+json": {
       "model_id": "",
       "version_major": 2,
       "version_minor": 0
      },
      "text/plain": [
       "Eval (train):   0%|          | 0/333 [00:00<?, ?it/s]"
      ]
     },
     "metadata": {},
     "output_type": "display_data"
    },
    {
     "data": {
      "application/vnd.jupyter.widget-view+json": {
       "model_id": "",
       "version_major": 2,
       "version_minor": 0
      },
      "text/plain": [
       "Eval (validation):   0%|          | 0/50 [00:00<?, ?it/s]"
      ]
     },
     "metadata": {},
     "output_type": "display_data"
    },
    {
     "data": {
      "application/vnd.jupyter.widget-view+json": {
       "model_id": "b1b80b07daae4666af500030fc73781e",
       "version_major": 2,
       "version_minor": 0
      },
      "text/plain": [
       "  0%|          | 0/333 [00:00<?, ?it/s]"
      ]
     },
     "metadata": {},
     "output_type": "display_data"
    },
    {
     "data": {
      "application/vnd.jupyter.widget-view+json": {
       "model_id": "",
       "version_major": 2,
       "version_minor": 0
      },
      "text/plain": [
       "Eval (train):   0%|          | 0/333 [00:00<?, ?it/s]"
      ]
     },
     "metadata": {},
     "output_type": "display_data"
    },
    {
     "data": {
      "application/vnd.jupyter.widget-view+json": {
       "model_id": "",
       "version_major": 2,
       "version_minor": 0
      },
      "text/plain": [
       "Eval (validation):   0%|          | 0/50 [00:00<?, ?it/s]"
      ]
     },
     "metadata": {},
     "output_type": "display_data"
    },
    {
     "data": {
      "application/vnd.jupyter.widget-view+json": {
       "model_id": "0919feb80fa94788a6d07dd498dba45c",
       "version_major": 2,
       "version_minor": 0
      },
      "text/plain": [
       "  0%|          | 0/333 [00:00<?, ?it/s]"
      ]
     },
     "metadata": {},
     "output_type": "display_data"
    },
    {
     "data": {
      "application/vnd.jupyter.widget-view+json": {
       "model_id": "",
       "version_major": 2,
       "version_minor": 0
      },
      "text/plain": [
       "Eval (train):   0%|          | 0/333 [00:00<?, ?it/s]"
      ]
     },
     "metadata": {},
     "output_type": "display_data"
    },
    {
     "data": {
      "application/vnd.jupyter.widget-view+json": {
       "model_id": "",
       "version_major": 2,
       "version_minor": 0
      },
      "text/plain": [
       "Eval (validation):   0%|          | 0/50 [00:00<?, ?it/s]"
      ]
     },
     "metadata": {},
     "output_type": "display_data"
    },
    {
     "data": {
      "application/vnd.jupyter.widget-view+json": {
       "model_id": "b32c3a8252074fbfa96d0102247b1a15",
       "version_major": 2,
       "version_minor": 0
      },
      "text/plain": [
       "  0%|          | 0/333 [00:00<?, ?it/s]"
      ]
     },
     "metadata": {},
     "output_type": "display_data"
    },
    {
     "data": {
      "application/vnd.jupyter.widget-view+json": {
       "model_id": "",
       "version_major": 2,
       "version_minor": 0
      },
      "text/plain": [
       "Eval (train):   0%|          | 0/333 [00:00<?, ?it/s]"
      ]
     },
     "metadata": {},
     "output_type": "display_data"
    },
    {
     "data": {
      "application/vnd.jupyter.widget-view+json": {
       "model_id": "",
       "version_major": 2,
       "version_minor": 0
      },
      "text/plain": [
       "Eval (validation):   0%|          | 0/50 [00:00<?, ?it/s]"
      ]
     },
     "metadata": {},
     "output_type": "display_data"
    },
    {
     "data": {
      "application/vnd.jupyter.widget-view+json": {
       "model_id": "f9fd4dccae87401a849a66fea2c03212",
       "version_major": 2,
       "version_minor": 0
      },
      "text/plain": [
       "  0%|          | 0/333 [00:00<?, ?it/s]"
      ]
     },
     "metadata": {},
     "output_type": "display_data"
    },
    {
     "data": {
      "application/vnd.jupyter.widget-view+json": {
       "model_id": "",
       "version_major": 2,
       "version_minor": 0
      },
      "text/plain": [
       "Eval (train):   0%|          | 0/333 [00:00<?, ?it/s]"
      ]
     },
     "metadata": {},
     "output_type": "display_data"
    },
    {
     "data": {
      "application/vnd.jupyter.widget-view+json": {
       "model_id": "",
       "version_major": 2,
       "version_minor": 0
      },
      "text/plain": [
       "Eval (validation):   0%|          | 0/50 [00:00<?, ?it/s]"
      ]
     },
     "metadata": {},
     "output_type": "display_data"
    },
    {
     "data": {
      "application/vnd.jupyter.widget-view+json": {
       "model_id": "2cf58dc89c4246e2aa1b65f8ecdb8e78",
       "version_major": 2,
       "version_minor": 0
      },
      "text/plain": [
       "  0%|          | 0/333 [00:00<?, ?it/s]"
      ]
     },
     "metadata": {},
     "output_type": "display_data"
    },
    {
     "data": {
      "application/vnd.jupyter.widget-view+json": {
       "model_id": "",
       "version_major": 2,
       "version_minor": 0
      },
      "text/plain": [
       "Eval (train):   0%|          | 0/333 [00:00<?, ?it/s]"
      ]
     },
     "metadata": {},
     "output_type": "display_data"
    },
    {
     "data": {
      "application/vnd.jupyter.widget-view+json": {
       "model_id": "",
       "version_major": 2,
       "version_minor": 0
      },
      "text/plain": [
       "Eval (validation):   0%|          | 0/50 [00:00<?, ?it/s]"
      ]
     },
     "metadata": {},
     "output_type": "display_data"
    },
    {
     "data": {
      "application/vnd.jupyter.widget-view+json": {
       "model_id": "a5ad91060d874622999c8bc75c8a2669",
       "version_major": 2,
       "version_minor": 0
      },
      "text/plain": [
       "  0%|          | 0/333 [00:00<?, ?it/s]"
      ]
     },
     "metadata": {},
     "output_type": "display_data"
    },
    {
     "data": {
      "application/vnd.jupyter.widget-view+json": {
       "model_id": "",
       "version_major": 2,
       "version_minor": 0
      },
      "text/plain": [
       "Eval (train):   0%|          | 0/333 [00:00<?, ?it/s]"
      ]
     },
     "metadata": {},
     "output_type": "display_data"
    },
    {
     "data": {
      "application/vnd.jupyter.widget-view+json": {
       "model_id": "",
       "version_major": 2,
       "version_minor": 0
      },
      "text/plain": [
       "Eval (validation):   0%|          | 0/50 [00:00<?, ?it/s]"
      ]
     },
     "metadata": {},
     "output_type": "display_data"
    },
    {
     "data": {
      "application/vnd.jupyter.widget-view+json": {
       "model_id": "07d31d017b7b467da273cbe7c138456e",
       "version_major": 2,
       "version_minor": 0
      },
      "text/plain": [
       "  0%|          | 0/333 [00:00<?, ?it/s]"
      ]
     },
     "metadata": {},
     "output_type": "display_data"
    },
    {
     "data": {
      "application/vnd.jupyter.widget-view+json": {
       "model_id": "",
       "version_major": 2,
       "version_minor": 0
      },
      "text/plain": [
       "Eval (train):   0%|          | 0/333 [00:00<?, ?it/s]"
      ]
     },
     "metadata": {},
     "output_type": "display_data"
    },
    {
     "data": {
      "application/vnd.jupyter.widget-view+json": {
       "model_id": "",
       "version_major": 2,
       "version_minor": 0
      },
      "text/plain": [
       "Eval (validation):   0%|          | 0/50 [00:00<?, ?it/s]"
      ]
     },
     "metadata": {},
     "output_type": "display_data"
    },
    {
     "data": {
      "application/vnd.jupyter.widget-view+json": {
       "model_id": "26ff312b4da04838b615087be64b4a45",
       "version_major": 2,
       "version_minor": 0
      },
      "text/plain": [
       "  0%|          | 0/333 [00:00<?, ?it/s]"
      ]
     },
     "metadata": {},
     "output_type": "display_data"
    },
    {
     "data": {
      "application/vnd.jupyter.widget-view+json": {
       "model_id": "",
       "version_major": 2,
       "version_minor": 0
      },
      "text/plain": [
       "Eval (train):   0%|          | 0/333 [00:00<?, ?it/s]"
      ]
     },
     "metadata": {},
     "output_type": "display_data"
    },
    {
     "data": {
      "application/vnd.jupyter.widget-view+json": {
       "model_id": "",
       "version_major": 2,
       "version_minor": 0
      },
      "text/plain": [
       "Eval (validation):   0%|          | 0/50 [00:00<?, ?it/s]"
      ]
     },
     "metadata": {},
     "output_type": "display_data"
    },
    {
     "data": {
      "application/vnd.jupyter.widget-view+json": {
       "model_id": "",
       "version_major": 2,
       "version_minor": 0
      },
      "text/plain": [
       "Eval (test):   0%|          | 0/117 [00:00<?, ?it/s]"
      ]
     },
     "metadata": {},
     "output_type": "display_data"
    },
    {
     "name": "stdout",
     "output_type": "stream",
     "text": [
      "\"metric\": \"mean\" (\"standard deviation\")\n",
      "dcg: 112.8333 (24.83762)\n",
      "dcg@03: 21.6566 (8.02886)\n",
      "dcg@05: 27.2742 (10.22596)\n",
      "dcg@10: 35.9883 (12.55275)\n",
      "dcg@20: 46.6458 (14.74820)\n",
      "ndcg: 0.8709 (0.05140)\n",
      "ndcg@03: 0.7411 (0.22407)\n",
      "ndcg@05: 0.7072 (0.20202)\n",
      "ndcg@10: 0.6832 (0.16216)\n",
      "ndcg@20: 0.6768 (0.13704)\n",
      "precision@01: 0.8462 (0.36080)\n",
      "precision@03: 0.7578 (0.29758)\n",
      "precision@05: 0.6786 (0.28400)\n",
      "precision@10: 0.5547 (0.22589)\n",
      "precision@20: 0.4350 (0.19505)\n",
      "recall@01: 0.0383 (0.02674)\n",
      "recall@03: 0.1016 (0.05570)\n",
      "recall@05: 0.1498 (0.08571)\n",
      "recall@10: 0.2368 (0.11192)\n",
      "recall@20: 0.3560 (0.13673)\n",
      "relevant rank: 63.5546 (62.09447)\n",
      "relevant rank per query: 1635.5812 (979.96256)\n"
     ]
    }
   ],
   "source": [
    "seed(42)\n",
    "params_regr = Namespace(epochs=11, \n",
    "                    lr=1e-3,\n",
    "                    batch_size=256,\n",
    "                    metrics={\"ndcg\", \"precision@05\", \"recall@05\"})\n",
    "\n",
    "pointwise_regression_model = NeuralModule(1)\n",
    "create_results(pointwise_regression_model, \n",
    "               train_pointwise, \n",
    "               pointwise_regression_model,\n",
    "               \"./pointwise_regression.json\", \n",
    "               \"reg\", params_regr)\n",
    "# persist models\n",
    "torch.save(pointwise_regression_model.state_dict(), \"./pointwise_regr_wt\")"
   ]
  },
  {
   "cell_type": "code",
   "execution_count": 25,
   "metadata": {
    "deletable": false,
    "editable": false,
    "nbgrader": {
     "cell_type": "code",
     "checksum": "6ddac4c7614df42d2655e2304eba1c21",
     "grade": false,
     "grade_id": "cell-8b25e13a53ad95ac",
     "locked": true,
     "schema_version": 3,
     "solution": false,
     "task": false
    }
   },
   "outputs": [
    {
     "name": "stdout",
     "output_type": "stream",
     "text": [
      "Training Model\n"
     ]
    },
    {
     "data": {
      "application/vnd.jupyter.widget-view+json": {
       "model_id": "94e328aac7974e95ad9507db3906c41b",
       "version_major": 2,
       "version_minor": 0
      },
      "text/plain": [
       "  0%|          | 0/333 [00:00<?, ?it/s]"
      ]
     },
     "metadata": {},
     "output_type": "display_data"
    },
    {
     "data": {
      "application/vnd.jupyter.widget-view+json": {
       "model_id": "",
       "version_major": 2,
       "version_minor": 0
      },
      "text/plain": [
       "Eval (train):   0%|          | 0/333 [00:00<?, ?it/s]"
      ]
     },
     "metadata": {},
     "output_type": "display_data"
    },
    {
     "data": {
      "application/vnd.jupyter.widget-view+json": {
       "model_id": "",
       "version_major": 2,
       "version_minor": 0
      },
      "text/plain": [
       "Eval (validation):   0%|          | 0/50 [00:00<?, ?it/s]"
      ]
     },
     "metadata": {},
     "output_type": "display_data"
    },
    {
     "data": {
      "application/vnd.jupyter.widget-view+json": {
       "model_id": "efa33bde18944052bc665a9ba4317458",
       "version_major": 2,
       "version_minor": 0
      },
      "text/plain": [
       "  0%|          | 0/333 [00:00<?, ?it/s]"
      ]
     },
     "metadata": {},
     "output_type": "display_data"
    },
    {
     "data": {
      "application/vnd.jupyter.widget-view+json": {
       "model_id": "",
       "version_major": 2,
       "version_minor": 0
      },
      "text/plain": [
       "Eval (train):   0%|          | 0/333 [00:00<?, ?it/s]"
      ]
     },
     "metadata": {},
     "output_type": "display_data"
    },
    {
     "data": {
      "application/vnd.jupyter.widget-view+json": {
       "model_id": "",
       "version_major": 2,
       "version_minor": 0
      },
      "text/plain": [
       "Eval (validation):   0%|          | 0/50 [00:00<?, ?it/s]"
      ]
     },
     "metadata": {},
     "output_type": "display_data"
    },
    {
     "data": {
      "application/vnd.jupyter.widget-view+json": {
       "model_id": "02eade5c30a04db0bd8a989e7ad1db4d",
       "version_major": 2,
       "version_minor": 0
      },
      "text/plain": [
       "  0%|          | 0/333 [00:00<?, ?it/s]"
      ]
     },
     "metadata": {},
     "output_type": "display_data"
    },
    {
     "data": {
      "application/vnd.jupyter.widget-view+json": {
       "model_id": "",
       "version_major": 2,
       "version_minor": 0
      },
      "text/plain": [
       "Eval (train):   0%|          | 0/333 [00:00<?, ?it/s]"
      ]
     },
     "metadata": {},
     "output_type": "display_data"
    },
    {
     "data": {
      "application/vnd.jupyter.widget-view+json": {
       "model_id": "",
       "version_major": 2,
       "version_minor": 0
      },
      "text/plain": [
       "Eval (validation):   0%|          | 0/50 [00:00<?, ?it/s]"
      ]
     },
     "metadata": {},
     "output_type": "display_data"
    },
    {
     "data": {
      "application/vnd.jupyter.widget-view+json": {
       "model_id": "24a10e50d26147ef83e181c537164f6c",
       "version_major": 2,
       "version_minor": 0
      },
      "text/plain": [
       "  0%|          | 0/333 [00:00<?, ?it/s]"
      ]
     },
     "metadata": {},
     "output_type": "display_data"
    },
    {
     "data": {
      "application/vnd.jupyter.widget-view+json": {
       "model_id": "",
       "version_major": 2,
       "version_minor": 0
      },
      "text/plain": [
       "Eval (train):   0%|          | 0/333 [00:00<?, ?it/s]"
      ]
     },
     "metadata": {},
     "output_type": "display_data"
    },
    {
     "data": {
      "application/vnd.jupyter.widget-view+json": {
       "model_id": "",
       "version_major": 2,
       "version_minor": 0
      },
      "text/plain": [
       "Eval (validation):   0%|          | 0/50 [00:00<?, ?it/s]"
      ]
     },
     "metadata": {},
     "output_type": "display_data"
    },
    {
     "data": {
      "application/vnd.jupyter.widget-view+json": {
       "model_id": "087c5cf494424dbdbfe49c8f761c1192",
       "version_major": 2,
       "version_minor": 0
      },
      "text/plain": [
       "  0%|          | 0/333 [00:00<?, ?it/s]"
      ]
     },
     "metadata": {},
     "output_type": "display_data"
    },
    {
     "data": {
      "application/vnd.jupyter.widget-view+json": {
       "model_id": "",
       "version_major": 2,
       "version_minor": 0
      },
      "text/plain": [
       "Eval (train):   0%|          | 0/333 [00:00<?, ?it/s]"
      ]
     },
     "metadata": {},
     "output_type": "display_data"
    },
    {
     "data": {
      "application/vnd.jupyter.widget-view+json": {
       "model_id": "",
       "version_major": 2,
       "version_minor": 0
      },
      "text/plain": [
       "Eval (validation):   0%|          | 0/50 [00:00<?, ?it/s]"
      ]
     },
     "metadata": {},
     "output_type": "display_data"
    },
    {
     "data": {
      "application/vnd.jupyter.widget-view+json": {
       "model_id": "9ead0a9ccf6645668de61660e70a6129",
       "version_major": 2,
       "version_minor": 0
      },
      "text/plain": [
       "  0%|          | 0/333 [00:00<?, ?it/s]"
      ]
     },
     "metadata": {},
     "output_type": "display_data"
    },
    {
     "data": {
      "application/vnd.jupyter.widget-view+json": {
       "model_id": "",
       "version_major": 2,
       "version_minor": 0
      },
      "text/plain": [
       "Eval (train):   0%|          | 0/333 [00:00<?, ?it/s]"
      ]
     },
     "metadata": {},
     "output_type": "display_data"
    },
    {
     "data": {
      "application/vnd.jupyter.widget-view+json": {
       "model_id": "",
       "version_major": 2,
       "version_minor": 0
      },
      "text/plain": [
       "Eval (validation):   0%|          | 0/50 [00:00<?, ?it/s]"
      ]
     },
     "metadata": {},
     "output_type": "display_data"
    },
    {
     "data": {
      "application/vnd.jupyter.widget-view+json": {
       "model_id": "31c808d264804fdd81920b14e2ba9fda",
       "version_major": 2,
       "version_minor": 0
      },
      "text/plain": [
       "  0%|          | 0/333 [00:00<?, ?it/s]"
      ]
     },
     "metadata": {},
     "output_type": "display_data"
    },
    {
     "data": {
      "application/vnd.jupyter.widget-view+json": {
       "model_id": "",
       "version_major": 2,
       "version_minor": 0
      },
      "text/plain": [
       "Eval (train):   0%|          | 0/333 [00:00<?, ?it/s]"
      ]
     },
     "metadata": {},
     "output_type": "display_data"
    },
    {
     "data": {
      "application/vnd.jupyter.widget-view+json": {
       "model_id": "",
       "version_major": 2,
       "version_minor": 0
      },
      "text/plain": [
       "Eval (validation):   0%|          | 0/50 [00:00<?, ?it/s]"
      ]
     },
     "metadata": {},
     "output_type": "display_data"
    },
    {
     "data": {
      "application/vnd.jupyter.widget-view+json": {
       "model_id": "cfe050b544d740ac8e7d576244d3bafe",
       "version_major": 2,
       "version_minor": 0
      },
      "text/plain": [
       "  0%|          | 0/333 [00:00<?, ?it/s]"
      ]
     },
     "metadata": {},
     "output_type": "display_data"
    },
    {
     "data": {
      "application/vnd.jupyter.widget-view+json": {
       "model_id": "",
       "version_major": 2,
       "version_minor": 0
      },
      "text/plain": [
       "Eval (train):   0%|          | 0/333 [00:00<?, ?it/s]"
      ]
     },
     "metadata": {},
     "output_type": "display_data"
    },
    {
     "data": {
      "application/vnd.jupyter.widget-view+json": {
       "model_id": "",
       "version_major": 2,
       "version_minor": 0
      },
      "text/plain": [
       "Eval (validation):   0%|          | 0/50 [00:00<?, ?it/s]"
      ]
     },
     "metadata": {},
     "output_type": "display_data"
    },
    {
     "data": {
      "application/vnd.jupyter.widget-view+json": {
       "model_id": "43ed739fe9264ec68d241ad3914763f3",
       "version_major": 2,
       "version_minor": 0
      },
      "text/plain": [
       "  0%|          | 0/333 [00:00<?, ?it/s]"
      ]
     },
     "metadata": {},
     "output_type": "display_data"
    },
    {
     "data": {
      "application/vnd.jupyter.widget-view+json": {
       "model_id": "",
       "version_major": 2,
       "version_minor": 0
      },
      "text/plain": [
       "Eval (train):   0%|          | 0/333 [00:00<?, ?it/s]"
      ]
     },
     "metadata": {},
     "output_type": "display_data"
    },
    {
     "data": {
      "application/vnd.jupyter.widget-view+json": {
       "model_id": "",
       "version_major": 2,
       "version_minor": 0
      },
      "text/plain": [
       "Eval (validation):   0%|          | 0/50 [00:00<?, ?it/s]"
      ]
     },
     "metadata": {},
     "output_type": "display_data"
    },
    {
     "data": {
      "application/vnd.jupyter.widget-view+json": {
       "model_id": "6a73b0036db04b54a4af4902c1bfc3d8",
       "version_major": 2,
       "version_minor": 0
      },
      "text/plain": [
       "  0%|          | 0/333 [00:00<?, ?it/s]"
      ]
     },
     "metadata": {},
     "output_type": "display_data"
    },
    {
     "data": {
      "application/vnd.jupyter.widget-view+json": {
       "model_id": "",
       "version_major": 2,
       "version_minor": 0
      },
      "text/plain": [
       "Eval (train):   0%|          | 0/333 [00:00<?, ?it/s]"
      ]
     },
     "metadata": {},
     "output_type": "display_data"
    },
    {
     "data": {
      "application/vnd.jupyter.widget-view+json": {
       "model_id": "",
       "version_major": 2,
       "version_minor": 0
      },
      "text/plain": [
       "Eval (validation):   0%|          | 0/50 [00:00<?, ?it/s]"
      ]
     },
     "metadata": {},
     "output_type": "display_data"
    },
    {
     "data": {
      "application/vnd.jupyter.widget-view+json": {
       "model_id": "bb51478c61a9423aab9799448b3727a2",
       "version_major": 2,
       "version_minor": 0
      },
      "text/plain": [
       "  0%|          | 0/333 [00:00<?, ?it/s]"
      ]
     },
     "metadata": {},
     "output_type": "display_data"
    },
    {
     "data": {
      "application/vnd.jupyter.widget-view+json": {
       "model_id": "",
       "version_major": 2,
       "version_minor": 0
      },
      "text/plain": [
       "Eval (train):   0%|          | 0/333 [00:00<?, ?it/s]"
      ]
     },
     "metadata": {},
     "output_type": "display_data"
    },
    {
     "data": {
      "application/vnd.jupyter.widget-view+json": {
       "model_id": "",
       "version_major": 2,
       "version_minor": 0
      },
      "text/plain": [
       "Eval (validation):   0%|          | 0/50 [00:00<?, ?it/s]"
      ]
     },
     "metadata": {},
     "output_type": "display_data"
    },
    {
     "data": {
      "application/vnd.jupyter.widget-view+json": {
       "model_id": "4094266004494215b7bab55d44292e38",
       "version_major": 2,
       "version_minor": 0
      },
      "text/plain": [
       "  0%|          | 0/333 [00:00<?, ?it/s]"
      ]
     },
     "metadata": {},
     "output_type": "display_data"
    },
    {
     "data": {
      "application/vnd.jupyter.widget-view+json": {
       "model_id": "",
       "version_major": 2,
       "version_minor": 0
      },
      "text/plain": [
       "Eval (train):   0%|          | 0/333 [00:00<?, ?it/s]"
      ]
     },
     "metadata": {},
     "output_type": "display_data"
    },
    {
     "data": {
      "application/vnd.jupyter.widget-view+json": {
       "model_id": "",
       "version_major": 2,
       "version_minor": 0
      },
      "text/plain": [
       "Eval (validation):   0%|          | 0/50 [00:00<?, ?it/s]"
      ]
     },
     "metadata": {},
     "output_type": "display_data"
    },
    {
     "data": {
      "application/vnd.jupyter.widget-view+json": {
       "model_id": "df029c5e1a4c464bb52d7304a69b1628",
       "version_major": 2,
       "version_minor": 0
      },
      "text/plain": [
       "  0%|          | 0/333 [00:00<?, ?it/s]"
      ]
     },
     "metadata": {},
     "output_type": "display_data"
    },
    {
     "data": {
      "application/vnd.jupyter.widget-view+json": {
       "model_id": "",
       "version_major": 2,
       "version_minor": 0
      },
      "text/plain": [
       "Eval (train):   0%|          | 0/333 [00:00<?, ?it/s]"
      ]
     },
     "metadata": {},
     "output_type": "display_data"
    },
    {
     "data": {
      "application/vnd.jupyter.widget-view+json": {
       "model_id": "",
       "version_major": 2,
       "version_minor": 0
      },
      "text/plain": [
       "Eval (validation):   0%|          | 0/50 [00:00<?, ?it/s]"
      ]
     },
     "metadata": {},
     "output_type": "display_data"
    },
    {
     "data": {
      "application/vnd.jupyter.widget-view+json": {
       "model_id": "",
       "version_major": 2,
       "version_minor": 0
      },
      "text/plain": [
       "Eval (test):   0%|          | 0/117 [00:00<?, ?it/s]"
      ]
     },
     "metadata": {},
     "output_type": "display_data"
    },
    {
     "name": "stdout",
     "output_type": "stream",
     "text": [
      "\"metric\": \"mean\" (\"standard deviation\")\n",
      "dcg: 108.9050 (24.72907)\n",
      "dcg@03: 19.6810 (8.47647)\n",
      "dcg@05: 24.8818 (10.15719)\n",
      "dcg@10: 32.7620 (12.79721)\n",
      "dcg@20: 41.4570 (14.58685)\n",
      "ndcg: 0.8398 (0.05715)\n",
      "ndcg@03: 0.6727 (0.24833)\n",
      "ndcg@05: 0.6436 (0.20721)\n",
      "ndcg@10: 0.6199 (0.17278)\n",
      "ndcg@20: 0.5992 (0.13963)\n",
      "precision@01: 0.7607 (0.42667)\n",
      "precision@03: 0.7208 (0.31715)\n",
      "precision@05: 0.6239 (0.28183)\n",
      "precision@10: 0.5034 (0.23892)\n",
      "precision@20: 0.3688 (0.17465)\n",
      "recall@01: 0.0355 (0.03094)\n",
      "recall@03: 0.0967 (0.06007)\n",
      "recall@05: 0.1369 (0.08138)\n",
      "recall@10: 0.2108 (0.10757)\n",
      "recall@20: 0.2976 (0.11420)\n",
      "relevant rank: 76.4374 (69.36023)\n",
      "relevant rank per query: 1967.1197 (1060.16337)\n"
     ]
    }
   ],
   "source": [
    "seed(42)\n",
    "params_clf = Namespace(epochs=13, \n",
    "                    lr=1e-3,\n",
    "                    batch_size=256,\n",
    "                    metrics={\"ndcg\", \"precision@05\", \"recall@05\"})\n",
    "\n",
    "pointwise_classification_model = NeuralModule(5)\n",
    "create_results(pointwise_classification_model,\n",
    "               train_pointwise,\n",
    "               partial(clf_pred, net=pointwise_classification_model),\n",
    "               \"./pointwise_classification.json\", \"clf\", params_clf)\n",
    "\n",
    "torch.save(pointwise_classification_model.state_dict(), \"./pointwise_clf_wt\")"
   ]
  },
  {
   "cell_type": "markdown",
   "metadata": {
    "deletable": false,
    "nbgrader": {
     "cell_type": "markdown",
     "checksum": "2ab42dfe7a4ffdce839f7f3990147830",
     "grade": true,
     "grade_id": "cell-ccb9cdbf2280bcff",
     "locked": false,
     "points": 30,
     "schema_version": 3,
     "solution": true,
     "task": false
    }
   },
   "source": [
    "YOUR ANSWER HERE"
   ]
  },
  {
   "cell_type": "code",
   "execution_count": 26,
   "metadata": {
    "deletable": false,
    "editable": false,
    "nbgrader": {
     "cell_type": "code",
     "checksum": "e8123d91619096913bd0809c27781857",
     "grade": true,
     "grade_id": "cell-780585f47729739e",
     "locked": true,
     "points": 15,
     "schema_version": 3,
     "solution": false,
     "task": false
    }
   },
   "outputs": [],
   "source": [
    "assert os.path.exists(\"./pointwise_regression.json\")\n",
    "assert os.path.exists(\"./pointwise_classification.json\")"
   ]
  },
  {
   "cell_type": "markdown",
   "metadata": {
    "deletable": false,
    "editable": false,
    "nbgrader": {
     "cell_type": "markdown",
     "checksum": "ed8a82c097df5799c15c9000475ad11e",
     "grade": false,
     "grade_id": "cell-e48bb26c37eacea9",
     "locked": true,
     "schema_version": 3,
     "solution": false,
     "task": false
    }
   },
   "source": [
    "## Section 3: Pairwise LTR (60 points) <a class=\"anchor\" id=\"pairwiseLTR\"></a>\n",
    "\n",
    "[Back to TOC](#top)\n",
    "\n",
    "In this section,  you will learn and implement RankNet, a  pairwise learning to rank algorithm.\n",
    "\n",
    "For a given query, consider two documents $D_i$ and $D_j$ with two different ground truth relevance  labels,  with  feature  vectors $x_i$ and $x_j$ respectively.   The  RankNet  model,  just  like  the pointwise model, uses $f$ to predict scores i.e $s_i=f(x_i)$ and $s_j=f(x_j)$, but uses a different loss during  training. $D_i \\triangleright D_j$ denotes  the  event  that $D_i$ should  be  ranked  higher  than $D_j$.   The  two outputs $s_i$ and $s_j$ are mapped to a learned probability that $D_i \\triangleright D_j$: \n",
    "\n",
    "\n",
    "$$        P_{ij} = \\frac{1}{1 + e^{-\\sigma(s_i - s_j)}} $$\n",
    "  \n",
    "where $\\sigma$ is a parameter that determines the shape of the sigmoid. The loss of the RankNet model is the cross entropy cost function:\n",
    "\n",
    "$$        C = - \\bar{P}_{ij} \\log P_{ij} - (1-\\bar{P}_{ij}) \\log (1 - P_{ij}) $$\n",
    "\n",
    "As the name suggests, in the pairwise approach to LTR, we optimize a loss $l$ over pairs of documents. Let $S_{ij} \\in \\{0, \\pm1 \\}$ be equal to $1$ if the relevance of document $i$ is greater than document $j$; $-1$ if document $j$ is more relevant than document $i$; and 0 if they have the same relevance. This gives us $\\bar{P}_{ij} = \\frac{1}{2} (1 + S_{ij})$ so that $\\bar{P}_{ij} = 1$ if $D_i \\triangleright D_j$; $\\bar{P}_{ij} = 0$ if $D_j \\triangleright D_i$; and finally $\\bar{P}_{ij} = \\frac{1}{2}$ if the relevance is identical. This gives us:\n",
    "\n",
    "$$        C = \\frac{1}{2}(1- S_{ij})\\sigma(s_i - s_j) + \\log(1+ e^{-\\sigma(s_i - s_j)}) $$\n",
    "\n",
    "Now, consider a single query for which $n$ documents have been returned. Let the output scores of the ranker be $s_j$ ; $j=\\{1, \\dots, n \\}$, the model parameters be $w_k \\in \\mathbb{R}^W$, and let the set of pairs of document indices used for training be $\\mathcal{P}$. Then, the total cost is $C_T = \\sum_{i,j \\in \\mathcal{P}} C(s_i; s_j)$. \n",
    "\n",
    "\n",
    "\n",
    "- Implement RankNet. You should construct training samples by creating all possible pairs of documents for a given query and optimizing the loss above. Use the following parameters:\n",
    "  - Layers: $501 (input) \\rightarrow 256 \\rightarrow 1$, where each layer is a linear layer (`nn.Linear`) with a ReLu activation function (`nn.ReLu`) in between the layers. Use the default weight initialization scheme. (Hint: use `nn.Sequential` for a one-line forward function!)"
   ]
  },
  {
   "cell_type": "markdown",
   "metadata": {
    "deletable": false,
    "editable": false,
    "nbgrader": {
     "cell_type": "markdown",
     "checksum": "e80a1fc2830a7bfe3be62c3bbf1df5b7",
     "grade": false,
     "grade_id": "cell-5359ecd282448c2a",
     "locked": true,
     "schema_version": 3,
     "solution": false,
     "task": false
    }
   },
   "source": [
    "For the pairwise loss, we need to have a structured **dataloader** which detects the documents associated with a specific query:"
   ]
  },
  {
   "cell_type": "code",
   "execution_count": 27,
   "metadata": {
    "deletable": false,
    "editable": false,
    "nbgrader": {
     "cell_type": "code",
     "checksum": "0e50a3b3ef0bf4fba2f792073ebb8443",
     "grade": false,
     "grade_id": "cell-0009b5254fc5f2ad",
     "locked": true,
     "schema_version": 3,
     "solution": false,
     "task": false
    }
   },
   "outputs": [
    {
     "name": "stdout",
     "output_type": "stream",
     "text": [
      "Query 1048 has 16 query-document pairs\n",
      "Shape of features for Query 1048: torch.Size([16, 501])\n"
     ]
    }
   ],
   "source": [
    "class QueryGroupedLTRData(Dataset):\n",
    "    def __init__(self, data, split):\n",
    "        self.split = {\n",
    "            \"train\": data.train,\n",
    "            \"validation\": data.validation,\n",
    "            \"test\": data.test\n",
    "        }.get(split)\n",
    "        assert self.split is not None, \"Invalid split!\"\n",
    "    \n",
    "    def __len__(self):\n",
    "        return self.split.num_queries()\n",
    "\n",
    "    def __getitem__(self, q_i):\n",
    "        feature = torch.FloatTensor(self.split.query_feat(q_i))\n",
    "        labels = torch.FloatTensor(self.split.query_labels(q_i))\n",
    "        return q_i, feature, labels\n",
    "\n",
    "# the return types are different from what pytorch expects, \n",
    "# so we will define a custom collate function which takes in\n",
    "# a batch and returns tensors (qids, features, labels) \n",
    "def qg_collate_fn(batch):\n",
    "    \n",
    "    qids = []\n",
    "    features = []\n",
    "    labels = []\n",
    "    \n",
    "    for (q, f, l) in batch:\n",
    "        qids.append(q)\n",
    "        features.append(f)\n",
    "        labels.append(l)\n",
    "    \n",
    "    return qids, features, labels\n",
    "    \n",
    "    \n",
    "## example - NOTE the collate_fn argument!\n",
    "train_dl = DataLoader(QueryGroupedLTRData(data, \"train\"), batch_size=1, shuffle=True, collate_fn=qg_collate_fn)\n",
    "# this is how you would use it to quickly iterate over the train/val/test sets \n",
    "for (qids, x, y) in train_dl:\n",
    "    # different from the previous data loader, qids, x and y aren't tensors, but lists!\n",
    "    for q_i, features_i, labels_i in zip(qids, x, y):\n",
    "        print(f\"Query {q_i} has {len(features_i)} query-document pairs\")\n",
    "        print(f\"Shape of features for Query {q_i}: {features_i.size()}\")\n",
    "        break\n",
    "    break\n",
    "        "
   ]
  },
  {
   "cell_type": "markdown",
   "metadata": {
    "deletable": false,
    "editable": false,
    "nbgrader": {
     "cell_type": "markdown",
     "checksum": "3c719c1aca6aa05893f903f78d75ba94",
     "grade": false,
     "grade_id": "cell-acdb1bfcd2ec582e",
     "locked": true,
     "schema_version": 3,
     "solution": false,
     "task": false
    }
   },
   "source": [
    "**Implementation (25 points):**\n",
    "First, implement the pairwaise loss, described above.\n",
    "\n",
    "**Rubric:**\n",
    " - Each ordering <i,j> combination is considered: 10 points\n",
    " - Proper application of the formula: 10 points\n",
    " - Mean loss: 5 points"
   ]
  },
  {
   "cell_type": "code",
   "execution_count": 28,
   "metadata": {
    "deletable": false,
    "nbgrader": {
     "cell_type": "code",
     "checksum": "3dcefb2b21b4524aa03cdf22382934ba",
     "grade": false,
     "grade_id": "cell-3a612aeb9e982639",
     "locked": false,
     "schema_version": 3,
     "solution": true,
     "task": false
    }
   },
   "outputs": [],
   "source": [
    "# TODO: Implement this! (25 points)\n",
    "def pairwise_loss(scores, labels):\n",
    "    \"\"\"\n",
    "    Compute and return the pairwise loss *for a single query*. To compute this, compute the loss for each \n",
    "    ordering in a query, and then return the mean. Use sigma=1.\n",
    "    \n",
    "    For a query, consider all possible ways of comparing 2 document-query pairs.\n",
    "    \n",
    "    Hint: See the next cell for an example which should make it clear how the inputs look like\n",
    "    \n",
    "    scores: tensor of size [N, 1] (the output of a neural network), where N = length of <query, document> pairs\n",
    "    labels: tensor of size [N], contains the relevance labels \n",
    "    \n",
    "    \"\"\"\n",
    "    # if there's only one rating\n",
    "    if labels.size(0) < 2:\n",
    "        return None\n",
    "    \n",
    "    # YOUR CODE HERE\n",
    "    SIGMA = 1\n",
    "\n",
    "    combi_labels = torch.combinations(labels,2)\n",
    "    combi_scores = torch.combinations(scores,2)\n",
    "    s_ij = torch.sign(combi_labels[:,0]-combi_labels[:,1])\n",
    "    si_minus_sj = combi_scores[:,0]-combi_scores[:,1]\n",
    "    loss = 1/2*(1-s_ij)*SIGMA*si_minus_sj+torch.log(1+torch.exp(-1*SIGMA*si_minus_sj))\n",
    "    final_loss = torch.mean(loss)\n",
    "    \n",
    "    return final_loss"
   ]
  },
  {
   "cell_type": "code",
   "execution_count": 29,
   "metadata": {
    "deletable": false,
    "editable": false,
    "nbgrader": {
     "cell_type": "code",
     "checksum": "234a4669f7c7e14949006be676cabb90",
     "grade": false,
     "grade_id": "cell-01f6e909bc892bc8",
     "locked": true,
     "schema_version": 3,
     "solution": false,
     "task": false
    }
   },
   "outputs": [
    {
     "name": "stdout",
     "output_type": "stream",
     "text": [
      "tensor(0.6869)\n",
      "tensor(0.2014)\n"
     ]
    }
   ],
   "source": [
    "# Let's say we have 2 queries, the first one with 5 <document, query> pairs \n",
    "#    and the second one with 2 <document, query> pairs. The two variables can\n",
    "#    look something like this (note the shape, not the values):\n",
    "\n",
    "scores_1 = torch.FloatTensor([0.2, 2.3, 4.5, 0.2, 1.0])\n",
    "labels_1 = torch.FloatTensor([1, 2, 3, 0, 4])\n",
    "\n",
    "\n",
    "scores_2 = torch.FloatTensor([3.2, 1.7])\n",
    "labels_2 = torch.FloatTensor([3, 1])\n",
    "\n",
    "print(pairwise_loss(scores_1, labels_1))\n",
    "print(pairwise_loss(scores_2, labels_2))"
   ]
  },
  {
   "cell_type": "code",
   "execution_count": 30,
   "metadata": {
    "deletable": false,
    "nbgrader": {
     "cell_type": "code",
     "checksum": "618bd72120cdd1baae3f22733f124d6c",
     "grade": true,
     "grade_id": "cell-5f706c38e99721df",
     "locked": false,
     "points": 25,
     "schema_version": 3,
     "solution": true,
     "task": false
    }
   },
   "outputs": [],
   "source": [
    "# YOUR CODE HERE\n",
    "# raise NotImplementedError()"
   ]
  },
  {
   "cell_type": "markdown",
   "metadata": {
    "deletable": false,
    "editable": false,
    "nbgrader": {
     "cell_type": "markdown",
     "checksum": "b63a41669c7a768f5420d43968a53212",
     "grade": false,
     "grade_id": "cell-45f14561e4843320",
     "locked": true,
     "schema_version": 3,
     "solution": false,
     "task": false
    }
   },
   "source": [
    "**Implementation (35 points):**\n",
    "Now implement the wrapper for the pairwise LTR.\n",
    "\n",
    "**Rubric:**\n",
    " - Network is trained for specified epochs, and iterates over the entire dataset\n",
    " - and (train) data is shuffled : 10 points\n",
    " - Loss calculation: 10 points\n",
    " - Evaluation on the validation set: 5 points\n",
    " - Training (e.g optimizer, zero_grad, backward): 10 points"
   ]
  },
  {
   "cell_type": "code",
   "execution_count": 31,
   "metadata": {
    "deletable": false,
    "nbgrader": {
     "cell_type": "code",
     "checksum": "31ad65b3cbd923af54ff56f804bbc93c",
     "grade": false,
     "grade_id": "cell-a85c38ca94031203",
     "locked": false,
     "schema_version": 3,
     "solution": true,
     "task": false
    },
    "scrolled": true
   },
   "outputs": [],
   "source": [
    "# TODO: Implement this! (35 points)\n",
    "def train_pairwise(net, params):\n",
    "    \"\"\"\n",
    "    This function should train the given network using the pairwise loss\n",
    "    \n",
    "    Returns: a dictionary containing: \"metrics_val\" (a list of dictionaries) and \n",
    "             \"metrics_train\" (a list of dictionaries). \n",
    "             \n",
    "             \"metrics_val\" should contain metrics (the metrics in params.metrics) computed\n",
    "             after each epoch on the validation set (metrics_train is similar). \n",
    "             You can use this to debug your models\n",
    "    \n",
    "    Note: Do not change the function definition! \n",
    "    Note: You can assume params.batch_size will always be equal to 1\n",
    "    \n",
    "    Hint: Consider the case when the loss function returns 'None'\n",
    "    \n",
    "    net: the neural network to be trained\n",
    "    \n",
    "    params: params is an object which contains config used in training \n",
    "        (eg. params.epochs - the number of epochs to train). \n",
    "        For a full list of these params, see the next cell. \n",
    "    \"\"\"\n",
    "\n",
    "    val_metrics_epoch = []\n",
    "    train_metrics_epoch = []\n",
    "    # YOUR CODE HERE\n",
    "    ## Rubric:\n",
    "        # Network is trained for specified epochs, and iterates over the entire dataset\n",
    "        # and (train) data is shuffled : 10 points\n",
    "        # Loss calculation: 10 points\n",
    "        # Evaluation on the validation set: 5 points\n",
    "        # Training (e.g optimizer, zero_grad, backward): 10 point\n",
    "        \n",
    "    # Define parameters\n",
    "    epochs = params.epochs\n",
    "    learning_rate = params.lr\n",
    "    batch_size = params.batch_size\n",
    "    metrics = params.metrics\n",
    "    \n",
    "    # Specify prediction function\n",
    "    loss_function = pairwise_loss\n",
    "    pred_fn = partial(net)\n",
    "    \n",
    "    # Define Adam optimizer\n",
    "    optimizer = Adam(net.parameters(), lr=learning_rate)\n",
    "    \n",
    "    # Create train & validation data:\n",
    "    train_dl = DataLoader(QueryGroupedLTRData(data, \"train\"), batch_size=batch_size, shuffle=True, collate_fn=qg_collate_fn)\n",
    "    validation_dl = DataLoader(QueryGroupedLTRData(data, \"validation\"), shuffle=False, collate_fn=qg_collate_fn)\n",
    "    \n",
    "    # Training loop\n",
    "    for epoch in range(epochs):\n",
    "        net.train()\n",
    "        for (query_ids, features, targets) in tqdm(train_dl): # loop over 2735 different queries\n",
    "            net.zero_grad()\n",
    "            out = net(features[0])\n",
    "            loss = loss_function(out.squeeze(1), targets[0])\n",
    "            if loss is not None:\n",
    "                losses.append(loss)\n",
    "                loss.backward()\n",
    "                optimizer.step()\n",
    "        \n",
    "        # EVALUATE\n",
    "        net.eval()\n",
    "        train_evaluation = evaluate_model(pred_fn, \"train\", print_results=False, q_level=True)  #def evaluate_model(pred_fn, split, batch_size=256, print_results=False, q_level=False):\n",
    "        validation_evaluation = evaluate_model(pred_fn, \"validation\", print_results=False, q_level=True)           \n",
    "\n",
    "        # Save the appropriate evaluations\n",
    "        for m in params.metrics:\n",
    "            train_metrics_epoch.append({m : train_evaluation[0][m]})\n",
    "            val_metrics_epoch.append({m : validation_evaluation[0][m]})  \n",
    "            \n",
    "        # print metrics    \n",
    "        print(\"train: \", train_metrics_epoch[epoch])\n",
    "        print(\"validation: \", val_metrics_epoch[epoch])\n",
    "    \n",
    "    return {\n",
    "        \"metrics_val\": val_metrics_epoch,\n",
    "        \"metrics_train\": train_metrics_epoch\n",
    "    }\n",
    "\n",
    "# For testing and plotting the loss\n",
    "params = Namespace(epochs=1, \n",
    "                    lr=1e-3,\n",
    "                    batch_size=1,\n",
    "                    metrics={\"ndcg\", \"precision@05\", \"recall@05\"})\n",
    "\n",
    "pairwise_net = NeuralModule(1)\n",
    "\n",
    "## train a pairwise model\n",
    "# losses = []\n",
    "# train_pairwise(pairwise_net, params)\n",
    "# plt.plot(losses, label = 'Pairwise')\n",
    "# plt.legend()\n",
    "# plt.ylabel('Loss')\n",
    "# plt.xlabel('Iterations (over queries)')\n",
    "# plt.show()"
   ]
  },
  {
   "cell_type": "code",
   "execution_count": 32,
   "metadata": {
    "deletable": false,
    "editable": false,
    "nbgrader": {
     "cell_type": "code",
     "checksum": "b4b97202b1befddb4af2ec7851c5d174",
     "grade": false,
     "grade_id": "cell-19ec0cf692c86b75",
     "locked": true,
     "schema_version": 3,
     "solution": false,
     "task": false
    }
   },
   "outputs": [],
   "source": [
    "pairwise_params_test = Namespace(epochs=1, lr=1e-3, batch_size=1, metrics={\"ndcg\"})\n",
    "## uncomment to test your code\n",
    "# pairwise_net = NeuralModule(1)\n",
    "# train_pairwise(pairwise_net, pairwise_params_test)\n",
    "# pairwise_test, pairwise_q = evaluate_model(pairwise_net,\n",
    "#                                          \"test\", print_results=True, q_level=True)"
   ]
  },
  {
   "cell_type": "code",
   "execution_count": 33,
   "metadata": {
    "deletable": false,
    "nbgrader": {
     "cell_type": "code",
     "checksum": "52558867a0a7f79d6c42ceab4f26a132",
     "grade": true,
     "grade_id": "cell-34178113ea5e9331",
     "locked": false,
     "points": 35,
     "schema_version": 3,
     "solution": true,
     "task": false
    }
   },
   "outputs": [],
   "source": [
    "# YOUR CODE HERE\n",
    "# raise NotImplementedError()"
   ]
  },
  {
   "cell_type": "markdown",
   "metadata": {
    "deletable": false,
    "editable": false,
    "nbgrader": {
     "cell_type": "markdown",
     "checksum": "3867bfe2e108bffb3ae69f5ddfd68834",
     "grade": false,
     "grade_id": "cell-3a95bb01f72fc76c",
     "locked": true,
     "schema_version": 3,
     "solution": false,
     "task": false
    }
   },
   "source": [
    "## Section 4: Pairwise: Speed-up RankNet (70 points) <a class=\"anchor\" id=\"SpairwiseLTR\"></a>\n",
    "\n",
    "[Back to TOC](#top)\n",
    "\n",
    "To speed up training of the previous model, we can consider a sped up version of the model, where instead of `.backward` on the loss, we use `torch.backward(lambda_i)`. \n",
    "\n",
    "The derivative of the total cost $C_T$ with respect to the model parameters $w_k$ is:\n",
    "\n",
    "$$        \\frac{\\partial C_T}{\\partial w_k} = \\sum_{(i,j) \\in \\mathcal{P}} \\frac{\\partial C(s_i, s_j)}{\\partial s_i} \\frac{\\partial s_i}{\\partial w_k} + \\frac{\\partial C(s_i, s_j)}{\\partial s_j} \\frac{\\partial s_j}{\\partial w_k} $$\n",
    "\n",
    "We can rewrite this sum by considering the set of indices $j$ , for which $\\{i,j\\}$ is a valid pair, denoted by $\\mathcal{P}_i$, and the set of document indices $\\mathcal{D}$:\n",
    "\n",
    "$$\n",
    "\\frac{\\partial C_T}{\\partial w_k} = \\sum_{i \\in \\mathcal{D}}\n",
    "\\frac{\\partial s_i}{\\partial w_k} \\sum_{j \\in \\mathcal{P}_i} \n",
    "\\frac{\\partial C(s_i, s_j)}{\\partial s_i} \n",
    "$$\n",
    "\n",
    "This sped of version of the algorithm first computes scores $s_i$ for all the documents. Then for each $j= 1, \\dots, n$, compute:\n",
    "\n",
    "$$\n",
    "\\lambda_{ij} = \\frac{\\partial C(s_i, s_j)}{\\partial s_i} = \\sigma \\bigg( \\frac{1}{2}(1 - S_{ij}) -  \\frac{1}{1 + e^{\\sigma(s_i -s_j))}} \\bigg) \\\\\n",
    "\\lambda_i = \\sum_{j \\in \\mathcal{P}_i} \\frac{\\partial C(s_i, s_j)}{\\partial s_i} = \\sum_{j \\in \\mathcal{P}_i} \\lambda_{ij}\n",
    "$$\n",
    "\n",
    "That gives us:\n",
    "\n",
    "$$\n",
    "\\frac{\\partial C_T}{\\partial w_k} = \\sum_{i \\in \\mathcal{D}}\n",
    "\\frac{\\partial s_i}{\\partial w_k} \\lambda_i\n",
    "$$\n",
    "\n",
    "This can be directly optimized in pytorch using: `torch.autograd.backward(scores, lambda_i)` \n",
    " \n"
   ]
  },
  {
   "cell_type": "markdown",
   "metadata": {
    "deletable": false,
    "editable": false,
    "nbgrader": {
     "cell_type": "markdown",
     "checksum": "c88f76d295dd1dc2778cd2413b4c58e8",
     "grade": false,
     "grade_id": "cell-2a9b7b682a011642",
     "locked": true,
     "schema_version": 3,
     "solution": false,
     "task": false
    }
   },
   "source": [
    "**Implementation (20 points):**\n",
    "Implement the sped-up version of pairwise loss, described above.\n",
    "\n",
    "**Rubric:**\n",
    " - Each ordering <i,j> combination is considered: 10 points\n",
    " - Proper application of the formula: 10 points"
   ]
  },
  {
   "cell_type": "code",
   "execution_count": 34,
   "metadata": {
    "deletable": false,
    "nbgrader": {
     "cell_type": "code",
     "checksum": "4cea38cdd68cb70d08e33827bffc53a8",
     "grade": false,
     "grade_id": "cell-ba7f8d8631e3f1d6",
     "locked": false,
     "schema_version": 3,
     "solution": true,
     "task": false
    }
   },
   "outputs": [],
   "source": [
    "# TODO: Implement this! (20 points)\n",
    "def compute_lambda_i(scores, labels):\n",
    "    \"\"\"\n",
    "    Compute \\lambda_i (defined in the previous cell). (assume sigma=1.)\n",
    "    \n",
    "    scores: tensor of size [N, 1] (the output of a neural network), where N = length of <query, document> pairs\n",
    "    labels: tensor of size [N], contains the relevance labels \n",
    "    \n",
    "    return: \\lambda_i, a tensor of shape: [N, 1]\n",
    "    \"\"\"\n",
    "    # YOUR CODE HERE\n",
    "    SIGMA = 1\n",
    "    s_ij_matrix = torch.sign(labels[:,None] - labels[None,:])\n",
    "    si_minus_sj_matrix = scores[:,None] - scores[None,:]\n",
    "    lambda_ij_matrix = SIGMA * ( (1/2)*(1-s_ij_matrix)-(1/(1+torch.exp(SIGMA*si_minus_sj_matrix))) )\n",
    "    lambda_i = torch.sum(lambda_ij_matrix, axis=1)\n",
    "    return lambda_i.unsqueeze(1)\n",
    "\n",
    "# For testing:\n",
    "# scores_1 = torch.FloatTensor([0.2, 2.3, 4.5, 0.2, 1.0])\n",
    "# labels_1 = torch.FloatTensor([1, 2, 3, 0, 4])\n",
    "# scores_2 = torch.FloatTensor([3.2, 1.7])\n",
    "# labels_2 = torch.FloatTensor([3, 1])\n",
    "\n",
    "# print(compute_lambda_i(scores_1, labels_1))\n",
    "# print(compute_lambda_i(scores_2, labels_2))"
   ]
  },
  {
   "cell_type": "code",
   "execution_count": 35,
   "metadata": {
    "deletable": false,
    "nbgrader": {
     "cell_type": "code",
     "checksum": "9c4533f39d3dfbefdd4b56c61316eac8",
     "grade": true,
     "grade_id": "cell-756179237da34c57",
     "locked": false,
     "points": 20,
     "schema_version": 3,
     "solution": true,
     "task": false
    }
   },
   "outputs": [],
   "source": [
    "# YOUR CODE HERE\n",
    "# raise NotImplementedError()"
   ]
  },
  {
   "cell_type": "markdown",
   "metadata": {
    "deletable": false,
    "editable": false,
    "nbgrader": {
     "cell_type": "markdown",
     "checksum": "00482b2615dc28ead4c745a705e5fafb",
     "grade": false,
     "grade_id": "cell-ed55c62fbba08923",
     "locked": true,
     "schema_version": 3,
     "solution": false,
     "task": false
    }
   },
   "source": [
    "**Implementation (50 points):**\n",
    "Using the sped-up loss function `compute_lambda_i`, implement the spedup wrapper for pairwise training.\n",
    "\n",
    "**Rubric:**\n",
    " - Network is trained for specified epochs, and iterates over the entire dataset and (train) data is shuffled : 10 points\n",
    " - Loss calculation: 10 points\n",
    " - Evaluation on the validation set: 5 points\n",
    " - Training (e.g optimizer, zero_grad, backward): 10 points\n",
    " - Performance as expected: 15 points"
   ]
  },
  {
   "cell_type": "code",
   "execution_count": 36,
   "metadata": {
    "deletable": false,
    "nbgrader": {
     "cell_type": "code",
     "checksum": "14e4da9878b2e0a3603437b29a66a07c",
     "grade": false,
     "grade_id": "cell-ddfeb927c2f4a31c",
     "locked": false,
     "schema_version": 3,
     "solution": true,
     "task": false
    }
   },
   "outputs": [],
   "source": [
    "# TODO: Implement this! (50 points)\n",
    "def train_pairwise_spedup(net, params):\n",
    "    \"\"\"\n",
    "    This function should train the given network using the sped up pairwise loss\n",
    "    \n",
    "    \n",
    "    Note: Do not change the function definition! \n",
    "    Note: You can assume params.batch_size will always be equal to 1\n",
    "    \n",
    "    \n",
    "    net: the neural network to be trained\n",
    "    \n",
    "    params: params is an object which contains config used in training \n",
    "        (eg. params.epochs - the number of epochs to train). \n",
    "        For a full list of these params, see the next cell. \n",
    "    \n",
    "    Returns: a dictionary containing: \"metrics_val\" (a list of dictionaries) and \n",
    "             \"metrics_train\" (a list of dictionaries). \n",
    "             \n",
    "             \"metrics_val\" should contain metrics (the metrics in params.metrics) computed\n",
    "             after each epoch on the validation set (metrics_train is similar). \n",
    "             You can use this to debug your models\n",
    "    \"\"\"\n",
    "    \n",
    "    val_metrics_epoch = []\n",
    "    train_metrics_epoch = []\n",
    "    # YOUR CODE HERE\n",
    "    ## Rubric:\n",
    "        # Network is trained for specified epochs, and iterates over the entire dataset\n",
    "        # and (train) data is shuffled : 10 points\n",
    "        # Loss calculation: 10 points\n",
    "        # Evaluation on the validation set: 5 points\n",
    "        # Training (e.g optimizer, zero_grad, backward): 10 point\n",
    "        # Performance as expected: 15 points\n",
    "        \n",
    "    # Define parameters\n",
    "    epochs = params.epochs\n",
    "    learning_rate = params.lr\n",
    "    batch_size = params.batch_size\n",
    "    metrics = params.metrics\n",
    "    \n",
    "    # Specify prediction function\n",
    "    pred_fn = partial(net)\n",
    "    \n",
    "    # Define Adam optimizer\n",
    "    optimizer = Adam(net.parameters(), lr=learning_rate)\n",
    "    \n",
    "    # Create train & validation data:\n",
    "    train_dl = DataLoader(QueryGroupedLTRData(data, \"train\"), batch_size=batch_size, shuffle=True, collate_fn=qg_collate_fn)\n",
    "    validation_dl = DataLoader(QueryGroupedLTRData(data, \"validation\"), shuffle=False, collate_fn=qg_collate_fn)\n",
    "    \n",
    "    # Training loop\n",
    "    for epoch in range(epochs):\n",
    "        net.train()\n",
    "        for (query_ids, features, targets) in tqdm(train_dl): # loop over 2735 different queries\n",
    "            net.zero_grad()\n",
    "            out = net(features[0])\n",
    "            lambda_i = compute_lambda_i(out.squeeze(1), targets[0])\n",
    "            torch.autograd.backward(out, lambda_i)\n",
    "            optimizer.step() \n",
    "        \n",
    "        # EVALUATE\n",
    "        net.eval()\n",
    "        train_evaluation = evaluate_model(pred_fn, \"train\", print_results=False, q_level=True)\n",
    "        validation_evaluation = evaluate_model(pred_fn, \"validation\", print_results=False, q_level=True)           \n",
    "\n",
    "        # Save the appropriate evaluations\n",
    "        for m in params.metrics:\n",
    "            train_metrics_epoch.append({m : train_evaluation[0][m]})\n",
    "            val_metrics_epoch.append({m : validation_evaluation[0][m]})\n",
    "            \n",
    "        # print metrics    \n",
    "        print(\"train: \", train_metrics_epoch[epoch])\n",
    "        print(\"validation: \", val_metrics_epoch[epoch])\n",
    "    \n",
    "    return {\n",
    "        \"metrics_val\": val_metrics_epoch,\n",
    "        \"metrics_train\": train_metrics_epoch\n",
    "    }\n",
    "\n",
    "# For testing and plotting\n",
    "# seed(42)\n",
    "# pairwise_spedup_params_test = Namespace(epochs=15, lr=1e-3, batch_size=1, metrics={\"ndcg@10\",\"ndcg\"})\n",
    "# pairwise_net_spedup = NeuralModule(1)\n",
    "# train_pairwise_spedup(pairwise_net_spedup, pairwise_spedup_params_test)"
   ]
  },
  {
   "cell_type": "code",
   "execution_count": 37,
   "metadata": {
    "deletable": false,
    "editable": false,
    "nbgrader": {
     "cell_type": "code",
     "checksum": "cb9b27b6ec712d8d1146751bc150791e",
     "grade": false,
     "grade_id": "cell-f80dc2eae24968ee",
     "locked": true,
     "schema_version": 3,
     "solution": false,
     "task": false
    }
   },
   "outputs": [],
   "source": [
    "# uncomment to test your code\n",
    "# pairwise_spedup_params_test = Namespace(epochs=1, lr=1e-3, batch_size=1, metrics={\"ndcg@10\",\"ndcg\"})\n",
    "# pairwise_net_spedup = NeuralModule(1)\n",
    "# train_pairwise_spedup(pairwise_net_spedup, pairwise_spedup_params_test)"
   ]
  },
  {
   "cell_type": "markdown",
   "metadata": {
    "deletable": false,
    "editable": false,
    "nbgrader": {
     "cell_type": "markdown",
     "checksum": "c173b7020a1122f7218bbf37ee370884",
     "grade": false,
     "grade_id": "cell-20aa326063f673c2",
     "locked": true,
     "schema_version": 3,
     "solution": false,
     "task": false
    }
   },
   "source": [
    "The next cell creates the results file you will have to submit. *Note that the next cell trains and evaluates only the sped-up version - this is intentional!*"
   ]
  },
  {
   "cell_type": "code",
   "execution_count": 38,
   "metadata": {
    "deletable": false,
    "editable": false,
    "nbgrader": {
     "cell_type": "code",
     "checksum": "77211db554a4bb37582d7c61c7170243",
     "grade": false,
     "grade_id": "cell-32660e207ce6d16a",
     "locked": true,
     "schema_version": 3,
     "solution": false,
     "task": false
    }
   },
   "outputs": [
    {
     "name": "stdout",
     "output_type": "stream",
     "text": [
      "Training Model\n"
     ]
    },
    {
     "data": {
      "application/vnd.jupyter.widget-view+json": {
       "model_id": "711d3f8a953f49d484d7083ed3d0a413",
       "version_major": 2,
       "version_minor": 0
      },
      "text/plain": [
       "  0%|          | 0/2735 [00:00<?, ?it/s]"
      ]
     },
     "metadata": {},
     "output_type": "display_data"
    },
    {
     "data": {
      "application/vnd.jupyter.widget-view+json": {
       "model_id": "",
       "version_major": 2,
       "version_minor": 0
      },
      "text/plain": [
       "Eval (train):   0%|          | 0/333 [00:00<?, ?it/s]"
      ]
     },
     "metadata": {},
     "output_type": "display_data"
    },
    {
     "data": {
      "application/vnd.jupyter.widget-view+json": {
       "model_id": "",
       "version_major": 2,
       "version_minor": 0
      },
      "text/plain": [
       "Eval (validation):   0%|          | 0/50 [00:00<?, ?it/s]"
      ]
     },
     "metadata": {},
     "output_type": "display_data"
    },
    {
     "name": "stdout",
     "output_type": "stream",
     "text": [
      "train:  {'ndcg': (0.8322504249282601, 0.053888715669965954)}\n",
      "validation:  {'ndcg': (0.8394600337135322, 0.050149291520601026)}\n"
     ]
    },
    {
     "data": {
      "application/vnd.jupyter.widget-view+json": {
       "model_id": "139ee05cca6b47528eeeeba756919bba",
       "version_major": 2,
       "version_minor": 0
      },
      "text/plain": [
       "  0%|          | 0/2735 [00:00<?, ?it/s]"
      ]
     },
     "metadata": {},
     "output_type": "display_data"
    },
    {
     "data": {
      "application/vnd.jupyter.widget-view+json": {
       "model_id": "",
       "version_major": 2,
       "version_minor": 0
      },
      "text/plain": [
       "Eval (train):   0%|          | 0/333 [00:00<?, ?it/s]"
      ]
     },
     "metadata": {},
     "output_type": "display_data"
    },
    {
     "data": {
      "application/vnd.jupyter.widget-view+json": {
       "model_id": "",
       "version_major": 2,
       "version_minor": 0
      },
      "text/plain": [
       "Eval (validation):   0%|          | 0/50 [00:00<?, ?it/s]"
      ]
     },
     "metadata": {},
     "output_type": "display_data"
    },
    {
     "name": "stdout",
     "output_type": "stream",
     "text": [
      "train:  {'recall@05': (0.1274201835829134, 0.0833130242450826)}\n",
      "validation:  {'recall@05': (0.1413519204081947, 0.0777430938257221)}\n"
     ]
    },
    {
     "data": {
      "application/vnd.jupyter.widget-view+json": {
       "model_id": "2fa13da6ee2c4ec892a765b3e54a9dfe",
       "version_major": 2,
       "version_minor": 0
      },
      "text/plain": [
       "  0%|          | 0/2735 [00:00<?, ?it/s]"
      ]
     },
     "metadata": {},
     "output_type": "display_data"
    },
    {
     "data": {
      "application/vnd.jupyter.widget-view+json": {
       "model_id": "",
       "version_major": 2,
       "version_minor": 0
      },
      "text/plain": [
       "Eval (train):   0%|          | 0/333 [00:00<?, ?it/s]"
      ]
     },
     "metadata": {},
     "output_type": "display_data"
    },
    {
     "data": {
      "application/vnd.jupyter.widget-view+json": {
       "model_id": "",
       "version_major": 2,
       "version_minor": 0
      },
      "text/plain": [
       "Eval (validation):   0%|          | 0/50 [00:00<?, ?it/s]"
      ]
     },
     "metadata": {},
     "output_type": "display_data"
    },
    {
     "name": "stdout",
     "output_type": "stream",
     "text": [
      "train:  {'precision@05': (0.5321321321321322, 0.2774085688522097)}\n",
      "validation:  {'precision@05': (0.572, 0.2191255347968374)}\n"
     ]
    },
    {
     "data": {
      "application/vnd.jupyter.widget-view+json": {
       "model_id": "a1795de289214363b7328b047c6e63ff",
       "version_major": 2,
       "version_minor": 0
      },
      "text/plain": [
       "  0%|          | 0/2735 [00:00<?, ?it/s]"
      ]
     },
     "metadata": {},
     "output_type": "display_data"
    },
    {
     "data": {
      "application/vnd.jupyter.widget-view+json": {
       "model_id": "",
       "version_major": 2,
       "version_minor": 0
      },
      "text/plain": [
       "Eval (train):   0%|          | 0/333 [00:00<?, ?it/s]"
      ]
     },
     "metadata": {},
     "output_type": "display_data"
    },
    {
     "data": {
      "application/vnd.jupyter.widget-view+json": {
       "model_id": "",
       "version_major": 2,
       "version_minor": 0
      },
      "text/plain": [
       "Eval (validation):   0%|          | 0/50 [00:00<?, ?it/s]"
      ]
     },
     "metadata": {},
     "output_type": "display_data"
    },
    {
     "name": "stdout",
     "output_type": "stream",
     "text": [
      "train:  {'ndcg': (0.8410623558018209, 0.05292251531551106)}\n",
      "validation:  {'ndcg': (0.8493276618110264, 0.04955922330740896)}\n"
     ]
    },
    {
     "data": {
      "application/vnd.jupyter.widget-view+json": {
       "model_id": "d076ea2b1d5046f8ac3bbee4cc866366",
       "version_major": 2,
       "version_minor": 0
      },
      "text/plain": [
       "  0%|          | 0/2735 [00:00<?, ?it/s]"
      ]
     },
     "metadata": {},
     "output_type": "display_data"
    },
    {
     "data": {
      "application/vnd.jupyter.widget-view+json": {
       "model_id": "",
       "version_major": 2,
       "version_minor": 0
      },
      "text/plain": [
       "Eval (train):   0%|          | 0/333 [00:00<?, ?it/s]"
      ]
     },
     "metadata": {},
     "output_type": "display_data"
    },
    {
     "data": {
      "application/vnd.jupyter.widget-view+json": {
       "model_id": "",
       "version_major": 2,
       "version_minor": 0
      },
      "text/plain": [
       "Eval (validation):   0%|          | 0/50 [00:00<?, ?it/s]"
      ]
     },
     "metadata": {},
     "output_type": "display_data"
    },
    {
     "name": "stdout",
     "output_type": "stream",
     "text": [
      "train:  {'recall@05': (0.136596546479761, 0.08537203136804543)}\n",
      "validation:  {'recall@05': (0.15892013120579748, 0.08756297083279706)}\n"
     ]
    },
    {
     "data": {
      "application/vnd.jupyter.widget-view+json": {
       "model_id": "e22197ecdf4a46a3a4361a8b0e798f8f",
       "version_major": 2,
       "version_minor": 0
      },
      "text/plain": [
       "  0%|          | 0/2735 [00:00<?, ?it/s]"
      ]
     },
     "metadata": {},
     "output_type": "display_data"
    },
    {
     "data": {
      "application/vnd.jupyter.widget-view+json": {
       "model_id": "",
       "version_major": 2,
       "version_minor": 0
      },
      "text/plain": [
       "Eval (train):   0%|          | 0/333 [00:00<?, ?it/s]"
      ]
     },
     "metadata": {},
     "output_type": "display_data"
    },
    {
     "data": {
      "application/vnd.jupyter.widget-view+json": {
       "model_id": "",
       "version_major": 2,
       "version_minor": 0
      },
      "text/plain": [
       "Eval (validation):   0%|          | 0/50 [00:00<?, ?it/s]"
      ]
     },
     "metadata": {},
     "output_type": "display_data"
    },
    {
     "name": "stdout",
     "output_type": "stream",
     "text": [
      "train:  {'precision@05': (0.5657657657657658, 0.2709660713096571)}\n",
      "validation:  {'precision@05': (0.64, 0.22271057451320087)}\n"
     ]
    },
    {
     "data": {
      "application/vnd.jupyter.widget-view+json": {
       "model_id": "2ed88fd2d06f4f19aa84a4f5f1c0d64a",
       "version_major": 2,
       "version_minor": 0
      },
      "text/plain": [
       "  0%|          | 0/2735 [00:00<?, ?it/s]"
      ]
     },
     "metadata": {},
     "output_type": "display_data"
    },
    {
     "data": {
      "application/vnd.jupyter.widget-view+json": {
       "model_id": "",
       "version_major": 2,
       "version_minor": 0
      },
      "text/plain": [
       "Eval (train):   0%|          | 0/333 [00:00<?, ?it/s]"
      ]
     },
     "metadata": {},
     "output_type": "display_data"
    },
    {
     "data": {
      "application/vnd.jupyter.widget-view+json": {
       "model_id": "",
       "version_major": 2,
       "version_minor": 0
      },
      "text/plain": [
       "Eval (validation):   0%|          | 0/50 [00:00<?, ?it/s]"
      ]
     },
     "metadata": {},
     "output_type": "display_data"
    },
    {
     "name": "stdout",
     "output_type": "stream",
     "text": [
      "train:  {'ndcg': (0.8444170009714073, 0.05178379005265808)}\n",
      "validation:  {'ndcg': (0.8460084376913389, 0.046536664298362784)}\n"
     ]
    },
    {
     "data": {
      "application/vnd.jupyter.widget-view+json": {
       "model_id": "8fe1bc83d19d4363823628118af95c47",
       "version_major": 2,
       "version_minor": 0
      },
      "text/plain": [
       "  0%|          | 0/2735 [00:00<?, ?it/s]"
      ]
     },
     "metadata": {},
     "output_type": "display_data"
    },
    {
     "data": {
      "application/vnd.jupyter.widget-view+json": {
       "model_id": "",
       "version_major": 2,
       "version_minor": 0
      },
      "text/plain": [
       "Eval (train):   0%|          | 0/333 [00:00<?, ?it/s]"
      ]
     },
     "metadata": {},
     "output_type": "display_data"
    },
    {
     "data": {
      "application/vnd.jupyter.widget-view+json": {
       "model_id": "",
       "version_major": 2,
       "version_minor": 0
      },
      "text/plain": [
       "Eval (validation):   0%|          | 0/50 [00:00<?, ?it/s]"
      ]
     },
     "metadata": {},
     "output_type": "display_data"
    },
    {
     "name": "stdout",
     "output_type": "stream",
     "text": [
      "train:  {'recall@05': (0.14039513094300418, 0.08392192485049972)}\n",
      "validation:  {'recall@05': (0.14808175737496224, 0.07638336079781122)}\n"
     ]
    },
    {
     "data": {
      "application/vnd.jupyter.widget-view+json": {
       "model_id": "",
       "version_major": 2,
       "version_minor": 0
      },
      "text/plain": [
       "Eval (test):   0%|          | 0/117 [00:00<?, ?it/s]"
      ]
     },
     "metadata": {},
     "output_type": "display_data"
    },
    {
     "name": "stdout",
     "output_type": "stream",
     "text": [
      "\"metric\": \"mean\" (\"standard deviation\")\n",
      "dcg: 109.8173 (24.01581)\n",
      "dcg@03: 19.2504 (8.04466)\n",
      "dcg@05: 23.9801 (9.12995)\n",
      "dcg@10: 31.9294 (11.24857)\n",
      "dcg@20: 42.3602 (13.29699)\n",
      "ndcg: 0.8479 (0.05342)\n",
      "ndcg@03: 0.6592 (0.23688)\n",
      "ndcg@05: 0.6238 (0.19023)\n",
      "ndcg@10: 0.6103 (0.16099)\n",
      "ndcg@20: 0.6167 (0.13382)\n",
      "precision@01: 0.7436 (0.43665)\n",
      "precision@03: 0.6923 (0.29608)\n",
      "precision@05: 0.6051 (0.25815)\n",
      "precision@10: 0.5000 (0.22608)\n",
      "precision@20: 0.3979 (0.17955)\n",
      "recall@01: 0.0336 (0.02764)\n",
      "recall@03: 0.0933 (0.05823)\n",
      "recall@05: 0.1368 (0.08452)\n",
      "recall@10: 0.2145 (0.11045)\n",
      "recall@20: 0.3276 (0.13381)\n",
      "relevant rank: 65.5463 (61.69615)\n",
      "relevant rank per query: 1686.8376 (1008.76436)\n"
     ]
    }
   ],
   "source": [
    "seed(42)\n",
    "params = Namespace(epochs=8, \n",
    "                    lr=1e-3,\n",
    "                    batch_size=1,\n",
    "                    metrics={\"ndcg\", \"precision@05\", \"recall@05\"})\n",
    "pairwise_model = NeuralModule(1)\n",
    "\n",
    "create_results(pairwise_model, \n",
    "               train_pairwise_spedup, \n",
    "               pairwise_model,\n",
    "               \"./pairwise.json\",\n",
    "               params)\n",
    "# persist model\n",
    "torch.save(pairwise_model.state_dict(), \"./pairwise_wt\")"
   ]
  },
  {
   "cell_type": "markdown",
   "metadata": {
    "deletable": false,
    "nbgrader": {
     "cell_type": "markdown",
     "checksum": "3cc6f1a702be838b6e26733b089d5bda",
     "grade": true,
     "grade_id": "cell-8aad7ba1f8c6c23c",
     "locked": false,
     "points": 35,
     "schema_version": 3,
     "solution": true,
     "task": false
    }
   },
   "source": [
    "YOUR ANSWER HERE"
   ]
  },
  {
   "cell_type": "code",
   "execution_count": 39,
   "metadata": {
    "deletable": false,
    "editable": false,
    "nbgrader": {
     "cell_type": "code",
     "checksum": "5b46d1ebc1676bc1dbce629b0a978326",
     "grade": true,
     "grade_id": "cell-3dc8ee835753e5aa",
     "locked": true,
     "points": 15,
     "schema_version": 3,
     "solution": false,
     "task": false
    }
   },
   "outputs": [],
   "source": [
    "assert os.path.exists(\"./pairwise.json\")"
   ]
  },
  {
   "cell_type": "markdown",
   "metadata": {
    "deletable": false,
    "editable": false,
    "nbgrader": {
     "cell_type": "markdown",
     "checksum": "60ad8126d68fcf4814988ad22c335c2a",
     "grade": false,
     "grade_id": "cell-14e048f55b2e6aea",
     "locked": true,
     "schema_version": 3,
     "solution": false,
     "task": false
    }
   },
   "source": [
    "##  Section 5: Listwise LTR (80 points) <a class=\"anchor\" id=\"listwiseLTR\"></a>\n",
    "\n",
    "[Back to TOC](#top)\n",
    "\n",
    "In this section, you will implement LambdaRank, a listwise approach to LTR. Consider the computation of $\\lambda$ for sped-up RankNet (that you've already implemented). $\\lambda$ here amounts to the 'force' on a document given its neighbours in the ranked list. The design of $\\lambda$ in LambdaRank is similar to RankNet, but is scaled by DCG gain from swapping the two documents in question. Let's suppose that the corresponding ranks of doucment $D_i$ and $D_j$ are $r_i$ and $r_j$ respectively. Given a ranking measure $IRM$, such as $NDCG$ or $ERR$, the lambda function in LambdaRank is defined as:\n",
    "\n",
    "\n",
    "$$        \\frac{\\partial C}{\\partial s_i} = \\sum_{j \\in D} \\lambda_{ij} \\cdot |\\bigtriangleup IRM (i,j)| $$\n",
    "\n",
    "Where $|\\bigtriangleup IRM(i,j)|$ is the absolute difference in $IRM$ after swapping the rank positions $r_i$ and $r_j$ while leaving everything else unchanged ($| \\cdot |$ denotes the absolute value). Note that we do not backpropogate $|\\bigtriangleup IRM|$, it is treated as a constant that scales the gradients. In this assignment we will use $|\\bigtriangleup NDCG|$"
   ]
  },
  {
   "cell_type": "markdown",
   "metadata": {
    "deletable": false,
    "editable": false,
    "nbgrader": {
     "cell_type": "markdown",
     "checksum": "0caedecf5dcfd8b561a99f58ea756abd",
     "grade": false,
     "grade_id": "cell-351c194e6797d0a0",
     "locked": true,
     "schema_version": 3,
     "solution": false,
     "task": false
    }
   },
   "source": [
    "**Implementation (30 points):**\n",
    "Implement the listwise loss.\n",
    "\n",
    "**Rubric:**\n",
    " - Each ordering <i,j> combination is considered: 10 points\n",
    " - Computing $|\\bigtriangleup NDCG|$: 10 points \n",
    " - Proper application of the formula: 10 points "
   ]
  },
  {
   "cell_type": "code",
   "execution_count": 40,
   "metadata": {
    "deletable": false,
    "nbgrader": {
     "cell_type": "code",
     "checksum": "a0ba4266e951c80236d3dc6f0e0c32a5",
     "grade": false,
     "grade_id": "cell-48f6a2a1c4a529b6",
     "locked": false,
     "schema_version": 3,
     "solution": true,
     "task": false
    }
   },
   "outputs": [],
   "source": [
    "# TODO: Implement this! (30 points)\n",
    "def listwise_loss(scores, labels):\n",
    "    \n",
    "    \"\"\"\n",
    "    Compute the LambdaRank loss. (assume sigma=1.)\n",
    "    \n",
    "    scores: tensor of size [N, 1] (the output of a neural network), where N = length of <query, document> pairs\n",
    "    labels: tensor of size [N], contains the relevance labels \n",
    "    \n",
    "    returns: a tensor of size [N, 1]\n",
    "    \"\"\"\n",
    "    \n",
    "    # YOUR CODE HERE\n",
    "    SIGMA = 1\n",
    "    \n",
    "    # lambda_ij matrix as in previous excercise\n",
    "    s_ij_matrix = torch.sign(labels[:,None] - labels[None,:])\n",
    "    si_minus_sj_matrix = scores[:,None] - scores[None,:]\n",
    "    lambda_ij_matrix = SIGMA * ( 1/2*(1-s_ij_matrix)-(1/(1+torch.exp(SIGMA*si_minus_sj_matrix))) )\n",
    "    # Create new np arrays with scores to rank the order of the scores according to relevance labels\n",
    "    scores_copy_np = np.array(scores.clone().detach())\n",
    "    labels_copy_np = np.array(labels.clone().detach())\n",
    "    # Rank scores ascendingly -> take relevance of each score\n",
    "    sort_ind = np.argsort(scores_copy_np)[::-1]\n",
    "    sorted_relevance = labels_copy_np[sort_ind]\n",
    "    # Compute gain and gain difference according to swaps of documents\n",
    "    gain = np.power(2, sorted_relevance)-1\n",
    "    gain_difference_matrix = gain[:,None] - gain[None,:]\n",
    "    # Compute discount and discount differences according to swaps of documents\n",
    "    discount = 1/(np.log2(np.arange(1, len(scores)+1, dtype=float)+1))\n",
    "    discount_matrix = discount[:,None] - discount[None,:]\n",
    "    # Compute the iDCG to compare all NDCG scores with\n",
    "    ideal_labels = np.sort(labels)\n",
    "    ideal_dcg = np.sum(ideal_labels / (np.arange(1, len(scores)+1, dtype=float)+1))\n",
    "    inverse_ideal_dcg = 1/ideal_dcg\n",
    "    # delta_ndcg =  [Gain(i) - Gain(j)] * [1/Discount(rank_i) - 1/Discount(rank_j)] * inverse_ideal_dcg\n",
    "    delta_ndcg = abs(torch.tensor(gain_difference_matrix) * discount_matrix * inverse_ideal_dcg)\n",
    "    listw_loss_ij = lambda_ij_matrix * delta_ndcg\n",
    "    listw_loss_i = torch.sum(listw_loss_ij, 1)\n",
    "    return listw_loss_i.unsqueeze(1)\n",
    "\n",
    "# listwise_params_test = Namespace(epochs=1, lr=1e-3, batch_size=1, metrics={\"ndcg\"})\n",
    "# listwise_net = NeuralModule(1)\n",
    "# train_listwise(listwise_net, listwise_params_test)\n",
    "# evaluate_model(listwise_net, \"test\", print_results=True)"
   ]
  },
  {
   "cell_type": "code",
   "execution_count": 41,
   "metadata": {
    "deletable": false,
    "editable": false,
    "nbgrader": {
     "cell_type": "code",
     "checksum": "28f708cd49db29860a2774a320685d18",
     "grade": false,
     "grade_id": "cell-7ffca014e68d2c32",
     "locked": true,
     "schema_version": 3,
     "solution": false,
     "task": false
    }
   },
   "outputs": [
    {
     "name": "stdout",
     "output_type": "stream",
     "text": [
      "tensor([[-0.3036],\n",
      "        [ 0.1494],\n",
      "        [ 0.6254],\n",
      "        [ 0.9932],\n",
      "        [-1.4645]], dtype=torch.float64)\n",
      "tensor([[-0.2693],\n",
      "        [ 0.2693]], dtype=torch.float64)\n"
     ]
    }
   ],
   "source": [
    "scores_1 = torch.FloatTensor([0.2, 2.3, 4.5, 0.2, 1.0])\n",
    "labels_1 = torch.FloatTensor([1, 2, 3, 0, 4])\n",
    "\n",
    "\n",
    "scores_2 = torch.FloatTensor([3.2, 1.7])\n",
    "labels_2 = torch.FloatTensor([3, 1])\n",
    "\n",
    "\n",
    "print(listwise_loss(scores_1, labels_1))\n",
    "\n",
    "\n",
    "\n",
    "print(listwise_loss(scores_2, labels_2))"
   ]
  },
  {
   "cell_type": "code",
   "execution_count": 42,
   "metadata": {
    "deletable": false,
    "nbgrader": {
     "cell_type": "code",
     "checksum": "b3c154e9791120fcb899928865f40d30",
     "grade": true,
     "grade_id": "cell-fadab94bb19ea7ee",
     "locked": false,
     "points": 30,
     "schema_version": 3,
     "solution": true,
     "task": false
    }
   },
   "outputs": [],
   "source": [
    "# YOUR CODE HERE\n",
    "# raise NotImplementedError()"
   ]
  },
  {
   "cell_type": "markdown",
   "metadata": {
    "deletable": false,
    "editable": false,
    "nbgrader": {
     "cell_type": "markdown",
     "checksum": "48df2b36472c6f03f84a293fea5d3602",
     "grade": false,
     "grade_id": "cell-7dec2c279f77b272",
     "locked": true,
     "schema_version": 3,
     "solution": false,
     "task": false
    }
   },
   "source": [
    "##### **Implementation (50 points):**\n",
    "And use the loss function above to train a listwise LTR.\n",
    "\n",
    "**Rubric:**\n",
    " - Network is trained for specified epochs, and iterates over the entire dataset and (train) data is shuffled : 10 points\n",
    " - Loss calculation: 10 points\n",
    " - Evaluation on the validation set: 5 points\n",
    " - Training (e.g optimizer, zero_grad, backward): 10 points\n",
    " - Performance as expected: 15 points"
   ]
  },
  {
   "cell_type": "code",
   "execution_count": 43,
   "metadata": {
    "deletable": false,
    "nbgrader": {
     "cell_type": "code",
     "checksum": "786e51ea263d0ea82a5ec251344f7d0e",
     "grade": false,
     "grade_id": "cell-34c4d0bdbb753580",
     "locked": false,
     "schema_version": 3,
     "solution": true,
     "task": false
    }
   },
   "outputs": [],
   "source": [
    "# TODO: Implement this! (50 points)\n",
    "def train_listwise(net, params):\n",
    "    \"\"\"\n",
    "    This function should train the given network using the listwise (LambdaRank) loss\n",
    "    \n",
    "    Note: Do not change the function definition! \n",
    "    Note: You can assume params.batch_size will always be equal to 1\n",
    "    \n",
    "    \n",
    "    net: the neural network to be trained\n",
    "    \n",
    "    params: params is an object which contains config used in training \n",
    "        (eg. params.epochs - the number of epochs to train). \n",
    "        For a full list of these params, see the next cell. \n",
    "        \n",
    "    Returns: a dictionary containing: \"metrics_val\" (a list of dictionaries) and \n",
    "             \"metrics_train\" (a list of dictionaries). \n",
    "             \n",
    "             \"metrics_val\" should contain metrics (the metrics in params.metrics) computed\n",
    "             after each epoch on the validation set (metrics_train is similar). \n",
    "             You can use this to debug your models\n",
    "    \"\"\"\n",
    "    \n",
    "    val_metrics_epoch = []\n",
    "    train_metrics_epoch = []\n",
    "    # YOUR CODE HERE\n",
    "        ## Rubric:\n",
    "        # Network is trained for specified epochs, and iterates over the entire dataset\n",
    "        # and (train) data is shuffled : 10 points\n",
    "        # Loss calculation: 10 points\n",
    "        # Evaluation on the validation set: 5 points\n",
    "        # Training (e.g optimizer, zero_grad, backward): 10 point\n",
    "        \n",
    "    # Define parameters\n",
    "    epochs = params.epochs\n",
    "    learning_rate = params.lr\n",
    "    batch_size = params.batch_size\n",
    "    metrics = params.metrics\n",
    "    \n",
    "    # Specify prediction function\n",
    "    loss_function = listwise_loss\n",
    "    pred_fn = partial(net)\n",
    "    \n",
    "    # Define Adam optimizer\n",
    "    optimizer = Adam(net.parameters(), lr=learning_rate)\n",
    "    \n",
    "    # Create train & validation data\n",
    "    train_dl = DataLoader(QueryGroupedLTRData(data, \"train\"), batch_size=batch_size, shuffle=True, collate_fn=qg_collate_fn)\n",
    "    validation_dl = DataLoader(QueryGroupedLTRData(data, \"validation\"), shuffle=False, collate_fn=qg_collate_fn)\n",
    "    \n",
    "    # Training loop\n",
    "    for epoch in range(epochs):\n",
    "        net.train()\n",
    "        for (query_ids, features, targets) in tqdm(train_dl): # loop over 2735 different queries\n",
    "            net.zero_grad()\n",
    "            out = net(features[0])\n",
    "            lambda_i = compute_lambda_i(out.squeeze(1), targets[0])\n",
    "            torch.autograd.backward(out, lambda_i)\n",
    "            optimizer.step() \n",
    "        \n",
    "        # EVALUATE\n",
    "        net.eval()\n",
    "        train_evaluation = evaluate_model(pred_fn, \"train\", print_results=False, q_level=True) \n",
    "        validation_evaluation = evaluate_model(pred_fn, \"validation\", print_results=False, q_level=True)           \n",
    "\n",
    "        # Save the appropriate evaluations\n",
    "        for m in params.metrics:\n",
    "            train_metrics_epoch.append({m : train_evaluation[0][m]})\n",
    "            val_metrics_epoch.append({m : validation_evaluation[0][m]})  \n",
    "            \n",
    "        # print metrics    \n",
    "        print(\"train: \", train_metrics_epoch[epoch])\n",
    "        print(\"validation: \", val_metrics_epoch[epoch])\n",
    "    \n",
    "    return {\n",
    "        \"metrics_val\": val_metrics_epoch,\n",
    "        \"metrics_train\": train_metrics_epoch\n",
    "    }\n",
    "\n",
    "# listwise_net = NeuralModule(1)\n",
    "# listwise_params_test = Namespace(epochs=12, lr=1e-3, batch_size=1, metrics={\"ndcg\"})\n",
    "# train_listwise(listwise_net, listwise_params_test)"
   ]
  },
  {
   "cell_type": "code",
   "execution_count": 44,
   "metadata": {
    "deletable": false,
    "editable": false,
    "nbgrader": {
     "cell_type": "code",
     "checksum": "109d4be0105ee65f2e446c5d1a961eea",
     "grade": false,
     "grade_id": "cell-36910488e505a73a",
     "locked": true,
     "schema_version": 3,
     "solution": false,
     "task": false
    }
   },
   "outputs": [],
   "source": [
    "# uncomment to test your code\n",
    "# listwise_params_test = Namespace(epochs=1, lr=1e-3, batch_size=1, metrics={\"ndcg\"})\n",
    "# listwise_net = NeuralModule(1)\n",
    "# train_listwise(listwise_net, listwise_params_test)\n",
    "# evaluate_model(listwise_net, \"test\", print_results=True)"
   ]
  },
  {
   "cell_type": "markdown",
   "metadata": {
    "deletable": false,
    "editable": false,
    "nbgrader": {
     "cell_type": "markdown",
     "checksum": "275a63cf01f8efa9cb9b42b45d41aa9b",
     "grade": false,
     "grade_id": "cell-27de808a4c9d6bf6",
     "locked": true,
     "schema_version": 3,
     "solution": false,
     "task": false
    }
   },
   "source": [
    "The following cell saves your results in `listwise.json` file for submission."
   ]
  },
  {
   "cell_type": "code",
   "execution_count": 45,
   "metadata": {
    "deletable": false,
    "editable": false,
    "nbgrader": {
     "cell_type": "code",
     "checksum": "5b50d890fdac41f183467a165cc71ae6",
     "grade": false,
     "grade_id": "cell-8c3dde9e1dcde277",
     "locked": true,
     "schema_version": 3,
     "solution": false,
     "task": false
    }
   },
   "outputs": [
    {
     "name": "stdout",
     "output_type": "stream",
     "text": [
      "Training Model\n"
     ]
    },
    {
     "data": {
      "application/vnd.jupyter.widget-view+json": {
       "model_id": "5dc896571bbc426e9fc70109ed835bb9",
       "version_major": 2,
       "version_minor": 0
      },
      "text/plain": [
       "  0%|          | 0/2735 [00:00<?, ?it/s]"
      ]
     },
     "metadata": {},
     "output_type": "display_data"
    },
    {
     "data": {
      "application/vnd.jupyter.widget-view+json": {
       "model_id": "",
       "version_major": 2,
       "version_minor": 0
      },
      "text/plain": [
       "Eval (train):   0%|          | 0/333 [00:00<?, ?it/s]"
      ]
     },
     "metadata": {},
     "output_type": "display_data"
    },
    {
     "data": {
      "application/vnd.jupyter.widget-view+json": {
       "model_id": "",
       "version_major": 2,
       "version_minor": 0
      },
      "text/plain": [
       "Eval (validation):   0%|          | 0/50 [00:00<?, ?it/s]"
      ]
     },
     "metadata": {},
     "output_type": "display_data"
    },
    {
     "name": "stdout",
     "output_type": "stream",
     "text": [
      "train:  {'ndcg': (0.8264491487444993, 0.054707557224318325)}\n",
      "validation:  {'ndcg': (0.8367553088010934, 0.047863013636232576)}\n"
     ]
    },
    {
     "data": {
      "application/vnd.jupyter.widget-view+json": {
       "model_id": "8066cad5f0c543cd8653fe91d405271d",
       "version_major": 2,
       "version_minor": 0
      },
      "text/plain": [
       "  0%|          | 0/2735 [00:00<?, ?it/s]"
      ]
     },
     "metadata": {},
     "output_type": "display_data"
    },
    {
     "data": {
      "application/vnd.jupyter.widget-view+json": {
       "model_id": "",
       "version_major": 2,
       "version_minor": 0
      },
      "text/plain": [
       "Eval (train):   0%|          | 0/333 [00:00<?, ?it/s]"
      ]
     },
     "metadata": {},
     "output_type": "display_data"
    },
    {
     "data": {
      "application/vnd.jupyter.widget-view+json": {
       "model_id": "",
       "version_major": 2,
       "version_minor": 0
      },
      "text/plain": [
       "Eval (validation):   0%|          | 0/50 [00:00<?, ?it/s]"
      ]
     },
     "metadata": {},
     "output_type": "display_data"
    },
    {
     "name": "stdout",
     "output_type": "stream",
     "text": [
      "train:  {'recall@05': (0.12141147196606732, 0.08490453261353775)}\n",
      "validation:  {'recall@05': (0.13195686895179223, 0.07770073584290303)}\n"
     ]
    },
    {
     "data": {
      "application/vnd.jupyter.widget-view+json": {
       "model_id": "0369c1b0333747beaddfe8c3f85c427b",
       "version_major": 2,
       "version_minor": 0
      },
      "text/plain": [
       "  0%|          | 0/2735 [00:00<?, ?it/s]"
      ]
     },
     "metadata": {},
     "output_type": "display_data"
    },
    {
     "data": {
      "application/vnd.jupyter.widget-view+json": {
       "model_id": "",
       "version_major": 2,
       "version_minor": 0
      },
      "text/plain": [
       "Eval (train):   0%|          | 0/333 [00:00<?, ?it/s]"
      ]
     },
     "metadata": {},
     "output_type": "display_data"
    },
    {
     "data": {
      "application/vnd.jupyter.widget-view+json": {
       "model_id": "",
       "version_major": 2,
       "version_minor": 0
      },
      "text/plain": [
       "Eval (validation):   0%|          | 0/50 [00:00<?, ?it/s]"
      ]
     },
     "metadata": {},
     "output_type": "display_data"
    },
    {
     "name": "stdout",
     "output_type": "stream",
     "text": [
      "train:  {'precision@05': (0.5039039039039039, 0.2822311627088312)}\n",
      "validation:  {'precision@05': (0.536, 0.22428553230201898)}\n"
     ]
    },
    {
     "data": {
      "application/vnd.jupyter.widget-view+json": {
       "model_id": "92c0953b8f3645d9aeaa915bbff1498a",
       "version_major": 2,
       "version_minor": 0
      },
      "text/plain": [
       "  0%|          | 0/2735 [00:00<?, ?it/s]"
      ]
     },
     "metadata": {},
     "output_type": "display_data"
    },
    {
     "data": {
      "application/vnd.jupyter.widget-view+json": {
       "model_id": "",
       "version_major": 2,
       "version_minor": 0
      },
      "text/plain": [
       "Eval (train):   0%|          | 0/333 [00:00<?, ?it/s]"
      ]
     },
     "metadata": {},
     "output_type": "display_data"
    },
    {
     "data": {
      "application/vnd.jupyter.widget-view+json": {
       "model_id": "",
       "version_major": 2,
       "version_minor": 0
      },
      "text/plain": [
       "Eval (validation):   0%|          | 0/50 [00:00<?, ?it/s]"
      ]
     },
     "metadata": {},
     "output_type": "display_data"
    },
    {
     "name": "stdout",
     "output_type": "stream",
     "text": [
      "train:  {'ndcg': (0.8337308672630465, 0.05155659270096487)}\n",
      "validation:  {'ndcg': (0.8475190616158481, 0.044217558887858756)}\n"
     ]
    },
    {
     "data": {
      "application/vnd.jupyter.widget-view+json": {
       "model_id": "07bc720214bd4f979de54cc66d8054a6",
       "version_major": 2,
       "version_minor": 0
      },
      "text/plain": [
       "  0%|          | 0/2735 [00:00<?, ?it/s]"
      ]
     },
     "metadata": {},
     "output_type": "display_data"
    },
    {
     "data": {
      "application/vnd.jupyter.widget-view+json": {
       "model_id": "",
       "version_major": 2,
       "version_minor": 0
      },
      "text/plain": [
       "Eval (train):   0%|          | 0/333 [00:00<?, ?it/s]"
      ]
     },
     "metadata": {},
     "output_type": "display_data"
    },
    {
     "data": {
      "application/vnd.jupyter.widget-view+json": {
       "model_id": "",
       "version_major": 2,
       "version_minor": 0
      },
      "text/plain": [
       "Eval (validation):   0%|          | 0/50 [00:00<?, ?it/s]"
      ]
     },
     "metadata": {},
     "output_type": "display_data"
    },
    {
     "name": "stdout",
     "output_type": "stream",
     "text": [
      "train:  {'recall@05': (0.13006268876022214, 0.08466984873686884)}\n",
      "validation:  {'recall@05': (0.14026722423770532, 0.06790497618182877)}\n"
     ]
    },
    {
     "data": {
      "application/vnd.jupyter.widget-view+json": {
       "model_id": "915ff3ce056642648850e252f8ad0506",
       "version_major": 2,
       "version_minor": 0
      },
      "text/plain": [
       "  0%|          | 0/2735 [00:00<?, ?it/s]"
      ]
     },
     "metadata": {},
     "output_type": "display_data"
    },
    {
     "data": {
      "application/vnd.jupyter.widget-view+json": {
       "model_id": "",
       "version_major": 2,
       "version_minor": 0
      },
      "text/plain": [
       "Eval (train):   0%|          | 0/333 [00:00<?, ?it/s]"
      ]
     },
     "metadata": {},
     "output_type": "display_data"
    },
    {
     "data": {
      "application/vnd.jupyter.widget-view+json": {
       "model_id": "",
       "version_major": 2,
       "version_minor": 0
      },
      "text/plain": [
       "Eval (validation):   0%|          | 0/50 [00:00<?, ?it/s]"
      ]
     },
     "metadata": {},
     "output_type": "display_data"
    },
    {
     "name": "stdout",
     "output_type": "stream",
     "text": [
      "train:  {'precision@05': (0.5393393393393393, 0.28207007549801416)}\n",
      "validation:  {'precision@05': (0.5760000000000001, 0.20254382241875457)}\n"
     ]
    },
    {
     "data": {
      "application/vnd.jupyter.widget-view+json": {
       "model_id": "61d93ee762314e9d9b4aba657e2853c6",
       "version_major": 2,
       "version_minor": 0
      },
      "text/plain": [
       "  0%|          | 0/2735 [00:00<?, ?it/s]"
      ]
     },
     "metadata": {},
     "output_type": "display_data"
    },
    {
     "data": {
      "application/vnd.jupyter.widget-view+json": {
       "model_id": "",
       "version_major": 2,
       "version_minor": 0
      },
      "text/plain": [
       "Eval (train):   0%|          | 0/333 [00:00<?, ?it/s]"
      ]
     },
     "metadata": {},
     "output_type": "display_data"
    },
    {
     "data": {
      "application/vnd.jupyter.widget-view+json": {
       "model_id": "",
       "version_major": 2,
       "version_minor": 0
      },
      "text/plain": [
       "Eval (validation):   0%|          | 0/50 [00:00<?, ?it/s]"
      ]
     },
     "metadata": {},
     "output_type": "display_data"
    },
    {
     "name": "stdout",
     "output_type": "stream",
     "text": [
      "train:  {'ndcg': (0.8418573608203809, 0.05051616040832082)}\n",
      "validation:  {'ndcg': (0.8513078135080231, 0.04339042849334858)}\n"
     ]
    },
    {
     "data": {
      "application/vnd.jupyter.widget-view+json": {
       "model_id": "21dee2f8c433452a92750bc526df6431",
       "version_major": 2,
       "version_minor": 0
      },
      "text/plain": [
       "  0%|          | 0/2735 [00:00<?, ?it/s]"
      ]
     },
     "metadata": {},
     "output_type": "display_data"
    },
    {
     "data": {
      "application/vnd.jupyter.widget-view+json": {
       "model_id": "",
       "version_major": 2,
       "version_minor": 0
      },
      "text/plain": [
       "Eval (train):   0%|          | 0/333 [00:00<?, ?it/s]"
      ]
     },
     "metadata": {},
     "output_type": "display_data"
    },
    {
     "data": {
      "application/vnd.jupyter.widget-view+json": {
       "model_id": "",
       "version_major": 2,
       "version_minor": 0
      },
      "text/plain": [
       "Eval (validation):   0%|          | 0/50 [00:00<?, ?it/s]"
      ]
     },
     "metadata": {},
     "output_type": "display_data"
    },
    {
     "name": "stdout",
     "output_type": "stream",
     "text": [
      "train:  {'recall@05': (0.13614059789218183, 0.08188177415460592)}\n",
      "validation:  {'recall@05': (0.14283352863812704, 0.07245998490358067)}\n"
     ]
    },
    {
     "data": {
      "application/vnd.jupyter.widget-view+json": {
       "model_id": "",
       "version_major": 2,
       "version_minor": 0
      },
      "text/plain": [
       "Eval (test):   0%|          | 0/117 [00:00<?, ?it/s]"
      ]
     },
     "metadata": {},
     "output_type": "display_data"
    },
    {
     "name": "stdout",
     "output_type": "stream",
     "text": [
      "\"metric\": \"mean\" (\"standard deviation\")\n",
      "dcg: 110.0119 (24.03749)\n",
      "dcg@03: 18.6287 (7.75421)\n",
      "dcg@05: 23.9057 (9.00271)\n",
      "dcg@10: 32.3119 (10.88329)\n",
      "dcg@20: 42.8043 (12.98716)\n",
      "ndcg: 0.8492 (0.05036)\n",
      "ndcg@03: 0.6388 (0.22893)\n",
      "ndcg@05: 0.6236 (0.19104)\n",
      "ndcg@10: 0.6188 (0.15233)\n",
      "ndcg@20: 0.6233 (0.12373)\n",
      "precision@01: 0.6923 (0.46154)\n",
      "precision@03: 0.6809 (0.27698)\n",
      "precision@05: 0.6342 (0.25391)\n",
      "precision@10: 0.5188 (0.21481)\n",
      "precision@20: 0.4068 (0.17552)\n",
      "recall@01: 0.0311 (0.02765)\n",
      "recall@03: 0.0927 (0.05705)\n",
      "recall@05: 0.1420 (0.08079)\n",
      "recall@10: 0.2208 (0.10115)\n",
      "recall@20: 0.3370 (0.13180)\n",
      "relevant rank: 64.4507 (61.67116)\n",
      "relevant rank per query: 1658.6410 (1005.56335)\n"
     ]
    }
   ],
   "source": [
    "seed(42)\n",
    "params = Namespace(epochs=8, \n",
    "                    lr=1e-4,\n",
    "                    batch_size=1,\n",
    "                    metrics={\"ndcg\", \"precision@05\", \"recall@05\"})\n",
    "listwise_model = NeuralModule(1)\n",
    "\n",
    "create_results(listwise_model, \n",
    "               train_listwise, \n",
    "               listwise_model,\n",
    "               \"./listwise.json\",\n",
    "               params)\n",
    "\n",
    "# persist model\n",
    "torch.save(listwise_model.state_dict(), \"./listwise_wt\")"
   ]
  },
  {
   "cell_type": "markdown",
   "metadata": {
    "deletable": false,
    "nbgrader": {
     "cell_type": "markdown",
     "checksum": "cbccf7ada9159548390a5d8d28df92d1",
     "grade": true,
     "grade_id": "cell-6c37b60a428d000a",
     "locked": false,
     "points": 35,
     "schema_version": 3,
     "solution": true,
     "task": false
    }
   },
   "source": [
    "YOUR ANSWER HERE"
   ]
  },
  {
   "cell_type": "code",
   "execution_count": 46,
   "metadata": {
    "deletable": false,
    "editable": false,
    "nbgrader": {
     "cell_type": "code",
     "checksum": "4e086691009a4dc0f8013c9f7f2d61bf",
     "grade": true,
     "grade_id": "cell-6c8d3b2e4ab668b1",
     "locked": true,
     "points": 15,
     "schema_version": 3,
     "solution": false,
     "task": false
    }
   },
   "outputs": [],
   "source": [
    "assert os.path.exists(\"./listwise.json\")"
   ]
  },
  {
   "cell_type": "markdown",
   "metadata": {
    "deletable": false,
    "editable": false,
    "nbgrader": {
     "cell_type": "markdown",
     "checksum": "1a1aaed7333acfcbdf24046a15cc5a2b",
     "grade": false,
     "grade_id": "cell-e47b21d69c9be1e4",
     "locked": true,
     "schema_version": 3,
     "solution": false,
     "task": false
    }
   },
   "source": [
    "## Section 6: Comparing Pointwise, Pairwise and Listwise (70 points) <a class=\"anchor\" id=\"evaluation1\"></a>\n",
    "\n",
    "[Back to TOC](#top)\n",
    "\n",
    "In the next few cells, we will compare the methods you've implemented. Helper functions are provided for you, which you can use to make some conclusions. You can modify the code as needed (you are encouraged to do so!)"
   ]
  },
  {
   "cell_type": "code",
   "execution_count": 47,
   "metadata": {},
   "outputs": [],
   "source": [
    "def autolabel(ax, rects, labels):\n",
    "    \"\"\"Attach a text label above each bar in *rects*, displaying its height.\"\"\"\n",
    "    for l, rect in zip(labels, rects):\n",
    "        height = rect.get_height()\n",
    "        ax.annotate('{}'.format(l),\n",
    "                    xy=(rect.get_x() + rect.get_width() / 2, height),\n",
    "                    xytext=(0, 3),  # 3 points vertical offset\n",
    "                    textcoords=\"offset points\",\n",
    "                    ha='center', va='bottom',\n",
    "                   fontsize=7)\n",
    "\n",
    "def compare_methods(labels, metrics, metrics_to_plot={\"ndcg\", \"precision@05\", \"recall@05\"}):\n",
    "    \"\"\"\n",
    "    Constructs bar plots to compare different methods. \n",
    "    \n",
    "    labels: list/tuple of length N\n",
    "    metrics: list/tuple of length N, containing dictionary containing the test set results \n",
    "    metrics_to_plot: set of metrics to plot - each metric creates a separate plot \n",
    "    \"\"\"\n",
    "    assert len(metrics) == len(labels)\n",
    "    \n",
    "    x = np.arange(len(metrics_to_plot)) \n",
    "    fig, axes = plt.subplots(nrows=1, ncols=len(metrics_to_plot), sharey=False)\n",
    "    fig.set_figheight(7)\n",
    "    fig.set_figwidth(15)\n",
    "    \n",
    "    colors = cm.get_cmap(\"Set1\").colors\n",
    "\n",
    "    for metric, ax, c in zip(metrics_to_plot, axes, colors):\n",
    "        m = [_[metric][0] for _ in metrics]  \n",
    "        std = [_[metric][1] for _ in metrics]\n",
    "        x = np.arange(len(labels))\n",
    "        rects = ax.bar(x, m, label=metric, color=c)\n",
    "        \n",
    "        l = [\"{0:.4f}({1:.4f})\".format(_[metric][0], _[metric][1]) for _ in metrics]\n",
    "        autolabel(ax, rects, l)\n",
    "        \n",
    "        ax.set_xticks(x)\n",
    "        ax.set_xticklabels(labels, rotation=45)\n",
    "        ax.set_yticks(np.linspace(0, 1, num=11))\n",
    "        ax.set_ylim(ymin=min(m) - 0.05, ymax= max(m) + 0.05)\n",
    "        ax.set_title(metric)\n",
    "    \n",
    "    \n",
    "\n",
    "def plot_distribution(labels, q_metrics, metric=\"ndcg\"):\n",
    "    \"\"\"\n",
    "    Plots the distribution of NDCG scores\n",
    "    \n",
    "    labels: list/tuple of length N\n",
    "    q_metrics: list/tuple of dictionaries with length N, containing the query level results\n",
    "    metric: the metric to plot\n",
    "    \n",
    "    \"\"\"\n",
    "    \n",
    "    n = len(labels)\n",
    "    # nC2\n",
    "    n_plots = int((n*(n-1))/2)\n",
    "    \n",
    "    fig, axes = plt.subplots(nrows=n_plots, ncols=1)\n",
    "    fig.set_figheight(8 * n_plots)\n",
    "    fig.set_figwidth(10)\n",
    "    \n",
    "    colors = cm.get_cmap(\"Set1\").colors\n",
    "    \n",
    "    for idx, (i, j) in enumerate(itertools.combinations(range(n), 2)):\n",
    "        ax = axes[idx]\n",
    "        \n",
    "        im = q_metrics[i][metric]\n",
    "        jm = q_metrics[j][metric]\n",
    "        \n",
    "        ax.hist(im, bins=50, label=labels[i], color=colors[i], alpha=0.55)\n",
    "        ax.hist(jm, bins=50, label=labels[j], color=colors[j], alpha=0.55)\n",
    "        \n",
    "        ax.set_title(f\"{labels[i]} vs {labels[j]}\")\n",
    "        ax.legend()\n",
    "        ax.set_ylabel(\"Count\")\n",
    "        ax.set_xlabel(\"NDCG (binned)\")"
   ]
  },
  {
   "cell_type": "code",
   "execution_count": 48,
   "metadata": {
    "deletable": false,
    "editable": false,
    "nbgrader": {
     "cell_type": "code",
     "checksum": "10071c1830b37c08ea6accb26accb372",
     "grade": false,
     "grade_id": "cell-b8d4e6f2d2e78550",
     "locked": true,
     "schema_version": 3,
     "solution": false,
     "task": false
    }
   },
   "outputs": [],
   "source": [
    "# Load metrics and models\n",
    "\n",
    "pointwise_regr_model = NeuralModule(1)\n",
    "pointwise_regr_model.load_state_dict(torch.load(\"./pointwise_regr_wt\"))\n",
    "\n",
    "pointwise_clf_model = NeuralModule(5)\n",
    "pointwise_clf_model.load_state_dict(torch.load(\"./pointwise_clf_wt\"))\n",
    "pointwise_clf_pred_fn = partial(clf_pred, net=pointwise_clf_model)\n",
    "\n",
    "pairwise_model = NeuralModule(1)\n",
    "pairwise_model.load_state_dict(torch.load(\"./pairwise_wt\"))\n",
    "\n",
    "listwise_model = NeuralModule(1)\n",
    "listwise_model.load_state_dict(torch.load(\"./listwise_wt\"))\n",
    "\n",
    "\n",
    "methods = [\n",
    "    {\"results_file\": \"./pointwise_regression.json\", \"label\": \"Pointwise (R)\"},\n",
    "    {\"results_file\": \"./pointwise_classification.json\", \"label\": \"Pointwise (C)\"},\n",
    "    {\"results_file\": \"./pairwise.json\", \"label\": \"Pairwise\"},\n",
    "    {\"results_file\": \"./listwise.json\", \"label\": \"Listwise\"}\n",
    "]\n",
    "\n",
    "labels = []\n",
    "results = []\n",
    "q_results = []\n",
    "for m in methods:\n",
    "    labels.append(m[\"label\"])\n",
    "    \n",
    "    with open(m[\"results_file\"]) as reader:\n",
    "        r = json.load(reader)\n",
    "    \n",
    "    results.append(r[\"test_metrics\"])\n",
    "    q_results.append(r[\"test_query_level_metrics\"])\n",
    "\n"
   ]
  },
  {
   "cell_type": "code",
   "execution_count": 49,
   "metadata": {
    "deletable": false,
    "editable": false,
    "nbgrader": {
     "cell_type": "code",
     "checksum": "62939c8a4fe146ee5833f48a92142e10",
     "grade": false,
     "grade_id": "cell-c4ac703bc5a62d3b",
     "locked": true,
     "schema_version": 3,
     "solution": false,
     "task": false
    }
   },
   "outputs": [
    {
     "data": {
      "image/png": "[encoded data removed]",
      "text/plain": [
       "<Figure size 1080x504 with 3 Axes>"
      ]
     },
     "metadata": {
      "needs_background": "light"
     },
     "output_type": "display_data"
    }
   ],
   "source": [
    "compare_methods(labels, results)"
   ]
  },
  {
   "cell_type": "code",
   "execution_count": 50,
   "metadata": {
    "deletable": false,
    "editable": false,
    "nbgrader": {
     "cell_type": "code",
     "checksum": "aa461417560d69ebe07df21a8ad9b48e",
     "grade": false,
     "grade_id": "cell-a1ea52fda896045e",
     "locked": true,
     "schema_version": 3,
     "solution": false,
     "task": false
    }
   },
   "outputs": [
    {
     "data": {
      "image/png": "[encoded data removed]",
      "text/plain": [
       "<Figure size 720x3456 with 6 Axes>"
      ]
     },
     "metadata": {
      "needs_background": "light"
     },
     "output_type": "display_data"
    }
   ],
   "source": [
    "plot_distribution(labels, q_results)"
   ]
  },
  {
   "cell_type": "markdown",
   "metadata": {
    "deletable": false,
    "editable": false,
    "nbgrader": {
     "cell_type": "markdown",
     "checksum": "c6e424fb4065a175111443cfbf26c618",
     "grade": false,
     "grade_id": "cell-d6d65f1ab73cda9a",
     "locked": true,
     "schema_version": 3,
     "solution": false,
     "task": false
    }
   },
   "source": [
    "In the next cell, report the performance metrics for the methods (25 points):\n",
    "\n",
    "\n",
    "\n",
    "|     Model    | NDCG (s.d)| Precision@5 (s.d) | Recall@5 (s.d) |\n",
    "|:------------:|:----------:|:-----------:|:--------:|\n",
    "| Pointwise(R) |            |             |          |\n",
    "| Pointwise(C) |            |             |          |\n",
    "|   Pairwise   |            |             |          |\n",
    "|   Listwise   |            |             |          |\n",
    "\n",
    "\n",
    "\n",
    "**Rubric:** Each reported <Method, Metric> carries 2 points. "
   ]
  },
  {
   "cell_type": "markdown",
   "metadata": {
    "deletable": false,
    "nbgrader": {
     "cell_type": "markdown",
     "checksum": "89bf20199df56a7b90fa88c132800f23",
     "grade": true,
     "grade_id": "cell-5e733f8b8649a66f",
     "locked": false,
     "points": 25,
     "schema_version": 3,
     "solution": true,
     "task": false
    }
   },
   "source": [
    "YOUR ANSWER HERE\n",
    "\n",
    "|     Model    | NDCG (s.d)| Precision@5 (s.d) | Recall@5 (s.d) |\n",
    "|:------------:|:----------:|:-----------:|:--------:|\n",
    "| Pointwise(R) |           0.8689 (0.0526) |            0.6991 (0.2713) |         0.1537 (0.0822) |\n",
    "| Pointwise(C) |           0.8347 (0.0591) |            0.6034 (0.2804) |         0.1312 (0.0767) |\n",
    "|   Pairwise   |           0.8469 (0.0531) |            0.6120 (0.2606) |         0.1336 (0.0755) |\n",
    "|   Listwise   |           0.8504 (0.0502) |            0.6479 (0.2571) |         0.1463 (0.0849) |"
   ]
  },
  {
   "cell_type": "markdown",
   "metadata": {
    "deletable": false,
    "editable": false,
    "nbgrader": {
     "cell_type": "markdown",
     "checksum": "c36dc224821c1146261aa2e8d06bd419",
     "grade": false,
     "grade_id": "cell-067c6d8584df601e",
     "locked": true,
     "schema_version": 3,
     "solution": false,
     "task": false
    }
   },
   "source": [
    "Write a conclusion in the next cell, considering (45 points):\n",
    "- rates of convergence\n",
    "- time complexity\n",
    "- performance wrt the 3 metrics\n",
    "- performance across queries\n",
    "- ... any other observations"
   ]
  },
  {
   "cell_type": "markdown",
   "metadata": {
    "deletable": false,
    "nbgrader": {
     "cell_type": "markdown",
     "checksum": "4b8b4816351280cae45a1e498d1408fe",
     "grade": true,
     "grade_id": "cell-115db704e85b78c1",
     "locked": false,
     "points": 45,
     "schema_version": 3,
     "solution": true,
     "task": false
    }
   },
   "source": [
    "**Performance**\n",
    "- *Metrics:*  From the created table above we have a clear view on the performance of the different metrics. Surprisingly the Pointwise Regression model outperformed the other methods in NDCG, Precision and Recall. We did not expect this since the pointwise methods do not take mutual ranks into account (which potentially could influence the NDCG score for example which is mostly about the ordering of your documents). The Pointwise classification model performs the worse. The Listwise approach seems to outperform the Pairwise approach however by looking at the standard deviations we can tell this difference might not be significant. Therefore this method needs to be observed within more datasets to obtain a conclusion.\n",
    "\n",
    "- *Queries:* When looking at the query results we see that there is quite a lot of overlap in the obtained results, with all results also forming similar distributions. Here we again witness similar results as described above, with Point(R)>Point(C), Point(R)>Pair, Point(R)>List, Pair>Point(C), List>Point(C), Pair==List (upon visual inspection). When looking at the distribution like this and when comparing it to the metric as described above it is interesting to see what the influence is of a large peak to the right or some small peaks to the left.\n",
    "\n",
    "**Time complexity**\n",
    "\n",
    "With the TQDM bars we can observe the duration of one epoch in the training function. In one epoch the training functions for pairwise and listwise methods go over all of the 2735 queries once. Therefore we can compare the durations of these methods for a similar amount of 8 epochs. In the table below we show the average amount of seconds a method took for running on one of our laptops (Lenovo Ideapad, Intel Core i5-7200U CPU), as well as the standard deviation. Although these numbers will differ on different PC's they give an indication on the difference in runtime (in seconds) between these methods: \n",
    "\n",
    "|     Model    | Average runtime per epoch (s.d)\n",
    "|:------------:|:----------:|\n",
    "| Naive Pairwise |    17.25 (1.9086)        |   \n",
    "| Speedup Pairwise   |   14.125 (1.3562)         | \n",
    "| Listwise   |   8.875 (0.3536)         |             \n",
    "\n",
    "We can observe a small decrease in the time the speedup version of the pairwise method needs in comparison with the naive pairwise function. However the Listwise approach outperforms these two Pairwise approaches almost by halving the time per epoch. Therefore we can conclude that the listwise approach is best in terms of it's time complexity. \n",
    "\n",
    "Comparing these approaches to the Pointwise methods is more difficult since the Pointwise methods are not iterating over the 2735 queries in an epoch, but instead over all documents (in batches). Therefore they are not added to the table above. However iterating over 333 batches with a batch size of 256 takes 4.625 (0.7440) seconds on average for the pointwise regression model (measured over 8 epochs again), and 4.375 (0.5175) seconds for the pointwise classification model. So the two different feedforward neural networks do not differ much in the average duration of an epoch.\n",
    "\n",
    "\n",
    "**Rate of convergence**\n",
    "For the two pointwise methods two nice converging lines are visible when plotting these. The classification network converges to a slightly larger loss than the regression loss, which makes sense if you compare it to the performance metrics of these two methods (regression model performing better than the classification model). For the speedup pairwise and the listwise methods we cannot look at the loss for making a conclusion about the convergence of these models, since the gradients are computed directly instead of computing the loss first. However we can look at the performance measures and whether they in/or decrease. We can observe that during training for both methods the ndcg keeps increasing. Spedup pairwise ususally starts at around +- 0.84 and seems to converge around 0.86 after around 12 epochs (at the lastest). Listwise also seems to start at around +- 83-84 and also seems to converge around 0.86 after a similar amount of epochs."
   ]
  },
  {
   "cell_type": "markdown",
   "metadata": {
    "deletable": false,
    "editable": false,
    "nbgrader": {
     "cell_type": "markdown",
     "checksum": "0b56e576a11e8312912751b345e72bfa",
     "grade": false,
     "grade_id": "cell-1693a9c859f14127",
     "locked": true,
     "schema_version": 3,
     "solution": false,
     "task": false
    }
   },
   "source": [
    "# Chapter 2: Online LTR (180 points) <a class=\"anchor\" id=\"onLTR\"></a>\n",
    "\n",
    "[Back to TOC](#top)\n",
    "\n",
    "In this part we want to use user interactions for training learning to rank algorithms.\n",
    "This part consists of the following sections:\n",
    " - Clicks Simulation (15 points)\n",
    " - Counterfactual Learning to Rank (80 points)\n",
    " - Online Evaluation (50 points)\n"
   ]
  },
  {
   "cell_type": "markdown",
   "metadata": {
    "deletable": false,
    "editable": false,
    "nbgrader": {
     "cell_type": "markdown",
     "checksum": "676f010e1d093ec248035d00c6888bf4",
     "grade": false,
     "grade_id": "cell-cb0180fd80d4f2cd",
     "locked": true,
     "schema_version": 3,
     "solution": false,
     "task": false
    }
   },
   "source": [
    "## Section 1: Clicks Simulation (15 points) <a class=\"anchor\" id=\"clicks\"></a>\n",
    "\n",
    "[Back to TOC](#top)\n",
    "\n",
    "In online LTR, we work with user interactions such as clicks.\n",
    "One way to test online LTR algorithms is to conduce semi-synthetic experiments.\n",
    "In semi-synthetic experiments, the feature vectors of a LTR dataset (similar to what you used in Part 1) are used.\n",
    "But instead of using the relevance labels for training the LTR algorithm, **simulated clicks** are used.\n",
    "\n",
    "In this section we want to simulate clicks based on the labels and use the generated clicks in later sections to train our Counterfactual LTR (CLTR) algorithm.\n",
    "\n",
    "First we need to have a *production ranker* that determines the order of documents for each query.\n",
    "The click probability of each document depends on its rank in the results list as well as its relevance."
   ]
  },
  {
   "cell_type": "code",
   "execution_count": 51,
   "metadata": {
    "deletable": false,
    "editable": false,
    "nbgrader": {
     "cell_type": "code",
     "checksum": "efe77df779addec15df70a2bd8a7aaee",
     "grade": false,
     "grade_id": "cell-4ae04e0717236f54",
     "locked": true,
     "schema_version": 3,
     "solution": false,
     "task": false
    }
   },
   "outputs": [
    {
     "name": "stdout",
     "output_type": "stream",
     "text": [
      "ranks has 3 keys: dict_keys(['train', 'valid', 'test'])\n",
      "train shape:(85227,)\n",
      "valid shape:(12794,)\n",
      "test shape:(29881,)\n"
     ]
    }
   ],
   "source": [
    "ranks = dataset.load_production_ranker()\n",
    "print(f'ranks has {len(ranks.keys())} keys: {ranks.keys()}')\n",
    "for key in ranks:\n",
    "    print(f'{key} shape:{ranks[key].shape}')\n",
    "    \n",
    "data.train.ranks = ranks['train']\n",
    "data.validation.ranks = ranks['valid']\n",
    "data.test.ranks = ranks['test']"
   ]
  },
  {
   "cell_type": "markdown",
   "metadata": {
    "deletable": false,
    "editable": false,
    "nbgrader": {
     "cell_type": "markdown",
     "checksum": "bc0ae9b0654edea0e837893b613af5b8",
     "grade": false,
     "grade_id": "cell-86dfb91f27aeb1cc",
     "locked": true,
     "schema_version": 3,
     "solution": false,
     "task": false
    }
   },
   "source": [
    "**Implementation (5 points):**\n",
    "Now use the `ranks` to generate clicks.\n",
    "We assume documents with label $[3,4]$ are relevant and labels $[0,1,2]$ are non-relevant.\n",
    "We also assume the examination probability of a document at rank $r$ is $\\frac{1}{r}$.\n",
    "Finally, we assume a $0.05$ noise.\n",
    "\n",
    "This means that the click probability of a document with label $[3,4]$ at rank $r$ is $\\frac{1}{r}$, while the click probability of a document with label $[0,1,2]$ at rank $r$ is $\\frac{0.05}{r}$."
   ]
  },
  {
   "cell_type": "code",
   "execution_count": 52,
   "metadata": {
    "deletable": false,
    "nbgrader": {
     "cell_type": "code",
     "checksum": "8bdfcf8895e430580912b057991ac7c0",
     "grade": false,
     "grade_id": "cell-6302b18566bcece2",
     "locked": false,
     "schema_version": 3,
     "solution": true,
     "task": false
    }
   },
   "outputs": [],
   "source": [
    "# TODO: Implement this! (5 points)\n",
    "def generate_clicks(ranking, query_labels):\n",
    "    \"\"\"\n",
    "    Generates random clicks based on the given list of ranking and relevance labels for the documents of one query.\n",
    "    Input:\n",
    "        ranking: contains the rank of documents, eg. ranking[5]=0 means that document 5 is shown at rank 0.\n",
    "        query_labels: contains the labels of documents, eg. query_labels[5]=3 means that document 5 has a label equal to 3.\n",
    "    Output:\n",
    "        A np.array of clicked positions, eq. clicked=[1,4] meanse that documents at ranks 1 and 4 have been clicked. Note that document at rank 1 may differ from document 1 (see description of ranking input).\n",
    "        \n",
    "    Hint: Use the np.random.binomial function for generating click from probability.\n",
    "    \"\"\"\n",
    "    theta = 1. / np.arange(1, ranking.shape[0] + 1)\n",
    "    noise_prob = 0.05 * theta\n",
    "    # YOUR CODE HERE\n",
    "    sort = [x for _,x in sorted(zip(ranking,query_labels))]\n",
    "    a = np.where(np.array(sort) > 2, theta, noise_prob)\n",
    "    b = np.random.binomial(n = 1, p = a)\n",
    "    return [i for i, e in enumerate(b) if e == 1]\n",
    " "
   ]
  },
  {
   "cell_type": "code",
   "execution_count": 53,
   "metadata": {
    "deletable": false,
    "editable": false,
    "nbgrader": {
     "cell_type": "code",
     "checksum": "6d5eeabc53fd3a13bb33d46f631ab3d5",
     "grade": true,
     "grade_id": "cell-098685a98a1887f4",
     "locked": true,
     "points": 5,
     "schema_version": 3,
     "solution": false,
     "task": false
    }
   },
   "outputs": [
    {
     "name": "stdout",
     "output_type": "stream",
     "text": [
      "clicks: [0, 1, 6]\n",
      "expected clicks for seed 4: [0 1 6]\n"
     ]
    }
   ],
   "source": [
    "ranking = np.array([2, 1, 3, 0, 4, 7, 5, 6])\n",
    "labels = np.array([0, 3, 4, 1, 1, 2, 4, 3])\n",
    "\n",
    "np.random.seed(4)\n",
    "print(f'clicks: {generate_clicks(ranking, labels)}')\n",
    "print('expected clicks for seed 4: [0 1 6]')\n",
    "\n"
   ]
  },
  {
   "cell_type": "markdown",
   "metadata": {
    "deletable": false,
    "editable": false,
    "nbgrader": {
     "cell_type": "markdown",
     "checksum": "5fdf6ed2c6545213fb432e06dafb088e",
     "grade": false,
     "grade_id": "cell-a45b9902b9ff34c7",
     "locked": true,
     "schema_version": 3,
     "solution": false,
     "task": false
    }
   },
   "source": [
    "**Implementation (10 points):**\n",
    "Use `generate_clicks` to simulate clicks for different query sessions.\n",
    "For this, randomly select a query id, generate random clicks on documents of that query using your `generate_clicks` implementation and only keep the clicks on `topk` positions (i.e. do not consider clicks on ranks after `topk` rank).\n",
    "Repeat this process until you have `click_count` number of clicks."
   ]
  },
  {
   "cell_type": "code",
   "execution_count": 54,
   "metadata": {
    "deletable": false,
    "nbgrader": {
     "cell_type": "code",
     "checksum": "ea8a1c5964a999322c4b30bdeecf88e6",
     "grade": false,
     "grade_id": "cell-cef4496878e0428a",
     "locked": false,
     "schema_version": 3,
     "solution": true,
     "task": false
    }
   },
   "outputs": [],
   "source": [
    "# TODO: Implement this! (10 points)\n",
    "def simulate_clicks(data, split_name, click_count, topk=20):\n",
    "    \"\"\"\n",
    "    Simulate click_count clicks on topk results on the specified split of the data.\n",
    "    Output:\n",
    "        A list L=[L_0, L_1, ..., L_n] of lists. Each L_i is itself a list of clicks over the documents of query number i, eg. L_0=[0,2,0,1,0,5,2] means that in the sessions of the first query, the documents at positions 0,1,2 and 5 were clicked 3,1,2 and 1 times, respectively.\n",
    "    \"\"\"\n",
    "    data_split = getattr(data, split_name)\n",
    "\n",
    "    num_queries = data_split.doclist_ranges.shape[0] - 1\n",
    "    clicks = [[] for _ in range(num_queries)]\n",
    "    np.random.seed(42)\n",
    "    amount_of_clicks = 0\n",
    "    \n",
    "    while amount_of_clicks < click_count:\n",
    "        qid = np.random.randint(0, data_split.num_queries()-1)\n",
    "        start,end = data_split.query_range(qid)                \n",
    "        rankings = ranks[split_name][start:(end-1)]\n",
    "        labels = data_split.query_labels(qid)\n",
    "        clicks_for_qid = generate_clicks(rankings, labels)\n",
    "        if click_count - (amount_of_clicks + len(clicks_for_qid)) < 0:\n",
    "            to_many = abs(click_count - (amount_of_clicks + len(clicks_for_qid)))\n",
    "            clicks_for_qid = clicks_for_qid[:(len(clicks_for_qid)-to_many)]\n",
    "        clicks_for_qid = [x for x in clicks_for_qid if x < topk]\n",
    "        if len(clicks_for_qid) == 0:\n",
    "            continue\n",
    "        clicks[qid] = clicks[qid] + clicks_for_qid\n",
    "        amount_of_clicks += len(clicks_for_qid)\n",
    "    return clicks"
   ]
  },
  {
   "cell_type": "markdown",
   "metadata": {
    "deletable": false,
    "editable": false,
    "nbgrader": {
     "cell_type": "markdown",
     "checksum": "257a37637e4baec5b5da06cfb28f9c10",
     "grade": false,
     "grade_id": "cell-d31c106145d57d5a",
     "locked": true,
     "schema_version": 3,
     "solution": false,
     "task": false
    }
   },
   "source": [
    "Use `simulate_clicks` function to simulate clicks for train and validation sets.\n",
    "\n",
    "**Note:**\n",
    "You can dump your generated clicks using pickle or numby and load them in your future runs to avoid long waiting times."
   ]
  },
  {
   "cell_type": "code",
   "execution_count": 55,
   "metadata": {
    "deletable": false,
    "editable": false,
    "nbgrader": {
     "cell_type": "code",
     "checksum": "fe427c2102d2999e8bd2a6243c0d18b6",
     "grade": true,
     "grade_id": "cell-c7adb3055f3a3d5c",
     "locked": true,
     "points": 10,
     "schema_version": 3,
     "solution": false,
     "task": false
    }
   },
   "outputs": [
    {
     "name": "stdout",
     "output_type": "stream",
     "text": [
      "10000 clicks simulated over 2735 queries.\n",
      "On average, each session has 3.656307129798903 clicks.\n",
      "min number of clicks per session:0\n",
      "max number of clicks per session:41\n"
     ]
    }
   ],
   "source": [
    "train_clicks = simulate_clicks(data,'train', click_count = 10000)\n",
    "\n",
    "assert isinstance(train_clicks, list)\n",
    "session_clicks = np.array(list(map(len, train_clicks)))\n",
    "print(f'{session_clicks.sum()} clicks simulated over {session_clicks.shape[0]} queries.')\n",
    "print(f'On average, each session has {session_clicks.mean()} clicks.')\n",
    "print(f'min number of clicks per session:{session_clicks.min()}')\n",
    "print(f'max number of clicks per session:{session_clicks.max()}')\n",
    "\n"
   ]
  },
  {
   "cell_type": "markdown",
   "metadata": {
    "deletable": false,
    "editable": false,
    "nbgrader": {
     "cell_type": "markdown",
     "checksum": "87c03dbedf499cbb4ce724f2e97dc8aa",
     "grade": false,
     "grade_id": "cell-f6996aa4808d7747",
     "locked": true,
     "schema_version": 3,
     "solution": false,
     "task": false
    }
   },
   "source": [
    "For our new click data, we need a new dataloader.\n",
    "`QueryGroupedOnlineLTRData` provides what you will need for training an LTR model from the clicks:"
   ]
  },
  {
   "cell_type": "code",
   "execution_count": 56,
   "metadata": {
    "deletable": false,
    "editable": false,
    "nbgrader": {
     "cell_type": "code",
     "checksum": "da61ee98e6094a5bf41deff34136be4e",
     "grade": false,
     "grade_id": "cell-036f66cea8bae0bd",
     "locked": true,
     "schema_version": 3,
     "solution": false,
     "task": false
    }
   },
   "outputs": [],
   "source": [
    "class QueryGroupedOnlineLTRData(Dataset):\n",
    "    def __init__(self, data, split, clicks, topk):\n",
    "        self.split = {\n",
    "            \"train\": data.train,\n",
    "            \"validation\": data.validation,\n",
    "            \"test\": data.test\n",
    "        }.get(split)\n",
    "        assert self.split is not None, \"Invalid split!\"\n",
    "        self.clicks = clicks\n",
    "        self.topk = topk\n",
    "    \n",
    "    def __len__(self):\n",
    "        return self.split.num_queries()\n",
    "\n",
    "    def __getitem__(self, q_i):\n",
    "        s_i = self.split.doclist_ranges[q_i]\n",
    "        e_i = self.split.doclist_ranges[q_i + 1]\n",
    "        feature_ = self.split.feature_matrix[s_i:e_i,:]\n",
    "        ranking = self.split.ranks[s_i:e_i]\n",
    "        inverse_ranking = np.argsort(ranking)\n",
    "#       We re-order the rows of feature matrix so that in coincides with the ranking of documents.\n",
    "#       We also cut the documents after rank topk.\n",
    "        feature = torch.FloatTensor(feature_[inverse_ranking[:self.topk],:])\n",
    "        clicks = self.clicks[q_i]\n",
    "        return q_i, feature, clicks\n",
    "    \n",
    "def qgo_collate_fn(batch):\n",
    "    \n",
    "    qids = []\n",
    "    features = []\n",
    "    clicks = []\n",
    "    \n",
    "    for (q, f, l) in batch:\n",
    "        qids.append(q)\n",
    "        features.append(f)\n",
    "        clicks.append(l)\n",
    "    return qids, features, clicks\n",
    "    "
   ]
  },
  {
   "cell_type": "markdown",
   "metadata": {
    "deletable": false,
    "editable": false,
    "nbgrader": {
     "cell_type": "markdown",
     "checksum": "33284e30370a8dfdd116267499660b27",
     "grade": false,
     "grade_id": "cell-3ff364596e375e19",
     "locked": true,
     "schema_version": 3,
     "solution": false,
     "task": false
    }
   },
   "source": [
    "## Section 2: Counterfactual LTR (90 points) <a class=\"anchor\" id=\"cLTR\"></a>\n",
    "\n",
    "[Back to TOC](#top)\n",
    "\n",
    "Now we want to use the simulated clicks and train a counterfactual LTR algorithm.\n",
    "We will use a simple loss function:\n",
    "\n",
    "$$\n",
    "L=\\frac{1}{|Q|} \\sum_{q \\in Q} \\sum_{d \\in D_q} r(d, q) \\cdot \\lambda(\\bar{rank}(d, D_q))\n",
    "$$\n",
    "where $Q$ is the set of queries, $D_q$ is the list of documents shown to the user for query $q$, $r(d, q)$ is the relevance of document $d$ to query $q$ and $rank(d, D_q)$ is the rank of $d$ in $D_q$.\n",
    "\n",
    "In this assignment, we use sigmoid-like bound for $\\lambda(\\bar{rank}(d, D_q))$:\n",
    "\n",
    "$$\n",
    "\\lambda(\\bar{rank}(d, D_q)) = \\sum_{d' \\in D_q} log\\left(\n",
    "1+exp\\left(-2\\cdot(f(d)-f(d')\\right)\n",
    "\\right)\n",
    "$$\n"
   ]
  },
  {
   "cell_type": "markdown",
   "metadata": {
    "deletable": false,
    "editable": false,
    "nbgrader": {
     "cell_type": "markdown",
     "checksum": "a52232af5a6b442146258942ced99353",
     "grade": false,
     "grade_id": "cell-5d364d940f11536e",
     "locked": true,
     "schema_version": 3,
     "solution": false,
     "task": false
    }
   },
   "source": [
    "### Section 2.1. Biased LTR (20 points)\n",
    "\n",
    "Remember that we do not have the explicit relevance in the online settings.\n",
    "Instead, we have to learn from the clicks.\n",
    "Clicks, implicitly indicate relevance.\n",
    "A naive approach for learning from clicks would be to replace relevance with clicks and train a model with the loss function:\n",
    "\n",
    "$$\n",
    "L_{biased}=\\frac{1}{|Q|} \\sum_{q \\in Q} \\sum_{d \\in D_q} c(d, q) \\cdot \\lambda(\\bar{rank}(d, D_q))\n",
    "$$\n",
    "where $c(d, q)$ indicates the number of times $d$ was clicked for query $q$."
   ]
  },
  {
   "cell_type": "code",
   "execution_count": 57,
   "metadata": {
    "deletable": false,
    "nbgrader": {
     "cell_type": "code",
     "checksum": "defc1880152e68dd36c21992263f8d56",
     "grade": false,
     "grade_id": "cell-6b45762861989c96",
     "locked": false,
     "schema_version": 3,
     "solution": true,
     "task": false
    }
   },
   "outputs": [],
   "source": [
    "# TODO: Implement this! (20 points)\n",
    "def online_loss_biased(scores, clicks):\n",
    "    \"\"\"\n",
    "    Compute and return the biased online loss *for a single query*. To compute this, use L_{biased} formula above.\n",
    "    \n",
    "    scores: tensor of size [N, 1] (the output of a neural network), where N = length of <query, document> pairs\n",
    "    clicks: list of clicked ranks. \n",
    "    \n",
    "    Note: the scores are aligned with the click positions, i.e. scores[0] corresponds to the 0 rand, etc.\n",
    "    \n",
    "    \"\"\"\n",
    "    from collections import Counter\n",
    "    click_counts = Counter(clicks)\n",
    "    #     sorted_clicks = sorted(click_counts.items(), key=lambda pair: pair[0], reverse=False)\n",
    "    #     clicks_vector = [click[1] for click in sorted_clicks]\n",
    "    \n",
    "    # YOUR CODE HERE\n",
    "    clicks = torch.tensor(clicks, dtype = torch.int)\n",
    "    clicks_tensor = torch.bincount(clicks, minlength = len(scores))\n",
    "    scores = scores.squeeze(1)\n",
    "    score_matrix = scores[:,None]-scores[None,:]\n",
    "    lambda_sigmoid = torch.sum(torch.log(1 + torch.exp(-2*score_matrix)), 1)\n",
    "    loss = torch.sum(clicks_tensor * lambda_sigmoid)\n",
    "    \n",
    "    # alternative\n",
    "#     r = np.array([(x, clicks.count(x)) for x in range(len(scores))])\n",
    "#     lambda_rank = sum(torch.log(1 + torch.exp(-2*(torch.transpose(scores,1,0)-scores))))\n",
    "#     loss = sum([r[:,1][i] * lambda_rank[i] for i in range(len(scores))])\n",
    "    \n",
    "    return loss"
   ]
  },
  {
   "cell_type": "code",
   "execution_count": 58,
   "metadata": {
    "deletable": false,
    "editable": false,
    "nbgrader": {
     "cell_type": "code",
     "checksum": "dd1acc24a7415fcae69fa183a51afb28",
     "grade": true,
     "grade_id": "cell-d09e7eb339052376",
     "locked": true,
     "points": 20,
     "schema_version": 3,
     "solution": false,
     "task": false
    }
   },
   "outputs": [
    {
     "name": "stdout",
     "output_type": "stream",
     "text": [
      "biased loss: 139.16244506835938\n",
      "expected: 139.16246032714844\n"
     ]
    }
   ],
   "source": [
    "scores = torch.FloatTensor([1.2, -2, 1.1, 2.4, 0, 1.2])[:,None]\n",
    "clicks = [0, 0, 1, 3, 1, 4, 0, 5, 0, 1, 2]\n",
    "print(f'biased loss: {online_loss_biased(scores, clicks)}')\n",
    "print(f'expected: 139.16246032714844')\n",
    "\n"
   ]
  },
  {
   "cell_type": "markdown",
   "metadata": {
    "deletable": false,
    "editable": false,
    "nbgrader": {
     "cell_type": "markdown",
     "checksum": "48efe214b4ffd699be8ebbbf0016b467",
     "grade": false,
     "grade_id": "cell-318d7a3b824c5f99",
     "locked": true,
     "schema_version": 3,
     "solution": false,
     "task": false
    }
   },
   "source": [
    "### Section 2.2. Unbiased LTR (10 points)\n",
    "Now modify `online_loss_biased` to debias the clicks, using IPS method:\n",
    "\n",
    "$$\n",
    "L_{unbiased}=\\frac{1}{|Q|} \\sum_{q \\in Q} \\sum_{d \\in D_q} \\frac{c(d, q)}{P\\left(o(d,q)=1\\right)} \\cdot \\lambda(\\bar{rank}(d, D_q))\n",
    "$$\n",
    "where $P\\left(o(d,q)=1\\right)$ indicates the probability that $d$ was observed by the user for query $q$."
   ]
  },
  {
   "cell_type": "code",
   "execution_count": 59,
   "metadata": {
    "deletable": false,
    "nbgrader": {
     "cell_type": "code",
     "checksum": "6e0238d2d1cabe1a3d21b0cc44a54d61",
     "grade": false,
     "grade_id": "cell-9362e909abcb1d91",
     "locked": false,
     "schema_version": 3,
     "solution": true,
     "task": false
    }
   },
   "outputs": [],
   "source": [
    "# TODO: Implement this! (10 points)\n",
    "def online_loss_unbiased(scores, clicks):\n",
    "    \"\"\"\n",
    "    Compute and return the unbiased online loss *for a single query*. To compute this, use L_{unbiased} formula above.\n",
    "    \n",
    "    scores: tensor of size [N, 1] (the output of a neural network), where N = length of <query, document> pairs\n",
    "    clicks: list of clicked ranks. \n",
    "    \n",
    "    Note 1: the scores are aligned with the click positions, i.e. scores[0] corresponds to the 0 rand, etc.\n",
    "    Note 2: the weights are provided.\n",
    "    \n",
    "    \"\"\"\n",
    "    \n",
    "    from collections import Counter\n",
    "    click_counts = Counter(clicks)\n",
    "    weights = torch.Tensor((1./np.arange(1,scores.shape[0]+1))[:,None])\n",
    "    \n",
    "    # YOUR CODE HERE\n",
    "#     sorted_clicks = sorted(click_counts.items(), key=lambda pair: pair[0], reverse=False)\n",
    "#     clicks_vector = [click[1] for click in sorted_clicks]\n",
    "    scores = scores.squeeze(1)\n",
    "    weights = weights.squeeze(1)\n",
    "    clicks = torch.tensor(clicks, dtype = torch.int)\n",
    "    clicks_tensor = torch.bincount(clicks, minlength = len(scores))\n",
    "    score_matrix = scores[:,None]-scores[None,:]\n",
    "    lambda_sigmoid = torch.sum(torch.log(1 + torch.exp(-2*score_matrix)), 1)\n",
    "    loss = torch.sum(clicks_tensor / weights * lambda_sigmoid)\n",
    "    return loss"
   ]
  },
  {
   "cell_type": "code",
   "execution_count": 60,
   "metadata": {
    "deletable": false,
    "editable": false,
    "nbgrader": {
     "cell_type": "code",
     "checksum": "e2bcac0a6c4afe70fca335c8d648122f",
     "grade": true,
     "grade_id": "cell-30b468279fbb6de5",
     "locked": true,
     "points": 10,
     "schema_version": 3,
     "solution": false,
     "task": false
    }
   },
   "outputs": [
    {
     "name": "stdout",
     "output_type": "stream",
     "text": [
      "unbiased loss: 323.6814270019531\n",
      "expected: 323.68145751953125\n"
     ]
    }
   ],
   "source": [
    "scores = torch.FloatTensor([1.2, -2, 1.1, 2.4, 0, 1.2])[:,None]\n",
    "clicks = [0, 0, 1, 3, 1, 4, 0, 5, 0, 1, 2]\n",
    "print(f'unbiased loss: {online_loss_unbiased(scores, clicks)}')\n",
    "print(f'expected: 323.68145751953125')\n"
   ]
  },
  {
   "cell_type": "markdown",
   "metadata": {
    "deletable": false,
    "editable": false,
    "nbgrader": {
     "cell_type": "markdown",
     "checksum": "f4f49c8953f6080ec340ebe076f9caf6",
     "grade": false,
     "grade_id": "cell-e385419532bb6535",
     "locked": true,
     "schema_version": 3,
     "solution": false,
     "task": false
    }
   },
   "source": [
    "**Implementation (60 points):**\n",
    "In the next cell, write a wrapper that uses your loss functions and simulated clicks to train an online LTR method (no evaluation on validation set is required):\n",
    "\n",
    "**Rubric:**\n",
    " - Network is trained for specified epochs, and iterates over the entire dataset and (train) data is shuffled : 10 points\n",
    " - Loss calculation: 10 points\n",
    " - Training (e.g optimizer, zero_grad, backward): 10 points\n",
    " - Performance as expected for biased loss: 15 points\n",
    " - Performance as expected for unbiased loss: 15 points"
   ]
  },
  {
   "cell_type": "code",
   "execution_count": 61,
   "metadata": {
    "deletable": false,
    "nbgrader": {
     "cell_type": "code",
     "checksum": "1113e39b6c82d64e959436f049df22ac",
     "grade": false,
     "grade_id": "cell-155a60a13f0dabb3",
     "locked": false,
     "schema_version": 3,
     "solution": true,
     "task": false
    }
   },
   "outputs": [],
   "source": [
    "# TODO: Implement this! (60 points)\n",
    "def train_online(net, train_clicks, loss_fn, params):\n",
    "    \"\"\"\n",
    "    Use QueryGroupedOnlineLTRData to load the data train split and clicks.\n",
    "    Use the appropriate loss_fn (biased/unbiased).\n",
    "    No need to use validation set.\n",
    "    \"\"\"\n",
    "    # YOUR CODE HERE\n",
    "    ## Rubric:\n",
    "        # Network is trained for specified epochs, and iterates over the entire dataset and (train) data is shuffled : 10 points\n",
    "        # Loss calculation: 10 points\n",
    "        # Training (e.g optimizer, zero_grad, backward): 10 points\n",
    "        # Performance as expected for biased loss: 15 points\n",
    "        # Performance as expected for unbiased loss: 15 points\n",
    "     \n",
    "    train_metrics_epoch = []   \n",
    "    \n",
    "    # Define parameters\n",
    "    epochs = params.epochs\n",
    "    learning_rate = params.lr\n",
    "    batch_size = 1\n",
    "    topk = params.topk\n",
    "    \n",
    "    # Specify prediction function\n",
    "    loss_function = loss_fn\n",
    "    pred_fn = net\n",
    "    \n",
    "    # Define Adam optimizer\n",
    "    optimizer = Adam(net.parameters(), lr=learning_rate)\n",
    "    \n",
    "    # Create train & validation data:\n",
    "    train_dl = DataLoader(QueryGroupedOnlineLTRData(data, \"train\", train_clicks, topk), batch_size=batch_size, shuffle=True, collate_fn=qg_collate_fn)\n",
    "    \n",
    "    # Training loop\n",
    "    for epoch in range(epochs):\n",
    "        net.zero_grad()\n",
    "        loss = torch.FloatTensor([0])\n",
    "        for (query_ids, features, clicks) in tqdm(train_dl): # loop over 2735 different queries\n",
    "            if clicks != [[]]: # when query has no clicks do not consider this query, there is no information to train on\n",
    "                out = net(features[0])\n",
    "                loss += loss_function(out, clicks[0])\n",
    "        loss = loss/len(query_ids)\n",
    "        loss.backward()\n",
    "        optimizer.step()\n",
    "        \n",
    "        # EVALUATE\n",
    "        train_evaluation = evaluate_model(pred_fn, \"train\", print_results=False, q_level=True)  #def evaluate_model(pred_fn, split, batch_size=256, print_results=False, q_level=False):\n",
    " \n",
    "        # Save the appropriate evaluations\n",
    "        for m in params.metrics:\n",
    "            train_metrics_epoch.append({m : train_evaluation[0][m]})\n",
    "            \n",
    "        # print metrics    \n",
    "        print(\"train: \", train_metrics_epoch[epoch])\n",
    "    \n",
    "    return {\n",
    "        \"metrics_train\": train_metrics_epoch\n",
    "    }\n",
    "\n",
    "# params = Namespace(epochs=3, lr=1e-3, topk=20, metrics = {\"ndcg@10\"})\n",
    "# biased_net = NeuralModule(1)\n",
    "# train_online(biased_net, train_clicks, online_loss_biased, params)"
   ]
  },
  {
   "cell_type": "code",
   "execution_count": 62,
   "metadata": {
    "deletable": false,
    "editable": false,
    "nbgrader": {
     "cell_type": "code",
     "checksum": "688a802dd604c3f002a9c5b26822b42d",
     "grade": false,
     "grade_id": "cell-2899cebacae54c00",
     "locked": true,
     "schema_version": 3,
     "solution": false,
     "task": false
    }
   },
   "outputs": [
    {
     "data": {
      "application/vnd.jupyter.widget-view+json": {
       "model_id": "f6fb01328233479f8f4428a38b9ecb3d",
       "version_major": 2,
       "version_minor": 0
      },
      "text/plain": [
       "  0%|          | 0/2735 [00:00<?, ?it/s]"
      ]
     },
     "metadata": {},
     "output_type": "display_data"
    },
    {
     "data": {
      "application/vnd.jupyter.widget-view+json": {
       "model_id": "",
       "version_major": 2,
       "version_minor": 0
      },
      "text/plain": [
       "Eval (train):   0%|          | 0/333 [00:00<?, ?it/s]"
      ]
     },
     "metadata": {},
     "output_type": "display_data"
    },
    {
     "name": "stdout",
     "output_type": "stream",
     "text": [
      "train:  {'ndcg': (0.6321997180806241, 0.05611960830861107)}\n"
     ]
    },
    {
     "data": {
      "application/vnd.jupyter.widget-view+json": {
       "model_id": "b06c1cee24b54c3cab4ee8379b07bb2a",
       "version_major": 2,
       "version_minor": 0
      },
      "text/plain": [
       "  0%|          | 0/2735 [00:00<?, ?it/s]"
      ]
     },
     "metadata": {},
     "output_type": "display_data"
    },
    {
     "data": {
      "application/vnd.jupyter.widget-view+json": {
       "model_id": "",
       "version_major": 2,
       "version_minor": 0
      },
      "text/plain": [
       "Eval (train):   0%|          | 0/333 [00:00<?, ?it/s]"
      ]
     },
     "metadata": {},
     "output_type": "display_data"
    },
    {
     "name": "stdout",
     "output_type": "stream",
     "text": [
      "train:  {'recall@05': (0.010971546693014632, 0.029576228200526477)}\n"
     ]
    },
    {
     "data": {
      "application/vnd.jupyter.widget-view+json": {
       "model_id": "71ded454057844a09cca2347a1871c3d",
       "version_major": 2,
       "version_minor": 0
      },
      "text/plain": [
       "  0%|          | 0/2735 [00:00<?, ?it/s]"
      ]
     },
     "metadata": {},
     "output_type": "display_data"
    },
    {
     "data": {
      "application/vnd.jupyter.widget-view+json": {
       "model_id": "",
       "version_major": 2,
       "version_minor": 0
      },
      "text/plain": [
       "Eval (train):   0%|          | 0/333 [00:00<?, ?it/s]"
      ]
     },
     "metadata": {},
     "output_type": "display_data"
    },
    {
     "name": "stdout",
     "output_type": "stream",
     "text": [
      "train:  {'precision@05': (0.04684684684684685, 0.10496945343156402)}\n"
     ]
    },
    {
     "data": {
      "application/vnd.jupyter.widget-view+json": {
       "model_id": "a8a13be09662444a90b64c7199fb3064",
       "version_major": 2,
       "version_minor": 0
      },
      "text/plain": [
       "  0%|          | 0/2735 [00:00<?, ?it/s]"
      ]
     },
     "metadata": {},
     "output_type": "display_data"
    },
    {
     "data": {
      "application/vnd.jupyter.widget-view+json": {
       "model_id": "",
       "version_major": 2,
       "version_minor": 0
      },
      "text/plain": [
       "Eval (train):   0%|          | 0/333 [00:00<?, ?it/s]"
      ]
     },
     "metadata": {},
     "output_type": "display_data"
    },
    {
     "name": "stdout",
     "output_type": "stream",
     "text": [
      "train:  {'ndcg': (0.6756680218079436, 0.05992020551012238)}\n"
     ]
    },
    {
     "data": {
      "application/vnd.jupyter.widget-view+json": {
       "model_id": "cd195027406c4b1eb24b06ebd53a2646",
       "version_major": 2,
       "version_minor": 0
      },
      "text/plain": [
       "  0%|          | 0/2735 [00:00<?, ?it/s]"
      ]
     },
     "metadata": {},
     "output_type": "display_data"
    },
    {
     "data": {
      "application/vnd.jupyter.widget-view+json": {
       "model_id": "",
       "version_major": 2,
       "version_minor": 0
      },
      "text/plain": [
       "Eval (train):   0%|          | 0/333 [00:00<?, ?it/s]"
      ]
     },
     "metadata": {},
     "output_type": "display_data"
    },
    {
     "name": "stdout",
     "output_type": "stream",
     "text": [
      "train:  {'recall@05': (0.018931089282740274, 0.033144561390969905)}\n"
     ]
    },
    {
     "data": {
      "application/vnd.jupyter.widget-view+json": {
       "model_id": "7132d3bf4cb24703831a9b3db6672fe5",
       "version_major": 2,
       "version_minor": 0
      },
      "text/plain": [
       "  0%|          | 0/2735 [00:00<?, ?it/s]"
      ]
     },
     "metadata": {},
     "output_type": "display_data"
    },
    {
     "data": {
      "application/vnd.jupyter.widget-view+json": {
       "model_id": "",
       "version_major": 2,
       "version_minor": 0
      },
      "text/plain": [
       "Eval (train):   0%|          | 0/333 [00:00<?, ?it/s]"
      ]
     },
     "metadata": {},
     "output_type": "display_data"
    },
    {
     "name": "stdout",
     "output_type": "stream",
     "text": [
      "train:  {'precision@05': (0.09069069069069069, 0.1544256154079288)}\n"
     ]
    },
    {
     "data": {
      "text/plain": [
       "{'metrics_train': [{'ndcg': (0.6756680218079436, 0.05992020551012238)},\n",
       "  {'recall@05': (0.018931089282740274, 0.033144561390969905)},\n",
       "  {'precision@05': (0.09069069069069069, 0.1544256154079288)},\n",
       "  {'ndcg': (0.620909849616408, 0.054055523756259154)},\n",
       "  {'recall@05': (0.0052023088944235935, 0.019787616675554037)},\n",
       "  {'precision@05': (0.022822822822822823, 0.06545168877273407)},\n",
       "  {'ndcg': (0.6576165436067455, 0.0593677372289982)},\n",
       "  {'recall@05': (0.014114341181920361, 0.029211371051517953)},\n",
       "  {'precision@05': (0.06606606606606606, 0.12952380497690505)}]}"
      ]
     },
     "execution_count": 62,
     "metadata": {},
     "output_type": "execute_result"
    }
   ],
   "source": [
    "params = Namespace(epochs=3, lr=1e-3, topk=20, metrics = {\"ndcg\", \"precision@05\", \"recall@05\"})\n",
    "train_clicks = simulate_clicks(data,'train', click_count = 50000)\n",
    "biased_net = NeuralModule(1)\n",
    "train_online(biased_net, train_clicks, online_loss_biased, params)\n",
    "unbiased_net = NeuralModule(1)\n",
    "train_online(unbiased_net, train_clicks, online_loss_unbiased, params)"
   ]
  },
  {
   "cell_type": "code",
   "execution_count": 63,
   "metadata": {
    "deletable": false,
    "editable": false,
    "nbgrader": {
     "cell_type": "code",
     "checksum": "6ff8105a6912656bef1bf2642a977fee",
     "grade": false,
     "grade_id": "cell-0511eb2be587f032",
     "locked": true,
     "schema_version": 3,
     "solution": false,
     "task": false
    }
   },
   "outputs": [
    {
     "data": {
      "application/vnd.jupyter.widget-view+json": {
       "model_id": "",
       "version_major": 2,
       "version_minor": 0
      },
      "text/plain": [
       "Eval (test):   0%|          | 0/117 [00:00<?, ?it/s]"
      ]
     },
     "metadata": {},
     "output_type": "display_data"
    },
    {
     "name": "stdout",
     "output_type": "stream",
     "text": [
      "\"metric\": \"mean\" (\"standard deviation\")\n",
      "dcg: 87.2825 (19.40197)\n",
      "dcg@03: 4.0845 (2.82906)\n",
      "dcg@05: 6.0812 (3.54559)\n",
      "dcg@10: 9.7223 (4.45498)\n",
      "dcg@20: 14.8790 (5.90060)\n",
      "ndcg: 0.6750 (0.05737)\n",
      "ndcg@03: 0.1489 (0.11177)\n",
      "ndcg@05: 0.1674 (0.10912)\n",
      "ndcg@10: 0.1950 (0.09787)\n",
      "ndcg@20: 0.2243 (0.09273)\n",
      "precision@01: 0.0855 (0.27958)\n",
      "precision@03: 0.0855 (0.18050)\n",
      "precision@05: 0.0991 (0.16039)\n",
      "precision@10: 0.1077 (0.11632)\n",
      "precision@20: 0.0983 (0.09174)\n",
      "recall@01: 0.0031 (0.01066)\n",
      "recall@03: 0.0107 (0.02752)\n",
      "recall@05: 0.0203 (0.04438)\n",
      "recall@10: 0.0455 (0.07478)\n",
      "recall@20: 0.0787 (0.08501)\n",
      "relevant rank: 133.3142 (77.40289)\n",
      "relevant rank per query: 3430.8462 (1565.22121)\n"
     ]
    },
    {
     "data": {
      "application/vnd.jupyter.widget-view+json": {
       "model_id": "",
       "version_major": 2,
       "version_minor": 0
      },
      "text/plain": [
       "Eval (test):   0%|          | 0/117 [00:00<?, ?it/s]"
      ]
     },
     "metadata": {},
     "output_type": "display_data"
    },
    {
     "name": "stdout",
     "output_type": "stream",
     "text": [
      "\"metric\": \"mean\" (\"standard deviation\")\n",
      "dcg: 85.3082 (18.35606)\n",
      "dcg@03: 3.7057 (2.88053)\n",
      "dcg@05: 5.2036 (3.39939)\n",
      "dcg@10: 8.1299 (4.63539)\n",
      "dcg@20: 12.9052 (6.10433)\n",
      "ndcg: 0.6603 (0.05202)\n",
      "ndcg@03: 0.1305 (0.10672)\n",
      "ndcg@05: 0.1405 (0.09649)\n",
      "ndcg@10: 0.1620 (0.09710)\n",
      "ndcg@20: 0.1939 (0.09202)\n",
      "precision@01: 0.0427 (0.20226)\n",
      "precision@03: 0.0684 (0.15432)\n",
      "precision@05: 0.0752 (0.13769)\n",
      "precision@10: 0.0761 (0.10911)\n",
      "precision@20: 0.0756 (0.08663)\n",
      "recall@01: 0.0017 (0.00886)\n",
      "recall@03: 0.0078 (0.01863)\n",
      "recall@05: 0.0155 (0.03071)\n",
      "recall@10: 0.0308 (0.04925)\n",
      "recall@20: 0.0585 (0.06993)\n",
      "relevant rank: 151.2664 (76.60825)\n",
      "relevant rank per query: 3892.8462 (1811.32848)\n"
     ]
    },
    {
     "data": {
      "text/plain": [
       "{'dcg': (85.30822237267141, 18.356063655410043),\n",
       " 'dcg@03': (3.705695771733877, 2.8805250695868785),\n",
       " 'dcg@05': (5.20362782670627, 3.399389678137),\n",
       " 'dcg@10': (8.129889224757266, 4.635393841798373),\n",
       " 'dcg@20': (12.905237235133454, 6.104334514686415),\n",
       " 'ndcg': (0.6603163418033751, 0.05202342295783473),\n",
       " 'ndcg@03': (0.13046792933523793, 0.10671644321475762),\n",
       " 'ndcg@05': (0.14053476109650742, 0.09648703404671213),\n",
       " 'ndcg@10': (0.16200894859204706, 0.09710471100898418),\n",
       " 'ndcg@20': (0.19393487528022949, 0.0920163285491634),\n",
       " 'precision@01': (0.042735042735042736, 0.20225913788374753),\n",
       " 'precision@03': (0.06837606837606837, 0.15432025713904093),\n",
       " 'precision@05': (0.07521367521367521, 0.13768909788445996),\n",
       " 'precision@10': (0.07606837606837609, 0.10911420555834062),\n",
       " 'precision@20': (0.07564102564102565, 0.08663100464885205),\n",
       " 'recall@01': (0.0016560275916522506, 0.008863735375484842),\n",
       " 'recall@03': (0.007812924155869726, 0.018632625825128105),\n",
       " 'recall@05': (0.015544318577589832, 0.030712181467745524),\n",
       " 'recall@10': (0.03077866735880255, 0.04925389372326927),\n",
       " 'recall@20': (0.058501033476013195, 0.06992588546266325),\n",
       " 'relevant rank': (151.26635669212885, 76.6082487299827),\n",
       " 'relevant rank per query': (3892.846153846154, 1811.3284760435454)}"
      ]
     },
     "execution_count": 63,
     "metadata": {},
     "output_type": "execute_result"
    }
   ],
   "source": [
    "evaluate_model(biased_net, 'test', print_results=True)\n",
    "evaluate_model(unbiased_net, 'test', print_results=True)"
   ]
  },
  {
   "cell_type": "code",
   "execution_count": 64,
   "metadata": {
    "deletable": false,
    "editable": false,
    "nbgrader": {
     "cell_type": "code",
     "checksum": "3a5138ee2bdc3b5682d5ed8b7bcc1202",
     "grade": false,
     "grade_id": "cell-c497608f3d46e769",
     "locked": true,
     "schema_version": 3,
     "solution": false,
     "task": false
    }
   },
   "outputs": [
    {
     "name": "stdout",
     "output_type": "stream",
     "text": [
      "Training Model\n"
     ]
    },
    {
     "data": {
      "application/vnd.jupyter.widget-view+json": {
       "model_id": "c1a85302ffc34960b5422acb29de92d5",
       "version_major": 2,
       "version_minor": 0
      },
      "text/plain": [
       "  0%|          | 0/2735 [00:00<?, ?it/s]"
      ]
     },
     "metadata": {},
     "output_type": "display_data"
    },
    {
     "data": {
      "application/vnd.jupyter.widget-view+json": {
       "model_id": "",
       "version_major": 2,
       "version_minor": 0
      },
      "text/plain": [
       "Eval (train):   0%|          | 0/333 [00:00<?, ?it/s]"
      ]
     },
     "metadata": {},
     "output_type": "display_data"
    },
    {
     "name": "stdout",
     "output_type": "stream",
     "text": [
      "train:  {'ndcg': (0.6053682943683842, 0.05225677400526048)}\n"
     ]
    },
    {
     "data": {
      "application/vnd.jupyter.widget-view+json": {
       "model_id": "e07baa66a746449aaba743d836308af5",
       "version_major": 2,
       "version_minor": 0
      },
      "text/plain": [
       "  0%|          | 0/2735 [00:00<?, ?it/s]"
      ]
     },
     "metadata": {},
     "output_type": "display_data"
    },
    {
     "data": {
      "application/vnd.jupyter.widget-view+json": {
       "model_id": "",
       "version_major": 2,
       "version_minor": 0
      },
      "text/plain": [
       "Eval (train):   0%|          | 0/333 [00:00<?, ?it/s]"
      ]
     },
     "metadata": {},
     "output_type": "display_data"
    },
    {
     "name": "stdout",
     "output_type": "stream",
     "text": [
      "train:  {'recall@05': (0.005897575837134915, 0.0229878083383142)}\n"
     ]
    },
    {
     "data": {
      "application/vnd.jupyter.widget-view+json": {
       "model_id": "6e6efb1897e241809fe36edbce88c1e6",
       "version_major": 2,
       "version_minor": 0
      },
      "text/plain": [
       "  0%|          | 0/2735 [00:00<?, ?it/s]"
      ]
     },
     "metadata": {},
     "output_type": "display_data"
    },
    {
     "data": {
      "application/vnd.jupyter.widget-view+json": {
       "model_id": "",
       "version_major": 2,
       "version_minor": 0
      },
      "text/plain": [
       "Eval (train):   0%|          | 0/333 [00:00<?, ?it/s]"
      ]
     },
     "metadata": {},
     "output_type": "display_data"
    },
    {
     "name": "stdout",
     "output_type": "stream",
     "text": [
      "train:  {'precision@05': (0.027627627627627632, 0.0772233184886267)}\n"
     ]
    },
    {
     "data": {
      "application/vnd.jupyter.widget-view+json": {
       "model_id": "",
       "version_major": 2,
       "version_minor": 0
      },
      "text/plain": [
       "Eval (test):   0%|          | 0/117 [00:00<?, ?it/s]"
      ]
     },
     "metadata": {},
     "output_type": "display_data"
    },
    {
     "name": "stdout",
     "output_type": "stream",
     "text": [
      "\"metric\": \"mean\" (\"standard deviation\")\n",
      "dcg: 87.4623 (19.23306)\n",
      "dcg@03: 4.3556 (2.98241)\n",
      "dcg@05: 5.7970 (3.37730)\n",
      "dcg@10: 9.5534 (4.55680)\n",
      "dcg@20: 15.1025 (6.22973)\n",
      "ndcg: 0.6769 (0.05794)\n",
      "ndcg@03: 0.1604 (0.12564)\n",
      "ndcg@05: 0.1614 (0.10608)\n",
      "ndcg@10: 0.1932 (0.10452)\n",
      "ndcg@20: 0.2282 (0.09927)\n",
      "precision@01: 0.1026 (0.30339)\n",
      "precision@03: 0.0940 (0.17888)\n",
      "precision@05: 0.0786 (0.13063)\n",
      "precision@10: 0.0949 (0.12184)\n",
      "precision@20: 0.0974 (0.09737)\n",
      "recall@01: 0.0047 (0.01673)\n",
      "recall@03: 0.0130 (0.03260)\n",
      "recall@05: 0.0172 (0.03463)\n",
      "recall@10: 0.0377 (0.05243)\n",
      "recall@20: 0.0769 (0.08844)\n",
      "relevant rank: 137.3265 (78.26423)\n",
      "relevant rank per query: 3534.1026 (1620.57292)\n"
     ]
    }
   ],
   "source": [
    "seed(42)\n",
    "train_clicks = simulate_clicks(data,'train', click_count = 50000)\n",
    "params = Namespace(epochs=3, \n",
    "                    lr=1e-3,\n",
    "                    batch_size=1,\n",
    "                    topk=20,\n",
    "                    metrics={\"ndcg\", \"precision@05\", \"recall@05\"})\n",
    "biased_model = NeuralModule(1)\n",
    "\n",
    "create_results(biased_model, \n",
    "               train_online, \n",
    "               biased_model,\n",
    "               \"./biased_model.json\",\n",
    "               train_clicks,\n",
    "               online_loss_biased,\n",
    "               params)\n",
    "# persist model\n",
    "torch.save(biased_model.state_dict(), \"./biased_wt\")"
   ]
  },
  {
   "cell_type": "code",
   "execution_count": 65,
   "metadata": {
    "deletable": false,
    "editable": false,
    "nbgrader": {
     "cell_type": "code",
     "checksum": "d9b104b0cc6204f1f3c6ac9bbf88171f",
     "grade": false,
     "grade_id": "cell-9df7065c5b887449",
     "locked": true,
     "schema_version": 3,
     "solution": false,
     "task": false
    }
   },
   "outputs": [
    {
     "name": "stdout",
     "output_type": "stream",
     "text": [
      "Training Model\n"
     ]
    },
    {
     "data": {
      "application/vnd.jupyter.widget-view+json": {
       "model_id": "6936bba271404467a4b396b3c14055f1",
       "version_major": 2,
       "version_minor": 0
      },
      "text/plain": [
       "  0%|          | 0/2735 [00:00<?, ?it/s]"
      ]
     },
     "metadata": {},
     "output_type": "display_data"
    },
    {
     "data": {
      "application/vnd.jupyter.widget-view+json": {
       "model_id": "",
       "version_major": 2,
       "version_minor": 0
      },
      "text/plain": [
       "Eval (train):   0%|          | 0/333 [00:00<?, ?it/s]"
      ]
     },
     "metadata": {},
     "output_type": "display_data"
    },
    {
     "name": "stdout",
     "output_type": "stream",
     "text": [
      "train:  {'ndcg': (0.6198969366036264, 0.05334217299261362)}\n"
     ]
    },
    {
     "data": {
      "application/vnd.jupyter.widget-view+json": {
       "model_id": "cf7c7df6c1404081b72990a426f0ffe1",
       "version_major": 2,
       "version_minor": 0
      },
      "text/plain": [
       "  0%|          | 0/2735 [00:00<?, ?it/s]"
      ]
     },
     "metadata": {},
     "output_type": "display_data"
    },
    {
     "data": {
      "application/vnd.jupyter.widget-view+json": {
       "model_id": "",
       "version_major": 2,
       "version_minor": 0
      },
      "text/plain": [
       "Eval (train):   0%|          | 0/333 [00:00<?, ?it/s]"
      ]
     },
     "metadata": {},
     "output_type": "display_data"
    },
    {
     "name": "stdout",
     "output_type": "stream",
     "text": [
      "train:  {'recall@05': (0.007902044257922756, 0.019770169277055636)}\n"
     ]
    },
    {
     "data": {
      "application/vnd.jupyter.widget-view+json": {
       "model_id": "e32f90bfe3594022808eba004b68367a",
       "version_major": 2,
       "version_minor": 0
      },
      "text/plain": [
       "  0%|          | 0/2735 [00:00<?, ?it/s]"
      ]
     },
     "metadata": {},
     "output_type": "display_data"
    },
    {
     "data": {
      "application/vnd.jupyter.widget-view+json": {
       "model_id": "",
       "version_major": 2,
       "version_minor": 0
      },
      "text/plain": [
       "Eval (train):   0%|          | 0/333 [00:00<?, ?it/s]"
      ]
     },
     "metadata": {},
     "output_type": "display_data"
    },
    {
     "name": "stdout",
     "output_type": "stream",
     "text": [
      "train:  {'precision@05': (0.042042042042042045, 0.10356137886986473)}\n"
     ]
    },
    {
     "data": {
      "application/vnd.jupyter.widget-view+json": {
       "model_id": "",
       "version_major": 2,
       "version_minor": 0
      },
      "text/plain": [
       "Eval (test):   0%|          | 0/117 [00:00<?, ?it/s]"
      ]
     },
     "metadata": {},
     "output_type": "display_data"
    },
    {
     "name": "stdout",
     "output_type": "stream",
     "text": [
      "\"metric\": \"mean\" (\"standard deviation\")\n",
      "dcg: 89.3117 (19.12867)\n",
      "dcg@03: 4.7924 (3.31319)\n",
      "dcg@05: 6.6812 (3.85639)\n",
      "dcg@10: 10.6270 (5.01120)\n",
      "dcg@20: 16.2835 (6.31421)\n",
      "ndcg: 0.6916 (0.05272)\n",
      "ndcg@03: 0.1750 (0.12650)\n",
      "ndcg@05: 0.1841 (0.11380)\n",
      "ndcg@10: 0.2126 (0.10552)\n",
      "ndcg@20: 0.2453 (0.09479)\n",
      "precision@01: 0.0769 (0.26647)\n",
      "precision@03: 0.0855 (0.18050)\n",
      "precision@05: 0.0991 (0.15387)\n",
      "precision@10: 0.1145 (0.13729)\n",
      "precision@20: 0.1064 (0.10327)\n",
      "recall@01: 0.0042 (0.01814)\n",
      "recall@03: 0.0113 (0.03078)\n",
      "recall@05: 0.0203 (0.03979)\n",
      "recall@10: 0.0445 (0.05588)\n",
      "recall@20: 0.0825 (0.08119)\n",
      "relevant rank: 121.9791 (71.03463)\n",
      "relevant rank per query: 3139.1368 (1473.33032)\n"
     ]
    }
   ],
   "source": [
    "seed(42)\n",
    "\n",
    "params = Namespace(epochs=3, \n",
    "                    lr=1e-3,\n",
    "                    batch_size=1,\n",
    "                    topk=20,\n",
    "                    metrics={\"ndcg\", \"precision@05\", \"recall@05\"})\n",
    "unbiased_model = NeuralModule(1)\n",
    "\n",
    "create_results(unbiased_model, \n",
    "               train_online, \n",
    "               unbiased_model,\n",
    "               \"./unbiased_model.json\",\n",
    "               train_clicks,\n",
    "               online_loss_unbiased,\n",
    "               params)\n",
    "# persist model\n",
    "torch.save(biased_model.state_dict(), \"./unbiased_wt\")"
   ]
  },
  {
   "cell_type": "code",
   "execution_count": 66,
   "metadata": {
    "deletable": false,
    "nbgrader": {
     "cell_type": "code",
     "checksum": "93ede3bc5a61edfb93777647c3ae0b1a",
     "grade": true,
     "grade_id": "cell-5a98cb1d4dccab54",
     "locked": false,
     "points": 30,
     "schema_version": 3,
     "solution": true,
     "task": false
    }
   },
   "outputs": [],
   "source": [
    "# YOUR CODE HERE\n",
    "# raise NotImplementedError()"
   ]
  },
  {
   "cell_type": "code",
   "execution_count": null,
   "metadata": {
    "deletable": false,
    "editable": false,
    "nbgrader": {
     "cell_type": "code",
     "checksum": "34fad8b3eebaaca7a38cf37fb55433e3",
     "grade": true,
     "grade_id": "cell-6eaff35ed2f350ea",
     "locked": true,
     "points": 15,
     "schema_version": 3,
     "solution": false,
     "task": false
    }
   },
   "outputs": [],
   "source": []
  },
  {
   "cell_type": "code",
   "execution_count": null,
   "metadata": {
    "deletable": false,
    "editable": false,
    "nbgrader": {
     "cell_type": "code",
     "checksum": "f8cc768ddc4dd12732fc4c1b42cf015d",
     "grade": true,
     "grade_id": "cell-6a1e7d45a6b24c7c",
     "locked": true,
     "points": 15,
     "schema_version": 3,
     "solution": false,
     "task": false
    }
   },
   "outputs": [],
   "source": []
  },
  {
   "cell_type": "markdown",
   "metadata": {
    "deletable": false,
    "editable": false,
    "nbgrader": {
     "cell_type": "markdown",
     "checksum": "ca775c32f1df7ef6d70c60b3e365adf4",
     "grade": false,
     "grade_id": "cell-08980b08558f70e8",
     "locked": true,
     "schema_version": 3,
     "solution": false,
     "task": false
    }
   },
   "source": [
    "### Section 2.3: Comparison (20 points)\n",
    "\n",
    "Now we can compare two loss functions: biased and unbiased.\n",
    "We want to see how they can improve by increasing the number of training clicks.\n",
    "Train both biased and unbaised models on $[2000, 10000, 50000]$ number of clicks and compare the results.\n",
    "\n",
    "Plot the results in a **single** figure with x-axis showing the number of trainin clicks and y-axis showing the nDCG@10.\n",
    "Discuss your observations.\n",
    "\n",
    "\n",
    "**Rubric:**\n",
    "- Two curves are plotted in the figure: 10 points\n",
    "- Clear titles, x label, y labels and legends (if applicable): 5 points\n",
    "- Explain what you observe: 5 points"
   ]
  },
  {
   "cell_type": "code",
   "execution_count": 67,
   "metadata": {
    "deletable": false,
    "nbgrader": {
     "cell_type": "code",
     "checksum": "76693360dd6493e5811d1908eacf8227",
     "grade": true,
     "grade_id": "cell-f51a0be2734c9352",
     "locked": false,
     "points": 20,
     "schema_version": 3,
     "solution": true,
     "task": false
    }
   },
   "outputs": [
    {
     "name": "stdout",
     "output_type": "stream",
     "text": [
      "2000\n"
     ]
    },
    {
     "data": {
      "application/vnd.jupyter.widget-view+json": {
       "model_id": "9175310d7aac450294599c7ee10e0e46",
       "version_major": 2,
       "version_minor": 0
      },
      "text/plain": [
       "  0%|          | 0/2735 [00:00<?, ?it/s]"
      ]
     },
     "metadata": {},
     "output_type": "display_data"
    },
    {
     "data": {
      "application/vnd.jupyter.widget-view+json": {
       "model_id": "",
       "version_major": 2,
       "version_minor": 0
      },
      "text/plain": [
       "Eval (train):   0%|          | 0/333 [00:00<?, ?it/s]"
      ]
     },
     "metadata": {},
     "output_type": "display_data"
    },
    {
     "name": "stdout",
     "output_type": "stream",
     "text": [
      "train:  {'ndcg@10': (0.3182350677468564, 0.14408516056302492)}\n"
     ]
    },
    {
     "data": {
      "application/vnd.jupyter.widget-view+json": {
       "model_id": "07b0c6df504f4d6ab00a8b158e501d8c",
       "version_major": 2,
       "version_minor": 0
      },
      "text/plain": [
       "  0%|          | 0/2735 [00:00<?, ?it/s]"
      ]
     },
     "metadata": {},
     "output_type": "display_data"
    },
    {
     "data": {
      "application/vnd.jupyter.widget-view+json": {
       "model_id": "",
       "version_major": 2,
       "version_minor": 0
      },
      "text/plain": [
       "Eval (train):   0%|          | 0/333 [00:00<?, ?it/s]"
      ]
     },
     "metadata": {},
     "output_type": "display_data"
    },
    {
     "name": "stdout",
     "output_type": "stream",
     "text": [
      "train:  {'ndcg@10': (0.22613169030145272, 0.12747463048761207)}\n"
     ]
    },
    {
     "data": {
      "application/vnd.jupyter.widget-view+json": {
       "model_id": "4a4bee040e2b4f6db87157a080112c8f",
       "version_major": 2,
       "version_minor": 0
      },
      "text/plain": [
       "  0%|          | 0/2735 [00:00<?, ?it/s]"
      ]
     },
     "metadata": {},
     "output_type": "display_data"
    },
    {
     "data": {
      "application/vnd.jupyter.widget-view+json": {
       "model_id": "",
       "version_major": 2,
       "version_minor": 0
      },
      "text/plain": [
       "Eval (train):   0%|          | 0/333 [00:00<?, ?it/s]"
      ]
     },
     "metadata": {},
     "output_type": "display_data"
    },
    {
     "name": "stdout",
     "output_type": "stream",
     "text": [
      "train:  {'ndcg@10': (0.16607865653822226, 0.09822293155796266)}\n"
     ]
    },
    {
     "data": {
      "application/vnd.jupyter.widget-view+json": {
       "model_id": "5b716031ef904cbcb6a95abb2637f5f5",
       "version_major": 2,
       "version_minor": 0
      },
      "text/plain": [
       "  0%|          | 0/2735 [00:00<?, ?it/s]"
      ]
     },
     "metadata": {},
     "output_type": "display_data"
    },
    {
     "data": {
      "application/vnd.jupyter.widget-view+json": {
       "model_id": "",
       "version_major": 2,
       "version_minor": 0
      },
      "text/plain": [
       "Eval (train):   0%|          | 0/333 [00:00<?, ?it/s]"
      ]
     },
     "metadata": {},
     "output_type": "display_data"
    },
    {
     "name": "stdout",
     "output_type": "stream",
     "text": [
      "train:  {'ndcg@10': (0.18338702386416017, 0.09801707001134795)}\n"
     ]
    },
    {
     "data": {
      "application/vnd.jupyter.widget-view+json": {
       "model_id": "ba7021d9823e4e6797b778bb236d90c1",
       "version_major": 2,
       "version_minor": 0
      },
      "text/plain": [
       "  0%|          | 0/2735 [00:00<?, ?it/s]"
      ]
     },
     "metadata": {},
     "output_type": "display_data"
    },
    {
     "data": {
      "application/vnd.jupyter.widget-view+json": {
       "model_id": "",
       "version_major": 2,
       "version_minor": 0
      },
      "text/plain": [
       "Eval (train):   0%|          | 0/333 [00:00<?, ?it/s]"
      ]
     },
     "metadata": {},
     "output_type": "display_data"
    },
    {
     "name": "stdout",
     "output_type": "stream",
     "text": [
      "train:  {'ndcg@10': (0.196447914910183, 0.11422134396449982)}\n"
     ]
    },
    {
     "data": {
      "application/vnd.jupyter.widget-view+json": {
       "model_id": "ce949347983e4630a20238c3ed260e56",
       "version_major": 2,
       "version_minor": 0
      },
      "text/plain": [
       "  0%|          | 0/2735 [00:00<?, ?it/s]"
      ]
     },
     "metadata": {},
     "output_type": "display_data"
    },
    {
     "data": {
      "application/vnd.jupyter.widget-view+json": {
       "model_id": "",
       "version_major": 2,
       "version_minor": 0
      },
      "text/plain": [
       "Eval (train):   0%|          | 0/333 [00:00<?, ?it/s]"
      ]
     },
     "metadata": {},
     "output_type": "display_data"
    },
    {
     "name": "stdout",
     "output_type": "stream",
     "text": [
      "train:  {'ndcg@10': (0.18775254975011274, 0.11294276184337933)}\n"
     ]
    },
    {
     "data": {
      "application/vnd.jupyter.widget-view+json": {
       "model_id": "",
       "version_major": 2,
       "version_minor": 0
      },
      "text/plain": [
       "Eval (test):   0%|          | 0/117 [00:00<?, ?it/s]"
      ]
     },
     "metadata": {},
     "output_type": "display_data"
    },
    {
     "data": {
      "application/vnd.jupyter.widget-view+json": {
       "model_id": "",
       "version_major": 2,
       "version_minor": 0
      },
      "text/plain": [
       "Eval (test):   0%|          | 0/117 [00:00<?, ?it/s]"
      ]
     },
     "metadata": {},
     "output_type": "display_data"
    },
    {
     "name": "stdout",
     "output_type": "stream",
     "text": [
      "10000\n"
     ]
    },
    {
     "data": {
      "application/vnd.jupyter.widget-view+json": {
       "model_id": "86ac9900c2f34af495aa6fca9c818e4a",
       "version_major": 2,
       "version_minor": 0
      },
      "text/plain": [
       "  0%|          | 0/2735 [00:00<?, ?it/s]"
      ]
     },
     "metadata": {},
     "output_type": "display_data"
    },
    {
     "data": {
      "application/vnd.jupyter.widget-view+json": {
       "model_id": "",
       "version_major": 2,
       "version_minor": 0
      },
      "text/plain": [
       "Eval (train):   0%|          | 0/333 [00:00<?, ?it/s]"
      ]
     },
     "metadata": {},
     "output_type": "display_data"
    },
    {
     "name": "stdout",
     "output_type": "stream",
     "text": [
      "train:  {'ndcg@10': (0.24217728139741368, 0.1287595383538528)}\n"
     ]
    },
    {
     "data": {
      "application/vnd.jupyter.widget-view+json": {
       "model_id": "5bd0aac09cd6403491a016e17a91d49c",
       "version_major": 2,
       "version_minor": 0
      },
      "text/plain": [
       "  0%|          | 0/2735 [00:00<?, ?it/s]"
      ]
     },
     "metadata": {},
     "output_type": "display_data"
    },
    {
     "data": {
      "application/vnd.jupyter.widget-view+json": {
       "model_id": "",
       "version_major": 2,
       "version_minor": 0
      },
      "text/plain": [
       "Eval (train):   0%|          | 0/333 [00:00<?, ?it/s]"
      ]
     },
     "metadata": {},
     "output_type": "display_data"
    },
    {
     "name": "stdout",
     "output_type": "stream",
     "text": [
      "train:  {'ndcg@10': (0.15841533268226018, 0.10189589649514495)}\n"
     ]
    },
    {
     "data": {
      "application/vnd.jupyter.widget-view+json": {
       "model_id": "acf54a2f009f43fe80255d016972bbcb",
       "version_major": 2,
       "version_minor": 0
      },
      "text/plain": [
       "  0%|          | 0/2735 [00:00<?, ?it/s]"
      ]
     },
     "metadata": {},
     "output_type": "display_data"
    },
    {
     "data": {
      "application/vnd.jupyter.widget-view+json": {
       "model_id": "",
       "version_major": 2,
       "version_minor": 0
      },
      "text/plain": [
       "Eval (train):   0%|          | 0/333 [00:00<?, ?it/s]"
      ]
     },
     "metadata": {},
     "output_type": "display_data"
    },
    {
     "name": "stdout",
     "output_type": "stream",
     "text": [
      "train:  {'ndcg@10': (0.11489836722287154, 0.08335549616423123)}\n"
     ]
    },
    {
     "data": {
      "application/vnd.jupyter.widget-view+json": {
       "model_id": "00ea398454fb4e6d89f0147e70673893",
       "version_major": 2,
       "version_minor": 0
      },
      "text/plain": [
       "  0%|          | 0/2735 [00:00<?, ?it/s]"
      ]
     },
     "metadata": {},
     "output_type": "display_data"
    },
    {
     "data": {
      "application/vnd.jupyter.widget-view+json": {
       "model_id": "",
       "version_major": 2,
       "version_minor": 0
      },
      "text/plain": [
       "Eval (train):   0%|          | 0/333 [00:00<?, ?it/s]"
      ]
     },
     "metadata": {},
     "output_type": "display_data"
    },
    {
     "name": "stdout",
     "output_type": "stream",
     "text": [
      "train:  {'ndcg@10': (0.18351395232624107, 0.09879400874061164)}\n"
     ]
    },
    {
     "data": {
      "application/vnd.jupyter.widget-view+json": {
       "model_id": "49fd357492f94878ad3a54d8b2e74aa0",
       "version_major": 2,
       "version_minor": 0
      },
      "text/plain": [
       "  0%|          | 0/2735 [00:00<?, ?it/s]"
      ]
     },
     "metadata": {},
     "output_type": "display_data"
    },
    {
     "data": {
      "application/vnd.jupyter.widget-view+json": {
       "model_id": "",
       "version_major": 2,
       "version_minor": 0
      },
      "text/plain": [
       "Eval (train):   0%|          | 0/333 [00:00<?, ?it/s]"
      ]
     },
     "metadata": {},
     "output_type": "display_data"
    },
    {
     "name": "stdout",
     "output_type": "stream",
     "text": [
      "train:  {'ndcg@10': (0.1861496253309254, 0.109967359182159)}\n"
     ]
    },
    {
     "data": {
      "application/vnd.jupyter.widget-view+json": {
       "model_id": "9e7463f7f9ce492da6353e44f058ac68",
       "version_major": 2,
       "version_minor": 0
      },
      "text/plain": [
       "  0%|          | 0/2735 [00:00<?, ?it/s]"
      ]
     },
     "metadata": {},
     "output_type": "display_data"
    },
    {
     "data": {
      "application/vnd.jupyter.widget-view+json": {
       "model_id": "",
       "version_major": 2,
       "version_minor": 0
      },
      "text/plain": [
       "Eval (train):   0%|          | 0/333 [00:00<?, ?it/s]"
      ]
     },
     "metadata": {},
     "output_type": "display_data"
    },
    {
     "name": "stdout",
     "output_type": "stream",
     "text": [
      "train:  {'ndcg@10': (0.14988846440098236, 0.09654860981039592)}\n"
     ]
    },
    {
     "data": {
      "application/vnd.jupyter.widget-view+json": {
       "model_id": "",
       "version_major": 2,
       "version_minor": 0
      },
      "text/plain": [
       "Eval (test):   0%|          | 0/117 [00:00<?, ?it/s]"
      ]
     },
     "metadata": {},
     "output_type": "display_data"
    },
    {
     "data": {
      "application/vnd.jupyter.widget-view+json": {
       "model_id": "",
       "version_major": 2,
       "version_minor": 0
      },
      "text/plain": [
       "Eval (test):   0%|          | 0/117 [00:00<?, ?it/s]"
      ]
     },
     "metadata": {},
     "output_type": "display_data"
    },
    {
     "name": "stdout",
     "output_type": "stream",
     "text": [
      "50000\n"
     ]
    },
    {
     "data": {
      "application/vnd.jupyter.widget-view+json": {
       "model_id": "52b517aaa3d646ce88de565f94ba085f",
       "version_major": 2,
       "version_minor": 0
      },
      "text/plain": [
       "  0%|          | 0/2735 [00:00<?, ?it/s]"
      ]
     },
     "metadata": {},
     "output_type": "display_data"
    },
    {
     "data": {
      "application/vnd.jupyter.widget-view+json": {
       "model_id": "",
       "version_major": 2,
       "version_minor": 0
      },
      "text/plain": [
       "Eval (train):   0%|          | 0/333 [00:00<?, ?it/s]"
      ]
     },
     "metadata": {},
     "output_type": "display_data"
    },
    {
     "name": "stdout",
     "output_type": "stream",
     "text": [
      "train:  {'ndcg@10': (0.15285677531828787, 0.07879491270225272)}\n"
     ]
    },
    {
     "data": {
      "application/vnd.jupyter.widget-view+json": {
       "model_id": "3f860e80e60b4ab882b9506ea80cfb5c",
       "version_major": 2,
       "version_minor": 0
      },
      "text/plain": [
       "  0%|          | 0/2735 [00:00<?, ?it/s]"
      ]
     },
     "metadata": {},
     "output_type": "display_data"
    },
    {
     "data": {
      "application/vnd.jupyter.widget-view+json": {
       "model_id": "",
       "version_major": 2,
       "version_minor": 0
      },
      "text/plain": [
       "Eval (train):   0%|          | 0/333 [00:00<?, ?it/s]"
      ]
     },
     "metadata": {},
     "output_type": "display_data"
    },
    {
     "name": "stdout",
     "output_type": "stream",
     "text": [
      "train:  {'ndcg@10': (0.15455019849492033, 0.0923218660557738)}\n"
     ]
    },
    {
     "data": {
      "application/vnd.jupyter.widget-view+json": {
       "model_id": "610d8ea227f94777a361ba87143f781e",
       "version_major": 2,
       "version_minor": 0
      },
      "text/plain": [
       "  0%|          | 0/2735 [00:00<?, ?it/s]"
      ]
     },
     "metadata": {},
     "output_type": "display_data"
    },
    {
     "data": {
      "application/vnd.jupyter.widget-view+json": {
       "model_id": "",
       "version_major": 2,
       "version_minor": 0
      },
      "text/plain": [
       "Eval (train):   0%|          | 0/333 [00:00<?, ?it/s]"
      ]
     },
     "metadata": {},
     "output_type": "display_data"
    },
    {
     "name": "stdout",
     "output_type": "stream",
     "text": [
      "train:  {'ndcg@10': (0.19095371055299862, 0.11076077154663064)}\n"
     ]
    },
    {
     "data": {
      "application/vnd.jupyter.widget-view+json": {
       "model_id": "ae015241da2b4dd7ada8a0b1951c8f83",
       "version_major": 2,
       "version_minor": 0
      },
      "text/plain": [
       "  0%|          | 0/2735 [00:00<?, ?it/s]"
      ]
     },
     "metadata": {},
     "output_type": "display_data"
    },
    {
     "data": {
      "application/vnd.jupyter.widget-view+json": {
       "model_id": "",
       "version_major": 2,
       "version_minor": 0
      },
      "text/plain": [
       "Eval (train):   0%|          | 0/333 [00:00<?, ?it/s]"
      ]
     },
     "metadata": {},
     "output_type": "display_data"
    },
    {
     "name": "stdout",
     "output_type": "stream",
     "text": [
      "train:  {'ndcg@10': (0.0713505993315466, 0.06204252298848023)}\n"
     ]
    },
    {
     "data": {
      "application/vnd.jupyter.widget-view+json": {
       "model_id": "c19ab18703db45628863c55d0c74dec1",
       "version_major": 2,
       "version_minor": 0
      },
      "text/plain": [
       "  0%|          | 0/2735 [00:00<?, ?it/s]"
      ]
     },
     "metadata": {},
     "output_type": "display_data"
    },
    {
     "data": {
      "application/vnd.jupyter.widget-view+json": {
       "model_id": "",
       "version_major": 2,
       "version_minor": 0
      },
      "text/plain": [
       "Eval (train):   0%|          | 0/333 [00:00<?, ?it/s]"
      ]
     },
     "metadata": {},
     "output_type": "display_data"
    },
    {
     "name": "stdout",
     "output_type": "stream",
     "text": [
      "train:  {'ndcg@10': (0.17512131276407544, 0.1062171223594142)}\n"
     ]
    },
    {
     "data": {
      "application/vnd.jupyter.widget-view+json": {
       "model_id": "a20951caf34d4889936a61d7770e7c6f",
       "version_major": 2,
       "version_minor": 0
      },
      "text/plain": [
       "  0%|          | 0/2735 [00:00<?, ?it/s]"
      ]
     },
     "metadata": {},
     "output_type": "display_data"
    },
    {
     "data": {
      "application/vnd.jupyter.widget-view+json": {
       "model_id": "",
       "version_major": 2,
       "version_minor": 0
      },
      "text/plain": [
       "Eval (train):   0%|          | 0/333 [00:00<?, ?it/s]"
      ]
     },
     "metadata": {},
     "output_type": "display_data"
    },
    {
     "name": "stdout",
     "output_type": "stream",
     "text": [
      "train:  {'ndcg@10': (0.23973398558870412, 0.1295957241491453)}\n"
     ]
    },
    {
     "data": {
      "application/vnd.jupyter.widget-view+json": {
       "model_id": "",
       "version_major": 2,
       "version_minor": 0
      },
      "text/plain": [
       "Eval (test):   0%|          | 0/117 [00:00<?, ?it/s]"
      ]
     },
     "metadata": {},
     "output_type": "display_data"
    },
    {
     "data": {
      "application/vnd.jupyter.widget-view+json": {
       "model_id": "",
       "version_major": 2,
       "version_minor": 0
      },
      "text/plain": [
       "Eval (test):   0%|          | 0/117 [00:00<?, ?it/s]"
      ]
     },
     "metadata": {},
     "output_type": "display_data"
    },
    {
     "data": {
      "image/png": "[encoded data removed]",
      "text/plain": [
       "<Figure size 1080x720 with 1 Axes>"
      ]
     },
     "metadata": {
      "needs_background": "light"
     },
     "output_type": "display_data"
    },
    {
     "data": {
      "text/plain": [
       "'(Written here to not add an extra cell)\\nWe see an overall increase over the number of clicks with a slight decrease for 10.000 clicks. Overall unbiased seems to score higher than biased.'"
      ]
     },
     "execution_count": 67,
     "metadata": {},
     "output_type": "execute_result"
    }
   ],
   "source": [
    "# YOUR CODE HERE\n",
    "\n",
    "def plot_comparison( metric):\n",
    "    number_clicks = [2000,10000,50000]\n",
    "    y_bias = []\n",
    "    y_unbias = []\n",
    "\n",
    "    for clicks in number_clicks:\n",
    "        print(clicks)\n",
    "\n",
    "        #TRAIN:\n",
    "        params = Namespace(epochs=3, lr=1e-3, topk=20, metrics = { metric })\n",
    "        #params = Namespace(epochs=1, lr=1e-3, topk=20, metrics = { \"ndcg@10\" })\n",
    "        train_clicks = simulate_clicks(data,'train', click_count = clicks)\n",
    "        biased_net = NeuralModule(1)\n",
    "        train_online(biased_net, train_clicks, online_loss_biased, params)\n",
    "        unbiased_net = NeuralModule(1)\n",
    "        train_online(unbiased_net, train_clicks, online_loss_unbiased, params)\n",
    "\n",
    "        #TEST:\n",
    "        eval_bias = evaluate_model(biased_net, 'test', print_results=False)\n",
    "        eval_unbias = evaluate_model(unbiased_net, 'test', print_results=False)\n",
    "\n",
    "        y_bias.append(eval_bias[ metric ][0])\n",
    "        y_unbias.append(eval_unbias[ metric ][0])\n",
    "    \n",
    "    fig = plt.figure(figsize=(15,10))\n",
    "    ax = plt.subplot(111)\n",
    "       \n",
    "    ax.plot(number_clicks, y_unbias, label = \"Unbiased\") \n",
    "    ax.plot(number_clicks, y_bias, label=\"Biased\") \n",
    "    plt.xlabel(\"Number of clicks\")\n",
    "    plt.ylabel(\"NDCG@10\")\n",
    "    plt.title(\"NDCG@10 for biased & unbiased loss\")\n",
    "    ax.legend()\n",
    "    plt.show() \n",
    "    \n",
    "plot_comparison(\"ndcg@10\")\n",
    "\n",
    "#################### WHAT WE SEE ####################\n",
    "'''(Written here to not add an extra cell)\n",
    "We see an overall increase over the number of clicks with a slight decrease for 10.000 clicks. Overall unbiased seems to score higher than biased.'''"
   ]
  },
  {
   "cell_type": "markdown",
   "metadata": {
    "deletable": false,
    "editable": false,
    "nbgrader": {
     "cell_type": "markdown",
     "checksum": "ce47393cb34036b50fde6780cdb9f772",
     "grade": false,
     "grade_id": "cell-6bd0ff7cecc1b060",
     "locked": true,
     "schema_version": 3,
     "solution": false,
     "task": false
    }
   },
   "source": [
    "## Section 3: Online Evaluation (75 points) <a class=\"anchor\" id=\"on_eval\"></a>\n",
    "\n",
    "[Back to TOC](#top)\n",
    "\n",
    "Sometimes, in online search engines, we want to compare two or more different ranking functions based on the user interactions.\n",
    "This comparison is done via online evaluation.\n",
    "\n",
    "In this section we implement one of the online evaluation methods: probabilistic multileaving.\n",
    "\n",
    "We compare three rankers:\n",
    " - Production ranker: the ranks that are provided to you for doing the click simulation.\n",
    " - Biased method from previous section.\n",
    " - Unbiased method from previous section"
   ]
  },
  {
   "cell_type": "markdown",
   "metadata": {
    "deletable": false,
    "editable": false,
    "nbgrader": {
     "cell_type": "markdown",
     "checksum": "590bdae1272cdd45e304d0498de730bc",
     "grade": false,
     "grade_id": "cell-6ca9cf6f08e6b7f3",
     "locked": true,
     "schema_version": 3,
     "solution": false,
     "task": false
    }
   },
   "source": [
    "Before proceeding, we need some auxiliary functions:\n",
    "\n",
    " - `invert_ranking` gets the ranking and gives the inverted rankings. This means that for an input with `rank[d]=r`, the output would be `i_rank[r]=d`.\n",
    "\n",
    "\n",
    " - `get_predictions` gives a dictionary of predictions, i.e. `predictions[qid]` is the list of scores produced by the given model.\n"
   ]
  },
  {
   "cell_type": "code",
   "execution_count": 68,
   "metadata": {
    "deletable": false,
    "editable": false,
    "nbgrader": {
     "cell_type": "code",
     "checksum": "98f77357b3d3088c738c97a90bd05061",
     "grade": false,
     "grade_id": "cell-3ae14fda3426a247",
     "locked": true,
     "schema_version": 3,
     "solution": false,
     "task": false
    }
   },
   "outputs": [],
   "source": [
    "def get_predictions(net, test_clicks, topk):\n",
    "    test_dl = DataLoader(QueryGroupedOnlineLTRData(data, 'test', test_clicks, topk), \n",
    "                          batch_size=1, \n",
    "                          shuffle=False,\n",
    "                          collate_fn=qg_collate_fn)\n",
    "    predictions = {}\n",
    "    for qids, x, _ in test_dl:\n",
    "        predictions[qids[0]] = net(x[0]).detach().numpy()[:,0]\n",
    "    return predictions\n",
    "\n",
    "\n",
    "def invert_rankings(rankings):\n",
    "    '''\n",
    "    Invert indices in a matrix of rankings, ranking per row.\n",
    "    '''\n",
    "    inverted = np.zeros(rankings.shape)\n",
    "    \n",
    "    inverted[np.arange(rankings.shape[0])[:,None],rankings] = np.arange(rankings.shape[1])[None,:]\n",
    "    return inverted\n"
   ]
  },
  {
   "cell_type": "markdown",
   "metadata": {
    "deletable": false,
    "editable": false,
    "nbgrader": {
     "cell_type": "markdown",
     "checksum": "715b799e36aa757ed9db3dd60c9b724e",
     "grade": false,
     "grade_id": "cell-7bbf6c13e9eaea91",
     "locked": true,
     "schema_version": 3,
     "solution": false,
     "task": false
    }
   },
   "source": [
    "The next cell helps you build the ranking matrix for each query in the test set.\n",
    "The first row is the production ranker, the second row is the biased ranker and the third row is the unbiased ranker."
   ]
  },
  {
   "cell_type": "code",
   "execution_count": 69,
   "metadata": {
    "deletable": false,
    "editable": false,
    "nbgrader": {
     "cell_type": "code",
     "checksum": "8f2a6904a62575980830a95ed5ee238d",
     "grade": false,
     "grade_id": "cell-3bdf5ac68c468d35",
     "locked": true,
     "schema_version": 3,
     "solution": false,
     "task": false
    }
   },
   "outputs": [],
   "source": [
    "# we only need the ranking of the production ranker for the test set. No clicks have to be simulated here.\n",
    "test_clicks = simulate_clicks(data, 'test', click_count = 0)\n",
    "biased_predictions = get_predictions(biased_net, test_clicks, 20)\n",
    "unbiased_prediction = get_predictions(unbiased_net, test_clicks, 20)\n",
    "\n",
    "def get_ranking_matrix(qid, topk):\n",
    "    ranking_matrix = np.empty([3, min(data.test.query_size(qid), topk)], dtype=np.int32)\n",
    "    ranking = data.test.ranks[data.test.doclist_ranges[qid]:data.test.doclist_ranges[qid+1]]\n",
    "    ranking_matrix[0,:] = np.arange(ranking_matrix.shape[1])\n",
    "    ranking_matrix[1,:] = np.argsort(-biased_predictions[qid])\n",
    "    ranking_matrix[2,:] = np.argsort(-unbiased_prediction[qid])\n",
    "    return ranking_matrix"
   ]
  },
  {
   "cell_type": "code",
   "execution_count": 70,
   "metadata": {
    "deletable": false,
    "editable": false,
    "nbgrader": {
     "cell_type": "code",
     "checksum": "c5cc0c513947abfc38bd19f364c24992",
     "grade": false,
     "grade_id": "cell-77d4e88031772611",
     "locked": true,
     "schema_version": 3,
     "solution": false,
     "task": false
    }
   },
   "outputs": [
    {
     "name": "stdout",
     "output_type": "stream",
     "text": [
      "[[ 0  1  2  3  4  5  6  7  8  9 10 11 12 13 14 15 16 17 18 19]\n",
      " [15  7  9  8 11 13  2 17  0 19  4  1 12  6 18 14 16  3 10  5]\n",
      " [11  9 15  8  0 17  7 14  2  6 10 12 16 18 19  4  1 13  5  3]]\n"
     ]
    }
   ],
   "source": [
    "print(get_ranking_matrix(0, 20))"
   ]
  },
  {
   "cell_type": "markdown",
   "metadata": {
    "deletable": false,
    "editable": false,
    "nbgrader": {
     "cell_type": "markdown",
     "checksum": "d3a1de51e80c9251462e68fb16b4fb0f",
     "grade": false,
     "grade_id": "cell-ff251675418a5a1a",
     "locked": true,
     "schema_version": 3,
     "solution": false,
     "task": false
    }
   },
   "source": [
    "### Section 3.1 Multileaving (10 points)\n",
    "\n",
    "Given the rankings of multiple rankers, we want to decide how to fill the results list and show it to the users.\n",
    "Implement the following function."
   ]
  },
  {
   "cell_type": "code",
   "execution_count": 71,
   "metadata": {
    "deletable": false,
    "nbgrader": {
     "cell_type": "code",
     "checksum": "c1f9c735274c6a469bd089afd078bcf9",
     "grade": false,
     "grade_id": "cell-fcf5351ca3d36caa",
     "locked": false,
     "schema_version": 3,
     "solution": true,
     "task": false
    }
   },
   "outputs": [],
   "source": [
    "#- `invert_ranking` gets the ranking and gives the inverted rankings. This means that for an input with `rank[r]=d`, the output would be `i_rank[d]=r`.\n",
    "\n",
    "def get_ranking_matrix(qid, topk):\n",
    "    ranking_matrix = np.empty([3, min(data.test.query_size(qid), topk)], dtype=np.int32)\n",
    "    ranking = data.test.ranks[data.test.doclist_ranges[qid]:data.test.doclist_ranges[qid+1]]\n",
    "    ranking_matrix[0,:] = ranking[ranking < topk]\n",
    "    ranking_matrix[1,:] = np.argsort(-biased_predictions[qid])\n",
    "    ranking_matrix[2,:] = np.argsort(-unbiased_prediction[qid])\n",
    "    return ranking_matrix\n",
    "\n",
    "# TODO: Implement this! (10 points)\n",
    "def make_multileaving(inverted_rankings, topk):\n",
    "    '''\n",
    "    ARGS: (all np.array of docids)\n",
    "    - inverted_rankings: matrix (rankers x documents) where [x,y] corresponds to the rank of doc y in ranker x\n",
    "    RETURNS\n",
    "    - ranking of indices corresponding to inverted_rankings\n",
    "    '''\n",
    "    n_rankers = inverted_rankings.shape[0]\n",
    "    n = inverted_rankings.shape[1]\n",
    "    k = min(n, topk)\n",
    "\n",
    "    # YOUR CODE HERE\n",
    "    TAU = 3 # 1 for less complex, 3 for more//normal\n",
    "    final_rank = []\n",
    "    \n",
    "    # Create all rankings\n",
    "    for rank in range(k):\n",
    "        prob = calc_probabilities(inverted_rankings, final_rank, TAU, n_rankers) # Calculate probability distributions for all rankers\n",
    "        ranker = np.random.randint(3, size=1)[0] # Flip coin to see which ranker to draw from \n",
    "        doc = int(np.random.choice(k, 1, p=prob[ranker])[0]) #Pick from ranker according to prob. distr.\n",
    "        final_rank.append(doc)\n",
    "#         print(\"rank=\", rank)\n",
    "#         print(\"ranker=\", ranker)\n",
    "#         print(\"list of ranks= \", inverted_rankings[ranker])\n",
    "#         print(\"prob distr= \", prob[ranker])\n",
    "#         print(\"sum prob = \", np.sum(prob[ranker]))\n",
    "#         print(\"doc=\",doc, \"\\n\")\n",
    "    return np.array(final_rank)\n",
    "\n",
    "def calc_probabilities(inverted_rankings, final_rank, TAU, n_rankers):\n",
    "        probabilities = inverted_rankings\n",
    "        probabilities = probabilities+1 # to avoid division by 0\n",
    "        probabilities = np.divide(1, np.power(probabilities, TAU)) # for all docs: P = 1/(rank(d)^TAU)\n",
    "        #probabilities[probabilities == np.inf] = 0 #remove infinite values. \n",
    "        \n",
    "        # Make prob. of documents already chosen 0\n",
    "        for doc in final_rank:\n",
    "            probabilities[:,doc] = 0\n",
    "            \n",
    "        # Marginalize all different rows:\n",
    "        for row in range(n_rankers):\n",
    "            sum_prob = np.sum(probabilities[row]) \n",
    "            probabilities[row] = probabilities[row] / sum_prob #marginalize: all probs in this row sum to 1\n",
    "        return probabilities\n"
   ]
  },
  {
   "cell_type": "code",
   "execution_count": 72,
   "metadata": {},
   "outputs": [
    {
     "name": "stdout",
     "output_type": "stream",
     "text": [
      "[11  9  2 15  8  3  0  7 12  5 13  4 14 17 10 19  1 16  6 18]\n"
     ]
    }
   ],
   "source": [
    "print(make_multileaving(invert_rankings(get_ranking_matrix(0, 20)), 20)) #<- originele regel\n",
    "# matrix = invert_rankings(get_ranking_matrix(0, 20))\n",
    "# print(matrix)\n",
    "# print(make_multileaving(matrix, 20))"
   ]
  },
  {
   "cell_type": "code",
   "execution_count": 73,
   "metadata": {
    "deletable": false,
    "nbgrader": {
     "cell_type": "code",
     "checksum": "51819e8bd101b87700217e0ea4983c40",
     "grade": true,
     "grade_id": "cell-a7f83f82f0a41b58",
     "locked": false,
     "points": 10,
     "schema_version": 3,
     "solution": true,
     "task": false
    }
   },
   "outputs": [],
   "source": [
    "# YOUR CODE HERE\n",
    "#raise NotImplementedError()"
   ]
  },
  {
   "cell_type": "markdown",
   "metadata": {
    "deletable": false,
    "editable": false,
    "nbgrader": {
     "cell_type": "markdown",
     "checksum": "1ca3e1ec97c81db9c4a9e3d7ec81919c",
     "grade": false,
     "grade_id": "cell-024ab191ba5fc1c3",
     "locked": true,
     "schema_version": 3,
     "solution": false,
     "task": false
    }
   },
   "source": [
    "### Section 3.2: Probability of rankers (15 points)\n",
    "\n",
    "We have shown the multileaved list to the user and they clicked on some documents.\n",
    "In this function we want to calculate the probability that the clicked documents belong to a specific ranker.\n",
    "\n",
    "Note that the results of rankers are not unique and each document in the results list may belong to different rankers.\n",
    "So we need to assign a *probability* to each click belonging to each ranker."
   ]
  },
  {
   "cell_type": "code",
   "execution_count": 74,
   "metadata": {
    "deletable": false,
    "nbgrader": {
     "cell_type": "code",
     "checksum": "e6150d058189bef659154cdb1e700d18",
     "grade": false,
     "grade_id": "cell-06a948902936dd40",
     "locked": false,
     "schema_version": 3,
     "solution": true,
     "task": false
    }
   },
   "outputs": [],
   "source": [
    "# TODO: Implement this! (15 points)\n",
    "def probability_of_list(result_list, inverted_rankings, clicked_docs):\n",
    "    '''\n",
    "    ARGS: (all np.array of docids)\n",
    "    - result_list: the multileaved list\n",
    "    - inverted_rankings: matrix (rankers x documents) where [x,y] corresponds to the rank of doc y in ranker x\n",
    "    - clicked_docs: boolean array of result_list length indicating clicks\n",
    "    RETURNS\n",
    "    -sigmas: matrix (clicked_docs x rankers) with probabilty ranker added clicked doc\n",
    "    '''\n",
    "    n_docs = inverted_rankings.shape[1]\n",
    "    n_rankers = inverted_rankings.shape[0]\n",
    "    \n",
    "    #click_doc_ind = result_list[clicked_docs] #<- original, gave error\n",
    "    # YOUR CODE HERE\n",
    "    \n",
    "    click_doc_ind = [result_list[i] for i in clicked_docs] #clicked_docs = the clicked positions. Retrieve relevant document from result_list\n",
    "    sigmas = []\n",
    "    prob = calc_probabilities(inverted_rankings, [], 3, n_rankers)\n",
    "#     print(inverted_rankings)\n",
    "#     print(click_doc_ind)\n",
    "#     print(prob)\n",
    "    test = []\n",
    "    for doc in click_doc_ind:\n",
    "        #print(\"doc = \", doc)\n",
    "        doc_prob = prob[:,doc] # [;,doc] -> for all rankers, take the probability of the document (doc_number = index in prob, same as in inverted_rankings)\n",
    "        sigmas.append(doc_prob)\n",
    "        test.append(inverted_rankings[:,doc])\n",
    "        \n",
    "    sigmas = sigmas/np.sum(sigmas, axis=1)[:,None] # divide row by sum of row: Marginalizing\n",
    "    #sigmas = np.transpose(sigmas) # <- corrected on Piazza\n",
    "    #print(test)   \n",
    "    \n",
    "    return sigmas\n",
    "    \n",
    "    #raise NotImplementedError()\n"
   ]
  },
  {
   "cell_type": "code",
   "execution_count": 75,
   "metadata": {
    "deletable": false,
    "editable": false,
    "nbgrader": {
     "cell_type": "code",
     "checksum": "216c6987df2ad52d86dec05976823892",
     "grade": false,
     "grade_id": "cell-cb41d992a09ed02e",
     "locked": true,
     "schema_version": 3,
     "solution": false,
     "task": false
    }
   },
   "outputs": [
    {
     "name": "stdout",
     "output_type": "stream",
     "text": [
      "ranking matrix:\n",
      " [[ 2  3  4  5  6  7  8  9 10  1 11 13 14 15 16 17 18 19 12  0]\n",
      " [15  7  9  8 11 13  2 17  0 19  4  1 12  6 18 14 16  3 10  5]\n",
      " [11  9 15  8  0 17  7 14  2  6 10 12 16 18 19  4  1 13  5  3]]\n",
      "results list (shown to user):\n",
      " [15  7 11  2  9  8 13 14  0 17  5 18  3 10  4  6  1 16 12 19]\n",
      "clicked documents: [0, 4, 9, 10]\n",
      "probabilities:\n",
      " [[3.51292627e-04 9.63946968e-01 3.57017395e-02]\n",
      " [1.19100132e-02 2.25849140e-01 7.62240847e-01]\n",
      " [3.57615894e-02 2.86092715e-01 6.78145695e-01]\n",
      " [9.82964434e-01 7.86371547e-03 9.17185067e-03]]\n"
     ]
    }
   ],
   "source": [
    "ranking_matrix = get_ranking_matrix(0, 20)\n",
    "result_list = make_multileaving(invert_rankings(ranking_matrix), 20)\n",
    "clicks = [0,4,9,10]\n",
    "probabilities = probability_of_list(result_list, invert_rankings(ranking_matrix), clicks)\n",
    "print(f'ranking matrix:\\n {ranking_matrix}')\n",
    "print(f'results list (shown to user):\\n {result_list}')\n",
    "print(f'clicked documents: {clicks}')\n",
    "print(f'probabilities:\\n {probabilities}')"
   ]
  },
  {
   "cell_type": "code",
   "execution_count": 76,
   "metadata": {
    "deletable": false,
    "nbgrader": {
     "cell_type": "code",
     "checksum": "9b4921314264ee89e72d616cf8ee8f33",
     "grade": true,
     "grade_id": "cell-41eadc2f4faaf437",
     "locked": false,
     "points": 15,
     "schema_version": 3,
     "solution": true,
     "task": false
    }
   },
   "outputs": [],
   "source": [
    "# YOUR CODE HERE\n",
    "#raise NotImplementedError()"
   ]
  },
  {
   "cell_type": "markdown",
   "metadata": {
    "deletable": false,
    "editable": false,
    "nbgrader": {
     "cell_type": "markdown",
     "checksum": "7cdd78a87da0a5d3a05207c5e926eef4",
     "grade": false,
     "grade_id": "cell-95c4e4ae05ce7198",
     "locked": true,
     "schema_version": 3,
     "solution": false,
     "task": false
    }
   },
   "source": [
    "### Section 3.3: Preference matrix (10 points)\n",
    "\n",
    "Given the probabilities of each ranker being clicked, we want to calculate a preference matrix that for each pair of rankers tells us which one is preferred by the clicks."
   ]
  },
  {
   "cell_type": "code",
   "execution_count": 77,
   "metadata": {
    "deletable": false,
    "nbgrader": {
     "cell_type": "code",
     "checksum": "ec8f2075b4b94720bdf96898d4254589",
     "grade": false,
     "grade_id": "cell-931bf5baba8e9eac",
     "locked": false,
     "schema_version": 3,
     "solution": true,
     "task": false
    }
   },
   "outputs": [],
   "source": [
    "# TODO: Implement this! (10 points)\n",
    "def preferences_of_list(probs):\n",
    "    '''\n",
    "    ARGS:\n",
    "    -probs: clicked docs x rankers matrix with probabilities ranker added clicked doc  (use probability_of_list)\n",
    "    -n_samples: number of samples to base preference matrix on\n",
    "    RETURNS:\n",
    "    - preference matrix: matrix (rankers x rankers) in this matrix [x,y] > 0 means x won over y and [x,y] < 0 means x lost from y\n",
    "      the value is analogous to the (average) degree of preference\n",
    "    '''\n",
    "    n_samples = 10\n",
    "    n_clicks = probs.shape[0]\n",
    "    n_rankers = probs.shape[1]\n",
    "    \n",
    "    # YOUR CODE HERE\n",
    "   \n",
    "    docs = np.arange(n_clicks)\n",
    "\n",
    "    rankers=np.zeros(n_rankers)\n",
    "    output=np.zeros((n_rankers, n_rankers))\n",
    "    #print(output)\n",
    "    \n",
    "    for sample in range(n_samples): # Generate 10 random \n",
    "        rankers=np.zeros(n_rankers)\n",
    "        pref_matrix=np.zeros((n_rankers, n_rankers))\n",
    "        #print(\"pref_matrix00=\\n\", pref_matrix)\n",
    "        \n",
    "        for doc in range(n_clicks):\n",
    "            ranker = int(np.random.choice(n_rankers, 1, p=probs[doc])[0]) #Pick ranker according to prob. distr.\n",
    "            #NOTE: ranker 1=0, 2=1, 3=2\n",
    "            rankers[ranker] += 1\n",
    "#             print(\"rankers= \", rankers)\n",
    "\n",
    "        rankers /= 4 # Marginalize \n",
    "    \n",
    "        for x in range(n_rankers): #Create preference_matrix\n",
    "            for y in range(n_rankers):\n",
    "                if rankers[x] > rankers[y]: \n",
    "                    pref_matrix[x,y] = rankers[x]\n",
    "                elif rankers[x] < rankers[y]: \n",
    "                    pref_matrix[x,y] = -rankers[x]\n",
    "                else: \n",
    "                    pref_matrix[x,y] = 0\n",
    "#         print(rankers)\n",
    "#         print(\"pref_matrix = \\n\", pref_matrix)\n",
    "        output += pref_matrix # Add intermediate pref-matrices to ouptut\n",
    "        #print(\"output = \\n\",output)\n",
    "    \n",
    "    output /= n_samples # Marginalize output\n",
    "    #print(output)\n",
    "    return output\n",
    "    \n",
    "    #raise NotImplementedError()\n",
    "\n",
    "def infer_preferences(inverted_rankings, result_list, clicked_docs):\n",
    "    n_rankers = inverted_rankings.shape[0]\n",
    "    if np.any(clicked_docs):\n",
    "        return preferences_of_list(probability_of_list(result_list,\n",
    "                                        inverted_rankings,\n",
    "                                        clicked_docs))\n",
    "    else:\n",
    "        return np.zeros((n_rankers, n_rankers))\n"
   ]
  },
  {
   "cell_type": "code",
   "execution_count": 78,
   "metadata": {
    "deletable": false,
    "editable": false,
    "nbgrader": {
     "cell_type": "code",
     "checksum": "c2342811f833dbdbc29a5f7f5725b576",
     "grade": false,
     "grade_id": "cell-9598544608fbcde8",
     "locked": true,
     "schema_version": 3,
     "solution": false,
     "task": false
    }
   },
   "outputs": [
    {
     "name": "stdout",
     "output_type": "stream",
     "text": [
      "[[ 0.    -0.1   -0.125]\n",
      " [ 0.225  0.     0.075]\n",
      " [ 0.3    0.225  0.   ]]\n"
     ]
    }
   ],
   "source": [
    "print(preferences_of_list(probabilities))"
   ]
  },
  {
   "cell_type": "code",
   "execution_count": 79,
   "metadata": {
    "deletable": false,
    "nbgrader": {
     "cell_type": "code",
     "checksum": "e79d7a1992af19a5fcd6711ece693800",
     "grade": true,
     "grade_id": "cell-601defbd1e14a840",
     "locked": false,
     "points": 10,
     "schema_version": 3,
     "solution": true,
     "task": false
    }
   },
   "outputs": [],
   "source": [
    "# YOUR CODE HERE\n",
    "#raise NotImplementedError()"
   ]
  },
  {
   "cell_type": "markdown",
   "metadata": {
    "deletable": false,
    "editable": false,
    "nbgrader": {
     "cell_type": "markdown",
     "checksum": "0360fb3c0a060e97efd327ec0cc79468",
     "grade": false,
     "grade_id": "cell-766b24e1ede46a8c",
     "locked": true,
     "schema_version": 3,
     "solution": false,
     "task": false
    }
   },
   "source": [
    "Now we can simulate the multileaving to see how our target rankers are evaluated by it."
   ]
  },
  {
   "cell_type": "code",
   "execution_count": 80,
   "metadata": {
    "deletable": false,
    "editable": false,
    "nbgrader": {
     "cell_type": "code",
     "checksum": "2d071088604059a588482912e2a0dfd2",
     "grade": false,
     "grade_id": "cell-45aaaa7c7a055fed",
     "locked": true,
     "schema_version": 3,
     "solution": false,
     "task": false
    }
   },
   "outputs": [],
   "source": [
    "def simulate_multileaving(n_impressions, topk):\n",
    "    n_samples = 10\n",
    "    impressions = 0\n",
    "    pref_update = 0\n",
    "    total_pref = np.zeros((3, 3))\n",
    "    for step_i in range(n_impressions):\n",
    "        qid = np.random.randint(0, data.test.doclist_ranges.shape[0] - 1)\n",
    "\n",
    "        start_i = data.test.doclist_ranges[qid]\n",
    "        end_i = data.test.doclist_ranges[qid + 1]\n",
    "        n_query_docs = end_i - start_i\n",
    "        query_labels = data.test.label_vector[start_i:end_i]\n",
    "\n",
    "        inverted_rankings = invert_rankings(get_ranking_matrix(qid, topk))\n",
    "        multileaving = make_multileaving(inverted_rankings, topk)\n",
    "\n",
    "        cur_clicks = generate_clicks(multileaving, query_labels)\n",
    "\n",
    "        if np.any(cur_clicks):\n",
    "            pref = infer_preferences(inverted_rankings, multileaving, cur_clicks)\n",
    "            total_pref += pref\n",
    "            pref_update += 1\n",
    "    return total_pref / pref_update\n"
   ]
  },
  {
   "cell_type": "code",
   "execution_count": 81,
   "metadata": {
    "deletable": false,
    "editable": false,
    "nbgrader": {
     "cell_type": "code",
     "checksum": "95b61f7faa7cb7febe3d00fb66d0cda3",
     "grade": false,
     "grade_id": "cell-eae8a938c37a37f1",
     "locked": true,
     "schema_version": 3,
     "solution": false,
     "task": false
    }
   },
   "outputs": [
    {
     "data": {
      "text/plain": [
       "array([[0.        , 0.09762361, 0.09805014],\n",
       "       [0.08803969, 0.        , 0.09199164],\n",
       "       [0.09174791, 0.09440286, 0.        ]])"
      ]
     },
     "execution_count": 81,
     "metadata": {},
     "output_type": "execute_result"
    }
   ],
   "source": [
    "simulate_multileaving(10000, 20)"
   ]
  },
  {
   "cell_type": "markdown",
   "metadata": {
    "deletable": false,
    "editable": false,
    "nbgrader": {
     "cell_type": "markdown",
     "checksum": "29bb96f857fa7ae1dc2d816a1b888d7b",
     "grade": false,
     "grade_id": "cell-04ee05c85dd0304d",
     "locked": true,
     "schema_version": 3,
     "solution": false,
     "task": false
    }
   },
   "source": [
    "### Section 3.4: Analysis (40 points)\n",
    "\n",
    "Analyze the behavior of your multileaving implementation by testing it with two different `topk` values: $[5,20]$ and with different number of evaluation clicks: $[2000, 10000, 50000]$.\n",
    "\n",
    "Put the preference of the unbiased method over the biased method (i.e. `pref[2,1]` in the matrix output of `simulate_multileaving` function) for these experiments in a table.\n",
    "\n",
    "**Rubric:**\n",
    "- Six experiments: 12 points\n",
    "- Analysis of the observations: 28 points"
   ]
  },
  {
   "cell_type": "code",
   "execution_count": 82,
   "metadata": {
    "deletable": false,
    "nbgrader": {
     "cell_type": "code",
     "checksum": "fd41d14078b1ad160c02cf690c45e55f",
     "grade": true,
     "grade_id": "cell-d88f4eb3035e6fbb",
     "locked": false,
     "points": 40,
     "schema_version": 3,
     "solution": true,
     "task": false
    }
   },
   "outputs": [],
   "source": [
    "# YOUR CODE HERE\n",
    "#raise NotImplementedError()\n",
    "topk = [5,20]\n",
    "clicks = [2000,10000,50000]\n",
    "\n",
    "output = np.zeros((2,3))\n",
    "\n",
    "# for i, k in enumerate(topk):\n",
    "#     for j, click in enumerate(clicks):        \n",
    "#         # Code from earlier immutible cell, k was set to 20 there (and biased/unbiased are necessary for get_ranking_matrix)\n",
    "#         #test_clicks = simulate_clicks(data, 'test', click_count = 0)         #\n",
    "#         biased_predictions = get_predictions(biased_net, test_clicks, k)     #\n",
    "#         unbiased_prediction = get_predictions(unbiased_net, test_clicks, k)  #\n",
    "        \n",
    "#         back = simulate_multileaving(click, k)\n",
    "#         output[i, j] = back[2,1]\n",
    "        \n",
    "# print(output)\n"
   ]
  },
  {
   "cell_type": "markdown",
   "metadata": {},
   "source": [
    "|    K \\ clicks   || 2000| 10.000 | 50.000 |\n",
    "|:------------:||:----------:|:-----------:|:--------:|\n",
    "| 5 ||           0.09787736 |            0.09047894 |         0.09121528 |\n",
    "| 20 ||           0.09 |            0.09312776 |         0.09406573 |\n"
   ]
  },
  {
   "cell_type": "markdown",
   "metadata": {},
   "source": [
    "What we see is that the unbiased method is always preferred over the biased method, with scores of around 0.1. The unbiased methods thus supplied the document in the rankings around 10% more than the biased method. When looking only at the top 5 we see that performance is highest for the smallest amount of clicks, whereas it seems to stabilize around a score of 0.09 later. When looking at the top 10 clicks we see a graduate increase in performance, with the last two (10.000 and 50.000 clicks) outperforming the scores for the top 5. Noticable is that the highest score for k=20 is still lower than the highest for k=5. Since k=5 is such a small ranking there is more variance, which explains the high score for k=5 an 2000 clicks (this was not always the case). In the top-20 there is less room for variance, and here we also see steady growing numbers. As this was content was taught to us with examples of a million clicks, we estimate that this line of growth could continue for more clicks"
   ]
  }
 ],
 "metadata": {
  "kernelspec": {
   "display_name": "Python 3",
   "language": "python",
   "name": "python3"
  },
  "language_info": {
   "codemirror_mode": {
    "name": "ipython",
    "version": 3
   },
   "file_extension": ".py",
   "mimetype": "text/x-python",
   "name": "python",
   "nbconvert_exporter": "python",
   "pygments_lexer": "ipython3",
   "version": "3.9.1"
  },
  "toc": {
   "base_numbering": "",
   "nav_menu": {},
   "number_sections": false,
   "sideBar": true,
   "skip_h1_title": false,
   "title_cell": "Table of Contents",
   "title_sidebar": "Contents",
   "toc_cell": false,
   "toc_position": {
    "height": "calc(100% - 180px)",
    "left": "10px",
    "top": "150px",
    "width": "280px"
   },
   "toc_section_display": true,
   "toc_window_display": true
  }
 },
 "nbformat": 4,
 "nbformat_minor": 4
}
