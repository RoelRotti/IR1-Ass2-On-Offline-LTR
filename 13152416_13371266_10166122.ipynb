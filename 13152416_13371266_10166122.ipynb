{
 "cells": [
  {
   "cell_type": "markdown",
   "metadata": {
    "deletable": false,
    "editable": false,
    "nbgrader": {
     "cell_type": "markdown",
     "checksum": "549d14426afb2109edb71ef6e0223d5b",
     "grade": false,
     "grade_id": "cell-133a4667b3e842fd",
     "locked": true,
     "schema_version": 3,
     "solution": false,
     "task": false
    }
   },
   "source": [
    "# Homework 2: Learning to Rank <a class=\"anchor\" id=\"toptop\"></a>"
   ]
  },
  {
   "cell_type": "markdown",
   "metadata": {
    "deletable": false,
    "editable": false,
    "nbgrader": {
     "cell_type": "markdown",
     "checksum": "188d0bd6218df31e0a8795322a1b9912",
     "grade": false,
     "grade_id": "cell-9409dd22f820096c",
     "locked": true,
     "schema_version": 3,
     "solution": false,
     "task": false
    }
   },
   "source": [
    "**Submission instructions**:\n",
    "- Only the code `TODO: Implement this!` denotes that these sections are graded. Please do not delete the comment #YOUR CODE HERE.\n",
    "- Vectoriize your code instead of using for-loop when implementing Neural Nets.\n",
    "- The notebook you submit has to have the student ids, separated by underscores (E.g., `12341234_12341234_12341234.ipynb`). \n",
    "- This will be parsed by a regexp, so please double check your filename.\n",
    "- Only one member of each group has to submit the file to canvas.\n",
    "- Make sure to check that your notebook runs before submission. A quick way to do this is to restart the kernel and run all the cells.  \n",
    "- Please do not delete/add new cells. Removing cells can lead to grade deduction. Also do not change the number of parameters in the pre-defined functions.\n",
    "- Note, that you are not allowed to use Google Colab.\n",
    "\n",
    "**Learning Goals**:\n",
    "- Part 1: Offline LTR\n",
    "  - Learn how to implement pointwise, pairwise and listwise algorithms for learning to rank \n",
    "- Part 2: Online LTR\n",
    "  - Implement learning to rank algorithms from historical clicks and online evaluation of ranking algorithms.\n",
    "- Learn their weaknesses & strengths and when each method is suitable. \n",
    "\n",
    "\n",
    "\n",
    "**Files to submit along with the completed notebook**:\n",
    "- `pointwise_regression.json`\n",
    "- `pointwise_classification.json`\n",
    "- `pairwise.json`\n",
    "- `listwise.json`\n",
    "- `biased_model.json'\n",
    "- `unbiased_model.json'\n",
    "\n",
    "\n",
    "---\n",
    "**Recommended Reading**:\n",
    "- Part 1:\n",
    "  - Chris Burges, Tal Shaked, Erin Renshaw, Ari Lazier, Matt Deeds, Nicole Hamilton, and Greg Hullender. Learning to rank using gradient descent. InProceedings of the 22nd international conference on Machine learning, pages 89–96, 2005.\n",
    "  - Christopher J Burges, Robert Ragno, and Quoc V Le. Learning to rank with nonsmooth cost functions. In Advances inneural information processing systems, pages 193–200, 2007\n",
    "  - (Sections 1, 2 and 4) Christopher JC Burges. From ranknet to lambdarank to lambdamart: An overview. Learning, 11(23-581):81, 2010\n",
    "  \n",
    "\n",
    "Additional Resources: \n",
    "- This assignment requires knowledge of [PyTorch](https://pytorch.org/). If you are unfamiliar with PyTorch, you can go over [these series of tutorials](https://pytorch.org/tutorials/beginner/deep_learning_60min_blitz.html)\n",
    "\n",
    "In the previous assignment, you experimented with retrieval with different ranking functions and in addition, different document representations. \n",
    "\n",
    "This assignment deals directly with learning to rank (LTR). In offline LTR (Part 1), You will learn how to implement methods from the three approaches associated with learning to rank: pointwise, pairwise and listwise. \n",
    "\n",
    "In Part 2, you will learn about online LTR. Instead of using manually judged datasets, in online LTR, we learn from user interactions. You will learn how to simulate clicks using click models, how to learn unbiasedly from historical clicks and how to evaluate different rankers in an online environment using multileaving methods. \n",
    "\n",
    "**Note:**\n",
    "  - The dataset used in this assignment is +100Mb in size. You may need around 2Gb of RAM for running the whole notebook.\n"
   ]
  },
  {
   "cell_type": "markdown",
   "metadata": {
    "deletable": false,
    "editable": false,
    "nbgrader": {
     "cell_type": "markdown",
     "checksum": "2a595c150f39970fb6ad72e463fe8b44",
     "grade": false,
     "grade_id": "cell-09127508ac207429",
     "locked": true,
     "schema_version": 3,
     "solution": false,
     "task": false
    }
   },
   "source": [
    "# Table of Contents  <a class=\"anchor\" id=\"top\"></a>\n",
    "\n",
    "[Back to top](#toptop)\n",
    "\n",
    "\n",
    "Table of contents:\n",
    "\n",
    "\n",
    " - [Chapter 1: Offline LTR](#o_LTR) (345 points)\n",
    "     - [Section 1: Dataset and Utility](#dataU) \n",
    "     - [Section 2: Pointwtise LTR](#pointwiseLTR) (55 points)\n",
    "     - [Section 3: Pairwise LTR](#pairwiseLTR) (60 points)\n",
    "     - [Section 4: Pairwise Speed-up RankNet](#SpairwiseLTR) (70 points)\n",
    "     - [Section 5: Listwise LTR](#listwiseLTR) (80 points)\n",
    "     - [Section 6: Evaluation](#evaluation1) (70 points)\n",
    " - [Chapter 2: Online LTR](#onLTR) (180 points)\n",
    "     - [Section 1: Clicks Simulation](#clicks) (15 points)\n",
    "     - [Section 2: Counterfactual](#cLTR) (90 points)\n",
    "     - [Section 3: Online Evaluation](#on_eval) (75 points)"
   ]
  },
  {
   "cell_type": "code",
   "execution_count": 1,
   "metadata": {
    "deletable": false,
    "editable": false,
    "nbgrader": {
     "cell_type": "code",
     "checksum": "7be29958190a403c77402e97c21c5252",
     "grade": false,
     "grade_id": "cell-b08a635cb01047dd",
     "locked": true,
     "schema_version": 3,
     "solution": false,
     "task": false
    }
   },
   "outputs": [],
   "source": [
    "import os\n",
    "import json\n",
    "import itertools\n",
    "from argparse import Namespace\n",
    "from collections import OrderedDict\n",
    "from functools import partial\n",
    "\n",
    "\n",
    "import torch\n",
    "import numpy as np\n",
    "from torch import nn\n",
    "from torch.optim import Adam\n",
    "import torch.nn.functional as F\n",
    "from tqdm.notebook import tqdm, trange\n",
    "from torch.utils.data import Dataset, DataLoader\n",
    "\n",
    "\n",
    "import matplotlib.pyplot as plt\n",
    "from matplotlib.pyplot import cm\n",
    "\n",
    "import pandas as pd\n",
    "\n",
    "import dataset\n",
    "import evaluate\n"
   ]
  },
  {
   "cell_type": "markdown",
   "metadata": {
    "deletable": false,
    "editable": false,
    "nbgrader": {
     "cell_type": "markdown",
     "checksum": "8f126271fe03e0c82c752179a1293748",
     "grade": false,
     "grade_id": "cell-ef602d983baa9d90",
     "locked": true,
     "schema_version": 3,
     "solution": false,
     "task": false
    }
   },
   "source": [
    "# Chapter 1: Offline LTR <a class=\"anchor\" id=\"o_LTR\"></a>"
   ]
  },
  {
   "cell_type": "markdown",
   "metadata": {
    "deletable": false,
    "editable": false,
    "nbgrader": {
     "cell_type": "markdown",
     "checksum": "83d5c5098ff7e903a1d4475f78d028be",
     "grade": false,
     "grade_id": "cell-9978e0796016b961",
     "locked": true,
     "schema_version": 3,
     "solution": false,
     "task": false
    }
   },
   "source": [
    "A typical setup of learning to rank involves a feature vector constructed using a query-document pair, and a set of relevance judgements. You are given a set of triples (`query`, `document`, `relevance grade`); where relevance grade is an *ordinal* variable  with  5  grades,  for example: {`perfect`,`excellent`,`good`,`fair`,`bad`),  typically  labeled  by human annotators.  \n",
    "\n",
    "In this assignment, you are already given the feature vector for a given document and query pair. To access these vectors, see the following code cells (note: the dataset will be automatically downloaded & the first time the next cell runs, it will take a while!)"
   ]
  },
  {
   "cell_type": "markdown",
   "metadata": {
    "deletable": false,
    "editable": false,
    "nbgrader": {
     "cell_type": "markdown",
     "checksum": "62aa687b659ad249d6b6190d4b1f7d9e",
     "grade": false,
     "grade_id": "cell-d60b3e2cd8d41210",
     "locked": true,
     "schema_version": 3,
     "solution": false,
     "task": false
    }
   },
   "source": [
    "## Section 1: Data and Utility <a class=\"anchor\" id=\"dataU\"></a>\n",
    "\n",
    "[Back to TOC](#top)\n",
    "\n",
    "First let's get familiar with the dataset and some utility methods for our implementations.\n",
    "\n",
    "### Section 1.1 Dataset stats\n",
    "\n",
    "| Split Name | \\# queries | \\# docs | \\# features |\n",
    "| :- | :--: | :--: | :--: |\n",
    "| train | 2735 | 85227 | 501 |\n",
    "| validation | 403 | 12794 | 501 |\n",
    "| test | 949 | 29881 | 501 |\n"
   ]
  },
  {
   "cell_type": "code",
   "execution_count": 2,
   "metadata": {
    "deletable": false,
    "editable": false,
    "nbgrader": {
     "cell_type": "code",
     "checksum": "e11c95b755f0b252276313365c6ff290",
     "grade": false,
     "grade_id": "cell-d4779843ecb42649",
     "locked": true,
     "schema_version": 3,
     "solution": false,
     "task": false
    }
   },
   "outputs": [],
   "source": [
    "dataset.download_dataset()\n",
    "data = dataset.get_dataset()\n",
    "# there is only 1 fold for this dataset \n",
    "data = data.get_data_folds()[0]\n",
    "# read in the data\n",
    "data.read_data()"
   ]
  },
  {
   "cell_type": "code",
   "execution_count": 3,
   "metadata": {
    "deletable": false,
    "editable": false,
    "nbgrader": {
     "cell_type": "code",
     "checksum": "8008b140d6012489be5056ec30e90444",
     "grade": false,
     "grade_id": "cell-2a79356db5683374",
     "locked": true,
     "schema_version": 3,
     "solution": false,
     "task": false
    }
   },
   "outputs": [
    {
     "name": "stdout",
     "output_type": "stream",
     "text": [
      "Number of features: 501\n",
      "Split: train\n",
      "\tNumber of queries 2735\n",
      "\tNumber of docs 85227\n",
      "Split: validation\n",
      "\tNumber of queries 403\n",
      "\tNumber of docs 12794\n",
      "Split: test\n",
      "\tNumber of queries 949\n",
      "\tNumber of docs 29881\n"
     ]
    }
   ],
   "source": [
    "print(f\"Number of features: {data.num_features}\")\n",
    "# print some statistics\n",
    "for split in [\"train\", \"validation\", \"test\"]:\n",
    "    print(f\"Split: {split}\")\n",
    "    split = getattr(data, split)\n",
    "    print(f\"\\tNumber of queries {split.num_queries()}\")\n",
    "    print(f\"\\tNumber of docs {split.num_docs()}\")"
   ]
  },
  {
   "cell_type": "markdown",
   "metadata": {
    "deletable": false,
    "editable": false,
    "nbgrader": {
     "cell_type": "markdown",
     "checksum": "70b764af87765e64827eb896b0ad8643",
     "grade": false,
     "grade_id": "cell-5b034476f52f28bb",
     "locked": true,
     "schema_version": 3,
     "solution": false,
     "task": false
    }
   },
   "source": [
    "### Section 1.2 Utility classes/methods\n",
    "\n",
    "The following cells contain code that will be useful for the assigment. "
   ]
  },
  {
   "cell_type": "code",
   "execution_count": 4,
   "metadata": {
    "deletable": false,
    "editable": false,
    "nbgrader": {
     "cell_type": "code",
     "checksum": "cb52800727e7a5fe81c92706c34e6471",
     "grade": false,
     "grade_id": "cell-4ad2f0d8e4f66d37",
     "locked": true,
     "schema_version": 3,
     "solution": false,
     "task": false
    }
   },
   "outputs": [],
   "source": [
    "# these is a useful class to create torch DataLoaders, and can be used during training\n",
    "class LTRData(Dataset):\n",
    "    def __init__(self, data, split):\n",
    "        split = {\n",
    "            \"train\": data.train,\n",
    "            \"validation\": data.validation,\n",
    "            \"test\": data.test\n",
    "        }.get(split)\n",
    "        assert split is not None, \"Invalid split!\"\n",
    "        features, labels = split.feature_matrix, split.label_vector\n",
    "        self.features = torch.FloatTensor(features)\n",
    "        self.labels = torch.FloatTensor(labels)\n",
    "    \n",
    "    def __len__(self):\n",
    "        return self.features.size(0)\n",
    "\n",
    "    def __getitem__(self, i):\n",
    "        return self.features[i], self.labels[i]"
   ]
  },
  {
   "cell_type": "code",
   "execution_count": 5,
   "metadata": {
    "deletable": false,
    "editable": false,
    "nbgrader": {
     "cell_type": "code",
     "checksum": "61170cd9d5a02b3f9e23364bf7d46c95",
     "grade": false,
     "grade_id": "cell-6be5d30fd0264dc3",
     "locked": true,
     "schema_version": 3,
     "solution": false,
     "task": false
    }
   },
   "outputs": [
    {
     "name": "stdout",
     "output_type": "stream",
     "text": [
      "torch.Size([32, 501]) torch.Size([32])\n"
     ]
    }
   ],
   "source": [
    "## example \n",
    "train_dl = DataLoader(LTRData(data, \"train\"), batch_size=32, shuffle=True)\n",
    "# this is how you would use it to quickly iterate over the train/val/test sets \n",
    "# - (of course, without the break statement!)\n",
    "for (x, y) in train_dl:\n",
    "    print(x.size(), y.size())\n",
    "    break"
   ]
  },
  {
   "cell_type": "markdown",
   "metadata": {
    "deletable": false,
    "editable": false,
    "nbgrader": {
     "cell_type": "markdown",
     "checksum": "50bdb8c74b13357983e5f5f435b70115",
     "grade": false,
     "grade_id": "cell-a79c0f58db4af010",
     "locked": true,
     "schema_version": 3,
     "solution": false,
     "task": false
    }
   },
   "source": [
    "`evaluate_model` evaluates a model, on a given split."
   ]
  },
  {
   "cell_type": "code",
   "execution_count": 6,
   "metadata": {
    "deletable": false,
    "editable": false,
    "nbgrader": {
     "cell_type": "code",
     "checksum": "7ca1e81dd1f55111cda0a04093fd223b",
     "grade": false,
     "grade_id": "cell-b66759e20b89e0b5",
     "locked": true,
     "schema_version": 3,
     "solution": false,
     "task": false
    }
   },
   "outputs": [],
   "source": [
    "# this function evaluates a model, on a given split\n",
    "def evaluate_model(pred_fn, split, batch_size=256, print_results=False, q_level=False):\n",
    "    dl = DataLoader(LTRData(data, split), batch_size=batch_size)\n",
    "    all_scores = []\n",
    "    all_labels = []\n",
    "    for (x, y) in tqdm(dl, desc=f'Eval ({split})', leave=False):\n",
    "        all_labels.append(y.squeeze().numpy())\n",
    "        \n",
    "        with torch.no_grad():\n",
    "            output = pred_fn(x)\n",
    "            all_scores.append(output.squeeze().numpy())\n",
    "            \n",
    "    split = {\n",
    "            \"train\": data.train,\n",
    "            \"validation\": data.validation,\n",
    "            \"test\": data.test\n",
    "    }.get(split)   \n",
    "    results = evaluate.evaluate2(np.asarray(all_scores), np.asarray(all_labels), print_results=print_results, q_level=q_level)\n",
    "\n",
    "    return results\n"
   ]
  },
  {
   "cell_type": "code",
   "execution_count": 7,
   "metadata": {
    "deletable": false,
    "editable": false,
    "nbgrader": {
     "cell_type": "code",
     "checksum": "c605f95e2cd732774f1813a69bb8c3fc",
     "grade": false,
     "grade_id": "cell-66bc9b1a832d14d0",
     "locked": true,
     "schema_version": 3,
     "solution": false,
     "task": false
    }
   },
   "outputs": [
    {
     "data": {
      "application/vnd.jupyter.widget-view+json": {
       "model_id": "",
       "version_major": 2,
       "version_minor": 0
      },
      "text/plain": [
       "Eval (validation):   0%|          | 0/50 [00:00<?, ?it/s]"
      ]
     },
     "metadata": {},
     "output_type": "display_data"
    },
    {
     "name": "stdout",
     "output_type": "stream",
     "text": [
      "\"metric\": \"mean\" (\"standard deviation\")\n",
      "dcg: 90.4345 (20.60099)\n",
      "dcg@03: 7.4730 (4.77424)\n",
      "dcg@05: 10.0564 (5.19675)\n",
      "dcg@10: 15.1249 (5.73237)\n",
      "dcg@20: 22.5789 (7.89247)\n",
      "ndcg: 0.7302 (0.05610)\n",
      "ndcg@03: 0.2728 (0.17588)\n",
      "ndcg@05: 0.2787 (0.14980)\n",
      "ndcg@10: 0.3050 (0.12341)\n",
      "ndcg@20: 0.3425 (0.11325)\n",
      "precision@01: 0.2400 (0.42708)\n",
      "precision@03: 0.2000 (0.23094)\n",
      "precision@05: 0.1960 (0.19387)\n",
      "precision@10: 0.1960 (0.14136)\n",
      "precision@20: 0.1810 (0.12526)\n",
      "recall@01: 0.0145 (0.02880)\n",
      "recall@03: 0.0282 (0.03335)\n",
      "recall@05: 0.0458 (0.05149)\n",
      "recall@10: 0.0902 (0.07572)\n",
      "recall@20: 0.1620 (0.11029)\n",
      "relevant rank: 95.5453 (69.25166)\n",
      "relevant rank per query: 2256.7800 (1205.27577)\n"
     ]
    },
    {
     "name": "stderr",
     "output_type": "stream",
     "text": [
      "/usr/local/Cellar/jupyterlab/3.0.8/libexec/lib/python3.9/site-packages/numpy/core/_asarray.py:102: VisibleDeprecationWarning: Creating an ndarray from ragged nested sequences (which is a list-or-tuple of lists-or-tuples-or ndarrays with different lengths or shapes) is deprecated. If you meant to do this, you must specify 'dtype=object' when creating the ndarray.\n",
      "  return array(a, dtype, copy=False, order=order)\n"
     ]
    }
   ],
   "source": [
    "## example \n",
    "# function that scores a given feature vector e.g a network\n",
    "net = nn.Linear(501, 1)\n",
    "# the evaluate method accepts a function. more specifically, a callable (such as pytorch modules) \n",
    "def notwork(x):\n",
    "    return net(x)\n",
    "# evaluate the function\n",
    "_ = evaluate_model(notwork, \"validation\", print_results=True)"
   ]
  },
  {
   "cell_type": "markdown",
   "metadata": {
    "deletable": false,
    "editable": false,
    "nbgrader": {
     "cell_type": "markdown",
     "checksum": "f71c11c5be87af7e7109a463a1e24c6c",
     "grade": false,
     "grade_id": "cell-66ae15ed8cb736b5",
     "locked": true,
     "schema_version": 3,
     "solution": false,
     "task": false
    }
   },
   "source": [
    "The next cell is used to generate reproducible results:"
   ]
  },
  {
   "cell_type": "code",
   "execution_count": 8,
   "metadata": {
    "deletable": false,
    "editable": false,
    "nbgrader": {
     "cell_type": "code",
     "checksum": "d81a93ddde3c0ae3be42eba5a6ba025d",
     "grade": false,
     "grade_id": "cell-df3d4a5ebf6dece6",
     "locked": true,
     "schema_version": 3,
     "solution": false,
     "task": false
    }
   },
   "outputs": [],
   "source": [
    "# use to get reproducible results\n",
    "def seed(random_seed):\n",
    "    import random\n",
    "    torch.manual_seed(random_seed)\n",
    "    torch.backends.cudnn.deterministic = True\n",
    "    torch.backends.cudnn.benchmark = False\n",
    "    np.random.seed(random_seed)\n",
    "    random.seed(random_seed)\n",
    "    "
   ]
  },
  {
   "cell_type": "markdown",
   "metadata": {
    "deletable": false,
    "editable": false,
    "nbgrader": {
     "cell_type": "markdown",
     "checksum": "acd2f7fa9d402a7704d9f7f5fc1c2c89",
     "grade": false,
     "grade_id": "cell-a29483034efce729",
     "locked": true,
     "schema_version": 3,
     "solution": false,
     "task": false
    }
   },
   "source": [
    "## Section 2: Pointwise LTR (55 points) <a class=\"anchor\" id=\"pointwiseLTR\"></a>\n",
    "\n",
    "[Back to TOC](#top)\n",
    "\n",
    "Let $x \\in \\mathbb{R}^d$ be an input feature vector, containing features for a query-document pair. Let $f: \\mathbb{R}^d \\rightarrow \\mathbb{R} $ be a function that maps this feature vector to a number $f(x)$ - either a relevance score (regression) or label (classification). The data $\\{x \\}$ are treated as feature vectors and the relevance judgements are treated as the target which we want to predict. \n",
    "\n",
    "In this section, you will implement a simple Pointwise model using either a regression or classification loss, and use the train set to train this model to predict (or classify) the relevance score. \n"
   ]
  },
  {
   "cell_type": "markdown",
   "metadata": {
    "deletable": false,
    "editable": false,
    "nbgrader": {
     "cell_type": "markdown",
     "checksum": "a0f5f848b2a3509141e384bd4d101923",
     "grade": false,
     "grade_id": "cell-fdcb0b1bd78f6eda",
     "locked": true,
     "schema_version": 3,
     "solution": false,
     "task": false
    }
   },
   "source": [
    "### Section 2.1: Neural Model (5 points)\n",
    "\n",
    "In the following cell, you will implement a simple pointwise LTR model: \n",
    "- Use a neural network to learn a Pointwise model using both a regression and a classification loss, using the relevance grades as the label. Use the following parameters: \n",
    "  - Layers: $501 (input) \\rightarrow 256 \\rightarrow o$ where $o$ is either 5 for classification or 1 for regression, where each layer is a linear layer (`nn.Linear`) with a ReLu activation function (`nn.ReLU`) in between the layers. Use the default weight initialization scheme. (Hint: use `nn.Sequential` for a one-line forward function!)\n",
    "  - Note: Do not use a `nn.Softmax` function here - it will be taken care of later!\n",
    "  - This network will also be used by other methods i.e Pairwise \n"
   ]
  },
  {
   "cell_type": "code",
   "execution_count": 9,
   "metadata": {
    "deletable": false,
    "nbgrader": {
     "cell_type": "code",
     "checksum": "cbaeb826028de6d6d7429ee18c90f455",
     "grade": false,
     "grade_id": "cell-e6ebad1d98f78bf0",
     "locked": false,
     "schema_version": 3,
     "solution": true,
     "task": false
    }
   },
   "outputs": [],
   "source": [
    "# TODO: Implement this! (5 points)\n",
    "class NeuralModule(nn.Module):\n",
    "    def __init__(self, output_dim):\n",
    "        \"\"\"\n",
    "        Initializes the Pointwise neural network. \n",
    "        Input: output_dim: The dimension of the output layer. In this assignment, \n",
    "                it is either 1 (regression) or 5 (classification)\n",
    "        \"\"\"\n",
    "        # YOUR CODE HERE\n",
    "        super().__init__()\n",
    "        self.output_dim = output_dim\n",
    "        self.model = nn.Sequential(\n",
    "            nn.Linear(in_features=501, out_features=256),\n",
    "            nn.ReLU(),\n",
    "            nn.Linear(in_features=256, out_features=self.output_dim))\n",
    "    \n",
    "    def forward(self, x):\n",
    "        \"\"\"\n",
    "        Takes in an input feature vector (of size 501) and produces the (regression/classification) output \n",
    "        Input: x: a [N, 501] tensor\n",
    "        Output: a [N, output_dim] tensor\n",
    "        \"\"\"\n",
    "        # YOUR CODE HERE\n",
    "        return self.model(x)"
   ]
  },
  {
   "cell_type": "code",
   "execution_count": 10,
   "metadata": {
    "deletable": false,
    "editable": false,
    "nbgrader": {
     "cell_type": "code",
     "checksum": "eebff5ba2f470a05674e79514a6ba7bc",
     "grade": false,
     "grade_id": "cell-2326178594a8f44c",
     "locked": true,
     "schema_version": 3,
     "solution": false,
     "task": false
    }
   },
   "outputs": [],
   "source": [
    "point_nn_clf = NeuralModule(5)\n",
    "point_nn_reg = NeuralModule(1)"
   ]
  },
  {
   "cell_type": "code",
   "execution_count": 11,
   "metadata": {
    "deletable": false,
    "nbgrader": {
     "cell_type": "code",
     "checksum": "958fde08e4a9f04e633dc82bc85082dd",
     "grade": true,
     "grade_id": "cell-917f63ec6b575f59",
     "locked": false,
     "points": 3,
     "schema_version": 3,
     "solution": true,
     "task": false
    }
   },
   "outputs": [
    {
     "name": "stdout",
     "output_type": "stream",
     "text": [
      "NeuralModule(\n",
      "  (model): Sequential(\n",
      "    (0): Linear(in_features=501, out_features=256, bias=True)\n",
      "    (1): ReLU()\n",
      "    (2): Linear(in_features=256, out_features=5, bias=True)\n",
      "  )\n",
      ")\n",
      "NeuralModule(\n",
      "  (model): Sequential(\n",
      "    (0): Linear(in_features=501, out_features=256, bias=True)\n",
      "    (1): ReLU()\n",
      "    (2): Linear(in_features=256, out_features=1, bias=True)\n",
      "  )\n",
      ")\n"
     ]
    }
   ],
   "source": [
    "# YOUR CODE HERE\n",
    "print(point_nn_clf)\n",
    "print(point_nn_reg)"
   ]
  },
  {
   "cell_type": "code",
   "execution_count": 12,
   "metadata": {
    "deletable": false,
    "editable": false,
    "nbgrader": {
     "cell_type": "code",
     "checksum": "73bba77f886ccd469eb1b3c4370c830f",
     "grade": true,
     "grade_id": "cell-bd3bbcd6d22aa9b2",
     "locked": true,
     "points": 1,
     "schema_version": 3,
     "solution": false,
     "task": false
    }
   },
   "outputs": [],
   "source": [
    "# test the forward function\n",
    "n = 10\n",
    "inp = torch.rand(n, data.num_features)\n",
    "out = point_nn_clf(inp)\n",
    "### BEGIN HIDDEN TEST\n",
    "n = 20\n",
    "inp = torch.rand(n, data.num_features)\n",
    "out = point_nn_clf(inp)\n",
    "assert out.size(0) == n\n",
    "assert out.size(1) == 5\n",
    "### END HIDDEN TEST"
   ]
  },
  {
   "cell_type": "code",
   "execution_count": 13,
   "metadata": {
    "deletable": false,
    "editable": false,
    "nbgrader": {
     "cell_type": "code",
     "checksum": "5dfa481e9b325b14fdb26e39618d6169",
     "grade": true,
     "grade_id": "cell-1d92c755e64de89f",
     "locked": true,
     "points": 1,
     "schema_version": 3,
     "solution": false,
     "task": false
    }
   },
   "outputs": [],
   "source": [
    "# test the forward function\n",
    "n = 10\n",
    "inp = torch.rand(n, data.num_features)\n",
    "out = point_nn_reg(inp)\n",
    "### BEGIN HIDDEN TEST\n",
    "n = 20\n",
    "inp = torch.rand(n, data.num_features)\n",
    "out = point_nn_reg(inp)\n",
    "assert out.size(0) == n\n",
    "assert out.size(1) == 1\n",
    "### END HIDDEN TEST"
   ]
  },
  {
   "cell_type": "markdown",
   "metadata": {},
   "source": [
    "### Section 2.2: Loss Functions (5 points)\n",
    "Pointwise LTR algorithms use pointwise loss functions.\n",
    "Usually, the popular loss functions for pointwise LTR are:\n",
    " - Cross entropy loss for classification (3 points)\n",
    " - Regression loss (2 points)"
   ]
  },
  {
   "cell_type": "markdown",
   "metadata": {},
   "source": [
    "**Implementation (3 points):**\n",
    "Implement cross entropy loss and and then cross entropy prediction."
   ]
  },
  {
   "cell_type": "code",
   "execution_count": 14,
   "metadata": {
    "deletable": false,
    "nbgrader": {
     "cell_type": "code",
     "checksum": "a82ac14d42f8800a3fcf1fe5153dd1d3",
     "grade": false,
     "grade_id": "cell-d095f3c75bd11bc3",
     "locked": false,
     "schema_version": 3,
     "solution": true,
     "task": false
    }
   },
   "outputs": [],
   "source": [
    "# TODO: Implement this! (2 points)\n",
    "def clf_loss(output, target):\n",
    "    \"\"\"\n",
    "    Cross entropy loss - returns a single number. \n",
    "    output: (float) tensor, shape - [N, 5] \n",
    "    target: (float/long) tensor, shape - [N]. \n",
    "    \n",
    "    Hint: This function should also handle cases when target is either long/float types \n",
    "    \"\"\"\n",
    "    assert output.size(0) == target.size(0)\n",
    "    assert output.size(1) == 5\n",
    "    # YOUR CODE HERE\n",
    "    return F.cross_entropy(output, target.long()) \n"
   ]
  },
  {
   "cell_type": "code",
   "execution_count": 15,
   "metadata": {
    "deletable": false,
    "editable": false,
    "nbgrader": {
     "cell_type": "code",
     "checksum": "ec3127e3b21ab74c2771110450b46559",
     "grade": true,
     "grade_id": "cell-eb43efcf784d82d9",
     "locked": true,
     "points": 2,
     "schema_version": 3,
     "solution": false,
     "task": false
    }
   },
   "outputs": [
    {
     "name": "stdout",
     "output_type": "stream",
     "text": [
      "your results: [1.5910069942474365, 1.600582480430603, 1.6723783016204834, 1.8065980672836304, 1.6385562419891357]\n",
      "expected results: [1.5910069942474365, 1.600582480430603, 1.6723783016204834, 1.8065979480743408, 1.6385562419891357]\n"
     ]
    }
   ],
   "source": [
    "## Test clf_loss\n",
    "g = torch.manual_seed(42)\n",
    "tests = [torch.rand(5, 5, generator=g) for _ in range(5)]\n",
    "target = torch.LongTensor([1, 2, 3, 4, 0])\n",
    "\n",
    "results = [1.5910069942474365, \n",
    "           1.600582480430603, \n",
    "           1.6723783016204834, \n",
    "           1.8065979480743408, \n",
    "           1.6385562419891357]\n",
    "\n",
    "l1 = [clf_loss(output, target).item() for output in tests]\n",
    "print(f'your results: {l1}')\n",
    "print(f'expected results: {results}')\n"
   ]
  },
  {
   "cell_type": "code",
   "execution_count": 16,
   "metadata": {
    "deletable": false,
    "nbgrader": {
     "cell_type": "code",
     "checksum": "c1e1871d067d534d41585fe9d657244a",
     "grade": false,
     "grade_id": "cell-d01649f26022bf4c",
     "locked": false,
     "schema_version": 3,
     "solution": true,
     "task": false
    }
   },
   "outputs": [],
   "source": [
    "# TODO: Implement this! (1 points)\n",
    "def clf_pred(inp, net):\n",
    "    \"\"\"\n",
    "    The output of the classifier network produces a [Nx5] output corresponding to \n",
    "    the relevance labels (each row does *not* add to 1!)\n",
    "    This function should predict the most probable relevance from the relevance labels\n",
    "    \n",
    "    inp: The input [N, num_features]\n",
    "    net: the neural network, takes in [N, num_features] and outputs [N, 5]\n",
    "    \n",
    "    return: a [N, 1] (long) tensor, the relevance labels\n",
    "    \"\"\"\n",
    "    # YOUR CODE HERE\n",
    "    scores = net(inp)\n",
    "    max_score, indices = torch.max(scores, dim = 1) # rewritten into torch function instead of numpy\n",
    "    return indices"
   ]
  },
  {
   "cell_type": "code",
   "execution_count": 17,
   "metadata": {
    "deletable": false,
    "editable": false,
    "nbgrader": {
     "cell_type": "code",
     "checksum": "2e01b7aa6f5cebb78e604f9fa5d8da29",
     "grade": true,
     "grade_id": "cell-1f5c809567bf7f02",
     "locked": true,
     "points": 1,
     "schema_version": 3,
     "solution": false,
     "task": false
    }
   },
   "outputs": [
    {
     "name": "stdout",
     "output_type": "stream",
     "text": [
      "your results:[3 3 2 1 2 4 4 1 3 1]\n",
      "expected:[3 3 2 1 2 4 4 1 3 1]\n"
     ]
    }
   ],
   "source": [
    "g = torch.manual_seed(42)\n",
    "def clf_(inp):\n",
    "    return torch.rand(inp.size(0), 5, generator=g)\n",
    "\n",
    "inp = torch.rand(10, 5, generator=g)\n",
    "r = np.array([3, 3, 2, 1, 2, 4, 4, 1, 3, 1])\n",
    "p = clf_pred(inp, clf_).numpy()\n",
    "print(f'your results:{p}')\n",
    "print(f'expected:{r}')\n"
   ]
  },
  {
   "cell_type": "code",
   "execution_count": 18,
   "metadata": {
    "deletable": false,
    "editable": false,
    "nbgrader": {
     "cell_type": "code",
     "checksum": "6cf6191b552e4daea3f0fd4a91e15fd4",
     "grade": false,
     "grade_id": "cell-a4f04b744ef63756",
     "locked": true,
     "schema_version": 3,
     "solution": false,
     "task": false
    }
   },
   "outputs": [
    {
     "data": {
      "text/plain": [
       "array([4, 4, 4, 4, 4])"
      ]
     },
     "execution_count": 18,
     "metadata": {},
     "output_type": "execute_result"
    }
   ],
   "source": [
    "# NOTE:\n",
    "# to construct a predictor for a particular network, see this example\n",
    "# (this will be required in the next cell)\n",
    "clf_pred_fn = partial(clf_pred, net=point_nn_clf)\n",
    "# the 'net' argument doesn't need to be provided anymore!\n",
    "clf_pred_fn(torch.rand(5, data.num_features)).numpy()\n"
   ]
  },
  {
   "cell_type": "markdown",
   "metadata": {
    "deletable": false,
    "editable": false,
    "nbgrader": {
     "cell_type": "markdown",
     "checksum": "e14973fb674e1e9adb553605e4e7b333",
     "grade": false,
     "grade_id": "cell-d683efd6ca306e81",
     "locked": true,
     "schema_version": 3,
     "solution": false,
     "task": false
    }
   },
   "source": [
    "**Implementation (2 points):**\n",
    "Implement regression loss."
   ]
  },
  {
   "cell_type": "code",
   "execution_count": 19,
   "metadata": {
    "deletable": false,
    "nbgrader": {
     "cell_type": "code",
     "checksum": "5f2b905ddb927ed981bb294825674993",
     "grade": false,
     "grade_id": "cell-c024ed97d7100038",
     "locked": false,
     "schema_version": 3,
     "solution": true,
     "task": false
    }
   },
   "outputs": [],
   "source": [
    "# TODO: Implement this! (2 points)\n",
    "def reg_loss(output, target):\n",
    "    \"\"\"\n",
    "    Regression loss - returns a single number. \n",
    "    Make sure to use the TODO loss!\n",
    "    output: (float) tensor, shape - [N, 1] \n",
    "    target: (float) tensor, shape - [N]. \n",
    "    \"\"\"\n",
    "    assert target.dim() == 1\n",
    "    assert output.size(0) == target.size(0)\n",
    "    assert output.size(1) == 1\n",
    "    \n",
    "    # YOUR CODE HERE\n",
    "    loss = nn.MSELoss() # Define loss function\n",
    "    output = output.squeeze() # 'squeeze' from [5,1] to [,5]\n",
    "    out = loss(output, target)\n",
    "    return out"
   ]
  },
  {
   "cell_type": "code",
   "execution_count": 20,
   "metadata": {
    "deletable": false,
    "editable": false,
    "nbgrader": {
     "cell_type": "code",
     "checksum": "064dde728a201a97f97ca266c8641a0e",
     "grade": true,
     "grade_id": "cell-24edd9d567aac9da",
     "locked": true,
     "points": 2,
     "schema_version": 3,
     "solution": false,
     "task": false
    }
   },
   "outputs": [
    {
     "name": "stdout",
     "output_type": "stream",
     "text": [
      "your results:[4.800000190734863, 3.0, 7.599999904632568, 5.400000095367432, 0.6000000238418579]\n",
      "expected:[4.800000190734863, 3.0, 7.599999904632568, 5.400000095367432, 0.6000000238418579]\n"
     ]
    }
   ],
   "source": [
    "## Test reg_loss\n",
    "g = torch.manual_seed(42)\n",
    "output = [torch.randint(low=0, high=5, size=(5, 1), generator=g).float() for _ in range(5)]\n",
    "target = torch.randint(low=0, high=5, size=(5,), generator=g).float()\n",
    "\n",
    "l = [reg_loss(o, target).item() for o in output]\n",
    "r = [4.800000190734863, \n",
    "     3.0, \n",
    "     7.599999904632568, \n",
    "     5.400000095367432, \n",
    "     0.6000000238418579]\n",
    "print(f'your results:{l}')\n",
    "print(f'expected:{r}')"
   ]
  },
  {
   "cell_type": "markdown",
   "metadata": {
    "deletable": false,
    "editable": false,
    "nbgrader": {
     "cell_type": "markdown",
     "checksum": "0eddb61dde344891ea7efc8fdd67752f",
     "grade": false,
     "grade_id": "cell-0977a61ec0cfa7ed",
     "locked": true,
     "schema_version": 3,
     "solution": false,
     "task": false
    }
   },
   "source": [
    "**Implementation (45 points):**\n",
    "Now implement a wrapper for training a pointwise LTR, that takes the model and the loss function as input and trains the model.\n",
    "\n",
    "**Rubric:**\n",
    " - Network is trained for specified epochs, and iterates over the entire dataset and (train) data is shuffled : 5 points\n",
    " - Evaluation on the validation set: 5 points\n",
    " - Training (e.g optimizer, zero_grad, backward): 10 points\n",
    " - Appropriate loss function & prediction function: 5 points\n",
    " - Both classification / regression models handled appropriately: 5 points\n",
    " - Performance as expected: 15 points"
   ]
  },
  {
   "cell_type": "code",
   "execution_count": 21,
   "metadata": {
    "deletable": false,
    "nbgrader": {
     "cell_type": "code",
     "checksum": "8dbfd2a686ecc7ab254a4e5e9b332119",
     "grade": false,
     "grade_id": "cell-9361533c572e304b",
     "locked": false,
     "schema_version": 3,
     "solution": true,
     "task": false
    }
   },
   "outputs": [],
   "source": [
    "# TODO: Implement this! (45 points)\n",
    "def train_pointwise(net, loss, params):\n",
    "    \"\"\"\n",
    "    This function should train a Pointwise network, \n",
    "    trained based on the loss (either \"clf\" / \"reg\"). \n",
    "    \n",
    "    The network is trained using the Adam optimizer\n",
    "        \n",
    "    \n",
    "    Note: Do not change the function definition! \n",
    "    \n",
    "    \n",
    "    Hints:\n",
    "    1. Use the LTRData class defined above\n",
    "    2. You will have to construct a partial function if loss=\"clf\" \n",
    "       before using it in evaluate_model() (see cells after the defn of clf_pred)\n",
    "    \n",
    "    net: the neural network to be trained\n",
    "    \n",
    "    loss: one of \"clf\" or \"reg\"\n",
    "    \n",
    "    params: params is an object which contains config used in training \n",
    "        (eg. params.epochs - the number of epochs to train). \n",
    "        For a full list of these params, see the next cell. \n",
    "    \n",
    "    Returns: a dictionary containing: \"metrics_val\" (a list of dictionaries) and \n",
    "             \"metrics_train\" (a list of dictionaries). \n",
    "             \n",
    "             \"metrics_val\" should contain metrics (the metrics in params.metrics) computed\n",
    "             after each epoch on the validation set (metrics_train is similar). \n",
    "             You can use this to debug your models.\n",
    "    \n",
    "    \"\"\"\n",
    "    \n",
    "    assert loss in {\"clf\", \"reg\"}\n",
    "    \n",
    "    val_metrics_epoch = []\n",
    "    train_metrics_epoch = []\n",
    "    \n",
    "    # YOUR CODE HERE\n",
    "    \n",
    "    #### RUBRIC ####\n",
    "    ###- 1) Network is trained for specified epochs, and iterates over the entire dataset and (train) data is shuffled : 5 points\n",
    "    ###- 2) Evaluation on the validation set: 5 points\n",
    "    ###- 3) Training (e.g optimizer, zero_grad, backward): 10 points\n",
    "    ###- 4) Appropriate loss function & prediction function: 5 points\n",
    "    ###- 5) Both classification / regression models handled appropriately: 5 points\n",
    "    ###- 6) Performance as expected: 15 points\n",
    "    \n",
    "    # Define parameters\n",
    "    epochs = params.epochs\n",
    "    learning_rate = params.lr\n",
    "    batch_size = params.batch_size\n",
    "    metrics = params.metrics\n",
    "    \n",
    "    # Specify prediction function\n",
    "    if loss == \"clf\":\n",
    "        loss_function = clf_loss\n",
    "        pred_fn = partial(clf_pred, net=net) # Create partial function since net is always specified\n",
    "    else:\n",
    "        loss_function = reg_loss\n",
    "        pred_fn = partial(point_nn_reg)\n",
    "    \n",
    "    # Define Adam optimizer\n",
    "    optimizer = Adam(net.parameters(), lr=learning_rate)\n",
    "    \n",
    "    # Create train & validation data:\n",
    "    train_dl = DataLoader(LTRData(data, \"train\"), batch_size=batch_size, shuffle=True)\n",
    "    validation_dl = DataLoader(LTRData(data, \"validation\"), shuffle=False)\n",
    "    \n",
    "    # Training loop\n",
    "    for epoch in range(epochs):\n",
    "        for (input_data, target) in train_dl: # X: [INPUT_FEATURES(501),BATCH_SIZE(32)], Y: [N_CLASSES(1 for reg, 5 for clf),BATCH_SIZE(32)]\n",
    "            ## TRAIN\n",
    "            net.zero_grad()\n",
    "            out = net(input_data)\n",
    "            loss = loss_function(out, target)\n",
    "            loss.backward()\n",
    "            optimizer.step()\n",
    "        \n",
    "        # EVALUATE\n",
    "        train_evaluation = evaluate_model(pred_fn, \"train\", batch_size=batch_size)  #def evaluate_model(pred_fn, split, batch_size=256, print_results=False, q_level=False):\n",
    "        validation_evaluation = evaluate_model(pred_fn, \"validation\")           \n",
    "\n",
    "        # Save the appropriate evaluations\n",
    "        for m in params.metrics:\n",
    "            train_metrics_epoch.append({m : train_evaluation[m]})\n",
    "            val_metrics_epoch.append({m : validation_evaluation[m]})             \n",
    "        print(\"train: \", train_metrics_epoch[epoch])\n",
    "        print(\"validation: \", val_metrics_epoch[epoch]) # Om metrics te kunnen checken (en of ze beter worden)\n",
    "    return {\n",
    "        \"metrics_val\": val_metrics_epoch,\n",
    "        \"metrics_train\": train_metrics_epoch\n",
    "    }"
   ]
  },
  {
   "cell_type": "code",
   "execution_count": 22,
   "metadata": {},
   "outputs": [],
   "source": [
    "# Change this to test your code!\n",
    "pointwise_test_params = Namespace(epochs=10, \n",
    "                    lr=1e-3,\n",
    "                    batch_size=256,\n",
    "                   metrics={\"ndcg\"})\n",
    "# uncomment to test your code\n",
    "## train a regression model\n",
    "# met_reg = train_pointwise(point_nn_reg, \"reg\", pointwise_test_params)\n",
    "## train a classification model\n",
    "# met_clf = train_pointwise(point_nn_clf, \"clf\", pointwise_test_params)"
   ]
  },
  {
   "cell_type": "markdown",
   "metadata": {
    "deletable": false,
    "editable": false,
    "nbgrader": {
     "cell_type": "markdown",
     "checksum": "738eaae8abdea0f21d248a0d677bc424",
     "grade": false,
     "grade_id": "cell-27ec0e0dd8a5d98d",
     "locked": true,
     "schema_version": 3,
     "solution": false,
     "task": false
    }
   },
   "source": [
    "The next cell is used to generate reproducible results which should be submitted with the assignment:"
   ]
  },
  {
   "cell_type": "code",
   "execution_count": 23,
   "metadata": {
    "deletable": false,
    "editable": false,
    "nbgrader": {
     "cell_type": "code",
     "checksum": "8a485ad0b3f14de6ee384fa6b42ab36f",
     "grade": false,
     "grade_id": "cell-11e8cbc591a51256",
     "locked": true,
     "schema_version": 3,
     "solution": false,
     "task": false
    }
   },
   "outputs": [],
   "source": [
    "\n",
    "    \n",
    "def create_results(net, train_fn, prediction_fn, results_file, *train_params):\n",
    "    \n",
    "    print(\"Training Model\")\n",
    "    metrics = train_fn(net, *train_params)\n",
    "    net.eval()\n",
    "    test_metrics, test_qq = evaluate_model(prediction_fn, \"test\", print_results=True, q_level=True)\n",
    "    \n",
    "    \n",
    "    test_q = {}\n",
    "    for m in {\"ndcg\", \"precision@05\", \"recall@05\"}:\n",
    "        test_q[m] = test_qq[m]\n",
    "    \n",
    "    with open(results_file, \"w\") as writer:\n",
    "        json.dump({\n",
    "            \"metrics\": metrics,\n",
    "            \"test_metrics\": test_metrics,\n",
    "            \"test_query_level_metrics\": test_q,\n",
    "        }, writer, indent=2)\n"
   ]
  },
  {
   "cell_type": "markdown",
   "metadata": {
    "deletable": false,
    "editable": false,
    "nbgrader": {
     "cell_type": "markdown",
     "checksum": "5926b542770cebafc36574bbff9b7d3e",
     "grade": false,
     "grade_id": "cell-16ed543545863f61",
     "locked": true,
     "schema_version": 3,
     "solution": false,
     "task": false
    }
   },
   "source": [
    "Now use the above functions to generate your `json` files for submission:"
   ]
  },
  {
   "cell_type": "code",
   "execution_count": 24,
   "metadata": {
    "deletable": false,
    "editable": false,
    "nbgrader": {
     "cell_type": "code",
     "checksum": "eef82389f05e60a59c9bddefc6570264",
     "grade": false,
     "grade_id": "cell-cb8314e4e579adac",
     "locked": true,
     "schema_version": 3,
     "solution": false,
     "task": false
    }
   },
   "outputs": [
    {
     "name": "stdout",
     "output_type": "stream",
     "text": [
      "Training Model\n"
     ]
    },
    {
     "data": {
      "application/vnd.jupyter.widget-view+json": {
       "model_id": "",
       "version_major": 2,
       "version_minor": 0
      },
      "text/plain": [
       "Eval (train):   0%|          | 0/333 [00:00<?, ?it/s]"
      ]
     },
     "metadata": {},
     "output_type": "display_data"
    },
    {
     "data": {
      "application/vnd.jupyter.widget-view+json": {
       "model_id": "",
       "version_major": 2,
       "version_minor": 0
      },
      "text/plain": [
       "Eval (validation):   0%|          | 0/50 [00:00<?, ?it/s]"
      ]
     },
     "metadata": {},
     "output_type": "display_data"
    },
    {
     "name": "stdout",
     "output_type": "stream",
     "text": [
      "train:  {'recall@05': (0.04286904619645725, 0.0474959855417647)}\n",
      "validation:  {'recall@05': (0.031755854108672994, 0.03897689262579483)}\n"
     ]
    },
    {
     "data": {
      "application/vnd.jupyter.widget-view+json": {
       "model_id": "",
       "version_major": 2,
       "version_minor": 0
      },
      "text/plain": [
       "Eval (train):   0%|          | 0/333 [00:00<?, ?it/s]"
      ]
     },
     "metadata": {},
     "output_type": "display_data"
    },
    {
     "data": {
      "application/vnd.jupyter.widget-view+json": {
       "model_id": "",
       "version_major": 2,
       "version_minor": 0
      },
      "text/plain": [
       "Eval (validation):   0%|          | 0/50 [00:00<?, ?it/s]"
      ]
     },
     "metadata": {},
     "output_type": "display_data"
    },
    {
     "name": "stdout",
     "output_type": "stream",
     "text": [
      "train:  {'ndcg': (0.7140236519111446, 0.05797058290083272)}\n",
      "validation:  {'ndcg': (0.7016068949401978, 0.05637941908454241)}\n"
     ]
    },
    {
     "data": {
      "application/vnd.jupyter.widget-view+json": {
       "model_id": "",
       "version_major": 2,
       "version_minor": 0
      },
      "text/plain": [
       "Eval (train):   0%|          | 0/333 [00:00<?, ?it/s]"
      ]
     },
     "metadata": {},
     "output_type": "display_data"
    },
    {
     "data": {
      "application/vnd.jupyter.widget-view+json": {
       "model_id": "",
       "version_major": 2,
       "version_minor": 0
      },
      "text/plain": [
       "Eval (validation):   0%|          | 0/50 [00:00<?, ?it/s]"
      ]
     },
     "metadata": {},
     "output_type": "display_data"
    },
    {
     "name": "stdout",
     "output_type": "stream",
     "text": [
      "train:  {'precision@05': (0.1987987987987988, 0.20967241373065318)}\n",
      "validation:  {'precision@05': (0.15600000000000003, 0.19713954448562568)}\n"
     ]
    },
    {
     "data": {
      "application/vnd.jupyter.widget-view+json": {
       "model_id": "",
       "version_major": 2,
       "version_minor": 0
      },
      "text/plain": [
       "Eval (train):   0%|          | 0/333 [00:00<?, ?it/s]"
      ]
     },
     "metadata": {},
     "output_type": "display_data"
    },
    {
     "data": {
      "application/vnd.jupyter.widget-view+json": {
       "model_id": "",
       "version_major": 2,
       "version_minor": 0
      },
      "text/plain": [
       "Eval (validation):   0%|          | 0/50 [00:00<?, ?it/s]"
      ]
     },
     "metadata": {},
     "output_type": "display_data"
    },
    {
     "name": "stdout",
     "output_type": "stream",
     "text": [
      "train:  {'recall@05': (0.04302709898608898, 0.047615630005754105)}\n",
      "validation:  {'recall@05': (0.031755854108672994, 0.03897689262579483)}\n"
     ]
    },
    {
     "data": {
      "application/vnd.jupyter.widget-view+json": {
       "model_id": "",
       "version_major": 2,
       "version_minor": 0
      },
      "text/plain": [
       "Eval (train):   0%|          | 0/333 [00:00<?, ?it/s]"
      ]
     },
     "metadata": {},
     "output_type": "display_data"
    },
    {
     "data": {
      "application/vnd.jupyter.widget-view+json": {
       "model_id": "",
       "version_major": 2,
       "version_minor": 0
      },
      "text/plain": [
       "Eval (validation):   0%|          | 0/50 [00:00<?, ?it/s]"
      ]
     },
     "metadata": {},
     "output_type": "display_data"
    },
    {
     "name": "stdout",
     "output_type": "stream",
     "text": [
      "train:  {'ndcg': (0.7139758065796477, 0.05790644430666006)}\n",
      "validation:  {'ndcg': (0.701778903563469, 0.056455666778523476)}\n"
     ]
    },
    {
     "data": {
      "application/vnd.jupyter.widget-view+json": {
       "model_id": "",
       "version_major": 2,
       "version_minor": 0
      },
      "text/plain": [
       "Eval (train):   0%|          | 0/333 [00:00<?, ?it/s]"
      ]
     },
     "metadata": {},
     "output_type": "display_data"
    },
    {
     "data": {
      "application/vnd.jupyter.widget-view+json": {
       "model_id": "",
       "version_major": 2,
       "version_minor": 0
      },
      "text/plain": [
       "Eval (validation):   0%|          | 0/50 [00:00<?, ?it/s]"
      ]
     },
     "metadata": {},
     "output_type": "display_data"
    },
    {
     "name": "stdout",
     "output_type": "stream",
     "text": [
      "train:  {'precision@05': (0.1993993993993994, 0.20996124252585915)}\n",
      "validation:  {'precision@05': (0.15600000000000003, 0.19713954448562568)}\n"
     ]
    },
    {
     "data": {
      "application/vnd.jupyter.widget-view+json": {
       "model_id": "",
       "version_major": 2,
       "version_minor": 0
      },
      "text/plain": [
       "Eval (train):   0%|          | 0/333 [00:00<?, ?it/s]"
      ]
     },
     "metadata": {},
     "output_type": "display_data"
    },
    {
     "data": {
      "application/vnd.jupyter.widget-view+json": {
       "model_id": "",
       "version_major": 2,
       "version_minor": 0
      },
      "text/plain": [
       "Eval (validation):   0%|          | 0/50 [00:00<?, ?it/s]"
      ]
     },
     "metadata": {},
     "output_type": "display_data"
    },
    {
     "name": "stdout",
     "output_type": "stream",
     "text": [
      "train:  {'recall@05': (0.04270221269629041, 0.047157206832922675)}\n",
      "validation:  {'recall@05': (0.031755854108672994, 0.03897689262579483)}\n"
     ]
    },
    {
     "data": {
      "application/vnd.jupyter.widget-view+json": {
       "model_id": "",
       "version_major": 2,
       "version_minor": 0
      },
      "text/plain": [
       "Eval (train):   0%|          | 0/333 [00:00<?, ?it/s]"
      ]
     },
     "metadata": {},
     "output_type": "display_data"
    },
    {
     "data": {
      "application/vnd.jupyter.widget-view+json": {
       "model_id": "",
       "version_major": 2,
       "version_minor": 0
      },
      "text/plain": [
       "Eval (validation):   0%|          | 0/50 [00:00<?, ?it/s]"
      ]
     },
     "metadata": {},
     "output_type": "display_data"
    },
    {
     "name": "stdout",
     "output_type": "stream",
     "text": [
      "train:  {'ndcg': (0.7140368588843015, 0.05800769984344891)}\n",
      "validation:  {'ndcg': (0.701788139850224, 0.05644881752082521)}\n"
     ]
    },
    {
     "data": {
      "application/vnd.jupyter.widget-view+json": {
       "model_id": "",
       "version_major": 2,
       "version_minor": 0
      },
      "text/plain": [
       "Eval (train):   0%|          | 0/333 [00:00<?, ?it/s]"
      ]
     },
     "metadata": {},
     "output_type": "display_data"
    },
    {
     "data": {
      "application/vnd.jupyter.widget-view+json": {
       "model_id": "",
       "version_major": 2,
       "version_minor": 0
      },
      "text/plain": [
       "Eval (validation):   0%|          | 0/50 [00:00<?, ?it/s]"
      ]
     },
     "metadata": {},
     "output_type": "display_data"
    },
    {
     "name": "stdout",
     "output_type": "stream",
     "text": [
      "train:  {'precision@05': (0.1981981981981982, 0.20880698530909025)}\n",
      "validation:  {'precision@05': (0.15600000000000003, 0.19713954448562568)}\n"
     ]
    },
    {
     "data": {
      "application/vnd.jupyter.widget-view+json": {
       "model_id": "",
       "version_major": 2,
       "version_minor": 0
      },
      "text/plain": [
       "Eval (train):   0%|          | 0/333 [00:00<?, ?it/s]"
      ]
     },
     "metadata": {},
     "output_type": "display_data"
    },
    {
     "data": {
      "application/vnd.jupyter.widget-view+json": {
       "model_id": "",
       "version_major": 2,
       "version_minor": 0
      },
      "text/plain": [
       "Eval (validation):   0%|          | 0/50 [00:00<?, ?it/s]"
      ]
     },
     "metadata": {},
     "output_type": "display_data"
    },
    {
     "name": "stdout",
     "output_type": "stream",
     "text": [
      "train:  {'recall@05': (0.04286026548592215, 0.047278266376260134)}\n",
      "validation:  {'recall@05': (0.031755854108672994, 0.03897689262579483)}\n"
     ]
    },
    {
     "data": {
      "application/vnd.jupyter.widget-view+json": {
       "model_id": "",
       "version_major": 2,
       "version_minor": 0
      },
      "text/plain": [
       "Eval (train):   0%|          | 0/333 [00:00<?, ?it/s]"
      ]
     },
     "metadata": {},
     "output_type": "display_data"
    },
    {
     "data": {
      "application/vnd.jupyter.widget-view+json": {
       "model_id": "",
       "version_major": 2,
       "version_minor": 0
      },
      "text/plain": [
       "Eval (validation):   0%|          | 0/50 [00:00<?, ?it/s]"
      ]
     },
     "metadata": {},
     "output_type": "display_data"
    },
    {
     "name": "stdout",
     "output_type": "stream",
     "text": [
      "train:  {'ndcg': (0.7140613642326784, 0.0579892751730314)}\n",
      "validation:  {'ndcg': (0.7017959022628025, 0.05644748864039881)}\n"
     ]
    },
    {
     "data": {
      "application/vnd.jupyter.widget-view+json": {
       "model_id": "",
       "version_major": 2,
       "version_minor": 0
      },
      "text/plain": [
       "Eval (test):   0%|          | 0/117 [00:00<?, ?it/s]"
      ]
     },
     "metadata": {},
     "output_type": "display_data"
    },
    {
     "name": "stdout",
     "output_type": "stream",
     "text": [
      "\"metric\": \"mean\" (\"standard deviation\")\n",
      "dcg: 112.8333 (24.83762)\n",
      "dcg@03: 21.6566 (8.02886)\n",
      "dcg@05: 27.2742 (10.22596)\n",
      "dcg@10: 35.9883 (12.55275)\n",
      "dcg@20: 46.6458 (14.74820)\n",
      "ndcg: 0.8709 (0.05140)\n",
      "ndcg@03: 0.7411 (0.22407)\n",
      "ndcg@05: 0.7072 (0.20202)\n",
      "ndcg@10: 0.6832 (0.16216)\n",
      "ndcg@20: 0.6768 (0.13704)\n",
      "precision@01: 0.8462 (0.36080)\n",
      "precision@03: 0.7578 (0.29758)\n",
      "precision@05: 0.6786 (0.28400)\n",
      "precision@10: 0.5547 (0.22589)\n",
      "precision@20: 0.4350 (0.19505)\n",
      "recall@01: 0.0383 (0.02674)\n",
      "recall@03: 0.1016 (0.05570)\n",
      "recall@05: 0.1498 (0.08571)\n",
      "recall@10: 0.2368 (0.11192)\n",
      "recall@20: 0.3560 (0.13673)\n",
      "relevant rank: 63.5546 (62.09447)\n",
      "relevant rank per query: 1635.5812 (979.96256)\n"
     ]
    }
   ],
   "source": [
    "seed(42)\n",
    "params_regr = Namespace(epochs=11, \n",
    "                    lr=1e-3,\n",
    "                    batch_size=256,\n",
    "                    metrics={\"ndcg\", \"precision@05\", \"recall@05\"})\n",
    "\n",
    "pointwise_regression_model = NeuralModule(1)\n",
    "create_results(pointwise_regression_model, \n",
    "               train_pointwise, \n",
    "               pointwise_regression_model,\n",
    "               \"./pointwise_regression.json\", \n",
    "               \"reg\", params_regr)\n",
    "# persist models\n",
    "torch.save(pointwise_regression_model.state_dict(), \"./pointwise_regr_wt\")"
   ]
  },
  {
   "cell_type": "code",
   "execution_count": 25,
   "metadata": {
    "deletable": false,
    "editable": false,
    "nbgrader": {
     "cell_type": "code",
     "checksum": "6ddac4c7614df42d2655e2304eba1c21",
     "grade": false,
     "grade_id": "cell-8b25e13a53ad95ac",
     "locked": true,
     "schema_version": 3,
     "solution": false,
     "task": false
    }
   },
   "outputs": [
    {
     "name": "stdout",
     "output_type": "stream",
     "text": [
      "Training Model\n"
     ]
    },
    {
     "data": {
      "application/vnd.jupyter.widget-view+json": {
       "model_id": "",
       "version_major": 2,
       "version_minor": 0
      },
      "text/plain": [
       "Eval (train):   0%|          | 0/333 [00:00<?, ?it/s]"
      ]
     },
     "metadata": {},
     "output_type": "display_data"
    },
    {
     "data": {
      "application/vnd.jupyter.widget-view+json": {
       "model_id": "",
       "version_major": 2,
       "version_minor": 0
      },
      "text/plain": [
       "Eval (validation):   0%|          | 0/50 [00:00<?, ?it/s]"
      ]
     },
     "metadata": {},
     "output_type": "display_data"
    },
    {
     "name": "stdout",
     "output_type": "stream",
     "text": [
      "train:  {'recall@05': (0.05847982210944386, 0.05376654688346073)}\n",
      "validation:  {'recall@05': (0.056223258950947604, 0.060427814237403)}\n"
     ]
    },
    {
     "data": {
      "application/vnd.jupyter.widget-view+json": {
       "model_id": "",
       "version_major": 2,
       "version_minor": 0
      },
      "text/plain": [
       "Eval (train):   0%|          | 0/333 [00:00<?, ?it/s]"
      ]
     },
     "metadata": {},
     "output_type": "display_data"
    },
    {
     "data": {
      "application/vnd.jupyter.widget-view+json": {
       "model_id": "",
       "version_major": 2,
       "version_minor": 0
      },
      "text/plain": [
       "Eval (validation):   0%|          | 0/50 [00:00<?, ?it/s]"
      ]
     },
     "metadata": {},
     "output_type": "display_data"
    },
    {
     "name": "stdout",
     "output_type": "stream",
     "text": [
      "train:  {'ndcg': (0.7624143547645039, 0.052751640559899976)}\n",
      "validation:  {'ndcg': (0.7557528206825515, 0.05992237426547943)}\n"
     ]
    },
    {
     "data": {
      "application/vnd.jupyter.widget-view+json": {
       "model_id": "",
       "version_major": 2,
       "version_minor": 0
      },
      "text/plain": [
       "Eval (train):   0%|          | 0/333 [00:00<?, ?it/s]"
      ]
     },
     "metadata": {},
     "output_type": "display_data"
    },
    {
     "data": {
      "application/vnd.jupyter.widget-view+json": {
       "model_id": "",
       "version_major": 2,
       "version_minor": 0
      },
      "text/plain": [
       "Eval (validation):   0%|          | 0/50 [00:00<?, ?it/s]"
      ]
     },
     "metadata": {},
     "output_type": "display_data"
    },
    {
     "name": "stdout",
     "output_type": "stream",
     "text": [
      "train:  {'precision@05': (0.25585585585585585, 0.21393693522975116)}\n",
      "validation:  {'precision@05': (0.256, 0.2264155471693585)}\n"
     ]
    },
    {
     "data": {
      "application/vnd.jupyter.widget-view+json": {
       "model_id": "",
       "version_major": 2,
       "version_minor": 0
      },
      "text/plain": [
       "Eval (train):   0%|          | 0/333 [00:00<?, ?it/s]"
      ]
     },
     "metadata": {},
     "output_type": "display_data"
    },
    {
     "data": {
      "application/vnd.jupyter.widget-view+json": {
       "model_id": "",
       "version_major": 2,
       "version_minor": 0
      },
      "text/plain": [
       "Eval (validation):   0%|          | 0/50 [00:00<?, ?it/s]"
      ]
     },
     "metadata": {},
     "output_type": "display_data"
    },
    {
     "name": "stdout",
     "output_type": "stream",
     "text": [
      "train:  {'recall@05': (0.10329241917264517, 0.07575111216576559)}\n",
      "validation:  {'recall@05': (0.12247223000173812, 0.08275205228601253)}\n"
     ]
    },
    {
     "data": {
      "application/vnd.jupyter.widget-view+json": {
       "model_id": "",
       "version_major": 2,
       "version_minor": 0
      },
      "text/plain": [
       "Eval (train):   0%|          | 0/333 [00:00<?, ?it/s]"
      ]
     },
     "metadata": {},
     "output_type": "display_data"
    },
    {
     "data": {
      "application/vnd.jupyter.widget-view+json": {
       "model_id": "",
       "version_major": 2,
       "version_minor": 0
      },
      "text/plain": [
       "Eval (validation):   0%|          | 0/50 [00:00<?, ?it/s]"
      ]
     },
     "metadata": {},
     "output_type": "display_data"
    },
    {
     "name": "stdout",
     "output_type": "stream",
     "text": [
      "train:  {'ndcg': (0.8091777770523667, 0.054440051870770806)}\n",
      "validation:  {'ndcg': (0.8088234682722809, 0.05283319203733724)}\n"
     ]
    },
    {
     "data": {
      "application/vnd.jupyter.widget-view+json": {
       "model_id": "",
       "version_major": 2,
       "version_minor": 0
      },
      "text/plain": [
       "Eval (train):   0%|          | 0/333 [00:00<?, ?it/s]"
      ]
     },
     "metadata": {},
     "output_type": "display_data"
    },
    {
     "data": {
      "application/vnd.jupyter.widget-view+json": {
       "model_id": "",
       "version_major": 2,
       "version_minor": 0
      },
      "text/plain": [
       "Eval (validation):   0%|          | 0/50 [00:00<?, ?it/s]"
      ]
     },
     "metadata": {},
     "output_type": "display_data"
    },
    {
     "name": "stdout",
     "output_type": "stream",
     "text": [
      "train:  {'precision@05': (0.4450450450450451, 0.2785867612729103)}\n",
      "validation:  {'precision@05': (0.508, 0.2777336853894392)}\n"
     ]
    },
    {
     "data": {
      "application/vnd.jupyter.widget-view+json": {
       "model_id": "",
       "version_major": 2,
       "version_minor": 0
      },
      "text/plain": [
       "Eval (train):   0%|          | 0/333 [00:00<?, ?it/s]"
      ]
     },
     "metadata": {},
     "output_type": "display_data"
    },
    {
     "data": {
      "application/vnd.jupyter.widget-view+json": {
       "model_id": "",
       "version_major": 2,
       "version_minor": 0
      },
      "text/plain": [
       "Eval (validation):   0%|          | 0/50 [00:00<?, ?it/s]"
      ]
     },
     "metadata": {},
     "output_type": "display_data"
    },
    {
     "name": "stdout",
     "output_type": "stream",
     "text": [
      "train:  {'recall@05': (0.1261432416189188, 0.08691289318732344)}\n",
      "validation:  {'recall@05': (0.13946214700856557, 0.0793068245275312)}\n"
     ]
    },
    {
     "data": {
      "application/vnd.jupyter.widget-view+json": {
       "model_id": "",
       "version_major": 2,
       "version_minor": 0
      },
      "text/plain": [
       "Eval (train):   0%|          | 0/333 [00:00<?, ?it/s]"
      ]
     },
     "metadata": {},
     "output_type": "display_data"
    },
    {
     "data": {
      "application/vnd.jupyter.widget-view+json": {
       "model_id": "",
       "version_major": 2,
       "version_minor": 0
      },
      "text/plain": [
       "Eval (validation):   0%|          | 0/50 [00:00<?, ?it/s]"
      ]
     },
     "metadata": {},
     "output_type": "display_data"
    },
    {
     "name": "stdout",
     "output_type": "stream",
     "text": [
      "train:  {'ndcg': (0.8187389207670639, 0.055157588850683524)}\n",
      "validation:  {'ndcg': (0.8172337608944436, 0.054542569085231266)}\n"
     ]
    },
    {
     "data": {
      "application/vnd.jupyter.widget-view+json": {
       "model_id": "",
       "version_major": 2,
       "version_minor": 0
      },
      "text/plain": [
       "Eval (train):   0%|          | 0/333 [00:00<?, ?it/s]"
      ]
     },
     "metadata": {},
     "output_type": "display_data"
    },
    {
     "data": {
      "application/vnd.jupyter.widget-view+json": {
       "model_id": "",
       "version_major": 2,
       "version_minor": 0
      },
      "text/plain": [
       "Eval (validation):   0%|          | 0/50 [00:00<?, ?it/s]"
      ]
     },
     "metadata": {},
     "output_type": "display_data"
    },
    {
     "name": "stdout",
     "output_type": "stream",
     "text": [
      "train:  {'precision@05': (0.527927927927928, 0.2821531875277025)}\n",
      "validation:  {'precision@05': (0.5800000000000001, 0.26)}\n"
     ]
    },
    {
     "data": {
      "application/vnd.jupyter.widget-view+json": {
       "model_id": "",
       "version_major": 2,
       "version_minor": 0
      },
      "text/plain": [
       "Eval (train):   0%|          | 0/333 [00:00<?, ?it/s]"
      ]
     },
     "metadata": {},
     "output_type": "display_data"
    },
    {
     "data": {
      "application/vnd.jupyter.widget-view+json": {
       "model_id": "",
       "version_major": 2,
       "version_minor": 0
      },
      "text/plain": [
       "Eval (validation):   0%|          | 0/50 [00:00<?, ?it/s]"
      ]
     },
     "metadata": {},
     "output_type": "display_data"
    },
    {
     "name": "stdout",
     "output_type": "stream",
     "text": [
      "train:  {'recall@05': (0.13037991285658077, 0.08228565939578002)}\n",
      "validation:  {'recall@05': (0.14336750902090573, 0.08053800112827854)}\n"
     ]
    },
    {
     "data": {
      "application/vnd.jupyter.widget-view+json": {
       "model_id": "",
       "version_major": 2,
       "version_minor": 0
      },
      "text/plain": [
       "Eval (train):   0%|          | 0/333 [00:00<?, ?it/s]"
      ]
     },
     "metadata": {},
     "output_type": "display_data"
    },
    {
     "data": {
      "application/vnd.jupyter.widget-view+json": {
       "model_id": "",
       "version_major": 2,
       "version_minor": 0
      },
      "text/plain": [
       "Eval (validation):   0%|          | 0/50 [00:00<?, ?it/s]"
      ]
     },
     "metadata": {},
     "output_type": "display_data"
    },
    {
     "name": "stdout",
     "output_type": "stream",
     "text": [
      "train:  {'ndcg': (0.8284124691141177, 0.05417174337299852)}\n",
      "validation:  {'ndcg': (0.8265737705940864, 0.04944876062522393)}\n"
     ]
    },
    {
     "data": {
      "application/vnd.jupyter.widget-view+json": {
       "model_id": "",
       "version_major": 2,
       "version_minor": 0
      },
      "text/plain": [
       "Eval (train):   0%|          | 0/333 [00:00<?, ?it/s]"
      ]
     },
     "metadata": {},
     "output_type": "display_data"
    },
    {
     "data": {
      "application/vnd.jupyter.widget-view+json": {
       "model_id": "",
       "version_major": 2,
       "version_minor": 0
      },
      "text/plain": [
       "Eval (validation):   0%|          | 0/50 [00:00<?, ?it/s]"
      ]
     },
     "metadata": {},
     "output_type": "display_data"
    },
    {
     "name": "stdout",
     "output_type": "stream",
     "text": [
      "train:  {'precision@05': (0.545945945945946, 0.2853112047653329)}\n",
      "validation:  {'precision@05': (0.5880000000000001, 0.26954776942130315)}\n"
     ]
    },
    {
     "data": {
      "application/vnd.jupyter.widget-view+json": {
       "model_id": "",
       "version_major": 2,
       "version_minor": 0
      },
      "text/plain": [
       "Eval (train):   0%|          | 0/333 [00:00<?, ?it/s]"
      ]
     },
     "metadata": {},
     "output_type": "display_data"
    },
    {
     "data": {
      "application/vnd.jupyter.widget-view+json": {
       "model_id": "",
       "version_major": 2,
       "version_minor": 0
      },
      "text/plain": [
       "Eval (validation):   0%|          | 0/50 [00:00<?, ?it/s]"
      ]
     },
     "metadata": {},
     "output_type": "display_data"
    },
    {
     "name": "stdout",
     "output_type": "stream",
     "text": [
      "train:  {'recall@05': (0.10441108434110334, 0.07680127621572737)}\n",
      "validation:  {'recall@05': (0.1182797165625233, 0.07066093111702937)}\n"
     ]
    },
    {
     "data": {
      "application/vnd.jupyter.widget-view+json": {
       "model_id": "",
       "version_major": 2,
       "version_minor": 0
      },
      "text/plain": [
       "Eval (test):   0%|          | 0/117 [00:00<?, ?it/s]"
      ]
     },
     "metadata": {},
     "output_type": "display_data"
    },
    {
     "name": "stdout",
     "output_type": "stream",
     "text": [
      "\"metric\": \"mean\" (\"standard deviation\")\n",
      "dcg: 108.9050 (24.72907)\n",
      "dcg@03: 19.6810 (8.47647)\n",
      "dcg@05: 24.8818 (10.15719)\n",
      "dcg@10: 32.7620 (12.79721)\n",
      "dcg@20: 41.4570 (14.58685)\n",
      "ndcg: 0.8398 (0.05715)\n",
      "ndcg@03: 0.6727 (0.24833)\n",
      "ndcg@05: 0.6436 (0.20721)\n",
      "ndcg@10: 0.6199 (0.17278)\n",
      "ndcg@20: 0.5992 (0.13963)\n",
      "precision@01: 0.7607 (0.42667)\n",
      "precision@03: 0.7208 (0.31715)\n",
      "precision@05: 0.6239 (0.28183)\n",
      "precision@10: 0.5034 (0.23892)\n",
      "precision@20: 0.3688 (0.17465)\n",
      "recall@01: 0.0355 (0.03094)\n",
      "recall@03: 0.0967 (0.06007)\n",
      "recall@05: 0.1369 (0.08138)\n",
      "recall@10: 0.2108 (0.10757)\n",
      "recall@20: 0.2976 (0.11420)\n",
      "relevant rank: 76.4374 (69.36023)\n",
      "relevant rank per query: 1967.1197 (1060.16337)\n"
     ]
    }
   ],
   "source": [
    "seed(42)\n",
    "params_clf = Namespace(epochs=13, \n",
    "                    lr=1e-3,\n",
    "                    batch_size=256,\n",
    "                    metrics={\"ndcg\", \"precision@05\", \"recall@05\"})\n",
    "\n",
    "pointwise_classification_model = NeuralModule(5)\n",
    "create_results(pointwise_classification_model,\n",
    "               train_pointwise,\n",
    "               partial(clf_pred, net=pointwise_classification_model),\n",
    "               \"./pointwise_classification.json\", \"clf\", params_clf)\n",
    "\n",
    "torch.save(pointwise_classification_model.state_dict(), \"./pointwise_clf_wt\")"
   ]
  },
  {
   "cell_type": "markdown",
   "metadata": {
    "deletable": false,
    "nbgrader": {
     "cell_type": "markdown",
     "checksum": "2ab42dfe7a4ffdce839f7f3990147830",
     "grade": true,
     "grade_id": "cell-ccb9cdbf2280bcff",
     "locked": false,
     "points": 30,
     "schema_version": 3,
     "solution": true,
     "task": false
    }
   },
   "source": [
    "YOUR ANSWER HERE"
   ]
  },
  {
   "cell_type": "code",
   "execution_count": 26,
   "metadata": {
    "deletable": false,
    "editable": false,
    "nbgrader": {
     "cell_type": "code",
     "checksum": "e8123d91619096913bd0809c27781857",
     "grade": true,
     "grade_id": "cell-780585f47729739e",
     "locked": true,
     "points": 15,
     "schema_version": 3,
     "solution": false,
     "task": false
    }
   },
   "outputs": [],
   "source": [
    "assert os.path.exists(\"./pointwise_regression.json\")\n",
    "assert os.path.exists(\"./pointwise_classification.json\")"
   ]
  },
  {
   "cell_type": "markdown",
   "metadata": {
    "deletable": false,
    "editable": false,
    "nbgrader": {
     "cell_type": "markdown",
     "checksum": "ed8a82c097df5799c15c9000475ad11e",
     "grade": false,
     "grade_id": "cell-e48bb26c37eacea9",
     "locked": true,
     "schema_version": 3,
     "solution": false,
     "task": false
    }
   },
   "source": [
    "## Section 3: Pairwise LTR (60 points) <a class=\"anchor\" id=\"pairwiseLTR\"></a>\n",
    "\n",
    "[Back to TOC](#top)\n",
    "\n",
    "In this section,  you will learn and implement RankNet, a  pairwise learning to rank algorithm.\n",
    "\n",
    "For a given query, consider two documents $D_i$ and $D_j$ with two different ground truth relevance  labels,  with  feature  vectors $x_i$ and $x_j$ respectively.   The  RankNet  model,  just  like  the pointwise model, uses $f$ to predict scores i.e $s_i=f(x_i)$ and $s_j=f(x_j)$, but uses a different loss during  training. $D_i \\triangleright D_j$ denotes  the  event  that $D_i$ should  be  ranked  higher  than $D_j$.   The  two outputs $s_i$ and $s_j$ are mapped to a learned probability that $D_i \\triangleright D_j$: \n",
    "\n",
    "\n",
    "$$        P_{ij} = \\frac{1}{1 + e^{-\\sigma(s_i - s_j)}} $$\n",
    "  \n",
    "where $\\sigma$ is a parameter that determines the shape of the sigmoid. The loss of the RankNet model is the cross entropy cost function:\n",
    "\n",
    "$$        C = - \\bar{P}_{ij} \\log P_{ij} - (1-\\bar{P}_{ij}) \\log (1 - P_{ij}) $$\n",
    "\n",
    "As the name suggests, in the pairwise approach to LTR, we optimize a loss $l$ over pairs of documents. Let $S_{ij} \\in \\{0, \\pm1 \\}$ be equal to $1$ if the relevance of document $i$ is greater than document $j$; $-1$ if document $j$ is more relevant than document $i$; and 0 if they have the same relevance. This gives us $\\bar{P}_{ij} = \\frac{1}{2} (1 + S_{ij})$ so that $\\bar{P}_{ij} = 1$ if $D_i \\triangleright D_j$; $\\bar{P}_{ij} = 0$ if $D_j \\triangleright D_i$; and finally $\\bar{P}_{ij} = \\frac{1}{2}$ if the relevance is identical. This gives us:\n",
    "\n",
    "$$        C = \\frac{1}{2}(1- S_{ij})\\sigma(s_i - s_j) + \\log(1+ e^{-\\sigma(s_i - s_j)}) $$\n",
    "\n",
    "Now, consider a single query for which $n$ documents have been returned. Let the output scores of the ranker be $s_j$ ; $j=\\{1, \\dots, n \\}$, the model parameters be $w_k \\in \\mathbb{R}^W$, and let the set of pairs of document indices used for training be $\\mathcal{P}$. Then, the total cost is $C_T = \\sum_{i,j \\in \\mathcal{P}} C(s_i; s_j)$. \n",
    "\n",
    "\n",
    "\n",
    "- Implement RankNet. You should construct training samples by creating all possible pairs of documents for a given query and optimizing the loss above. Use the following parameters:\n",
    "  - Layers: $501 (input) \\rightarrow 256 \\rightarrow 1$, where each layer is a linear layer (`nn.Linear`) with a ReLu activation function (`nn.ReLu`) in between the layers. Use the default weight initialization scheme. (Hint: use `nn.Sequential` for a one-line forward function!)"
   ]
  },
  {
   "cell_type": "markdown",
   "metadata": {
    "deletable": false,
    "editable": false,
    "nbgrader": {
     "cell_type": "markdown",
     "checksum": "e80a1fc2830a7bfe3be62c3bbf1df5b7",
     "grade": false,
     "grade_id": "cell-5359ecd282448c2a",
     "locked": true,
     "schema_version": 3,
     "solution": false,
     "task": false
    }
   },
   "source": [
    "For the pairwise loss, we need to have a structured **dataloader** which detects the documents associated with a specific query:"
   ]
  },
  {
   "cell_type": "code",
   "execution_count": 27,
   "metadata": {
    "deletable": false,
    "editable": false,
    "nbgrader": {
     "cell_type": "code",
     "checksum": "0e50a3b3ef0bf4fba2f792073ebb8443",
     "grade": false,
     "grade_id": "cell-0009b5254fc5f2ad",
     "locked": true,
     "schema_version": 3,
     "solution": false,
     "task": false
    }
   },
   "outputs": [
    {
     "name": "stdout",
     "output_type": "stream",
     "text": [
      "Query 1048 has 16 query-document pairs\n",
      "Shape of features for Query 1048: torch.Size([16, 501])\n"
     ]
    }
   ],
   "source": [
    "class QueryGroupedLTRData(Dataset):\n",
    "    def __init__(self, data, split):\n",
    "        self.split = {\n",
    "            \"train\": data.train,\n",
    "            \"validation\": data.validation,\n",
    "            \"test\": data.test\n",
    "        }.get(split)\n",
    "        assert self.split is not None, \"Invalid split!\"\n",
    "    \n",
    "    def __len__(self):\n",
    "        return self.split.num_queries()\n",
    "\n",
    "    def __getitem__(self, q_i):\n",
    "        feature = torch.FloatTensor(self.split.query_feat(q_i))\n",
    "        labels = torch.FloatTensor(self.split.query_labels(q_i))\n",
    "        return q_i, feature, labels\n",
    "\n",
    "# the return types are different from what pytorch expects, \n",
    "# so we will define a custom collate function which takes in\n",
    "# a batch and returns tensors (qids, features, labels) \n",
    "def qg_collate_fn(batch):\n",
    "    \n",
    "    qids = []\n",
    "    features = []\n",
    "    labels = []\n",
    "    \n",
    "    for (q, f, l) in batch:\n",
    "        qids.append(q)\n",
    "        features.append(f)\n",
    "        labels.append(l)\n",
    "    \n",
    "    return qids, features, labels\n",
    "    \n",
    "    \n",
    "## example - NOTE the collate_fn argument!\n",
    "train_dl = DataLoader(QueryGroupedLTRData(data, \"train\"), batch_size=1, shuffle=True, collate_fn=qg_collate_fn)\n",
    "# this is how you would use it to quickly iterate over the train/val/test sets \n",
    "for (qids, x, y) in train_dl:\n",
    "    # different from the previous data loader, qids, x and y aren't tensors, but lists!\n",
    "    for q_i, features_i, labels_i in zip(qids, x, y):\n",
    "        print(f\"Query {q_i} has {len(features_i)} query-document pairs\")\n",
    "        print(f\"Shape of features for Query {q_i}: {features_i.size()}\")\n",
    "        break\n",
    "    break\n",
    "        "
   ]
  },
  {
   "cell_type": "markdown",
   "metadata": {
    "deletable": false,
    "editable": false,
    "nbgrader": {
     "cell_type": "markdown",
     "checksum": "3c719c1aca6aa05893f903f78d75ba94",
     "grade": false,
     "grade_id": "cell-acdb1bfcd2ec582e",
     "locked": true,
     "schema_version": 3,
     "solution": false,
     "task": false
    }
   },
   "source": [
    "**Implementation (25 points):**\n",
    "First, implement the pairwaise loss, described above.\n",
    "\n",
    "**Rubric:**\n",
    " - Each ordering <i,j> combination is considered: 10 points\n",
    " - Proper application of the formula: 10 points\n",
    " - Mean loss: 5 points"
   ]
  },
  {
   "cell_type": "code",
   "execution_count": 28,
   "metadata": {
    "deletable": false,
    "nbgrader": {
     "cell_type": "code",
     "checksum": "3dcefb2b21b4524aa03cdf22382934ba",
     "grade": false,
     "grade_id": "cell-3a612aeb9e982639",
     "locked": false,
     "schema_version": 3,
     "solution": true,
     "task": false
    }
   },
   "outputs": [],
   "source": [
    "# TODO: Implement this! (25 points)\n",
    "def pairwise_loss(scores, labels):\n",
    "    \"\"\"\n",
    "    Compute and return the pairwise loss *for a single query*. To compute this, compute the loss for each \n",
    "    ordering in a query, and then return the mean. Use sigma=1.\n",
    "    \n",
    "    For a query, consider all possible ways of comparing 2 document-query pairs.\n",
    "    \n",
    "    Hint: See the next cell for an example which should make it clear how the inputs look like\n",
    "    \n",
    "    scores: tensor of size [N, 1] (the output of a neural network), where N = length of <query, document> pairs\n",
    "    labels: tensor of size [N], contains the relevance labels \n",
    "    \n",
    "    \"\"\"\n",
    "    # if there's only one rating\n",
    "    if labels.size(0) < 2:\n",
    "        return None\n",
    "    \n",
    "    # YOUR CODE HERE\n",
    "    SIGMA = 1\n",
    "\n",
    "    ## METHOD 1: 7 sec\n",
    "    combi_labels = torch.combinations(labels,2)\n",
    "    combi_scores = torch.combinations(scores,2)\n",
    "    s_ij = torch.sign(combi_labels[:,0]-combi_labels[:,1])\n",
    "    si_minus_sj = combi_scores[:,0]-combi_scores[:,1]\n",
    "    loss = 1/2*(1-s_ij)*SIGMA*si_minus_sj+torch.log(1+torch.exp(-1*SIGMA*si_minus_sj))\n",
    "    final_loss = torch.mean(loss)\n",
    "    \n",
    "#     print(s_ij)\n",
    "#     print(si_minus_sj)\n",
    "#     print(loss)\n",
    "#     print(final_loss, \"\\n\")\n",
    "    \n",
    "    ## METHOD 2: 6 sec\n",
    "    \n",
    "#     s_ij_matrix = torch.sign(labels[:,None] - labels[None,:])\n",
    "#     si_minus_sj_matrix = scores[:,None] - scores[None,:]\n",
    "#     loss_matrix = loss = 1/2*(1-s_ij_matrix)*SIGMA*si_minus_sj_matrix+torch.log(1+torch.exp(-1*SIGMA*si_minus_sj_matrix))\n",
    "#     final_loss = torch.mean(loss)\n",
    "    \n",
    "#     print(s_ij_matrix)\n",
    "#     print(si_minus_sj_matrix)\n",
    "#     print(loss_matrix)\n",
    "#     print(final_loss)\n",
    "    \n",
    "    return final_loss\n",
    "\n",
    "## Method 1:\n",
    "# tensor(0.6869)\n",
    "# tensor(0.2014)\n",
    "\n",
    "# Method 2:  Zeros on diagonal also used in computation of the mean!!\n",
    "# tensor(0.6882)\n",
    "# tensor(0.4473)"
   ]
  },
  {
   "cell_type": "code",
   "execution_count": 29,
   "metadata": {
    "deletable": false,
    "editable": false,
    "nbgrader": {
     "cell_type": "code",
     "checksum": "234a4669f7c7e14949006be676cabb90",
     "grade": false,
     "grade_id": "cell-01f6e909bc892bc8",
     "locked": true,
     "schema_version": 3,
     "solution": false,
     "task": false
    }
   },
   "outputs": [
    {
     "name": "stdout",
     "output_type": "stream",
     "text": [
      "tensor(0.6869)\n",
      "tensor(0.2014)\n"
     ]
    }
   ],
   "source": [
    "# Let's say we have 2 queries, the first one with 5 <document, query> pairs \n",
    "#    and the second one with 2 <document, query> pairs. The two variables can\n",
    "#    look something like this (note the shape, not the values):\n",
    "\n",
    "scores_1 = torch.FloatTensor([0.2, 2.3, 4.5, 0.2, 1.0])\n",
    "labels_1 = torch.FloatTensor([1, 2, 3, 0, 4])\n",
    "\n",
    "\n",
    "scores_2 = torch.FloatTensor([3.2, 1.7])\n",
    "labels_2 = torch.FloatTensor([3, 1])\n",
    "\n",
    "print(pairwise_loss(scores_1, labels_1))\n",
    "print(pairwise_loss(scores_2, labels_2))"
   ]
  },
  {
   "cell_type": "code",
   "execution_count": 30,
   "metadata": {
    "deletable": false,
    "nbgrader": {
     "cell_type": "code",
     "checksum": "618bd72120cdd1baae3f22733f124d6c",
     "grade": true,
     "grade_id": "cell-5f706c38e99721df",
     "locked": false,
     "points": 25,
     "schema_version": 3,
     "solution": true,
     "task": false
    }
   },
   "outputs": [],
   "source": [
    "# YOUR CODE HERE\n",
    "# raise NotImplementedError()"
   ]
  },
  {
   "cell_type": "markdown",
   "metadata": {
    "deletable": false,
    "editable": false,
    "nbgrader": {
     "cell_type": "markdown",
     "checksum": "b63a41669c7a768f5420d43968a53212",
     "grade": false,
     "grade_id": "cell-45f14561e4843320",
     "locked": true,
     "schema_version": 3,
     "solution": false,
     "task": false
    }
   },
   "source": [
    "**Implementation (35 points):**\n",
    "Now implement the wrapper for the pairwise LTR.\n",
    "\n",
    "**Rubric:**\n",
    " - Network is trained for specified epochs, and iterates over the entire dataset\n",
    " - and (train) data is shuffled : 10 points\n",
    " - Loss calculation: 10 points\n",
    " - Evaluation on the validation set: 5 points\n",
    " - Training (e.g optimizer, zero_grad, backward): 10 points"
   ]
  },
  {
   "cell_type": "code",
   "execution_count": 31,
   "metadata": {
    "deletable": false,
    "nbgrader": {
     "cell_type": "code",
     "checksum": "31ad65b3cbd923af54ff56f804bbc93c",
     "grade": false,
     "grade_id": "cell-a85c38ca94031203",
     "locked": false,
     "schema_version": 3,
     "solution": true,
     "task": false
    }
   },
   "outputs": [
    {
     "data": {
      "application/vnd.jupyter.widget-view+json": {
       "model_id": "ebd13aa07bb145d4860de042bbf9ca9f",
       "version_major": 2,
       "version_minor": 0
      },
      "text/plain": [
       "  0%|          | 0/2735 [00:00<?, ?it/s]"
      ]
     },
     "metadata": {},
     "output_type": "display_data"
    },
    {
     "data": {
      "application/vnd.jupyter.widget-view+json": {
       "model_id": "",
       "version_major": 2,
       "version_minor": 0
      },
      "text/plain": [
       "Eval (train):   0%|          | 0/333 [00:00<?, ?it/s]"
      ]
     },
     "metadata": {},
     "output_type": "display_data"
    },
    {
     "name": "stdout",
     "output_type": "stream",
     "text": [
      "\"metric\": \"mean\" (\"standard deviation\")\n",
      "dcg: 104.9255 (24.88770)\n",
      "dcg@03: 18.5772 (8.46365)\n",
      "dcg@05: 23.7474 (9.91920)\n",
      "dcg@10: 31.3677 (11.51121)\n",
      "dcg@20: 40.8873 (13.29244)\n",
      "ndcg: 0.8458 (0.05487)\n",
      "ndcg@03: 0.6505 (0.24858)\n",
      "ndcg@05: 0.6295 (0.20381)\n",
      "ndcg@10: 0.6110 (0.15819)\n",
      "ndcg@20: 0.6109 (0.12883)\n",
      "precision@01: 0.7598 (0.42723)\n",
      "precision@03: 0.6517 (0.32795)\n",
      "precision@05: 0.5910 (0.27734)\n",
      "precision@10: 0.4715 (0.21574)\n",
      "precision@20: 0.3671 (0.16803)\n",
      "recall@01: 0.0388 (0.03566)\n",
      "recall@03: 0.0967 (0.06980)\n",
      "recall@05: 0.1439 (0.09085)\n",
      "recall@10: 0.2233 (0.11963)\n",
      "recall@20: 0.3346 (0.14410)\n",
      "relevant rank: 64.3831 (59.53193)\n",
      "relevant rank per query: 1529.5345 (945.04974)\n"
     ]
    },
    {
     "data": {
      "application/vnd.jupyter.widget-view+json": {
       "model_id": "",
       "version_major": 2,
       "version_minor": 0
      },
      "text/plain": [
       "Eval (validation):   0%|          | 0/50 [00:00<?, ?it/s]"
      ]
     },
     "metadata": {},
     "output_type": "display_data"
    },
    {
     "name": "stdout",
     "output_type": "stream",
     "text": [
      "\"metric\": \"mean\" (\"standard deviation\")\n",
      "dcg: 105.8821 (22.88756)\n",
      "dcg@03: 20.4622 (8.44214)\n",
      "dcg@05: 25.3380 (8.96584)\n",
      "dcg@10: 33.0902 (10.20313)\n",
      "dcg@20: 42.7911 (11.28899)\n",
      "ndcg: 0.8543 (0.05071)\n",
      "ndcg@03: 0.7014 (0.26006)\n",
      "ndcg@05: 0.6669 (0.20207)\n",
      "ndcg@10: 0.6385 (0.15042)\n",
      "ndcg@20: 0.6356 (0.12166)\n",
      "precision@01: 0.8000 (0.40000)\n",
      "precision@03: 0.7133 (0.29822)\n",
      "precision@05: 0.6240 (0.24212)\n",
      "precision@10: 0.4960 (0.17884)\n",
      "precision@20: 0.3870 (0.14485)\n",
      "recall@01: 0.0417 (0.02968)\n",
      "recall@03: 0.1106 (0.07403)\n",
      "recall@05: 0.1531 (0.08241)\n",
      "recall@10: 0.2396 (0.12562)\n",
      "recall@20: 0.3558 (0.13426)\n",
      "relevant rank: 63.1101 (60.06518)\n",
      "relevant rank per query: 1490.6600 (928.54106)\n",
      "train:  {'recall@05': (0.1439023762710023, 0.09084537343159958)}\n",
      "validation:  {'recall@05': (0.15306076095672558, 0.08240802692847934)}\n"
     ]
    },
    {
     "data": {
      "application/vnd.jupyter.widget-view+json": {
       "model_id": "41779b4af48b45c5a7202ef65bb0e764",
       "version_major": 2,
       "version_minor": 0
      },
      "text/plain": [
       "  0%|          | 0/2735 [00:00<?, ?it/s]"
      ]
     },
     "metadata": {},
     "output_type": "display_data"
    },
    {
     "data": {
      "application/vnd.jupyter.widget-view+json": {
       "model_id": "",
       "version_major": 2,
       "version_minor": 0
      },
      "text/plain": [
       "Eval (train):   0%|          | 0/333 [00:00<?, ?it/s]"
      ]
     },
     "metadata": {},
     "output_type": "display_data"
    },
    {
     "name": "stdout",
     "output_type": "stream",
     "text": [
      "\"metric\": \"mean\" (\"standard deviation\")\n",
      "dcg: 105.6408 (24.91312)\n",
      "dcg@03: 19.2060 (8.15476)\n",
      "dcg@05: 24.2329 (9.62995)\n",
      "dcg@10: 32.0236 (11.62771)\n",
      "dcg@20: 41.7564 (13.39596)\n",
      "ndcg: 0.8518 (0.05304)\n",
      "ndcg@03: 0.6715 (0.23490)\n",
      "ndcg@05: 0.6430 (0.19657)\n",
      "ndcg@10: 0.6241 (0.15746)\n",
      "ndcg@20: 0.6241 (0.12652)\n",
      "precision@01: 0.7778 (0.41574)\n",
      "precision@03: 0.6857 (0.30670)\n",
      "precision@05: 0.6048 (0.27549)\n",
      "precision@10: 0.4826 (0.21947)\n",
      "precision@20: 0.3752 (0.16768)\n",
      "recall@01: 0.0402 (0.03640)\n",
      "recall@03: 0.1020 (0.06761)\n",
      "recall@05: 0.1473 (0.09041)\n",
      "recall@10: 0.2275 (0.12017)\n",
      "recall@20: 0.3443 (0.14670)\n",
      "relevant rank: 62.8752 (59.02220)\n",
      "relevant rank per query: 1493.7117 (937.96229)\n"
     ]
    },
    {
     "data": {
      "application/vnd.jupyter.widget-view+json": {
       "model_id": "",
       "version_major": 2,
       "version_minor": 0
      },
      "text/plain": [
       "Eval (validation):   0%|          | 0/50 [00:00<?, ?it/s]"
      ]
     },
     "metadata": {},
     "output_type": "display_data"
    },
    {
     "name": "stdout",
     "output_type": "stream",
     "text": [
      "\"metric\": \"mean\" (\"standard deviation\")\n",
      "dcg: 106.9817 (23.61145)\n",
      "dcg@03: 20.6369 (8.05898)\n",
      "dcg@05: 25.6858 (8.76320)\n",
      "dcg@10: 34.5056 (10.60473)\n",
      "dcg@20: 44.6990 (11.97460)\n",
      "ndcg: 0.8626 (0.04973)\n",
      "ndcg@03: 0.7108 (0.23803)\n",
      "ndcg@05: 0.6763 (0.18988)\n",
      "ndcg@10: 0.6646 (0.13924)\n",
      "ndcg@20: 0.6618 (0.11511)\n",
      "precision@01: 0.8400 (0.36661)\n",
      "precision@03: 0.7267 (0.27236)\n",
      "precision@05: 0.6480 (0.24186)\n",
      "precision@10: 0.5400 (0.18974)\n",
      "precision@20: 0.4120 (0.15445)\n",
      "recall@01: 0.0431 (0.02902)\n",
      "recall@03: 0.1113 (0.06085)\n",
      "recall@05: 0.1628 (0.08919)\n",
      "recall@10: 0.2575 (0.11810)\n",
      "recall@20: 0.3760 (0.12359)\n",
      "relevant rank: 59.9272 (59.32331)\n",
      "relevant rank per query: 1415.4800 (906.24613)\n",
      "train:  {'ndcg': (0.8457928613331216, 0.05486819149571641)}\n",
      "validation:  {'ndcg': (0.8543360631313658, 0.050713166537337394)}\n"
     ]
    },
    {
     "data": {
      "application/vnd.jupyter.widget-view+json": {
       "model_id": "d684adf074b34132965f4abbe2d43a93",
       "version_major": 2,
       "version_minor": 0
      },
      "text/plain": [
       "  0%|          | 0/2735 [00:00<?, ?it/s]"
      ]
     },
     "metadata": {},
     "output_type": "display_data"
    },
    {
     "data": {
      "application/vnd.jupyter.widget-view+json": {
       "model_id": "",
       "version_major": 2,
       "version_minor": 0
      },
      "text/plain": [
       "Eval (train):   0%|          | 0/333 [00:00<?, ?it/s]"
      ]
     },
     "metadata": {},
     "output_type": "display_data"
    },
    {
     "name": "stdout",
     "output_type": "stream",
     "text": [
      "\"metric\": \"mean\" (\"standard deviation\")\n",
      "dcg: 105.2986 (24.75563)\n",
      "dcg@03: 18.4780 (7.93020)\n",
      "dcg@05: 23.5535 (9.21201)\n",
      "dcg@10: 31.3686 (11.16147)\n",
      "dcg@20: 41.4530 (13.09711)\n",
      "ndcg: 0.8492 (0.05072)\n",
      "ndcg@03: 0.6466 (0.22459)\n",
      "ndcg@05: 0.6263 (0.18536)\n",
      "ndcg@10: 0.6121 (0.14852)\n",
      "ndcg@20: 0.6203 (0.12356)\n",
      "precision@01: 0.7928 (0.40531)\n",
      "precision@03: 0.6617 (0.30397)\n",
      "precision@05: 0.5976 (0.27726)\n",
      "precision@10: 0.4763 (0.22031)\n",
      "precision@20: 0.3784 (0.16916)\n",
      "recall@01: 0.0414 (0.03713)\n",
      "recall@03: 0.0989 (0.06856)\n",
      "recall@05: 0.1449 (0.08949)\n",
      "recall@10: 0.2242 (0.11482)\n",
      "recall@20: 0.3466 (0.15039)\n",
      "relevant rank: 63.1823 (59.38624)\n",
      "relevant rank per query: 1501.0060 (939.72338)\n"
     ]
    },
    {
     "data": {
      "application/vnd.jupyter.widget-view+json": {
       "model_id": "",
       "version_major": 2,
       "version_minor": 0
      },
      "text/plain": [
       "Eval (validation):   0%|          | 0/50 [00:00<?, ?it/s]"
      ]
     },
     "metadata": {},
     "output_type": "display_data"
    },
    {
     "name": "stdout",
     "output_type": "stream",
     "text": [
      "\"metric\": \"mean\" (\"standard deviation\")\n",
      "dcg: 105.6446 (22.70364)\n",
      "dcg@03: 18.7674 (7.33315)\n",
      "dcg@05: 24.4231 (7.90168)\n",
      "dcg@10: 32.5620 (8.86866)\n",
      "dcg@20: 43.2152 (11.02492)\n",
      "ndcg: 0.8531 (0.04121)\n",
      "ndcg@03: 0.6532 (0.22115)\n",
      "ndcg@05: 0.6472 (0.16378)\n",
      "ndcg@10: 0.6328 (0.11287)\n",
      "ndcg@20: 0.6420 (0.09919)\n",
      "precision@01: 0.7800 (0.41425)\n",
      "precision@03: 0.6733 (0.27072)\n",
      "precision@05: 0.6360 (0.20274)\n",
      "precision@10: 0.5120 (0.16810)\n",
      "precision@20: 0.4040 (0.15028)\n",
      "recall@01: 0.0414 (0.03383)\n",
      "recall@03: 0.1013 (0.05245)\n",
      "recall@05: 0.1609 (0.08273)\n",
      "recall@10: 0.2512 (0.12570)\n",
      "recall@20: 0.3730 (0.13998)\n",
      "relevant rank: 62.2574 (60.64910)\n",
      "relevant rank per query: 1470.5200 (969.47196)\n",
      "train:  {'precision@05': (0.5909909909909911, 0.27733704179873375)}\n",
      "validation:  {'precision@05': (0.624, 0.2421239352067449)}\n"
     ]
    },
    {
     "data": {
      "application/vnd.jupyter.widget-view+json": {
       "model_id": "0b9cbce0641d479a9ce492e55e1e96ac",
       "version_major": 2,
       "version_minor": 0
      },
      "text/plain": [
       "  0%|          | 0/2735 [00:00<?, ?it/s]"
      ]
     },
     "metadata": {},
     "output_type": "display_data"
    },
    {
     "data": {
      "application/vnd.jupyter.widget-view+json": {
       "model_id": "",
       "version_major": 2,
       "version_minor": 0
      },
      "text/plain": [
       "Eval (train):   0%|          | 0/333 [00:00<?, ?it/s]"
      ]
     },
     "metadata": {},
     "output_type": "display_data"
    },
    {
     "name": "stdout",
     "output_type": "stream",
     "text": [
      "\"metric\": \"mean\" (\"standard deviation\")\n",
      "dcg: 106.0669 (25.24117)\n",
      "dcg@03: 19.3257 (8.18732)\n",
      "dcg@05: 24.7108 (9.98263)\n",
      "dcg@10: 32.5837 (11.98334)\n",
      "dcg@20: 42.3858 (13.87903)\n",
      "ndcg: 0.8548 (0.05329)\n",
      "ndcg@03: 0.6741 (0.23392)\n",
      "ndcg@05: 0.6534 (0.20024)\n",
      "ndcg@10: 0.6336 (0.16015)\n",
      "ndcg@20: 0.6323 (0.13147)\n",
      "precision@01: 0.7718 (0.41969)\n",
      "precision@03: 0.6877 (0.31197)\n",
      "precision@05: 0.6228 (0.28235)\n",
      "precision@10: 0.4967 (0.22705)\n",
      "precision@20: 0.3847 (0.17322)\n",
      "recall@01: 0.0392 (0.03430)\n",
      "recall@03: 0.1027 (0.07189)\n",
      "recall@05: 0.1525 (0.09452)\n",
      "recall@10: 0.2333 (0.12129)\n",
      "recall@20: 0.3514 (0.14834)\n",
      "relevant rank: 61.8402 (58.73084)\n",
      "relevant rank per query: 1469.1231 (933.01989)\n"
     ]
    },
    {
     "data": {
      "application/vnd.jupyter.widget-view+json": {
       "model_id": "",
       "version_major": 2,
       "version_minor": 0
      },
      "text/plain": [
       "Eval (validation):   0%|          | 0/50 [00:00<?, ?it/s]"
      ]
     },
     "metadata": {},
     "output_type": "display_data"
    },
    {
     "name": "stdout",
     "output_type": "stream",
     "text": [
      "\"metric\": \"mean\" (\"standard deviation\")\n",
      "dcg: 106.7101 (23.56396)\n",
      "dcg@03: 20.3136 (7.50144)\n",
      "dcg@05: 25.6110 (8.81753)\n",
      "dcg@10: 33.6838 (9.94805)\n",
      "dcg@20: 44.7316 (12.07116)\n",
      "ndcg: 0.8603 (0.04927)\n",
      "ndcg@03: 0.6976 (0.21408)\n",
      "ndcg@05: 0.6704 (0.18099)\n",
      "ndcg@10: 0.6513 (0.14523)\n",
      "ndcg@20: 0.6629 (0.12309)\n",
      "precision@01: 0.7600 (0.42708)\n",
      "precision@03: 0.7533 (0.24775)\n",
      "precision@05: 0.6560 (0.24013)\n",
      "precision@10: 0.5300 (0.18682)\n",
      "precision@20: 0.4310 (0.15063)\n",
      "recall@01: 0.0396 (0.03067)\n",
      "recall@03: 0.1162 (0.06557)\n",
      "recall@05: 0.1609 (0.08127)\n",
      "recall@10: 0.2549 (0.12589)\n",
      "recall@20: 0.4027 (0.15445)\n",
      "relevant rank: 60.0525 (60.31357)\n",
      "relevant rank per query: 1418.4400 (934.72416)\n",
      "train:  {'recall@05': (0.14733754920673425, 0.0904123610256687)}\n",
      "validation:  {'recall@05': (0.16278667374388667, 0.08918674588966163)}\n"
     ]
    },
    {
     "data": {
      "application/vnd.jupyter.widget-view+json": {
       "model_id": "a07002d159ea426d806732de8911a98e",
       "version_major": 2,
       "version_minor": 0
      },
      "text/plain": [
       "  0%|          | 0/2735 [00:00<?, ?it/s]"
      ]
     },
     "metadata": {},
     "output_type": "display_data"
    },
    {
     "data": {
      "application/vnd.jupyter.widget-view+json": {
       "model_id": "",
       "version_major": 2,
       "version_minor": 0
      },
      "text/plain": [
       "Eval (train):   0%|          | 0/333 [00:00<?, ?it/s]"
      ]
     },
     "metadata": {},
     "output_type": "display_data"
    },
    {
     "name": "stdout",
     "output_type": "stream",
     "text": [
      "\"metric\": \"mean\" (\"standard deviation\")\n",
      "dcg: 105.8947 (25.19529)\n",
      "dcg@03: 19.1135 (8.29353)\n",
      "dcg@05: 24.2553 (9.79479)\n",
      "dcg@10: 32.3431 (11.84243)\n",
      "dcg@20: 42.2139 (13.81711)\n",
      "ndcg: 0.8535 (0.05326)\n",
      "ndcg@03: 0.6682 (0.23887)\n",
      "ndcg@05: 0.6434 (0.19810)\n",
      "ndcg@10: 0.6291 (0.15891)\n",
      "ndcg@20: 0.6298 (0.12995)\n",
      "precision@01: 0.7748 (0.41773)\n",
      "precision@03: 0.6857 (0.31949)\n",
      "precision@05: 0.6090 (0.28121)\n",
      "precision@10: 0.5027 (0.22929)\n",
      "precision@20: 0.3850 (0.17536)\n",
      "recall@01: 0.0391 (0.03407)\n",
      "recall@03: 0.1024 (0.07288)\n",
      "recall@05: 0.1479 (0.09228)\n",
      "recall@10: 0.2371 (0.12432)\n",
      "recall@20: 0.3515 (0.15211)\n",
      "relevant rank: 62.2876 (59.20490)\n",
      "relevant rank per query: 1479.7508 (928.43774)\n"
     ]
    },
    {
     "data": {
      "application/vnd.jupyter.widget-view+json": {
       "model_id": "",
       "version_major": 2,
       "version_minor": 0
      },
      "text/plain": [
       "Eval (validation):   0%|          | 0/50 [00:00<?, ?it/s]"
      ]
     },
     "metadata": {},
     "output_type": "display_data"
    },
    {
     "name": "stdout",
     "output_type": "stream",
     "text": [
      "\"metric\": \"mean\" (\"standard deviation\")\n",
      "dcg: 106.2543 (23.44837)\n",
      "dcg@03: 19.6274 (7.77404)\n",
      "dcg@05: 25.5657 (8.27646)\n",
      "dcg@10: 33.4082 (9.95065)\n",
      "dcg@20: 43.7790 (11.41998)\n",
      "ndcg: 0.8569 (0.05107)\n",
      "ndcg@03: 0.6788 (0.23246)\n",
      "ndcg@05: 0.6747 (0.17468)\n",
      "ndcg@10: 0.6476 (0.14775)\n",
      "ndcg@20: 0.6503 (0.11804)\n",
      "precision@01: 0.7600 (0.42708)\n",
      "precision@03: 0.7200 (0.29333)\n",
      "precision@05: 0.6560 (0.20412)\n",
      "precision@10: 0.5220 (0.19317)\n",
      "precision@20: 0.4080 (0.15696)\n",
      "recall@01: 0.0381 (0.03017)\n",
      "recall@03: 0.1112 (0.07008)\n",
      "recall@05: 0.1654 (0.08538)\n",
      "recall@10: 0.2496 (0.12317)\n",
      "recall@20: 0.3729 (0.14117)\n",
      "relevant rank: 60.9399 (59.68020)\n",
      "relevant rank per query: 1439.4000 (893.22474)\n",
      "train:  {'ndcg': (0.8518032509740527, 0.053039172189883514)}\n",
      "validation:  {'ndcg': (0.8625776291320812, 0.04972517653719366)}\n"
     ]
    },
    {
     "data": {
      "application/vnd.jupyter.widget-view+json": {
       "model_id": "f9af5b2f6da64e8bbd4e69c7c561ef0a",
       "version_major": 2,
       "version_minor": 0
      },
      "text/plain": [
       "  0%|          | 0/2735 [00:00<?, ?it/s]"
      ]
     },
     "metadata": {},
     "output_type": "display_data"
    },
    {
     "data": {
      "application/vnd.jupyter.widget-view+json": {
       "model_id": "",
       "version_major": 2,
       "version_minor": 0
      },
      "text/plain": [
       "Eval (train):   0%|          | 0/333 [00:00<?, ?it/s]"
      ]
     },
     "metadata": {},
     "output_type": "display_data"
    },
    {
     "name": "stdout",
     "output_type": "stream",
     "text": [
      "\"metric\": \"mean\" (\"standard deviation\")\n",
      "dcg: 105.8345 (25.19399)\n",
      "dcg@03: 18.7821 (8.04907)\n",
      "dcg@05: 23.9593 (9.58141)\n",
      "dcg@10: 32.1599 (11.65412)\n",
      "dcg@20: 42.1609 (13.70344)\n",
      "ndcg: 0.8530 (0.05253)\n",
      "ndcg@03: 0.6581 (0.23306)\n",
      "ndcg@05: 0.6363 (0.19260)\n",
      "ndcg@10: 0.6259 (0.15469)\n",
      "ndcg@20: 0.6292 (0.12789)\n",
      "precision@01: 0.7838 (0.41166)\n",
      "precision@03: 0.6897 (0.31608)\n",
      "precision@05: 0.6108 (0.28644)\n",
      "precision@10: 0.4994 (0.22608)\n",
      "precision@20: 0.3859 (0.17483)\n",
      "recall@01: 0.0406 (0.03712)\n",
      "recall@03: 0.1025 (0.07340)\n",
      "recall@05: 0.1479 (0.09253)\n",
      "recall@10: 0.2349 (0.12435)\n",
      "recall@20: 0.3522 (0.15012)\n",
      "relevant rank: 61.6497 (58.91706)\n",
      "relevant rank per query: 1464.5976 (931.06009)\n"
     ]
    },
    {
     "data": {
      "application/vnd.jupyter.widget-view+json": {
       "model_id": "",
       "version_major": 2,
       "version_minor": 0
      },
      "text/plain": [
       "Eval (validation):   0%|          | 0/50 [00:00<?, ?it/s]"
      ]
     },
     "metadata": {},
     "output_type": "display_data"
    },
    {
     "name": "stdout",
     "output_type": "stream",
     "text": [
      "\"metric\": \"mean\" (\"standard deviation\")\n",
      "dcg: 106.0799 (22.64598)\n",
      "dcg@03: 18.9929 (7.91845)\n",
      "dcg@05: 24.8969 (8.17425)\n",
      "dcg@10: 33.2480 (9.71248)\n",
      "dcg@20: 43.3339 (11.16789)\n",
      "ndcg: 0.8571 (0.04710)\n",
      "ndcg@03: 0.6628 (0.24191)\n",
      "ndcg@05: 0.6628 (0.18252)\n",
      "ndcg@10: 0.6464 (0.13865)\n",
      "ndcg@20: 0.6471 (0.11918)\n",
      "precision@01: 0.7800 (0.41425)\n",
      "precision@03: 0.6533 (0.30521)\n",
      "precision@05: 0.6480 (0.22825)\n",
      "precision@10: 0.5280 (0.17781)\n",
      "precision@20: 0.4070 (0.15938)\n",
      "recall@01: 0.0426 (0.03524)\n",
      "recall@03: 0.1013 (0.06336)\n",
      "recall@05: 0.1636 (0.08647)\n",
      "recall@10: 0.2612 (0.13421)\n",
      "recall@20: 0.3811 (0.16008)\n",
      "relevant rank: 61.3895 (61.00350)\n",
      "relevant rank per query: 1450.0200 (972.46494)\n",
      "train:  {'precision@05': (0.6048048048048048, 0.2754865328227564)}\n",
      "validation:  {'precision@05': (0.648, 0.24185946332529562)}\n"
     ]
    },
    {
     "data": {
      "application/vnd.jupyter.widget-view+json": {
       "model_id": "440c3932532244418615dbd82fe9b7d8",
       "version_major": 2,
       "version_minor": 0
      },
      "text/plain": [
       "  0%|          | 0/2735 [00:00<?, ?it/s]"
      ]
     },
     "metadata": {},
     "output_type": "display_data"
    },
    {
     "data": {
      "application/vnd.jupyter.widget-view+json": {
       "model_id": "",
       "version_major": 2,
       "version_minor": 0
      },
      "text/plain": [
       "Eval (train):   0%|          | 0/333 [00:00<?, ?it/s]"
      ]
     },
     "metadata": {},
     "output_type": "display_data"
    },
    {
     "name": "stdout",
     "output_type": "stream",
     "text": [
      "\"metric\": \"mean\" (\"standard deviation\")\n",
      "dcg: 106.4725 (25.43538)\n",
      "dcg@03: 19.3373 (8.05984)\n",
      "dcg@05: 24.5479 (9.54445)\n",
      "dcg@10: 32.8244 (11.77955)\n",
      "dcg@20: 43.1355 (14.08259)\n",
      "ndcg: 0.8579 (0.05263)\n",
      "ndcg@03: 0.6778 (0.23127)\n",
      "ndcg@05: 0.6518 (0.18819)\n",
      "ndcg@10: 0.6388 (0.15517)\n",
      "ndcg@20: 0.6429 (0.12991)\n",
      "precision@01: 0.8108 (0.39166)\n",
      "precision@03: 0.6987 (0.30616)\n",
      "precision@05: 0.6204 (0.27169)\n",
      "precision@10: 0.5060 (0.22798)\n",
      "precision@20: 0.3979 (0.17815)\n",
      "recall@01: 0.0417 (0.03648)\n",
      "recall@03: 0.1057 (0.07433)\n",
      "recall@05: 0.1526 (0.09407)\n",
      "recall@10: 0.2399 (0.12676)\n",
      "recall@20: 0.3636 (0.15373)\n",
      "relevant rank: 60.3883 (58.05069)\n",
      "relevant rank per query: 1434.6306 (918.32216)\n"
     ]
    },
    {
     "data": {
      "application/vnd.jupyter.widget-view+json": {
       "model_id": "",
       "version_major": 2,
       "version_minor": 0
      },
      "text/plain": [
       "Eval (validation):   0%|          | 0/50 [00:00<?, ?it/s]"
      ]
     },
     "metadata": {},
     "output_type": "display_data"
    },
    {
     "name": "stdout",
     "output_type": "stream",
     "text": [
      "\"metric\": \"mean\" (\"standard deviation\")\n",
      "dcg: 106.7556 (22.93425)\n",
      "dcg@03: 20.2931 (7.60592)\n",
      "dcg@05: 25.4819 (8.17005)\n",
      "dcg@10: 34.0152 (9.70991)\n",
      "dcg@20: 44.2659 (11.31557)\n",
      "ndcg: 0.8621 (0.04406)\n",
      "ndcg@03: 0.7043 (0.21962)\n",
      "ndcg@05: 0.6743 (0.16937)\n",
      "ndcg@10: 0.6601 (0.12830)\n",
      "ndcg@20: 0.6583 (0.10781)\n",
      "precision@01: 0.8000 (0.40000)\n",
      "precision@03: 0.7133 (0.26675)\n",
      "precision@05: 0.6480 (0.20999)\n",
      "precision@10: 0.5300 (0.18248)\n",
      "precision@20: 0.4070 (0.15000)\n",
      "recall@01: 0.0434 (0.03472)\n",
      "recall@03: 0.1096 (0.05849)\n",
      "recall@05: 0.1642 (0.08052)\n",
      "recall@10: 0.2598 (0.13048)\n",
      "recall@20: 0.3780 (0.14949)\n",
      "relevant rank: 60.5953 (60.08704)\n",
      "relevant rank per query: 1431.2600 (922.26000)\n",
      "train:  {'recall@05': (0.14489426775004385, 0.08949128577131317)}\n",
      "validation:  {'recall@05': (0.16093973619305912, 0.08272546709107738)}\n"
     ]
    },
    {
     "data": {
      "application/vnd.jupyter.widget-view+json": {
       "model_id": "09ae8a60889f42f5bfc274586e7a68f9",
       "version_major": 2,
       "version_minor": 0
      },
      "text/plain": [
       "  0%|          | 0/2735 [00:00<?, ?it/s]"
      ]
     },
     "metadata": {},
     "output_type": "display_data"
    },
    {
     "data": {
      "application/vnd.jupyter.widget-view+json": {
       "model_id": "",
       "version_major": 2,
       "version_minor": 0
      },
      "text/plain": [
       "Eval (train):   0%|          | 0/333 [00:00<?, ?it/s]"
      ]
     },
     "metadata": {},
     "output_type": "display_data"
    },
    {
     "name": "stdout",
     "output_type": "stream",
     "text": [
      "\"metric\": \"mean\" (\"standard deviation\")\n",
      "dcg: 106.5242 (25.37188)\n",
      "dcg@03: 19.6656 (8.40554)\n",
      "dcg@05: 24.7628 (9.81061)\n",
      "dcg@10: 33.0165 (11.89412)\n",
      "dcg@20: 42.9944 (14.18462)\n",
      "ndcg: 0.8585 (0.05460)\n",
      "ndcg@03: 0.6888 (0.24324)\n",
      "ndcg@05: 0.6572 (0.19697)\n",
      "ndcg@10: 0.6428 (0.15810)\n",
      "ndcg@20: 0.6406 (0.13187)\n",
      "precision@01: 0.8048 (0.39635)\n",
      "precision@03: 0.7167 (0.31133)\n",
      "precision@05: 0.6258 (0.27931)\n",
      "precision@10: 0.5141 (0.22289)\n",
      "precision@20: 0.3953 (0.17273)\n",
      "recall@01: 0.0404 (0.03206)\n",
      "recall@03: 0.1078 (0.07192)\n",
      "recall@05: 0.1523 (0.09158)\n",
      "recall@10: 0.2422 (0.12136)\n",
      "recall@20: 0.3615 (0.15030)\n",
      "relevant rank: 60.5160 (58.18486)\n",
      "relevant rank per query: 1437.6637 (920.41400)\n"
     ]
    },
    {
     "data": {
      "application/vnd.jupyter.widget-view+json": {
       "model_id": "",
       "version_major": 2,
       "version_minor": 0
      },
      "text/plain": [
       "Eval (validation):   0%|          | 0/50 [00:00<?, ?it/s]"
      ]
     },
     "metadata": {},
     "output_type": "display_data"
    },
    {
     "name": "stdout",
     "output_type": "stream",
     "text": [
      "\"metric\": \"mean\" (\"standard deviation\")\n",
      "dcg: 107.0087 (23.49388)\n",
      "dcg@03: 20.5212 (7.54525)\n",
      "dcg@05: 25.8928 (8.66565)\n",
      "dcg@10: 34.5179 (9.88491)\n",
      "dcg@20: 44.8795 (11.62604)\n",
      "ndcg: 0.8632 (0.04425)\n",
      "ndcg@03: 0.7113 (0.21276)\n",
      "ndcg@05: 0.6824 (0.16947)\n",
      "ndcg@10: 0.6685 (0.12486)\n",
      "ndcg@20: 0.6658 (0.10400)\n",
      "precision@01: 0.8400 (0.36661)\n",
      "precision@03: 0.7333 (0.28284)\n",
      "precision@05: 0.6640 (0.22429)\n",
      "precision@10: 0.5480 (0.18465)\n",
      "precision@20: 0.4190 (0.15195)\n",
      "recall@01: 0.0455 (0.03377)\n",
      "recall@03: 0.1136 (0.06364)\n",
      "recall@05: 0.1669 (0.08585)\n",
      "recall@10: 0.2662 (0.12407)\n",
      "recall@20: 0.3859 (0.14009)\n",
      "relevant rank: 61.7290 (61.45649)\n",
      "relevant rank per query: 1458.0400 (955.29891)\n",
      "train:  {'ndcg': (0.8492159669666156, 0.05072228129611532)}\n",
      "validation:  {'ndcg': (0.8531175622531001, 0.04120554024554809)}\n"
     ]
    },
    {
     "data": {
      "text/plain": [
       "{'metrics_val': [{'recall@05': (0.15306076095672558, 0.08240802692847934)},\n",
       "  {'ndcg': (0.8543360631313658, 0.050713166537337394)},\n",
       "  {'precision@05': (0.624, 0.2421239352067449)},\n",
       "  {'recall@05': (0.16278667374388667, 0.08918674588966163)},\n",
       "  {'ndcg': (0.8625776291320812, 0.04972517653719366)},\n",
       "  {'precision@05': (0.648, 0.24185946332529562)},\n",
       "  {'recall@05': (0.16093973619305912, 0.08272546709107738)},\n",
       "  {'ndcg': (0.8531175622531001, 0.04120554024554809)},\n",
       "  {'precision@05': (0.6360000000000001, 0.202741214359587)},\n",
       "  {'recall@05': (0.16089465648634832, 0.08127191385015486)},\n",
       "  {'ndcg': (0.8603470935014024, 0.049267643546960685)},\n",
       "  {'precision@05': (0.6559999999999999, 0.24013329631685815)},\n",
       "  {'recall@05': (0.16536124794963947, 0.08537831109429603)},\n",
       "  {'ndcg': (0.856897734110264, 0.051073399113342285)},\n",
       "  {'precision@05': (0.6559999999999999, 0.20411761315476917)},\n",
       "  {'recall@05': (0.16358954343942084, 0.0864675744170577)},\n",
       "  {'ndcg': (0.8570694962720629, 0.047100684181262266)},\n",
       "  {'precision@05': (0.6480000000000001, 0.2282454818829937)},\n",
       "  {'recall@05': (0.16417276283440493, 0.08051866412989708)},\n",
       "  {'ndcg': (0.8620519870495466, 0.04405533387467326)},\n",
       "  {'precision@05': (0.648, 0.209990475974507)},\n",
       "  {'recall@05': (0.16690347107140124, 0.08584963771018378)},\n",
       "  {'ndcg': (0.8632148503431972, 0.04424586359963474)},\n",
       "  {'precision@05': (0.6639999999999999, 0.22428553230201898)}],\n",
       " 'metrics_train': [{'recall@05': (0.1439023762710023, 0.09084537343159958)},\n",
       "  {'ndcg': (0.8457928613331216, 0.05486819149571641)},\n",
       "  {'precision@05': (0.5909909909909911, 0.27733704179873375)},\n",
       "  {'recall@05': (0.14733754920673425, 0.0904123610256687)},\n",
       "  {'ndcg': (0.8518032509740527, 0.053039172189883514)},\n",
       "  {'precision@05': (0.6048048048048048, 0.2754865328227564)},\n",
       "  {'recall@05': (0.14489426775004385, 0.08949128577131317)},\n",
       "  {'ndcg': (0.8492159669666156, 0.05072228129611532)},\n",
       "  {'precision@05': (0.5975975975975976, 0.2772563891771907)},\n",
       "  {'recall@05': (0.1524926163875394, 0.09452385779508665)},\n",
       "  {'ndcg': (0.8548473287738091, 0.05329412590328696)},\n",
       "  {'precision@05': (0.6228228228228228, 0.28234616873376955)},\n",
       "  {'recall@05': (0.14790922423585817, 0.09227500911532241)},\n",
       "  {'ndcg': (0.8534751542049717, 0.05325839765524758)},\n",
       "  {'precision@05': (0.609009009009009, 0.28120810250743977)},\n",
       "  {'recall@05': (0.1479450220042844, 0.0925319169845813)},\n",
       "  {'ndcg': (0.8530208079207947, 0.052526624377384284)},\n",
       "  {'precision@05': (0.6108108108108108, 0.2864354875565788)},\n",
       "  {'recall@05': (0.15262459950861998, 0.09406526173299627)},\n",
       "  {'ndcg': (0.8578517432459514, 0.052631736870147716)},\n",
       "  {'precision@05': (0.6204204204204204, 0.2716932841718534)},\n",
       "  {'recall@05': (0.15230622179642697, 0.09157525452946261)},\n",
       "  {'ndcg': (0.8584849675841829, 0.05460327377847003)},\n",
       "  {'precision@05': (0.6258258258258258, 0.27930575611521646)}]}"
      ]
     },
     "execution_count": 31,
     "metadata": {},
     "output_type": "execute_result"
    }
   ],
   "source": [
    "# TODO: Implement this! (35 points)\n",
    "def train_pairwise(net, params):\n",
    "    \"\"\"\n",
    "    This function should train the given network using the pairwise loss\n",
    "    \n",
    "    Returns: a dictionary containing: \"metrics_val\" (a list of dictionaries) and \n",
    "             \"metrics_train\" (a list of dictionaries). \n",
    "             \n",
    "             \"metrics_val\" should contain metrics (the metrics in params.metrics) computed\n",
    "             after each epoch on the validation set (metrics_train is similar). \n",
    "             You can use this to debug your models\n",
    "    \n",
    "    Note: Do not change the function definition! \n",
    "    Note: You can assume params.batch_size will always be equal to 1\n",
    "    \n",
    "    Hint: Consider the case when the loss function returns 'None'\n",
    "    \n",
    "    net: the neural network to be trained\n",
    "    \n",
    "    params: params is an object which contains config used in training \n",
    "        (eg. params.epochs - the number of epochs to train). \n",
    "        For a full list of these params, see the next cell. \n",
    "    \"\"\"\n",
    "\n",
    "    val_metrics_epoch = []\n",
    "    train_metrics_epoch = []\n",
    "    # YOUR CODE HERE\n",
    "    ## Rubric:\n",
    "        # Network is trained for specified epochs, and iterates over the entire dataset\n",
    "        # and (train) data is shuffled : 10 points\n",
    "        # Loss calculation: 10 points\n",
    "        # Evaluation on the validation set: 5 points\n",
    "        # Training (e.g optimizer, zero_grad, backward): 10 point\n",
    "        \n",
    "    # Define parameters\n",
    "    epochs = params.epochs\n",
    "    learning_rate = params.lr\n",
    "    batch_size = params.batch_size\n",
    "    metrics = params.metrics\n",
    "    \n",
    "    # Specify prediction function\n",
    "    loss_function = pairwise_loss\n",
    "    pred_fn = partial(net)\n",
    "    \n",
    "    # Define Adam optimizer\n",
    "    optimizer = Adam(net.parameters(), lr=learning_rate)\n",
    "    \n",
    "    # Create train & validation data:\n",
    "    train_dl = DataLoader(QueryGroupedLTRData(data, \"train\"), batch_size=batch_size, shuffle=True, collate_fn=qg_collate_fn)\n",
    "    validation_dl = DataLoader(QueryGroupedLTRData(data, \"validation\"), shuffle=False, collate_fn=qg_collate_fn)\n",
    "    \n",
    "    # Training loop\n",
    "    for epoch in range(epochs):\n",
    "        for (query_ids, features, targets) in tqdm(train_dl): # loop over 2735 different queries\n",
    "            net.zero_grad()\n",
    "            out = torch.FloatTensor()\n",
    "            for query, x, y in zip(query_ids, features, targets): # run over all documents for a specific query\n",
    "                out = torch.cat([out, net(x)]) # concatenates outputs of the network for each of the documents belonging to query q_i\n",
    "            loss = loss_function(out.squeeze(1), y) # if I use detach() the gradient is deleted and loss becomes useless\n",
    "            if loss:\n",
    "                loss.backward()\n",
    "                optimizer.step()\n",
    "        \n",
    "        # EVALUATE\n",
    "        train_evaluation = evaluate_model(pred_fn, \"train\", print_results=True, q_level=True)  #def evaluate_model(pred_fn, split, batch_size=256, print_results=False, q_level=False):\n",
    "        validation_evaluation = evaluate_model(pred_fn, \"validation\", print_results=True, q_level=True)           \n",
    "\n",
    "        # Save the appropriate evaluations\n",
    "        for m in params.metrics:\n",
    "            train_metrics_epoch.append({m : train_evaluation[0][m]})\n",
    "            val_metrics_epoch.append({m : validation_evaluation[0][m]})  \n",
    "            \n",
    "        # print metrics    \n",
    "        print(\"train: \", train_metrics_epoch[epoch])\n",
    "        print(\"validation: \", val_metrics_epoch[epoch])\n",
    "    \n",
    "    return {\n",
    "        \"metrics_val\": val_metrics_epoch,\n",
    "        \"metrics_train\": train_metrics_epoch\n",
    "    }\n",
    "\n",
    "# We used this here because we cannot modify the next cell\n",
    "seed(42)\n",
    "params = Namespace(epochs=8, \n",
    "                    lr=1e-3,\n",
    "                    batch_size=1,\n",
    "                    metrics={\"ndcg\", \"precision@05\", \"recall@05\"})\n",
    "pairwise_net = NeuralModule(1)\n",
    "train_pairwise(pairwise_net, params)"
   ]
  },
  {
   "cell_type": "code",
   "execution_count": 32,
   "metadata": {
    "deletable": false,
    "editable": false,
    "nbgrader": {
     "cell_type": "code",
     "checksum": "b4b97202b1befddb4af2ec7851c5d174",
     "grade": false,
     "grade_id": "cell-19ec0cf692c86b75",
     "locked": true,
     "schema_version": 3,
     "solution": false,
     "task": false
    }
   },
   "outputs": [],
   "source": [
    "pairwise_params_test = Namespace(epochs=1, lr=1e-3, batch_size=1, metrics={\"ndcg\"})\n",
    "## uncomment to test your code\n",
    "# pairwise_net = NeuralModule(1)\n",
    "# train_pairwise(pairwise_net, pairwise_params_test)\n",
    "# pairwise_test, pairwise_q = evaluate_model(pairwise_net,\n",
    "#                                          \"test\", print_results=True, q_level=True)"
   ]
  },
  {
   "cell_type": "code",
   "execution_count": 33,
   "metadata": {
    "deletable": false,
    "nbgrader": {
     "cell_type": "code",
     "checksum": "52558867a0a7f79d6c42ceab4f26a132",
     "grade": true,
     "grade_id": "cell-34178113ea5e9331",
     "locked": false,
     "points": 35,
     "schema_version": 3,
     "solution": true,
     "task": false
    }
   },
   "outputs": [],
   "source": [
    "# YOUR CODE HERE\n",
    "# raise NotImplementedError()"
   ]
  },
  {
   "cell_type": "markdown",
   "metadata": {
    "deletable": false,
    "editable": false,
    "nbgrader": {
     "cell_type": "markdown",
     "checksum": "3867bfe2e108bffb3ae69f5ddfd68834",
     "grade": false,
     "grade_id": "cell-3a95bb01f72fc76c",
     "locked": true,
     "schema_version": 3,
     "solution": false,
     "task": false
    }
   },
   "source": [
    "## Section 4: Pairwise: Speed-up RankNet (70 points) <a class=\"anchor\" id=\"SpairwiseLTR\"></a>\n",
    "\n",
    "[Back to TOC](#top)\n",
    "\n",
    "To speed up training of the previous model, we can consider a sped up version of the model, where instead of `.backward` on the loss, we use `torch.backward(lambda_i)`. \n",
    "\n",
    "The derivative of the total cost $C_T$ with respect to the model parameters $w_k$ is:\n",
    "\n",
    "$$        \\frac{\\partial C_T}{\\partial w_k} = \\sum_{(i,j) \\in \\mathcal{P}} \\frac{\\partial C(s_i, s_j)}{\\partial s_i} \\frac{\\partial s_i}{\\partial w_k} + \\frac{\\partial C(s_i, s_j)}{\\partial s_j} \\frac{\\partial s_j}{\\partial w_k} $$\n",
    "\n",
    "We can rewrite this sum by considering the set of indices $j$ , for which $\\{i,j\\}$ is a valid pair, denoted by $\\mathcal{P}_i$, and the set of document indices $\\mathcal{D}$:\n",
    "\n",
    "$$\n",
    "\\frac{\\partial C_T}{\\partial w_k} = \\sum_{i \\in \\mathcal{D}}\n",
    "\\frac{\\partial s_i}{\\partial w_k} \\sum_{j \\in \\mathcal{P}_i} \n",
    "\\frac{\\partial C(s_i, s_j)}{\\partial s_i} \n",
    "$$\n",
    "\n",
    "This sped of version of the algorithm first computes scores $s_i$ for all the documents. Then for each $j= 1, \\dots, n$, compute:\n",
    "\n",
    "$$\n",
    "\\lambda_{ij} = \\frac{\\partial C(s_i, s_j)}{\\partial s_i} = \\sigma \\bigg( \\frac{1}{2}(1 - S_{ij}) -  \\frac{1}{1 + e^{\\sigma(s_i -s_j))}} \\bigg) \\\\\n",
    "\\lambda_i = \\sum_{j \\in \\mathcal{P}_i} \\frac{\\partial C(s_i, s_j)}{\\partial s_i} = \\sum_{j \\in \\mathcal{P}_i} \\lambda_{ij}\n",
    "$$\n",
    "\n",
    "That gives us:\n",
    "\n",
    "$$\n",
    "\\frac{\\partial C_T}{\\partial w_k} = \\sum_{i \\in \\mathcal{D}}\n",
    "\\frac{\\partial s_i}{\\partial w_k} \\lambda_i\n",
    "$$\n",
    "\n",
    "This can be directly optimized in pytorch using: `torch.autograd.backward(scores, lambda_i)` \n",
    " \n"
   ]
  },
  {
   "cell_type": "markdown",
   "metadata": {
    "deletable": false,
    "editable": false,
    "nbgrader": {
     "cell_type": "markdown",
     "checksum": "c88f76d295dd1dc2778cd2413b4c58e8",
     "grade": false,
     "grade_id": "cell-2a9b7b682a011642",
     "locked": true,
     "schema_version": 3,
     "solution": false,
     "task": false
    }
   },
   "source": [
    "**Implementation (20 points):**\n",
    "Implement the sped-up version of pairwise loss, described above.\n",
    "\n",
    "**Rubric:**\n",
    " - Each ordering <i,j> combination is considered: 10 points\n",
    " - Proper application of the formula: 10 points"
   ]
  },
  {
   "cell_type": "code",
   "execution_count": 34,
   "metadata": {
    "deletable": false,
    "nbgrader": {
     "cell_type": "code",
     "checksum": "4cea38cdd68cb70d08e33827bffc53a8",
     "grade": false,
     "grade_id": "cell-ba7f8d8631e3f1d6",
     "locked": false,
     "schema_version": 3,
     "solution": true,
     "task": false
    }
   },
   "outputs": [
    {
     "name": "stdout",
     "output_type": "stream",
     "text": [
      "tensor([[-0.0675],\n",
      "        [ 0.6674],\n",
      "        [ 0.8442],\n",
      "        [ 0.9325],\n",
      "        [-2.3766]])\n",
      "tensor([[-0.1824],\n",
      "        [ 0.1824]])\n"
     ]
    }
   ],
   "source": [
    "# TODO: Implement this! (20 points)\n",
    "def compute_lambda_i(scores, labels):\n",
    "    \"\"\"\n",
    "    Compute \\lambda_i (defined in the previous cell). (assume sigma=1.)\n",
    "    \n",
    "    scores: tensor of size [N, 1] (the output of a neural network), where N = length of <query, document> pairs\n",
    "    labels: tensor of size [N], contains the relevance labels \n",
    "    \n",
    "    return: \\lambda_i, a tensor of shape: [N, 1]\n",
    "    \"\"\"\n",
    "    # YOUR CODE HERE\n",
    "    SIGMA = 1\n",
    "    s_ij_matrix = torch.sign(labels[:,None] - labels[None,:])\n",
    "    #print(torch.nonzero(s_ij_matrix)) might be useful\n",
    "    si_minus_sj_matrix = scores[:,None] - scores[None,:]\n",
    "    #print(torch.nonzero(si_minus_sj_matrix))\n",
    "    lambda_ij_matrix = SIGMA * ( (1/2)*(1-s_ij_matrix)-(1/(1+torch.exp(SIGMA*si_minus_sj_matrix))) )\n",
    "    lambda_i = torch.sum(lambda_ij_matrix, axis=1)\n",
    "    return lambda_i.unsqueeze(1)\n",
    "\n",
    "# For testing purposes:\n",
    "scores_1 = torch.FloatTensor([0.2, 2.3, 4.5, 0.2, 1.0])\n",
    "labels_1 = torch.FloatTensor([1, 2, 3, 0, 4])\n",
    "scores_2 = torch.FloatTensor([3.2, 1.7])\n",
    "labels_2 = torch.FloatTensor([3, 1])\n",
    "\n",
    "print(compute_lambda_i(scores_1, labels_1))\n",
    "print(compute_lambda_i(scores_2, labels_2))"
   ]
  },
  {
   "cell_type": "code",
   "execution_count": 35,
   "metadata": {
    "deletable": false,
    "nbgrader": {
     "cell_type": "code",
     "checksum": "9c4533f39d3dfbefdd4b56c61316eac8",
     "grade": true,
     "grade_id": "cell-756179237da34c57",
     "locked": false,
     "points": 20,
     "schema_version": 3,
     "solution": true,
     "task": false
    }
   },
   "outputs": [],
   "source": [
    "# YOUR CODE HERE\n",
    "# raise NotImplementedError()"
   ]
  },
  {
   "cell_type": "markdown",
   "metadata": {
    "deletable": false,
    "editable": false,
    "nbgrader": {
     "cell_type": "markdown",
     "checksum": "00482b2615dc28ead4c745a705e5fafb",
     "grade": false,
     "grade_id": "cell-ed55c62fbba08923",
     "locked": true,
     "schema_version": 3,
     "solution": false,
     "task": false
    }
   },
   "source": [
    "**Implementation (50 points):**\n",
    "Using the sped-up loss function `compute_lambda_i`, implement the spedup wrapper for pairwise training.\n",
    "\n",
    "**Rubric:**\n",
    " - Network is trained for specified epochs, and iterates over the entire dataset and (train) data is shuffled : 10 points\n",
    " - Loss calculation: 10 points\n",
    " - Evaluation on the validation set: 5 points\n",
    " - Training (e.g optimizer, zero_grad, backward): 10 points\n",
    " - Performance as expected: 15 points"
   ]
  },
  {
   "cell_type": "code",
   "execution_count": 36,
   "metadata": {
    "deletable": false,
    "nbgrader": {
     "cell_type": "code",
     "checksum": "14e4da9878b2e0a3603437b29a66a07c",
     "grade": false,
     "grade_id": "cell-ddfeb927c2f4a31c",
     "locked": false,
     "schema_version": 3,
     "solution": true,
     "task": false
    }
   },
   "outputs": [],
   "source": [
    "# TODO: Implement this! (50 points)\n",
    "def train_pairwise_spedup(net, params):\n",
    "    \"\"\"\n",
    "    This function should train the given network using the sped up pairwise loss\n",
    "    \n",
    "    \n",
    "    Note: Do not change the function definition! \n",
    "    Note: You can assume params.batch_size will always be equal to 1\n",
    "    \n",
    "    \n",
    "    net: the neural network to be trained\n",
    "    \n",
    "    params: params is an object which contains config used in training \n",
    "        (eg. params.epochs - the number of epochs to train). \n",
    "        For a full list of these params, see the next cell. \n",
    "    \n",
    "    Returns: a dictionary containing: \"metrics_val\" (a list of dictionaries) and \n",
    "             \"metrics_train\" (a list of dictionaries). \n",
    "             \n",
    "             \"metrics_val\" should contain metrics (the metrics in params.metrics) computed\n",
    "             after each epoch on the validation set (metrics_train is similar). \n",
    "             You can use this to debug your models\n",
    "    \"\"\"\n",
    "    \n",
    "    val_metrics_epoch = []\n",
    "    train_metrics_epoch = []\n",
    "    # YOUR CODE HERE\n",
    "    ## Rubric:\n",
    "        # Network is trained for specified epochs, and iterates over the entire dataset\n",
    "        # and (train) data is shuffled : 10 points\n",
    "        # Loss calculation: 10 points\n",
    "        # Evaluation on the validation set: 5 points\n",
    "        # Training (e.g optimizer, zero_grad, backward): 10 point\n",
    "        # Performance as expected: 15 points\n",
    "        \n",
    "    # Define parameters\n",
    "    epochs = params.epochs\n",
    "    learning_rate = params.lr\n",
    "    batch_size = params.batch_size\n",
    "    metrics = params.metrics\n",
    "    \n",
    "    # Specify prediction function\n",
    "    pred_fn = partial(net)\n",
    "    \n",
    "    # Define Adam optimizer\n",
    "    optimizer = Adam(net.parameters(), lr=learning_rate)\n",
    "    \n",
    "    # Create train & validation data:\n",
    "    train_dl = DataLoader(QueryGroupedLTRData(data, \"train\"), batch_size=batch_size, shuffle=True, collate_fn=qg_collate_fn)\n",
    "    validation_dl = DataLoader(QueryGroupedLTRData(data, \"validation\"), shuffle=False, collate_fn=qg_collate_fn)\n",
    "    \n",
    "    # Training loop\n",
    "    for epoch in range(epochs):\n",
    "        for (query_ids, features, targets) in tqdm(train_dl): # loop over 2735 different queries\n",
    "            net.zero_grad()\n",
    "            out = torch.FloatTensor()\n",
    "            for query, x, y in zip(query_ids, features, targets): # run over all documents for a specific query\n",
    "                out = torch.cat([out, net(x)]) # concatenates outputs of the network for each of the documents belonging to query q_i\n",
    "            lambda_i = compute_lambda_i(out.squeeze(1), y)\n",
    "            torch.autograd.backward(out, lambda_i)\n",
    "            optimizer.step() \n",
    "        \n",
    "        # EVALUATE\n",
    "        train_evaluation = evaluate_model(pred_fn, \"train\", print_results=True, q_level=True)\n",
    "        validation_evaluation = evaluate_model(pred_fn, \"validation\", print_results=True, q_level=True)           \n",
    "\n",
    "        # Save the appropriate evaluations\n",
    "        for m in params.metrics:\n",
    "            train_metrics_epoch.append({m : train_evaluation[0][m]})\n",
    "            val_metrics_epoch.append({m : validation_evaluation[0][m]})  \n",
    "            \n",
    "        # print metrics    \n",
    "        print(\"train: \", train_metrics_epoch[epoch])\n",
    "        print(\"validation: \", val_metrics_epoch[epoch])\n",
    "    \n",
    "    return {\n",
    "        \"metrics_val\": val_metrics_epoch,\n",
    "        \"metrics_train\": train_metrics_epoch\n",
    "    }"
   ]
  },
  {
   "cell_type": "code",
   "execution_count": 37,
   "metadata": {
    "deletable": false,
    "editable": false,
    "nbgrader": {
     "cell_type": "code",
     "checksum": "cb9b27b6ec712d8d1146751bc150791e",
     "grade": false,
     "grade_id": "cell-f80dc2eae24968ee",
     "locked": true,
     "schema_version": 3,
     "solution": false,
     "task": false
    }
   },
   "outputs": [],
   "source": [
    "# uncomment to test your code\n",
    "# pairwise_spedup_params_test = Namespace(epochs=1, lr=1e-3, batch_size=1, metrics={\"ndcg@10\",\"ndcg\"})\n",
    "# pairwise_net_spedup = NeuralModule(1)\n",
    "# train_pairwise_spedup(pairwise_net_spedup, pairwise_spedup_params_test)"
   ]
  },
  {
   "cell_type": "markdown",
   "metadata": {
    "deletable": false,
    "editable": false,
    "nbgrader": {
     "cell_type": "markdown",
     "checksum": "c173b7020a1122f7218bbf37ee370884",
     "grade": false,
     "grade_id": "cell-20aa326063f673c2",
     "locked": true,
     "schema_version": 3,
     "solution": false,
     "task": false
    }
   },
   "source": [
    "The next cell creates the results file you will have to submit. *Note that the next cell trains and evaluates only the sped-up version - this is intentional!*"
   ]
  },
  {
   "cell_type": "code",
   "execution_count": 38,
   "metadata": {
    "deletable": false,
    "editable": false,
    "nbgrader": {
     "cell_type": "code",
     "checksum": "77211db554a4bb37582d7c61c7170243",
     "grade": false,
     "grade_id": "cell-32660e207ce6d16a",
     "locked": true,
     "schema_version": 3,
     "solution": false,
     "task": false
    }
   },
   "outputs": [
    {
     "name": "stdout",
     "output_type": "stream",
     "text": [
      "Training Model\n"
     ]
    },
    {
     "data": {
      "application/vnd.jupyter.widget-view+json": {
       "model_id": "3a5cd44413c548db910cb4101508304b",
       "version_major": 2,
       "version_minor": 0
      },
      "text/plain": [
       "  0%|          | 0/2735 [00:00<?, ?it/s]"
      ]
     },
     "metadata": {},
     "output_type": "display_data"
    },
    {
     "data": {
      "application/vnd.jupyter.widget-view+json": {
       "model_id": "",
       "version_major": 2,
       "version_minor": 0
      },
      "text/plain": [
       "Eval (train):   0%|          | 0/333 [00:00<?, ?it/s]"
      ]
     },
     "metadata": {},
     "output_type": "display_data"
    },
    {
     "name": "stdout",
     "output_type": "stream",
     "text": [
      "\"metric\": \"mean\" (\"standard deviation\")\n",
      "dcg: 103.1716 (24.21316)\n",
      "dcg@03: 16.7331 (8.17707)\n",
      "dcg@05: 21.3950 (9.33269)\n",
      "dcg@10: 28.8418 (10.76150)\n",
      "dcg@20: 38.6642 (12.40709)\n",
      "ndcg: 0.8323 (0.05389)\n",
      "ndcg@03: 0.5865 (0.24440)\n",
      "ndcg@05: 0.5696 (0.19874)\n",
      "ndcg@10: 0.5654 (0.15816)\n",
      "ndcg@20: 0.5797 (0.12549)\n",
      "precision@01: 0.6937 (0.46096)\n",
      "precision@03: 0.5996 (0.33259)\n",
      "precision@05: 0.5321 (0.27741)\n",
      "precision@10: 0.4414 (0.21677)\n",
      "precision@20: 0.3547 (0.16266)\n",
      "recall@01: 0.0341 (0.03234)\n",
      "recall@03: 0.0871 (0.06201)\n",
      "recall@05: 0.1274 (0.08331)\n",
      "recall@10: 0.2082 (0.11534)\n",
      "recall@20: 0.3230 (0.14002)\n",
      "relevant rank: 66.0230 (60.09109)\n",
      "relevant rank per query: 1568.4925 (959.54285)\n"
     ]
    },
    {
     "data": {
      "application/vnd.jupyter.widget-view+json": {
       "model_id": "",
       "version_major": 2,
       "version_minor": 0
      },
      "text/plain": [
       "Eval (validation):   0%|          | 0/50 [00:00<?, ?it/s]"
      ]
     },
     "metadata": {},
     "output_type": "display_data"
    },
    {
     "name": "stdout",
     "output_type": "stream",
     "text": [
      "\"metric\": \"mean\" (\"standard deviation\")\n",
      "dcg: 103.9851 (22.85067)\n",
      "dcg@03: 17.6843 (7.49814)\n",
      "dcg@05: 23.0697 (8.15924)\n",
      "dcg@10: 30.8471 (9.56735)\n",
      "dcg@20: 39.8249 (10.51326)\n",
      "ndcg: 0.8395 (0.05015)\n",
      "ndcg@03: 0.6200 (0.24167)\n",
      "ndcg@05: 0.6178 (0.19778)\n",
      "ndcg@10: 0.6011 (0.14485)\n",
      "ndcg@20: 0.5949 (0.11762)\n",
      "precision@01: 0.7200 (0.44900)\n",
      "precision@03: 0.5933 (0.31475)\n",
      "precision@05: 0.5720 (0.21913)\n",
      "precision@10: 0.4620 (0.17537)\n",
      "precision@20: 0.3500 (0.13675)\n",
      "recall@01: 0.0381 (0.03179)\n",
      "recall@03: 0.0863 (0.05763)\n",
      "recall@05: 0.1414 (0.07774)\n",
      "recall@10: 0.2176 (0.10435)\n",
      "recall@20: 0.3238 (0.13925)\n",
      "relevant rank: 65.1600 (60.46853)\n",
      "relevant rank per query: 1539.0800 (923.79534)\n",
      "train:  {'recall@05': (0.1274201835829134, 0.0833130242450826)}\n",
      "validation:  {'recall@05': (0.1413519204081947, 0.0777430938257221)}\n"
     ]
    },
    {
     "data": {
      "application/vnd.jupyter.widget-view+json": {
       "model_id": "57c243d63bf14a2994bd798917981c8c",
       "version_major": 2,
       "version_minor": 0
      },
      "text/plain": [
       "  0%|          | 0/2735 [00:00<?, ?it/s]"
      ]
     },
     "metadata": {},
     "output_type": "display_data"
    },
    {
     "data": {
      "application/vnd.jupyter.widget-view+json": {
       "model_id": "",
       "version_major": 2,
       "version_minor": 0
      },
      "text/plain": [
       "Eval (train):   0%|          | 0/333 [00:00<?, ?it/s]"
      ]
     },
     "metadata": {},
     "output_type": "display_data"
    },
    {
     "name": "stdout",
     "output_type": "stream",
     "text": [
      "\"metric\": \"mean\" (\"standard deviation\")\n",
      "dcg: 104.2913 (24.54792)\n",
      "dcg@03: 17.6090 (8.06150)\n",
      "dcg@05: 22.5413 (9.29685)\n",
      "dcg@10: 30.3231 (10.84767)\n",
      "dcg@20: 40.1176 (12.54321)\n",
      "ndcg: 0.8411 (0.05292)\n",
      "ndcg@03: 0.6170 (0.24172)\n",
      "ndcg@05: 0.6005 (0.19733)\n",
      "ndcg@10: 0.5940 (0.15598)\n",
      "ndcg@20: 0.6011 (0.12312)\n",
      "precision@01: 0.7267 (0.44564)\n",
      "precision@03: 0.6346 (0.32825)\n",
      "precision@05: 0.5658 (0.27097)\n",
      "precision@10: 0.4637 (0.21386)\n",
      "precision@20: 0.3647 (0.16714)\n",
      "recall@01: 0.0365 (0.03560)\n",
      "recall@03: 0.0936 (0.06890)\n",
      "recall@05: 0.1366 (0.08537)\n",
      "recall@10: 0.2184 (0.11424)\n",
      "recall@20: 0.3310 (0.14072)\n",
      "relevant rank: 64.7769 (59.81783)\n",
      "relevant rank per query: 1538.8889 (959.23474)\n"
     ]
    },
    {
     "data": {
      "application/vnd.jupyter.widget-view+json": {
       "model_id": "",
       "version_major": 2,
       "version_minor": 0
      },
      "text/plain": [
       "Eval (validation):   0%|          | 0/50 [00:00<?, ?it/s]"
      ]
     },
     "metadata": {},
     "output_type": "display_data"
    },
    {
     "name": "stdout",
     "output_type": "stream",
     "text": [
      "\"metric\": \"mean\" (\"standard deviation\")\n",
      "dcg: 105.3150 (23.35986)\n",
      "dcg@03: 19.0972 (7.91434)\n",
      "dcg@05: 24.3507 (8.44704)\n",
      "dcg@10: 32.2174 (9.67804)\n",
      "dcg@20: 42.0996 (11.41673)\n",
      "ndcg: 0.8493 (0.04956)\n",
      "ndcg@03: 0.6630 (0.24096)\n",
      "ndcg@05: 0.6458 (0.18716)\n",
      "ndcg@10: 0.6248 (0.13771)\n",
      "ndcg@20: 0.6246 (0.11348)\n",
      "precision@01: 0.7200 (0.44900)\n",
      "precision@03: 0.7000 (0.30000)\n",
      "precision@05: 0.6400 (0.22271)\n",
      "precision@10: 0.5080 (0.18093)\n",
      "precision@20: 0.3920 (0.14538)\n",
      "recall@01: 0.0358 (0.02974)\n",
      "recall@03: 0.1032 (0.06458)\n",
      "recall@05: 0.1589 (0.08756)\n",
      "recall@10: 0.2423 (0.11724)\n",
      "recall@20: 0.3596 (0.13018)\n",
      "relevant rank: 62.7358 (60.57634)\n",
      "relevant rank per query: 1481.8200 (959.56898)\n",
      "train:  {'ndcg': (0.8322504249282601, 0.053888715669965954)}\n",
      "validation:  {'ndcg': (0.8394600337135322, 0.050149291520601026)}\n"
     ]
    },
    {
     "data": {
      "application/vnd.jupyter.widget-view+json": {
       "model_id": "c685bbd9dc69435c88592907de502593",
       "version_major": 2,
       "version_minor": 0
      },
      "text/plain": [
       "  0%|          | 0/2735 [00:00<?, ?it/s]"
      ]
     },
     "metadata": {},
     "output_type": "display_data"
    },
    {
     "data": {
      "application/vnd.jupyter.widget-view+json": {
       "model_id": "",
       "version_major": 2,
       "version_minor": 0
      },
      "text/plain": [
       "Eval (train):   0%|          | 0/333 [00:00<?, ?it/s]"
      ]
     },
     "metadata": {},
     "output_type": "display_data"
    },
    {
     "name": "stdout",
     "output_type": "stream",
     "text": [
      "\"metric\": \"mean\" (\"standard deviation\")\n",
      "dcg: 104.6579 (24.36402)\n",
      "dcg@03: 17.7997 (7.86164)\n",
      "dcg@05: 22.7106 (9.01175)\n",
      "dcg@10: 30.4529 (10.79733)\n",
      "dcg@20: 40.5944 (12.43517)\n",
      "ndcg: 0.8444 (0.05178)\n",
      "ndcg@03: 0.6270 (0.23595)\n",
      "ndcg@05: 0.6072 (0.19296)\n",
      "ndcg@10: 0.5969 (0.15674)\n",
      "ndcg@20: 0.6092 (0.12244)\n",
      "precision@01: 0.7387 (0.43932)\n",
      "precision@03: 0.6486 (0.32318)\n",
      "precision@05: 0.5784 (0.27555)\n",
      "precision@10: 0.4664 (0.21479)\n",
      "precision@20: 0.3742 (0.16669)\n",
      "recall@01: 0.0381 (0.03767)\n",
      "recall@03: 0.0971 (0.06600)\n",
      "recall@05: 0.1404 (0.08392)\n",
      "recall@10: 0.2205 (0.11775)\n",
      "recall@20: 0.3420 (0.14550)\n",
      "relevant rank: 62.9090 (58.83765)\n",
      "relevant rank per query: 1494.5135 (942.58119)\n"
     ]
    },
    {
     "data": {
      "application/vnd.jupyter.widget-view+json": {
       "model_id": "",
       "version_major": 2,
       "version_minor": 0
      },
      "text/plain": [
       "Eval (validation):   0%|          | 0/50 [00:00<?, ?it/s]"
      ]
     },
     "metadata": {},
     "output_type": "display_data"
    },
    {
     "name": "stdout",
     "output_type": "stream",
     "text": [
      "\"metric\": \"mean\" (\"standard deviation\")\n",
      "dcg: 104.7909 (22.75491)\n",
      "dcg@03: 17.1727 (6.64115)\n",
      "dcg@05: 22.8483 (7.26730)\n",
      "dcg@10: 31.7251 (9.12252)\n",
      "dcg@20: 41.7802 (10.14135)\n",
      "ndcg: 0.8460 (0.04654)\n",
      "ndcg@03: 0.6061 (0.22054)\n",
      "ndcg@05: 0.6126 (0.18131)\n",
      "ndcg@10: 0.6184 (0.13273)\n",
      "ndcg@20: 0.6237 (0.10178)\n",
      "precision@01: 0.7400 (0.43863)\n",
      "precision@03: 0.6000 (0.26667)\n",
      "precision@05: 0.5960 (0.22800)\n",
      "precision@10: 0.5120 (0.18723)\n",
      "precision@20: 0.3930 (0.13602)\n",
      "recall@01: 0.0396 (0.03460)\n",
      "recall@03: 0.0910 (0.05560)\n",
      "recall@05: 0.1481 (0.07638)\n",
      "recall@10: 0.2462 (0.12151)\n",
      "recall@20: 0.3662 (0.13531)\n",
      "relevant rank: 61.9128 (60.06384)\n",
      "relevant rank per query: 1462.3800 (949.09430)\n",
      "train:  {'precision@05': (0.5321321321321322, 0.2774085688522097)}\n",
      "validation:  {'precision@05': (0.572, 0.2191255347968374)}\n"
     ]
    },
    {
     "data": {
      "application/vnd.jupyter.widget-view+json": {
       "model_id": "836da8c0529b44b2973935e9fccaadf1",
       "version_major": 2,
       "version_minor": 0
      },
      "text/plain": [
       "  0%|          | 0/2735 [00:00<?, ?it/s]"
      ]
     },
     "metadata": {},
     "output_type": "display_data"
    },
    {
     "data": {
      "application/vnd.jupyter.widget-view+json": {
       "model_id": "",
       "version_major": 2,
       "version_minor": 0
      },
      "text/plain": [
       "Eval (train):   0%|          | 0/333 [00:00<?, ?it/s]"
      ]
     },
     "metadata": {},
     "output_type": "display_data"
    },
    {
     "name": "stdout",
     "output_type": "stream",
     "text": [
      "\"metric\": \"mean\" (\"standard deviation\")\n",
      "dcg: 105.1933 (24.66524)\n",
      "dcg@03: 18.3911 (7.83819)\n",
      "dcg@05: 23.2572 (9.15097)\n",
      "dcg@10: 31.3942 (11.06891)\n",
      "dcg@20: 41.2131 (12.78457)\n",
      "ndcg: 0.8484 (0.05079)\n",
      "ndcg@03: 0.6450 (0.22870)\n",
      "ndcg@05: 0.6199 (0.19114)\n",
      "ndcg@10: 0.6138 (0.15423)\n",
      "ndcg@20: 0.6175 (0.12269)\n",
      "precision@01: 0.7778 (0.41574)\n",
      "precision@03: 0.6707 (0.31318)\n",
      "precision@05: 0.5916 (0.27714)\n",
      "precision@10: 0.4826 (0.22056)\n",
      "precision@20: 0.3760 (0.16920)\n",
      "recall@01: 0.0392 (0.03500)\n",
      "recall@03: 0.0991 (0.06795)\n",
      "recall@05: 0.1426 (0.08644)\n",
      "recall@10: 0.2250 (0.11367)\n",
      "recall@20: 0.3417 (0.14480)\n",
      "relevant rank: 62.8239 (58.72216)\n",
      "relevant rank per query: 1492.4925 (944.72342)\n"
     ]
    },
    {
     "data": {
      "application/vnd.jupyter.widget-view+json": {
       "model_id": "",
       "version_major": 2,
       "version_minor": 0
      },
      "text/plain": [
       "Eval (validation):   0%|          | 0/50 [00:00<?, ?it/s]"
      ]
     },
     "metadata": {},
     "output_type": "display_data"
    },
    {
     "name": "stdout",
     "output_type": "stream",
     "text": [
      "\"metric\": \"mean\" (\"standard deviation\")\n",
      "dcg: 105.3213 (22.94383)\n",
      "dcg@03: 18.0810 (6.79779)\n",
      "dcg@05: 23.8296 (7.85853)\n",
      "dcg@10: 32.1481 (9.22581)\n",
      "dcg@20: 42.4561 (10.84561)\n",
      "ndcg: 0.8497 (0.04882)\n",
      "ndcg@03: 0.6298 (0.20959)\n",
      "ndcg@05: 0.6340 (0.18365)\n",
      "ndcg@10: 0.6245 (0.13538)\n",
      "ndcg@20: 0.6316 (0.10950)\n",
      "precision@01: 0.6800 (0.46648)\n",
      "precision@03: 0.6667 (0.24944)\n",
      "precision@05: 0.6200 (0.23065)\n",
      "precision@10: 0.5120 (0.17509)\n",
      "precision@20: 0.3950 (0.13276)\n",
      "recall@01: 0.0340 (0.03000)\n",
      "recall@03: 0.1025 (0.05635)\n",
      "recall@05: 0.1559 (0.08656)\n",
      "recall@10: 0.2480 (0.12327)\n",
      "recall@20: 0.3682 (0.13322)\n",
      "relevant rank: 61.4327 (59.56449)\n",
      "relevant rank per query: 1451.0400 (960.44073)\n",
      "train:  {'recall@05': (0.136596546479761, 0.08537203136804543)}\n",
      "validation:  {'recall@05': (0.15892013120579748, 0.08756297083279706)}\n"
     ]
    },
    {
     "data": {
      "application/vnd.jupyter.widget-view+json": {
       "model_id": "d828ab22f1b646d1bfffcc878861f769",
       "version_major": 2,
       "version_minor": 0
      },
      "text/plain": [
       "  0%|          | 0/2735 [00:00<?, ?it/s]"
      ]
     },
     "metadata": {},
     "output_type": "display_data"
    },
    {
     "data": {
      "application/vnd.jupyter.widget-view+json": {
       "model_id": "",
       "version_major": 2,
       "version_minor": 0
      },
      "text/plain": [
       "Eval (train):   0%|          | 0/333 [00:00<?, ?it/s]"
      ]
     },
     "metadata": {},
     "output_type": "display_data"
    },
    {
     "name": "stdout",
     "output_type": "stream",
     "text": [
      "\"metric\": \"mean\" (\"standard deviation\")\n",
      "dcg: 105.6924 (24.84744)\n",
      "dcg@03: 18.9357 (8.11194)\n",
      "dcg@05: 24.0519 (9.50205)\n",
      "dcg@10: 32.1348 (11.50520)\n",
      "dcg@20: 41.8891 (13.19304)\n",
      "ndcg: 0.8525 (0.05252)\n",
      "ndcg@03: 0.6632 (0.23268)\n",
      "ndcg@05: 0.6393 (0.19311)\n",
      "ndcg@10: 0.6273 (0.15561)\n",
      "ndcg@20: 0.6277 (0.12715)\n",
      "precision@01: 0.7718 (0.41969)\n",
      "precision@03: 0.6827 (0.32432)\n",
      "precision@05: 0.6108 (0.28221)\n",
      "precision@10: 0.4940 (0.22903)\n",
      "precision@20: 0.3808 (0.17370)\n",
      "recall@01: 0.0400 (0.03763)\n",
      "recall@03: 0.1017 (0.07188)\n",
      "recall@05: 0.1469 (0.08857)\n",
      "recall@10: 0.2310 (0.11730)\n",
      "recall@20: 0.3464 (0.14482)\n",
      "relevant rank: 63.1651 (59.87256)\n",
      "relevant rank per query: 1500.5976 (924.57576)\n"
     ]
    },
    {
     "data": {
      "application/vnd.jupyter.widget-view+json": {
       "model_id": "",
       "version_major": 2,
       "version_minor": 0
      },
      "text/plain": [
       "Eval (validation):   0%|          | 0/50 [00:00<?, ?it/s]"
      ]
     },
     "metadata": {},
     "output_type": "display_data"
    },
    {
     "name": "stdout",
     "output_type": "stream",
     "text": [
      "\"metric\": \"mean\" (\"standard deviation\")\n",
      "dcg: 105.9062 (23.23298)\n",
      "dcg@03: 19.4412 (7.20924)\n",
      "dcg@05: 24.4045 (8.30937)\n",
      "dcg@10: 32.9276 (9.98321)\n",
      "dcg@20: 42.6312 (10.92195)\n",
      "ndcg: 0.8546 (0.05071)\n",
      "ndcg@03: 0.6754 (0.22418)\n",
      "ndcg@05: 0.6458 (0.19055)\n",
      "ndcg@10: 0.6384 (0.14654)\n",
      "ndcg@20: 0.6351 (0.11702)\n",
      "precision@01: 0.7600 (0.42708)\n",
      "precision@03: 0.7133 (0.27495)\n",
      "precision@05: 0.6240 (0.22500)\n",
      "precision@10: 0.5260 (0.18527)\n",
      "precision@20: 0.3880 (0.13913)\n",
      "recall@01: 0.0416 (0.03526)\n",
      "recall@03: 0.1093 (0.06584)\n",
      "recall@05: 0.1542 (0.07867)\n",
      "recall@10: 0.2524 (0.11855)\n",
      "recall@20: 0.3602 (0.13818)\n",
      "relevant rank: 61.1329 (59.78339)\n",
      "relevant rank per query: 1443.9600 (925.70159)\n",
      "train:  {'ndcg': (0.8410623558018209, 0.05292251531551106)}\n",
      "validation:  {'ndcg': (0.8493276618110264, 0.04955922330740896)}\n"
     ]
    },
    {
     "data": {
      "application/vnd.jupyter.widget-view+json": {
       "model_id": "2a880fa21ee94cdaa287bcfc99e5de6d",
       "version_major": 2,
       "version_minor": 0
      },
      "text/plain": [
       "  0%|          | 0/2735 [00:00<?, ?it/s]"
      ]
     },
     "metadata": {},
     "output_type": "display_data"
    },
    {
     "data": {
      "application/vnd.jupyter.widget-view+json": {
       "model_id": "",
       "version_major": 2,
       "version_minor": 0
      },
      "text/plain": [
       "Eval (train):   0%|          | 0/333 [00:00<?, ?it/s]"
      ]
     },
     "metadata": {},
     "output_type": "display_data"
    },
    {
     "name": "stdout",
     "output_type": "stream",
     "text": [
      "\"metric\": \"mean\" (\"standard deviation\")\n",
      "dcg: 105.1233 (24.57071)\n",
      "dcg@03: 18.1341 (7.65431)\n",
      "dcg@05: 23.0823 (8.94700)\n",
      "dcg@10: 31.1059 (10.95980)\n",
      "dcg@20: 41.2505 (12.84391)\n",
      "ndcg: 0.8483 (0.05179)\n",
      "ndcg@03: 0.6377 (0.22274)\n",
      "ndcg@05: 0.6161 (0.18311)\n",
      "ndcg@10: 0.6099 (0.15314)\n",
      "ndcg@20: 0.6193 (0.12708)\n",
      "precision@01: 0.7838 (0.41166)\n",
      "precision@03: 0.6567 (0.30983)\n",
      "precision@05: 0.5844 (0.27509)\n",
      "precision@10: 0.4730 (0.22552)\n",
      "precision@20: 0.3779 (0.17433)\n",
      "recall@01: 0.0403 (0.03716)\n",
      "recall@03: 0.0982 (0.07024)\n",
      "recall@05: 0.1421 (0.09285)\n",
      "recall@10: 0.2230 (0.12021)\n",
      "recall@20: 0.3435 (0.14374)\n",
      "relevant rank: 63.1591 (59.68003)\n",
      "relevant rank per query: 1500.4565 (931.75873)\n"
     ]
    },
    {
     "data": {
      "application/vnd.jupyter.widget-view+json": {
       "model_id": "",
       "version_major": 2,
       "version_minor": 0
      },
      "text/plain": [
       "Eval (validation):   0%|          | 0/50 [00:00<?, ?it/s]"
      ]
     },
     "metadata": {},
     "output_type": "display_data"
    },
    {
     "name": "stdout",
     "output_type": "stream",
     "text": [
      "\"metric\": \"mean\" (\"standard deviation\")\n",
      "dcg: 104.9663 (22.74688)\n",
      "dcg@03: 17.8058 (7.14703)\n",
      "dcg@05: 23.1390 (7.99668)\n",
      "dcg@10: 31.7049 (9.31037)\n",
      "dcg@20: 41.7395 (10.18498)\n",
      "ndcg: 0.8476 (0.04766)\n",
      "ndcg@03: 0.6229 (0.22052)\n",
      "ndcg@05: 0.6148 (0.18345)\n",
      "ndcg@10: 0.6173 (0.14001)\n",
      "ndcg@20: 0.6244 (0.11200)\n",
      "precision@01: 0.7400 (0.43863)\n",
      "precision@03: 0.6200 (0.28292)\n",
      "precision@05: 0.5880 (0.25111)\n",
      "precision@10: 0.5000 (0.19183)\n",
      "precision@20: 0.3880 (0.15445)\n",
      "recall@01: 0.0402 (0.03571)\n",
      "recall@03: 0.0938 (0.05757)\n",
      "recall@05: 0.1485 (0.09317)\n",
      "recall@10: 0.2432 (0.12634)\n",
      "recall@20: 0.3625 (0.14922)\n",
      "relevant rank: 62.0669 (60.28643)\n",
      "relevant rank per query: 1466.0200 (943.83894)\n",
      "train:  {'precision@05': (0.5657657657657658, 0.2709660713096571)}\n",
      "validation:  {'precision@05': (0.64, 0.22271057451320087)}\n"
     ]
    },
    {
     "data": {
      "application/vnd.jupyter.widget-view+json": {
       "model_id": "3777d6c6a1df4ee5bb3a4cf446d0388b",
       "version_major": 2,
       "version_minor": 0
      },
      "text/plain": [
       "  0%|          | 0/2735 [00:00<?, ?it/s]"
      ]
     },
     "metadata": {},
     "output_type": "display_data"
    },
    {
     "data": {
      "application/vnd.jupyter.widget-view+json": {
       "model_id": "",
       "version_major": 2,
       "version_minor": 0
      },
      "text/plain": [
       "Eval (train):   0%|          | 0/333 [00:00<?, ?it/s]"
      ]
     },
     "metadata": {},
     "output_type": "display_data"
    },
    {
     "name": "stdout",
     "output_type": "stream",
     "text": [
      "\"metric\": \"mean\" (\"standard deviation\")\n",
      "dcg: 106.0866 (24.75903)\n",
      "dcg@03: 19.0909 (8.15965)\n",
      "dcg@05: 24.1615 (9.25159)\n",
      "dcg@10: 32.6344 (11.43850)\n",
      "dcg@20: 42.4146 (13.02227)\n",
      "ndcg: 0.8558 (0.05182)\n",
      "ndcg@03: 0.6676 (0.23518)\n",
      "ndcg@05: 0.6437 (0.18919)\n",
      "ndcg@10: 0.6379 (0.15519)\n",
      "ndcg@20: 0.6360 (0.12476)\n",
      "precision@01: 0.7958 (0.40312)\n",
      "precision@03: 0.6847 (0.31903)\n",
      "precision@05: 0.6126 (0.27062)\n",
      "precision@10: 0.5045 (0.22503)\n",
      "precision@20: 0.3871 (0.17084)\n",
      "recall@01: 0.0417 (0.03800)\n",
      "recall@03: 0.1028 (0.07307)\n",
      "recall@05: 0.1497 (0.09227)\n",
      "recall@10: 0.2377 (0.11994)\n",
      "recall@20: 0.3547 (0.14755)\n",
      "relevant rank: 61.0699 (58.29969)\n",
      "relevant rank per query: 1450.8228 (922.77067)\n"
     ]
    },
    {
     "data": {
      "application/vnd.jupyter.widget-view+json": {
       "model_id": "",
       "version_major": 2,
       "version_minor": 0
      },
      "text/plain": [
       "Eval (validation):   0%|          | 0/50 [00:00<?, ?it/s]"
      ]
     },
     "metadata": {},
     "output_type": "display_data"
    },
    {
     "name": "stdout",
     "output_type": "stream",
     "text": [
      "\"metric\": \"mean\" (\"standard deviation\")\n",
      "dcg: 106.2267 (23.35746)\n",
      "dcg@03: 19.8157 (8.26790)\n",
      "dcg@05: 24.6603 (9.40522)\n",
      "dcg@10: 32.8842 (9.95439)\n",
      "dcg@20: 43.4582 (11.68851)\n",
      "ndcg: 0.8567 (0.05229)\n",
      "ndcg@03: 0.6823 (0.24971)\n",
      "ndcg@05: 0.6484 (0.21301)\n",
      "ndcg@10: 0.6360 (0.14750)\n",
      "ndcg@20: 0.6452 (0.12358)\n",
      "precision@01: 0.7200 (0.44900)\n",
      "precision@03: 0.7000 (0.29250)\n",
      "precision@05: 0.6160 (0.25562)\n",
      "precision@10: 0.5180 (0.16696)\n",
      "precision@20: 0.4050 (0.14009)\n",
      "recall@01: 0.0367 (0.03097)\n",
      "recall@03: 0.1076 (0.06284)\n",
      "recall@05: 0.1550 (0.08967)\n",
      "recall@10: 0.2507 (0.11916)\n",
      "recall@20: 0.3803 (0.15022)\n",
      "relevant rank: 59.8247 (59.09388)\n",
      "relevant rank per query: 1413.0600 (948.55877)\n",
      "train:  {'recall@05': (0.14039513094300418, 0.08392192485049972)}\n",
      "validation:  {'recall@05': (0.14808175737496224, 0.07638336079781122)}\n"
     ]
    },
    {
     "data": {
      "application/vnd.jupyter.widget-view+json": {
       "model_id": "94a7bb78c5d1450fb65ba86ee1d416b2",
       "version_major": 2,
       "version_minor": 0
      },
      "text/plain": [
       "  0%|          | 0/2735 [00:00<?, ?it/s]"
      ]
     },
     "metadata": {},
     "output_type": "display_data"
    },
    {
     "data": {
      "application/vnd.jupyter.widget-view+json": {
       "model_id": "",
       "version_major": 2,
       "version_minor": 0
      },
      "text/plain": [
       "Eval (train):   0%|          | 0/333 [00:00<?, ?it/s]"
      ]
     },
     "metadata": {},
     "output_type": "display_data"
    },
    {
     "name": "stdout",
     "output_type": "stream",
     "text": [
      "\"metric\": \"mean\" (\"standard deviation\")\n",
      "dcg: 105.8610 (24.62099)\n",
      "dcg@03: 19.0016 (7.98585)\n",
      "dcg@05: 24.1483 (9.31208)\n",
      "dcg@10: 32.0439 (11.06307)\n",
      "dcg@20: 42.1027 (13.08414)\n",
      "ndcg: 0.8541 (0.05002)\n",
      "ndcg@03: 0.6647 (0.22611)\n",
      "ndcg@05: 0.6422 (0.18533)\n",
      "ndcg@10: 0.6262 (0.14694)\n",
      "ndcg@20: 0.6306 (0.12373)\n",
      "precision@01: 0.7958 (0.40312)\n",
      "precision@03: 0.6957 (0.31452)\n",
      "precision@05: 0.6210 (0.26696)\n",
      "precision@10: 0.4919 (0.21441)\n",
      "precision@20: 0.3848 (0.16958)\n",
      "recall@01: 0.0407 (0.03575)\n",
      "recall@03: 0.1033 (0.06978)\n",
      "recall@05: 0.1513 (0.09112)\n",
      "recall@10: 0.2325 (0.11577)\n",
      "recall@20: 0.3528 (0.15134)\n",
      "relevant rank: 61.4329 (58.50314)\n",
      "relevant rank per query: 1459.4474 (933.02318)\n"
     ]
    },
    {
     "data": {
      "application/vnd.jupyter.widget-view+json": {
       "model_id": "",
       "version_major": 2,
       "version_minor": 0
      },
      "text/plain": [
       "Eval (validation):   0%|          | 0/50 [00:00<?, ?it/s]"
      ]
     },
     "metadata": {},
     "output_type": "display_data"
    },
    {
     "name": "stdout",
     "output_type": "stream",
     "text": [
      "\"metric\": \"mean\" (\"standard deviation\")\n",
      "dcg: 106.0966 (23.47354)\n",
      "dcg@03: 20.0372 (7.60770)\n",
      "dcg@05: 24.6905 (8.31913)\n",
      "dcg@10: 32.5276 (9.43227)\n",
      "dcg@20: 43.4703 (11.52993)\n",
      "ndcg: 0.8554 (0.04929)\n",
      "ndcg@03: 0.6955 (0.21887)\n",
      "ndcg@05: 0.6544 (0.17781)\n",
      "ndcg@10: 0.6309 (0.12927)\n",
      "ndcg@20: 0.6463 (0.11188)\n",
      "precision@01: 0.8400 (0.36661)\n",
      "precision@03: 0.7400 (0.25201)\n",
      "precision@05: 0.6360 (0.21425)\n",
      "precision@10: 0.5020 (0.16910)\n",
      "precision@20: 0.4100 (0.14177)\n",
      "recall@01: 0.0450 (0.03344)\n",
      "recall@03: 0.1142 (0.06138)\n",
      "recall@05: 0.1596 (0.08057)\n",
      "recall@10: 0.2425 (0.11250)\n",
      "recall@20: 0.3818 (0.14614)\n",
      "relevant rank: 61.0610 (59.58074)\n",
      "relevant rank per query: 1442.2600 (953.20671)\n",
      "train:  {'ndcg': (0.8444170009714073, 0.05178379005265808)}\n",
      "validation:  {'ndcg': (0.8460084376913389, 0.046536664298362784)}\n"
     ]
    },
    {
     "data": {
      "application/vnd.jupyter.widget-view+json": {
       "model_id": "",
       "version_major": 2,
       "version_minor": 0
      },
      "text/plain": [
       "Eval (test):   0%|          | 0/117 [00:00<?, ?it/s]"
      ]
     },
     "metadata": {},
     "output_type": "display_data"
    },
    {
     "name": "stdout",
     "output_type": "stream",
     "text": [
      "\"metric\": \"mean\" (\"standard deviation\")\n",
      "dcg: 109.8173 (24.01581)\n",
      "dcg@03: 19.2504 (8.04466)\n",
      "dcg@05: 23.9801 (9.12995)\n",
      "dcg@10: 31.9294 (11.24857)\n",
      "dcg@20: 42.3602 (13.29699)\n",
      "ndcg: 0.8479 (0.05342)\n",
      "ndcg@03: 0.6592 (0.23688)\n",
      "ndcg@05: 0.6238 (0.19023)\n",
      "ndcg@10: 0.6103 (0.16099)\n",
      "ndcg@20: 0.6167 (0.13382)\n",
      "precision@01: 0.7436 (0.43665)\n",
      "precision@03: 0.6923 (0.29608)\n",
      "precision@05: 0.6051 (0.25815)\n",
      "precision@10: 0.5000 (0.22608)\n",
      "precision@20: 0.3979 (0.17955)\n",
      "recall@01: 0.0336 (0.02764)\n",
      "recall@03: 0.0933 (0.05823)\n",
      "recall@05: 0.1368 (0.08452)\n",
      "recall@10: 0.2145 (0.11045)\n",
      "recall@20: 0.3276 (0.13381)\n",
      "relevant rank: 65.5463 (61.69615)\n",
      "relevant rank per query: 1686.8376 (1008.76436)\n"
     ]
    }
   ],
   "source": [
    "seed(42)\n",
    "params = Namespace(epochs=8, \n",
    "                    lr=1e-3,\n",
    "                    batch_size=1,\n",
    "                    metrics={\"ndcg\", \"precision@05\", \"recall@05\"})\n",
    "pairwise_model = NeuralModule(1)\n",
    "\n",
    "create_results(pairwise_model, \n",
    "               train_pairwise_spedup, \n",
    "               pairwise_model,\n",
    "               \"./pairwise.json\",\n",
    "               params)\n",
    "# persist model\n",
    "torch.save(pairwise_model.state_dict(), \"./pairwise_wt\")"
   ]
  },
  {
   "cell_type": "markdown",
   "metadata": {
    "deletable": false,
    "nbgrader": {
     "cell_type": "markdown",
     "checksum": "3cc6f1a702be838b6e26733b089d5bda",
     "grade": true,
     "grade_id": "cell-8aad7ba1f8c6c23c",
     "locked": false,
     "points": 35,
     "schema_version": 3,
     "solution": true,
     "task": false
    }
   },
   "source": [
    "YOUR ANSWER HERE"
   ]
  },
  {
   "cell_type": "code",
   "execution_count": 39,
   "metadata": {
    "deletable": false,
    "editable": false,
    "nbgrader": {
     "cell_type": "code",
     "checksum": "5b46d1ebc1676bc1dbce629b0a978326",
     "grade": true,
     "grade_id": "cell-3dc8ee835753e5aa",
     "locked": true,
     "points": 15,
     "schema_version": 3,
     "solution": false,
     "task": false
    }
   },
   "outputs": [],
   "source": [
    "assert os.path.exists(\"./pairwise.json\")"
   ]
  },
  {
   "cell_type": "markdown",
   "metadata": {
    "deletable": false,
    "editable": false,
    "nbgrader": {
     "cell_type": "markdown",
     "checksum": "60ad8126d68fcf4814988ad22c335c2a",
     "grade": false,
     "grade_id": "cell-14e048f55b2e6aea",
     "locked": true,
     "schema_version": 3,
     "solution": false,
     "task": false
    }
   },
   "source": [
    "##  Section 5: Listwise LTR (80 points) <a class=\"anchor\" id=\"listwiseLTR\"></a>\n",
    "\n",
    "[Back to TOC](#top)\n",
    "\n",
    "In this section, you will implement LambdaRank, a listwise approach to LTR. Consider the computation of $\\lambda$ for sped-up RankNet (that you've already implemented). $\\lambda$ here amounts to the 'force' on a document given its neighbours in the ranked list. The design of $\\lambda$ in LambdaRank is similar to RankNet, but is scaled by DCG gain from swapping the two documents in question. Let's suppose that the corresponding ranks of doucment $D_i$ and $D_j$ are $r_i$ and $r_j$ respectively. Given a ranking measure $IRM$, such as $NDCG$ or $ERR$, the lambda function in LambdaRank is defined as:\n",
    "\n",
    "\n",
    "$$        \\frac{\\partial C}{\\partial s_i} = \\sum_{j \\in D} \\lambda_{ij} \\cdot |\\bigtriangleup IRM (i,j)| $$\n",
    "\n",
    "Where $|\\bigtriangleup IRM(i,j)|$ is the absolute difference in $IRM$ after swapping the rank positions $r_i$ and $r_j$ while leaving everything else unchanged ($| \\cdot |$ denotes the absolute value). Note that we do not backpropogate $|\\bigtriangleup IRM|$, it is treated as a constant that scales the gradients. In this assignment we will use $|\\bigtriangleup NDCG|$"
   ]
  },
  {
   "cell_type": "markdown",
   "metadata": {
    "deletable": false,
    "editable": false,
    "nbgrader": {
     "cell_type": "markdown",
     "checksum": "0caedecf5dcfd8b561a99f58ea756abd",
     "grade": false,
     "grade_id": "cell-351c194e6797d0a0",
     "locked": true,
     "schema_version": 3,
     "solution": false,
     "task": false
    }
   },
   "source": [
    "**Implementation (30 points):**\n",
    "Implement the listwise loss.\n",
    "\n",
    "**Rubric:**\n",
    " - Each ordering <i,j> combination is considered: 10 points\n",
    " - Computing $|\\bigtriangleup NDCG|$: 10 points \n",
    " - Proper application of the formula: 10 points "
   ]
  },
  {
   "cell_type": "code",
   "execution_count": 40,
   "metadata": {
    "deletable": false,
    "nbgrader": {
     "cell_type": "code",
     "checksum": "a0ba4266e951c80236d3dc6f0e0c32a5",
     "grade": false,
     "grade_id": "cell-48f6a2a1c4a529b6",
     "locked": false,
     "schema_version": 3,
     "solution": true,
     "task": false
    }
   },
   "outputs": [],
   "source": [
    "# TODO: Implement this! (30 points)\n",
    "def listwise_loss(scores, labels):\n",
    "    \n",
    "    \"\"\"\n",
    "    Compute the LambdaRank loss. (assume sigma=1.)\n",
    "    \n",
    "    scores: tensor of size [N, 1] (the output of a neural network), where N = length of <query, document> pairs\n",
    "    labels: tensor of size [N], contains the relevance labels \n",
    "    \n",
    "    returns: a tensor of size [N, 1]\n",
    "    \"\"\"\n",
    "    \n",
    "    # YOUR CODE HERE\n",
    "    SIGMA = 1\n",
    "    \n",
    "    # lambda_ij matrix as in previous excercise\n",
    "    s_ij_matrix = torch.sign(labels[:,None] - labels[None,:])\n",
    "    si_minus_sj_matrix = scores[:,None] - scores[None,:]\n",
    "    lambda_ij_matrix = SIGMA * ( 1/2*(1-s_ij_matrix)-(1/(1+torch.exp(SIGMA*si_minus_sj_matrix))) )\n",
    "    # Create new np arrays with scores to rank the order of the scores according to relevance labels\n",
    "    scores_copy_np = np.array(scores.clone().detach())\n",
    "    labels_copy_np = np.array(labels.clone().detach())\n",
    "    # Rank scores ascendingly -> take relevance of each score\n",
    "    sort_ind = np.argsort(scores_copy_np)[::-1]\n",
    "    sorted_relevance = labels_copy_np[sort_ind]\n",
    "    # Compute gain and gain difference according to swaps  of documents\n",
    "    gain = np.power(2, sorted_relevance)-1\n",
    "    gain_difference_matrix = gain[:,None] - gain[None,:]\n",
    "    # Compute discount and discount differences according to swaps of documents\n",
    "    discount = 1/(np.log2(np.arange(1, len(scores)+1, dtype=float)+1))\n",
    "    discount_matrix = discount[:,None] - discount[None,:]\n",
    "    # Compute the iDCG to compare all NDCG scores with\n",
    "    ideal_labels = np.sort(labels)\n",
    "    ideal_dcg = np.sum(ideal_labels / (np.arange(1, len(scores)+1, dtype=float)+1))\n",
    "    inverse_ideal_dcg = 1/ideal_dcg\n",
    "    # delta_ndcg =  [Gain(i) - Gain(j)] * [1/Discount(rank_i) - 1/Discount(rank_j)] * inverse_ideal_dcg\n",
    "    delta_ndcg = abs(torch.tensor(gain_difference_matrix) * discount_matrix * inverse_ideal_dcg)\n",
    "    listw_loss_ij = lambda_ij_matrix * delta_ndcg\n",
    "    listw_loss_i = torch.sum(listw_loss_ij, 1)\n",
    "    return listw_loss_i.unsqueeze(1)\n",
    "\n",
    "# listwise_params_test = Namespace(epochs=1, lr=1e-3, batch_size=1, metrics={\"ndcg\"})\n",
    "# listwise_net = NeuralModule(1)\n",
    "# train_listwise(listwise_net, listwise_params_test)\n",
    "# evaluate_model(listwise_net, \"test\", print_results=True)"
   ]
  },
  {
   "cell_type": "code",
   "execution_count": 41,
   "metadata": {
    "deletable": false,
    "editable": false,
    "nbgrader": {
     "cell_type": "code",
     "checksum": "28f708cd49db29860a2774a320685d18",
     "grade": false,
     "grade_id": "cell-7ffca014e68d2c32",
     "locked": true,
     "schema_version": 3,
     "solution": false,
     "task": false
    }
   },
   "outputs": [
    {
     "name": "stdout",
     "output_type": "stream",
     "text": [
      "tensor([[-0.3036],\n",
      "        [ 0.1494],\n",
      "        [ 0.6254],\n",
      "        [ 0.9932],\n",
      "        [-1.4645]], dtype=torch.float64)\n",
      "tensor([[-0.2693],\n",
      "        [ 0.2693]], dtype=torch.float64)\n"
     ]
    }
   ],
   "source": [
    "scores_1 = torch.FloatTensor([0.2, 2.3, 4.5, 0.2, 1.0])\n",
    "labels_1 = torch.FloatTensor([1, 2, 3, 0, 4])\n",
    "\n",
    "\n",
    "scores_2 = torch.FloatTensor([3.2, 1.7])\n",
    "labels_2 = torch.FloatTensor([3, 1])\n",
    "\n",
    "\n",
    "print(listwise_loss(scores_1, labels_1))\n",
    "\n",
    "\n",
    "\n",
    "print(listwise_loss(scores_2, labels_2))"
   ]
  },
  {
   "cell_type": "code",
   "execution_count": 42,
   "metadata": {
    "deletable": false,
    "nbgrader": {
     "cell_type": "code",
     "checksum": "b3c154e9791120fcb899928865f40d30",
     "grade": true,
     "grade_id": "cell-fadab94bb19ea7ee",
     "locked": false,
     "points": 30,
     "schema_version": 3,
     "solution": true,
     "task": false
    }
   },
   "outputs": [],
   "source": [
    "# YOUR CODE HERE\n",
    "# raise NotImplementedError()"
   ]
  },
  {
   "cell_type": "markdown",
   "metadata": {
    "deletable": false,
    "editable": false,
    "nbgrader": {
     "cell_type": "markdown",
     "checksum": "48df2b36472c6f03f84a293fea5d3602",
     "grade": false,
     "grade_id": "cell-7dec2c279f77b272",
     "locked": true,
     "schema_version": 3,
     "solution": false,
     "task": false
    }
   },
   "source": [
    "##### **Implementation (50 points):**\n",
    "And use the loss function above to train a listwise LTR.\n",
    "\n",
    "**Rubric:**\n",
    " - Network is trained for specified epochs, and iterates over the entire dataset and (train) data is shuffled : 10 points\n",
    " - Loss calculation: 10 points\n",
    " - Evaluation on the validation set: 5 points\n",
    " - Training (e.g optimizer, zero_grad, backward): 10 points\n",
    " - Performance as expected: 15 points"
   ]
  },
  {
   "cell_type": "code",
   "execution_count": 43,
   "metadata": {
    "deletable": false,
    "nbgrader": {
     "cell_type": "code",
     "checksum": "786e51ea263d0ea82a5ec251344f7d0e",
     "grade": false,
     "grade_id": "cell-34c4d0bdbb753580",
     "locked": false,
     "schema_version": 3,
     "solution": true,
     "task": false
    }
   },
   "outputs": [],
   "source": [
    "# TODO: Implement this! (50 points)\n",
    "def train_listwise(net, params):\n",
    "    \"\"\"\n",
    "    This function should train the given network using the listwise (LambdaRank) loss\n",
    "    \n",
    "    Note: Do not change the function definition! \n",
    "    Note: You can assume params.batch_size will always be equal to 1\n",
    "    \n",
    "    \n",
    "    net: the neural network to be trained\n",
    "    \n",
    "    params: params is an object which contains config used in training \n",
    "        (eg. params.epochs - the number of epochs to train). \n",
    "        For a full list of these params, see the next cell. \n",
    "        \n",
    "    Returns: a dictionary containing: \"metrics_val\" (a list of dictionaries) and \n",
    "             \"metrics_train\" (a list of dictionaries). \n",
    "             \n",
    "             \"metrics_val\" should contain metrics (the metrics in params.metrics) computed\n",
    "             after each epoch on the validation set (metrics_train is similar). \n",
    "             You can use this to debug your models\n",
    "    \"\"\"\n",
    "    \n",
    "    val_metrics_epoch = []\n",
    "    train_metrics_epoch = []\n",
    "    # YOUR CODE HERE\n",
    "        ## Rubric:\n",
    "        # Network is trained for specified epochs, and iterates over the entire dataset\n",
    "        # and (train) data is shuffled : 10 points\n",
    "        # Loss calculation: 10 points\n",
    "        # Evaluation on the validation set: 5 points\n",
    "        # Training (e.g optimizer, zero_grad, backward): 10 point\n",
    "        \n",
    "    # Define parameters\n",
    "    epochs = params.epochs\n",
    "    learning_rate = params.lr\n",
    "    batch_size = params.batch_size\n",
    "    metrics = params.metrics\n",
    "    \n",
    "    # Specify prediction function\n",
    "    loss_function = listwise_loss\n",
    "    pred_fn = partial(net)\n",
    "    \n",
    "    # Define Adam optimizer\n",
    "    optimizer = Adam(net.parameters(), lr=learning_rate)\n",
    "    \n",
    "    # Create train & validation data\n",
    "    train_dl = DataLoader(QueryGroupedLTRData(data, \"train\"), batch_size=batch_size, shuffle=True, collate_fn=qg_collate_fn)\n",
    "    validation_dl = DataLoader(QueryGroupedLTRData(data, \"validation\"), shuffle=False, collate_fn=qg_collate_fn)\n",
    "    \n",
    "    # Training loop\n",
    "    for epoch in range(epochs):\n",
    "        for (query_ids, features, targets) in tqdm(train_dl): # loop over 2735 different queries\n",
    "            net.zero_grad()\n",
    "            out = torch.FloatTensor()\n",
    "            for query, x, y in zip(query_ids, features, targets): # run over all documents for a specific query\n",
    "                out = torch.cat([out, net(x)]) # concatenates outputs of the network for each of the documents belonging to query q_i\n",
    "            lambda_i = compute_lambda_i(out.squeeze(1), y)\n",
    "            torch.autograd.backward(out, lambda_i)\n",
    "            optimizer.step() \n",
    "        \n",
    "        # EVALUATE\n",
    "        train_evaluation = evaluate_model(pred_fn, \"train\", print_results=True, q_level=True)  #def evaluate_model(pred_fn, split, batch_size=256, print_results=False, q_level=False):\n",
    "        validation_evaluation = evaluate_model(pred_fn, \"validation\", print_results=True, q_level=True)           \n",
    "\n",
    "        # Save the appropriate evaluations\n",
    "        for m in params.metrics:\n",
    "            train_metrics_epoch.append({m : train_evaluation[0][m]})\n",
    "            val_metrics_epoch.append({m : validation_evaluation[0][m]})  \n",
    "            \n",
    "        # print metrics    \n",
    "        print(\"train: \", train_metrics_epoch[epoch])\n",
    "        print(\"validation: \", val_metrics_epoch[epoch])\n",
    "    \n",
    "    return {\n",
    "        \"metrics_val\": val_metrics_epoch,\n",
    "        \"metrics_train\": train_metrics_epoch\n",
    "    }"
   ]
  },
  {
   "cell_type": "code",
   "execution_count": 44,
   "metadata": {
    "deletable": false,
    "editable": false,
    "nbgrader": {
     "cell_type": "code",
     "checksum": "109d4be0105ee65f2e446c5d1a961eea",
     "grade": false,
     "grade_id": "cell-36910488e505a73a",
     "locked": true,
     "schema_version": 3,
     "solution": false,
     "task": false
    }
   },
   "outputs": [],
   "source": [
    "# uncomment to test your code\n",
    "# listwise_params_test = Namespace(epochs=1, lr=1e-3, batch_size=1, metrics={\"ndcg\"})\n",
    "# listwise_net = NeuralModule(1)\n",
    "# train_listwise(listwise_net, listwise_params_test)\n",
    "# evaluate_model(listwise_net, \"test\", print_results=True)"
   ]
  },
  {
   "cell_type": "markdown",
   "metadata": {
    "deletable": false,
    "editable": false,
    "nbgrader": {
     "cell_type": "markdown",
     "checksum": "275a63cf01f8efa9cb9b42b45d41aa9b",
     "grade": false,
     "grade_id": "cell-27de808a4c9d6bf6",
     "locked": true,
     "schema_version": 3,
     "solution": false,
     "task": false
    }
   },
   "source": [
    "The following cell saves your results in `listwise.json` file for submission."
   ]
  },
  {
   "cell_type": "code",
   "execution_count": 45,
   "metadata": {
    "deletable": false,
    "editable": false,
    "nbgrader": {
     "cell_type": "code",
     "checksum": "5b50d890fdac41f183467a165cc71ae6",
     "grade": false,
     "grade_id": "cell-8c3dde9e1dcde277",
     "locked": true,
     "schema_version": 3,
     "solution": false,
     "task": false
    }
   },
   "outputs": [
    {
     "name": "stdout",
     "output_type": "stream",
     "text": [
      "Training Model\n"
     ]
    },
    {
     "data": {
      "application/vnd.jupyter.widget-view+json": {
       "model_id": "4cf293c927704741826103c687bb364c",
       "version_major": 2,
       "version_minor": 0
      },
      "text/plain": [
       "  0%|          | 0/2735 [00:00<?, ?it/s]"
      ]
     },
     "metadata": {},
     "output_type": "display_data"
    },
    {
     "data": {
      "application/vnd.jupyter.widget-view+json": {
       "model_id": "",
       "version_major": 2,
       "version_minor": 0
      },
      "text/plain": [
       "Eval (train):   0%|          | 0/333 [00:00<?, ?it/s]"
      ]
     },
     "metadata": {},
     "output_type": "display_data"
    },
    {
     "name": "stdout",
     "output_type": "stream",
     "text": [
      "\"metric\": \"mean\" (\"standard deviation\")\n",
      "dcg: 102.4241 (23.95952)\n",
      "dcg@03: 15.6838 (8.08684)\n",
      "dcg@05: 20.2886 (9.35050)\n",
      "dcg@10: 27.7322 (10.53341)\n",
      "dcg@20: 37.6130 (12.17979)\n",
      "ndcg: 0.8264 (0.05471)\n",
      "ndcg@03: 0.5512 (0.25009)\n",
      "ndcg@05: 0.5416 (0.20814)\n",
      "ndcg@10: 0.5448 (0.16044)\n",
      "ndcg@20: 0.5646 (0.12702)\n",
      "precision@01: 0.6667 (0.47140)\n",
      "precision@03: 0.5435 (0.33060)\n",
      "precision@05: 0.5039 (0.28223)\n",
      "precision@10: 0.4237 (0.20941)\n",
      "precision@20: 0.3465 (0.16008)\n",
      "recall@01: 0.0321 (0.03098)\n",
      "recall@03: 0.0800 (0.06395)\n",
      "recall@05: 0.1214 (0.08490)\n",
      "recall@10: 0.1993 (0.11059)\n",
      "recall@20: 0.3164 (0.14002)\n",
      "relevant rank: 66.3448 (59.90645)\n",
      "relevant rank per query: 1576.1381 (963.74650)\n"
     ]
    },
    {
     "data": {
      "application/vnd.jupyter.widget-view+json": {
       "model_id": "",
       "version_major": 2,
       "version_minor": 0
      },
      "text/plain": [
       "Eval (validation):   0%|          | 0/50 [00:00<?, ?it/s]"
      ]
     },
     "metadata": {},
     "output_type": "display_data"
    },
    {
     "name": "stdout",
     "output_type": "stream",
     "text": [
      "\"metric\": \"mean\" (\"standard deviation\")\n",
      "dcg: 103.6169 (22.57417)\n",
      "dcg@03: 17.0189 (7.09253)\n",
      "dcg@05: 22.2277 (7.64692)\n",
      "dcg@10: 29.8269 (9.51623)\n",
      "dcg@20: 39.4303 (10.76698)\n",
      "ndcg: 0.8368 (0.04786)\n",
      "ndcg@03: 0.5987 (0.23683)\n",
      "ndcg@05: 0.5951 (0.18806)\n",
      "ndcg@10: 0.5816 (0.14722)\n",
      "ndcg@20: 0.5880 (0.12058)\n",
      "precision@01: 0.7400 (0.43863)\n",
      "precision@03: 0.5467 (0.29635)\n",
      "precision@05: 0.5360 (0.22429)\n",
      "precision@10: 0.4380 (0.17876)\n",
      "precision@20: 0.3500 (0.13153)\n",
      "recall@01: 0.0381 (0.02971)\n",
      "recall@03: 0.0798 (0.05526)\n",
      "recall@05: 0.1320 (0.07770)\n",
      "recall@10: 0.2061 (0.10298)\n",
      "recall@20: 0.3255 (0.13701)\n",
      "relevant rank: 65.3091 (60.34396)\n",
      "relevant rank per query: 1542.6000 (927.55606)\n",
      "train:  {'recall@05': (0.12141147196606732, 0.08490453261353775)}\n",
      "validation:  {'recall@05': (0.13195686895179223, 0.07770073584290303)}\n"
     ]
    },
    {
     "data": {
      "application/vnd.jupyter.widget-view+json": {
       "model_id": "f5bc1f5094f24fc2ae551b0dab201158",
       "version_major": 2,
       "version_minor": 0
      },
      "text/plain": [
       "  0%|          | 0/2735 [00:00<?, ?it/s]"
      ]
     },
     "metadata": {},
     "output_type": "display_data"
    },
    {
     "data": {
      "application/vnd.jupyter.widget-view+json": {
       "model_id": "",
       "version_major": 2,
       "version_minor": 0
      },
      "text/plain": [
       "Eval (train):   0%|          | 0/333 [00:00<?, ?it/s]"
      ]
     },
     "metadata": {},
     "output_type": "display_data"
    },
    {
     "name": "stdout",
     "output_type": "stream",
     "text": [
      "\"metric\": \"mean\" (\"standard deviation\")\n",
      "dcg: 103.2925 (23.95941)\n",
      "dcg@03: 16.6135 (7.95516)\n",
      "dcg@05: 21.2841 (9.11135)\n",
      "dcg@10: 28.8281 (10.64548)\n",
      "dcg@20: 38.7202 (12.07237)\n",
      "ndcg: 0.8337 (0.05156)\n",
      "ndcg@03: 0.5819 (0.23927)\n",
      "ndcg@05: 0.5671 (0.19515)\n",
      "ndcg@10: 0.5655 (0.15519)\n",
      "ndcg@20: 0.5815 (0.12125)\n",
      "precision@01: 0.6667 (0.47140)\n",
      "precision@03: 0.5976 (0.33518)\n",
      "precision@05: 0.5393 (0.28207)\n",
      "precision@10: 0.4414 (0.21525)\n",
      "precision@20: 0.3505 (0.15623)\n",
      "recall@01: 0.0353 (0.03887)\n",
      "recall@03: 0.0871 (0.06369)\n",
      "recall@05: 0.1301 (0.08467)\n",
      "recall@10: 0.2073 (0.11100)\n",
      "recall@20: 0.3218 (0.14123)\n",
      "relevant rank: 64.9875 (59.10926)\n",
      "relevant rank per query: 1543.8919 (963.10388)\n"
     ]
    },
    {
     "data": {
      "application/vnd.jupyter.widget-view+json": {
       "model_id": "",
       "version_major": 2,
       "version_minor": 0
      },
      "text/plain": [
       "Eval (validation):   0%|          | 0/50 [00:00<?, ?it/s]"
      ]
     },
     "metadata": {},
     "output_type": "display_data"
    },
    {
     "name": "stdout",
     "output_type": "stream",
     "text": [
      "\"metric\": \"mean\" (\"standard deviation\")\n",
      "dcg: 105.0615 (22.92163)\n",
      "dcg@03: 18.9798 (6.74274)\n",
      "dcg@05: 23.7520 (7.91675)\n",
      "dcg@10: 31.6707 (9.11583)\n",
      "dcg@20: 41.6449 (10.70429)\n",
      "ndcg: 0.8475 (0.04422)\n",
      "ndcg@03: 0.6619 (0.20798)\n",
      "ndcg@05: 0.6300 (0.17092)\n",
      "ndcg@10: 0.6136 (0.11834)\n",
      "ndcg@20: 0.6187 (0.10099)\n",
      "precision@01: 0.8200 (0.38419)\n",
      "precision@03: 0.6467 (0.25307)\n",
      "precision@05: 0.5760 (0.20254)\n",
      "precision@10: 0.4620 (0.15478)\n",
      "precision@20: 0.3740 (0.12777)\n",
      "recall@01: 0.0403 (0.02734)\n",
      "recall@03: 0.0956 (0.05257)\n",
      "recall@05: 0.1403 (0.06790)\n",
      "recall@10: 0.2193 (0.10158)\n",
      "recall@20: 0.3497 (0.13324)\n",
      "relevant rank: 63.8290 (60.06702)\n",
      "relevant rank per query: 1507.6400 (980.07318)\n",
      "train:  {'ndcg': (0.8264491487444993, 0.054707557224318325)}\n",
      "validation:  {'ndcg': (0.8367553088010934, 0.047863013636232576)}\n"
     ]
    },
    {
     "data": {
      "application/vnd.jupyter.widget-view+json": {
       "model_id": "c873180c129f43feb4bbc5c0e437a590",
       "version_major": 2,
       "version_minor": 0
      },
      "text/plain": [
       "  0%|          | 0/2735 [00:00<?, ?it/s]"
      ]
     },
     "metadata": {},
     "output_type": "display_data"
    },
    {
     "data": {
      "application/vnd.jupyter.widget-view+json": {
       "model_id": "",
       "version_major": 2,
       "version_minor": 0
      },
      "text/plain": [
       "Eval (train):   0%|          | 0/333 [00:00<?, ?it/s]"
      ]
     },
     "metadata": {},
     "output_type": "display_data"
    },
    {
     "name": "stdout",
     "output_type": "stream",
     "text": [
      "\"metric\": \"mean\" (\"standard deviation\")\n",
      "dcg: 104.2845 (24.01814)\n",
      "dcg@03: 17.2553 (7.77538)\n",
      "dcg@05: 22.1639 (8.95648)\n",
      "dcg@10: 30.0186 (10.57166)\n",
      "dcg@20: 39.9010 (12.08251)\n",
      "ndcg: 0.8419 (0.05052)\n",
      "ndcg@03: 0.6067 (0.23129)\n",
      "ndcg@05: 0.5927 (0.18940)\n",
      "ndcg@10: 0.5894 (0.15472)\n",
      "ndcg@20: 0.6000 (0.12070)\n",
      "precision@01: 0.7357 (0.44094)\n",
      "precision@03: 0.6216 (0.32105)\n",
      "precision@05: 0.5598 (0.27147)\n",
      "precision@10: 0.4610 (0.21528)\n",
      "precision@20: 0.3658 (0.16316)\n",
      "recall@01: 0.0386 (0.03863)\n",
      "recall@03: 0.0922 (0.06539)\n",
      "recall@05: 0.1361 (0.08188)\n",
      "recall@10: 0.2173 (0.11522)\n",
      "recall@20: 0.3348 (0.14103)\n",
      "relevant rank: 62.7857 (58.29776)\n",
      "relevant rank per query: 1491.5856 (946.97451)\n"
     ]
    },
    {
     "data": {
      "application/vnd.jupyter.widget-view+json": {
       "model_id": "",
       "version_major": 2,
       "version_minor": 0
      },
      "text/plain": [
       "Eval (validation):   0%|          | 0/50 [00:00<?, ?it/s]"
      ]
     },
     "metadata": {},
     "output_type": "display_data"
    },
    {
     "name": "stdout",
     "output_type": "stream",
     "text": [
      "\"metric\": \"mean\" (\"standard deviation\")\n",
      "dcg: 105.4158 (22.68385)\n",
      "dcg@03: 18.8041 (6.80740)\n",
      "dcg@05: 23.7260 (8.14601)\n",
      "dcg@10: 32.0643 (9.16446)\n",
      "dcg@20: 42.1516 (10.57259)\n",
      "ndcg: 0.8513 (0.04339)\n",
      "ndcg@03: 0.6570 (0.20998)\n",
      "ndcg@05: 0.6303 (0.18084)\n",
      "ndcg@10: 0.6228 (0.12487)\n",
      "ndcg@20: 0.6273 (0.10427)\n",
      "precision@01: 0.8200 (0.38419)\n",
      "precision@03: 0.6400 (0.23889)\n",
      "precision@05: 0.5800 (0.22000)\n",
      "precision@10: 0.4760 (0.16070)\n",
      "precision@20: 0.3860 (0.14001)\n",
      "recall@01: 0.0410 (0.02780)\n",
      "recall@03: 0.0989 (0.05669)\n",
      "recall@05: 0.1428 (0.07246)\n",
      "recall@10: 0.2335 (0.11943)\n",
      "recall@20: 0.3591 (0.13597)\n",
      "relevant rank: 61.8874 (59.25916)\n",
      "relevant rank per query: 1461.7800 (959.33411)\n",
      "train:  {'precision@05': (0.5039039039039039, 0.2822311627088312)}\n",
      "validation:  {'precision@05': (0.536, 0.22428553230201898)}\n"
     ]
    },
    {
     "data": {
      "application/vnd.jupyter.widget-view+json": {
       "model_id": "babb2329c3c142a0ba5fb451c3e93859",
       "version_major": 2,
       "version_minor": 0
      },
      "text/plain": [
       "  0%|          | 0/2735 [00:00<?, ?it/s]"
      ]
     },
     "metadata": {},
     "output_type": "display_data"
    },
    {
     "data": {
      "application/vnd.jupyter.widget-view+json": {
       "model_id": "",
       "version_major": 2,
       "version_minor": 0
      },
      "text/plain": [
       "Eval (train):   0%|          | 0/333 [00:00<?, ?it/s]"
      ]
     },
     "metadata": {},
     "output_type": "display_data"
    },
    {
     "name": "stdout",
     "output_type": "stream",
     "text": [
      "\"metric\": \"mean\" (\"standard deviation\")\n",
      "dcg: 104.7474 (24.32452)\n",
      "dcg@03: 17.6808 (7.74421)\n",
      "dcg@05: 22.8459 (9.07012)\n",
      "dcg@10: 30.7163 (10.66415)\n",
      "dcg@20: 40.7220 (12.34167)\n",
      "ndcg: 0.8453 (0.05005)\n",
      "ndcg@03: 0.6216 (0.22920)\n",
      "ndcg@05: 0.6092 (0.18792)\n",
      "ndcg@10: 0.6023 (0.14991)\n",
      "ndcg@20: 0.6119 (0.11868)\n",
      "precision@01: 0.7417 (0.43768)\n",
      "precision@03: 0.6456 (0.31727)\n",
      "precision@05: 0.5838 (0.27483)\n",
      "precision@10: 0.4730 (0.21877)\n",
      "precision@20: 0.3757 (0.16547)\n",
      "recall@01: 0.0369 (0.03349)\n",
      "recall@03: 0.0966 (0.07112)\n",
      "recall@05: 0.1428 (0.08938)\n",
      "recall@10: 0.2213 (0.11489)\n",
      "recall@20: 0.3452 (0.14364)\n",
      "relevant rank: 62.4862 (58.44405)\n",
      "relevant rank per query: 1484.4685 (936.77758)\n"
     ]
    },
    {
     "data": {
      "application/vnd.jupyter.widget-view+json": {
       "model_id": "",
       "version_major": 2,
       "version_minor": 0
      },
      "text/plain": [
       "Eval (validation):   0%|          | 0/50 [00:00<?, ?it/s]"
      ]
     },
     "metadata": {},
     "output_type": "display_data"
    },
    {
     "name": "stdout",
     "output_type": "stream",
     "text": [
      "\"metric\": \"mean\" (\"standard deviation\")\n",
      "dcg: 105.1356 (22.76684)\n",
      "dcg@03: 17.8251 (6.79158)\n",
      "dcg@05: 23.5154 (7.49364)\n",
      "dcg@10: 31.8423 (9.05906)\n",
      "dcg@20: 42.2325 (10.77975)\n",
      "ndcg: 0.8488 (0.04628)\n",
      "ndcg@03: 0.6239 (0.21837)\n",
      "ndcg@05: 0.6258 (0.17487)\n",
      "ndcg@10: 0.6190 (0.12637)\n",
      "ndcg@20: 0.6280 (0.10511)\n",
      "precision@01: 0.7000 (0.45826)\n",
      "precision@03: 0.6200 (0.25828)\n",
      "precision@05: 0.5920 (0.21526)\n",
      "precision@10: 0.4900 (0.15395)\n",
      "precision@20: 0.3940 (0.14200)\n",
      "recall@01: 0.0356 (0.03018)\n",
      "recall@03: 0.0933 (0.05886)\n",
      "recall@05: 0.1454 (0.08135)\n",
      "recall@10: 0.2425 (0.11833)\n",
      "recall@20: 0.3650 (0.13544)\n",
      "relevant rank: 60.9661 (59.06969)\n",
      "relevant rank per query: 1440.0200 (936.72055)\n",
      "train:  {'recall@05': (0.13006268876022214, 0.08466984873686884)}\n",
      "validation:  {'recall@05': (0.14026722423770532, 0.06790497618182877)}\n"
     ]
    },
    {
     "data": {
      "application/vnd.jupyter.widget-view+json": {
       "model_id": "65ca7a628dc14f8a9fe78f79582889a0",
       "version_major": 2,
       "version_minor": 0
      },
      "text/plain": [
       "  0%|          | 0/2735 [00:00<?, ?it/s]"
      ]
     },
     "metadata": {},
     "output_type": "display_data"
    },
    {
     "data": {
      "application/vnd.jupyter.widget-view+json": {
       "model_id": "",
       "version_major": 2,
       "version_minor": 0
      },
      "text/plain": [
       "Eval (train):   0%|          | 0/333 [00:00<?, ?it/s]"
      ]
     },
     "metadata": {},
     "output_type": "display_data"
    },
    {
     "name": "stdout",
     "output_type": "stream",
     "text": [
      "\"metric\": \"mean\" (\"standard deviation\")\n",
      "dcg: 105.1869 (24.49468)\n",
      "dcg@03: 18.2011 (7.99136)\n",
      "dcg@05: 23.5510 (9.30123)\n",
      "dcg@10: 31.3348 (11.10863)\n",
      "dcg@20: 41.2806 (12.81106)\n",
      "ndcg: 0.8488 (0.05108)\n",
      "ndcg@03: 0.6378 (0.23311)\n",
      "ndcg@05: 0.6264 (0.18861)\n",
      "ndcg@10: 0.6127 (0.15171)\n",
      "ndcg@20: 0.6194 (0.12330)\n",
      "precision@01: 0.7508 (0.43258)\n",
      "precision@03: 0.6557 (0.31777)\n",
      "precision@05: 0.6006 (0.27444)\n",
      "precision@10: 0.4844 (0.21878)\n",
      "precision@20: 0.3802 (0.16952)\n",
      "recall@01: 0.0393 (0.03835)\n",
      "recall@03: 0.0976 (0.06985)\n",
      "recall@05: 0.1457 (0.08813)\n",
      "recall@10: 0.2279 (0.11835)\n",
      "recall@20: 0.3480 (0.14918)\n",
      "relevant rank: 62.5339 (58.75367)\n",
      "relevant rank per query: 1485.6036 (928.13931)\n"
     ]
    },
    {
     "data": {
      "application/vnd.jupyter.widget-view+json": {
       "model_id": "",
       "version_major": 2,
       "version_minor": 0
      },
      "text/plain": [
       "Eval (validation):   0%|          | 0/50 [00:00<?, ?it/s]"
      ]
     },
     "metadata": {},
     "output_type": "display_data"
    },
    {
     "name": "stdout",
     "output_type": "stream",
     "text": [
      "\"metric\": \"mean\" (\"standard deviation\")\n",
      "dcg: 106.0406 (22.99748)\n",
      "dcg@03: 19.5053 (7.08380)\n",
      "dcg@05: 24.2176 (7.61108)\n",
      "dcg@10: 32.9749 (9.45961)\n",
      "dcg@20: 42.9520 (10.66574)\n",
      "ndcg: 0.8556 (0.04600)\n",
      "ndcg@03: 0.6747 (0.21260)\n",
      "ndcg@05: 0.6399 (0.16393)\n",
      "ndcg@10: 0.6378 (0.12560)\n",
      "ndcg@20: 0.6382 (0.10448)\n",
      "precision@01: 0.8200 (0.38419)\n",
      "precision@03: 0.6867 (0.27006)\n",
      "precision@05: 0.5880 (0.21692)\n",
      "precision@10: 0.4960 (0.16366)\n",
      "precision@20: 0.3820 (0.13775)\n",
      "recall@01: 0.0409 (0.02782)\n",
      "recall@03: 0.1020 (0.05788)\n",
      "recall@05: 0.1444 (0.08187)\n",
      "recall@10: 0.2389 (0.11160)\n",
      "recall@20: 0.3564 (0.14212)\n",
      "relevant rank: 61.1346 (59.08162)\n",
      "relevant rank per query: 1444.0000 (930.56447)\n",
      "train:  {'ndcg': (0.8337308672630465, 0.05155659270096487)}\n",
      "validation:  {'ndcg': (0.8475190616158481, 0.044217558887858756)}\n"
     ]
    },
    {
     "data": {
      "application/vnd.jupyter.widget-view+json": {
       "model_id": "75b303b7f0e74eb094c6073eeda274b4",
       "version_major": 2,
       "version_minor": 0
      },
      "text/plain": [
       "  0%|          | 0/2735 [00:00<?, ?it/s]"
      ]
     },
     "metadata": {},
     "output_type": "display_data"
    },
    {
     "data": {
      "application/vnd.jupyter.widget-view+json": {
       "model_id": "",
       "version_major": 2,
       "version_minor": 0
      },
      "text/plain": [
       "Eval (train):   0%|          | 0/333 [00:00<?, ?it/s]"
      ]
     },
     "metadata": {},
     "output_type": "display_data"
    },
    {
     "name": "stdout",
     "output_type": "stream",
     "text": [
      "\"metric\": \"mean\" (\"standard deviation\")\n",
      "dcg: 105.2722 (24.24070)\n",
      "dcg@03: 18.0070 (7.54178)\n",
      "dcg@05: 23.1768 (8.91844)\n",
      "dcg@10: 31.2029 (10.60979)\n",
      "dcg@20: 41.3512 (12.37234)\n",
      "ndcg: 0.8501 (0.04882)\n",
      "ndcg@03: 0.6348 (0.22161)\n",
      "ndcg@05: 0.6196 (0.18356)\n",
      "ndcg@10: 0.6127 (0.14783)\n",
      "ndcg@20: 0.6224 (0.11997)\n",
      "precision@01: 0.7748 (0.41773)\n",
      "precision@03: 0.6587 (0.31097)\n",
      "precision@05: 0.5934 (0.27870)\n",
      "precision@10: 0.4817 (0.21850)\n",
      "precision@20: 0.3839 (0.17060)\n",
      "recall@01: 0.0401 (0.03715)\n",
      "recall@03: 0.0985 (0.06652)\n",
      "recall@05: 0.1448 (0.09114)\n",
      "recall@10: 0.2271 (0.11915)\n",
      "recall@20: 0.3536 (0.15180)\n",
      "relevant rank: 61.4525 (58.21497)\n",
      "relevant rank per query: 1459.9129 (918.19481)\n"
     ]
    },
    {
     "data": {
      "application/vnd.jupyter.widget-view+json": {
       "model_id": "",
       "version_major": 2,
       "version_minor": 0
      },
      "text/plain": [
       "Eval (validation):   0%|          | 0/50 [00:00<?, ?it/s]"
      ]
     },
     "metadata": {},
     "output_type": "display_data"
    },
    {
     "name": "stdout",
     "output_type": "stream",
     "text": [
      "\"metric\": \"mean\" (\"standard deviation\")\n",
      "dcg: 105.1704 (22.46849)\n",
      "dcg@03: 17.5593 (6.72854)\n",
      "dcg@05: 23.5311 (7.57547)\n",
      "dcg@10: 31.9784 (8.88366)\n",
      "dcg@20: 42.3308 (10.21382)\n",
      "ndcg: 0.8498 (0.04387)\n",
      "ndcg@03: 0.6169 (0.21206)\n",
      "ndcg@05: 0.6254 (0.16679)\n",
      "ndcg@10: 0.6235 (0.12901)\n",
      "ndcg@20: 0.6313 (0.10028)\n",
      "precision@01: 0.7000 (0.45826)\n",
      "precision@03: 0.6333 (0.28480)\n",
      "precision@05: 0.6120 (0.22058)\n",
      "precision@10: 0.5020 (0.17377)\n",
      "precision@20: 0.3960 (0.15028)\n",
      "recall@01: 0.0386 (0.03546)\n",
      "recall@03: 0.0989 (0.06404)\n",
      "recall@05: 0.1525 (0.08193)\n",
      "recall@10: 0.2454 (0.12674)\n",
      "recall@20: 0.3647 (0.13785)\n",
      "relevant rank: 61.0381 (59.59654)\n",
      "relevant rank per query: 1441.7200 (939.46189)\n",
      "train:  {'precision@05': (0.5393393393393393, 0.28207007549801416)}\n",
      "validation:  {'precision@05': (0.5760000000000001, 0.20254382241875457)}\n"
     ]
    },
    {
     "data": {
      "application/vnd.jupyter.widget-view+json": {
       "model_id": "f3beb07e76c941369cea851d594c42a5",
       "version_major": 2,
       "version_minor": 0
      },
      "text/plain": [
       "  0%|          | 0/2735 [00:00<?, ?it/s]"
      ]
     },
     "metadata": {},
     "output_type": "display_data"
    },
    {
     "data": {
      "application/vnd.jupyter.widget-view+json": {
       "model_id": "",
       "version_major": 2,
       "version_minor": 0
      },
      "text/plain": [
       "Eval (train):   0%|          | 0/333 [00:00<?, ?it/s]"
      ]
     },
     "metadata": {},
     "output_type": "display_data"
    },
    {
     "name": "stdout",
     "output_type": "stream",
     "text": [
      "\"metric\": \"mean\" (\"standard deviation\")\n",
      "dcg: 105.8361 (24.43110)\n",
      "dcg@03: 18.6500 (7.92013)\n",
      "dcg@05: 23.8873 (9.28292)\n",
      "dcg@10: 31.9409 (10.98612)\n",
      "dcg@20: 42.1088 (12.75096)\n",
      "ndcg: 0.8544 (0.04958)\n",
      "ndcg@03: 0.6558 (0.22605)\n",
      "ndcg@05: 0.6373 (0.18896)\n",
      "ndcg@10: 0.6260 (0.15126)\n",
      "ndcg@20: 0.6326 (0.12219)\n",
      "precision@01: 0.7598 (0.42723)\n",
      "precision@03: 0.6827 (0.29972)\n",
      "precision@05: 0.6132 (0.27214)\n",
      "precision@10: 0.4961 (0.21606)\n",
      "precision@20: 0.3916 (0.17421)\n",
      "recall@01: 0.0394 (0.03646)\n",
      "recall@03: 0.1025 (0.06781)\n",
      "recall@05: 0.1509 (0.09374)\n",
      "recall@10: 0.2355 (0.12300)\n",
      "recall@20: 0.3603 (0.14777)\n",
      "relevant rank: 60.2617 (57.65319)\n",
      "relevant rank per query: 1431.6216 (910.57096)\n"
     ]
    },
    {
     "data": {
      "application/vnd.jupyter.widget-view+json": {
       "model_id": "",
       "version_major": 2,
       "version_minor": 0
      },
      "text/plain": [
       "Eval (validation):   0%|          | 0/50 [00:00<?, ?it/s]"
      ]
     },
     "metadata": {},
     "output_type": "display_data"
    },
    {
     "name": "stdout",
     "output_type": "stream",
     "text": [
      "\"metric\": \"mean\" (\"standard deviation\")\n",
      "dcg: 105.7453 (22.96633)\n",
      "dcg@03: 18.8715 (7.23140)\n",
      "dcg@05: 24.3664 (8.42774)\n",
      "dcg@10: 32.7472 (9.82558)\n",
      "dcg@20: 42.9000 (11.09944)\n",
      "ndcg: 0.8532 (0.04973)\n",
      "ndcg@03: 0.6540 (0.22762)\n",
      "ndcg@05: 0.6419 (0.19255)\n",
      "ndcg@10: 0.6336 (0.13984)\n",
      "ndcg@20: 0.6372 (0.11650)\n",
      "precision@01: 0.6800 (0.46648)\n",
      "precision@03: 0.6867 (0.27817)\n",
      "precision@05: 0.6320 (0.23103)\n",
      "precision@10: 0.5120 (0.16690)\n",
      "precision@20: 0.3980 (0.14351)\n",
      "recall@01: 0.0341 (0.03009)\n",
      "recall@03: 0.1045 (0.06379)\n",
      "recall@05: 0.1585 (0.09447)\n",
      "recall@10: 0.2477 (0.11687)\n",
      "recall@20: 0.3728 (0.15152)\n",
      "relevant rank: 60.0855 (59.31702)\n",
      "relevant rank per query: 1419.2200 (941.83628)\n",
      "train:  {'recall@05': (0.13614059789218183, 0.08188177415460592)}\n",
      "validation:  {'recall@05': (0.14283352863812704, 0.07245998490358067)}\n"
     ]
    },
    {
     "data": {
      "application/vnd.jupyter.widget-view+json": {
       "model_id": "4d2d0487c3414ab6ad2e3078c6ff4a31",
       "version_major": 2,
       "version_minor": 0
      },
      "text/plain": [
       "  0%|          | 0/2735 [00:00<?, ?it/s]"
      ]
     },
     "metadata": {},
     "output_type": "display_data"
    },
    {
     "data": {
      "application/vnd.jupyter.widget-view+json": {
       "model_id": "",
       "version_major": 2,
       "version_minor": 0
      },
      "text/plain": [
       "Eval (train):   0%|          | 0/333 [00:00<?, ?it/s]"
      ]
     },
     "metadata": {},
     "output_type": "display_data"
    },
    {
     "name": "stdout",
     "output_type": "stream",
     "text": [
      "\"metric\": \"mean\" (\"standard deviation\")\n",
      "dcg: 105.7757 (24.35955)\n",
      "dcg@03: 18.5031 (7.74759)\n",
      "dcg@05: 23.7118 (8.99611)\n",
      "dcg@10: 31.7582 (10.71217)\n",
      "dcg@20: 42.0469 (12.69592)\n",
      "ndcg: 0.8541 (0.04928)\n",
      "ndcg@03: 0.6523 (0.22191)\n",
      "ndcg@05: 0.6336 (0.18112)\n",
      "ndcg@10: 0.6237 (0.14701)\n",
      "ndcg@20: 0.6320 (0.12166)\n",
      "precision@01: 0.7748 (0.41773)\n",
      "precision@03: 0.6907 (0.30689)\n",
      "precision@05: 0.6150 (0.26961)\n",
      "precision@10: 0.4949 (0.21492)\n",
      "precision@20: 0.3914 (0.17188)\n",
      "recall@01: 0.0406 (0.03820)\n",
      "recall@03: 0.1034 (0.07129)\n",
      "recall@05: 0.1508 (0.09162)\n",
      "recall@10: 0.2347 (0.12183)\n",
      "recall@20: 0.3608 (0.15578)\n",
      "relevant rank: 60.1859 (57.62106)\n",
      "relevant rank per query: 1429.8228 (917.72430)\n"
     ]
    },
    {
     "data": {
      "application/vnd.jupyter.widget-view+json": {
       "model_id": "",
       "version_major": 2,
       "version_minor": 0
      },
      "text/plain": [
       "Eval (validation):   0%|          | 0/50 [00:00<?, ?it/s]"
      ]
     },
     "metadata": {},
     "output_type": "display_data"
    },
    {
     "name": "stdout",
     "output_type": "stream",
     "text": [
      "\"metric\": \"mean\" (\"standard deviation\")\n",
      "dcg: 105.5714 (23.53364)\n",
      "dcg@03: 18.2505 (6.97856)\n",
      "dcg@05: 23.5629 (7.85032)\n",
      "dcg@10: 32.2951 (9.90993)\n",
      "dcg@20: 42.7355 (11.31552)\n",
      "ndcg: 0.8509 (0.05306)\n",
      "ndcg@03: 0.6351 (0.21567)\n",
      "ndcg@05: 0.6244 (0.18066)\n",
      "ndcg@10: 0.6256 (0.14445)\n",
      "ndcg@20: 0.6350 (0.11705)\n",
      "precision@01: 0.7200 (0.44900)\n",
      "precision@03: 0.6400 (0.26533)\n",
      "precision@05: 0.6000 (0.22978)\n",
      "precision@10: 0.5120 (0.18291)\n",
      "precision@20: 0.4040 (0.15454)\n",
      "recall@01: 0.0368 (0.03112)\n",
      "recall@03: 0.0975 (0.06148)\n",
      "recall@05: 0.1484 (0.08643)\n",
      "recall@10: 0.2457 (0.11283)\n",
      "recall@20: 0.3721 (0.13918)\n",
      "relevant rank: 60.0517 (59.32947)\n",
      "relevant rank per query: 1418.4200 (929.33906)\n",
      "train:  {'ndcg': (0.8418573608203809, 0.05051616040832082)}\n",
      "validation:  {'ndcg': (0.8513078135080231, 0.04339042849334858)}\n"
     ]
    },
    {
     "data": {
      "application/vnd.jupyter.widget-view+json": {
       "model_id": "",
       "version_major": 2,
       "version_minor": 0
      },
      "text/plain": [
       "Eval (test):   0%|          | 0/117 [00:00<?, ?it/s]"
      ]
     },
     "metadata": {},
     "output_type": "display_data"
    },
    {
     "name": "stdout",
     "output_type": "stream",
     "text": [
      "\"metric\": \"mean\" (\"standard deviation\")\n",
      "dcg: 110.0119 (24.03749)\n",
      "dcg@03: 18.6287 (7.75421)\n",
      "dcg@05: 23.9057 (9.00271)\n",
      "dcg@10: 32.3119 (10.88329)\n",
      "dcg@20: 42.8043 (12.98716)\n",
      "ndcg: 0.8492 (0.05036)\n",
      "ndcg@03: 0.6388 (0.22893)\n",
      "ndcg@05: 0.6236 (0.19104)\n",
      "ndcg@10: 0.6188 (0.15233)\n",
      "ndcg@20: 0.6233 (0.12373)\n",
      "precision@01: 0.6923 (0.46154)\n",
      "precision@03: 0.6809 (0.27698)\n",
      "precision@05: 0.6342 (0.25391)\n",
      "precision@10: 0.5188 (0.21481)\n",
      "precision@20: 0.4068 (0.17552)\n",
      "recall@01: 0.0311 (0.02765)\n",
      "recall@03: 0.0927 (0.05705)\n",
      "recall@05: 0.1420 (0.08079)\n",
      "recall@10: 0.2208 (0.10115)\n",
      "recall@20: 0.3370 (0.13180)\n",
      "relevant rank: 64.4507 (61.67116)\n",
      "relevant rank per query: 1658.6410 (1005.56335)\n"
     ]
    }
   ],
   "source": [
    "seed(42)\n",
    "params = Namespace(epochs=8, \n",
    "                    lr=1e-4,\n",
    "                    batch_size=1,\n",
    "                    metrics={\"ndcg\", \"precision@05\", \"recall@05\"})\n",
    "listwise_model = NeuralModule(1)\n",
    "\n",
    "create_results(listwise_model, \n",
    "               train_listwise, \n",
    "               listwise_model,\n",
    "               \"./listwise.json\",\n",
    "               params)\n",
    "\n",
    "# persist model\n",
    "torch.save(listwise_model.state_dict(), \"./listwise_wt\")"
   ]
  },
  {
   "cell_type": "markdown",
   "metadata": {
    "deletable": false,
    "nbgrader": {
     "cell_type": "markdown",
     "checksum": "cbccf7ada9159548390a5d8d28df92d1",
     "grade": true,
     "grade_id": "cell-6c37b60a428d000a",
     "locked": false,
     "points": 35,
     "schema_version": 3,
     "solution": true,
     "task": false
    }
   },
   "source": [
    "YOUR ANSWER HERE"
   ]
  },
  {
   "cell_type": "code",
   "execution_count": 46,
   "metadata": {
    "deletable": false,
    "editable": false,
    "nbgrader": {
     "cell_type": "code",
     "checksum": "4e086691009a4dc0f8013c9f7f2d61bf",
     "grade": true,
     "grade_id": "cell-6c8d3b2e4ab668b1",
     "locked": true,
     "points": 15,
     "schema_version": 3,
     "solution": false,
     "task": false
    }
   },
   "outputs": [],
   "source": [
    "assert os.path.exists(\"./listwise.json\")"
   ]
  },
  {
   "cell_type": "markdown",
   "metadata": {
    "deletable": false,
    "editable": false,
    "nbgrader": {
     "cell_type": "markdown",
     "checksum": "1a1aaed7333acfcbdf24046a15cc5a2b",
     "grade": false,
     "grade_id": "cell-e47b21d69c9be1e4",
     "locked": true,
     "schema_version": 3,
     "solution": false,
     "task": false
    }
   },
   "source": [
    "## Section 6: Comparing Pointwise, Pairwise and Listwise (70 points) <a class=\"anchor\" id=\"evaluation1\"></a>\n",
    "\n",
    "[Back to TOC](#top)\n",
    "\n",
    "In the next few cells, we will compare the methods you've implemented. Helper functions are provided for you, which you can use to make some conclusions. You can modify the code as needed (you are encouraged to do so!)"
   ]
  },
  {
   "cell_type": "code",
   "execution_count": 47,
   "metadata": {},
   "outputs": [],
   "source": [
    "def autolabel(ax, rects, labels):\n",
    "    \"\"\"Attach a text label above each bar in *rects*, displaying its height.\"\"\"\n",
    "    for l, rect in zip(labels, rects):\n",
    "        height = rect.get_height()\n",
    "        ax.annotate('{}'.format(l),\n",
    "                    xy=(rect.get_x() + rect.get_width() / 2, height),\n",
    "                    xytext=(0, 3),  # 3 points vertical offset\n",
    "                    textcoords=\"offset points\",\n",
    "                    ha='center', va='bottom',\n",
    "                   fontsize=7)\n",
    "\n",
    "def compare_methods(labels, metrics, metrics_to_plot={\"ndcg\", \"precision@05\", \"recall@05\"}):\n",
    "    \"\"\"\n",
    "    Constructs bar plots to compare different methods. \n",
    "    \n",
    "    labels: list/tuple of length N\n",
    "    metrics: list/tuple of length N, containing dictionary containing the test set results \n",
    "    metrics_to_plot: set of metrics to plot - each metric creates a separate plot \n",
    "    \"\"\"\n",
    "    assert len(metrics) == len(labels)\n",
    "    \n",
    "    x = np.arange(len(metrics_to_plot)) \n",
    "    fig, axes = plt.subplots(nrows=1, ncols=len(metrics_to_plot), sharey=False)\n",
    "    fig.set_figheight(7)\n",
    "    fig.set_figwidth(15)\n",
    "    \n",
    "    colors = cm.get_cmap(\"Set1\").colors\n",
    "\n",
    "    for metric, ax, c in zip(metrics_to_plot, axes, colors):\n",
    "        m = [_[metric][0] for _ in metrics]  \n",
    "        std = [_[metric][1] for _ in metrics]\n",
    "        x = np.arange(len(labels))\n",
    "        rects = ax.bar(x, m, label=metric, color=c)\n",
    "        \n",
    "        l = [\"{0:.4f}({1:.4f})\".format(_[metric][0], _[metric][1]) for _ in metrics]\n",
    "        autolabel(ax, rects, l)\n",
    "        \n",
    "        ax.set_xticks(x)\n",
    "        ax.set_xticklabels(labels, rotation=45)\n",
    "        ax.set_yticks(np.linspace(0, 1, num=11))\n",
    "        ax.set_ylim(ymin=min(m) - 0.05, ymax= max(m) + 0.05)\n",
    "        ax.set_title(metric)\n",
    "    \n",
    "    \n",
    "\n",
    "def plot_distribution(labels, q_metrics, metric=\"ndcg\"):\n",
    "    \"\"\"\n",
    "    Plots the distribution of NDCG scores\n",
    "    \n",
    "    labels: list/tuple of length N\n",
    "    q_metrics: list/tuple of dictionaries with length N, containing the query level results\n",
    "    metric: the metric to plot\n",
    "    \n",
    "    \"\"\"\n",
    "    \n",
    "    n = len(labels)\n",
    "    # nC2\n",
    "    n_plots = int((n*(n-1))/2)\n",
    "    \n",
    "    fig, axes = plt.subplots(nrows=n_plots, ncols=1)\n",
    "    fig.set_figheight(8 * n_plots)\n",
    "    fig.set_figwidth(10)\n",
    "    \n",
    "    colors = cm.get_cmap(\"Set1\").colors\n",
    "    \n",
    "    for idx, (i, j) in enumerate(itertools.combinations(range(n), 2)):\n",
    "        ax = axes[idx]\n",
    "        \n",
    "        im = q_metrics[i][metric]\n",
    "        jm = q_metrics[j][metric]\n",
    "        \n",
    "        ax.hist(im, bins=50, label=labels[i], color=colors[i], alpha=0.55)\n",
    "        ax.hist(jm, bins=50, label=labels[j], color=colors[j], alpha=0.55)\n",
    "        \n",
    "        ax.set_title(f\"{labels[i]} vs {labels[j]}\")\n",
    "        ax.legend()\n",
    "        ax.set_ylabel(\"Count\")\n",
    "        ax.set_xlabel(\"NDCG (binned)\")\n",
    "        "
   ]
  },
  {
   "cell_type": "code",
   "execution_count": 48,
   "metadata": {
    "deletable": false,
    "editable": false,
    "nbgrader": {
     "cell_type": "code",
     "checksum": "10071c1830b37c08ea6accb26accb372",
     "grade": false,
     "grade_id": "cell-b8d4e6f2d2e78550",
     "locked": true,
     "schema_version": 3,
     "solution": false,
     "task": false
    }
   },
   "outputs": [],
   "source": [
    "# Load metrics and models\n",
    "\n",
    "pointwise_regr_model = NeuralModule(1)\n",
    "pointwise_regr_model.load_state_dict(torch.load(\"./pointwise_regr_wt\"))\n",
    "\n",
    "pointwise_clf_model = NeuralModule(5)\n",
    "pointwise_clf_model.load_state_dict(torch.load(\"./pointwise_clf_wt\"))\n",
    "pointwise_clf_pred_fn = partial(clf_pred, net=pointwise_clf_model)\n",
    "\n",
    "pairwise_model = NeuralModule(1)\n",
    "pairwise_model.load_state_dict(torch.load(\"./pairwise_wt\"))\n",
    "\n",
    "listwise_model = NeuralModule(1)\n",
    "listwise_model.load_state_dict(torch.load(\"./listwise_wt\"))\n",
    "\n",
    "\n",
    "methods = [\n",
    "    {\"results_file\": \"./pointwise_regression.json\", \"label\": \"Pointwise (R)\"},\n",
    "    {\"results_file\": \"./pointwise_classification.json\", \"label\": \"Pointwise (C)\"},\n",
    "    {\"results_file\": \"./pairwise.json\", \"label\": \"Pairwise\"},\n",
    "    {\"results_file\": \"./listwise.json\", \"label\": \"Listwise\"}\n",
    "]\n",
    "\n",
    "labels = []\n",
    "results = []\n",
    "q_results = []\n",
    "for m in methods:\n",
    "    labels.append(m[\"label\"])\n",
    "    \n",
    "    with open(m[\"results_file\"]) as reader:\n",
    "        r = json.load(reader)\n",
    "    \n",
    "    results.append(r[\"test_metrics\"])\n",
    "    q_results.append(r[\"test_query_level_metrics\"])\n",
    "\n"
   ]
  },
  {
   "cell_type": "code",
   "execution_count": 49,
   "metadata": {
    "deletable": false,
    "editable": false,
    "nbgrader": {
     "cell_type": "code",
     "checksum": "62939c8a4fe146ee5833f48a92142e10",
     "grade": false,
     "grade_id": "cell-c4ac703bc5a62d3b",
     "locked": true,
     "schema_version": 3,
     "solution": false,
     "task": false
    }
   },
   "outputs": [
    {
     "data": {
      "image/png": "[encoded data removed]",
      "text/plain": [
       "<Figure size 1080x504 with 3 Axes>"
      ]
     },
     "metadata": {
      "needs_background": "light"
     },
     "output_type": "display_data"
    }
   ],
   "source": [
    "compare_methods(labels, results)"
   ]
  },
  {
   "cell_type": "code",
   "execution_count": 50,
   "metadata": {
    "deletable": false,
    "editable": false,
    "nbgrader": {
     "cell_type": "code",
     "checksum": "aa461417560d69ebe07df21a8ad9b48e",
     "grade": false,
     "grade_id": "cell-a1ea52fda896045e",
     "locked": true,
     "schema_version": 3,
     "solution": false,
     "task": false
    }
   },
   "outputs": [
    {
     "data": {
      "image/png": "[encoded data removed]",
      "text/plain": [
       "<Figure size 720x3456 with 6 Axes>"
      ]
     },
     "metadata": {
      "needs_background": "light"
     },
     "output_type": "display_data"
    }
   ],
   "source": [
    "plot_distribution(labels, q_results)"
   ]
  },
  {
   "cell_type": "markdown",
   "metadata": {
    "deletable": false,
    "editable": false,
    "nbgrader": {
     "cell_type": "markdown",
     "checksum": "c6e424fb4065a175111443cfbf26c618",
     "grade": false,
     "grade_id": "cell-d6d65f1ab73cda9a",
     "locked": true,
     "schema_version": 3,
     "solution": false,
     "task": false
    }
   },
   "source": [
    "In the next cell, report the performance metrics for the methods (25 points):\n",
    "\n",
    "\n",
    "\n",
    "|     Model    | NDCG (s.d)| Precision@5 (s.d) | Recall@5 (s.d) |\n",
    "|:------------:|:----------:|:-----------:|:--------:|\n",
    "| Pointwise(R) |            |             |          |\n",
    "| Pointwise(C) |            |             |          |\n",
    "|   Pairwise   |            |             |          |\n",
    "|   Listwise   |            |             |          |\n",
    "\n",
    "\n",
    "\n",
    "**Rubric:** Each reported <Method, Metric> carries 2 points. "
   ]
  },
  {
   "cell_type": "markdown",
   "metadata": {
    "deletable": false,
    "nbgrader": {
     "cell_type": "markdown",
     "checksum": "89bf20199df56a7b90fa88c132800f23",
     "grade": true,
     "grade_id": "cell-5e733f8b8649a66f",
     "locked": false,
     "points": 25,
     "schema_version": 3,
     "solution": true,
     "task": false
    }
   },
   "source": [
    "YOUR ANSWER HERE\n",
    "\n",
    "|     Model    | NDCG (s.d)| Precision@5 (s.d) | Recall@5 (s.d) |\n",
    "|:------------:|:----------:|:-----------:|:--------:|\n",
    "| Pointwise(R) |           0.8689 (0.0526) |            0.6991 (0.2713) |         0.1537 (0.0822) |\n",
    "| Pointwise(C) |           0.8347 (0.0591) |            0.6034 (0.2804) |         0.1312 (0.0767) |\n",
    "|   Pairwise   |           0 |            0 |         0 |\n",
    "|   Listwise   |           0 |            0 |         0 |"
   ]
  },
  {
   "cell_type": "markdown",
   "metadata": {
    "deletable": false,
    "editable": false,
    "nbgrader": {
     "cell_type": "markdown",
     "checksum": "c36dc224821c1146261aa2e8d06bd419",
     "grade": false,
     "grade_id": "cell-067c6d8584df601e",
     "locked": true,
     "schema_version": 3,
     "solution": false,
     "task": false
    }
   },
   "source": [
    "Write a conclusion in the next cell, considering (45 points):\n",
    "- rates of convergence\n",
    "- time complexity\n",
    "- performance wrt the 3 metrics\n",
    "- performance across queries\n",
    "- ... any other observations"
   ]
  },
  {
   "cell_type": "markdown",
   "metadata": {
    "deletable": false,
    "nbgrader": {
     "cell_type": "markdown",
     "checksum": "4b8b4816351280cae45a1e498d1408fe",
     "grade": true,
     "grade_id": "cell-115db704e85b78c1",
     "locked": false,
     "points": 45,
     "schema_version": 3,
     "solution": true,
     "task": false
    }
   },
   "source": [
    "YOUR ANSWER HERE"
   ]
  },
  {
   "cell_type": "markdown",
   "metadata": {
    "deletable": false,
    "editable": false,
    "nbgrader": {
     "cell_type": "markdown",
     "checksum": "0b56e576a11e8312912751b345e72bfa",
     "grade": false,
     "grade_id": "cell-1693a9c859f14127",
     "locked": true,
     "schema_version": 3,
     "solution": false,
     "task": false
    }
   },
   "source": [
    "# Chapter 2: Online LTR (180 points) <a class=\"anchor\" id=\"onLTR\"></a>\n",
    "\n",
    "[Back to TOC](#top)\n",
    "\n",
    "In this part we want to use user interactions for training learning to rank algorithms.\n",
    "This part consists of the following sections:\n",
    " - Clicks Simulation (15 points)\n",
    " - Counterfactual Learning to Rank (80 points)\n",
    " - Online Evaluation (50 points)\n"
   ]
  },
  {
   "cell_type": "markdown",
   "metadata": {
    "deletable": false,
    "editable": false,
    "nbgrader": {
     "cell_type": "markdown",
     "checksum": "676f010e1d093ec248035d00c6888bf4",
     "grade": false,
     "grade_id": "cell-cb0180fd80d4f2cd",
     "locked": true,
     "schema_version": 3,
     "solution": false,
     "task": false
    }
   },
   "source": [
    "## Section 1: Clicks Simulation (15 points) <a class=\"anchor\" id=\"clicks\"></a>\n",
    "\n",
    "[Back to TOC](#top)\n",
    "\n",
    "In online LTR, we work with user interactions such as clicks.\n",
    "One way to test online LTR algorithms is to conduce semi-synthetic experiments.\n",
    "In semi-synthetic experiments, the feature vectors of a LTR dataset (similar to what you used in Part 1) are used.\n",
    "But instead of using the relevance labels for training the LTR algorithm, **simulated clicks** are used.\n",
    "\n",
    "In this section we want to simulate clicks based on the labels and use the generated clicks in later sections to train our Counterfactual LTR (CLTR) algorithm.\n",
    "\n",
    "First we need to have a *production ranker* that determines the order of documents for each query.\n",
    "The click probability of each document depends on its rank in the results list as well as its relevance."
   ]
  },
  {
   "cell_type": "code",
   "execution_count": 51,
   "metadata": {
    "deletable": false,
    "editable": false,
    "nbgrader": {
     "cell_type": "code",
     "checksum": "efe77df779addec15df70a2bd8a7aaee",
     "grade": false,
     "grade_id": "cell-4ae04e0717236f54",
     "locked": true,
     "schema_version": 3,
     "solution": false,
     "task": false
    }
   },
   "outputs": [
    {
     "name": "stdout",
     "output_type": "stream",
     "text": [
      "ranks has 3 keys: dict_keys(['train', 'valid', 'test'])\n",
      "train shape:(85227,)\n",
      "valid shape:(12794,)\n",
      "test shape:(29881,)\n"
     ]
    }
   ],
   "source": [
    "ranks = dataset.load_production_ranker()\n",
    "print(f'ranks has {len(ranks.keys())} keys: {ranks.keys()}')\n",
    "for key in ranks:\n",
    "    print(f'{key} shape:{ranks[key].shape}')\n",
    "    \n",
    "data.train.ranks = ranks['train']\n",
    "data.validation.ranks = ranks['valid']\n",
    "data.test.ranks = ranks['test']"
   ]
  },
  {
   "cell_type": "markdown",
   "metadata": {
    "deletable": false,
    "editable": false,
    "nbgrader": {
     "cell_type": "markdown",
     "checksum": "bc0ae9b0654edea0e837893b613af5b8",
     "grade": false,
     "grade_id": "cell-86dfb91f27aeb1cc",
     "locked": true,
     "schema_version": 3,
     "solution": false,
     "task": false
    }
   },
   "source": [
    "**Implementation (5 points):**\n",
    "Now use the `ranks` to generate clicks.\n",
    "We assume documents with label $[3,4]$ are relevant and labels $[0,1,2]$ are non-relevant.\n",
    "We also assume the examination probability of a document at rank $r$ is $\\frac{1}{r}$.\n",
    "Finally, we assume a $0.05$ noise.\n",
    "\n",
    "This means that the click probability of a document with label $[3,4]$ at rank $r$ is $\\frac{1}{r}$, while the click probability of a document with label $[0,1,2]$ at rank $r$ is $\\frac{0.05}{r}$."
   ]
  },
  {
   "cell_type": "code",
   "execution_count": 52,
   "metadata": {
    "deletable": false,
    "nbgrader": {
     "cell_type": "code",
     "checksum": "8bdfcf8895e430580912b057991ac7c0",
     "grade": false,
     "grade_id": "cell-6302b18566bcece2",
     "locked": false,
     "schema_version": 3,
     "solution": true,
     "task": false
    }
   },
   "outputs": [],
   "source": [
    "# TODO: Implement this! (5 points)\n",
    "def generate_clicks(ranking, query_labels):\n",
    "    \"\"\"\n",
    "    Generates random clicks based on the given list of ranking and relevance labels for the documents of one query.\n",
    "    Input:\n",
    "        ranking: contains the rank of documents, eg. ranking[5]=0 means that document 5 is shown at rank 0.\n",
    "        query_labels: contains the labels of documents, eg. query_labels[5]=3 means that document 5 has a label equal to 3.\n",
    "    Output:\n",
    "        A np.array of clicked positions, eq. clicked=[1,4] meanse that documents at ranks 1 and 4 have been clicked. Note that document at rank 1 may differ from document 1 (see description of ranking input).\n",
    "        \n",
    "    Hint: Use the np.random.binomial function for generating click from probability.\n",
    "    \"\"\"\n",
    "    theta = 1. / np.arange(1, ranking.shape[0] + 1)\n",
    "    noise_prob = 0.05 * theta\n",
    "    # YOUR CODE HERE\n",
    "    sort = [x for _,x in sorted(zip(ranking,query_labels))]\n",
    "    a = np.where(np.array(sort) > 2, theta, noise_prob)\n",
    "    b = np.random.binomial(n = 1, p = a)\n",
    "    return [i for i, e in enumerate(b) if e == 1]\n",
    " "
   ]
  },
  {
   "cell_type": "code",
   "execution_count": 53,
   "metadata": {
    "deletable": false,
    "editable": false,
    "nbgrader": {
     "cell_type": "code",
     "checksum": "6d5eeabc53fd3a13bb33d46f631ab3d5",
     "grade": true,
     "grade_id": "cell-098685a98a1887f4",
     "locked": true,
     "points": 5,
     "schema_version": 3,
     "solution": false,
     "task": false
    }
   },
   "outputs": [
    {
     "name": "stdout",
     "output_type": "stream",
     "text": [
      "clicks: [0, 1, 6]\n",
      "expected clicks for seed 4: [0 1 6]\n"
     ]
    }
   ],
   "source": [
    "ranking = np.array([2, 1, 3, 0, 4, 7, 5, 6])\n",
    "labels = np.array([0, 3, 4, 1, 1, 2, 4, 3])\n",
    "\n",
    "np.random.seed(4)\n",
    "print(f'clicks: {generate_clicks(ranking, labels)}')\n",
    "print('expected clicks for seed 4: [0 1 6]')\n",
    "\n"
   ]
  },
  {
   "cell_type": "markdown",
   "metadata": {
    "deletable": false,
    "editable": false,
    "nbgrader": {
     "cell_type": "markdown",
     "checksum": "5fdf6ed2c6545213fb432e06dafb088e",
     "grade": false,
     "grade_id": "cell-a45b9902b9ff34c7",
     "locked": true,
     "schema_version": 3,
     "solution": false,
     "task": false
    }
   },
   "source": [
    "**Implementation (10 points):**\n",
    "Use `generate_clicks` to simulate clicks for different query sessions.\n",
    "For this, randomly select a query id, generate random clicks on documents of that query using your `generate_clicks` implementation and only keep the clicks on `topk` positions (i.e. do not consider clicks on ranks after `topk` rank).\n",
    "Repeat this process until you have `click_count` number of clicks."
   ]
  },
  {
   "cell_type": "code",
   "execution_count": 54,
   "metadata": {
    "deletable": false,
    "nbgrader": {
     "cell_type": "code",
     "checksum": "ea8a1c5964a999322c4b30bdeecf88e6",
     "grade": false,
     "grade_id": "cell-cef4496878e0428a",
     "locked": false,
     "schema_version": 3,
     "solution": true,
     "task": false
    }
   },
   "outputs": [],
   "source": [
    "# TODO: Implement this! (10 points)\n",
    "def simulate_clicks(data, split_name, click_count, topk=20):\n",
    "    \"\"\"\n",
    "    Simulate click_count clicks on topk results on the specified split of the data.\n",
    "    Output:\n",
    "        A list L=[L_0, L_1, ..., L_n] of lists. Each L_i is itself a list of clicks over the documents of query number i, eg. L_0=[0,2,0,1,0,5,2] means that in the sessions of the first query, the documents at positions 0,1,2 and 5 were clicked 3,1,2 and 1 times, respectively.\n",
    "    \"\"\"\n",
    "    data_split = getattr(data, split_name)\n",
    "\n",
    "    num_queries = data_split.doclist_ranges.shape[0] - 1\n",
    "    clicks = [[] for _ in range(num_queries)]\n",
    "    np.random.seed(42)\n",
    "    \n",
    "#     # JORDY\n",
    "#     for i in range(click_count):\n",
    "#         qid = np.random.randint(0, data_split.num_queries()-1)\n",
    "#         start,end = data_split.query_range(qid)                \n",
    "#         rankings = ranks[split_name][start:(end-1)]\n",
    "#         labels = data_split.query_labels(qid)\n",
    "#         clicks_for_qid = generate_clicks(rankings, labels)\n",
    "#         clicks_for_qid = [x for x in clicks_for_qid if x < topk]\n",
    "#         if len(clicks_for_qid) == 0:\n",
    "#             continue\n",
    "#         clicks[qid] = clicks[qid] + clicks_for_qid\n",
    "#     return clicks\n",
    "\n",
    "    # YOES\n",
    "    amount_of_clicks = 0\n",
    "    while amount_of_clicks < click_count:\n",
    "        qid = np.random.randint(0, data_split.num_queries()-1)\n",
    "        start,end = data_split.query_range(qid)                \n",
    "        rankings = ranks[split_name][start:(end-1)]\n",
    "        labels = data_split.query_labels(qid)\n",
    "        clicks_for_qid = generate_clicks(rankings, labels)\n",
    "        clicks_for_qid = [x for x in clicks_for_qid if x < topk]\n",
    "        if len(clicks_for_qid) == 0:\n",
    "            continue\n",
    "        clicks[qid] = clicks[qid] + clicks_for_qid\n",
    "        amount_of_clicks += len(clicks_for_qid)\n",
    "    return clicks"
   ]
  },
  {
   "cell_type": "markdown",
   "metadata": {
    "deletable": false,
    "editable": false,
    "nbgrader": {
     "cell_type": "markdown",
     "checksum": "257a37637e4baec5b5da06cfb28f9c10",
     "grade": false,
     "grade_id": "cell-d31c106145d57d5a",
     "locked": true,
     "schema_version": 3,
     "solution": false,
     "task": false
    }
   },
   "source": [
    "Use `simulate_clicks` function to simulate clicks for train and validation sets.\n",
    "\n",
    "**Note:**\n",
    "You can dump your generated clicks using pickle or numby and load them in your future runs to avoid long waiting times."
   ]
  },
  {
   "cell_type": "code",
   "execution_count": 55,
   "metadata": {
    "deletable": false,
    "editable": false,
    "nbgrader": {
     "cell_type": "code",
     "checksum": "fe427c2102d2999e8bd2a6243c0d18b6",
     "grade": true,
     "grade_id": "cell-c7adb3055f3a3d5c",
     "locked": true,
     "points": 10,
     "schema_version": 3,
     "solution": false,
     "task": false
    }
   },
   "outputs": [
    {
     "name": "stdout",
     "output_type": "stream",
     "text": [
      "10000 clicks simulated over 2735 queries.\n",
      "On average, each session has 3.656307129798903 clicks.\n",
      "min number of clicks per session:0\n",
      "max number of clicks per session:41\n"
     ]
    }
   ],
   "source": [
    "train_clicks = simulate_clicks(data,'train', click_count = 10000)\n",
    "\n",
    "assert isinstance(train_clicks, list)\n",
    "session_clicks = np.array(list(map(len, train_clicks)))\n",
    "print(f'{session_clicks.sum()} clicks simulated over {session_clicks.shape[0]} queries.')\n",
    "print(f'On average, each session has {session_clicks.mean()} clicks.')\n",
    "print(f'min number of clicks per session:{session_clicks.min()}')\n",
    "print(f'max number of clicks per session:{session_clicks.max()}')\n",
    "\n"
   ]
  },
  {
   "cell_type": "markdown",
   "metadata": {
    "deletable": false,
    "editable": false,
    "nbgrader": {
     "cell_type": "markdown",
     "checksum": "87c03dbedf499cbb4ce724f2e97dc8aa",
     "grade": false,
     "grade_id": "cell-f6996aa4808d7747",
     "locked": true,
     "schema_version": 3,
     "solution": false,
     "task": false
    }
   },
   "source": [
    "For our new click data, we need a new dataloader.\n",
    "`QueryGroupedOnlineLTRData` provides what you will need for training an LTR model from the clicks:"
   ]
  },
  {
   "cell_type": "code",
   "execution_count": 56,
   "metadata": {
    "deletable": false,
    "editable": false,
    "nbgrader": {
     "cell_type": "code",
     "checksum": "da61ee98e6094a5bf41deff34136be4e",
     "grade": false,
     "grade_id": "cell-036f66cea8bae0bd",
     "locked": true,
     "schema_version": 3,
     "solution": false,
     "task": false
    }
   },
   "outputs": [],
   "source": [
    "class QueryGroupedOnlineLTRData(Dataset):\n",
    "    def __init__(self, data, split, clicks, topk):\n",
    "        self.split = {\n",
    "            \"train\": data.train,\n",
    "            \"validation\": data.validation,\n",
    "            \"test\": data.test\n",
    "        }.get(split)\n",
    "        assert self.split is not None, \"Invalid split!\"\n",
    "        self.clicks = clicks\n",
    "        self.topk = topk\n",
    "    \n",
    "    def __len__(self):\n",
    "        return self.split.num_queries()\n",
    "\n",
    "    def __getitem__(self, q_i):\n",
    "        s_i = self.split.doclist_ranges[q_i]\n",
    "        e_i = self.split.doclist_ranges[q_i + 1]\n",
    "        feature_ = self.split.feature_matrix[s_i:e_i,:]\n",
    "        ranking = self.split.ranks[s_i:e_i]\n",
    "        inverse_ranking = np.argsort(ranking)\n",
    "#       We re-order the rows of feature matrix so that in coincides with the ranking of documents.\n",
    "#       We also cut the documents after rank topk.\n",
    "        feature = torch.FloatTensor(feature_[inverse_ranking[:self.topk],:])\n",
    "        clicks = self.clicks[q_i]\n",
    "        return q_i, feature, clicks\n",
    "    \n",
    "def qgo_collate_fn(batch):\n",
    "    \n",
    "    qids = []\n",
    "    features = []\n",
    "    clicks = []\n",
    "    \n",
    "    for (q, f, l) in batch:\n",
    "        qids.append(q)\n",
    "        features.append(f)\n",
    "        clicks.append(l)\n",
    "    return qids, features, clicks\n",
    "    "
   ]
  },
  {
   "cell_type": "markdown",
   "metadata": {
    "deletable": false,
    "editable": false,
    "nbgrader": {
     "cell_type": "markdown",
     "checksum": "33284e30370a8dfdd116267499660b27",
     "grade": false,
     "grade_id": "cell-3ff364596e375e19",
     "locked": true,
     "schema_version": 3,
     "solution": false,
     "task": false
    }
   },
   "source": [
    "## Section 2: Counterfactual LTR (90 points) <a class=\"anchor\" id=\"cLTR\"></a>\n",
    "\n",
    "[Back to TOC](#top)\n",
    "\n",
    "Now we want to use the simulated clicks and train a counterfactual LTR algorithm.\n",
    "We will use a simple loss function:\n",
    "\n",
    "$$\n",
    "L=\\frac{1}{|Q|} \\sum_{q \\in Q} \\sum_{d \\in D_q} r(d, q) \\cdot \\lambda(\\bar{rank}(d, D_q))\n",
    "$$\n",
    "where $Q$ is the set of queries, $D_q$ is the list of documents shown to the user for query $q$, $r(d, q)$ is the relevance of document $d$ to query $q$ and $rank(d, D_q)$ is the rank of $d$ in $D_q$.\n",
    "\n",
    "In this assignment, we use sigmoid-like bound for $\\lambda(\\bar{rank}(d, D_q))$:\n",
    "\n",
    "$$\n",
    "\\lambda(\\bar{rank}(d, D_q)) = \\sum_{d' \\in D_q} log\\left(\n",
    "1+exp\\left(-2\\cdot(f(d)-f(d')\\right)\n",
    "\\right)\n",
    "$$\n"
   ]
  },
  {
   "cell_type": "markdown",
   "metadata": {
    "deletable": false,
    "editable": false,
    "nbgrader": {
     "cell_type": "markdown",
     "checksum": "a52232af5a6b442146258942ced99353",
     "grade": false,
     "grade_id": "cell-5d364d940f11536e",
     "locked": true,
     "schema_version": 3,
     "solution": false,
     "task": false
    }
   },
   "source": [
    "### Section 2.1. Biased LTR (20 points)\n",
    "\n",
    "Remember that we do not have the explicit relevance in the online settings.\n",
    "Instead, we have to learn from the clicks.\n",
    "Clicks, implicitly indicate relevance.\n",
    "A naive approach for learning from clicks would be to replace relevance with clicks and train a model with the loss function:\n",
    "\n",
    "$$\n",
    "L_{biased}=\\frac{1}{|Q|} \\sum_{q \\in Q} \\sum_{d \\in D_q} c(d, q) \\cdot \\lambda(\\bar{rank}(d, D_q))\n",
    "$$\n",
    "where $c(d, q)$ indicates the number of times $d$ was clicked for query $q$."
   ]
  },
  {
   "cell_type": "code",
   "execution_count": 57,
   "metadata": {
    "deletable": false,
    "nbgrader": {
     "cell_type": "code",
     "checksum": "defc1880152e68dd36c21992263f8d56",
     "grade": false,
     "grade_id": "cell-6b45762861989c96",
     "locked": false,
     "schema_version": 3,
     "solution": true,
     "task": false
    }
   },
   "outputs": [],
   "source": [
    "# TODO: Implement this! (20 points)\n",
    "def online_loss_biased(scores, clicks):\n",
    "    \"\"\"\n",
    "    Compute and return the biased online loss *for a single query*. To compute this, use L_{biased} formula above.\n",
    "    \n",
    "    scores: tensor of size [N, 1] (the output of a neural network), where N = length of <query, document> pairs\n",
    "    clicks: list of clicked ranks. \n",
    "    \n",
    "    Note: the scores are aligned with the click positions, i.e. scores[0] corresponds to the 0 rand, etc.\n",
    "    \n",
    "    \"\"\"\n",
    "    from collections import Counter\n",
    "    click_counts = Counter(clicks)\n",
    "    \n",
    "    # YOUR CODE HERE\n",
    "    clicks_vector = np.bincount(clicks, minlength = len(scores))\n",
    "    scores = scores.squeeze(1)\n",
    "#     sorted_clicks = sorted(click_counts.items(), key=lambda pair: pair[0], reverse=False)\n",
    "#     clicks_vector = [click[1] for click in sorted_clicks]\n",
    "    score_matrix = scores[:,None]-scores[None,:]\n",
    "    lambda_sigmoid = torch.sum(torch.log(1 + torch.exp(-2*score_matrix)), 1)\n",
    "    loss = torch.sum(torch.FloatTensor(clicks_vector) * lambda_sigmoid)\n",
    "    return loss "
   ]
  },
  {
   "cell_type": "code",
   "execution_count": 58,
   "metadata": {
    "deletable": false,
    "editable": false,
    "nbgrader": {
     "cell_type": "code",
     "checksum": "dd1acc24a7415fcae69fa183a51afb28",
     "grade": true,
     "grade_id": "cell-d09e7eb339052376",
     "locked": true,
     "points": 20,
     "schema_version": 3,
     "solution": false,
     "task": false
    }
   },
   "outputs": [
    {
     "name": "stdout",
     "output_type": "stream",
     "text": [
      "biased loss: 139.16244506835938\n",
      "expected: 139.16246032714844\n"
     ]
    }
   ],
   "source": [
    "scores = torch.FloatTensor([1.2, -2, 1.1, 2.4, 0, 1.2])[:,None]\n",
    "clicks = [0, 0, 1, 3, 1, 4, 0, 5, 0, 1, 2]\n",
    "print(f'biased loss: {online_loss_biased(scores, clicks)}')\n",
    "print(f'expected: 139.16246032714844')\n",
    "\n"
   ]
  },
  {
   "cell_type": "markdown",
   "metadata": {
    "deletable": false,
    "editable": false,
    "nbgrader": {
     "cell_type": "markdown",
     "checksum": "48efe214b4ffd699be8ebbbf0016b467",
     "grade": false,
     "grade_id": "cell-318d7a3b824c5f99",
     "locked": true,
     "schema_version": 3,
     "solution": false,
     "task": false
    }
   },
   "source": [
    "### Section 2.2. Unbiased LTR (10 points)\n",
    "Now modify `online_loss_biased` to debias the clicks, using IPS method:\n",
    "\n",
    "$$\n",
    "L_{unbiased}=\\frac{1}{|Q|} \\sum_{q \\in Q} \\sum_{d \\in D_q} \\frac{c(d, q)}{P\\left(o(d,q)=1\\right)} \\cdot \\lambda(\\bar{rank}(d, D_q))\n",
    "$$\n",
    "where $P\\left(o(d,q)=1\\right)$ indicates the probability that $d$ was observed by the user for query $q$."
   ]
  },
  {
   "cell_type": "code",
   "execution_count": 59,
   "metadata": {
    "deletable": false,
    "nbgrader": {
     "cell_type": "code",
     "checksum": "6e0238d2d1cabe1a3d21b0cc44a54d61",
     "grade": false,
     "grade_id": "cell-9362e909abcb1d91",
     "locked": false,
     "schema_version": 3,
     "solution": true,
     "task": false
    }
   },
   "outputs": [],
   "source": [
    "# TODO: Implement this! (10 points)\n",
    "def online_loss_unbiased(scores, clicks):\n",
    "    \"\"\"\n",
    "    Compute and return the unbiased online loss *for a single query*. To compute this, use L_{unbiased} formula above.\n",
    "    \n",
    "    scores: tensor of size [N, 1] (the output of a neural network), where N = length of <query, document> pairs\n",
    "    clicks: list of clicked ranks. \n",
    "    \n",
    "    Note 1: the scores are aligned with the click positions, i.e. scores[0] corresponds to the 0 rand, etc.\n",
    "    Note 2: the weights are provided.\n",
    "    \n",
    "    \"\"\"\n",
    "    \n",
    "    from collections import Counter\n",
    "    click_counts = Counter(clicks)\n",
    "    weights = torch.Tensor((1./np.arange(1,scores.shape[0]+1))[:,None])\n",
    "    \n",
    "    # YOUR CODE HERE\n",
    "    scores = scores.squeeze(1)\n",
    "    weights = weights.squeeze(1)\n",
    "#     sorted_clicks = sorted(click_counts.items(), key=lambda pair: pair[0], reverse=False)\n",
    "#     clicks_vector = [click[1] for click in sorted_clicks]\n",
    "    clicks_vector = np.bincount(clicks, minlength = len(scores))  # counts occurence of clicks for each document. Count is 0 if there is no click\n",
    "    score_matrix = scores[:,None]-scores[None,:]\n",
    "    lambda_sigmoid = torch.sum(torch.log(1 + torch.exp(-2*score_matrix)), 1)\n",
    "    loss = torch.sum(torch.tensor(clicks_vector) / weights * lambda_sigmoid)\n",
    "    return loss"
   ]
  },
  {
   "cell_type": "code",
   "execution_count": 60,
   "metadata": {
    "deletable": false,
    "editable": false,
    "nbgrader": {
     "cell_type": "code",
     "checksum": "e2bcac0a6c4afe70fca335c8d648122f",
     "grade": true,
     "grade_id": "cell-30b468279fbb6de5",
     "locked": true,
     "points": 10,
     "schema_version": 3,
     "solution": false,
     "task": false
    }
   },
   "outputs": [
    {
     "name": "stdout",
     "output_type": "stream",
     "text": [
      "unbiased loss: 323.6814270019531\n",
      "expected: 323.68145751953125\n"
     ]
    }
   ],
   "source": [
    "scores = torch.FloatTensor([1.2, -2, 1.1, 2.4, 0, 1.2])[:,None]\n",
    "clicks = [0, 0, 1, 3, 1, 4, 0, 5, 0, 1, 2]\n",
    "print(f'unbiased loss: {online_loss_unbiased(scores, clicks)}')\n",
    "print(f'expected: 323.68145751953125')\n"
   ]
  },
  {
   "cell_type": "markdown",
   "metadata": {
    "deletable": false,
    "editable": false,
    "nbgrader": {
     "cell_type": "markdown",
     "checksum": "f4f49c8953f6080ec340ebe076f9caf6",
     "grade": false,
     "grade_id": "cell-e385419532bb6535",
     "locked": true,
     "schema_version": 3,
     "solution": false,
     "task": false
    }
   },
   "source": [
    "**Implementation (60 points):**\n",
    "In the next cell, write a wrapper that uses your loss functions and simulated clicks to train an online LTR method (no evaluation on validation set is required):\n",
    "\n",
    "**Rubric:**\n",
    " - Network is trained for specified epochs, and iterates over the entire dataset and (train) data is shuffled : 10 points\n",
    " - Loss calculation: 10 points\n",
    " - Training (e.g optimizer, zero_grad, backward): 10 points\n",
    " - Performance as expected for biased loss: 15 points\n",
    " - Performance as expected for unbiased loss: 15 points"
   ]
  },
  {
   "cell_type": "code",
   "execution_count": 74,
   "metadata": {
    "deletable": false,
    "nbgrader": {
     "cell_type": "code",
     "checksum": "1113e39b6c82d64e959436f049df22ac",
     "grade": false,
     "grade_id": "cell-155a60a13f0dabb3",
     "locked": false,
     "schema_version": 3,
     "solution": true,
     "task": false
    }
   },
   "outputs": [
    {
     "data": {
      "application/vnd.jupyter.widget-view+json": {
       "model_id": "1f764326c5c54a85b355d4d72e523e84",
       "version_major": 2,
       "version_minor": 0
      },
      "text/plain": [
       "  0%|          | 0/2735 [00:00<?, ?it/s]"
      ]
     },
     "metadata": {},
     "output_type": "display_data"
    },
    {
     "data": {
      "application/vnd.jupyter.widget-view+json": {
       "model_id": "",
       "version_major": 2,
       "version_minor": 0
      },
      "text/plain": [
       "Eval (train):   0%|          | 0/333 [00:00<?, ?it/s]"
      ]
     },
     "metadata": {},
     "output_type": "display_data"
    },
    {
     "name": "stdout",
     "output_type": "stream",
     "text": [
      "train:  {'recall@05': (0.007525781891708383, 0.025469977915307345)}\n"
     ]
    },
    {
     "data": {
      "application/vnd.jupyter.widget-view+json": {
       "model_id": "b9a54f87703c492eb06fa29a5ba0962d",
       "version_major": 2,
       "version_minor": 0
      },
      "text/plain": [
       "  0%|          | 0/2735 [00:00<?, ?it/s]"
      ]
     },
     "metadata": {},
     "output_type": "display_data"
    },
    {
     "data": {
      "application/vnd.jupyter.widget-view+json": {
       "model_id": "",
       "version_major": 2,
       "version_minor": 0
      },
      "text/plain": [
       "Eval (train):   0%|          | 0/333 [00:00<?, ?it/s]"
      ]
     },
     "metadata": {},
     "output_type": "display_data"
    },
    {
     "name": "stdout",
     "output_type": "stream",
     "text": [
      "train:  {'ndcg': (0.6374508741937033, 0.05230611133724721)}\n"
     ]
    },
    {
     "data": {
      "application/vnd.jupyter.widget-view+json": {
       "model_id": "831aa878318e478eb7ca922c65b4e625",
       "version_major": 2,
       "version_minor": 0
      },
      "text/plain": [
       "  0%|          | 0/2735 [00:00<?, ?it/s]"
      ]
     },
     "metadata": {},
     "output_type": "display_data"
    },
    {
     "data": {
      "application/vnd.jupyter.widget-view+json": {
       "model_id": "",
       "version_major": 2,
       "version_minor": 0
      },
      "text/plain": [
       "Eval (train):   0%|          | 0/333 [00:00<?, ?it/s]"
      ]
     },
     "metadata": {},
     "output_type": "display_data"
    },
    {
     "name": "stdout",
     "output_type": "stream",
     "text": [
      "train:  {'precision@05': (0.03423423423423424, 0.08987361378983731)}\n"
     ]
    },
    {
     "data": {
      "text/plain": [
       "{'metrics_train': [{'recall@05': (0.007525781891708383, 0.025469977915307345)},\n",
       "  {'ndcg': (0.6374508741937033, 0.05230611133724721)},\n",
       "  {'precision@05': (0.03423423423423424, 0.08987361378983731)},\n",
       "  {'recall@05': (0.01953662415716626, 0.03567575075288703)},\n",
       "  {'ndcg': (0.6817393892571247, 0.057855669051157944)},\n",
       "  {'precision@05': (0.08768768768768768, 0.14785269350788338)},\n",
       "  {'recall@05': (0.014462131011083604, 0.03119885402288526)},\n",
       "  {'ndcg': (0.6658738952970196, 0.05818611834749563)},\n",
       "  {'precision@05': (0.06906906906906907, 0.13301100014808787)}]}"
      ]
     },
     "execution_count": 74,
     "metadata": {},
     "output_type": "execute_result"
    }
   ],
   "source": [
    "# TODO: Implement this! (60 points)\n",
    "def train_online(net, train_clicks, loss_fn, params):\n",
    "    \"\"\"\n",
    "    Use QueryGroupedOnlineLTRData to load the data train split and clicks.\n",
    "    Use the appropriate loss_fn (biased/unbiased).\n",
    "    No need to use validation set.\n",
    "    \"\"\"\n",
    "    # YOUR CODE HERE\n",
    "    ## Rubric:\n",
    "        # Network is trained for specified epochs, and iterates over the entire dataset and (train) data is shuffled : 10 points\n",
    "        # Loss calculation: 10 points\n",
    "        # Training (e.g optimizer, zero_grad, backward): 10 points\n",
    "        # Performance as expected for biased loss: 15 points\n",
    "        # Performance as expected for unbiased loss: 15 points\n",
    "     \n",
    "    train_metrics_epoch = []   \n",
    "    \n",
    "    # Define parameters\n",
    "    epochs = params.epochs\n",
    "    learning_rate = params.lr\n",
    "    batch_size = 1\n",
    "    topk = params.topk\n",
    "    \n",
    "    # Specify prediction function\n",
    "    loss_function = loss_fn\n",
    "    pred_fn = net\n",
    "    \n",
    "    # Define Adam optimizer\n",
    "    optimizer = Adam(net.parameters(), lr=learning_rate)\n",
    "    \n",
    "    # Create train & validation data:\n",
    "    train_dl = DataLoader(QueryGroupedOnlineLTRData(data, \"train\", train_clicks, topk), batch_size=batch_size, shuffle=True, collate_fn=qg_collate_fn)\n",
    "    \n",
    "    # Training loop\n",
    "    for epoch in range(epochs):\n",
    "        net.zero_grad()\n",
    "        loss = 0\n",
    "        for (query_ids, features, clicks) in tqdm(train_dl): # loop over 2735 different queries\n",
    "            if clicks != [[]]:\n",
    "                out = torch.FloatTensor()\n",
    "                for query, x, c in zip(query_ids, features, clicks): # run over all documents for a specific query\n",
    "                    out = torch.cat([out, net(x)]) # concatenates outputs of the network for each of the documents belonging to query q_i\n",
    "                loss += loss_function(out, clicks[0])\n",
    "        loss = loss/len(query_ids)\n",
    "        loss.backward()\n",
    "        optimizer.step()\n",
    "        \n",
    "        # EVALUATE\n",
    "        train_evaluation = evaluate_model(pred_fn, \"train\", print_results=False, q_level=True)  #def evaluate_model(pred_fn, split, batch_size=256, print_results=False, q_level=False):\n",
    " \n",
    "        # Save the appropriate evaluations\n",
    "        for m in params.metrics:\n",
    "            train_metrics_epoch.append({m : train_evaluation[0][m]})\n",
    "            \n",
    "        # print metrics    \n",
    "        print(\"train: \", train_metrics_epoch[epoch])\n",
    "    \n",
    "    return {\n",
    "        \"metrics_train\": train_metrics_epoch\n",
    "    }\n",
    "\n",
    "params = Namespace(epochs=3, lr=1e-3, topk=20, metrics = {\"ndcg\", \"precision@05\", \"recall@05\"})\n",
    "biased_net = NeuralModule(1)\n",
    "train_online(biased_net, train_clicks, online_loss_unbiased, params)"
   ]
  },
  {
   "cell_type": "code",
   "execution_count": 62,
   "metadata": {
    "deletable": false,
    "editable": false,
    "nbgrader": {
     "cell_type": "code",
     "checksum": "688a802dd604c3f002a9c5b26822b42d",
     "grade": false,
     "grade_id": "cell-2899cebacae54c00",
     "locked": true,
     "schema_version": 3,
     "solution": false,
     "task": false
    }
   },
   "outputs": [
    {
     "data": {
      "application/vnd.jupyter.widget-view+json": {
       "model_id": "91b7b4fa5a624db0911368800e7a639d",
       "version_major": 2,
       "version_minor": 0
      },
      "text/plain": [
       "  0%|          | 0/2735 [00:00<?, ?it/s]"
      ]
     },
     "metadata": {},
     "output_type": "display_data"
    },
    {
     "data": {
      "application/vnd.jupyter.widget-view+json": {
       "model_id": "",
       "version_major": 2,
       "version_minor": 0
      },
      "text/plain": [
       "Eval (train):   0%|          | 0/333 [00:00<?, ?it/s]"
      ]
     },
     "metadata": {},
     "output_type": "display_data"
    },
    {
     "name": "stdout",
     "output_type": "stream",
     "text": [
      "\"metric\": \"mean\" (\"standard deviation\")\n",
      "dcg: 77.4137 (19.03970)\n",
      "dcg@03: 2.5755 (2.64852)\n",
      "dcg@05: 3.6313 (3.11134)\n",
      "dcg@10: 5.7371 (4.07138)\n",
      "dcg@20: 8.8868 (5.14844)\n",
      "ndcg: 0.6242 (0.05516)\n",
      "ndcg@03: 0.0937 (0.09777)\n",
      "ndcg@05: 0.1005 (0.08747)\n",
      "ndcg@10: 0.1158 (0.08229)\n",
      "ndcg@20: 0.1363 (0.07795)\n",
      "precision@01: 0.0300 (0.17067)\n",
      "precision@03: 0.0380 (0.12070)\n",
      "precision@05: 0.0414 (0.10087)\n",
      "precision@10: 0.0423 (0.07697)\n",
      "precision@20: 0.0411 (0.05565)\n",
      "recall@01: 0.0016 (0.01043)\n",
      "recall@03: 0.0051 (0.01758)\n",
      "recall@05: 0.0086 (0.02163)\n",
      "recall@10: 0.0186 (0.03813)\n",
      "recall@20: 0.0357 (0.05095)\n",
      "relevant rank: 169.9355 (71.33223)\n",
      "relevant rank per query: 4037.1171 (1902.21146)\n",
      "train:  {'recall@05': (0.008624627968437873, 0.021633715285715806)}\n"
     ]
    },
    {
     "data": {
      "application/vnd.jupyter.widget-view+json": {
       "model_id": "d9cc71932d054d4d94cd6ce77d8875c9",
       "version_major": 2,
       "version_minor": 0
      },
      "text/plain": [
       "  0%|          | 0/2735 [00:00<?, ?it/s]"
      ]
     },
     "metadata": {},
     "output_type": "display_data"
    },
    {
     "data": {
      "application/vnd.jupyter.widget-view+json": {
       "model_id": "",
       "version_major": 2,
       "version_minor": 0
      },
      "text/plain": [
       "Eval (train):   0%|          | 0/333 [00:00<?, ?it/s]"
      ]
     },
     "metadata": {},
     "output_type": "display_data"
    },
    {
     "name": "stdout",
     "output_type": "stream",
     "text": [
      "\"metric\": \"mean\" (\"standard deviation\")\n",
      "dcg: 83.2026 (19.78095)\n",
      "dcg@03: 4.7160 (3.73477)\n",
      "dcg@05: 6.5531 (4.45546)\n",
      "dcg@10: 9.9565 (5.31349)\n",
      "dcg@20: 14.9761 (6.59599)\n",
      "ndcg: 0.6719 (0.05918)\n",
      "ndcg@03: 0.1755 (0.14646)\n",
      "ndcg@05: 0.1844 (0.13161)\n",
      "ndcg@10: 0.2036 (0.11233)\n",
      "ndcg@20: 0.2305 (0.10057)\n",
      "precision@01: 0.1021 (0.30278)\n",
      "precision@03: 0.1041 (0.19116)\n",
      "precision@05: 0.1063 (0.16216)\n",
      "precision@10: 0.1024 (0.11878)\n",
      "precision@20: 0.0952 (0.09320)\n",
      "recall@01: 0.0043 (0.01432)\n",
      "recall@03: 0.0135 (0.02868)\n",
      "recall@05: 0.0230 (0.03935)\n",
      "recall@10: 0.0423 (0.05157)\n",
      "recall@20: 0.0779 (0.07354)\n",
      "relevant rank: 139.0204 (78.44158)\n",
      "relevant rank per query: 3302.6727 (1736.56684)\n",
      "train:  {'ndcg': (0.624160759051723, 0.05515534500111091)}\n"
     ]
    },
    {
     "data": {
      "application/vnd.jupyter.widget-view+json": {
       "model_id": "54735c874aad49e8aeb9e23882a91a02",
       "version_major": 2,
       "version_minor": 0
      },
      "text/plain": [
       "  0%|          | 0/2735 [00:00<?, ?it/s]"
      ]
     },
     "metadata": {},
     "output_type": "display_data"
    },
    {
     "data": {
      "application/vnd.jupyter.widget-view+json": {
       "model_id": "",
       "version_major": 2,
       "version_minor": 0
      },
      "text/plain": [
       "Eval (train):   0%|          | 0/333 [00:00<?, ?it/s]"
      ]
     },
     "metadata": {},
     "output_type": "display_data"
    },
    {
     "name": "stdout",
     "output_type": "stream",
     "text": [
      "\"metric\": \"mean\" (\"standard deviation\")\n",
      "dcg: 82.0301 (19.53649)\n",
      "dcg@03: 4.2291 (3.15039)\n",
      "dcg@05: 5.8701 (3.78957)\n",
      "dcg@10: 9.1485 (4.86790)\n",
      "dcg@20: 13.8696 (5.98281)\n",
      "ndcg: 0.6623 (0.05686)\n",
      "ndcg@03: 0.1577 (0.12881)\n",
      "ndcg@05: 0.1650 (0.11337)\n",
      "ndcg@10: 0.1867 (0.10348)\n",
      "ndcg@20: 0.2138 (0.09222)\n",
      "precision@01: 0.0661 (0.24840)\n",
      "precision@03: 0.0851 (0.18019)\n",
      "precision@05: 0.0799 (0.14201)\n",
      "precision@10: 0.0859 (0.10992)\n",
      "precision@20: 0.0826 (0.08372)\n",
      "recall@01: 0.0025 (0.01023)\n",
      "recall@03: 0.0107 (0.02501)\n",
      "recall@05: 0.0165 (0.03243)\n",
      "recall@10: 0.0357 (0.04879)\n",
      "recall@20: 0.0682 (0.06699)\n",
      "relevant rank: 145.4767 (77.17665)\n",
      "relevant rank per query: 3456.0541 (1762.58032)\n",
      "train:  {'precision@05': (0.04144144144144145, 0.10086872073714165)}\n"
     ]
    },
    {
     "data": {
      "application/vnd.jupyter.widget-view+json": {
       "model_id": "6501963211c546d183d97c3a9ecb9103",
       "version_major": 2,
       "version_minor": 0
      },
      "text/plain": [
       "  0%|          | 0/2735 [00:00<?, ?it/s]"
      ]
     },
     "metadata": {},
     "output_type": "display_data"
    },
    {
     "data": {
      "application/vnd.jupyter.widget-view+json": {
       "model_id": "",
       "version_major": 2,
       "version_minor": 0
      },
      "text/plain": [
       "Eval (train):   0%|          | 0/333 [00:00<?, ?it/s]"
      ]
     },
     "metadata": {},
     "output_type": "display_data"
    },
    {
     "name": "stdout",
     "output_type": "stream",
     "text": [
      "\"metric\": \"mean\" (\"standard deviation\")\n",
      "dcg: 83.1539 (20.26273)\n",
      "dcg@03: 4.6094 (3.69494)\n",
      "dcg@05: 6.4026 (4.34157)\n",
      "dcg@10: 9.5387 (5.25409)\n",
      "dcg@20: 14.8037 (6.83119)\n",
      "ndcg: 0.6704 (0.05615)\n",
      "ndcg@03: 0.1682 (0.13449)\n",
      "ndcg@05: 0.1777 (0.12181)\n",
      "ndcg@10: 0.1932 (0.10499)\n",
      "ndcg@20: 0.2256 (0.09837)\n",
      "precision@01: 0.0961 (0.29472)\n",
      "precision@03: 0.0961 (0.18296)\n",
      "precision@05: 0.1015 (0.15470)\n",
      "precision@10: 0.0964 (0.11619)\n",
      "precision@20: 0.1008 (0.09328)\n",
      "recall@01: 0.0039 (0.01340)\n",
      "recall@03: 0.0117 (0.02500)\n",
      "recall@05: 0.0203 (0.03366)\n",
      "recall@10: 0.0393 (0.04969)\n",
      "recall@20: 0.0850 (0.07473)\n",
      "relevant rank: 135.1948 (76.82014)\n",
      "relevant rank per query: 3211.7898 (1609.54333)\n",
      "train:  {'recall@05': (0.020319678420341793, 0.033661567010514225)}\n"
     ]
    },
    {
     "data": {
      "application/vnd.jupyter.widget-view+json": {
       "model_id": "6cd12ce3442a48f2a5a7f2a84cf4df49",
       "version_major": 2,
       "version_minor": 0
      },
      "text/plain": [
       "  0%|          | 0/2735 [00:00<?, ?it/s]"
      ]
     },
     "metadata": {},
     "output_type": "display_data"
    },
    {
     "data": {
      "application/vnd.jupyter.widget-view+json": {
       "model_id": "",
       "version_major": 2,
       "version_minor": 0
      },
      "text/plain": [
       "Eval (train):   0%|          | 0/333 [00:00<?, ?it/s]"
      ]
     },
     "metadata": {},
     "output_type": "display_data"
    },
    {
     "name": "stdout",
     "output_type": "stream",
     "text": [
      "\"metric\": \"mean\" (\"standard deviation\")\n",
      "dcg: 81.1993 (19.05988)\n",
      "dcg@03: 3.9568 (2.96311)\n",
      "dcg@05: 5.5010 (3.63108)\n",
      "dcg@10: 8.4454 (4.64206)\n",
      "dcg@20: 13.1252 (6.09859)\n",
      "ndcg: 0.6565 (0.06080)\n",
      "ndcg@03: 0.1493 (0.12522)\n",
      "ndcg@05: 0.1573 (0.11658)\n",
      "ndcg@10: 0.1753 (0.10657)\n",
      "ndcg@20: 0.2051 (0.10253)\n",
      "precision@01: 0.0661 (0.24840)\n",
      "precision@03: 0.0661 (0.16020)\n",
      "precision@05: 0.0673 (0.13167)\n",
      "precision@10: 0.0649 (0.10192)\n",
      "precision@20: 0.0680 (0.08196)\n",
      "recall@01: 0.0027 (0.01121)\n",
      "recall@03: 0.0079 (0.01923)\n",
      "recall@05: 0.0136 (0.02748)\n",
      "recall@10: 0.0268 (0.04222)\n",
      "recall@20: 0.0572 (0.06945)\n",
      "relevant rank: 159.2151 (78.17538)\n",
      "relevant rank per query: 3782.4354 (1893.35398)\n",
      "train:  {'ndcg': (0.6704386257205822, 0.05615175532747719)}\n"
     ]
    },
    {
     "data": {
      "application/vnd.jupyter.widget-view+json": {
       "model_id": "a69ebef169854667a3aac05a5eae7f7f",
       "version_major": 2,
       "version_minor": 0
      },
      "text/plain": [
       "  0%|          | 0/2735 [00:00<?, ?it/s]"
      ]
     },
     "metadata": {},
     "output_type": "display_data"
    },
    {
     "data": {
      "application/vnd.jupyter.widget-view+json": {
       "model_id": "",
       "version_major": 2,
       "version_minor": 0
      },
      "text/plain": [
       "Eval (train):   0%|          | 0/333 [00:00<?, ?it/s]"
      ]
     },
     "metadata": {},
     "output_type": "display_data"
    },
    {
     "name": "stdout",
     "output_type": "stream",
     "text": [
      "\"metric\": \"mean\" (\"standard deviation\")\n",
      "dcg: 81.0736 (19.23155)\n",
      "dcg@03: 3.8402 (3.19333)\n",
      "dcg@05: 5.2946 (3.81132)\n",
      "dcg@10: 8.2146 (4.71775)\n",
      "dcg@20: 12.6841 (6.12137)\n",
      "ndcg: 0.6550 (0.05963)\n",
      "ndcg@03: 0.1437 (0.12904)\n",
      "ndcg@05: 0.1498 (0.11610)\n",
      "ndcg@10: 0.1692 (0.10388)\n",
      "ndcg@20: 0.1970 (0.09857)\n",
      "precision@01: 0.0661 (0.24840)\n",
      "precision@03: 0.0661 (0.15811)\n",
      "precision@05: 0.0655 (0.13029)\n",
      "precision@10: 0.0679 (0.09564)\n",
      "precision@20: 0.0692 (0.07763)\n",
      "recall@01: 0.0030 (0.01226)\n",
      "recall@03: 0.0091 (0.02409)\n",
      "recall@05: 0.0139 (0.02938)\n",
      "recall@10: 0.0284 (0.04334)\n",
      "recall@20: 0.0587 (0.06765)\n",
      "relevant rank: 152.8550 (76.76145)\n",
      "relevant rank per query: 3631.3393 (1870.90356)\n",
      "train:  {'precision@05': (0.10150150150150149, 0.15469867299745954)}\n"
     ]
    },
    {
     "data": {
      "text/plain": [
       "{'metrics_train': [{'recall@05': (0.020319678420341793, 0.033661567010514225)},\n",
       "  {'ndcg': (0.6704386257205822, 0.05615175532747719)},\n",
       "  {'precision@05': (0.10150150150150149, 0.15469867299745954)},\n",
       "  {'recall@05': (0.01356898044695281, 0.02747584999466754)},\n",
       "  {'ndcg': (0.6565473267409379, 0.06080362940519243)},\n",
       "  {'precision@05': (0.06726726726726727, 0.13166995335404313)},\n",
       "  {'recall@05': (0.013915238648622475, 0.029382547796026254)},\n",
       "  {'ndcg': (0.6549617597993234, 0.05963216668499394)},\n",
       "  {'precision@05': (0.06546546546546547, 0.13029019185131016)}]}"
      ]
     },
     "execution_count": 62,
     "metadata": {},
     "output_type": "execute_result"
    }
   ],
   "source": [
    "params = Namespace(epochs=3, lr=1e-3, topk=20, metrics = {\"ndcg\", \"precision@05\", \"recall@05\"})\n",
    "train_clicks = simulate_clicks(data,'train', click_count = 50000)\n",
    "biased_net = NeuralModule(1)\n",
    "train_online(biased_net, train_clicks, online_loss_biased, params)\n",
    "unbiased_net = NeuralModule(1)\n",
    "train_online(unbiased_net, train_clicks, online_loss_unbiased, params)"
   ]
  },
  {
   "cell_type": "code",
   "execution_count": 63,
   "metadata": {
    "deletable": false,
    "editable": false,
    "nbgrader": {
     "cell_type": "code",
     "checksum": "6ff8105a6912656bef1bf2642a977fee",
     "grade": false,
     "grade_id": "cell-0511eb2be587f032",
     "locked": true,
     "schema_version": 3,
     "solution": false,
     "task": false
    }
   },
   "outputs": [
    {
     "data": {
      "application/vnd.jupyter.widget-view+json": {
       "model_id": "",
       "version_major": 2,
       "version_minor": 0
      },
      "text/plain": [
       "Eval (test):   0%|          | 0/117 [00:00<?, ?it/s]"
      ]
     },
     "metadata": {},
     "output_type": "display_data"
    },
    {
     "name": "stdout",
     "output_type": "stream",
     "text": [
      "\"metric\": \"mean\" (\"standard deviation\")\n",
      "dcg: 86.1705 (18.92465)\n",
      "dcg@03: 4.1361 (2.93055)\n",
      "dcg@05: 5.9874 (3.71548)\n",
      "dcg@10: 9.4702 (4.69528)\n",
      "dcg@20: 14.0432 (6.28329)\n",
      "ndcg: 0.6670 (0.05834)\n",
      "ndcg@03: 0.1521 (0.12674)\n",
      "ndcg@05: 0.1659 (0.11552)\n",
      "ndcg@10: 0.1924 (0.11091)\n",
      "ndcg@20: 0.2138 (0.10443)\n",
      "precision@01: 0.0684 (0.25239)\n",
      "precision@03: 0.0826 (0.17381)\n",
      "precision@05: 0.0940 (0.14924)\n",
      "precision@10: 0.1026 (0.12366)\n",
      "precision@20: 0.0850 (0.09702)\n",
      "recall@01: 0.0035 (0.01791)\n",
      "recall@03: 0.0127 (0.03828)\n",
      "recall@05: 0.0215 (0.05337)\n",
      "recall@10: 0.0430 (0.07446)\n",
      "recall@20: 0.0659 (0.08536)\n",
      "relevant rank: 145.6151 (76.43771)\n",
      "relevant rank per query: 3747.4103 (1668.11837)\n"
     ]
    },
    {
     "data": {
      "application/vnd.jupyter.widget-view+json": {
       "model_id": "",
       "version_major": 2,
       "version_minor": 0
      },
      "text/plain": [
       "Eval (test):   0%|          | 0/117 [00:00<?, ?it/s]"
      ]
     },
     "metadata": {},
     "output_type": "display_data"
    },
    {
     "name": "stdout",
     "output_type": "stream",
     "text": [
      "\"metric\": \"mean\" (\"standard deviation\")\n",
      "dcg: 85.0428 (18.64584)\n",
      "dcg@03: 3.5613 (2.61103)\n",
      "dcg@05: 5.0709 (3.07056)\n",
      "dcg@10: 8.0890 (4.02733)\n",
      "dcg@20: 12.8181 (5.46577)\n",
      "ndcg: 0.6579 (0.05265)\n",
      "ndcg@03: 0.1285 (0.09606)\n",
      "ndcg@05: 0.1390 (0.08809)\n",
      "ndcg@10: 0.1617 (0.08302)\n",
      "ndcg@20: 0.1934 (0.08349)\n",
      "precision@01: 0.0513 (0.22057)\n",
      "precision@03: 0.0427 (0.12735)\n",
      "precision@05: 0.0667 (0.11983)\n",
      "precision@10: 0.0744 (0.10224)\n",
      "precision@20: 0.0756 (0.08712)\n",
      "recall@01: 0.0017 (0.00763)\n",
      "recall@03: 0.0055 (0.01788)\n",
      "recall@05: 0.0150 (0.02846)\n",
      "recall@10: 0.0310 (0.04562)\n",
      "recall@20: 0.0600 (0.06879)\n",
      "relevant rank: 152.3627 (76.90872)\n",
      "relevant rank per query: 3921.0598 (1788.96471)\n"
     ]
    },
    {
     "data": {
      "text/plain": [
       "{'dcg': (85.04280175567163, 18.645837486185997),\n",
       " 'dcg@03': (3.5613210801892996, 2.611030943167903),\n",
       " 'dcg@05': (5.070851377255303, 3.0705612864307255),\n",
       " 'dcg@10': (8.088951821455574, 4.0273287539971525),\n",
       " 'dcg@20': (12.818101759596543, 5.465767198367218),\n",
       " 'ndcg': (0.6578582065567802, 0.052646921721711565),\n",
       " 'ndcg@03': (0.12850679808248217, 0.09606335351499405),\n",
       " 'ndcg@05': (0.13896652764253623, 0.08809145735729978),\n",
       " 'ndcg@10': (0.16165711411728487, 0.08301633011610215),\n",
       " 'ndcg@20': (0.19337081843326917, 0.08348883692059064),\n",
       " 'precision@01': (0.05128205128205128, 0.22057244274468277),\n",
       " 'precision@03': (0.042735042735042736, 0.1273475591944559),\n",
       " 'precision@05': (0.06666666666666667, 0.11982893790305564),\n",
       " 'precision@10': (0.07435897435897436, 0.10224308737116351),\n",
       " 'precision@20': (0.07564102564102564, 0.08712290773349747),\n",
       " 'recall@01': (0.0017399247506774387, 0.007631459510657035),\n",
       " 'recall@03': (0.005492524447151011, 0.01787527932638539),\n",
       " 'recall@05': (0.015010722659182407, 0.028457654526846732),\n",
       " 'recall@10': (0.030976002092033664, 0.045617610171964536),\n",
       " 'recall@20': (0.06001614139866235, 0.06878721970505293),\n",
       " 'relevant rank': (152.36267020923282, 76.90871538952305),\n",
       " 'relevant rank per query': (3921.059829059829, 1788.9647070068797)}"
      ]
     },
     "execution_count": 63,
     "metadata": {},
     "output_type": "execute_result"
    }
   ],
   "source": [
    "evaluate_model(biased_net, 'test', print_results=True)\n",
    "evaluate_model(unbiased_net, 'test', print_results=True)"
   ]
  },
  {
   "cell_type": "code",
   "execution_count": 64,
   "metadata": {
    "deletable": false,
    "editable": false,
    "nbgrader": {
     "cell_type": "code",
     "checksum": "3a5138ee2bdc3b5682d5ed8b7bcc1202",
     "grade": false,
     "grade_id": "cell-c497608f3d46e769",
     "locked": true,
     "schema_version": 3,
     "solution": false,
     "task": false
    }
   },
   "outputs": [
    {
     "name": "stdout",
     "output_type": "stream",
     "text": [
      "Training Model\n"
     ]
    },
    {
     "data": {
      "application/vnd.jupyter.widget-view+json": {
       "model_id": "27620075c343412cbc5a361b19fd1cd0",
       "version_major": 2,
       "version_minor": 0
      },
      "text/plain": [
       "  0%|          | 0/2735 [00:00<?, ?it/s]"
      ]
     },
     "metadata": {},
     "output_type": "display_data"
    },
    {
     "data": {
      "application/vnd.jupyter.widget-view+json": {
       "model_id": "",
       "version_major": 2,
       "version_minor": 0
      },
      "text/plain": [
       "Eval (train):   0%|          | 0/333 [00:00<?, ?it/s]"
      ]
     },
     "metadata": {},
     "output_type": "display_data"
    },
    {
     "name": "stdout",
     "output_type": "stream",
     "text": [
      "\"metric\": \"mean\" (\"standard deviation\")\n",
      "dcg: 75.1639 (18.83188)\n",
      "dcg@03: 1.7984 (2.11790)\n",
      "dcg@05: 2.4802 (2.53919)\n",
      "dcg@10: 3.8474 (3.30824)\n",
      "dcg@20: 5.9823 (4.26751)\n",
      "ndcg: 0.6054 (0.05225)\n",
      "ndcg@03: 0.0648 (0.07905)\n",
      "ndcg@05: 0.0678 (0.07236)\n",
      "ndcg@10: 0.0768 (0.06628)\n",
      "ndcg@20: 0.0907 (0.06305)\n",
      "precision@01: 0.0180 (0.13302)\n",
      "precision@03: 0.0270 (0.09805)\n",
      "precision@05: 0.0276 (0.07722)\n",
      "precision@10: 0.0261 (0.05909)\n",
      "precision@20: 0.0239 (0.04289)\n",
      "recall@01: 0.0006 (0.00486)\n",
      "recall@03: 0.0036 (0.02053)\n",
      "recall@05: 0.0059 (0.02299)\n",
      "recall@10: 0.0111 (0.02953)\n",
      "recall@20: 0.0199 (0.03974)\n",
      "relevant rank: 175.9072 (66.76121)\n",
      "relevant rank per query: 4178.9850 (1913.95203)\n",
      "train:  {'recall@05': (0.005897575837134915, 0.0229878083383142)}\n"
     ]
    },
    {
     "data": {
      "application/vnd.jupyter.widget-view+json": {
       "model_id": "16f31397c63a4c1486b6782271d8b880",
       "version_major": 2,
       "version_minor": 0
      },
      "text/plain": [
       "  0%|          | 0/2735 [00:00<?, ?it/s]"
      ]
     },
     "metadata": {},
     "output_type": "display_data"
    },
    {
     "data": {
      "application/vnd.jupyter.widget-view+json": {
       "model_id": "",
       "version_major": 2,
       "version_minor": 0
      },
      "text/plain": [
       "Eval (train):   0%|          | 0/333 [00:00<?, ?it/s]"
      ]
     },
     "metadata": {},
     "output_type": "display_data"
    },
    {
     "name": "stdout",
     "output_type": "stream",
     "text": [
      "\"metric\": \"mean\" (\"standard deviation\")\n",
      "dcg: 79.2239 (19.00699)\n",
      "dcg@03: 3.5920 (2.72883)\n",
      "dcg@05: 4.9567 (3.24635)\n",
      "dcg@10: 7.4470 (4.15143)\n",
      "dcg@20: 11.3342 (5.38014)\n",
      "ndcg: 0.6397 (0.05540)\n",
      "ndcg@03: 0.1323 (0.10373)\n",
      "ndcg@05: 0.1385 (0.09316)\n",
      "ndcg@10: 0.1524 (0.08825)\n",
      "ndcg@20: 0.1755 (0.08471)\n",
      "precision@01: 0.0420 (0.20069)\n",
      "precision@03: 0.0591 (0.14901)\n",
      "precision@05: 0.0619 (0.11760)\n",
      "precision@10: 0.0586 (0.08985)\n",
      "precision@20: 0.0557 (0.06908)\n",
      "recall@01: 0.0017 (0.00907)\n",
      "recall@03: 0.0070 (0.01865)\n",
      "recall@05: 0.0122 (0.02433)\n",
      "recall@10: 0.0254 (0.04324)\n",
      "recall@20: 0.0462 (0.06007)\n",
      "relevant rank: 165.6669 (74.44641)\n",
      "relevant rank per query: 3935.7087 (1913.78907)\n",
      "train:  {'ndcg': (0.6053764750449897, 0.052252471343892326)}\n"
     ]
    },
    {
     "data": {
      "application/vnd.jupyter.widget-view+json": {
       "model_id": "441a98d8eb434abc8db9ba3448fcdc15",
       "version_major": 2,
       "version_minor": 0
      },
      "text/plain": [
       "  0%|          | 0/2735 [00:00<?, ?it/s]"
      ]
     },
     "metadata": {},
     "output_type": "display_data"
    },
    {
     "data": {
      "application/vnd.jupyter.widget-view+json": {
       "model_id": "",
       "version_major": 2,
       "version_minor": 0
      },
      "text/plain": [
       "Eval (train):   0%|          | 0/333 [00:00<?, ?it/s]"
      ]
     },
     "metadata": {},
     "output_type": "display_data"
    },
    {
     "name": "stdout",
     "output_type": "stream",
     "text": [
      "\"metric\": \"mean\" (\"standard deviation\")\n",
      "dcg: 83.5063 (19.55943)\n",
      "dcg@03: 4.4064 (3.47786)\n",
      "dcg@05: 6.2722 (4.15690)\n",
      "dcg@10: 9.7370 (5.29123)\n",
      "dcg@20: 14.9525 (6.55555)\n",
      "ndcg: 0.6750 (0.05869)\n",
      "ndcg@03: 0.1641 (0.13326)\n",
      "ndcg@05: 0.1773 (0.12192)\n",
      "ndcg@10: 0.2002 (0.11254)\n",
      "ndcg@20: 0.2317 (0.10186)\n",
      "precision@01: 0.0721 (0.25861)\n",
      "precision@03: 0.0791 (0.16567)\n",
      "precision@05: 0.0931 (0.14739)\n",
      "precision@10: 0.0970 (0.11851)\n",
      "precision@20: 0.0935 (0.08960)\n",
      "recall@01: 0.0034 (0.01441)\n",
      "recall@03: 0.0100 (0.02248)\n",
      "recall@05: 0.0199 (0.03549)\n",
      "recall@10: 0.0399 (0.04970)\n",
      "recall@20: 0.0795 (0.07667)\n",
      "relevant rank: 136.1293 (78.63879)\n",
      "relevant rank per query: 3233.9910 (1766.71504)\n",
      "train:  {'precision@05': (0.027627627627627632, 0.0772233184886267)}\n"
     ]
    },
    {
     "data": {
      "application/vnd.jupyter.widget-view+json": {
       "model_id": "",
       "version_major": 2,
       "version_minor": 0
      },
      "text/plain": [
       "Eval (test):   0%|          | 0/117 [00:00<?, ?it/s]"
      ]
     },
     "metadata": {},
     "output_type": "display_data"
    },
    {
     "name": "stdout",
     "output_type": "stream",
     "text": [
      "\"metric\": \"mean\" (\"standard deviation\")\n",
      "dcg: 87.4528 (19.24598)\n",
      "dcg@03: 4.3489 (2.98202)\n",
      "dcg@05: 5.7778 (3.38351)\n",
      "dcg@10: 9.5469 (4.56914)\n",
      "dcg@20: 15.0963 (6.23518)\n",
      "ndcg: 0.6768 (0.05809)\n",
      "ndcg@03: 0.1602 (0.12567)\n",
      "ndcg@05: 0.1610 (0.10632)\n",
      "ndcg@10: 0.1931 (0.10484)\n",
      "ndcg@20: 0.2281 (0.09934)\n",
      "precision@01: 0.1026 (0.30339)\n",
      "precision@03: 0.0940 (0.17888)\n",
      "precision@05: 0.0769 (0.13034)\n",
      "precision@10: 0.0957 (0.12362)\n",
      "precision@20: 0.0974 (0.09737)\n",
      "recall@01: 0.0047 (0.01673)\n",
      "recall@03: 0.0130 (0.03260)\n",
      "recall@05: 0.0167 (0.03445)\n",
      "recall@10: 0.0380 (0.05276)\n",
      "recall@20: 0.0769 (0.08844)\n",
      "relevant rank: 137.3540 (78.25835)\n",
      "relevant rank per query: 3534.8120 (1620.87311)\n"
     ]
    }
   ],
   "source": [
    "seed(42)\n",
    "train_clicks = simulate_clicks(data,'train', click_count = 50000)\n",
    "params = Namespace(epochs=3, \n",
    "                    lr=1e-3,\n",
    "                    batch_size=1,\n",
    "                    topk=20,\n",
    "                    metrics={\"ndcg\", \"precision@05\", \"recall@05\"})\n",
    "biased_model = NeuralModule(1)\n",
    "\n",
    "create_results(biased_model, \n",
    "               train_online, \n",
    "               biased_model,\n",
    "               \"./biased_model.json\",\n",
    "               train_clicks,\n",
    "               online_loss_biased,\n",
    "               params)\n",
    "# persist model\n",
    "torch.save(biased_model.state_dict(), \"./biased_wt\")"
   ]
  },
  {
   "cell_type": "code",
   "execution_count": 65,
   "metadata": {
    "deletable": false,
    "editable": false,
    "nbgrader": {
     "cell_type": "code",
     "checksum": "d9b104b0cc6204f1f3c6ac9bbf88171f",
     "grade": false,
     "grade_id": "cell-9df7065c5b887449",
     "locked": true,
     "schema_version": 3,
     "solution": false,
     "task": false
    }
   },
   "outputs": [
    {
     "name": "stdout",
     "output_type": "stream",
     "text": [
      "Training Model\n"
     ]
    },
    {
     "data": {
      "application/vnd.jupyter.widget-view+json": {
       "model_id": "fa8e8345ce9d4fed888511d62acb24d5",
       "version_major": 2,
       "version_minor": 0
      },
      "text/plain": [
       "  0%|          | 0/2735 [00:00<?, ?it/s]"
      ]
     },
     "metadata": {},
     "output_type": "display_data"
    },
    {
     "data": {
      "application/vnd.jupyter.widget-view+json": {
       "model_id": "",
       "version_major": 2,
       "version_minor": 0
      },
      "text/plain": [
       "Eval (train):   0%|          | 0/333 [00:00<?, ?it/s]"
      ]
     },
     "metadata": {},
     "output_type": "display_data"
    },
    {
     "name": "stdout",
     "output_type": "stream",
     "text": [
      "\"metric\": \"mean\" (\"standard deviation\")\n",
      "dcg: 76.8227 (18.70381)\n",
      "dcg@03: 2.8024 (2.75204)\n",
      "dcg@05: 3.7880 (3.19719)\n",
      "dcg@10: 5.6298 (3.80752)\n",
      "dcg@20: 8.5119 (4.80564)\n",
      "ndcg: 0.6199 (0.05333)\n",
      "ndcg@03: 0.1036 (0.10268)\n",
      "ndcg@05: 0.1068 (0.09464)\n",
      "ndcg@10: 0.1151 (0.08009)\n",
      "ndcg@20: 0.1316 (0.07451)\n",
      "precision@01: 0.0360 (0.18638)\n",
      "precision@03: 0.0390 (0.11899)\n",
      "precision@05: 0.0420 (0.10356)\n",
      "precision@10: 0.0378 (0.07152)\n",
      "precision@20: 0.0366 (0.05543)\n",
      "recall@01: 0.0015 (0.00807)\n",
      "recall@03: 0.0044 (0.01346)\n",
      "recall@05: 0.0079 (0.01977)\n",
      "recall@10: 0.0154 (0.03165)\n",
      "recall@20: 0.0311 (0.05051)\n",
      "relevant rank: 176.7036 (69.01179)\n",
      "relevant rank per query: 4197.9039 (1927.55835)\n",
      "train:  {'recall@05': (0.007902044257922756, 0.019770169277055636)}\n"
     ]
    },
    {
     "data": {
      "application/vnd.jupyter.widget-view+json": {
       "model_id": "8477d45b054847a2bd2c98e237264996",
       "version_major": 2,
       "version_minor": 0
      },
      "text/plain": [
       "  0%|          | 0/2735 [00:00<?, ?it/s]"
      ]
     },
     "metadata": {},
     "output_type": "display_data"
    },
    {
     "data": {
      "application/vnd.jupyter.widget-view+json": {
       "model_id": "",
       "version_major": 2,
       "version_minor": 0
      },
      "text/plain": [
       "Eval (train):   0%|          | 0/333 [00:00<?, ?it/s]"
      ]
     },
     "metadata": {},
     "output_type": "display_data"
    },
    {
     "name": "stdout",
     "output_type": "stream",
     "text": [
      "\"metric\": \"mean\" (\"standard deviation\")\n",
      "dcg: 80.7779 (18.84147)\n",
      "dcg@03: 3.7575 (2.98338)\n",
      "dcg@05: 5.3517 (3.55251)\n",
      "dcg@10: 8.2933 (4.75382)\n",
      "dcg@20: 12.7587 (6.15104)\n",
      "ndcg: 0.6534 (0.05892)\n",
      "ndcg@03: 0.1427 (0.12249)\n",
      "ndcg@05: 0.1538 (0.11220)\n",
      "ndcg@10: 0.1719 (0.10284)\n",
      "ndcg@20: 0.1990 (0.09782)\n",
      "precision@01: 0.0541 (0.22612)\n",
      "precision@03: 0.0480 (0.13557)\n",
      "precision@05: 0.0607 (0.12320)\n",
      "precision@10: 0.0673 (0.10616)\n",
      "precision@20: 0.0670 (0.08232)\n",
      "recall@01: 0.0024 (0.01082)\n",
      "recall@03: 0.0064 (0.02179)\n",
      "recall@05: 0.0136 (0.03018)\n",
      "recall@10: 0.0284 (0.04446)\n",
      "recall@20: 0.0560 (0.06637)\n",
      "relevant rank: 161.9204 (77.64041)\n",
      "relevant rank per query: 3846.7027 (1916.62053)\n",
      "train:  {'ndcg': (0.6198622088220039, 0.053331595191242205)}\n"
     ]
    },
    {
     "data": {
      "application/vnd.jupyter.widget-view+json": {
       "model_id": "7b5f816baa1d4b8c83e884200df54589",
       "version_major": 2,
       "version_minor": 0
      },
      "text/plain": [
       "  0%|          | 0/2735 [00:00<?, ?it/s]"
      ]
     },
     "metadata": {},
     "output_type": "display_data"
    },
    {
     "data": {
      "application/vnd.jupyter.widget-view+json": {
       "model_id": "",
       "version_major": 2,
       "version_minor": 0
      },
      "text/plain": [
       "Eval (train):   0%|          | 0/333 [00:00<?, ?it/s]"
      ]
     },
     "metadata": {},
     "output_type": "display_data"
    },
    {
     "name": "stdout",
     "output_type": "stream",
     "text": [
      "\"metric\": \"mean\" (\"standard deviation\")\n",
      "dcg: 85.3045 (19.75308)\n",
      "dcg@03: 5.0093 (3.92925)\n",
      "dcg@05: 6.9140 (4.81046)\n",
      "dcg@10: 10.4815 (5.82630)\n",
      "dcg@20: 16.0851 (7.14112)\n",
      "ndcg: 0.6900 (0.06101)\n",
      "ndcg@03: 0.1876 (0.15003)\n",
      "ndcg@05: 0.1963 (0.13988)\n",
      "ndcg@10: 0.2155 (0.12187)\n",
      "ndcg@20: 0.2491 (0.11036)\n",
      "precision@01: 0.0961 (0.29472)\n",
      "precision@03: 0.1001 (0.19671)\n",
      "precision@05: 0.1027 (0.16447)\n",
      "precision@10: 0.1024 (0.12397)\n",
      "precision@20: 0.1065 (0.09732)\n",
      "recall@01: 0.0044 (0.01586)\n",
      "recall@03: 0.0142 (0.03086)\n",
      "recall@05: 0.0236 (0.04030)\n",
      "recall@10: 0.0448 (0.05626)\n",
      "recall@20: 0.0929 (0.08128)\n",
      "relevant rank: 120.4833 (72.33596)\n",
      "relevant rank per query: 2862.2913 (1613.77284)\n",
      "train:  {'precision@05': (0.042042042042042045, 0.10356137886986473)}\n"
     ]
    },
    {
     "data": {
      "application/vnd.jupyter.widget-view+json": {
       "model_id": "",
       "version_major": 2,
       "version_minor": 0
      },
      "text/plain": [
       "Eval (test):   0%|          | 0/117 [00:00<?, ?it/s]"
      ]
     },
     "metadata": {},
     "output_type": "display_data"
    },
    {
     "name": "stdout",
     "output_type": "stream",
     "text": [
      "\"metric\": \"mean\" (\"standard deviation\")\n",
      "dcg: 89.3165 (19.12100)\n",
      "dcg@03: 4.8214 (3.30834)\n",
      "dcg@05: 6.6881 (3.85201)\n",
      "dcg@10: 10.6314 (5.00850)\n",
      "dcg@20: 16.2983 (6.32511)\n",
      "ndcg: 0.6917 (0.05269)\n",
      "ndcg@03: 0.1760 (0.12622)\n",
      "ndcg@05: 0.1843 (0.11367)\n",
      "ndcg@10: 0.2127 (0.10545)\n",
      "ndcg@20: 0.2455 (0.09502)\n",
      "precision@01: 0.0769 (0.26647)\n",
      "precision@03: 0.0883 (0.18176)\n",
      "precision@05: 0.0991 (0.15387)\n",
      "precision@10: 0.1145 (0.13729)\n",
      "precision@20: 0.1068 (0.10355)\n",
      "recall@01: 0.0042 (0.01814)\n",
      "recall@03: 0.0117 (0.03094)\n",
      "recall@05: 0.0203 (0.03979)\n",
      "recall@10: 0.0445 (0.05588)\n",
      "recall@20: 0.0835 (0.08315)\n",
      "relevant rank: 122.0259 (71.07592)\n",
      "relevant rank per query: 3140.3419 (1474.28632)\n"
     ]
    }
   ],
   "source": [
    "seed(42)\n",
    "\n",
    "params = Namespace(epochs=3, \n",
    "                    lr=1e-3,\n",
    "                    batch_size=1,\n",
    "                    topk=20,\n",
    "                    metrics={\"ndcg\", \"precision@05\", \"recall@05\"})\n",
    "unbiased_model = NeuralModule(1)\n",
    "\n",
    "create_results(unbiased_model, \n",
    "               train_online, \n",
    "               unbiased_model,\n",
    "               \"./unbiased_model.json\",\n",
    "               train_clicks,\n",
    "               online_loss_unbiased,\n",
    "               params)\n",
    "# persist model\n",
    "torch.save(biased_model.state_dict(), \"./unbiased_wt\")"
   ]
  },
  {
   "cell_type": "code",
   "execution_count": 66,
   "metadata": {
    "deletable": false,
    "nbgrader": {
     "cell_type": "code",
     "checksum": "93ede3bc5a61edfb93777647c3ae0b1a",
     "grade": true,
     "grade_id": "cell-5a98cb1d4dccab54",
     "locked": false,
     "points": 30,
     "schema_version": 3,
     "solution": true,
     "task": false
    }
   },
   "outputs": [],
   "source": [
    "# YOUR CODE HERE\n",
    "# raise NotImplementedError()"
   ]
  },
  {
   "cell_type": "code",
   "execution_count": null,
   "metadata": {
    "deletable": false,
    "editable": false,
    "nbgrader": {
     "cell_type": "code",
     "checksum": "34fad8b3eebaaca7a38cf37fb55433e3",
     "grade": true,
     "grade_id": "cell-6eaff35ed2f350ea",
     "locked": true,
     "points": 15,
     "schema_version": 3,
     "solution": false,
     "task": false
    }
   },
   "outputs": [],
   "source": []
  },
  {
   "cell_type": "code",
   "execution_count": null,
   "metadata": {
    "deletable": false,
    "editable": false,
    "nbgrader": {
     "cell_type": "code",
     "checksum": "f8cc768ddc4dd12732fc4c1b42cf015d",
     "grade": true,
     "grade_id": "cell-6a1e7d45a6b24c7c",
     "locked": true,
     "points": 15,
     "schema_version": 3,
     "solution": false,
     "task": false
    }
   },
   "outputs": [],
   "source": []
  },
  {
   "cell_type": "markdown",
   "metadata": {
    "deletable": false,
    "editable": false,
    "nbgrader": {
     "cell_type": "markdown",
     "checksum": "ca775c32f1df7ef6d70c60b3e365adf4",
     "grade": false,
     "grade_id": "cell-08980b08558f70e8",
     "locked": true,
     "schema_version": 3,
     "solution": false,
     "task": false
    }
   },
   "source": [
    "### Section 2.3: Comparison (20 points)\n",
    "\n",
    "Now we can compare two loss functions: biased and unbiased.\n",
    "We want to see how they can improve by increasing the number of training clicks.\n",
    "Train both biased and unbaised models on $[2000, 10000, 50000]$ number of clicks and compare the results.\n",
    "\n",
    "Plot the results in a **single** figure with x-axis showing the number of trainin clicks and y-axis showing the nDCG@10.\n",
    "Discuss your observations.\n",
    "\n",
    "\n",
    "**Rubric:**\n",
    "- Two curves are plotted in the figure: 10 points\n",
    "- Clear titles, x label, y labels and legends (if applicable): 5 points\n",
    "- Explain what you observe: 5 points"
   ]
  },
  {
   "cell_type": "code",
   "execution_count": 99,
   "metadata": {
    "deletable": false,
    "nbgrader": {
     "cell_type": "code",
     "checksum": "76693360dd6493e5811d1908eacf8227",
     "grade": true,
     "grade_id": "cell-f51a0be2734c9352",
     "locked": false,
     "points": 20,
     "schema_version": 3,
     "solution": true,
     "task": false
    }
   },
   "outputs": [
    {
     "name": "stdout",
     "output_type": "stream",
     "text": [
      "2000\n"
     ]
    },
    {
     "data": {
      "application/vnd.jupyter.widget-view+json": {
       "model_id": "0606ecd32be04a37993383d8ac49e7ca",
       "version_major": 2,
       "version_minor": 0
      },
      "text/plain": [
       "  0%|          | 0/2735 [00:00<?, ?it/s]"
      ]
     },
     "metadata": {},
     "output_type": "display_data"
    },
    {
     "data": {
      "application/vnd.jupyter.widget-view+json": {
       "model_id": "",
       "version_major": 2,
       "version_minor": 0
      },
      "text/plain": [
       "Eval (train):   0%|          | 0/333 [00:00<?, ?it/s]"
      ]
     },
     "metadata": {},
     "output_type": "display_data"
    },
    {
     "name": "stdout",
     "output_type": "stream",
     "text": [
      "train:  {'ndcg@10': (0.20562573646057875, 0.11473915773072588)}\n"
     ]
    },
    {
     "data": {
      "application/vnd.jupyter.widget-view+json": {
       "model_id": "b22a02cf810f4f29a223ea6eb7195ddf",
       "version_major": 2,
       "version_minor": 0
      },
      "text/plain": [
       "  0%|          | 0/2735 [00:00<?, ?it/s]"
      ]
     },
     "metadata": {},
     "output_type": "display_data"
    },
    {
     "data": {
      "application/vnd.jupyter.widget-view+json": {
       "model_id": "",
       "version_major": 2,
       "version_minor": 0
      },
      "text/plain": [
       "Eval (train):   0%|          | 0/333 [00:00<?, ?it/s]"
      ]
     },
     "metadata": {},
     "output_type": "display_data"
    },
    {
     "name": "stdout",
     "output_type": "stream",
     "text": [
      "train:  {'ndcg@10': (0.226730573224266, 0.12969440846121083)}\n"
     ]
    },
    {
     "data": {
      "application/vnd.jupyter.widget-view+json": {
       "model_id": "6bcf9b4911124d5cb34539adb69d5013",
       "version_major": 2,
       "version_minor": 0
      },
      "text/plain": [
       "  0%|          | 0/2735 [00:00<?, ?it/s]"
      ]
     },
     "metadata": {},
     "output_type": "display_data"
    },
    {
     "data": {
      "application/vnd.jupyter.widget-view+json": {
       "model_id": "",
       "version_major": 2,
       "version_minor": 0
      },
      "text/plain": [
       "Eval (train):   0%|          | 0/333 [00:00<?, ?it/s]"
      ]
     },
     "metadata": {},
     "output_type": "display_data"
    },
    {
     "name": "stdout",
     "output_type": "stream",
     "text": [
      "train:  {'ndcg@10': (0.21847496956255813, 0.12885780079826953)}\n"
     ]
    },
    {
     "data": {
      "application/vnd.jupyter.widget-view+json": {
       "model_id": "6e4f508764bb4b63a94491ad7f532198",
       "version_major": 2,
       "version_minor": 0
      },
      "text/plain": [
       "  0%|          | 0/2735 [00:00<?, ?it/s]"
      ]
     },
     "metadata": {},
     "output_type": "display_data"
    },
    {
     "data": {
      "application/vnd.jupyter.widget-view+json": {
       "model_id": "",
       "version_major": 2,
       "version_minor": 0
      },
      "text/plain": [
       "Eval (train):   0%|          | 0/333 [00:00<?, ?it/s]"
      ]
     },
     "metadata": {},
     "output_type": "display_data"
    },
    {
     "name": "stdout",
     "output_type": "stream",
     "text": [
      "train:  {'ndcg@10': (0.197887011887094, 0.11814001151367712)}\n"
     ]
    },
    {
     "data": {
      "application/vnd.jupyter.widget-view+json": {
       "model_id": "0b48021f691f4e6a985176274ab86ffa",
       "version_major": 2,
       "version_minor": 0
      },
      "text/plain": [
       "  0%|          | 0/2735 [00:00<?, ?it/s]"
      ]
     },
     "metadata": {},
     "output_type": "display_data"
    },
    {
     "data": {
      "application/vnd.jupyter.widget-view+json": {
       "model_id": "",
       "version_major": 2,
       "version_minor": 0
      },
      "text/plain": [
       "Eval (train):   0%|          | 0/333 [00:00<?, ?it/s]"
      ]
     },
     "metadata": {},
     "output_type": "display_data"
    },
    {
     "name": "stdout",
     "output_type": "stream",
     "text": [
      "train:  {'ndcg@10': (0.19308484046262428, 0.11542529996386908)}\n"
     ]
    },
    {
     "data": {
      "application/vnd.jupyter.widget-view+json": {
       "model_id": "0c311b4187ad488cbfd7e3fe03ff68ef",
       "version_major": 2,
       "version_minor": 0
      },
      "text/plain": [
       "  0%|          | 0/2735 [00:00<?, ?it/s]"
      ]
     },
     "metadata": {},
     "output_type": "display_data"
    },
    {
     "data": {
      "application/vnd.jupyter.widget-view+json": {
       "model_id": "",
       "version_major": 2,
       "version_minor": 0
      },
      "text/plain": [
       "Eval (train):   0%|          | 0/333 [00:00<?, ?it/s]"
      ]
     },
     "metadata": {},
     "output_type": "display_data"
    },
    {
     "name": "stdout",
     "output_type": "stream",
     "text": [
      "train:  {'ndcg@10': (0.189183591856428, 0.10048096342255326)}\n"
     ]
    },
    {
     "data": {
      "application/vnd.jupyter.widget-view+json": {
       "model_id": "d2f3860b8468472b9515f944c7ab3016",
       "version_major": 2,
       "version_minor": 0
      },
      "text/plain": [
       "  0%|          | 0/2735 [00:00<?, ?it/s]"
      ]
     },
     "metadata": {},
     "output_type": "display_data"
    },
    {
     "data": {
      "application/vnd.jupyter.widget-view+json": {
       "model_id": "",
       "version_major": 2,
       "version_minor": 0
      },
      "text/plain": [
       "Eval (train):   0%|          | 0/333 [00:00<?, ?it/s]"
      ]
     },
     "metadata": {},
     "output_type": "display_data"
    },
    {
     "name": "stdout",
     "output_type": "stream",
     "text": [
      "train:  {'ndcg@10': (0.19380946575366398, 0.11415286322639365)}\n"
     ]
    },
    {
     "data": {
      "application/vnd.jupyter.widget-view+json": {
       "model_id": "80780a297b6a4e18a8a1e9a19f36eab0",
       "version_major": 2,
       "version_minor": 0
      },
      "text/plain": [
       "  0%|          | 0/2735 [00:00<?, ?it/s]"
      ]
     },
     "metadata": {},
     "output_type": "display_data"
    },
    {
     "data": {
      "application/vnd.jupyter.widget-view+json": {
       "model_id": "",
       "version_major": 2,
       "version_minor": 0
      },
      "text/plain": [
       "Eval (train):   0%|          | 0/333 [00:00<?, ?it/s]"
      ]
     },
     "metadata": {},
     "output_type": "display_data"
    },
    {
     "name": "stdout",
     "output_type": "stream",
     "text": [
      "train:  {'ndcg@10': (0.18283529549202138, 0.1144238279725446)}\n"
     ]
    },
    {
     "data": {
      "application/vnd.jupyter.widget-view+json": {
       "model_id": "5083946a7e6a41d29e264123a4076dd4",
       "version_major": 2,
       "version_minor": 0
      },
      "text/plain": [
       "  0%|          | 0/2735 [00:00<?, ?it/s]"
      ]
     },
     "metadata": {},
     "output_type": "display_data"
    },
    {
     "data": {
      "application/vnd.jupyter.widget-view+json": {
       "model_id": "",
       "version_major": 2,
       "version_minor": 0
      },
      "text/plain": [
       "Eval (train):   0%|          | 0/333 [00:00<?, ?it/s]"
      ]
     },
     "metadata": {},
     "output_type": "display_data"
    },
    {
     "name": "stdout",
     "output_type": "stream",
     "text": [
      "train:  {'ndcg@10': (0.16184888573708028, 0.10463267496232258)}\n"
     ]
    },
    {
     "data": {
      "application/vnd.jupyter.widget-view+json": {
       "model_id": "68214b9267b84c5ca42a43283d8ef1ad",
       "version_major": 2,
       "version_minor": 0
      },
      "text/plain": [
       "  0%|          | 0/2735 [00:00<?, ?it/s]"
      ]
     },
     "metadata": {},
     "output_type": "display_data"
    },
    {
     "data": {
      "application/vnd.jupyter.widget-view+json": {
       "model_id": "",
       "version_major": 2,
       "version_minor": 0
      },
      "text/plain": [
       "Eval (train):   0%|          | 0/333 [00:00<?, ?it/s]"
      ]
     },
     "metadata": {},
     "output_type": "display_data"
    },
    {
     "name": "stdout",
     "output_type": "stream",
     "text": [
      "train:  {'ndcg@10': (0.15487757948525468, 0.09948230710393152)}\n"
     ]
    },
    {
     "data": {
      "application/vnd.jupyter.widget-view+json": {
       "model_id": "",
       "version_major": 2,
       "version_minor": 0
      },
      "text/plain": [
       "Eval (test):   0%|          | 0/117 [00:00<?, ?it/s]"
      ]
     },
     "metadata": {},
     "output_type": "display_data"
    },
    {
     "data": {
      "application/vnd.jupyter.widget-view+json": {
       "model_id": "",
       "version_major": 2,
       "version_minor": 0
      },
      "text/plain": [
       "Eval (test):   0%|          | 0/117 [00:00<?, ?it/s]"
      ]
     },
     "metadata": {},
     "output_type": "display_data"
    },
    {
     "name": "stdout",
     "output_type": "stream",
     "text": [
      "10000\n"
     ]
    },
    {
     "data": {
      "application/vnd.jupyter.widget-view+json": {
       "model_id": "853839e8c72749d4bea22f896842a1c0",
       "version_major": 2,
       "version_minor": 0
      },
      "text/plain": [
       "  0%|          | 0/2735 [00:00<?, ?it/s]"
      ]
     },
     "metadata": {},
     "output_type": "display_data"
    },
    {
     "data": {
      "application/vnd.jupyter.widget-view+json": {
       "model_id": "",
       "version_major": 2,
       "version_minor": 0
      },
      "text/plain": [
       "Eval (train):   0%|          | 0/333 [00:00<?, ?it/s]"
      ]
     },
     "metadata": {},
     "output_type": "display_data"
    },
    {
     "name": "stdout",
     "output_type": "stream",
     "text": [
      "train:  {'ndcg@10': (0.08107990860854218, 0.0662051039647762)}\n"
     ]
    },
    {
     "data": {
      "application/vnd.jupyter.widget-view+json": {
       "model_id": "73770554c0344cdfaa1ce63d7b644b93",
       "version_major": 2,
       "version_minor": 0
      },
      "text/plain": [
       "  0%|          | 0/2735 [00:00<?, ?it/s]"
      ]
     },
     "metadata": {},
     "output_type": "display_data"
    },
    {
     "data": {
      "application/vnd.jupyter.widget-view+json": {
       "model_id": "",
       "version_major": 2,
       "version_minor": 0
      },
      "text/plain": [
       "Eval (train):   0%|          | 0/333 [00:00<?, ?it/s]"
      ]
     },
     "metadata": {},
     "output_type": "display_data"
    },
    {
     "name": "stdout",
     "output_type": "stream",
     "text": [
      "train:  {'ndcg@10': (0.12170686964729846, 0.08398727941859392)}\n"
     ]
    },
    {
     "data": {
      "application/vnd.jupyter.widget-view+json": {
       "model_id": "6575713c34a54a3d878a42e189cf6492",
       "version_major": 2,
       "version_minor": 0
      },
      "text/plain": [
       "  0%|          | 0/2735 [00:00<?, ?it/s]"
      ]
     },
     "metadata": {},
     "output_type": "display_data"
    },
    {
     "data": {
      "application/vnd.jupyter.widget-view+json": {
       "model_id": "",
       "version_major": 2,
       "version_minor": 0
      },
      "text/plain": [
       "Eval (train):   0%|          | 0/333 [00:00<?, ?it/s]"
      ]
     },
     "metadata": {},
     "output_type": "display_data"
    },
    {
     "name": "stdout",
     "output_type": "stream",
     "text": [
      "train:  {'ndcg@10': (0.18496260877121173, 0.10099960966340846)}\n"
     ]
    },
    {
     "data": {
      "application/vnd.jupyter.widget-view+json": {
       "model_id": "82d85918de8e4b2b98e02d12bbeb149e",
       "version_major": 2,
       "version_minor": 0
      },
      "text/plain": [
       "  0%|          | 0/2735 [00:00<?, ?it/s]"
      ]
     },
     "metadata": {},
     "output_type": "display_data"
    },
    {
     "data": {
      "application/vnd.jupyter.widget-view+json": {
       "model_id": "",
       "version_major": 2,
       "version_minor": 0
      },
      "text/plain": [
       "Eval (train):   0%|          | 0/333 [00:00<?, ?it/s]"
      ]
     },
     "metadata": {},
     "output_type": "display_data"
    },
    {
     "name": "stdout",
     "output_type": "stream",
     "text": [
      "train:  {'ndcg@10': (0.21398275688818258, 0.11653039340600169)}\n"
     ]
    },
    {
     "data": {
      "application/vnd.jupyter.widget-view+json": {
       "model_id": "e2aad4009fc3434680f96d00d10b66cc",
       "version_major": 2,
       "version_minor": 0
      },
      "text/plain": [
       "  0%|          | 0/2735 [00:00<?, ?it/s]"
      ]
     },
     "metadata": {},
     "output_type": "display_data"
    },
    {
     "data": {
      "application/vnd.jupyter.widget-view+json": {
       "model_id": "",
       "version_major": 2,
       "version_minor": 0
      },
      "text/plain": [
       "Eval (train):   0%|          | 0/333 [00:00<?, ?it/s]"
      ]
     },
     "metadata": {},
     "output_type": "display_data"
    },
    {
     "name": "stdout",
     "output_type": "stream",
     "text": [
      "train:  {'ndcg@10': (0.1914038247630245, 0.10198951283690005)}\n"
     ]
    },
    {
     "data": {
      "application/vnd.jupyter.widget-view+json": {
       "model_id": "3ce770c71d2b4d49a29c518c94bed0a4",
       "version_major": 2,
       "version_minor": 0
      },
      "text/plain": [
       "  0%|          | 0/2735 [00:00<?, ?it/s]"
      ]
     },
     "metadata": {},
     "output_type": "display_data"
    },
    {
     "data": {
      "application/vnd.jupyter.widget-view+json": {
       "model_id": "",
       "version_major": 2,
       "version_minor": 0
      },
      "text/plain": [
       "Eval (train):   0%|          | 0/333 [00:00<?, ?it/s]"
      ]
     },
     "metadata": {},
     "output_type": "display_data"
    },
    {
     "name": "stdout",
     "output_type": "stream",
     "text": [
      "train:  {'ndcg@10': (0.1629931969250765, 0.08789355880297729)}\n"
     ]
    },
    {
     "data": {
      "application/vnd.jupyter.widget-view+json": {
       "model_id": "b9a566b72b9f47f096dadf353aa001c0",
       "version_major": 2,
       "version_minor": 0
      },
      "text/plain": [
       "  0%|          | 0/2735 [00:00<?, ?it/s]"
      ]
     },
     "metadata": {},
     "output_type": "display_data"
    },
    {
     "data": {
      "application/vnd.jupyter.widget-view+json": {
       "model_id": "",
       "version_major": 2,
       "version_minor": 0
      },
      "text/plain": [
       "Eval (train):   0%|          | 0/333 [00:00<?, ?it/s]"
      ]
     },
     "metadata": {},
     "output_type": "display_data"
    },
    {
     "name": "stdout",
     "output_type": "stream",
     "text": [
      "train:  {'ndcg@10': (0.18939487307975725, 0.10185828619767633)}\n"
     ]
    },
    {
     "data": {
      "application/vnd.jupyter.widget-view+json": {
       "model_id": "d25b975e7bf94691948e5b1562943fc9",
       "version_major": 2,
       "version_minor": 0
      },
      "text/plain": [
       "  0%|          | 0/2735 [00:00<?, ?it/s]"
      ]
     },
     "metadata": {},
     "output_type": "display_data"
    },
    {
     "data": {
      "application/vnd.jupyter.widget-view+json": {
       "model_id": "",
       "version_major": 2,
       "version_minor": 0
      },
      "text/plain": [
       "Eval (train):   0%|          | 0/333 [00:00<?, ?it/s]"
      ]
     },
     "metadata": {},
     "output_type": "display_data"
    },
    {
     "name": "stdout",
     "output_type": "stream",
     "text": [
      "train:  {'ndcg@10': (0.1808252575441997, 0.10728654048684626)}\n"
     ]
    },
    {
     "data": {
      "application/vnd.jupyter.widget-view+json": {
       "model_id": "486335460ebe4cd7aa34b030e8f80106",
       "version_major": 2,
       "version_minor": 0
      },
      "text/plain": [
       "  0%|          | 0/2735 [00:00<?, ?it/s]"
      ]
     },
     "metadata": {},
     "output_type": "display_data"
    },
    {
     "data": {
      "application/vnd.jupyter.widget-view+json": {
       "model_id": "",
       "version_major": 2,
       "version_minor": 0
      },
      "text/plain": [
       "Eval (train):   0%|          | 0/333 [00:00<?, ?it/s]"
      ]
     },
     "metadata": {},
     "output_type": "display_data"
    },
    {
     "name": "stdout",
     "output_type": "stream",
     "text": [
      "train:  {'ndcg@10': (0.15623412257621921, 0.09884556112575076)}\n"
     ]
    },
    {
     "data": {
      "application/vnd.jupyter.widget-view+json": {
       "model_id": "1fe61c8bf4e346808a81dff8a8df2413",
       "version_major": 2,
       "version_minor": 0
      },
      "text/plain": [
       "  0%|          | 0/2735 [00:00<?, ?it/s]"
      ]
     },
     "metadata": {},
     "output_type": "display_data"
    },
    {
     "data": {
      "application/vnd.jupyter.widget-view+json": {
       "model_id": "",
       "version_major": 2,
       "version_minor": 0
      },
      "text/plain": [
       "Eval (train):   0%|          | 0/333 [00:00<?, ?it/s]"
      ]
     },
     "metadata": {},
     "output_type": "display_data"
    },
    {
     "name": "stdout",
     "output_type": "stream",
     "text": [
      "train:  {'ndcg@10': (0.15356491097351752, 0.10049491786807939)}\n"
     ]
    },
    {
     "data": {
      "application/vnd.jupyter.widget-view+json": {
       "model_id": "",
       "version_major": 2,
       "version_minor": 0
      },
      "text/plain": [
       "Eval (test):   0%|          | 0/117 [00:00<?, ?it/s]"
      ]
     },
     "metadata": {},
     "output_type": "display_data"
    },
    {
     "data": {
      "application/vnd.jupyter.widget-view+json": {
       "model_id": "",
       "version_major": 2,
       "version_minor": 0
      },
      "text/plain": [
       "Eval (test):   0%|          | 0/117 [00:00<?, ?it/s]"
      ]
     },
     "metadata": {},
     "output_type": "display_data"
    },
    {
     "name": "stdout",
     "output_type": "stream",
     "text": [
      "50000\n"
     ]
    },
    {
     "data": {
      "application/vnd.jupyter.widget-view+json": {
       "model_id": "6054c0e88698433a8dcc66685525de5e",
       "version_major": 2,
       "version_minor": 0
      },
      "text/plain": [
       "  0%|          | 0/2735 [00:00<?, ?it/s]"
      ]
     },
     "metadata": {},
     "output_type": "display_data"
    },
    {
     "data": {
      "application/vnd.jupyter.widget-view+json": {
       "model_id": "",
       "version_major": 2,
       "version_minor": 0
      },
      "text/plain": [
       "Eval (train):   0%|          | 0/333 [00:00<?, ?it/s]"
      ]
     },
     "metadata": {},
     "output_type": "display_data"
    },
    {
     "name": "stdout",
     "output_type": "stream",
     "text": [
      "train:  {'ndcg@10': (0.139273106094719, 0.09805156257478777)}\n"
     ]
    },
    {
     "data": {
      "application/vnd.jupyter.widget-view+json": {
       "model_id": "d5aa6f03373b4e92a91a47bbe922e897",
       "version_major": 2,
       "version_minor": 0
      },
      "text/plain": [
       "  0%|          | 0/2735 [00:00<?, ?it/s]"
      ]
     },
     "metadata": {},
     "output_type": "display_data"
    },
    {
     "data": {
      "application/vnd.jupyter.widget-view+json": {
       "model_id": "",
       "version_major": 2,
       "version_minor": 0
      },
      "text/plain": [
       "Eval (train):   0%|          | 0/333 [00:00<?, ?it/s]"
      ]
     },
     "metadata": {},
     "output_type": "display_data"
    },
    {
     "name": "stdout",
     "output_type": "stream",
     "text": [
      "train:  {'ndcg@10': (0.16236385398338063, 0.10615773991559277)}\n"
     ]
    },
    {
     "data": {
      "application/vnd.jupyter.widget-view+json": {
       "model_id": "6a0a7e64fa74419688571922525eb46d",
       "version_major": 2,
       "version_minor": 0
      },
      "text/plain": [
       "  0%|          | 0/2735 [00:00<?, ?it/s]"
      ]
     },
     "metadata": {},
     "output_type": "display_data"
    },
    {
     "data": {
      "application/vnd.jupyter.widget-view+json": {
       "model_id": "",
       "version_major": 2,
       "version_minor": 0
      },
      "text/plain": [
       "Eval (train):   0%|          | 0/333 [00:00<?, ?it/s]"
      ]
     },
     "metadata": {},
     "output_type": "display_data"
    },
    {
     "name": "stdout",
     "output_type": "stream",
     "text": [
      "train:  {'ndcg@10': (0.17419659204448387, 0.10298621288151338)}\n"
     ]
    },
    {
     "data": {
      "application/vnd.jupyter.widget-view+json": {
       "model_id": "315104cdafe34af8b6b1bc399a96c555",
       "version_major": 2,
       "version_minor": 0
      },
      "text/plain": [
       "  0%|          | 0/2735 [00:00<?, ?it/s]"
      ]
     },
     "metadata": {},
     "output_type": "display_data"
    },
    {
     "data": {
      "application/vnd.jupyter.widget-view+json": {
       "model_id": "",
       "version_major": 2,
       "version_minor": 0
      },
      "text/plain": [
       "Eval (train):   0%|          | 0/333 [00:00<?, ?it/s]"
      ]
     },
     "metadata": {},
     "output_type": "display_data"
    },
    {
     "name": "stdout",
     "output_type": "stream",
     "text": [
      "train:  {'ndcg@10': (0.1753057951528637, 0.09834982250840074)}\n"
     ]
    },
    {
     "data": {
      "application/vnd.jupyter.widget-view+json": {
       "model_id": "4b8a85b00ef34f6ba249dfdbd35540ff",
       "version_major": 2,
       "version_minor": 0
      },
      "text/plain": [
       "  0%|          | 0/2735 [00:00<?, ?it/s]"
      ]
     },
     "metadata": {},
     "output_type": "display_data"
    },
    {
     "data": {
      "application/vnd.jupyter.widget-view+json": {
       "model_id": "",
       "version_major": 2,
       "version_minor": 0
      },
      "text/plain": [
       "Eval (train):   0%|          | 0/333 [00:00<?, ?it/s]"
      ]
     },
     "metadata": {},
     "output_type": "display_data"
    },
    {
     "name": "stdout",
     "output_type": "stream",
     "text": [
      "train:  {'ndcg@10': (0.17105928156512046, 0.09921631088911663)}\n"
     ]
    },
    {
     "data": {
      "application/vnd.jupyter.widget-view+json": {
       "model_id": "a88ebe21dff64705937dd5ee09809d62",
       "version_major": 2,
       "version_minor": 0
      },
      "text/plain": [
       "  0%|          | 0/2735 [00:00<?, ?it/s]"
      ]
     },
     "metadata": {},
     "output_type": "display_data"
    },
    {
     "data": {
      "application/vnd.jupyter.widget-view+json": {
       "model_id": "",
       "version_major": 2,
       "version_minor": 0
      },
      "text/plain": [
       "Eval (train):   0%|          | 0/333 [00:00<?, ?it/s]"
      ]
     },
     "metadata": {},
     "output_type": "display_data"
    },
    {
     "name": "stdout",
     "output_type": "stream",
     "text": [
      "train:  {'ndcg@10': (0.22218558504945346, 0.1149496415157929)}\n"
     ]
    },
    {
     "data": {
      "application/vnd.jupyter.widget-view+json": {
       "model_id": "e6516afcc3c14a9eb40a56b65f727794",
       "version_major": 2,
       "version_minor": 0
      },
      "text/plain": [
       "  0%|          | 0/2735 [00:00<?, ?it/s]"
      ]
     },
     "metadata": {},
     "output_type": "display_data"
    },
    {
     "data": {
      "application/vnd.jupyter.widget-view+json": {
       "model_id": "",
       "version_major": 2,
       "version_minor": 0
      },
      "text/plain": [
       "Eval (train):   0%|          | 0/333 [00:00<?, ?it/s]"
      ]
     },
     "metadata": {},
     "output_type": "display_data"
    },
    {
     "name": "stdout",
     "output_type": "stream",
     "text": [
      "train:  {'ndcg@10': (0.13861389405494956, 0.07845145082756695)}\n"
     ]
    },
    {
     "data": {
      "application/vnd.jupyter.widget-view+json": {
       "model_id": "71020f41a8484aa094796c77757b6ee6",
       "version_major": 2,
       "version_minor": 0
      },
      "text/plain": [
       "  0%|          | 0/2735 [00:00<?, ?it/s]"
      ]
     },
     "metadata": {},
     "output_type": "display_data"
    },
    {
     "data": {
      "application/vnd.jupyter.widget-view+json": {
       "model_id": "",
       "version_major": 2,
       "version_minor": 0
      },
      "text/plain": [
       "Eval (train):   0%|          | 0/333 [00:00<?, ?it/s]"
      ]
     },
     "metadata": {},
     "output_type": "display_data"
    },
    {
     "name": "stdout",
     "output_type": "stream",
     "text": [
      "train:  {'ndcg@10': (0.13515037866650778, 0.08099818596045413)}\n"
     ]
    },
    {
     "data": {
      "application/vnd.jupyter.widget-view+json": {
       "model_id": "d2b37e3268644c26ae3137417f2516a3",
       "version_major": 2,
       "version_minor": 0
      },
      "text/plain": [
       "  0%|          | 0/2735 [00:00<?, ?it/s]"
      ]
     },
     "metadata": {},
     "output_type": "display_data"
    },
    {
     "data": {
      "application/vnd.jupyter.widget-view+json": {
       "model_id": "",
       "version_major": 2,
       "version_minor": 0
      },
      "text/plain": [
       "Eval (train):   0%|          | 0/333 [00:00<?, ?it/s]"
      ]
     },
     "metadata": {},
     "output_type": "display_data"
    },
    {
     "name": "stdout",
     "output_type": "stream",
     "text": [
      "train:  {'ndcg@10': (0.17180680517458594, 0.09256983510752483)}\n"
     ]
    },
    {
     "data": {
      "application/vnd.jupyter.widget-view+json": {
       "model_id": "db57d905143341a69c8378130aeee4f8",
       "version_major": 2,
       "version_minor": 0
      },
      "text/plain": [
       "  0%|          | 0/2735 [00:00<?, ?it/s]"
      ]
     },
     "metadata": {},
     "output_type": "display_data"
    },
    {
     "data": {
      "application/vnd.jupyter.widget-view+json": {
       "model_id": "",
       "version_major": 2,
       "version_minor": 0
      },
      "text/plain": [
       "Eval (train):   0%|          | 0/333 [00:00<?, ?it/s]"
      ]
     },
     "metadata": {},
     "output_type": "display_data"
    },
    {
     "name": "stdout",
     "output_type": "stream",
     "text": [
      "train:  {'ndcg@10': (0.17572456008537393, 0.10223361061737185)}\n"
     ]
    },
    {
     "data": {
      "application/vnd.jupyter.widget-view+json": {
       "model_id": "",
       "version_major": 2,
       "version_minor": 0
      },
      "text/plain": [
       "Eval (test):   0%|          | 0/117 [00:00<?, ?it/s]"
      ]
     },
     "metadata": {},
     "output_type": "display_data"
    },
    {
     "data": {
      "application/vnd.jupyter.widget-view+json": {
       "model_id": "",
       "version_major": 2,
       "version_minor": 0
      },
      "text/plain": [
       "Eval (test):   0%|          | 0/117 [00:00<?, ?it/s]"
      ]
     },
     "metadata": {},
     "output_type": "display_data"
    },
    {
     "data": {
      "image/png": "[encoded data removed]",
      "text/plain": [
       "<Figure size 1080x720 with 1 Axes>"
      ]
     },
     "metadata": {
      "needs_background": "light"
     },
     "output_type": "display_data"
    }
   ],
   "source": [
    "# YOUR CODE HERE\n",
    "\n",
    "def plot_comparison( metric):\n",
    "    number_clicks = [2000,10000,50000]\n",
    "    y_bias = []\n",
    "    y_unbias = []\n",
    "\n",
    "    for clicks in number_clicks:\n",
    "        print(clicks)\n",
    "\n",
    "        #TRAIN:\n",
    "        params = Namespace(epochs=5, lr=1e-3, topk=20, metrics = { metric })\n",
    "        #params = Namespace(epochs=1, lr=1e-3, topk=20, metrics = { \"ndcg@10\" })\n",
    "        train_clicks = simulate_clicks(data,'train', click_count = clicks)\n",
    "        biased_net = NeuralModule(1)\n",
    "        train_online(biased_net, train_clicks, online_loss_biased, params)\n",
    "        unbiased_net = NeuralModule(1)\n",
    "        train_online(unbiased_net, train_clicks, online_loss_unbiased, params)\n",
    "\n",
    "        #TEST:\n",
    "        eval_bias = evaluate_model(biased_net, 'test', print_results=False)\n",
    "        eval_unbias = evaluate_model(unbiased_net, 'test', print_results=False)\n",
    "\n",
    "        y_bias.append(eval_bias[ metric ][0])\n",
    "        y_unbias.append(eval_unbias[ metric ][0])\n",
    "    \n",
    "    fig = plt.figure(figsize=(15,10))\n",
    "    ax = plt.subplot(111)\n",
    "       \n",
    "    ax.plot(number_clicks, y_unbias, label = \"Unbiased\") \n",
    "    ax.plot(number_clicks, y_bias, label=\"Biased\") \n",
    "    plt.xlabel(\"Number of clicks\")\n",
    "    plt.ylabel(\"NDCG@10\")\n",
    "    plt.title(\"NDCG@10 for biased & unbiased loss\")\n",
    "    ax.legend()\n",
    "    plt.show() \n",
    "    \n",
    "plot_comparison(\"ndcg@10\")\n",
    "\n",
    "\n",
    "## TURNED OFF THE PRINT STATEMENTS IN TRAIN_ONLINE !!! PRINT_RESULTS=TRUE -> FALSE ##\n",
    "\n",
    "\n",
    "#raise NotImplementedError()"
   ]
  },
  {
   "cell_type": "markdown",
   "metadata": {
    "deletable": false,
    "editable": false,
    "nbgrader": {
     "cell_type": "markdown",
     "checksum": "ce47393cb34036b50fde6780cdb9f772",
     "grade": false,
     "grade_id": "cell-6bd0ff7cecc1b060",
     "locked": true,
     "schema_version": 3,
     "solution": false,
     "task": false
    }
   },
   "source": [
    "## Section 3: Online Evaluation (75 points) <a class=\"anchor\" id=\"on_eval\"></a>\n",
    "\n",
    "[Back to TOC](#top)\n",
    "\n",
    "Sometimes, in online search engines, we want to compare two or more different ranking functions based on the user interactions.\n",
    "This comparison is done via online evaluation.\n",
    "\n",
    "In this section we implement one of the online evaluation methods: probabilistic multileaving.\n",
    "\n",
    "We compare three rankers:\n",
    " - Production ranker: the ranks that are provided to you for doing the click simulation.\n",
    " - Biased method from previous section.\n",
    " - Unbiased method from previous section"
   ]
  },
  {
   "cell_type": "markdown",
   "metadata": {
    "deletable": false,
    "editable": false,
    "nbgrader": {
     "cell_type": "markdown",
     "checksum": "590bdae1272cdd45e304d0498de730bc",
     "grade": false,
     "grade_id": "cell-6ca9cf6f08e6b7f3",
     "locked": true,
     "schema_version": 3,
     "solution": false,
     "task": false
    }
   },
   "source": [
    "Before proceeding, we need some auxiliary functions:\n",
    "\n",
    " - `invert_ranking` gets the ranking and gives the inverted rankings. This means that for an input with `rank[d]=r`, the output would be `i_rank[r]=d`.\n",
    "\n",
    "\n",
    " - `get_predictions` gives a dictionary of predictions, i.e. `predictions[qid]` is the list of scores produced by the given model.\n"
   ]
  },
  {
   "cell_type": "code",
   "execution_count": null,
   "metadata": {
    "deletable": false,
    "editable": false,
    "nbgrader": {
     "cell_type": "code",
     "checksum": "98f77357b3d3088c738c97a90bd05061",
     "grade": false,
     "grade_id": "cell-3ae14fda3426a247",
     "locked": true,
     "schema_version": 3,
     "solution": false,
     "task": false
    }
   },
   "outputs": [],
   "source": [
    "def get_predictions(net, test_clicks, topk):\n",
    "    test_dl = DataLoader(QueryGroupedOnlineLTRData(data, 'test', test_clicks, topk), \n",
    "                          batch_size=1, \n",
    "                          shuffle=False,\n",
    "                          collate_fn=qg_collate_fn)\n",
    "    predictions = {}\n",
    "    for qids, x, _ in test_dl:\n",
    "        predictions[qids[0]] = net(x[0]).detach().numpy()[:,0]\n",
    "    return predictions\n",
    "\n",
    "\n",
    "def invert_rankings(rankings):\n",
    "    '''\n",
    "    Invert indices in a matrix of rankings, ranking per row.\n",
    "    '''\n",
    "    inverted = np.zeros(rankings.shape)\n",
    "    \n",
    "    inverted[np.arange(rankings.shape[0])[:,None],rankings] = np.arange(rankings.shape[1])[None,:]\n",
    "    return inverted\n"
   ]
  },
  {
   "cell_type": "markdown",
   "metadata": {
    "deletable": false,
    "editable": false,
    "nbgrader": {
     "cell_type": "markdown",
     "checksum": "715b799e36aa757ed9db3dd60c9b724e",
     "grade": false,
     "grade_id": "cell-7bbf6c13e9eaea91",
     "locked": true,
     "schema_version": 3,
     "solution": false,
     "task": false
    }
   },
   "source": [
    "The next cell helps you build the ranking matrix for each query in the test set.\n",
    "The first row is the production ranker, the second row is the biased ranker and the third row is the unbiased ranker."
   ]
  },
  {
   "cell_type": "code",
   "execution_count": null,
   "metadata": {
    "deletable": false,
    "editable": false,
    "nbgrader": {
     "cell_type": "code",
     "checksum": "8f2a6904a62575980830a95ed5ee238d",
     "grade": false,
     "grade_id": "cell-3bdf5ac68c468d35",
     "locked": true,
     "schema_version": 3,
     "solution": false,
     "task": false
    }
   },
   "outputs": [],
   "source": [
    "# we only need the ranking of the production ranker for the test set. No clicks have to be simulated here.\n",
    "test_clicks = simulate_clicks(data, 'test', click_count = 0)\n",
    "biased_predictions = get_predictions(biased_net, test_clicks, 20)\n",
    "unbiased_prediction = get_predictions(unbiased_net, test_clicks, 20)\n",
    "\n",
    "def get_ranking_matrix(qid, topk):\n",
    "    ranking_matrix = np.empty([3, min(data.test.query_size(qid), topk)], dtype=np.int32)\n",
    "    ranking = data.test.ranks[data.test.doclist_ranges[qid]:data.test.doclist_ranges[qid+1]]\n",
    "    ranking_matrix[0,:] = np.arange(ranking_matrix.shape[1])\n",
    "    ranking_matrix[1,:] = np.argsort(-biased_predictions[qid])\n",
    "    ranking_matrix[2,:] = np.argsort(-unbiased_prediction[qid])\n",
    "    return ranking_matrix"
   ]
  },
  {
   "cell_type": "code",
   "execution_count": null,
   "metadata": {
    "deletable": false,
    "editable": false,
    "nbgrader": {
     "cell_type": "code",
     "checksum": "c5cc0c513947abfc38bd19f364c24992",
     "grade": false,
     "grade_id": "cell-77d4e88031772611",
     "locked": true,
     "schema_version": 3,
     "solution": false,
     "task": false
    }
   },
   "outputs": [],
   "source": [
    "print(get_ranking_matrix(0, 20))"
   ]
  },
  {
   "cell_type": "markdown",
   "metadata": {
    "deletable": false,
    "editable": false,
    "nbgrader": {
     "cell_type": "markdown",
     "checksum": "d3a1de51e80c9251462e68fb16b4fb0f",
     "grade": false,
     "grade_id": "cell-ff251675418a5a1a",
     "locked": true,
     "schema_version": 3,
     "solution": false,
     "task": false
    }
   },
   "source": [
    "### Section 3.1 Multileaving (10 points)\n",
    "\n",
    "Given the rankings of multiple rankers, we want to decide how to fill the results list and show it to the users.\n",
    "Implement the following function."
   ]
  },
  {
   "cell_type": "code",
   "execution_count": null,
   "metadata": {
    "deletable": false,
    "nbgrader": {
     "cell_type": "code",
     "checksum": "c1f9c735274c6a469bd089afd078bcf9",
     "grade": false,
     "grade_id": "cell-fcf5351ca3d36caa",
     "locked": false,
     "schema_version": 3,
     "solution": true,
     "task": false
    }
   },
   "outputs": [],
   "source": [
    "# TODO: Implement this! (10 points)\n",
    "def make_multileaving(inverted_rankings, topk):\n",
    "    '''\n",
    "    ARGS: (all np.array of docids)\n",
    "    - inverted_rankings: matrix (rankers x documents) where [x,y] corresponds to the rank of doc y in ranker x\n",
    "    RETURNS\n",
    "    - ranking of indices corresponding to inverted_rankings\n",
    "    '''\n",
    "    n_rankers = inverted_rankings.shape[0]\n",
    "    n = inverted_rankings.shape[1]\n",
    "    k = min(n, topk)\n",
    "\n",
    "    # YOUR CODE HERE\n",
    "    raise NotImplementedError()\n"
   ]
  },
  {
   "cell_type": "code",
   "execution_count": null,
   "metadata": {},
   "outputs": [],
   "source": [
    "print(make_multileaving(invert_rankings(get_ranking_matrix(0, 20)), 20))"
   ]
  },
  {
   "cell_type": "code",
   "execution_count": null,
   "metadata": {
    "deletable": false,
    "nbgrader": {
     "cell_type": "code",
     "checksum": "51819e8bd101b87700217e0ea4983c40",
     "grade": true,
     "grade_id": "cell-a7f83f82f0a41b58",
     "locked": false,
     "points": 10,
     "schema_version": 3,
     "solution": true,
     "task": false
    }
   },
   "outputs": [],
   "source": [
    "# YOUR CODE HERE\n",
    "raise NotImplementedError()"
   ]
  },
  {
   "cell_type": "markdown",
   "metadata": {
    "deletable": false,
    "editable": false,
    "nbgrader": {
     "cell_type": "markdown",
     "checksum": "1ca3e1ec97c81db9c4a9e3d7ec81919c",
     "grade": false,
     "grade_id": "cell-024ab191ba5fc1c3",
     "locked": true,
     "schema_version": 3,
     "solution": false,
     "task": false
    }
   },
   "source": [
    "### Section 3.2: Probability of rankers (15 points)\n",
    "\n",
    "We have shown the multileaved list to the user and they clicked on some documents.\n",
    "In this function we want to calculate the probability that the clicked documents belong to a specific ranker.\n",
    "\n",
    "Note that the results of rankers are not unique and each document in the results list may belong to different rankers.\n",
    "So we need to assign a *probability* to each click belonging to each ranker."
   ]
  },
  {
   "cell_type": "code",
   "execution_count": null,
   "metadata": {
    "deletable": false,
    "nbgrader": {
     "cell_type": "code",
     "checksum": "e6150d058189bef659154cdb1e700d18",
     "grade": false,
     "grade_id": "cell-06a948902936dd40",
     "locked": false,
     "schema_version": 3,
     "solution": true,
     "task": false
    }
   },
   "outputs": [],
   "source": [
    "# TODO: Implement this! (15 points)\n",
    "def probability_of_list(result_list, inverted_rankings, clicked_docs):\n",
    "    '''\n",
    "    ARGS: (all np.array of docids)\n",
    "    - result_list: the multileaved list\n",
    "    - inverted_rankings: matrix (rankers x documents) where [x,y] corresponds to the rank of doc y in ranker x\n",
    "    - clicked_docs: boolean array of result_list length indicating clicks\n",
    "    RETURNS\n",
    "    -sigmas: matrix (rankers x clicked_docs) with probabilty ranker added clicked doc\n",
    "    '''\n",
    "    n_docs = inverted_rankings.shape[1]\n",
    "    n_rankers = inverted_rankings.shape[0]\n",
    "\n",
    "    click_doc_ind = result_list[clicked_docs]\n",
    "    \n",
    "    # YOUR CODE HERE\n",
    "    raise NotImplementedError()"
   ]
  },
  {
   "cell_type": "code",
   "execution_count": null,
   "metadata": {
    "deletable": false,
    "editable": false,
    "nbgrader": {
     "cell_type": "code",
     "checksum": "216c6987df2ad52d86dec05976823892",
     "grade": false,
     "grade_id": "cell-cb41d992a09ed02e",
     "locked": true,
     "schema_version": 3,
     "solution": false,
     "task": false
    }
   },
   "outputs": [],
   "source": [
    "ranking_matrix = get_ranking_matrix(0, 20)\n",
    "result_list = make_multileaving(invert_rankings(ranking_matrix), 20)\n",
    "clicks = [0,4,9,10]\n",
    "probabilities = probability_of_list(result_list, invert_rankings(ranking_matrix), clicks)\n",
    "print(f'ranking matrix:\\n {ranking_matrix}')\n",
    "print(f'results list (shown to user):\\n {result_list}')\n",
    "print(f'clicked documents: {clicks}')\n",
    "print(f'probabilities:\\n {probabilities}')"
   ]
  },
  {
   "cell_type": "code",
   "execution_count": null,
   "metadata": {
    "deletable": false,
    "nbgrader": {
     "cell_type": "code",
     "checksum": "9b4921314264ee89e72d616cf8ee8f33",
     "grade": true,
     "grade_id": "cell-41eadc2f4faaf437",
     "locked": false,
     "points": 15,
     "schema_version": 3,
     "solution": true,
     "task": false
    }
   },
   "outputs": [],
   "source": [
    "# YOUR CODE HERE\n",
    "raise NotImplementedError()"
   ]
  },
  {
   "cell_type": "markdown",
   "metadata": {
    "deletable": false,
    "editable": false,
    "nbgrader": {
     "cell_type": "markdown",
     "checksum": "7cdd78a87da0a5d3a05207c5e926eef4",
     "grade": false,
     "grade_id": "cell-95c4e4ae05ce7198",
     "locked": true,
     "schema_version": 3,
     "solution": false,
     "task": false
    }
   },
   "source": [
    "### Section 3.3: Preference matrix (10 points)\n",
    "\n",
    "Given the probabilities of each ranker being clicked, we want to calculate a preference matrix that for each pair of rankers tells us which one is preferred by the clicks."
   ]
  },
  {
   "cell_type": "code",
   "execution_count": null,
   "metadata": {
    "deletable": false,
    "nbgrader": {
     "cell_type": "code",
     "checksum": "ec8f2075b4b94720bdf96898d4254589",
     "grade": false,
     "grade_id": "cell-931bf5baba8e9eac",
     "locked": false,
     "schema_version": 3,
     "solution": true,
     "task": false
    }
   },
   "outputs": [],
   "source": [
    "# TODO: Implement this! (10 points)\n",
    "def preferences_of_list(probs):\n",
    "    '''\n",
    "    ARGS:\n",
    "    -probs: clicked docs x rankers matrix with probabilities ranker added clicked doc  (use probability_of_list)\n",
    "    -n_samples: number of samples to base preference matrix on\n",
    "    RETURNS:\n",
    "    - preference matrix: matrix (rankers x rankers) in this matrix [x,y] > 0 means x won over y and [x,y] < 0 means x lost from y\n",
    "      the value is analogous to the (average) degree of preference\n",
    "    '''\n",
    "    n_samples = 10\n",
    "    n_clicks = probs.shape[0]\n",
    "    n_rankers = probs.shape[1]\n",
    "    \n",
    "    # YOUR CODE HERE\n",
    "    raise NotImplementedError()\n",
    "\n",
    "def infer_preferences(inverted_rankings, result_list, clicked_docs):\n",
    "    n_rankers = inverted_rankings.shape[0]\n",
    "    if np.any(clicked_docs):\n",
    "        return preferences_of_list(probability_of_list(result_list,\n",
    "                                        inverted_rankings,\n",
    "                                        clicked_docs))\n",
    "    else:\n",
    "        return np.zeros((n_rankers, n_rankers))\n"
   ]
  },
  {
   "cell_type": "code",
   "execution_count": null,
   "metadata": {
    "deletable": false,
    "editable": false,
    "nbgrader": {
     "cell_type": "code",
     "checksum": "c2342811f833dbdbc29a5f7f5725b576",
     "grade": false,
     "grade_id": "cell-9598544608fbcde8",
     "locked": true,
     "schema_version": 3,
     "solution": false,
     "task": false
    }
   },
   "outputs": [],
   "source": [
    "print(preferences_of_list(probabilities))"
   ]
  },
  {
   "cell_type": "code",
   "execution_count": null,
   "metadata": {
    "deletable": false,
    "nbgrader": {
     "cell_type": "code",
     "checksum": "e79d7a1992af19a5fcd6711ece693800",
     "grade": true,
     "grade_id": "cell-601defbd1e14a840",
     "locked": false,
     "points": 10,
     "schema_version": 3,
     "solution": true,
     "task": false
    }
   },
   "outputs": [],
   "source": [
    "# YOUR CODE HERE\n",
    "raise NotImplementedError()"
   ]
  },
  {
   "cell_type": "markdown",
   "metadata": {
    "deletable": false,
    "editable": false,
    "nbgrader": {
     "cell_type": "markdown",
     "checksum": "0360fb3c0a060e97efd327ec0cc79468",
     "grade": false,
     "grade_id": "cell-766b24e1ede46a8c",
     "locked": true,
     "schema_version": 3,
     "solution": false,
     "task": false
    }
   },
   "source": [
    "Now we can simulate the multileaving to see how our target rankers are evaluated by it."
   ]
  },
  {
   "cell_type": "code",
   "execution_count": null,
   "metadata": {
    "deletable": false,
    "editable": false,
    "nbgrader": {
     "cell_type": "code",
     "checksum": "2d071088604059a588482912e2a0dfd2",
     "grade": false,
     "grade_id": "cell-45aaaa7c7a055fed",
     "locked": true,
     "schema_version": 3,
     "solution": false,
     "task": false
    }
   },
   "outputs": [],
   "source": [
    "def simulate_multileaving(n_impressions, topk):\n",
    "    n_samples = 10\n",
    "    impressions = 0\n",
    "    pref_update = 0\n",
    "    total_pref = np.zeros((3, 3))\n",
    "    for step_i in range(n_impressions):\n",
    "        qid = np.random.randint(0, data.test.doclist_ranges.shape[0] - 1)\n",
    "\n",
    "        start_i = data.test.doclist_ranges[qid]\n",
    "        end_i = data.test.doclist_ranges[qid + 1]\n",
    "        n_query_docs = end_i - start_i\n",
    "        query_labels = data.test.label_vector[start_i:end_i]\n",
    "\n",
    "        inverted_rankings = invert_rankings(get_ranking_matrix(qid, topk))\n",
    "        multileaving = make_multileaving(inverted_rankings, topk)\n",
    "\n",
    "        cur_clicks = generate_clicks(multileaving, query_labels)\n",
    "\n",
    "        if np.any(cur_clicks):\n",
    "            pref = infer_preferences(inverted_rankings, multileaving, cur_clicks)\n",
    "            total_pref += pref\n",
    "            pref_update += 1\n",
    "    return total_pref / pref_update\n"
   ]
  },
  {
   "cell_type": "code",
   "execution_count": null,
   "metadata": {
    "deletable": false,
    "editable": false,
    "nbgrader": {
     "cell_type": "code",
     "checksum": "95b61f7faa7cb7febe3d00fb66d0cda3",
     "grade": false,
     "grade_id": "cell-eae8a938c37a37f1",
     "locked": true,
     "schema_version": 3,
     "solution": false,
     "task": false
    }
   },
   "outputs": [],
   "source": [
    "simulate_multileaving(10000, 20)"
   ]
  },
  {
   "cell_type": "markdown",
   "metadata": {
    "deletable": false,
    "editable": false,
    "nbgrader": {
     "cell_type": "markdown",
     "checksum": "29bb96f857fa7ae1dc2d816a1b888d7b",
     "grade": false,
     "grade_id": "cell-04ee05c85dd0304d",
     "locked": true,
     "schema_version": 3,
     "solution": false,
     "task": false
    }
   },
   "source": [
    "### Section 3.4: Analysis (40 points)\n",
    "\n",
    "Analyze the behavior of your multileaving implementation by testing it with two different `topk` values: $[5,20]$ and with different number of evaluation clicks: $[2000, 10000, 50000]$.\n",
    "\n",
    "Put the preference of the unbiased method over the biased method (i.e. `pref[2,1]` in the matrix output of `simulate_multileaving` function) for these experiments in a table.\n",
    "\n",
    "**Rubric:**\n",
    "- Six experiments: 12 points\n",
    "- Analysis of the observations: 28 points"
   ]
  },
  {
   "cell_type": "code",
   "execution_count": null,
   "metadata": {
    "deletable": false,
    "nbgrader": {
     "cell_type": "code",
     "checksum": "fd41d14078b1ad160c02cf690c45e55f",
     "grade": true,
     "grade_id": "cell-d88f4eb3035e6fbb",
     "locked": false,
     "points": 40,
     "schema_version": 3,
     "solution": true,
     "task": false
    }
   },
   "outputs": [],
   "source": [
    "# YOUR CODE HERE\n",
    "raise NotImplementedError()"
   ]
  }
 ],
 "metadata": {
  "kernelspec": {
   "display_name": "Python 3",
   "language": "python",
   "name": "python3"
  },
  "language_info": {
   "codemirror_mode": {
    "name": "ipython",
    "version": 3
   },
   "file_extension": ".py",
   "mimetype": "text/x-python",
   "name": "python",
   "nbconvert_exporter": "python",
   "pygments_lexer": "ipython3",
   "version": "3.9.1"
  },
  "toc": {
   "base_numbering": "",
   "nav_menu": {},
   "number_sections": false,
   "sideBar": true,
   "skip_h1_title": false,
   "title_cell": "Table of Contents",
   "title_sidebar": "Contents",
   "toc_cell": false,
   "toc_position": {
    "height": "calc(100% - 180px)",
    "left": "10px",
    "top": "150px",
    "width": "280px"
   },
   "toc_section_display": true,
   "toc_window_display": true
  }
 },
 "nbformat": 4,
 "nbformat_minor": 4
}
